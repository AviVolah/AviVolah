{
 "cells": [
  {
   "cell_type": "markdown",
   "metadata": {},
   "source": [
    "<hr style=\"border: 2px solid green;\" />\n",
    "\n",
    "Hello, Avi !🤚 \n",
    "\n",
    "My name is Kseniya Vishnevskaya. I'm going to review your project 😊 \n",
    "\n",
    "✏️You can find my comments in <font color='green'>green</font>, <font color='orange'>yellow</font> or <font color='red'>red</font> boxes like this:\n",
    "\n",
    "<div style=\"border:solid green 2px; padding: 20px\"> <b>Success:</b><br>\n",
    "    I'm using green color if everything is done perfectly.</div>       \n",
    "<br>\n",
    "<div style=\"border:solid orange 2px; padding: 20px\"> <b>Remarks:</b><br>\n",
    "    if I can give some recommendations</div>   \n",
    "<br>\n",
    "<div style=\"border:solid red 2px; padding: 20px\"> <b>Needs fixing:</b><br>\n",
    "    if the block requires some corrections. Work can't be accepted with the red comments</div>\n",
    " \n",
    "Further in the file you can see my comments, try to take them into account when performing the next tasks. **Please, don't delete them.** :)\n",
    "\n",
    "Let's work on the project in dialogue: if you change something in the project or respond to my comments, write about it. It will be easier for me to track the changes if you highlight your comments:\n",
    "\n",
    "<div class=\"alert alert-info\" style=\"border:solid blue 2px; padding: 20px\"> <b>Student comment:</b> In the blue boxes you can leave comments and ask questions.</div>\n",
    "\n",
    "\n",
    "<hr style=\"border: 2px solid green;\" />"
   ]
  },
  {
   "cell_type": "markdown",
   "metadata": {},
   "source": [
    "### <font color='orange'>General feedback</font>"
   ]
  },
  {
   "cell_type": "markdown",
   "metadata": {},
   "source": [
    "<s><div style=\"border:solid red 2px; padding: 20px\"> <b>Needs fixing:</b><br>\n",
    "    Thank you for submitting your project 🙂  I'm glad to say that you executed your project really well. I especially liked the way you analysed the missing values, wrote functions and using the quartile method. But there are few things that need to be corrected in your project. They're mostly minor issues that are easy to fix. You've already done a lot, I am sure you'll take care of it!</div>"
   ]
  },
  {
   "cell_type": "markdown",
   "metadata": {},
   "source": [
    "<div style=\"border:solid orange 2px; padding: 20px\"> <b>Remarks:</b><br>\n",
    "    There are some comments for further improvement. They don't mean that you did anything wrong, but they're things we wanted to point out that can help you further develop your skills. \n",
    "\n",
    "And also I leave several links that can help you to make your further projects even better:\n",
    "\n",
    "* Text formatting:\n",
    "<a>https://medium.com/analytics-vidhya/the-ultimate-markdown-guide-for-jupyter-notebook-d5e5abf728fd</a>\n",
    "\n",
    "*  How to deal with missing data:\n",
    "<a>https://towardsdatascience.com/how-to-deal-with-missing-data-in-python-1f74a9112d93</a>\n",
    "\n",
    "*  How to edit text in jupyter notebook using Markdown:\n",
    "<a>https://www.earthdatascience.org/courses/intro-to-earth-data-science/file-formats/use-text-files/format-text-with-markdown-jupyter-notebook/</a> \n",
    "    \n",
    "   \n",
    "</div>"
   ]
  },
  {
   "cell_type": "markdown",
   "metadata": {},
   "source": [
    "<s><div style=\"border:solid red 2px; padding: 20px\"> <b>Needs fixing V2:</b><br>\n",
    "   I really appreciate the corrections you sent in! Thanks for taking the time to do so. However, I have a few tiny corrections to help you with. Could you take a second glance at it? One more time and you'll have it! 😊</div>"
   ]
  },
  {
   "cell_type": "markdown",
   "metadata": {},
   "source": [
    "<font color='orange'>**It's strange that my comments I sent yesterday were not saved in the project. I hope you got them after all. Maybe there was some technical problem and that's why I can't see them now.**  </font>"
   ]
  },
  {
   "cell_type": "markdown",
   "metadata": {},
   "source": [
    "<div style=\"border:solid green 2px; padding: 20px\"> <b>Success V3:</b><br>\n",
    "    Thank you for the update! Great job, your project has been accepted. Congratulations! 😊</div> "
   ]
  },
  {
   "cell_type": "markdown",
   "metadata": {},
   "source": [
    "# Analyzing borrowers’ risk of defaulting\n",
    "\n",
    "Your project is to prepare a report for a bank’s loan division. You’ll need to find out if a customer’s marital status and number of children has an impact on whether they will default on a loan. The bank already has some data on customers’ credit worthiness.\n",
    "\n",
    "Your report will be considered when building a **credit scoring** of a potential customer. A **credit scoring** is used to evaluate the ability of a potential borrower to repay their loan."
   ]
  },
  {
   "cell_type": "markdown",
   "metadata": {},
   "source": [
    "<div style=\"border:solid orange 2px; padding: 20px\"> <b>Remarks:</b><br>\n",
    " Well done for not forgetting the title and description of the project task :). But it is also important to include a description of the data to be worked with.\n",
    "    </div> "
   ]
  },
  {
   "cell_type": "markdown",
   "metadata": {},
   "source": [
    "<div class=\"alert alert-info\"> <b> What do you mean by that? where to include it? btw if by \"title and description of the project task\" you meant whats writen wbove your remark, it was already there..</b>"
   ]
  },
  {
   "cell_type": "markdown",
   "metadata": {},
   "source": [
    "<div style=\"border:solid orange 2px; padding: 20px\"> <b>Remarks V2:</b><br>\n",
    "I praised you for having the title and description of the project task , but recommended adding a data description, like this:   \n",
    "   \n",
    "   **Description of the data**\n",
    "\n",
    "    \n",
    "   `children` - the number of children in the family\n",
    "   \n",
    "   `days_employed` - how long the customer has been working\n",
    "   \n",
    "   `dob_years` -  the customer’s age\n",
    "   \n",
    "   `education` - the customer’s education level\n",
    " \n",
    "   etc.</div>   "
   ]
  },
  {
   "cell_type": "markdown",
   "metadata": {},
   "source": [
    "## Open the data file and have a look at the general information. "
   ]
  },
  {
   "cell_type": "code",
   "execution_count": null,
   "metadata": {},
   "outputs": [],
   "source": [
    "#importing pandas\n",
    "import pandas as pd"
   ]
  },
  {
   "cell_type": "code",
   "execution_count": 1,
   "metadata": {},
   "outputs": [
    {
     "name": "stdout",
     "output_type": "stream",
     "text": [
      "<class 'pandas.core.frame.DataFrame'>\n",
      "RangeIndex: 21525 entries, 0 to 21524\n",
      "Data columns (total 12 columns):\n",
      "children            21525 non-null int64\n",
      "days_employed       19351 non-null float64\n",
      "dob_years           21525 non-null int64\n",
      "education           21525 non-null object\n",
      "education_id        21525 non-null int64\n",
      "family_status       21525 non-null object\n",
      "family_status_id    21525 non-null int64\n",
      "gender              21525 non-null object\n",
      "income_type         21525 non-null object\n",
      "debt                21525 non-null int64\n",
      "total_income        19351 non-null float64\n",
      "purpose             21525 non-null object\n",
      "dtypes: float64(2), int64(5), object(5)\n",
      "memory usage: 2.0+ MB\n"
     ]
    },
    {
     "data": {
      "text/html": [
       "<div>\n",
       "<style scoped>\n",
       "    .dataframe tbody tr th:only-of-type {\n",
       "        vertical-align: middle;\n",
       "    }\n",
       "\n",
       "    .dataframe tbody tr th {\n",
       "        vertical-align: top;\n",
       "    }\n",
       "\n",
       "    .dataframe thead th {\n",
       "        text-align: right;\n",
       "    }\n",
       "</style>\n",
       "<table border=\"1\" class=\"dataframe\">\n",
       "  <thead>\n",
       "    <tr style=\"text-align: right;\">\n",
       "      <th></th>\n",
       "      <th>children</th>\n",
       "      <th>days_employed</th>\n",
       "      <th>dob_years</th>\n",
       "      <th>education</th>\n",
       "      <th>education_id</th>\n",
       "      <th>family_status</th>\n",
       "      <th>family_status_id</th>\n",
       "      <th>gender</th>\n",
       "      <th>income_type</th>\n",
       "      <th>debt</th>\n",
       "      <th>total_income</th>\n",
       "      <th>purpose</th>\n",
       "    </tr>\n",
       "  </thead>\n",
       "  <tbody>\n",
       "    <tr>\n",
       "      <td>0</td>\n",
       "      <td>1</td>\n",
       "      <td>-8437.673028</td>\n",
       "      <td>42</td>\n",
       "      <td>bachelor's degree</td>\n",
       "      <td>0</td>\n",
       "      <td>married</td>\n",
       "      <td>0</td>\n",
       "      <td>F</td>\n",
       "      <td>employee</td>\n",
       "      <td>0</td>\n",
       "      <td>40620.102</td>\n",
       "      <td>purchase of the house</td>\n",
       "    </tr>\n",
       "    <tr>\n",
       "      <td>1</td>\n",
       "      <td>1</td>\n",
       "      <td>-4024.803754</td>\n",
       "      <td>36</td>\n",
       "      <td>secondary education</td>\n",
       "      <td>1</td>\n",
       "      <td>married</td>\n",
       "      <td>0</td>\n",
       "      <td>F</td>\n",
       "      <td>employee</td>\n",
       "      <td>0</td>\n",
       "      <td>17932.802</td>\n",
       "      <td>car purchase</td>\n",
       "    </tr>\n",
       "    <tr>\n",
       "      <td>2</td>\n",
       "      <td>0</td>\n",
       "      <td>-5623.422610</td>\n",
       "      <td>33</td>\n",
       "      <td>Secondary Education</td>\n",
       "      <td>1</td>\n",
       "      <td>married</td>\n",
       "      <td>0</td>\n",
       "      <td>M</td>\n",
       "      <td>employee</td>\n",
       "      <td>0</td>\n",
       "      <td>23341.752</td>\n",
       "      <td>purchase of the house</td>\n",
       "    </tr>\n",
       "    <tr>\n",
       "      <td>3</td>\n",
       "      <td>3</td>\n",
       "      <td>-4124.747207</td>\n",
       "      <td>32</td>\n",
       "      <td>secondary education</td>\n",
       "      <td>1</td>\n",
       "      <td>married</td>\n",
       "      <td>0</td>\n",
       "      <td>M</td>\n",
       "      <td>employee</td>\n",
       "      <td>0</td>\n",
       "      <td>42820.568</td>\n",
       "      <td>supplementary education</td>\n",
       "    </tr>\n",
       "    <tr>\n",
       "      <td>4</td>\n",
       "      <td>0</td>\n",
       "      <td>340266.072047</td>\n",
       "      <td>53</td>\n",
       "      <td>secondary education</td>\n",
       "      <td>1</td>\n",
       "      <td>civil partnership</td>\n",
       "      <td>1</td>\n",
       "      <td>F</td>\n",
       "      <td>retiree</td>\n",
       "      <td>0</td>\n",
       "      <td>25378.572</td>\n",
       "      <td>to have a wedding</td>\n",
       "    </tr>\n",
       "    <tr>\n",
       "      <td>5</td>\n",
       "      <td>0</td>\n",
       "      <td>-926.185831</td>\n",
       "      <td>27</td>\n",
       "      <td>bachelor's degree</td>\n",
       "      <td>0</td>\n",
       "      <td>civil partnership</td>\n",
       "      <td>1</td>\n",
       "      <td>M</td>\n",
       "      <td>business</td>\n",
       "      <td>0</td>\n",
       "      <td>40922.170</td>\n",
       "      <td>purchase of the house</td>\n",
       "    </tr>\n",
       "    <tr>\n",
       "      <td>6</td>\n",
       "      <td>0</td>\n",
       "      <td>-2879.202052</td>\n",
       "      <td>43</td>\n",
       "      <td>bachelor's degree</td>\n",
       "      <td>0</td>\n",
       "      <td>married</td>\n",
       "      <td>0</td>\n",
       "      <td>F</td>\n",
       "      <td>business</td>\n",
       "      <td>0</td>\n",
       "      <td>38484.156</td>\n",
       "      <td>housing transactions</td>\n",
       "    </tr>\n",
       "    <tr>\n",
       "      <td>7</td>\n",
       "      <td>0</td>\n",
       "      <td>-152.779569</td>\n",
       "      <td>50</td>\n",
       "      <td>SECONDARY EDUCATION</td>\n",
       "      <td>1</td>\n",
       "      <td>married</td>\n",
       "      <td>0</td>\n",
       "      <td>M</td>\n",
       "      <td>employee</td>\n",
       "      <td>0</td>\n",
       "      <td>21731.829</td>\n",
       "      <td>education</td>\n",
       "    </tr>\n",
       "    <tr>\n",
       "      <td>8</td>\n",
       "      <td>2</td>\n",
       "      <td>-6929.865299</td>\n",
       "      <td>35</td>\n",
       "      <td>BACHELOR'S DEGREE</td>\n",
       "      <td>0</td>\n",
       "      <td>civil partnership</td>\n",
       "      <td>1</td>\n",
       "      <td>F</td>\n",
       "      <td>employee</td>\n",
       "      <td>0</td>\n",
       "      <td>15337.093</td>\n",
       "      <td>having a wedding</td>\n",
       "    </tr>\n",
       "    <tr>\n",
       "      <td>9</td>\n",
       "      <td>0</td>\n",
       "      <td>-2188.756445</td>\n",
       "      <td>41</td>\n",
       "      <td>secondary education</td>\n",
       "      <td>1</td>\n",
       "      <td>married</td>\n",
       "      <td>0</td>\n",
       "      <td>M</td>\n",
       "      <td>employee</td>\n",
       "      <td>0</td>\n",
       "      <td>23108.150</td>\n",
       "      <td>purchase of the house for my family</td>\n",
       "    </tr>\n",
       "  </tbody>\n",
       "</table>\n",
       "</div>"
      ],
      "text/plain": [
       "   children  days_employed  dob_years            education  education_id  \\\n",
       "0         1   -8437.673028         42    bachelor's degree             0   \n",
       "1         1   -4024.803754         36  secondary education             1   \n",
       "2         0   -5623.422610         33  Secondary Education             1   \n",
       "3         3   -4124.747207         32  secondary education             1   \n",
       "4         0  340266.072047         53  secondary education             1   \n",
       "5         0    -926.185831         27    bachelor's degree             0   \n",
       "6         0   -2879.202052         43    bachelor's degree             0   \n",
       "7         0    -152.779569         50  SECONDARY EDUCATION             1   \n",
       "8         2   -6929.865299         35    BACHELOR'S DEGREE             0   \n",
       "9         0   -2188.756445         41  secondary education             1   \n",
       "\n",
       "       family_status  family_status_id gender income_type  debt  total_income  \\\n",
       "0            married                 0      F    employee     0     40620.102   \n",
       "1            married                 0      F    employee     0     17932.802   \n",
       "2            married                 0      M    employee     0     23341.752   \n",
       "3            married                 0      M    employee     0     42820.568   \n",
       "4  civil partnership                 1      F     retiree     0     25378.572   \n",
       "5  civil partnership                 1      M    business     0     40922.170   \n",
       "6            married                 0      F    business     0     38484.156   \n",
       "7            married                 0      M    employee     0     21731.829   \n",
       "8  civil partnership                 1      F    employee     0     15337.093   \n",
       "9            married                 0      M    employee     0     23108.150   \n",
       "\n",
       "                               purpose  \n",
       "0                purchase of the house  \n",
       "1                         car purchase  \n",
       "2                purchase of the house  \n",
       "3              supplementary education  \n",
       "4                    to have a wedding  \n",
       "5                purchase of the house  \n",
       "6                 housing transactions  \n",
       "7                            education  \n",
       "8                     having a wedding  \n",
       "9  purchase of the house for my family  "
      ]
     },
     "execution_count": 1,
     "metadata": {},
     "output_type": "execute_result"
    }
   ],
   "source": [
    "# reading the file\n",
    "try:\n",
    "    credit_score = pd.read_csv(r'C:\\Users\\Avi\\Desktop\\D.A\\Practicum\\Projects\\1st project\\credit_scoring_eng.csv')\n",
    "except:\n",
    "    credit_score = pd.read_csv('/datasets/credit_scoring_eng.csv')\n",
    "\n",
    "# copying the data so it will load faster\n",
    "credit_score_raw = credit_score.copy()\n",
    "\n",
    "# checking the columns for nulls and type and other info\n",
    "credit_score_raw.info()\n",
    "\n",
    "# checking the first 10 rows of the data to see the values\n",
    "credit_score_raw.head(10)"
   ]
  },
  {
   "cell_type": "markdown",
   "metadata": {},
   "source": [
    "<div style=\"border:solid orange 2px; padding: 20px\"> <b>Remarks:</b><br>\n",
    "Best practice: for convenience, it is common to keep all libraries used in code in a separate cell so that the person who will be using your project can set up the correct environment on his computer.\n",
    "    \n",
    "</div>   "
   ]
  },
  {
   "cell_type": "markdown",
   "metadata": {},
   "source": [
    "<div class=\"alert alert-info\" style=\"border:solid blue 2px; padding: 20px\"> You mean that i should do the import pandas in a separate cell?"
   ]
  },
  {
   "cell_type": "markdown",
   "metadata": {},
   "source": [
    "<div style=\"border:solid orange 2px; padding: 20px\"> <b>Remarks V2:</b><br>\n",
    "    Yes, it's better to use separate cell for importing all libraries, including pandas :)</div>   "
   ]
  },
  {
   "cell_type": "code",
   "execution_count": 2,
   "metadata": {},
   "outputs": [
    {
     "data": {
      "text/html": [
       "<div>\n",
       "<style scoped>\n",
       "    .dataframe tbody tr th:only-of-type {\n",
       "        vertical-align: middle;\n",
       "    }\n",
       "\n",
       "    .dataframe tbody tr th {\n",
       "        vertical-align: top;\n",
       "    }\n",
       "\n",
       "    .dataframe thead th {\n",
       "        text-align: right;\n",
       "    }\n",
       "</style>\n",
       "<table border=\"1\" class=\"dataframe\">\n",
       "  <thead>\n",
       "    <tr style=\"text-align: right;\">\n",
       "      <th></th>\n",
       "      <th>children</th>\n",
       "      <th>days_employed</th>\n",
       "      <th>dob_years</th>\n",
       "      <th>education_id</th>\n",
       "      <th>family_status_id</th>\n",
       "      <th>debt</th>\n",
       "      <th>total_income</th>\n",
       "    </tr>\n",
       "  </thead>\n",
       "  <tbody>\n",
       "    <tr>\n",
       "      <td>count</td>\n",
       "      <td>21525.000000</td>\n",
       "      <td>19351.000000</td>\n",
       "      <td>21525.000000</td>\n",
       "      <td>21525.000000</td>\n",
       "      <td>21525.000000</td>\n",
       "      <td>21525.000000</td>\n",
       "      <td>19351.000000</td>\n",
       "    </tr>\n",
       "    <tr>\n",
       "      <td>mean</td>\n",
       "      <td>0.538908</td>\n",
       "      <td>63046.497661</td>\n",
       "      <td>43.293380</td>\n",
       "      <td>0.817236</td>\n",
       "      <td>0.972544</td>\n",
       "      <td>0.080883</td>\n",
       "      <td>26787.568355</td>\n",
       "    </tr>\n",
       "    <tr>\n",
       "      <td>std</td>\n",
       "      <td>1.381587</td>\n",
       "      <td>140827.311974</td>\n",
       "      <td>12.574584</td>\n",
       "      <td>0.548138</td>\n",
       "      <td>1.420324</td>\n",
       "      <td>0.272661</td>\n",
       "      <td>16475.450632</td>\n",
       "    </tr>\n",
       "    <tr>\n",
       "      <td>min</td>\n",
       "      <td>-1.000000</td>\n",
       "      <td>-18388.949901</td>\n",
       "      <td>0.000000</td>\n",
       "      <td>0.000000</td>\n",
       "      <td>0.000000</td>\n",
       "      <td>0.000000</td>\n",
       "      <td>3306.762000</td>\n",
       "    </tr>\n",
       "    <tr>\n",
       "      <td>25%</td>\n",
       "      <td>0.000000</td>\n",
       "      <td>-2747.423625</td>\n",
       "      <td>33.000000</td>\n",
       "      <td>1.000000</td>\n",
       "      <td>0.000000</td>\n",
       "      <td>0.000000</td>\n",
       "      <td>16488.504500</td>\n",
       "    </tr>\n",
       "    <tr>\n",
       "      <td>50%</td>\n",
       "      <td>0.000000</td>\n",
       "      <td>-1203.369529</td>\n",
       "      <td>42.000000</td>\n",
       "      <td>1.000000</td>\n",
       "      <td>0.000000</td>\n",
       "      <td>0.000000</td>\n",
       "      <td>23202.870000</td>\n",
       "    </tr>\n",
       "    <tr>\n",
       "      <td>75%</td>\n",
       "      <td>1.000000</td>\n",
       "      <td>-291.095954</td>\n",
       "      <td>53.000000</td>\n",
       "      <td>1.000000</td>\n",
       "      <td>1.000000</td>\n",
       "      <td>0.000000</td>\n",
       "      <td>32549.611000</td>\n",
       "    </tr>\n",
       "    <tr>\n",
       "      <td>max</td>\n",
       "      <td>20.000000</td>\n",
       "      <td>401755.400475</td>\n",
       "      <td>75.000000</td>\n",
       "      <td>4.000000</td>\n",
       "      <td>4.000000</td>\n",
       "      <td>1.000000</td>\n",
       "      <td>362496.645000</td>\n",
       "    </tr>\n",
       "  </tbody>\n",
       "</table>\n",
       "</div>"
      ],
      "text/plain": [
       "           children  days_employed     dob_years  education_id  \\\n",
       "count  21525.000000   19351.000000  21525.000000  21525.000000   \n",
       "mean       0.538908   63046.497661     43.293380      0.817236   \n",
       "std        1.381587  140827.311974     12.574584      0.548138   \n",
       "min       -1.000000  -18388.949901      0.000000      0.000000   \n",
       "25%        0.000000   -2747.423625     33.000000      1.000000   \n",
       "50%        0.000000   -1203.369529     42.000000      1.000000   \n",
       "75%        1.000000    -291.095954     53.000000      1.000000   \n",
       "max       20.000000  401755.400475     75.000000      4.000000   \n",
       "\n",
       "       family_status_id          debt   total_income  \n",
       "count      21525.000000  21525.000000   19351.000000  \n",
       "mean           0.972544      0.080883   26787.568355  \n",
       "std            1.420324      0.272661   16475.450632  \n",
       "min            0.000000      0.000000    3306.762000  \n",
       "25%            0.000000      0.000000   16488.504500  \n",
       "50%            0.000000      0.000000   23202.870000  \n",
       "75%            1.000000      0.000000   32549.611000  \n",
       "max            4.000000      1.000000  362496.645000  "
      ]
     },
     "execution_count": 2,
     "metadata": {},
     "output_type": "execute_result"
    }
   ],
   "source": [
    "# using describe to get more general info about the values\n",
    "credit_score_raw.describe()"
   ]
  },
  {
   "cell_type": "markdown",
   "metadata": {},
   "source": [
    "<s><div style=\"border:solid orange 2px; padding: 20px\"> <b>Remarks:</b><br>\n",
    "\n",
    "   The `describe()` function is very useful in getting to know the data. In this case, it looks much more indicative if the output is expanded by `df.describe().T`. In future projects, the `include` argument may come in handy - `df.describe(include = ['object']` is used to analyse categorical values.\n",
    "    \n",
    "</div>  "
   ]
  },
  {
   "cell_type": "code",
   "execution_count": 3,
   "metadata": {},
   "outputs": [
    {
     "data": {
      "text/html": [
       "<div>\n",
       "<style scoped>\n",
       "    .dataframe tbody tr th:only-of-type {\n",
       "        vertical-align: middle;\n",
       "    }\n",
       "\n",
       "    .dataframe tbody tr th {\n",
       "        vertical-align: top;\n",
       "    }\n",
       "\n",
       "    .dataframe thead th {\n",
       "        text-align: right;\n",
       "    }\n",
       "</style>\n",
       "<table border=\"1\" class=\"dataframe\">\n",
       "  <thead>\n",
       "    <tr style=\"text-align: right;\">\n",
       "      <th></th>\n",
       "      <th>count</th>\n",
       "      <th>mean</th>\n",
       "      <th>std</th>\n",
       "      <th>min</th>\n",
       "      <th>25%</th>\n",
       "      <th>50%</th>\n",
       "      <th>75%</th>\n",
       "      <th>max</th>\n",
       "    </tr>\n",
       "  </thead>\n",
       "  <tbody>\n",
       "    <tr>\n",
       "      <td>children</td>\n",
       "      <td>21525.0</td>\n",
       "      <td>0.538908</td>\n",
       "      <td>1.381587</td>\n",
       "      <td>-1.000000</td>\n",
       "      <td>0.000000</td>\n",
       "      <td>0.000000</td>\n",
       "      <td>1.000000</td>\n",
       "      <td>20.000000</td>\n",
       "    </tr>\n",
       "    <tr>\n",
       "      <td>days_employed</td>\n",
       "      <td>19351.0</td>\n",
       "      <td>63046.497661</td>\n",
       "      <td>140827.311974</td>\n",
       "      <td>-18388.949901</td>\n",
       "      <td>-2747.423625</td>\n",
       "      <td>-1203.369529</td>\n",
       "      <td>-291.095954</td>\n",
       "      <td>401755.400475</td>\n",
       "    </tr>\n",
       "    <tr>\n",
       "      <td>dob_years</td>\n",
       "      <td>21525.0</td>\n",
       "      <td>43.293380</td>\n",
       "      <td>12.574584</td>\n",
       "      <td>0.000000</td>\n",
       "      <td>33.000000</td>\n",
       "      <td>42.000000</td>\n",
       "      <td>53.000000</td>\n",
       "      <td>75.000000</td>\n",
       "    </tr>\n",
       "    <tr>\n",
       "      <td>education_id</td>\n",
       "      <td>21525.0</td>\n",
       "      <td>0.817236</td>\n",
       "      <td>0.548138</td>\n",
       "      <td>0.000000</td>\n",
       "      <td>1.000000</td>\n",
       "      <td>1.000000</td>\n",
       "      <td>1.000000</td>\n",
       "      <td>4.000000</td>\n",
       "    </tr>\n",
       "    <tr>\n",
       "      <td>family_status_id</td>\n",
       "      <td>21525.0</td>\n",
       "      <td>0.972544</td>\n",
       "      <td>1.420324</td>\n",
       "      <td>0.000000</td>\n",
       "      <td>0.000000</td>\n",
       "      <td>0.000000</td>\n",
       "      <td>1.000000</td>\n",
       "      <td>4.000000</td>\n",
       "    </tr>\n",
       "    <tr>\n",
       "      <td>debt</td>\n",
       "      <td>21525.0</td>\n",
       "      <td>0.080883</td>\n",
       "      <td>0.272661</td>\n",
       "      <td>0.000000</td>\n",
       "      <td>0.000000</td>\n",
       "      <td>0.000000</td>\n",
       "      <td>0.000000</td>\n",
       "      <td>1.000000</td>\n",
       "    </tr>\n",
       "    <tr>\n",
       "      <td>total_income</td>\n",
       "      <td>19351.0</td>\n",
       "      <td>26787.568355</td>\n",
       "      <td>16475.450632</td>\n",
       "      <td>3306.762000</td>\n",
       "      <td>16488.504500</td>\n",
       "      <td>23202.870000</td>\n",
       "      <td>32549.611000</td>\n",
       "      <td>362496.645000</td>\n",
       "    </tr>\n",
       "  </tbody>\n",
       "</table>\n",
       "</div>"
      ],
      "text/plain": [
       "                    count          mean            std           min  \\\n",
       "children          21525.0      0.538908       1.381587     -1.000000   \n",
       "days_employed     19351.0  63046.497661  140827.311974 -18388.949901   \n",
       "dob_years         21525.0     43.293380      12.574584      0.000000   \n",
       "education_id      21525.0      0.817236       0.548138      0.000000   \n",
       "family_status_id  21525.0      0.972544       1.420324      0.000000   \n",
       "debt              21525.0      0.080883       0.272661      0.000000   \n",
       "total_income      19351.0  26787.568355   16475.450632   3306.762000   \n",
       "\n",
       "                           25%           50%           75%            max  \n",
       "children              0.000000      0.000000      1.000000      20.000000  \n",
       "days_employed     -2747.423625  -1203.369529   -291.095954  401755.400475  \n",
       "dob_years            33.000000     42.000000     53.000000      75.000000  \n",
       "education_id          1.000000      1.000000      1.000000       4.000000  \n",
       "family_status_id      0.000000      0.000000      1.000000       4.000000  \n",
       "debt                  0.000000      0.000000      0.000000       1.000000  \n",
       "total_income      16488.504500  23202.870000  32549.611000  362496.645000  "
      ]
     },
     "execution_count": 3,
     "metadata": {},
     "output_type": "execute_result"
    }
   ],
   "source": [
    "credit_score_raw.describe().T"
   ]
  },
  {
   "cell_type": "code",
   "execution_count": 4,
   "metadata": {},
   "outputs": [
    {
     "data": {
      "text/html": [
       "<div>\n",
       "<style scoped>\n",
       "    .dataframe tbody tr th:only-of-type {\n",
       "        vertical-align: middle;\n",
       "    }\n",
       "\n",
       "    .dataframe tbody tr th {\n",
       "        vertical-align: top;\n",
       "    }\n",
       "\n",
       "    .dataframe thead th {\n",
       "        text-align: right;\n",
       "    }\n",
       "</style>\n",
       "<table border=\"1\" class=\"dataframe\">\n",
       "  <thead>\n",
       "    <tr style=\"text-align: right;\">\n",
       "      <th></th>\n",
       "      <th>education</th>\n",
       "      <th>family_status</th>\n",
       "      <th>gender</th>\n",
       "      <th>income_type</th>\n",
       "      <th>purpose</th>\n",
       "    </tr>\n",
       "  </thead>\n",
       "  <tbody>\n",
       "    <tr>\n",
       "      <td>count</td>\n",
       "      <td>21525</td>\n",
       "      <td>21525</td>\n",
       "      <td>21525</td>\n",
       "      <td>21525</td>\n",
       "      <td>21525</td>\n",
       "    </tr>\n",
       "    <tr>\n",
       "      <td>unique</td>\n",
       "      <td>15</td>\n",
       "      <td>5</td>\n",
       "      <td>3</td>\n",
       "      <td>8</td>\n",
       "      <td>38</td>\n",
       "    </tr>\n",
       "    <tr>\n",
       "      <td>top</td>\n",
       "      <td>secondary education</td>\n",
       "      <td>married</td>\n",
       "      <td>F</td>\n",
       "      <td>employee</td>\n",
       "      <td>wedding ceremony</td>\n",
       "    </tr>\n",
       "    <tr>\n",
       "      <td>freq</td>\n",
       "      <td>13750</td>\n",
       "      <td>12380</td>\n",
       "      <td>14236</td>\n",
       "      <td>11119</td>\n",
       "      <td>797</td>\n",
       "    </tr>\n",
       "  </tbody>\n",
       "</table>\n",
       "</div>"
      ],
      "text/plain": [
       "                  education family_status gender income_type           purpose\n",
       "count                 21525         21525  21525       21525             21525\n",
       "unique                   15             5      3           8                38\n",
       "top     secondary education       married      F    employee  wedding ceremony\n",
       "freq                  13750         12380  14236       11119               797"
      ]
     },
     "execution_count": 4,
     "metadata": {},
     "output_type": "execute_result"
    }
   ],
   "source": [
    "credit_score_raw.describe(include = ['object'])"
   ]
  },
  {
   "cell_type": "markdown",
   "metadata": {},
   "source": [
    "### Conclusion"
   ]
  },
  {
   "cell_type": "markdown",
   "metadata": {},
   "source": [
    "Most of the columns seem to have no nulls and all are of the right type.\n",
    "\n",
    "There are missing values in total_income and days_employed columns and the number of missing values are the same.\n",
    "\n",
    "The days_employed column also has some illogical values like negative days and too long periods of employment.\n",
    "Since days_employed has too long periods of employment that no one in this century is able to do, and it isnt a relevant value ill probably disregard this column and wont fill the NaNs in it.\n",
    "\n",
    "The education column needs to be lower cased, ill do it to all object columns (maybe except gender column) just in case.\n",
    "\n",
    "There is probably a mistake in the children column like having negative number of children and should check the customer that has 20 children (maybe s/he re-married a couple times and/or had children out of marriage? (; ) lets investigate."
   ]
  },
  {
   "cell_type": "markdown",
   "metadata": {},
   "source": [
    "<div style=\"border:solid green 2px; padding: 20px\"> <b>Success:</b><br>\n",
    "    You've done a great job of sorting out the data description and writing detailed conclusions. Well done! 😊</div> "
   ]
  },
  {
   "cell_type": "markdown",
   "metadata": {},
   "source": [
    "## Data preprocessing"
   ]
  },
  {
   "cell_type": "markdown",
   "metadata": {},
   "source": [
    "### Processing missing values"
   ]
  },
  {
   "cell_type": "code",
   "execution_count": 5,
   "metadata": {},
   "outputs": [
    {
     "data": {
      "text/plain": [
       "children               0\n",
       "days_employed       2174\n",
       "dob_years              0\n",
       "education              0\n",
       "education_id           0\n",
       "family_status          0\n",
       "family_status_id       0\n",
       "gender                 0\n",
       "income_type            0\n",
       "debt                   0\n",
       "total_income        2174\n",
       "purpose                0\n",
       "dtype: int64"
      ]
     },
     "execution_count": 5,
     "metadata": {},
     "output_type": "execute_result"
    }
   ],
   "source": [
    "# Identifying missing values\n",
    "credit_score_raw.isnull().sum()"
   ]
  },
  {
   "cell_type": "markdown",
   "metadata": {},
   "source": [
    "It can be clearly seen that 2 columns have the exact same number of nulls.\n",
    "\n",
    "The missing value types that were detected are floats."
   ]
  },
  {
   "cell_type": "markdown",
   "metadata": {},
   "source": [
    "<div style=\"border:solid green 2px; padding: 20px\"> <b>Success:</b><br>\n",
    "    It's great that you show which columns have missing values in our dataset :) </div>       \n"
   ]
  },
  {
   "cell_type": "markdown",
   "metadata": {},
   "source": [
    "Now ill organize the table a bit:"
   ]
  },
  {
   "cell_type": "markdown",
   "metadata": {},
   "source": [
    "<div class=\"alert alert-info\" style=\"border:solid blue 2px; padding: 20px\"> \n",
    "    lets see what percentage of negatives we have in days_employed column:"
   ]
  },
  {
   "cell_type": "code",
   "execution_count": 6,
   "metadata": {},
   "outputs": [
    {
     "data": {
      "text/plain": [
       "73.895"
      ]
     },
     "execution_count": 6,
     "metadata": {},
     "output_type": "execute_result"
    }
   ],
   "source": [
    "# finding the number of negative values in days_employed column\n",
    "negative_values = credit_score_raw['days_employed'][credit_score_raw['days_employed'] < 0].count()\n",
    "# calculating the percentage of them out of all the rows\n",
    "percentage_of_negatives = negative_values / len(credit_score_raw) * 100\n",
    "# orinting the rounded percentage\n",
    "percentage_of_negatives.round(3)"
   ]
  },
  {
   "cell_type": "markdown",
   "metadata": {},
   "source": [
    "<div class=\"alert alert-info\" style=\"border:solid blue 2px; padding: 20px\"> \n",
    "Seems the majority of the values are negatives, since it is not possible to work negative days, i assume that the negatives are a typo, maybe the one made this data in a file intended it to be a dash and not a minus for example."
   ]
  },
  {
   "cell_type": "code",
   "execution_count": 7,
   "metadata": {},
   "outputs": [],
   "source": [
    "# saving to organized table\n",
    "orgnzd_credit_score = credit_score_raw"
   ]
  },
  {
   "cell_type": "code",
   "execution_count": 8,
   "metadata": {},
   "outputs": [],
   "source": [
    "# lower casing object columns\n",
    "orgnzd_credit_score['education'] = orgnzd_credit_score['education'].str.lower()\n",
    "orgnzd_credit_score['family_status'] = orgnzd_credit_score['family_status'].str.lower()\n",
    "orgnzd_credit_score['income_type'] = orgnzd_credit_score['income_type'].str.lower()\n",
    "orgnzd_credit_score['purpose'] = orgnzd_credit_score['purpose'].str.lower()"
   ]
  },
  {
   "cell_type": "markdown",
   "metadata": {},
   "source": [
    "<div style=\"border:solid green 2px; padding: 20px\"> <b>Success:</b><br>\n",
    "    Very well that you converted the columns to lower case using <code>str.lower()</code></div>  "
   ]
  },
  {
   "cell_type": "markdown",
   "metadata": {},
   "source": [
    "Since its not possible to work negative days and have negative children lets fix the negatives typos, j.i.c i'll apply to all relevant columns"
   ]
  },
  {
   "cell_type": "code",
   "execution_count": 9,
   "metadata": {},
   "outputs": [
    {
     "data": {
      "text/html": [
       "<div>\n",
       "<style scoped>\n",
       "    .dataframe tbody tr th:only-of-type {\n",
       "        vertical-align: middle;\n",
       "    }\n",
       "\n",
       "    .dataframe tbody tr th {\n",
       "        vertical-align: top;\n",
       "    }\n",
       "\n",
       "    .dataframe thead th {\n",
       "        text-align: right;\n",
       "    }\n",
       "</style>\n",
       "<table border=\"1\" class=\"dataframe\">\n",
       "  <thead>\n",
       "    <tr style=\"text-align: right;\">\n",
       "      <th></th>\n",
       "      <th>children</th>\n",
       "      <th>days_employed</th>\n",
       "      <th>dob_years</th>\n",
       "      <th>education_id</th>\n",
       "      <th>family_status_id</th>\n",
       "      <th>debt</th>\n",
       "      <th>total_income</th>\n",
       "    </tr>\n",
       "  </thead>\n",
       "  <tbody>\n",
       "    <tr>\n",
       "      <td>count</td>\n",
       "      <td>21525.000000</td>\n",
       "      <td>19351.000000</td>\n",
       "      <td>21525.000000</td>\n",
       "      <td>21525.000000</td>\n",
       "      <td>21525.000000</td>\n",
       "      <td>21525.000000</td>\n",
       "      <td>19351.000000</td>\n",
       "    </tr>\n",
       "    <tr>\n",
       "      <td>mean</td>\n",
       "      <td>0.543275</td>\n",
       "      <td>66914.728907</td>\n",
       "      <td>43.293380</td>\n",
       "      <td>0.817236</td>\n",
       "      <td>0.972544</td>\n",
       "      <td>0.080883</td>\n",
       "      <td>26787.568355</td>\n",
       "    </tr>\n",
       "    <tr>\n",
       "      <td>std</td>\n",
       "      <td>1.379876</td>\n",
       "      <td>139030.880527</td>\n",
       "      <td>12.574584</td>\n",
       "      <td>0.548138</td>\n",
       "      <td>1.420324</td>\n",
       "      <td>0.272661</td>\n",
       "      <td>16475.450632</td>\n",
       "    </tr>\n",
       "    <tr>\n",
       "      <td>min</td>\n",
       "      <td>0.000000</td>\n",
       "      <td>24.141633</td>\n",
       "      <td>0.000000</td>\n",
       "      <td>0.000000</td>\n",
       "      <td>0.000000</td>\n",
       "      <td>0.000000</td>\n",
       "      <td>3306.762000</td>\n",
       "    </tr>\n",
       "    <tr>\n",
       "      <td>25%</td>\n",
       "      <td>0.000000</td>\n",
       "      <td>927.009265</td>\n",
       "      <td>33.000000</td>\n",
       "      <td>1.000000</td>\n",
       "      <td>0.000000</td>\n",
       "      <td>0.000000</td>\n",
       "      <td>16488.504500</td>\n",
       "    </tr>\n",
       "    <tr>\n",
       "      <td>50%</td>\n",
       "      <td>0.000000</td>\n",
       "      <td>2194.220567</td>\n",
       "      <td>42.000000</td>\n",
       "      <td>1.000000</td>\n",
       "      <td>0.000000</td>\n",
       "      <td>0.000000</td>\n",
       "      <td>23202.870000</td>\n",
       "    </tr>\n",
       "    <tr>\n",
       "      <td>75%</td>\n",
       "      <td>1.000000</td>\n",
       "      <td>5537.882441</td>\n",
       "      <td>53.000000</td>\n",
       "      <td>1.000000</td>\n",
       "      <td>1.000000</td>\n",
       "      <td>0.000000</td>\n",
       "      <td>32549.611000</td>\n",
       "    </tr>\n",
       "    <tr>\n",
       "      <td>max</td>\n",
       "      <td>20.000000</td>\n",
       "      <td>401755.400475</td>\n",
       "      <td>75.000000</td>\n",
       "      <td>4.000000</td>\n",
       "      <td>4.000000</td>\n",
       "      <td>1.000000</td>\n",
       "      <td>362496.645000</td>\n",
       "    </tr>\n",
       "  </tbody>\n",
       "</table>\n",
       "</div>"
      ],
      "text/plain": [
       "           children  days_employed     dob_years  education_id  \\\n",
       "count  21525.000000   19351.000000  21525.000000  21525.000000   \n",
       "mean       0.543275   66914.728907     43.293380      0.817236   \n",
       "std        1.379876  139030.880527     12.574584      0.548138   \n",
       "min        0.000000      24.141633      0.000000      0.000000   \n",
       "25%        0.000000     927.009265     33.000000      1.000000   \n",
       "50%        0.000000    2194.220567     42.000000      1.000000   \n",
       "75%        1.000000    5537.882441     53.000000      1.000000   \n",
       "max       20.000000  401755.400475     75.000000      4.000000   \n",
       "\n",
       "       family_status_id          debt   total_income  \n",
       "count      21525.000000  21525.000000   19351.000000  \n",
       "mean           0.972544      0.080883   26787.568355  \n",
       "std            1.420324      0.272661   16475.450632  \n",
       "min            0.000000      0.000000    3306.762000  \n",
       "25%            0.000000      0.000000   16488.504500  \n",
       "50%            0.000000      0.000000   23202.870000  \n",
       "75%            1.000000      0.000000   32549.611000  \n",
       "max            4.000000      1.000000  362496.645000  "
      ]
     },
     "execution_count": 9,
     "metadata": {},
     "output_type": "execute_result"
    }
   ],
   "source": [
    "# removing negatives from the relevant columns\n",
    "orgnzd_credit_score['children'] = orgnzd_credit_score['children'].abs()\n",
    "orgnzd_credit_score['days_employed'] = orgnzd_credit_score['days_employed'].abs()\n",
    "orgnzd_credit_score['dob_years'] = orgnzd_credit_score['dob_years'].abs()\n",
    "orgnzd_credit_score['total_income'] = orgnzd_credit_score['total_income'].abs()\n",
    "orgnzd_credit_score.describe()"
   ]
  },
  {
   "cell_type": "markdown",
   "metadata": {},
   "source": [
    "<s><div style=\"border:solid red 2px; padding: 20px\"> <b>Needs fixing:</b><br>\n",
    "   \n",
    "   I agree that these values are wrong and should be processing but in that case it is worth checking what percentage of this data is in the dataframe (especially `days_employed`). Could you please check it and assume why there might be errors in the data?</div>"
   ]
  },
  {
   "cell_type": "markdown",
   "metadata": {},
   "source": [
    "<div class=\"alert alert-info\" style=\"border:solid blue 2px; padding: 20px\"> \n",
    "    Done above (for some reason when i try to do it after i removed the negatives in the `new` table it doesnt find the negatives in the `raw data`)"
   ]
  },
  {
   "cell_type": "markdown",
   "metadata": {},
   "source": [
    "<div style=\"border:solid green 2px; padding: 20px\"> <b>Success V2:</b><br>\n",
    "    Good job!</div>       "
   ]
  },
  {
   "cell_type": "markdown",
   "metadata": {},
   "source": [
    "Lets find the rows with 20 children, 401755.400475 days_employed and 362496.645000 total_income:"
   ]
  },
  {
   "cell_type": "code",
   "execution_count": 10,
   "metadata": {},
   "outputs": [
    {
     "data": {
      "text/html": [
       "<div>\n",
       "<style scoped>\n",
       "    .dataframe tbody tr th:only-of-type {\n",
       "        vertical-align: middle;\n",
       "    }\n",
       "\n",
       "    .dataframe tbody tr th {\n",
       "        vertical-align: top;\n",
       "    }\n",
       "\n",
       "    .dataframe thead th {\n",
       "        text-align: right;\n",
       "    }\n",
       "</style>\n",
       "<table border=\"1\" class=\"dataframe\">\n",
       "  <thead>\n",
       "    <tr style=\"text-align: right;\">\n",
       "      <th></th>\n",
       "      <th>children</th>\n",
       "      <th>days_employed</th>\n",
       "      <th>dob_years</th>\n",
       "      <th>education</th>\n",
       "      <th>education_id</th>\n",
       "      <th>family_status</th>\n",
       "      <th>family_status_id</th>\n",
       "      <th>gender</th>\n",
       "      <th>income_type</th>\n",
       "      <th>debt</th>\n",
       "      <th>total_income</th>\n",
       "      <th>purpose</th>\n",
       "    </tr>\n",
       "  </thead>\n",
       "  <tbody>\n",
       "    <tr>\n",
       "      <td>606</td>\n",
       "      <td>20</td>\n",
       "      <td>880.221113</td>\n",
       "      <td>21</td>\n",
       "      <td>secondary education</td>\n",
       "      <td>1</td>\n",
       "      <td>married</td>\n",
       "      <td>0</td>\n",
       "      <td>M</td>\n",
       "      <td>business</td>\n",
       "      <td>0</td>\n",
       "      <td>23253.578</td>\n",
       "      <td>purchase of the house</td>\n",
       "    </tr>\n",
       "    <tr>\n",
       "      <td>720</td>\n",
       "      <td>20</td>\n",
       "      <td>855.595512</td>\n",
       "      <td>44</td>\n",
       "      <td>secondary education</td>\n",
       "      <td>1</td>\n",
       "      <td>married</td>\n",
       "      <td>0</td>\n",
       "      <td>F</td>\n",
       "      <td>business</td>\n",
       "      <td>0</td>\n",
       "      <td>18079.798</td>\n",
       "      <td>buy real estate</td>\n",
       "    </tr>\n",
       "    <tr>\n",
       "      <td>1074</td>\n",
       "      <td>20</td>\n",
       "      <td>3310.411598</td>\n",
       "      <td>56</td>\n",
       "      <td>secondary education</td>\n",
       "      <td>1</td>\n",
       "      <td>married</td>\n",
       "      <td>0</td>\n",
       "      <td>F</td>\n",
       "      <td>employee</td>\n",
       "      <td>1</td>\n",
       "      <td>36722.966</td>\n",
       "      <td>getting an education</td>\n",
       "    </tr>\n",
       "    <tr>\n",
       "      <td>2510</td>\n",
       "      <td>20</td>\n",
       "      <td>2714.161249</td>\n",
       "      <td>59</td>\n",
       "      <td>bachelor's degree</td>\n",
       "      <td>0</td>\n",
       "      <td>widow / widower</td>\n",
       "      <td>2</td>\n",
       "      <td>F</td>\n",
       "      <td>employee</td>\n",
       "      <td>0</td>\n",
       "      <td>42315.974</td>\n",
       "      <td>transactions with commercial real estate</td>\n",
       "    </tr>\n",
       "    <tr>\n",
       "      <td>2941</td>\n",
       "      <td>20</td>\n",
       "      <td>2161.591519</td>\n",
       "      <td>0</td>\n",
       "      <td>secondary education</td>\n",
       "      <td>1</td>\n",
       "      <td>married</td>\n",
       "      <td>0</td>\n",
       "      <td>F</td>\n",
       "      <td>employee</td>\n",
       "      <td>0</td>\n",
       "      <td>31958.391</td>\n",
       "      <td>to buy a car</td>\n",
       "    </tr>\n",
       "    <tr>\n",
       "      <td>...</td>\n",
       "      <td>...</td>\n",
       "      <td>...</td>\n",
       "      <td>...</td>\n",
       "      <td>...</td>\n",
       "      <td>...</td>\n",
       "      <td>...</td>\n",
       "      <td>...</td>\n",
       "      <td>...</td>\n",
       "      <td>...</td>\n",
       "      <td>...</td>\n",
       "      <td>...</td>\n",
       "      <td>...</td>\n",
       "    </tr>\n",
       "    <tr>\n",
       "      <td>21008</td>\n",
       "      <td>20</td>\n",
       "      <td>1240.257910</td>\n",
       "      <td>40</td>\n",
       "      <td>secondary education</td>\n",
       "      <td>1</td>\n",
       "      <td>married</td>\n",
       "      <td>0</td>\n",
       "      <td>F</td>\n",
       "      <td>employee</td>\n",
       "      <td>1</td>\n",
       "      <td>21363.842</td>\n",
       "      <td>to own a car</td>\n",
       "    </tr>\n",
       "    <tr>\n",
       "      <td>21325</td>\n",
       "      <td>20</td>\n",
       "      <td>601.174883</td>\n",
       "      <td>37</td>\n",
       "      <td>secondary education</td>\n",
       "      <td>1</td>\n",
       "      <td>married</td>\n",
       "      <td>0</td>\n",
       "      <td>F</td>\n",
       "      <td>business</td>\n",
       "      <td>0</td>\n",
       "      <td>16477.771</td>\n",
       "      <td>profile education</td>\n",
       "    </tr>\n",
       "    <tr>\n",
       "      <td>21390</td>\n",
       "      <td>20</td>\n",
       "      <td>NaN</td>\n",
       "      <td>53</td>\n",
       "      <td>secondary education</td>\n",
       "      <td>1</td>\n",
       "      <td>married</td>\n",
       "      <td>0</td>\n",
       "      <td>M</td>\n",
       "      <td>business</td>\n",
       "      <td>0</td>\n",
       "      <td>NaN</td>\n",
       "      <td>buy residential real estate</td>\n",
       "    </tr>\n",
       "    <tr>\n",
       "      <td>21404</td>\n",
       "      <td>20</td>\n",
       "      <td>494.788448</td>\n",
       "      <td>52</td>\n",
       "      <td>secondary education</td>\n",
       "      <td>1</td>\n",
       "      <td>married</td>\n",
       "      <td>0</td>\n",
       "      <td>M</td>\n",
       "      <td>business</td>\n",
       "      <td>0</td>\n",
       "      <td>25060.749</td>\n",
       "      <td>transactions with my real estate</td>\n",
       "    </tr>\n",
       "    <tr>\n",
       "      <td>21491</td>\n",
       "      <td>20</td>\n",
       "      <td>173.954460</td>\n",
       "      <td>27</td>\n",
       "      <td>secondary education</td>\n",
       "      <td>1</td>\n",
       "      <td>married</td>\n",
       "      <td>0</td>\n",
       "      <td>F</td>\n",
       "      <td>employee</td>\n",
       "      <td>0</td>\n",
       "      <td>24883.344</td>\n",
       "      <td>buying a second-hand car</td>\n",
       "    </tr>\n",
       "  </tbody>\n",
       "</table>\n",
       "<p>76 rows × 12 columns</p>\n",
       "</div>"
      ],
      "text/plain": [
       "       children  days_employed  dob_years            education  education_id  \\\n",
       "606          20     880.221113         21  secondary education             1   \n",
       "720          20     855.595512         44  secondary education             1   \n",
       "1074         20    3310.411598         56  secondary education             1   \n",
       "2510         20    2714.161249         59    bachelor's degree             0   \n",
       "2941         20    2161.591519          0  secondary education             1   \n",
       "...         ...            ...        ...                  ...           ...   \n",
       "21008        20    1240.257910         40  secondary education             1   \n",
       "21325        20     601.174883         37  secondary education             1   \n",
       "21390        20            NaN         53  secondary education             1   \n",
       "21404        20     494.788448         52  secondary education             1   \n",
       "21491        20     173.954460         27  secondary education             1   \n",
       "\n",
       "         family_status  family_status_id gender income_type  debt  \\\n",
       "606            married                 0      M    business     0   \n",
       "720            married                 0      F    business     0   \n",
       "1074           married                 0      F    employee     1   \n",
       "2510   widow / widower                 2      F    employee     0   \n",
       "2941           married                 0      F    employee     0   \n",
       "...                ...               ...    ...         ...   ...   \n",
       "21008          married                 0      F    employee     1   \n",
       "21325          married                 0      F    business     0   \n",
       "21390          married                 0      M    business     0   \n",
       "21404          married                 0      M    business     0   \n",
       "21491          married                 0      F    employee     0   \n",
       "\n",
       "       total_income                                   purpose  \n",
       "606       23253.578                     purchase of the house  \n",
       "720       18079.798                           buy real estate  \n",
       "1074      36722.966                      getting an education  \n",
       "2510      42315.974  transactions with commercial real estate  \n",
       "2941      31958.391                              to buy a car  \n",
       "...             ...                                       ...  \n",
       "21008     21363.842                              to own a car  \n",
       "21325     16477.771                         profile education  \n",
       "21390           NaN               buy residential real estate  \n",
       "21404     25060.749          transactions with my real estate  \n",
       "21491     24883.344                  buying a second-hand car  \n",
       "\n",
       "[76 rows x 12 columns]"
      ]
     },
     "execution_count": 10,
     "metadata": {},
     "output_type": "execute_result"
    }
   ],
   "source": [
    "# trying to find the row of the max children:\n",
    "orgnzd_credit_score.query('children == 20')"
   ]
  },
  {
   "cell_type": "markdown",
   "metadata": {},
   "source": [
    "Seems there are 76 rows with this number of children which is not probable at all so its probably a typo and supposed to be 2.\n",
    "But lets check if its the only irregular value or maybe  for example there are people with 15 kids as well:"
   ]
  },
  {
   "cell_type": "code",
   "execution_count": 11,
   "metadata": {},
   "outputs": [
    {
     "data": {
      "text/plain": [
       "0     14149\n",
       "1      4865\n",
       "2      2055\n",
       "3       330\n",
       "20       76\n",
       "4        41\n",
       "5         9\n",
       "Name: children, dtype: int64"
      ]
     },
     "execution_count": 11,
     "metadata": {},
     "output_type": "execute_result"
    }
   ],
   "source": [
    "orgnzd_credit_score['children'].value_counts()"
   ]
  },
  {
   "cell_type": "markdown",
   "metadata": {},
   "source": [
    "Yes, most probably a typo. So lets change it to 2."
   ]
  },
  {
   "cell_type": "code",
   "execution_count": 12,
   "metadata": {},
   "outputs": [
    {
     "data": {
      "text/plain": [
       "0    14149\n",
       "1     4865\n",
       "2     2131\n",
       "3      330\n",
       "4       41\n",
       "5        9\n",
       "Name: children, dtype: int64"
      ]
     },
     "execution_count": 12,
     "metadata": {},
     "output_type": "execute_result"
    }
   ],
   "source": [
    "orgnzd_credit_score.loc[orgnzd_credit_score['children'] == 20, 'children'] = 2\n",
    "orgnzd_credit_score['children'].value_counts()"
   ]
  },
  {
   "cell_type": "markdown",
   "metadata": {},
   "source": [
    "<div style=\"border:solid green 2px; padding: 20px\"> <b>Success:</b><br>\n",
    "    Well done! </div>       "
   ]
  },
  {
   "cell_type": "markdown",
   "metadata": {},
   "source": [
    "ok now lets do the same check for the other 2 columns based on describe:"
   ]
  },
  {
   "cell_type": "code",
   "execution_count": 13,
   "metadata": {},
   "outputs": [
    {
     "data": {
      "text/html": [
       "<div>\n",
       "<style scoped>\n",
       "    .dataframe tbody tr th:only-of-type {\n",
       "        vertical-align: middle;\n",
       "    }\n",
       "\n",
       "    .dataframe tbody tr th {\n",
       "        vertical-align: top;\n",
       "    }\n",
       "\n",
       "    .dataframe thead th {\n",
       "        text-align: right;\n",
       "    }\n",
       "</style>\n",
       "<table border=\"1\" class=\"dataframe\">\n",
       "  <thead>\n",
       "    <tr style=\"text-align: right;\">\n",
       "      <th></th>\n",
       "      <th>children</th>\n",
       "      <th>days_employed</th>\n",
       "      <th>dob_years</th>\n",
       "      <th>education</th>\n",
       "      <th>education_id</th>\n",
       "      <th>family_status</th>\n",
       "      <th>family_status_id</th>\n",
       "      <th>gender</th>\n",
       "      <th>income_type</th>\n",
       "      <th>debt</th>\n",
       "      <th>total_income</th>\n",
       "      <th>purpose</th>\n",
       "    </tr>\n",
       "  </thead>\n",
       "  <tbody>\n",
       "    <tr>\n",
       "      <td>6954</td>\n",
       "      <td>0</td>\n",
       "      <td>401755.400475</td>\n",
       "      <td>56</td>\n",
       "      <td>secondary education</td>\n",
       "      <td>1</td>\n",
       "      <td>widow / widower</td>\n",
       "      <td>2</td>\n",
       "      <td>F</td>\n",
       "      <td>retiree</td>\n",
       "      <td>0</td>\n",
       "      <td>28204.551</td>\n",
       "      <td>housing renovation</td>\n",
       "    </tr>\n",
       "  </tbody>\n",
       "</table>\n",
       "</div>"
      ],
      "text/plain": [
       "      children  days_employed  dob_years            education  education_id  \\\n",
       "6954         0  401755.400475         56  secondary education             1   \n",
       "\n",
       "        family_status  family_status_id gender income_type  debt  \\\n",
       "6954  widow / widower                 2      F     retiree     0   \n",
       "\n",
       "      total_income             purpose  \n",
       "6954     28204.551  housing renovation  "
      ]
     },
     "execution_count": 13,
     "metadata": {},
     "output_type": "execute_result"
    }
   ],
   "source": [
    "# trying to find the row of the max days_employed:\n",
    "# orgnzd_credit_score[orgnzd_credit_score['days_employed'] == 401755.400475]\n",
    "# orgnzd_credit_score[orgnzd_credit_score.days_employed == 401755.400475]\n",
    "#orgnzd_credit_score.query('days_employed == 401755.400475')\n",
    "orgnzd_credit_score[orgnzd_credit_score['days_employed'] > 401755]"
   ]
  },
  {
   "cell_type": "markdown",
   "metadata": {},
   "source": [
    "<s><div style=\"border:solid orange 2px; padding: 20px\"> <b>Remarks:</b><br>\n",
    "   \n",
    "   Here you can find the boundaries of the values that can be considered abnormal and use a slice, like this: `orgnzd_credit_score[orgnzd_credit_score['days_employed'] > 401755]` </div>   "
   ]
  },
  {
   "cell_type": "markdown",
   "metadata": {},
   "source": [
    "<div class=\"alert alert-info\" style=\"border:solid blue 2px; padding: 20px\">\n",
    "    Thanks, but now im a bit confused why it worked.. i get the integer trick but at this point there are still NaNs in the table.."
   ]
  },
  {
   "cell_type": "markdown",
   "metadata": {},
   "source": [
    "<div style=\"border:solid green 2px; padding: 20px\"> <b>Success V2:</b><br>\n",
    "   I guess not all numbers are reflected after the comma, so eventually the equality was not fulfilled and the desired line is not found.</div>       "
   ]
  },
  {
   "cell_type": "markdown",
   "metadata": {},
   "source": [
    "Based on what i gather from the web its not possible to .loc[] or query or any other way when there are floats and NaNs, so ill try it later.\n",
    "\n",
    "Great, now back to the missing values:"
   ]
  },
  {
   "cell_type": "code",
   "execution_count": 14,
   "metadata": {},
   "outputs": [
    {
     "data": {
      "text/html": [
       "<div>\n",
       "<style scoped>\n",
       "    .dataframe tbody tr th:only-of-type {\n",
       "        vertical-align: middle;\n",
       "    }\n",
       "\n",
       "    .dataframe tbody tr th {\n",
       "        vertical-align: top;\n",
       "    }\n",
       "\n",
       "    .dataframe thead th {\n",
       "        text-align: right;\n",
       "    }\n",
       "</style>\n",
       "<table border=\"1\" class=\"dataframe\">\n",
       "  <thead>\n",
       "    <tr style=\"text-align: right;\">\n",
       "      <th></th>\n",
       "      <th>children</th>\n",
       "      <th>days_employed</th>\n",
       "      <th>dob_years</th>\n",
       "      <th>education</th>\n",
       "      <th>education_id</th>\n",
       "      <th>family_status</th>\n",
       "      <th>family_status_id</th>\n",
       "      <th>gender</th>\n",
       "      <th>income_type</th>\n",
       "      <th>debt</th>\n",
       "      <th>total_income</th>\n",
       "      <th>purpose</th>\n",
       "    </tr>\n",
       "  </thead>\n",
       "  <tbody>\n",
       "    <tr>\n",
       "      <td>12</td>\n",
       "      <td>0</td>\n",
       "      <td>NaN</td>\n",
       "      <td>65</td>\n",
       "      <td>secondary education</td>\n",
       "      <td>1</td>\n",
       "      <td>civil partnership</td>\n",
       "      <td>1</td>\n",
       "      <td>M</td>\n",
       "      <td>retiree</td>\n",
       "      <td>0</td>\n",
       "      <td>NaN</td>\n",
       "      <td>to have a wedding</td>\n",
       "    </tr>\n",
       "    <tr>\n",
       "      <td>26</td>\n",
       "      <td>0</td>\n",
       "      <td>NaN</td>\n",
       "      <td>41</td>\n",
       "      <td>secondary education</td>\n",
       "      <td>1</td>\n",
       "      <td>married</td>\n",
       "      <td>0</td>\n",
       "      <td>M</td>\n",
       "      <td>civil servant</td>\n",
       "      <td>0</td>\n",
       "      <td>NaN</td>\n",
       "      <td>education</td>\n",
       "    </tr>\n",
       "    <tr>\n",
       "      <td>29</td>\n",
       "      <td>0</td>\n",
       "      <td>NaN</td>\n",
       "      <td>63</td>\n",
       "      <td>secondary education</td>\n",
       "      <td>1</td>\n",
       "      <td>unmarried</td>\n",
       "      <td>4</td>\n",
       "      <td>F</td>\n",
       "      <td>retiree</td>\n",
       "      <td>0</td>\n",
       "      <td>NaN</td>\n",
       "      <td>building a real estate</td>\n",
       "    </tr>\n",
       "    <tr>\n",
       "      <td>41</td>\n",
       "      <td>0</td>\n",
       "      <td>NaN</td>\n",
       "      <td>50</td>\n",
       "      <td>secondary education</td>\n",
       "      <td>1</td>\n",
       "      <td>married</td>\n",
       "      <td>0</td>\n",
       "      <td>F</td>\n",
       "      <td>civil servant</td>\n",
       "      <td>0</td>\n",
       "      <td>NaN</td>\n",
       "      <td>second-hand car purchase</td>\n",
       "    </tr>\n",
       "    <tr>\n",
       "      <td>55</td>\n",
       "      <td>0</td>\n",
       "      <td>NaN</td>\n",
       "      <td>54</td>\n",
       "      <td>secondary education</td>\n",
       "      <td>1</td>\n",
       "      <td>civil partnership</td>\n",
       "      <td>1</td>\n",
       "      <td>F</td>\n",
       "      <td>retiree</td>\n",
       "      <td>1</td>\n",
       "      <td>NaN</td>\n",
       "      <td>to have a wedding</td>\n",
       "    </tr>\n",
       "    <tr>\n",
       "      <td>65</td>\n",
       "      <td>0</td>\n",
       "      <td>NaN</td>\n",
       "      <td>21</td>\n",
       "      <td>secondary education</td>\n",
       "      <td>1</td>\n",
       "      <td>unmarried</td>\n",
       "      <td>4</td>\n",
       "      <td>M</td>\n",
       "      <td>business</td>\n",
       "      <td>0</td>\n",
       "      <td>NaN</td>\n",
       "      <td>transactions with commercial real estate</td>\n",
       "    </tr>\n",
       "    <tr>\n",
       "      <td>67</td>\n",
       "      <td>0</td>\n",
       "      <td>NaN</td>\n",
       "      <td>52</td>\n",
       "      <td>bachelor's degree</td>\n",
       "      <td>0</td>\n",
       "      <td>married</td>\n",
       "      <td>0</td>\n",
       "      <td>F</td>\n",
       "      <td>retiree</td>\n",
       "      <td>0</td>\n",
       "      <td>NaN</td>\n",
       "      <td>purchase of the house for my family</td>\n",
       "    </tr>\n",
       "    <tr>\n",
       "      <td>72</td>\n",
       "      <td>1</td>\n",
       "      <td>NaN</td>\n",
       "      <td>32</td>\n",
       "      <td>bachelor's degree</td>\n",
       "      <td>0</td>\n",
       "      <td>married</td>\n",
       "      <td>0</td>\n",
       "      <td>M</td>\n",
       "      <td>civil servant</td>\n",
       "      <td>0</td>\n",
       "      <td>NaN</td>\n",
       "      <td>transactions with commercial real estate</td>\n",
       "    </tr>\n",
       "    <tr>\n",
       "      <td>82</td>\n",
       "      <td>2</td>\n",
       "      <td>NaN</td>\n",
       "      <td>50</td>\n",
       "      <td>bachelor's degree</td>\n",
       "      <td>0</td>\n",
       "      <td>married</td>\n",
       "      <td>0</td>\n",
       "      <td>F</td>\n",
       "      <td>employee</td>\n",
       "      <td>0</td>\n",
       "      <td>NaN</td>\n",
       "      <td>housing</td>\n",
       "    </tr>\n",
       "    <tr>\n",
       "      <td>83</td>\n",
       "      <td>0</td>\n",
       "      <td>NaN</td>\n",
       "      <td>52</td>\n",
       "      <td>secondary education</td>\n",
       "      <td>1</td>\n",
       "      <td>married</td>\n",
       "      <td>0</td>\n",
       "      <td>M</td>\n",
       "      <td>employee</td>\n",
       "      <td>0</td>\n",
       "      <td>NaN</td>\n",
       "      <td>housing</td>\n",
       "    </tr>\n",
       "    <tr>\n",
       "      <td>90</td>\n",
       "      <td>2</td>\n",
       "      <td>NaN</td>\n",
       "      <td>35</td>\n",
       "      <td>bachelor's degree</td>\n",
       "      <td>0</td>\n",
       "      <td>married</td>\n",
       "      <td>0</td>\n",
       "      <td>F</td>\n",
       "      <td>employee</td>\n",
       "      <td>0</td>\n",
       "      <td>NaN</td>\n",
       "      <td>housing transactions</td>\n",
       "    </tr>\n",
       "    <tr>\n",
       "      <td>94</td>\n",
       "      <td>1</td>\n",
       "      <td>NaN</td>\n",
       "      <td>34</td>\n",
       "      <td>bachelor's degree</td>\n",
       "      <td>0</td>\n",
       "      <td>civil partnership</td>\n",
       "      <td>1</td>\n",
       "      <td>F</td>\n",
       "      <td>business</td>\n",
       "      <td>0</td>\n",
       "      <td>NaN</td>\n",
       "      <td>having a wedding</td>\n",
       "    </tr>\n",
       "    <tr>\n",
       "      <td>96</td>\n",
       "      <td>0</td>\n",
       "      <td>NaN</td>\n",
       "      <td>44</td>\n",
       "      <td>secondary education</td>\n",
       "      <td>1</td>\n",
       "      <td>married</td>\n",
       "      <td>0</td>\n",
       "      <td>F</td>\n",
       "      <td>employee</td>\n",
       "      <td>0</td>\n",
       "      <td>NaN</td>\n",
       "      <td>buy residential real estate</td>\n",
       "    </tr>\n",
       "    <tr>\n",
       "      <td>97</td>\n",
       "      <td>0</td>\n",
       "      <td>NaN</td>\n",
       "      <td>47</td>\n",
       "      <td>bachelor's degree</td>\n",
       "      <td>0</td>\n",
       "      <td>married</td>\n",
       "      <td>0</td>\n",
       "      <td>F</td>\n",
       "      <td>employee</td>\n",
       "      <td>0</td>\n",
       "      <td>NaN</td>\n",
       "      <td>profile education</td>\n",
       "    </tr>\n",
       "    <tr>\n",
       "      <td>120</td>\n",
       "      <td>0</td>\n",
       "      <td>NaN</td>\n",
       "      <td>46</td>\n",
       "      <td>secondary education</td>\n",
       "      <td>1</td>\n",
       "      <td>married</td>\n",
       "      <td>0</td>\n",
       "      <td>F</td>\n",
       "      <td>employee</td>\n",
       "      <td>0</td>\n",
       "      <td>NaN</td>\n",
       "      <td>university education</td>\n",
       "    </tr>\n",
       "    <tr>\n",
       "      <td>121</td>\n",
       "      <td>0</td>\n",
       "      <td>NaN</td>\n",
       "      <td>29</td>\n",
       "      <td>bachelor's degree</td>\n",
       "      <td>0</td>\n",
       "      <td>married</td>\n",
       "      <td>0</td>\n",
       "      <td>F</td>\n",
       "      <td>business</td>\n",
       "      <td>0</td>\n",
       "      <td>NaN</td>\n",
       "      <td>car</td>\n",
       "    </tr>\n",
       "    <tr>\n",
       "      <td>135</td>\n",
       "      <td>0</td>\n",
       "      <td>NaN</td>\n",
       "      <td>27</td>\n",
       "      <td>secondary education</td>\n",
       "      <td>1</td>\n",
       "      <td>married</td>\n",
       "      <td>0</td>\n",
       "      <td>M</td>\n",
       "      <td>business</td>\n",
       "      <td>0</td>\n",
       "      <td>NaN</td>\n",
       "      <td>housing</td>\n",
       "    </tr>\n",
       "    <tr>\n",
       "      <td>141</td>\n",
       "      <td>0</td>\n",
       "      <td>NaN</td>\n",
       "      <td>39</td>\n",
       "      <td>secondary education</td>\n",
       "      <td>1</td>\n",
       "      <td>civil partnership</td>\n",
       "      <td>1</td>\n",
       "      <td>M</td>\n",
       "      <td>employee</td>\n",
       "      <td>0</td>\n",
       "      <td>NaN</td>\n",
       "      <td>wedding ceremony</td>\n",
       "    </tr>\n",
       "    <tr>\n",
       "      <td>145</td>\n",
       "      <td>0</td>\n",
       "      <td>NaN</td>\n",
       "      <td>62</td>\n",
       "      <td>secondary education</td>\n",
       "      <td>1</td>\n",
       "      <td>married</td>\n",
       "      <td>0</td>\n",
       "      <td>M</td>\n",
       "      <td>retiree</td>\n",
       "      <td>0</td>\n",
       "      <td>NaN</td>\n",
       "      <td>building a property</td>\n",
       "    </tr>\n",
       "    <tr>\n",
       "      <td>174</td>\n",
       "      <td>0</td>\n",
       "      <td>NaN</td>\n",
       "      <td>55</td>\n",
       "      <td>bachelor's degree</td>\n",
       "      <td>0</td>\n",
       "      <td>widow / widower</td>\n",
       "      <td>2</td>\n",
       "      <td>F</td>\n",
       "      <td>business</td>\n",
       "      <td>0</td>\n",
       "      <td>NaN</td>\n",
       "      <td>to own a car</td>\n",
       "    </tr>\n",
       "    <tr>\n",
       "      <td>181</td>\n",
       "      <td>0</td>\n",
       "      <td>NaN</td>\n",
       "      <td>26</td>\n",
       "      <td>secondary education</td>\n",
       "      <td>1</td>\n",
       "      <td>civil partnership</td>\n",
       "      <td>1</td>\n",
       "      <td>F</td>\n",
       "      <td>business</td>\n",
       "      <td>1</td>\n",
       "      <td>NaN</td>\n",
       "      <td>purchase of the house for my family</td>\n",
       "    </tr>\n",
       "    <tr>\n",
       "      <td>189</td>\n",
       "      <td>1</td>\n",
       "      <td>NaN</td>\n",
       "      <td>30</td>\n",
       "      <td>secondary education</td>\n",
       "      <td>1</td>\n",
       "      <td>unmarried</td>\n",
       "      <td>4</td>\n",
       "      <td>F</td>\n",
       "      <td>employee</td>\n",
       "      <td>0</td>\n",
       "      <td>NaN</td>\n",
       "      <td>to own a car</td>\n",
       "    </tr>\n",
       "    <tr>\n",
       "      <td>205</td>\n",
       "      <td>1</td>\n",
       "      <td>NaN</td>\n",
       "      <td>31</td>\n",
       "      <td>bachelor's degree</td>\n",
       "      <td>0</td>\n",
       "      <td>married</td>\n",
       "      <td>0</td>\n",
       "      <td>F</td>\n",
       "      <td>employee</td>\n",
       "      <td>0</td>\n",
       "      <td>NaN</td>\n",
       "      <td>buying a second-hand car</td>\n",
       "    </tr>\n",
       "    <tr>\n",
       "      <td>220</td>\n",
       "      <td>1</td>\n",
       "      <td>NaN</td>\n",
       "      <td>23</td>\n",
       "      <td>some college</td>\n",
       "      <td>2</td>\n",
       "      <td>civil partnership</td>\n",
       "      <td>1</td>\n",
       "      <td>F</td>\n",
       "      <td>business</td>\n",
       "      <td>0</td>\n",
       "      <td>NaN</td>\n",
       "      <td>to have a wedding</td>\n",
       "    </tr>\n",
       "    <tr>\n",
       "      <td>241</td>\n",
       "      <td>0</td>\n",
       "      <td>NaN</td>\n",
       "      <td>47</td>\n",
       "      <td>secondary education</td>\n",
       "      <td>1</td>\n",
       "      <td>married</td>\n",
       "      <td>0</td>\n",
       "      <td>M</td>\n",
       "      <td>employee</td>\n",
       "      <td>0</td>\n",
       "      <td>NaN</td>\n",
       "      <td>construction of own property</td>\n",
       "    </tr>\n",
       "    <tr>\n",
       "      <td>242</td>\n",
       "      <td>0</td>\n",
       "      <td>NaN</td>\n",
       "      <td>58</td>\n",
       "      <td>secondary education</td>\n",
       "      <td>1</td>\n",
       "      <td>married</td>\n",
       "      <td>0</td>\n",
       "      <td>F</td>\n",
       "      <td>civil servant</td>\n",
       "      <td>0</td>\n",
       "      <td>NaN</td>\n",
       "      <td>purchase of my own house</td>\n",
       "    </tr>\n",
       "    <tr>\n",
       "      <td>247</td>\n",
       "      <td>1</td>\n",
       "      <td>NaN</td>\n",
       "      <td>60</td>\n",
       "      <td>bachelor's degree</td>\n",
       "      <td>0</td>\n",
       "      <td>married</td>\n",
       "      <td>0</td>\n",
       "      <td>F</td>\n",
       "      <td>retiree</td>\n",
       "      <td>1</td>\n",
       "      <td>NaN</td>\n",
       "      <td>going to university</td>\n",
       "    </tr>\n",
       "    <tr>\n",
       "      <td>250</td>\n",
       "      <td>0</td>\n",
       "      <td>NaN</td>\n",
       "      <td>54</td>\n",
       "      <td>bachelor's degree</td>\n",
       "      <td>0</td>\n",
       "      <td>married</td>\n",
       "      <td>0</td>\n",
       "      <td>F</td>\n",
       "      <td>employee</td>\n",
       "      <td>0</td>\n",
       "      <td>NaN</td>\n",
       "      <td>second-hand car purchase</td>\n",
       "    </tr>\n",
       "    <tr>\n",
       "      <td>264</td>\n",
       "      <td>2</td>\n",
       "      <td>NaN</td>\n",
       "      <td>40</td>\n",
       "      <td>secondary education</td>\n",
       "      <td>1</td>\n",
       "      <td>divorced</td>\n",
       "      <td>3</td>\n",
       "      <td>F</td>\n",
       "      <td>employee</td>\n",
       "      <td>0</td>\n",
       "      <td>NaN</td>\n",
       "      <td>property</td>\n",
       "    </tr>\n",
       "    <tr>\n",
       "      <td>278</td>\n",
       "      <td>1</td>\n",
       "      <td>NaN</td>\n",
       "      <td>23</td>\n",
       "      <td>secondary education</td>\n",
       "      <td>1</td>\n",
       "      <td>civil partnership</td>\n",
       "      <td>1</td>\n",
       "      <td>F</td>\n",
       "      <td>employee</td>\n",
       "      <td>1</td>\n",
       "      <td>NaN</td>\n",
       "      <td>car</td>\n",
       "    </tr>\n",
       "    <tr>\n",
       "      <td>279</td>\n",
       "      <td>0</td>\n",
       "      <td>NaN</td>\n",
       "      <td>44</td>\n",
       "      <td>secondary education</td>\n",
       "      <td>1</td>\n",
       "      <td>civil partnership</td>\n",
       "      <td>1</td>\n",
       "      <td>F</td>\n",
       "      <td>employee</td>\n",
       "      <td>0</td>\n",
       "      <td>NaN</td>\n",
       "      <td>transactions with my real estate</td>\n",
       "    </tr>\n",
       "    <tr>\n",
       "      <td>280</td>\n",
       "      <td>0</td>\n",
       "      <td>NaN</td>\n",
       "      <td>66</td>\n",
       "      <td>secondary education</td>\n",
       "      <td>1</td>\n",
       "      <td>married</td>\n",
       "      <td>0</td>\n",
       "      <td>F</td>\n",
       "      <td>retiree</td>\n",
       "      <td>0</td>\n",
       "      <td>NaN</td>\n",
       "      <td>housing transactions</td>\n",
       "    </tr>\n",
       "    <tr>\n",
       "      <td>312</td>\n",
       "      <td>1</td>\n",
       "      <td>NaN</td>\n",
       "      <td>33</td>\n",
       "      <td>secondary education</td>\n",
       "      <td>1</td>\n",
       "      <td>civil partnership</td>\n",
       "      <td>1</td>\n",
       "      <td>M</td>\n",
       "      <td>employee</td>\n",
       "      <td>1</td>\n",
       "      <td>NaN</td>\n",
       "      <td>buying property for renting out</td>\n",
       "    </tr>\n",
       "    <tr>\n",
       "      <td>317</td>\n",
       "      <td>0</td>\n",
       "      <td>NaN</td>\n",
       "      <td>21</td>\n",
       "      <td>bachelor's degree</td>\n",
       "      <td>0</td>\n",
       "      <td>unmarried</td>\n",
       "      <td>4</td>\n",
       "      <td>M</td>\n",
       "      <td>employee</td>\n",
       "      <td>0</td>\n",
       "      <td>NaN</td>\n",
       "      <td>purchase of a car</td>\n",
       "    </tr>\n",
       "    <tr>\n",
       "      <td>320</td>\n",
       "      <td>0</td>\n",
       "      <td>NaN</td>\n",
       "      <td>63</td>\n",
       "      <td>secondary education</td>\n",
       "      <td>1</td>\n",
       "      <td>widow / widower</td>\n",
       "      <td>2</td>\n",
       "      <td>F</td>\n",
       "      <td>employee</td>\n",
       "      <td>0</td>\n",
       "      <td>NaN</td>\n",
       "      <td>buying a second-hand car</td>\n",
       "    </tr>\n",
       "    <tr>\n",
       "      <td>321</td>\n",
       "      <td>1</td>\n",
       "      <td>NaN</td>\n",
       "      <td>34</td>\n",
       "      <td>bachelor's degree</td>\n",
       "      <td>0</td>\n",
       "      <td>civil partnership</td>\n",
       "      <td>1</td>\n",
       "      <td>M</td>\n",
       "      <td>business</td>\n",
       "      <td>0</td>\n",
       "      <td>NaN</td>\n",
       "      <td>having a wedding</td>\n",
       "    </tr>\n",
       "    <tr>\n",
       "      <td>322</td>\n",
       "      <td>0</td>\n",
       "      <td>NaN</td>\n",
       "      <td>56</td>\n",
       "      <td>secondary education</td>\n",
       "      <td>1</td>\n",
       "      <td>civil partnership</td>\n",
       "      <td>1</td>\n",
       "      <td>F</td>\n",
       "      <td>retiree</td>\n",
       "      <td>1</td>\n",
       "      <td>NaN</td>\n",
       "      <td>to have a wedding</td>\n",
       "    </tr>\n",
       "    <tr>\n",
       "      <td>328</td>\n",
       "      <td>0</td>\n",
       "      <td>NaN</td>\n",
       "      <td>69</td>\n",
       "      <td>secondary education</td>\n",
       "      <td>1</td>\n",
       "      <td>widow / widower</td>\n",
       "      <td>2</td>\n",
       "      <td>F</td>\n",
       "      <td>employee</td>\n",
       "      <td>0</td>\n",
       "      <td>NaN</td>\n",
       "      <td>car purchase</td>\n",
       "    </tr>\n",
       "    <tr>\n",
       "      <td>360</td>\n",
       "      <td>0</td>\n",
       "      <td>NaN</td>\n",
       "      <td>27</td>\n",
       "      <td>secondary education</td>\n",
       "      <td>1</td>\n",
       "      <td>married</td>\n",
       "      <td>0</td>\n",
       "      <td>M</td>\n",
       "      <td>business</td>\n",
       "      <td>0</td>\n",
       "      <td>NaN</td>\n",
       "      <td>buying property for renting out</td>\n",
       "    </tr>\n",
       "    <tr>\n",
       "      <td>361</td>\n",
       "      <td>0</td>\n",
       "      <td>NaN</td>\n",
       "      <td>59</td>\n",
       "      <td>secondary education</td>\n",
       "      <td>1</td>\n",
       "      <td>widow / widower</td>\n",
       "      <td>2</td>\n",
       "      <td>F</td>\n",
       "      <td>retiree</td>\n",
       "      <td>0</td>\n",
       "      <td>NaN</td>\n",
       "      <td>housing</td>\n",
       "    </tr>\n",
       "    <tr>\n",
       "      <td>364</td>\n",
       "      <td>0</td>\n",
       "      <td>NaN</td>\n",
       "      <td>57</td>\n",
       "      <td>secondary education</td>\n",
       "      <td>1</td>\n",
       "      <td>civil partnership</td>\n",
       "      <td>1</td>\n",
       "      <td>F</td>\n",
       "      <td>business</td>\n",
       "      <td>0</td>\n",
       "      <td>NaN</td>\n",
       "      <td>going to university</td>\n",
       "    </tr>\n",
       "    <tr>\n",
       "      <td>376</td>\n",
       "      <td>0</td>\n",
       "      <td>NaN</td>\n",
       "      <td>23</td>\n",
       "      <td>some college</td>\n",
       "      <td>2</td>\n",
       "      <td>unmarried</td>\n",
       "      <td>4</td>\n",
       "      <td>M</td>\n",
       "      <td>employee</td>\n",
       "      <td>0</td>\n",
       "      <td>NaN</td>\n",
       "      <td>getting higher education</td>\n",
       "    </tr>\n",
       "    <tr>\n",
       "      <td>383</td>\n",
       "      <td>0</td>\n",
       "      <td>NaN</td>\n",
       "      <td>55</td>\n",
       "      <td>bachelor's degree</td>\n",
       "      <td>0</td>\n",
       "      <td>civil partnership</td>\n",
       "      <td>1</td>\n",
       "      <td>F</td>\n",
       "      <td>business</td>\n",
       "      <td>0</td>\n",
       "      <td>NaN</td>\n",
       "      <td>to have a wedding</td>\n",
       "    </tr>\n",
       "    <tr>\n",
       "      <td>389</td>\n",
       "      <td>1</td>\n",
       "      <td>NaN</td>\n",
       "      <td>31</td>\n",
       "      <td>secondary education</td>\n",
       "      <td>1</td>\n",
       "      <td>divorced</td>\n",
       "      <td>3</td>\n",
       "      <td>M</td>\n",
       "      <td>civil servant</td>\n",
       "      <td>0</td>\n",
       "      <td>NaN</td>\n",
       "      <td>supplementary education</td>\n",
       "    </tr>\n",
       "    <tr>\n",
       "      <td>415</td>\n",
       "      <td>0</td>\n",
       "      <td>NaN</td>\n",
       "      <td>57</td>\n",
       "      <td>bachelor's degree</td>\n",
       "      <td>0</td>\n",
       "      <td>widow / widower</td>\n",
       "      <td>2</td>\n",
       "      <td>F</td>\n",
       "      <td>retiree</td>\n",
       "      <td>0</td>\n",
       "      <td>NaN</td>\n",
       "      <td>housing</td>\n",
       "    </tr>\n",
       "    <tr>\n",
       "      <td>416</td>\n",
       "      <td>0</td>\n",
       "      <td>NaN</td>\n",
       "      <td>58</td>\n",
       "      <td>secondary education</td>\n",
       "      <td>1</td>\n",
       "      <td>civil partnership</td>\n",
       "      <td>1</td>\n",
       "      <td>F</td>\n",
       "      <td>retiree</td>\n",
       "      <td>0</td>\n",
       "      <td>NaN</td>\n",
       "      <td>profile education</td>\n",
       "    </tr>\n",
       "    <tr>\n",
       "      <td>421</td>\n",
       "      <td>0</td>\n",
       "      <td>NaN</td>\n",
       "      <td>45</td>\n",
       "      <td>secondary education</td>\n",
       "      <td>1</td>\n",
       "      <td>married</td>\n",
       "      <td>0</td>\n",
       "      <td>F</td>\n",
       "      <td>employee</td>\n",
       "      <td>0</td>\n",
       "      <td>NaN</td>\n",
       "      <td>profile education</td>\n",
       "    </tr>\n",
       "    <tr>\n",
       "      <td>444</td>\n",
       "      <td>0</td>\n",
       "      <td>NaN</td>\n",
       "      <td>53</td>\n",
       "      <td>secondary education</td>\n",
       "      <td>1</td>\n",
       "      <td>widow / widower</td>\n",
       "      <td>2</td>\n",
       "      <td>F</td>\n",
       "      <td>employee</td>\n",
       "      <td>1</td>\n",
       "      <td>NaN</td>\n",
       "      <td>to own a car</td>\n",
       "    </tr>\n",
       "    <tr>\n",
       "      <td>458</td>\n",
       "      <td>0</td>\n",
       "      <td>NaN</td>\n",
       "      <td>48</td>\n",
       "      <td>secondary education</td>\n",
       "      <td>1</td>\n",
       "      <td>civil partnership</td>\n",
       "      <td>1</td>\n",
       "      <td>F</td>\n",
       "      <td>business</td>\n",
       "      <td>0</td>\n",
       "      <td>NaN</td>\n",
       "      <td>wedding ceremony</td>\n",
       "    </tr>\n",
       "    <tr>\n",
       "      <td>466</td>\n",
       "      <td>0</td>\n",
       "      <td>NaN</td>\n",
       "      <td>56</td>\n",
       "      <td>secondary education</td>\n",
       "      <td>1</td>\n",
       "      <td>married</td>\n",
       "      <td>0</td>\n",
       "      <td>F</td>\n",
       "      <td>retiree</td>\n",
       "      <td>0</td>\n",
       "      <td>NaN</td>\n",
       "      <td>supplementary education</td>\n",
       "    </tr>\n",
       "  </tbody>\n",
       "</table>\n",
       "</div>"
      ],
      "text/plain": [
       "     children  days_employed  dob_years            education  education_id  \\\n",
       "12          0            NaN         65  secondary education             1   \n",
       "26          0            NaN         41  secondary education             1   \n",
       "29          0            NaN         63  secondary education             1   \n",
       "41          0            NaN         50  secondary education             1   \n",
       "55          0            NaN         54  secondary education             1   \n",
       "65          0            NaN         21  secondary education             1   \n",
       "67          0            NaN         52    bachelor's degree             0   \n",
       "72          1            NaN         32    bachelor's degree             0   \n",
       "82          2            NaN         50    bachelor's degree             0   \n",
       "83          0            NaN         52  secondary education             1   \n",
       "90          2            NaN         35    bachelor's degree             0   \n",
       "94          1            NaN         34    bachelor's degree             0   \n",
       "96          0            NaN         44  secondary education             1   \n",
       "97          0            NaN         47    bachelor's degree             0   \n",
       "120         0            NaN         46  secondary education             1   \n",
       "121         0            NaN         29    bachelor's degree             0   \n",
       "135         0            NaN         27  secondary education             1   \n",
       "141         0            NaN         39  secondary education             1   \n",
       "145         0            NaN         62  secondary education             1   \n",
       "174         0            NaN         55    bachelor's degree             0   \n",
       "181         0            NaN         26  secondary education             1   \n",
       "189         1            NaN         30  secondary education             1   \n",
       "205         1            NaN         31    bachelor's degree             0   \n",
       "220         1            NaN         23         some college             2   \n",
       "241         0            NaN         47  secondary education             1   \n",
       "242         0            NaN         58  secondary education             1   \n",
       "247         1            NaN         60    bachelor's degree             0   \n",
       "250         0            NaN         54    bachelor's degree             0   \n",
       "264         2            NaN         40  secondary education             1   \n",
       "278         1            NaN         23  secondary education             1   \n",
       "279         0            NaN         44  secondary education             1   \n",
       "280         0            NaN         66  secondary education             1   \n",
       "312         1            NaN         33  secondary education             1   \n",
       "317         0            NaN         21    bachelor's degree             0   \n",
       "320         0            NaN         63  secondary education             1   \n",
       "321         1            NaN         34    bachelor's degree             0   \n",
       "322         0            NaN         56  secondary education             1   \n",
       "328         0            NaN         69  secondary education             1   \n",
       "360         0            NaN         27  secondary education             1   \n",
       "361         0            NaN         59  secondary education             1   \n",
       "364         0            NaN         57  secondary education             1   \n",
       "376         0            NaN         23         some college             2   \n",
       "383         0            NaN         55    bachelor's degree             0   \n",
       "389         1            NaN         31  secondary education             1   \n",
       "415         0            NaN         57    bachelor's degree             0   \n",
       "416         0            NaN         58  secondary education             1   \n",
       "421         0            NaN         45  secondary education             1   \n",
       "444         0            NaN         53  secondary education             1   \n",
       "458         0            NaN         48  secondary education             1   \n",
       "466         0            NaN         56  secondary education             1   \n",
       "\n",
       "         family_status  family_status_id gender    income_type  debt  \\\n",
       "12   civil partnership                 1      M        retiree     0   \n",
       "26             married                 0      M  civil servant     0   \n",
       "29           unmarried                 4      F        retiree     0   \n",
       "41             married                 0      F  civil servant     0   \n",
       "55   civil partnership                 1      F        retiree     1   \n",
       "65           unmarried                 4      M       business     0   \n",
       "67             married                 0      F        retiree     0   \n",
       "72             married                 0      M  civil servant     0   \n",
       "82             married                 0      F       employee     0   \n",
       "83             married                 0      M       employee     0   \n",
       "90             married                 0      F       employee     0   \n",
       "94   civil partnership                 1      F       business     0   \n",
       "96             married                 0      F       employee     0   \n",
       "97             married                 0      F       employee     0   \n",
       "120            married                 0      F       employee     0   \n",
       "121            married                 0      F       business     0   \n",
       "135            married                 0      M       business     0   \n",
       "141  civil partnership                 1      M       employee     0   \n",
       "145            married                 0      M        retiree     0   \n",
       "174    widow / widower                 2      F       business     0   \n",
       "181  civil partnership                 1      F       business     1   \n",
       "189          unmarried                 4      F       employee     0   \n",
       "205            married                 0      F       employee     0   \n",
       "220  civil partnership                 1      F       business     0   \n",
       "241            married                 0      M       employee     0   \n",
       "242            married                 0      F  civil servant     0   \n",
       "247            married                 0      F        retiree     1   \n",
       "250            married                 0      F       employee     0   \n",
       "264           divorced                 3      F       employee     0   \n",
       "278  civil partnership                 1      F       employee     1   \n",
       "279  civil partnership                 1      F       employee     0   \n",
       "280            married                 0      F        retiree     0   \n",
       "312  civil partnership                 1      M       employee     1   \n",
       "317          unmarried                 4      M       employee     0   \n",
       "320    widow / widower                 2      F       employee     0   \n",
       "321  civil partnership                 1      M       business     0   \n",
       "322  civil partnership                 1      F        retiree     1   \n",
       "328    widow / widower                 2      F       employee     0   \n",
       "360            married                 0      M       business     0   \n",
       "361    widow / widower                 2      F        retiree     0   \n",
       "364  civil partnership                 1      F       business     0   \n",
       "376          unmarried                 4      M       employee     0   \n",
       "383  civil partnership                 1      F       business     0   \n",
       "389           divorced                 3      M  civil servant     0   \n",
       "415    widow / widower                 2      F        retiree     0   \n",
       "416  civil partnership                 1      F        retiree     0   \n",
       "421            married                 0      F       employee     0   \n",
       "444    widow / widower                 2      F       employee     1   \n",
       "458  civil partnership                 1      F       business     0   \n",
       "466            married                 0      F        retiree     0   \n",
       "\n",
       "     total_income                                   purpose  \n",
       "12            NaN                         to have a wedding  \n",
       "26            NaN                                 education  \n",
       "29            NaN                    building a real estate  \n",
       "41            NaN                  second-hand car purchase  \n",
       "55            NaN                         to have a wedding  \n",
       "65            NaN  transactions with commercial real estate  \n",
       "67            NaN       purchase of the house for my family  \n",
       "72            NaN  transactions with commercial real estate  \n",
       "82            NaN                                   housing  \n",
       "83            NaN                                   housing  \n",
       "90            NaN                      housing transactions  \n",
       "94            NaN                          having a wedding  \n",
       "96            NaN               buy residential real estate  \n",
       "97            NaN                         profile education  \n",
       "120           NaN                      university education  \n",
       "121           NaN                                       car  \n",
       "135           NaN                                   housing  \n",
       "141           NaN                          wedding ceremony  \n",
       "145           NaN                       building a property  \n",
       "174           NaN                              to own a car  \n",
       "181           NaN       purchase of the house for my family  \n",
       "189           NaN                              to own a car  \n",
       "205           NaN                  buying a second-hand car  \n",
       "220           NaN                         to have a wedding  \n",
       "241           NaN              construction of own property  \n",
       "242           NaN                  purchase of my own house  \n",
       "247           NaN                       going to university  \n",
       "250           NaN                  second-hand car purchase  \n",
       "264           NaN                                  property  \n",
       "278           NaN                                       car  \n",
       "279           NaN          transactions with my real estate  \n",
       "280           NaN                      housing transactions  \n",
       "312           NaN           buying property for renting out  \n",
       "317           NaN                         purchase of a car  \n",
       "320           NaN                  buying a second-hand car  \n",
       "321           NaN                          having a wedding  \n",
       "322           NaN                         to have a wedding  \n",
       "328           NaN                              car purchase  \n",
       "360           NaN           buying property for renting out  \n",
       "361           NaN                                   housing  \n",
       "364           NaN                       going to university  \n",
       "376           NaN                  getting higher education  \n",
       "383           NaN                         to have a wedding  \n",
       "389           NaN                   supplementary education  \n",
       "415           NaN                                   housing  \n",
       "416           NaN                         profile education  \n",
       "421           NaN                         profile education  \n",
       "444           NaN                              to own a car  \n",
       "458           NaN                          wedding ceremony  \n",
       "466           NaN                   supplementary education  "
      ]
     },
     "execution_count": 14,
     "metadata": {},
     "output_type": "execute_result"
    }
   ],
   "source": [
    "# finding the rows where the values are missing because they are probably the same rows to see what they have in common\n",
    "orgnzd_credit_score.loc[orgnzd_credit_score['total_income'].isna()].head(50)"
   ]
  },
  {
   "cell_type": "markdown",
   "metadata": {},
   "source": [
    "It seems that most of the rows have \"secondary education\" in the \"education\" column and 0 in debt column so maybe the clue is there.. lets check"
   ]
  },
  {
   "cell_type": "code",
   "execution_count": 15,
   "metadata": {},
   "outputs": [],
   "source": [
    "# making a new table that contains all the NaN rows\n",
    "credit_score_NaN_rows = orgnzd_credit_score.loc[orgnzd_credit_score['total_income'].isna()]\n",
    "# making a new table that contains all the no NaN rows\n",
    "credit_score_no_NaN = orgnzd_credit_score.loc[orgnzd_credit_score['total_income'].notna()]"
   ]
  },
  {
   "cell_type": "code",
   "execution_count": 16,
   "metadata": {},
   "outputs": [
    {
     "data": {
      "text/plain": [
       "education\n",
       "bachelor's degree       544\n",
       "primary education        21\n",
       "secondary education    1540\n",
       "some college             69\n",
       "Name: education, dtype: int64"
      ]
     },
     "execution_count": 16,
     "metadata": {},
     "output_type": "execute_result"
    }
   ],
   "source": [
    "# grouping the NaN table by the education column to see what kinds are in the table and how much of each there are\n",
    "credit_score_NaN_rows.groupby('education')['education'].count()"
   ]
  },
  {
   "cell_type": "code",
   "execution_count": 17,
   "metadata": {},
   "outputs": [
    {
     "data": {
      "text/plain": [
       "debt\n",
       "0    2004\n",
       "1     170\n",
       "Name: education, dtype: int64"
      ]
     },
     "execution_count": 17,
     "metadata": {},
     "output_type": "execute_result"
    }
   ],
   "source": [
    "# grouping the NaN table by the debt column to see how much 0s are in there\n",
    "credit_score_NaN_rows.groupby('debt')['education'].count()"
   ]
  },
  {
   "cell_type": "code",
   "execution_count": 18,
   "metadata": {},
   "outputs": [
    {
     "data": {
      "text/plain": [
       "5"
      ]
     },
     "execution_count": 18,
     "metadata": {},
     "output_type": "execute_result"
    }
   ],
   "source": [
    "# checking how much categories there are in 'education' column in general table\n",
    "len(orgnzd_credit_score.groupby('education'))"
   ]
  },
  {
   "cell_type": "markdown",
   "metadata": {},
   "source": [
    "Seems 4 out of 5 types of education is part of the NaN table so it (secondary education) is not the constant.\n",
    "\n",
    "Because i cant find a pattern behind the missing values, in my opinion these missing values are MCAR so the Possible reason is some technical error (i thought that maybe it was just left empty and meant by that to be 0 but that is also out of the question since a lot of the NaN rows have employee income types and 92% of them never have been in debt so that doesnt add up)."
   ]
  },
  {
   "cell_type": "markdown",
   "metadata": {},
   "source": [
    "<div style=\"border:solid green 2px; padding: 20px\"> <b>Success:</b><br>\n",
    "    I like the way you have carefully analysed the omissions in the data.</div> "
   ]
  },
  {
   "cell_type": "markdown",
   "metadata": {},
   "source": [
    "<div style=\"border:solid orange 2px; padding: 20px\"> <b>Remarks:</b><br>\n",
    "   You can also use the missingno library to view missing values. I'll leave a link, perhaps you'll be interested:\n",
    "<a>https://github.com/ResidentMario/missingno</a>\n",
    "</div>    "
   ]
  },
  {
   "cell_type": "markdown",
   "metadata": {},
   "source": [
    "### Filling the missing values"
   ]
  },
  {
   "cell_type": "markdown",
   "metadata": {},
   "source": [
    "I will fill the NaNs in total_income based on groups in income_type."
   ]
  },
  {
   "cell_type": "code",
   "execution_count": 19,
   "metadata": {},
   "outputs": [
    {
     "data": {
      "text/html": [
       "<div>\n",
       "<style scoped>\n",
       "    .dataframe tbody tr th:only-of-type {\n",
       "        vertical-align: middle;\n",
       "    }\n",
       "\n",
       "    .dataframe tbody tr th {\n",
       "        vertical-align: top;\n",
       "    }\n",
       "\n",
       "    .dataframe thead tr th {\n",
       "        text-align: left;\n",
       "    }\n",
       "\n",
       "    .dataframe thead tr:last-of-type th {\n",
       "        text-align: right;\n",
       "    }\n",
       "</style>\n",
       "<table border=\"1\" class=\"dataframe\">\n",
       "  <thead>\n",
       "    <tr>\n",
       "      <th></th>\n",
       "      <th>total_income</th>\n",
       "    </tr>\n",
       "    <tr>\n",
       "      <th></th>\n",
       "      <th>count</th>\n",
       "    </tr>\n",
       "    <tr>\n",
       "      <th>income_type</th>\n",
       "      <th></th>\n",
       "    </tr>\n",
       "  </thead>\n",
       "  <tbody>\n",
       "    <tr>\n",
       "      <td>business</td>\n",
       "      <td>4577</td>\n",
       "    </tr>\n",
       "    <tr>\n",
       "      <td>civil servant</td>\n",
       "      <td>1312</td>\n",
       "    </tr>\n",
       "    <tr>\n",
       "      <td>employee</td>\n",
       "      <td>10014</td>\n",
       "    </tr>\n",
       "    <tr>\n",
       "      <td>entrepreneur</td>\n",
       "      <td>1</td>\n",
       "    </tr>\n",
       "    <tr>\n",
       "      <td>paternity / maternity leave</td>\n",
       "      <td>1</td>\n",
       "    </tr>\n",
       "    <tr>\n",
       "      <td>retiree</td>\n",
       "      <td>3443</td>\n",
       "    </tr>\n",
       "    <tr>\n",
       "      <td>student</td>\n",
       "      <td>1</td>\n",
       "    </tr>\n",
       "    <tr>\n",
       "      <td>unemployed</td>\n",
       "      <td>2</td>\n",
       "    </tr>\n",
       "  </tbody>\n",
       "</table>\n",
       "</div>"
      ],
      "text/plain": [
       "                            total_income\n",
       "                                   count\n",
       "income_type                             \n",
       "business                            4577\n",
       "civil servant                       1312\n",
       "employee                           10014\n",
       "entrepreneur                           1\n",
       "paternity / maternity leave            1\n",
       "retiree                             3443\n",
       "student                                1\n",
       "unemployed                             2"
      ]
     },
     "execution_count": 19,
     "metadata": {},
     "output_type": "execute_result"
    }
   ],
   "source": [
    "# grouping the no NaN table by income_type to see how much data i have on each group to make a median/mean of\n",
    "#credit_score_no_NaN.groupby('income_type')['total_income'].count()\n",
    "credit_score_no_NaN.groupby('income_type').agg({'total_income': ['count']})"
   ]
  },
  {
   "cell_type": "markdown",
   "metadata": {},
   "source": [
    "if there is so little count for student and other income groups in the no NaN table, maybe they (students and others) are the majority in the NaN table, lets check:"
   ]
  },
  {
   "cell_type": "code",
   "execution_count": 20,
   "metadata": {},
   "outputs": [
    {
     "data": {
      "text/html": [
       "<div>\n",
       "<style scoped>\n",
       "    .dataframe tbody tr th:only-of-type {\n",
       "        vertical-align: middle;\n",
       "    }\n",
       "\n",
       "    .dataframe tbody tr th {\n",
       "        vertical-align: top;\n",
       "    }\n",
       "\n",
       "    .dataframe thead tr th {\n",
       "        text-align: left;\n",
       "    }\n",
       "\n",
       "    .dataframe thead tr:last-of-type th {\n",
       "        text-align: right;\n",
       "    }\n",
       "</style>\n",
       "<table border=\"1\" class=\"dataframe\">\n",
       "  <thead>\n",
       "    <tr>\n",
       "      <th></th>\n",
       "      <th>income_type</th>\n",
       "    </tr>\n",
       "    <tr>\n",
       "      <th></th>\n",
       "      <th>count</th>\n",
       "    </tr>\n",
       "    <tr>\n",
       "      <th>income_type</th>\n",
       "      <th></th>\n",
       "    </tr>\n",
       "  </thead>\n",
       "  <tbody>\n",
       "    <tr>\n",
       "      <td>business</td>\n",
       "      <td>508</td>\n",
       "    </tr>\n",
       "    <tr>\n",
       "      <td>civil servant</td>\n",
       "      <td>147</td>\n",
       "    </tr>\n",
       "    <tr>\n",
       "      <td>employee</td>\n",
       "      <td>1105</td>\n",
       "    </tr>\n",
       "    <tr>\n",
       "      <td>entrepreneur</td>\n",
       "      <td>1</td>\n",
       "    </tr>\n",
       "    <tr>\n",
       "      <td>retiree</td>\n",
       "      <td>413</td>\n",
       "    </tr>\n",
       "  </tbody>\n",
       "</table>\n",
       "</div>"
      ],
      "text/plain": [
       "              income_type\n",
       "                    count\n",
       "income_type              \n",
       "business              508\n",
       "civil servant         147\n",
       "employee             1105\n",
       "entrepreneur            1\n",
       "retiree               413"
      ]
     },
     "execution_count": 20,
     "metadata": {},
     "output_type": "execute_result"
    }
   ],
   "source": [
    "# checking the count of each group of income_type ib the NaN table\n",
    "#credit_score_NaN_rows.groupby('income_type')['income_type'].count()\n",
    "# credit_score_NaN_rows['income_type'].value_counts()\n",
    "credit_score_NaN_rows.groupby('income_type').agg({'income_type': ['count']})"
   ]
  },
  {
   "cell_type": "markdown",
   "metadata": {},
   "source": [
    "(This proved not to be the case, there is no student, unemployed, paternity / maternity leave, and only 1 entrepreneur in the NaN table, so the theory about them being the reason for the NaNs is out of the window)\n",
    "\n",
    "Since there is not enough data about [student, unemployed, paternity / maternity leave, entrepreneur and civil servant] I think i will fill the data only for [business, employee, retiree] since they are the more significant part of the data.\n",
    "\n",
    "Based on the info from the describe method, there are outliers in total_income column so ill fill with median and not mean."
   ]
  },
  {
   "cell_type": "markdown",
   "metadata": {},
   "source": [
    "<div style=\"border:solid green 2px; padding: 20px\"> <b>Success:</b><br>\n",
    "    It is correct that you chose the median to fill in the missing values 👍</div>       "
   ]
  },
  {
   "cell_type": "markdown",
   "metadata": {},
   "source": [
    "Since if there is duplicate rows it will skew the calculations of the median, i will first check for them in the table ill use."
   ]
  },
  {
   "cell_type": "code",
   "execution_count": 21,
   "metadata": {},
   "outputs": [
    {
     "data": {
      "text/plain": [
       "0"
      ]
     },
     "execution_count": 21,
     "metadata": {},
     "output_type": "execute_result"
    }
   ],
   "source": [
    "# checking for duplicates in the table by which i calculate the medians to fill the NaNs.\n",
    "credit_score_no_NaN.duplicated().sum()"
   ]
  },
  {
   "cell_type": "markdown",
   "metadata": {},
   "source": [
    "thankfully seems to be no row duplicates in the table i will calculate the median by, lets check if there is a need for Stemming or Lemmatization for the income_type column (and others while we're at it) in the general table:"
   ]
  },
  {
   "cell_type": "code",
   "execution_count": 22,
   "metadata": {},
   "outputs": [
    {
     "data": {
      "text/html": [
       "<div>\n",
       "<style scoped>\n",
       "    .dataframe tbody tr th:only-of-type {\n",
       "        vertical-align: middle;\n",
       "    }\n",
       "\n",
       "    .dataframe tbody tr th {\n",
       "        vertical-align: top;\n",
       "    }\n",
       "\n",
       "    .dataframe thead tr th {\n",
       "        text-align: left;\n",
       "    }\n",
       "\n",
       "    .dataframe thead tr:last-of-type th {\n",
       "        text-align: right;\n",
       "    }\n",
       "</style>\n",
       "<table border=\"1\" class=\"dataframe\">\n",
       "  <thead>\n",
       "    <tr>\n",
       "      <th></th>\n",
       "      <th>income_type</th>\n",
       "    </tr>\n",
       "    <tr>\n",
       "      <th></th>\n",
       "      <th>count</th>\n",
       "    </tr>\n",
       "    <tr>\n",
       "      <th>income_type</th>\n",
       "      <th></th>\n",
       "    </tr>\n",
       "  </thead>\n",
       "  <tbody>\n",
       "    <tr>\n",
       "      <td>business</td>\n",
       "      <td>5085</td>\n",
       "    </tr>\n",
       "    <tr>\n",
       "      <td>civil servant</td>\n",
       "      <td>1459</td>\n",
       "    </tr>\n",
       "    <tr>\n",
       "      <td>employee</td>\n",
       "      <td>11119</td>\n",
       "    </tr>\n",
       "    <tr>\n",
       "      <td>entrepreneur</td>\n",
       "      <td>2</td>\n",
       "    </tr>\n",
       "    <tr>\n",
       "      <td>paternity / maternity leave</td>\n",
       "      <td>1</td>\n",
       "    </tr>\n",
       "    <tr>\n",
       "      <td>retiree</td>\n",
       "      <td>3856</td>\n",
       "    </tr>\n",
       "    <tr>\n",
       "      <td>student</td>\n",
       "      <td>1</td>\n",
       "    </tr>\n",
       "    <tr>\n",
       "      <td>unemployed</td>\n",
       "      <td>2</td>\n",
       "    </tr>\n",
       "  </tbody>\n",
       "</table>\n",
       "</div>"
      ],
      "text/plain": [
       "                            income_type\n",
       "                                  count\n",
       "income_type                            \n",
       "business                           5085\n",
       "civil servant                      1459\n",
       "employee                          11119\n",
       "entrepreneur                          2\n",
       "paternity / maternity leave           1\n",
       "retiree                            3856\n",
       "student                               1\n",
       "unemployed                            2"
      ]
     },
     "execution_count": 22,
     "metadata": {},
     "output_type": "execute_result"
    }
   ],
   "source": [
    "# orgnzd_credit_score['income_type'].value_counts()#.sum()\n",
    "orgnzd_credit_score.groupby('income_type').agg({'income_type': ['count']})"
   ]
  },
  {
   "cell_type": "markdown",
   "metadata": {},
   "source": [
    "I have only 2 entrepreneur rows in general and 1 of them is NaN. So ill think what to do with it.."
   ]
  },
  {
   "cell_type": "code",
   "execution_count": 23,
   "metadata": {},
   "outputs": [
    {
     "data": {
      "text/html": [
       "<div>\n",
       "<style scoped>\n",
       "    .dataframe tbody tr th:only-of-type {\n",
       "        vertical-align: middle;\n",
       "    }\n",
       "\n",
       "    .dataframe tbody tr th {\n",
       "        vertical-align: top;\n",
       "    }\n",
       "\n",
       "    .dataframe thead tr th {\n",
       "        text-align: left;\n",
       "    }\n",
       "\n",
       "    .dataframe thead tr:last-of-type th {\n",
       "        text-align: right;\n",
       "    }\n",
       "</style>\n",
       "<table border=\"1\" class=\"dataframe\">\n",
       "  <thead>\n",
       "    <tr>\n",
       "      <th></th>\n",
       "      <th>education</th>\n",
       "    </tr>\n",
       "    <tr>\n",
       "      <th></th>\n",
       "      <th>count</th>\n",
       "    </tr>\n",
       "    <tr>\n",
       "      <th>education</th>\n",
       "      <th></th>\n",
       "    </tr>\n",
       "  </thead>\n",
       "  <tbody>\n",
       "    <tr>\n",
       "      <td>bachelor's degree</td>\n",
       "      <td>5260</td>\n",
       "    </tr>\n",
       "    <tr>\n",
       "      <td>graduate degree</td>\n",
       "      <td>6</td>\n",
       "    </tr>\n",
       "    <tr>\n",
       "      <td>primary education</td>\n",
       "      <td>282</td>\n",
       "    </tr>\n",
       "    <tr>\n",
       "      <td>secondary education</td>\n",
       "      <td>15233</td>\n",
       "    </tr>\n",
       "    <tr>\n",
       "      <td>some college</td>\n",
       "      <td>744</td>\n",
       "    </tr>\n",
       "  </tbody>\n",
       "</table>\n",
       "</div>"
      ],
      "text/plain": [
       "                    education\n",
       "                        count\n",
       "education                    \n",
       "bachelor's degree        5260\n",
       "graduate degree             6\n",
       "primary education         282\n",
       "secondary education     15233\n",
       "some college              744"
      ]
     },
     "execution_count": 23,
     "metadata": {},
     "output_type": "execute_result"
    }
   ],
   "source": [
    "# orgnzd_credit_score['education'].value_counts()#.sum()\n",
    "orgnzd_credit_score.groupby('education').agg({'education': ['count']})"
   ]
  },
  {
   "cell_type": "code",
   "execution_count": 24,
   "metadata": {},
   "outputs": [
    {
     "data": {
      "text/html": [
       "<div>\n",
       "<style scoped>\n",
       "    .dataframe tbody tr th:only-of-type {\n",
       "        vertical-align: middle;\n",
       "    }\n",
       "\n",
       "    .dataframe tbody tr th {\n",
       "        vertical-align: top;\n",
       "    }\n",
       "\n",
       "    .dataframe thead tr th {\n",
       "        text-align: left;\n",
       "    }\n",
       "\n",
       "    .dataframe thead tr:last-of-type th {\n",
       "        text-align: right;\n",
       "    }\n",
       "</style>\n",
       "<table border=\"1\" class=\"dataframe\">\n",
       "  <thead>\n",
       "    <tr>\n",
       "      <th></th>\n",
       "      <th>family_status</th>\n",
       "    </tr>\n",
       "    <tr>\n",
       "      <th></th>\n",
       "      <th>count</th>\n",
       "    </tr>\n",
       "    <tr>\n",
       "      <th>family_status</th>\n",
       "      <th></th>\n",
       "    </tr>\n",
       "  </thead>\n",
       "  <tbody>\n",
       "    <tr>\n",
       "      <td>civil partnership</td>\n",
       "      <td>4177</td>\n",
       "    </tr>\n",
       "    <tr>\n",
       "      <td>divorced</td>\n",
       "      <td>1195</td>\n",
       "    </tr>\n",
       "    <tr>\n",
       "      <td>married</td>\n",
       "      <td>12380</td>\n",
       "    </tr>\n",
       "    <tr>\n",
       "      <td>unmarried</td>\n",
       "      <td>2813</td>\n",
       "    </tr>\n",
       "    <tr>\n",
       "      <td>widow / widower</td>\n",
       "      <td>960</td>\n",
       "    </tr>\n",
       "  </tbody>\n",
       "</table>\n",
       "</div>"
      ],
      "text/plain": [
       "                  family_status\n",
       "                          count\n",
       "family_status                  \n",
       "civil partnership          4177\n",
       "divorced                   1195\n",
       "married                   12380\n",
       "unmarried                  2813\n",
       "widow / widower             960"
      ]
     },
     "execution_count": 24,
     "metadata": {},
     "output_type": "execute_result"
    }
   ],
   "source": [
    "# orgnzd_credit_score['family_status'].value_counts()#.sum()\n",
    "orgnzd_credit_score.groupby('family_status').agg({'family_status': ['count']})"
   ]
  },
  {
   "cell_type": "code",
   "execution_count": 25,
   "metadata": {},
   "outputs": [
    {
     "data": {
      "text/html": [
       "<div>\n",
       "<style scoped>\n",
       "    .dataframe tbody tr th:only-of-type {\n",
       "        vertical-align: middle;\n",
       "    }\n",
       "\n",
       "    .dataframe tbody tr th {\n",
       "        vertical-align: top;\n",
       "    }\n",
       "\n",
       "    .dataframe thead tr th {\n",
       "        text-align: left;\n",
       "    }\n",
       "\n",
       "    .dataframe thead tr:last-of-type th {\n",
       "        text-align: right;\n",
       "    }\n",
       "</style>\n",
       "<table border=\"1\" class=\"dataframe\">\n",
       "  <thead>\n",
       "    <tr>\n",
       "      <th></th>\n",
       "      <th>gender</th>\n",
       "    </tr>\n",
       "    <tr>\n",
       "      <th></th>\n",
       "      <th>count</th>\n",
       "    </tr>\n",
       "    <tr>\n",
       "      <th>gender</th>\n",
       "      <th></th>\n",
       "    </tr>\n",
       "  </thead>\n",
       "  <tbody>\n",
       "    <tr>\n",
       "      <td>F</td>\n",
       "      <td>14236</td>\n",
       "    </tr>\n",
       "    <tr>\n",
       "      <td>M</td>\n",
       "      <td>7288</td>\n",
       "    </tr>\n",
       "    <tr>\n",
       "      <td>XNA</td>\n",
       "      <td>1</td>\n",
       "    </tr>\n",
       "  </tbody>\n",
       "</table>\n",
       "</div>"
      ],
      "text/plain": [
       "       gender\n",
       "        count\n",
       "gender       \n",
       "F       14236\n",
       "M        7288\n",
       "XNA         1"
      ]
     },
     "execution_count": 25,
     "metadata": {},
     "output_type": "execute_result"
    }
   ],
   "source": [
    "# orgnzd_credit_score['gender'].value_counts()#.sum()\n",
    "orgnzd_credit_score.groupby('gender').agg({'gender': ['count']})"
   ]
  },
  {
   "cell_type": "markdown",
   "metadata": {},
   "source": [
    "XNA might be because of a third gender or incorrect information while data entry. Since there is only 1 and i wont do any gender based statistics, lets change XNA to M."
   ]
  },
  {
   "cell_type": "code",
   "execution_count": 26,
   "metadata": {},
   "outputs": [],
   "source": [
    "orgnzd_credit_score.loc[orgnzd_credit_score['gender'] == 'XNA', 'gender'] = 'M'"
   ]
  },
  {
   "cell_type": "markdown",
   "metadata": {},
   "source": [
    "<div style=\"border:solid green 2px; padding: 20px\"> <b>Success:</b><br>\n",
    "  Well done for fixing 'XNA' gender in your project.</div>`"
   ]
  },
  {
   "cell_type": "code",
   "execution_count": 27,
   "metadata": {},
   "outputs": [
    {
     "data": {
      "text/html": [
       "<div>\n",
       "<style scoped>\n",
       "    .dataframe tbody tr th:only-of-type {\n",
       "        vertical-align: middle;\n",
       "    }\n",
       "\n",
       "    .dataframe tbody tr th {\n",
       "        vertical-align: top;\n",
       "    }\n",
       "\n",
       "    .dataframe thead tr th {\n",
       "        text-align: left;\n",
       "    }\n",
       "\n",
       "    .dataframe thead tr:last-of-type th {\n",
       "        text-align: right;\n",
       "    }\n",
       "</style>\n",
       "<table border=\"1\" class=\"dataframe\">\n",
       "  <thead>\n",
       "    <tr>\n",
       "      <th></th>\n",
       "      <th>gender</th>\n",
       "    </tr>\n",
       "    <tr>\n",
       "      <th></th>\n",
       "      <th>count</th>\n",
       "    </tr>\n",
       "    <tr>\n",
       "      <th>gender</th>\n",
       "      <th></th>\n",
       "    </tr>\n",
       "  </thead>\n",
       "  <tbody>\n",
       "    <tr>\n",
       "      <td>F</td>\n",
       "      <td>14236</td>\n",
       "    </tr>\n",
       "    <tr>\n",
       "      <td>M</td>\n",
       "      <td>7289</td>\n",
       "    </tr>\n",
       "  </tbody>\n",
       "</table>\n",
       "</div>"
      ],
      "text/plain": [
       "       gender\n",
       "        count\n",
       "gender       \n",
       "F       14236\n",
       "M        7289"
      ]
     },
     "execution_count": 27,
     "metadata": {},
     "output_type": "execute_result"
    }
   ],
   "source": [
    "orgnzd_credit_score.groupby('gender').agg({'gender': ['count']})"
   ]
  },
  {
   "cell_type": "code",
   "execution_count": 28,
   "metadata": {},
   "outputs": [
    {
     "data": {
      "text/html": [
       "<div>\n",
       "<style scoped>\n",
       "    .dataframe tbody tr th:only-of-type {\n",
       "        vertical-align: middle;\n",
       "    }\n",
       "\n",
       "    .dataframe tbody tr th {\n",
       "        vertical-align: top;\n",
       "    }\n",
       "\n",
       "    .dataframe thead tr th {\n",
       "        text-align: left;\n",
       "    }\n",
       "\n",
       "    .dataframe thead tr:last-of-type th {\n",
       "        text-align: right;\n",
       "    }\n",
       "</style>\n",
       "<table border=\"1\" class=\"dataframe\">\n",
       "  <thead>\n",
       "    <tr>\n",
       "      <th></th>\n",
       "      <th>purpose</th>\n",
       "    </tr>\n",
       "    <tr>\n",
       "      <th></th>\n",
       "      <th>count</th>\n",
       "    </tr>\n",
       "    <tr>\n",
       "      <th>purpose</th>\n",
       "      <th></th>\n",
       "    </tr>\n",
       "  </thead>\n",
       "  <tbody>\n",
       "    <tr>\n",
       "      <td>building a property</td>\n",
       "      <td>620</td>\n",
       "    </tr>\n",
       "    <tr>\n",
       "      <td>building a real estate</td>\n",
       "      <td>626</td>\n",
       "    </tr>\n",
       "    <tr>\n",
       "      <td>buy commercial real estate</td>\n",
       "      <td>664</td>\n",
       "    </tr>\n",
       "    <tr>\n",
       "      <td>buy real estate</td>\n",
       "      <td>624</td>\n",
       "    </tr>\n",
       "    <tr>\n",
       "      <td>buy residential real estate</td>\n",
       "      <td>607</td>\n",
       "    </tr>\n",
       "    <tr>\n",
       "      <td>buying a second-hand car</td>\n",
       "      <td>479</td>\n",
       "    </tr>\n",
       "    <tr>\n",
       "      <td>buying my own car</td>\n",
       "      <td>505</td>\n",
       "    </tr>\n",
       "    <tr>\n",
       "      <td>buying property for renting out</td>\n",
       "      <td>653</td>\n",
       "    </tr>\n",
       "    <tr>\n",
       "      <td>car</td>\n",
       "      <td>495</td>\n",
       "    </tr>\n",
       "    <tr>\n",
       "      <td>car purchase</td>\n",
       "      <td>462</td>\n",
       "    </tr>\n",
       "    <tr>\n",
       "      <td>cars</td>\n",
       "      <td>478</td>\n",
       "    </tr>\n",
       "    <tr>\n",
       "      <td>construction of own property</td>\n",
       "      <td>635</td>\n",
       "    </tr>\n",
       "    <tr>\n",
       "      <td>education</td>\n",
       "      <td>447</td>\n",
       "    </tr>\n",
       "    <tr>\n",
       "      <td>getting an education</td>\n",
       "      <td>443</td>\n",
       "    </tr>\n",
       "    <tr>\n",
       "      <td>getting higher education</td>\n",
       "      <td>426</td>\n",
       "    </tr>\n",
       "    <tr>\n",
       "      <td>going to university</td>\n",
       "      <td>496</td>\n",
       "    </tr>\n",
       "    <tr>\n",
       "      <td>having a wedding</td>\n",
       "      <td>777</td>\n",
       "    </tr>\n",
       "    <tr>\n",
       "      <td>housing</td>\n",
       "      <td>647</td>\n",
       "    </tr>\n",
       "    <tr>\n",
       "      <td>housing renovation</td>\n",
       "      <td>612</td>\n",
       "    </tr>\n",
       "    <tr>\n",
       "      <td>housing transactions</td>\n",
       "      <td>653</td>\n",
       "    </tr>\n",
       "    <tr>\n",
       "      <td>profile education</td>\n",
       "      <td>436</td>\n",
       "    </tr>\n",
       "    <tr>\n",
       "      <td>property</td>\n",
       "      <td>634</td>\n",
       "    </tr>\n",
       "    <tr>\n",
       "      <td>purchase of a car</td>\n",
       "      <td>455</td>\n",
       "    </tr>\n",
       "    <tr>\n",
       "      <td>purchase of my own house</td>\n",
       "      <td>620</td>\n",
       "    </tr>\n",
       "    <tr>\n",
       "      <td>purchase of the house</td>\n",
       "      <td>647</td>\n",
       "    </tr>\n",
       "    <tr>\n",
       "      <td>purchase of the house for my family</td>\n",
       "      <td>641</td>\n",
       "    </tr>\n",
       "    <tr>\n",
       "      <td>real estate transactions</td>\n",
       "      <td>676</td>\n",
       "    </tr>\n",
       "    <tr>\n",
       "      <td>second-hand car purchase</td>\n",
       "      <td>489</td>\n",
       "    </tr>\n",
       "    <tr>\n",
       "      <td>supplementary education</td>\n",
       "      <td>462</td>\n",
       "    </tr>\n",
       "    <tr>\n",
       "      <td>to become educated</td>\n",
       "      <td>412</td>\n",
       "    </tr>\n",
       "    <tr>\n",
       "      <td>to buy a car</td>\n",
       "      <td>472</td>\n",
       "    </tr>\n",
       "    <tr>\n",
       "      <td>to get a supplementary education</td>\n",
       "      <td>447</td>\n",
       "    </tr>\n",
       "    <tr>\n",
       "      <td>to have a wedding</td>\n",
       "      <td>774</td>\n",
       "    </tr>\n",
       "    <tr>\n",
       "      <td>to own a car</td>\n",
       "      <td>480</td>\n",
       "    </tr>\n",
       "    <tr>\n",
       "      <td>transactions with commercial real estate</td>\n",
       "      <td>651</td>\n",
       "    </tr>\n",
       "    <tr>\n",
       "      <td>transactions with my real estate</td>\n",
       "      <td>630</td>\n",
       "    </tr>\n",
       "    <tr>\n",
       "      <td>university education</td>\n",
       "      <td>453</td>\n",
       "    </tr>\n",
       "    <tr>\n",
       "      <td>wedding ceremony</td>\n",
       "      <td>797</td>\n",
       "    </tr>\n",
       "  </tbody>\n",
       "</table>\n",
       "</div>"
      ],
      "text/plain": [
       "                                         purpose\n",
       "                                           count\n",
       "purpose                                         \n",
       "building a property                          620\n",
       "building a real estate                       626\n",
       "buy commercial real estate                   664\n",
       "buy real estate                              624\n",
       "buy residential real estate                  607\n",
       "buying a second-hand car                     479\n",
       "buying my own car                            505\n",
       "buying property for renting out              653\n",
       "car                                          495\n",
       "car purchase                                 462\n",
       "cars                                         478\n",
       "construction of own property                 635\n",
       "education                                    447\n",
       "getting an education                         443\n",
       "getting higher education                     426\n",
       "going to university                          496\n",
       "having a wedding                             777\n",
       "housing                                      647\n",
       "housing renovation                           612\n",
       "housing transactions                         653\n",
       "profile education                            436\n",
       "property                                     634\n",
       "purchase of a car                            455\n",
       "purchase of my own house                     620\n",
       "purchase of the house                        647\n",
       "purchase of the house for my family          641\n",
       "real estate transactions                     676\n",
       "second-hand car purchase                     489\n",
       "supplementary education                      462\n",
       "to become educated                           412\n",
       "to buy a car                                 472\n",
       "to get a supplementary education             447\n",
       "to have a wedding                            774\n",
       "to own a car                                 480\n",
       "transactions with commercial real estate     651\n",
       "transactions with my real estate             630\n",
       "university education                         453\n",
       "wedding ceremony                             797"
      ]
     },
     "execution_count": 28,
     "metadata": {},
     "output_type": "execute_result"
    }
   ],
   "source": [
    "# orgnzd_credit_score['purpose'].value_counts()#.sum()\n",
    "orgnzd_credit_score.groupby('purpose').agg({'purpose': ['count']})"
   ]
  },
  {
   "cell_type": "markdown",
   "metadata": {},
   "source": [
    "Seems that there are duplicates in the purpose column, but since it doesnt affect any median calculasion and filling missing values, ill first finish filling the missing values and then continue handling the duplicates."
   ]
  },
  {
   "cell_type": "code",
   "execution_count": 29,
   "metadata": {},
   "outputs": [
    {
     "data": {
      "text/html": [
       "<div>\n",
       "<style scoped>\n",
       "    .dataframe tbody tr th:only-of-type {\n",
       "        vertical-align: middle;\n",
       "    }\n",
       "\n",
       "    .dataframe tbody tr th {\n",
       "        vertical-align: top;\n",
       "    }\n",
       "\n",
       "    .dataframe thead tr th {\n",
       "        text-align: left;\n",
       "    }\n",
       "\n",
       "    .dataframe thead tr:last-of-type th {\n",
       "        text-align: right;\n",
       "    }\n",
       "</style>\n",
       "<table border=\"1\" class=\"dataframe\">\n",
       "  <thead>\n",
       "    <tr>\n",
       "      <th></th>\n",
       "      <th colspan=\"2\" halign=\"left\">total_income</th>\n",
       "    </tr>\n",
       "    <tr>\n",
       "      <th></th>\n",
       "      <th>median</th>\n",
       "      <th>count</th>\n",
       "    </tr>\n",
       "    <tr>\n",
       "      <th>income_type</th>\n",
       "      <th></th>\n",
       "      <th></th>\n",
       "    </tr>\n",
       "  </thead>\n",
       "  <tbody>\n",
       "    <tr>\n",
       "      <td>business</td>\n",
       "      <td>27577.2720</td>\n",
       "      <td>4577</td>\n",
       "    </tr>\n",
       "    <tr>\n",
       "      <td>civil servant</td>\n",
       "      <td>24071.6695</td>\n",
       "      <td>1312</td>\n",
       "    </tr>\n",
       "    <tr>\n",
       "      <td>employee</td>\n",
       "      <td>22815.1035</td>\n",
       "      <td>10014</td>\n",
       "    </tr>\n",
       "    <tr>\n",
       "      <td>entrepreneur</td>\n",
       "      <td>79866.1030</td>\n",
       "      <td>1</td>\n",
       "    </tr>\n",
       "    <tr>\n",
       "      <td>paternity / maternity leave</td>\n",
       "      <td>8612.6610</td>\n",
       "      <td>1</td>\n",
       "    </tr>\n",
       "    <tr>\n",
       "      <td>retiree</td>\n",
       "      <td>18962.3180</td>\n",
       "      <td>3443</td>\n",
       "    </tr>\n",
       "    <tr>\n",
       "      <td>student</td>\n",
       "      <td>15712.2600</td>\n",
       "      <td>1</td>\n",
       "    </tr>\n",
       "    <tr>\n",
       "      <td>unemployed</td>\n",
       "      <td>21014.3605</td>\n",
       "      <td>2</td>\n",
       "    </tr>\n",
       "  </tbody>\n",
       "</table>\n",
       "</div>"
      ],
      "text/plain": [
       "                            total_income       \n",
       "                                  median  count\n",
       "income_type                                    \n",
       "business                      27577.2720   4577\n",
       "civil servant                 24071.6695   1312\n",
       "employee                      22815.1035  10014\n",
       "entrepreneur                  79866.1030      1\n",
       "paternity / maternity leave    8612.6610      1\n",
       "retiree                       18962.3180   3443\n",
       "student                       15712.2600      1\n",
       "unemployed                    21014.3605      2"
      ]
     },
     "execution_count": 29,
     "metadata": {},
     "output_type": "execute_result"
    }
   ],
   "source": [
    "# finding total_income median for each (relevant to fill) income_type.\n",
    "total_income_median = credit_score_no_NaN.groupby('income_type')['total_income'].median()\n",
    "# making a variable for each.\n",
    "business_income_median = total_income_median['business']\n",
    "employee_income_median = total_income_median['employee']\n",
    "retiree_income_median = total_income_median['retiree']\n",
    "# I was very hesitant about adding the 'civil servant' group because there is only 1312 of them \n",
    "# but since it is the rest of the nulls in the column i decided to add it too.\n",
    "civil_servant_income_median = total_income_median['civil servant']\n",
    "# this is to make the pretty table (the count is to see clearly which income type are not relevant for medians) :P\n",
    "total_income_medians = credit_score_no_NaN.groupby('income_type').agg({'total_income': ['median', 'count']})\n",
    "total_income_medians"
   ]
  },
  {
   "cell_type": "code",
   "execution_count": 30,
   "metadata": {},
   "outputs": [
    {
     "data": {
      "text/html": [
       "<div>\n",
       "<style scoped>\n",
       "    .dataframe tbody tr th:only-of-type {\n",
       "        vertical-align: middle;\n",
       "    }\n",
       "\n",
       "    .dataframe tbody tr th {\n",
       "        vertical-align: top;\n",
       "    }\n",
       "\n",
       "    .dataframe thead tr th {\n",
       "        text-align: left;\n",
       "    }\n",
       "\n",
       "    .dataframe thead tr:last-of-type th {\n",
       "        text-align: right;\n",
       "    }\n",
       "</style>\n",
       "<table border=\"1\" class=\"dataframe\">\n",
       "  <thead>\n",
       "    <tr>\n",
       "      <th></th>\n",
       "      <th colspan=\"2\" halign=\"left\">days_employed</th>\n",
       "    </tr>\n",
       "    <tr>\n",
       "      <th></th>\n",
       "      <th>median</th>\n",
       "      <th>count</th>\n",
       "    </tr>\n",
       "    <tr>\n",
       "      <th>income_type</th>\n",
       "      <th></th>\n",
       "      <th></th>\n",
       "    </tr>\n",
       "  </thead>\n",
       "  <tbody>\n",
       "    <tr>\n",
       "      <td>business</td>\n",
       "      <td>1547.382223</td>\n",
       "      <td>4577</td>\n",
       "    </tr>\n",
       "    <tr>\n",
       "      <td>civil servant</td>\n",
       "      <td>2689.368353</td>\n",
       "      <td>1312</td>\n",
       "    </tr>\n",
       "    <tr>\n",
       "      <td>employee</td>\n",
       "      <td>1574.202821</td>\n",
       "      <td>10014</td>\n",
       "    </tr>\n",
       "    <tr>\n",
       "      <td>entrepreneur</td>\n",
       "      <td>520.848083</td>\n",
       "      <td>1</td>\n",
       "    </tr>\n",
       "    <tr>\n",
       "      <td>paternity / maternity leave</td>\n",
       "      <td>3296.759962</td>\n",
       "      <td>1</td>\n",
       "    </tr>\n",
       "    <tr>\n",
       "      <td>retiree</td>\n",
       "      <td>365213.306266</td>\n",
       "      <td>3443</td>\n",
       "    </tr>\n",
       "    <tr>\n",
       "      <td>student</td>\n",
       "      <td>578.751554</td>\n",
       "      <td>1</td>\n",
       "    </tr>\n",
       "    <tr>\n",
       "      <td>unemployed</td>\n",
       "      <td>366413.652744</td>\n",
       "      <td>2</td>\n",
       "    </tr>\n",
       "  </tbody>\n",
       "</table>\n",
       "</div>"
      ],
      "text/plain": [
       "                             days_employed       \n",
       "                                    median  count\n",
       "income_type                                      \n",
       "business                       1547.382223   4577\n",
       "civil servant                  2689.368353   1312\n",
       "employee                       1574.202821  10014\n",
       "entrepreneur                    520.848083      1\n",
       "paternity / maternity leave    3296.759962      1\n",
       "retiree                      365213.306266   3443\n",
       "student                         578.751554      1\n",
       "unemployed                   366413.652744      2"
      ]
     },
     "execution_count": 30,
     "metadata": {},
     "output_type": "execute_result"
    }
   ],
   "source": [
    "# finding days_employed median for each (relevant to fill) income_type.\n",
    "days_employed_median = credit_score_no_NaN.groupby('income_type')['days_employed'].median()\n",
    "# making a variable for each.\n",
    "business_employed_median = days_employed_median['business']\n",
    "employee_employed_median = days_employed_median['employee']\n",
    "retiree_employed_median = days_employed_median['retiree']\n",
    "# I was very hesitant about adding the 'civil servant' group because there is only 1312 of them \n",
    "# but since it is the rest of the nulls in the column i decided to add it too.\n",
    "civil_servant_employed_median = days_employed_median['civil servant']\n",
    "# this is to make the pretty table (the count is to see clearly which income type are not relevant for medians) :P\n",
    "days_employed_medians = credit_score_no_NaN.groupby('income_type').agg({'days_employed': ['median', 'count']})\n",
    "days_employed_medians"
   ]
  },
  {
   "cell_type": "markdown",
   "metadata": {},
   "source": [
    "<div style=\"border:solid green 2px; padding: 20px\"> <b>Success:</b><br>\n",
    "    Well done for being so thorough about handling missing values. You did a great job!</div>       "
   ]
  },
  {
   "cell_type": "markdown",
   "metadata": {},
   "source": [
    "#### filling the missing values in the general table by income_type"
   ]
  },
  {
   "cell_type": "code",
   "execution_count": 31,
   "metadata": {},
   "outputs": [
    {
     "data": {
      "text/plain": [
       "2174"
      ]
     },
     "execution_count": 31,
     "metadata": {},
     "output_type": "execute_result"
    }
   ],
   "source": [
    "# checking how much nulls i have in total_income before filling them\n",
    "orgnzd_credit_score['total_income'].isna().sum()"
   ]
  },
  {
   "cell_type": "code",
   "execution_count": 32,
   "metadata": {},
   "outputs": [
    {
     "data": {
      "text/plain": [
       "2174"
      ]
     },
     "execution_count": 32,
     "metadata": {},
     "output_type": "execute_result"
    }
   ],
   "source": [
    "# checking how much nulls i have in days_employed before filling them\n",
    "orgnzd_credit_score['days_employed'].isna().sum()"
   ]
  },
  {
   "cell_type": "code",
   "execution_count": 33,
   "metadata": {},
   "outputs": [
    {
     "data": {
      "text/plain": [
       "1"
      ]
     },
     "execution_count": 33,
     "metadata": {},
     "output_type": "execute_result"
    }
   ],
   "source": [
    "# Still pretty hesitant about filling civil servant by their own median, but adding them\n",
    "income_types = ['business', 'civil servant', 'employee', 'retiree']\n",
    "median_income_list = [business_income_median, civil_servant_income_median, employee_income_median, retiree_income_median]\n",
    "median_employed_list = [business_employed_median, civil_servant_employed_median, employee_employed_median, retiree_employed_median]\n",
    "\n",
    "def filling_nans(data, income_list, column1, column2, median_list):\n",
    "    count = 0\n",
    "    for i in income_list:\n",
    "        mask = (data[column1] == i)\n",
    "        data.loc[mask, column2] = data.loc[mask, column2].fillna(median_list[count])\n",
    "        #the one below was to use on the NaN table until i found out about the current one\n",
    "        #data.at[data[column1] == i, column2] = median_list[count]\n",
    "        count += 1\n",
    "\n",
    "filling_nans(orgnzd_credit_score, income_types, 'income_type', 'total_income', median_income_list)\n",
    "filling_nans(orgnzd_credit_score, income_types, 'income_type', 'days_employed', median_employed_list)\n",
    "\n",
    "# checking how much nulls i have in total_income after filling them\n",
    "orgnzd_credit_score['total_income'].isna().sum()"
   ]
  },
  {
   "cell_type": "markdown",
   "metadata": {},
   "source": [
    "<div style=\"border:solid green 2px; padding: 20px\"> <b>Success:</b><br>\n",
    "    Thank you for your bright idea and out-of-the-box approach!\n",
    "\n",
    "</div> "
   ]
  },
  {
   "cell_type": "markdown",
   "metadata": {},
   "source": [
    "<div style=\"border:solid orange 2px; padding: 20px\"> <b>Remarks:</b><br>\n",
    "    To simplify the work you can replace the missing values with, for example, median income depending on <code>income_type</code> and <code>education_id</code> like this:\n",
    "   <code> data['total_income'] = data['total_income'].fillna(data.groupby(['education_id', 'income_type'])['total_income'].transform('median')) </code></div>   "
   ]
  },
  {
   "cell_type": "markdown",
   "metadata": {},
   "source": [
    "<div class=\"alert alert-info\" style=\"border:solid blue 2px; padding: 20px\">\n",
    "    You mean that i can do this instead of the function right?\n",
    "    and also why group by education, and how does it work when grouping by 2 parameters?"
   ]
  },
  {
   "cell_type": "markdown",
   "metadata": {},
   "source": [
    "<div style=\"border:solid orange 2px; padding: 20px\"> <b>Remarks V2:</b><br>\n",
    "   \n",
    "   Yes, you can use this method in your projects. It helps you group the data by two parameters - `'education_id'` and `'income_type'` (assuming that income depends on education and income type) and find the median income from the grouped data. This helps increase the accuracy of the calculations.</div>   "
   ]
  },
  {
   "cell_type": "markdown",
   "metadata": {},
   "source": [
    "<div class=\"alert alert-info\" style=\"border:solid blue 2px; padding: 20px\">\n",
    "   ok, got it, hope its ok, that since i am already behind everybody on the curriculum and its only a remark ill leave it as is."
   ]
  },
  {
   "cell_type": "code",
   "execution_count": 34,
   "metadata": {},
   "outputs": [
    {
     "data": {
      "text/plain": [
       "1"
      ]
     },
     "execution_count": 34,
     "metadata": {},
     "output_type": "execute_result"
    }
   ],
   "source": [
    "# checking how much nulls i have in days_employed after filling them\n",
    "orgnzd_credit_score['days_employed'].isna().sum()"
   ]
  },
  {
   "cell_type": "markdown",
   "metadata": {},
   "source": [
    "The (148 ramaining NaNs consisted of 147 civil servant and now only the) 1 NaN row remaining is entrepreneur.\n",
    "\n",
    "(A comment relevant to when i used the hashed structure in the function:\n",
    "The code works even though there is this red notice, i read a lot about what is in the link but there is nothing relevant i found there, and trying its suggestion to \"Try using .loc[row_indexer,col_indexer] = value instead\" doesnt work and is not relevant)."
   ]
  },
  {
   "cell_type": "markdown",
   "metadata": {},
   "source": [
    "Since the entrepreneur NaN will be a hindrance, I can either drop the row, make/rename it to business, or fill it with the other entrepreneur row.\n",
    "\n",
    "Since it has only 2 rows in total i wont fill the NaN in it with the value from the other entrepreneur row since it will skew the total_income categories in the next steps, only based on 1 value, so i wont.\n",
    "\n",
    "And if ill make/rename it to business then later when ill look for duplicates i might get more duplicates (because the income_type will be the same, and it may be the only difference) even though its obviously a different customer.\n",
    "And since i wont be using the entrepreneur group by itself anyway (because it has only 2 rows in total) i think ill fill the entrepreneur NaN with business medians."
   ]
  },
  {
   "cell_type": "markdown",
   "metadata": {},
   "source": [
    "<div style=\"border:solid orange 2px; padding: 20px\"> <b>Remarks:</b><br>\n",
    "   \n",
    "   If you are sure everything works correctly, you can turn off warnings messages. This article can help:\n",
    "        https://docs.python.org/3/library/warnings.html\n",
    "\n",
    "But I don't see this message. Maybe you see this message when you do a project locally on your computer.</div>   "
   ]
  },
  {
   "cell_type": "code",
   "execution_count": 35,
   "metadata": {},
   "outputs": [],
   "source": [
    "## changing entrepreneur rows to business rows\n",
    "# orgnzd_credit_score.loc[orgnzd_credit_score['income_type'] == 'entrepreneur', 'income_type'] = 'business'\n",
    "\n",
    "# filling the entrepreneur NaN with business medians\n",
    "mask = (orgnzd_credit_score['income_type'] == 'entrepreneur')\n",
    "orgnzd_credit_score.loc[mask, 'total_income'] = orgnzd_credit_score.loc[mask, 'total_income'].fillna(business_income_median)\n",
    "orgnzd_credit_score.loc[mask, 'days_employed'] = orgnzd_credit_score.loc[mask, 'days_employed'].fillna(business_employed_median)"
   ]
  },
  {
   "cell_type": "code",
   "execution_count": 36,
   "metadata": {},
   "outputs": [
    {
     "data": {
      "text/plain": [
       "0"
      ]
     },
     "execution_count": 36,
     "metadata": {},
     "output_type": "execute_result"
    }
   ],
   "source": [
    "# checking how much nulls i have in total_income after filling entrepreneur\n",
    "orgnzd_credit_score['total_income'].isna().sum()"
   ]
  },
  {
   "cell_type": "code",
   "execution_count": 37,
   "metadata": {},
   "outputs": [
    {
     "data": {
      "text/plain": [
       "0"
      ]
     },
     "execution_count": 37,
     "metadata": {},
     "output_type": "execute_result"
    }
   ],
   "source": [
    "# checking how much nulls i have in days_employed after filling entrepreneur\n",
    "orgnzd_credit_score['days_employed'].isna().sum()"
   ]
  },
  {
   "cell_type": "markdown",
   "metadata": {},
   "source": [
    "<div style=\"border:solid green 2px; padding: 20px\"> <b>Success:</b><br>\n",
    "    Well done!</div>       "
   ]
  },
  {
   "cell_type": "markdown",
   "metadata": {},
   "source": [
    "### Conclusion"
   ]
  },
  {
   "cell_type": "markdown",
   "metadata": {},
   "source": [
    "<s><div style=\"border:solid red 2px; padding: 20px\"> <b>Needs fixing:</b><br>\n",
    "    Can you please remove the item numbering when you do a project locally? Note that the Yandex.Practicum environment provides automatic numbering of project items when you use # before the item name. Otherwise, the structure of the project changes a lot now. And please write the conclusion here then :)</div>"
   ]
  },
  {
   "cell_type": "markdown",
   "metadata": {},
   "source": [
    "<div class=\"alert alert-info\" style=\"border:solid blue 2px; padding: 20px\">\n",
    "    ok, it just helps me orienting while looking for something.. :/"
   ]
  },
  {
   "cell_type": "markdown",
   "metadata": {},
   "source": [
    "<div class=\"alert alert-info\" style=\"border:solid blue 2px; padding: 20px\">\n",
    "    I identified the missing values, decided which way to fill it (by medians of total income grouped by income types), and filled them."
   ]
  },
  {
   "cell_type": "markdown",
   "metadata": {},
   "source": [
    "<div style=\"border:solid green 2px; padding: 20px\"> <b>Success:</b><br>\n",
    "    Great, now the project has a clear structure :) You can just use the numbering of the sections on the local computer, and delete the numbering when uploading to the Yandex.Praсtiсum environment. And thanks for the conclusions! Now everything is perfect 😊</div>       "
   ]
  },
  {
   "cell_type": "markdown",
   "metadata": {},
   "source": [
    "### Data type replacement"
   ]
  },
  {
   "cell_type": "markdown",
   "metadata": {},
   "source": [
    "Now lets convert the floats to integers."
   ]
  },
  {
   "cell_type": "code",
   "execution_count": 38,
   "metadata": {},
   "outputs": [
    {
     "name": "stdout",
     "output_type": "stream",
     "text": [
      "<class 'pandas.core.frame.DataFrame'>\n",
      "RangeIndex: 21525 entries, 0 to 21524\n",
      "Data columns (total 12 columns):\n",
      "children            21525 non-null int64\n",
      "days_employed       21525 non-null int64\n",
      "dob_years           21525 non-null int64\n",
      "education           21525 non-null object\n",
      "education_id        21525 non-null int64\n",
      "family_status       21525 non-null object\n",
      "family_status_id    21525 non-null int64\n",
      "gender              21525 non-null object\n",
      "income_type         21525 non-null object\n",
      "debt                21525 non-null int64\n",
      "total_income        21525 non-null int64\n",
      "purpose             21525 non-null object\n",
      "dtypes: int64(7), object(5)\n",
      "memory usage: 2.0+ MB\n"
     ]
    }
   ],
   "source": [
    "# converting the floats to integers.\n",
    "orgnzd_credit_score['total_income'] = orgnzd_credit_score['total_income'].astype('int64')\n",
    "orgnzd_credit_score['days_employed'] = orgnzd_credit_score['days_employed'].astype('int64')\n",
    "orgnzd_credit_score.info()"
   ]
  },
  {
   "cell_type": "markdown",
   "metadata": {},
   "source": [
    "<div style=\"border:solid orange 2px; padding: 20px\"> <b>Remarks:</b><br>\n",
    "    Please visit this link, there is information on how to optimise data types and downsize them: \n",
    "    <a>https://vincentteyssier.medium.com/optimizing-the-size-of-a-pandas-dataframe-for-low-memory-environment-5f07db3d72e</a>\n",
    "</div> "
   ]
  },
  {
   "cell_type": "markdown",
   "metadata": {},
   "source": [
    "Now that there are no NaNs and floats i can check the other 2 columns (days_employed and total_income) for their max rows based on describe:"
   ]
  },
  {
   "cell_type": "code",
   "execution_count": 39,
   "metadata": {},
   "outputs": [
    {
     "data": {
      "text/html": [
       "<div>\n",
       "<style scoped>\n",
       "    .dataframe tbody tr th:only-of-type {\n",
       "        vertical-align: middle;\n",
       "    }\n",
       "\n",
       "    .dataframe tbody tr th {\n",
       "        vertical-align: top;\n",
       "    }\n",
       "\n",
       "    .dataframe thead th {\n",
       "        text-align: right;\n",
       "    }\n",
       "</style>\n",
       "<table border=\"1\" class=\"dataframe\">\n",
       "  <thead>\n",
       "    <tr style=\"text-align: right;\">\n",
       "      <th></th>\n",
       "      <th>children</th>\n",
       "      <th>days_employed</th>\n",
       "      <th>dob_years</th>\n",
       "      <th>education_id</th>\n",
       "      <th>family_status_id</th>\n",
       "      <th>debt</th>\n",
       "      <th>total_income</th>\n",
       "    </tr>\n",
       "  </thead>\n",
       "  <tbody>\n",
       "    <tr>\n",
       "      <td>count</td>\n",
       "      <td>21525.000000</td>\n",
       "      <td>21525.000000</td>\n",
       "      <td>21525.000000</td>\n",
       "      <td>21525.000000</td>\n",
       "      <td>21525.000000</td>\n",
       "      <td>21525.000000</td>\n",
       "      <td>21525.000000</td>\n",
       "    </tr>\n",
       "    <tr>\n",
       "      <td>mean</td>\n",
       "      <td>0.479721</td>\n",
       "      <td>67299.057003</td>\n",
       "      <td>43.293380</td>\n",
       "      <td>0.817236</td>\n",
       "      <td>0.972544</td>\n",
       "      <td>0.080883</td>\n",
       "      <td>26433.153403</td>\n",
       "    </tr>\n",
       "    <tr>\n",
       "      <td>std</td>\n",
       "      <td>0.755528</td>\n",
       "      <td>139401.780440</td>\n",
       "      <td>12.574584</td>\n",
       "      <td>0.548138</td>\n",
       "      <td>1.420324</td>\n",
       "      <td>0.272661</td>\n",
       "      <td>15682.756144</td>\n",
       "    </tr>\n",
       "    <tr>\n",
       "      <td>min</td>\n",
       "      <td>0.000000</td>\n",
       "      <td>24.000000</td>\n",
       "      <td>0.000000</td>\n",
       "      <td>0.000000</td>\n",
       "      <td>0.000000</td>\n",
       "      <td>0.000000</td>\n",
       "      <td>3306.000000</td>\n",
       "    </tr>\n",
       "    <tr>\n",
       "      <td>25%</td>\n",
       "      <td>0.000000</td>\n",
       "      <td>1025.000000</td>\n",
       "      <td>33.000000</td>\n",
       "      <td>1.000000</td>\n",
       "      <td>0.000000</td>\n",
       "      <td>0.000000</td>\n",
       "      <td>17247.000000</td>\n",
       "    </tr>\n",
       "    <tr>\n",
       "      <td>50%</td>\n",
       "      <td>0.000000</td>\n",
       "      <td>1993.000000</td>\n",
       "      <td>42.000000</td>\n",
       "      <td>1.000000</td>\n",
       "      <td>0.000000</td>\n",
       "      <td>0.000000</td>\n",
       "      <td>22815.000000</td>\n",
       "    </tr>\n",
       "    <tr>\n",
       "      <td>75%</td>\n",
       "      <td>1.000000</td>\n",
       "      <td>5347.000000</td>\n",
       "      <td>53.000000</td>\n",
       "      <td>1.000000</td>\n",
       "      <td>1.000000</td>\n",
       "      <td>0.000000</td>\n",
       "      <td>31286.000000</td>\n",
       "    </tr>\n",
       "    <tr>\n",
       "      <td>max</td>\n",
       "      <td>5.000000</td>\n",
       "      <td>401755.000000</td>\n",
       "      <td>75.000000</td>\n",
       "      <td>4.000000</td>\n",
       "      <td>4.000000</td>\n",
       "      <td>1.000000</td>\n",
       "      <td>362496.000000</td>\n",
       "    </tr>\n",
       "  </tbody>\n",
       "</table>\n",
       "</div>"
      ],
      "text/plain": [
       "           children  days_employed     dob_years  education_id  \\\n",
       "count  21525.000000   21525.000000  21525.000000  21525.000000   \n",
       "mean       0.479721   67299.057003     43.293380      0.817236   \n",
       "std        0.755528  139401.780440     12.574584      0.548138   \n",
       "min        0.000000      24.000000      0.000000      0.000000   \n",
       "25%        0.000000    1025.000000     33.000000      1.000000   \n",
       "50%        0.000000    1993.000000     42.000000      1.000000   \n",
       "75%        1.000000    5347.000000     53.000000      1.000000   \n",
       "max        5.000000  401755.000000     75.000000      4.000000   \n",
       "\n",
       "       family_status_id          debt   total_income  \n",
       "count      21525.000000  21525.000000   21525.000000  \n",
       "mean           0.972544      0.080883   26433.153403  \n",
       "std            1.420324      0.272661   15682.756144  \n",
       "min            0.000000      0.000000    3306.000000  \n",
       "25%            0.000000      0.000000   17247.000000  \n",
       "50%            0.000000      0.000000   22815.000000  \n",
       "75%            1.000000      0.000000   31286.000000  \n",
       "max            4.000000      1.000000  362496.000000  "
      ]
     },
     "execution_count": 39,
     "metadata": {},
     "output_type": "execute_result"
    }
   ],
   "source": [
    "orgnzd_credit_score.describe()"
   ]
  },
  {
   "cell_type": "code",
   "execution_count": 40,
   "metadata": {},
   "outputs": [
    {
     "data": {
      "text/html": [
       "<div>\n",
       "<style scoped>\n",
       "    .dataframe tbody tr th:only-of-type {\n",
       "        vertical-align: middle;\n",
       "    }\n",
       "\n",
       "    .dataframe tbody tr th {\n",
       "        vertical-align: top;\n",
       "    }\n",
       "\n",
       "    .dataframe thead th {\n",
       "        text-align: right;\n",
       "    }\n",
       "</style>\n",
       "<table border=\"1\" class=\"dataframe\">\n",
       "  <thead>\n",
       "    <tr style=\"text-align: right;\">\n",
       "      <th></th>\n",
       "      <th>children</th>\n",
       "      <th>days_employed</th>\n",
       "      <th>dob_years</th>\n",
       "      <th>education</th>\n",
       "      <th>education_id</th>\n",
       "      <th>family_status</th>\n",
       "      <th>family_status_id</th>\n",
       "      <th>gender</th>\n",
       "      <th>income_type</th>\n",
       "      <th>debt</th>\n",
       "      <th>total_income</th>\n",
       "      <th>purpose</th>\n",
       "    </tr>\n",
       "  </thead>\n",
       "  <tbody>\n",
       "    <tr>\n",
       "      <td>6954</td>\n",
       "      <td>0</td>\n",
       "      <td>401755</td>\n",
       "      <td>56</td>\n",
       "      <td>secondary education</td>\n",
       "      <td>1</td>\n",
       "      <td>widow / widower</td>\n",
       "      <td>2</td>\n",
       "      <td>F</td>\n",
       "      <td>retiree</td>\n",
       "      <td>0</td>\n",
       "      <td>28204</td>\n",
       "      <td>housing renovation</td>\n",
       "    </tr>\n",
       "  </tbody>\n",
       "</table>\n",
       "</div>"
      ],
      "text/plain": [
       "      children  days_employed  dob_years            education  education_id  \\\n",
       "6954         0         401755         56  secondary education             1   \n",
       "\n",
       "        family_status  family_status_id gender income_type  debt  \\\n",
       "6954  widow / widower                 2      F     retiree     0   \n",
       "\n",
       "      total_income             purpose  \n",
       "6954         28204  housing renovation  "
      ]
     },
     "execution_count": 40,
     "metadata": {},
     "output_type": "execute_result"
    }
   ],
   "source": [
    "# trying to find the row of the max days_employed:\n",
    "orgnzd_credit_score.query('days_employed == 401755')"
   ]
  },
  {
   "cell_type": "code",
   "execution_count": 41,
   "metadata": {},
   "outputs": [
    {
     "data": {
      "text/html": [
       "<div>\n",
       "<style scoped>\n",
       "    .dataframe tbody tr th:only-of-type {\n",
       "        vertical-align: middle;\n",
       "    }\n",
       "\n",
       "    .dataframe tbody tr th {\n",
       "        vertical-align: top;\n",
       "    }\n",
       "\n",
       "    .dataframe thead th {\n",
       "        text-align: right;\n",
       "    }\n",
       "</style>\n",
       "<table border=\"1\" class=\"dataframe\">\n",
       "  <thead>\n",
       "    <tr style=\"text-align: right;\">\n",
       "      <th></th>\n",
       "      <th>children</th>\n",
       "      <th>days_employed</th>\n",
       "      <th>dob_years</th>\n",
       "      <th>education</th>\n",
       "      <th>education_id</th>\n",
       "      <th>family_status</th>\n",
       "      <th>family_status_id</th>\n",
       "      <th>gender</th>\n",
       "      <th>income_type</th>\n",
       "      <th>debt</th>\n",
       "      <th>total_income</th>\n",
       "      <th>purpose</th>\n",
       "    </tr>\n",
       "  </thead>\n",
       "  <tbody>\n",
       "    <tr>\n",
       "      <td>12412</td>\n",
       "      <td>0</td>\n",
       "      <td>1477</td>\n",
       "      <td>44</td>\n",
       "      <td>bachelor's degree</td>\n",
       "      <td>0</td>\n",
       "      <td>married</td>\n",
       "      <td>0</td>\n",
       "      <td>M</td>\n",
       "      <td>business</td>\n",
       "      <td>0</td>\n",
       "      <td>362496</td>\n",
       "      <td>housing renovation</td>\n",
       "    </tr>\n",
       "  </tbody>\n",
       "</table>\n",
       "</div>"
      ],
      "text/plain": [
       "       children  days_employed  dob_years          education  education_id  \\\n",
       "12412         0           1477         44  bachelor's degree             0   \n",
       "\n",
       "      family_status  family_status_id gender income_type  debt  total_income  \\\n",
       "12412       married                 0      M    business     0        362496   \n",
       "\n",
       "                  purpose  \n",
       "12412  housing renovation  "
      ]
     },
     "execution_count": 41,
     "metadata": {},
     "output_type": "execute_result"
    }
   ],
   "source": [
    "# trying to find the row of the max total_income:\n",
    "orgnzd_credit_score.query('total_income == 362496')"
   ]
  },
  {
   "cell_type": "markdown",
   "metadata": {},
   "source": [
    "Seems ok, the max value appears only once."
   ]
  },
  {
   "cell_type": "markdown",
   "metadata": {},
   "source": [
    "<s><div style=\"border:solid red 2px; padding: 20px\"> <b>Needs fixing:</b><br>\n",
    "    \n",
    "   Please note that there are many more abnormalous values. Here you output only the maximum values of `days_employed`. But if you recalculate days in years, there are such values in the data that a person worked more than a person can live years.</div>"
   ]
  },
  {
   "cell_type": "markdown",
   "metadata": {},
   "source": [
    "<div class=\"alert alert-info\" style=\"border:solid blue 2px; padding: 20px\">\n",
    "    but i addressed it later, here is only converting the types, isnt it so?"
   ]
  },
  {
   "cell_type": "markdown",
   "metadata": {},
   "source": [
    "<div style=\"border:solid orange 2px; padding: 20px\"> <b>Remarks V2:</b><br>\n",
    "    \n",
    "   I see you've assumed it's not days of work, but hours. This block refers to preprocessing data, it is better to denote it here. There are `days_employed` values of about 300 000 hours in the data. It means that some people have been working about 37 500 days for 8 hours, or over 100 years... 🤔 </div>"
   ]
  },
  {
   "cell_type": "markdown",
   "metadata": {},
   "source": [
    "<div class=\"alert alert-info\" style=\"border:solid blue 2px; padding: 20px\">\n",
    "    \n",
    "   hmm you are right! i havent thought of it.. forgot when doing the calculation that humans usually dont work 24/7 ahah.. but then i dont know what can it be.. it was logical to count employment time by hours, but less so by minutes, its too precise.. but still plausible i guess.. the minimal value of the column is 24, i guess its possible some worked for 24 minutes until deciding its not for them and left, but the data is about the whole time a customer was employed and unless that customer is like 18 he should have worked more time in his life..\n",
    "    \n",
    "   So ill check now all the rows with `days_employed` < 60,000 (assuming its minutes employed and that they worked for about 5 hours a day [because they are young] for 200 days) and i expect to see that they are students or unemployed and that they are not more than 20 or so years in dob_years."
   ]
  },
  {
   "cell_type": "code",
   "execution_count": 42,
   "metadata": {},
   "outputs": [
    {
     "data": {
      "text/html": [
       "<div>\n",
       "<style scoped>\n",
       "    .dataframe tbody tr th:only-of-type {\n",
       "        vertical-align: middle;\n",
       "    }\n",
       "\n",
       "    .dataframe tbody tr th {\n",
       "        vertical-align: top;\n",
       "    }\n",
       "\n",
       "    .dataframe thead th {\n",
       "        text-align: right;\n",
       "    }\n",
       "</style>\n",
       "<table border=\"1\" class=\"dataframe\">\n",
       "  <thead>\n",
       "    <tr style=\"text-align: right;\">\n",
       "      <th></th>\n",
       "      <th>children</th>\n",
       "      <th>days_employed</th>\n",
       "      <th>dob_years</th>\n",
       "      <th>education_id</th>\n",
       "      <th>family_status_id</th>\n",
       "      <th>debt</th>\n",
       "      <th>total_income</th>\n",
       "    </tr>\n",
       "  </thead>\n",
       "  <tbody>\n",
       "    <tr>\n",
       "      <td>count</td>\n",
       "      <td>17667.000000</td>\n",
       "      <td>17667.000000</td>\n",
       "      <td>17667.000000</td>\n",
       "      <td>17667.000000</td>\n",
       "      <td>17667.000000</td>\n",
       "      <td>17667.000000</td>\n",
       "      <td>17667.000000</td>\n",
       "    </tr>\n",
       "    <tr>\n",
       "      <td>mean</td>\n",
       "      <td>0.563876</td>\n",
       "      <td>2283.415973</td>\n",
       "      <td>39.852097</td>\n",
       "      <td>0.796174</td>\n",
       "      <td>0.969718</td>\n",
       "      <td>0.086263</td>\n",
       "      <td>27484.080263</td>\n",
       "    </tr>\n",
       "    <tr>\n",
       "      <td>std</td>\n",
       "      <td>0.794548</td>\n",
       "      <td>2198.421547</td>\n",
       "      <td>10.670217</td>\n",
       "      <td>0.553849</td>\n",
       "      <td>1.442329</td>\n",
       "      <td>0.280759</td>\n",
       "      <td>16161.021305</td>\n",
       "    </tr>\n",
       "    <tr>\n",
       "      <td>min</td>\n",
       "      <td>0.000000</td>\n",
       "      <td>24.000000</td>\n",
       "      <td>0.000000</td>\n",
       "      <td>0.000000</td>\n",
       "      <td>0.000000</td>\n",
       "      <td>0.000000</td>\n",
       "      <td>3418.000000</td>\n",
       "    </tr>\n",
       "    <tr>\n",
       "      <td>25%</td>\n",
       "      <td>0.000000</td>\n",
       "      <td>843.500000</td>\n",
       "      <td>32.000000</td>\n",
       "      <td>0.000000</td>\n",
       "      <td>0.000000</td>\n",
       "      <td>0.000000</td>\n",
       "      <td>18004.000000</td>\n",
       "    </tr>\n",
       "    <tr>\n",
       "      <td>50%</td>\n",
       "      <td>0.000000</td>\n",
       "      <td>1574.000000</td>\n",
       "      <td>39.000000</td>\n",
       "      <td>1.000000</td>\n",
       "      <td>0.000000</td>\n",
       "      <td>0.000000</td>\n",
       "      <td>23717.000000</td>\n",
       "    </tr>\n",
       "    <tr>\n",
       "      <td>75%</td>\n",
       "      <td>1.000000</td>\n",
       "      <td>2939.500000</td>\n",
       "      <td>48.000000</td>\n",
       "      <td>1.000000</td>\n",
       "      <td>1.000000</td>\n",
       "      <td>0.000000</td>\n",
       "      <td>32285.500000</td>\n",
       "    </tr>\n",
       "    <tr>\n",
       "      <td>max</td>\n",
       "      <td>5.000000</td>\n",
       "      <td>18388.000000</td>\n",
       "      <td>75.000000</td>\n",
       "      <td>4.000000</td>\n",
       "      <td>4.000000</td>\n",
       "      <td>1.000000</td>\n",
       "      <td>362496.000000</td>\n",
       "    </tr>\n",
       "  </tbody>\n",
       "</table>\n",
       "</div>"
      ],
      "text/plain": [
       "           children  days_employed     dob_years  education_id  \\\n",
       "count  17667.000000   17667.000000  17667.000000  17667.000000   \n",
       "mean       0.563876    2283.415973     39.852097      0.796174   \n",
       "std        0.794548    2198.421547     10.670217      0.553849   \n",
       "min        0.000000      24.000000      0.000000      0.000000   \n",
       "25%        0.000000     843.500000     32.000000      0.000000   \n",
       "50%        0.000000    1574.000000     39.000000      1.000000   \n",
       "75%        1.000000    2939.500000     48.000000      1.000000   \n",
       "max        5.000000   18388.000000     75.000000      4.000000   \n",
       "\n",
       "       family_status_id          debt   total_income  \n",
       "count      17667.000000  17667.000000   17667.000000  \n",
       "mean           0.969718      0.086263   27484.080263  \n",
       "std            1.442329      0.280759   16161.021305  \n",
       "min            0.000000      0.000000    3418.000000  \n",
       "25%            0.000000      0.000000   18004.000000  \n",
       "50%            0.000000      0.000000   23717.000000  \n",
       "75%            1.000000      0.000000   32285.500000  \n",
       "max            4.000000      1.000000  362496.000000  "
      ]
     },
     "execution_count": 42,
     "metadata": {},
     "output_type": "execute_result"
    }
   ],
   "source": [
    "# finding the rows where days_employed is less than 60000 and looking at the info in children, dob_years and total_income with describe\n",
    "orgnzd_credit_score.query('days_employed < 60000').describe()"
   ]
  },
  {
   "cell_type": "markdown",
   "metadata": {},
   "source": [
    "<div class=\"alert alert-info\" style=\"border:solid blue 2px; padding: 20px\">\n",
    "    \n",
    "   so here it can be seen that in a table of customers that supposedly only worked up to 200 (assuming 5 hour) working days (the actual maximal output is 18388 \"minutes\" which equals to even less 61 days) in their life(!), there are at least some of them with 5 children, 75 dob_years, and 362,496 in total_income (which is the max for the whole table!). Since it ilogical that a customer that is 75 years in the bank worked up to 60 days in his life (and it can also be seen in the rest of the table like that the median of dob_years is 39 which is also illogical for up to 60 days of work) i discard the possibility that it is minutes as well. I would drop the column, but since it doesnt pose any issue i will leave it and tell the ones responsible for the data that it doesnt make sense and ask them if they know what happened."
   ]
  },
  {
   "cell_type": "markdown",
   "metadata": {},
   "source": [
    "<div style=\"border:solid orange 2px; padding: 20px\"> <b>Remarks V3:</b><br>\n",
    "    \n",
    "  You did a great job and did an in-depth analysis of the \"days_employed\" column. It's great that you looked at this data from different angles. How could this problem still be solved:\n",
    "\n",
    "    \n",
    "   Roughly calculate how many maximum years the person could work to his current age (if he is 60 years old, then 60-18=42 years). The working days are approximately 257. 257*42=10794 days at most could work in his lifetime. Think of a conditional error, let it be 1000 (if let's say he is a workaholic and worked all the time or started working at an earlier age. 10794 + 1000 = 11794. Compare this number with the value in the `days_employed` column. If 11794 < days_employed, fill in NaN. Then fill in the missing values with the median `days_employed`, grouping by `dob_years`.\n",
    "\n",
    "</div>"
   ]
  },
  {
   "cell_type": "markdown",
   "metadata": {},
   "source": [
    "### Conclusion"
   ]
  },
  {
   "cell_type": "markdown",
   "metadata": {},
   "source": [
    "Now whats left to do is to `([no need to merge now] merge credit_score_NaN_rows table with credit_score_no_NaN table, then i'll)` find the duplicate rows with DataFrame.duplicated(subset=all columns except total_income and days_employed, keep='first')\n",
    "[except those columns because i filled them myself based on the income_type so it doesnt matter]\n",
    "\n",
    "And then the Stemming will begin."
   ]
  },
  {
   "cell_type": "markdown",
   "metadata": {},
   "source": [
    "<div style=\"border:solid green 2px; padding: 20px\"> <b>Success:</b><br>\n",
    "    You converted the data to the right types :) Thanks for detailed conclusion. </div> "
   ]
  },
  {
   "cell_type": "markdown",
   "metadata": {},
   "source": [
    "### Processing duplicates"
   ]
  },
  {
   "cell_type": "code",
   "execution_count": 43,
   "metadata": {},
   "outputs": [
    {
     "data": {
      "text/plain": [
       "3654"
      ]
     },
     "execution_count": 43,
     "metadata": {},
     "output_type": "execute_result"
    }
   ],
   "source": [
    "## searching for duplicated rows in the general table by all columns except both total_income and days_employed\n",
    "ten_columns = ['children', 'dob_years', 'education', 'education_id', 'family_status', 'family_status_id', 'gender', 'income_type', 'debt', 'purpose']\n",
    "orgnzd_credit_score.duplicated(subset=ten_columns).sum()"
   ]
  },
  {
   "cell_type": "code",
   "execution_count": 44,
   "metadata": {},
   "outputs": [
    {
     "data": {
      "text/plain": [
       "71"
      ]
     },
     "execution_count": 44,
     "metadata": {},
     "output_type": "execute_result"
    }
   ],
   "source": [
    "# searching for duplicated rows in the general table by all columns.\n",
    "orgnzd_credit_score.duplicated().sum()"
   ]
  },
  {
   "cell_type": "markdown",
   "metadata": {},
   "source": [
    "So that means there are rows (aka people) with exactly the same parameters, with just total_income and/or days_employed as a differentiator.\n",
    "Lets try to check if the ramaining 71 dups' are coming from the NaN rows where there is also no total_income and days_employed values:"
   ]
  },
  {
   "cell_type": "code",
   "execution_count": 45,
   "metadata": {},
   "outputs": [
    {
     "data": {
      "text/plain": [
       "71"
      ]
     },
     "execution_count": 45,
     "metadata": {},
     "output_type": "execute_result"
    }
   ],
   "source": [
    "# searching for duplicated rows in the NaN table by all columns (except both total_income and days_employed because they are NaNs)\n",
    "credit_score_NaN_rows.duplicated().sum()"
   ]
  },
  {
   "cell_type": "markdown",
   "metadata": {},
   "source": [
    "indeed they are, so all the 71 dups were the rows that were NaNs before."
   ]
  },
  {
   "cell_type": "markdown",
   "metadata": {},
   "source": [
    "So based on this most of the duplicates are surfacing when we dont compare by all columns.\n",
    "To check that its not just because in the NaN table there is more chance for a mistake, lets check the no NaN table:"
   ]
  },
  {
   "cell_type": "code",
   "execution_count": 46,
   "metadata": {},
   "outputs": [
    {
     "data": {
      "text/plain": [
       "3019"
      ]
     },
     "execution_count": 46,
     "metadata": {},
     "output_type": "execute_result"
    }
   ],
   "source": [
    "# searching for duplicated rows in the no NaN table by all columns except both total_income and days_employed\n",
    "credit_score_no_NaN.duplicated(subset=ten_columns).sum()"
   ]
  },
  {
   "cell_type": "code",
   "execution_count": 47,
   "metadata": {},
   "outputs": [
    {
     "data": {
      "text/plain": [
       "0"
      ]
     },
     "execution_count": 47,
     "metadata": {},
     "output_type": "execute_result"
    }
   ],
   "source": [
    "# searching for duplicated rows in the no NaN table by all columns.   ## except either total_income/days_employed\n",
    "credit_score_no_NaN.duplicated().sum()"
   ]
  },
  {
   "cell_type": "markdown",
   "metadata": {},
   "source": [
    "Based on the checks i did:\n",
    "\n",
    "***`if`*** searching for duplicated rows in the **`no NaN`** table by all columns except total_income and days_employed returns **`3019`** duplicates, while searching for duplicated rows in the **`no NaN`** table by all columns (except **`either`** total_income/days_employed) returns **`0`** duplicates,\n",
    "\n",
    "***`then`*** it means there are rows that are identical in every column except the total_income or days_employed (and that, even before stemming and lemmatizing the purpose column)! And that in turn means that we cannot remove the rows which do have NaNs based only on all the other rows... because it proves that we have customers that are the same in each category but earn different amount and/or employed a different amount of time, but all else is the same.\n",
    "\n",
    "(3654 rows consist of 3019 rows in the no NaN table + 71 rows in the NaN table + 564 rows that are in one table only once and another time in the other table, and when both tables together, like in the general table, they [the duplicates] emerge).\n",
    "\n",
    "But after consulting with Anastasia and because its not a real data but only a simulation ill drop these \"duplicates\"."
   ]
  },
  {
   "cell_type": "markdown",
   "metadata": {},
   "source": [
    "<div style=\"border:solid green 2px; padding: 20px\"> <b>Success:</b><br>\n",
    "    Thanks for the in-depth analysis of the duplicates. Very good!</div> "
   ]
  },
  {
   "cell_type": "code",
   "execution_count": 48,
   "metadata": {},
   "outputs": [
    {
     "data": {
      "text/plain": [
       "71"
      ]
     },
     "execution_count": 48,
     "metadata": {},
     "output_type": "execute_result"
    }
   ],
   "source": [
    "# checking the table before droping duplicates\n",
    "#orgnzd_credit_score.shape[0]\n",
    "orgnzd_credit_score.duplicated().sum()"
   ]
  },
  {
   "cell_type": "code",
   "execution_count": 49,
   "metadata": {},
   "outputs": [],
   "source": [
    "# removing duplicate rows and reseting the index\n",
    "orgnzd_credit_score = orgnzd_credit_score.drop_duplicates().reset_index(drop=True)\n",
    "#orgnzd_credit_score.reset_index(drop=True, inplace=True)\n",
    "#orgnzd_credit_score.shape[0]"
   ]
  },
  {
   "cell_type": "code",
   "execution_count": 50,
   "metadata": {},
   "outputs": [
    {
     "data": {
      "text/plain": [
       "0"
      ]
     },
     "execution_count": 50,
     "metadata": {},
     "output_type": "execute_result"
    }
   ],
   "source": [
    "# checking the table after droping duplicates\n",
    "orgnzd_credit_score.duplicated().sum()"
   ]
  },
  {
   "cell_type": "code",
   "execution_count": 51,
   "metadata": {},
   "outputs": [
    {
     "data": {
      "text/html": [
       "<div>\n",
       "<style scoped>\n",
       "    .dataframe tbody tr th:only-of-type {\n",
       "        vertical-align: middle;\n",
       "    }\n",
       "\n",
       "    .dataframe tbody tr th {\n",
       "        vertical-align: top;\n",
       "    }\n",
       "\n",
       "    .dataframe thead th {\n",
       "        text-align: right;\n",
       "    }\n",
       "</style>\n",
       "<table border=\"1\" class=\"dataframe\">\n",
       "  <thead>\n",
       "    <tr style=\"text-align: right;\">\n",
       "      <th></th>\n",
       "      <th>children</th>\n",
       "      <th>days_employed</th>\n",
       "      <th>dob_years</th>\n",
       "      <th>education</th>\n",
       "      <th>education_id</th>\n",
       "      <th>family_status</th>\n",
       "      <th>family_status_id</th>\n",
       "      <th>gender</th>\n",
       "      <th>income_type</th>\n",
       "      <th>debt</th>\n",
       "      <th>total_income</th>\n",
       "      <th>purpose</th>\n",
       "    </tr>\n",
       "  </thead>\n",
       "  <tbody>\n",
       "    <tr>\n",
       "      <td>0</td>\n",
       "      <td>1</td>\n",
       "      <td>8437</td>\n",
       "      <td>42</td>\n",
       "      <td>bachelor's degree</td>\n",
       "      <td>0</td>\n",
       "      <td>married</td>\n",
       "      <td>0</td>\n",
       "      <td>F</td>\n",
       "      <td>employee</td>\n",
       "      <td>0</td>\n",
       "      <td>40620</td>\n",
       "      <td>purchase of the house</td>\n",
       "    </tr>\n",
       "    <tr>\n",
       "      <td>1</td>\n",
       "      <td>1</td>\n",
       "      <td>4024</td>\n",
       "      <td>36</td>\n",
       "      <td>secondary education</td>\n",
       "      <td>1</td>\n",
       "      <td>married</td>\n",
       "      <td>0</td>\n",
       "      <td>F</td>\n",
       "      <td>employee</td>\n",
       "      <td>0</td>\n",
       "      <td>17932</td>\n",
       "      <td>car purchase</td>\n",
       "    </tr>\n",
       "    <tr>\n",
       "      <td>2</td>\n",
       "      <td>0</td>\n",
       "      <td>5623</td>\n",
       "      <td>33</td>\n",
       "      <td>secondary education</td>\n",
       "      <td>1</td>\n",
       "      <td>married</td>\n",
       "      <td>0</td>\n",
       "      <td>M</td>\n",
       "      <td>employee</td>\n",
       "      <td>0</td>\n",
       "      <td>23341</td>\n",
       "      <td>purchase of the house</td>\n",
       "    </tr>\n",
       "    <tr>\n",
       "      <td>3</td>\n",
       "      <td>3</td>\n",
       "      <td>4124</td>\n",
       "      <td>32</td>\n",
       "      <td>secondary education</td>\n",
       "      <td>1</td>\n",
       "      <td>married</td>\n",
       "      <td>0</td>\n",
       "      <td>M</td>\n",
       "      <td>employee</td>\n",
       "      <td>0</td>\n",
       "      <td>42820</td>\n",
       "      <td>supplementary education</td>\n",
       "    </tr>\n",
       "    <tr>\n",
       "      <td>4</td>\n",
       "      <td>0</td>\n",
       "      <td>340266</td>\n",
       "      <td>53</td>\n",
       "      <td>secondary education</td>\n",
       "      <td>1</td>\n",
       "      <td>civil partnership</td>\n",
       "      <td>1</td>\n",
       "      <td>F</td>\n",
       "      <td>retiree</td>\n",
       "      <td>0</td>\n",
       "      <td>25378</td>\n",
       "      <td>to have a wedding</td>\n",
       "    </tr>\n",
       "    <tr>\n",
       "      <td>...</td>\n",
       "      <td>...</td>\n",
       "      <td>...</td>\n",
       "      <td>...</td>\n",
       "      <td>...</td>\n",
       "      <td>...</td>\n",
       "      <td>...</td>\n",
       "      <td>...</td>\n",
       "      <td>...</td>\n",
       "      <td>...</td>\n",
       "      <td>...</td>\n",
       "      <td>...</td>\n",
       "      <td>...</td>\n",
       "    </tr>\n",
       "    <tr>\n",
       "      <td>21449</td>\n",
       "      <td>1</td>\n",
       "      <td>4529</td>\n",
       "      <td>43</td>\n",
       "      <td>secondary education</td>\n",
       "      <td>1</td>\n",
       "      <td>civil partnership</td>\n",
       "      <td>1</td>\n",
       "      <td>F</td>\n",
       "      <td>business</td>\n",
       "      <td>0</td>\n",
       "      <td>35966</td>\n",
       "      <td>housing transactions</td>\n",
       "    </tr>\n",
       "    <tr>\n",
       "      <td>21450</td>\n",
       "      <td>0</td>\n",
       "      <td>343937</td>\n",
       "      <td>67</td>\n",
       "      <td>secondary education</td>\n",
       "      <td>1</td>\n",
       "      <td>married</td>\n",
       "      <td>0</td>\n",
       "      <td>F</td>\n",
       "      <td>retiree</td>\n",
       "      <td>0</td>\n",
       "      <td>24959</td>\n",
       "      <td>purchase of a car</td>\n",
       "    </tr>\n",
       "    <tr>\n",
       "      <td>21451</td>\n",
       "      <td>1</td>\n",
       "      <td>2113</td>\n",
       "      <td>38</td>\n",
       "      <td>secondary education</td>\n",
       "      <td>1</td>\n",
       "      <td>civil partnership</td>\n",
       "      <td>1</td>\n",
       "      <td>M</td>\n",
       "      <td>employee</td>\n",
       "      <td>1</td>\n",
       "      <td>14347</td>\n",
       "      <td>property</td>\n",
       "    </tr>\n",
       "    <tr>\n",
       "      <td>21452</td>\n",
       "      <td>3</td>\n",
       "      <td>3112</td>\n",
       "      <td>38</td>\n",
       "      <td>secondary education</td>\n",
       "      <td>1</td>\n",
       "      <td>married</td>\n",
       "      <td>0</td>\n",
       "      <td>M</td>\n",
       "      <td>employee</td>\n",
       "      <td>1</td>\n",
       "      <td>39054</td>\n",
       "      <td>buying my own car</td>\n",
       "    </tr>\n",
       "    <tr>\n",
       "      <td>21453</td>\n",
       "      <td>2</td>\n",
       "      <td>1984</td>\n",
       "      <td>40</td>\n",
       "      <td>secondary education</td>\n",
       "      <td>1</td>\n",
       "      <td>married</td>\n",
       "      <td>0</td>\n",
       "      <td>F</td>\n",
       "      <td>employee</td>\n",
       "      <td>0</td>\n",
       "      <td>13127</td>\n",
       "      <td>to buy a car</td>\n",
       "    </tr>\n",
       "  </tbody>\n",
       "</table>\n",
       "<p>21454 rows × 12 columns</p>\n",
       "</div>"
      ],
      "text/plain": [
       "       children  days_employed  dob_years            education  education_id  \\\n",
       "0             1           8437         42    bachelor's degree             0   \n",
       "1             1           4024         36  secondary education             1   \n",
       "2             0           5623         33  secondary education             1   \n",
       "3             3           4124         32  secondary education             1   \n",
       "4             0         340266         53  secondary education             1   \n",
       "...         ...            ...        ...                  ...           ...   \n",
       "21449         1           4529         43  secondary education             1   \n",
       "21450         0         343937         67  secondary education             1   \n",
       "21451         1           2113         38  secondary education             1   \n",
       "21452         3           3112         38  secondary education             1   \n",
       "21453         2           1984         40  secondary education             1   \n",
       "\n",
       "           family_status  family_status_id gender income_type  debt  \\\n",
       "0                married                 0      F    employee     0   \n",
       "1                married                 0      F    employee     0   \n",
       "2                married                 0      M    employee     0   \n",
       "3                married                 0      M    employee     0   \n",
       "4      civil partnership                 1      F     retiree     0   \n",
       "...                  ...               ...    ...         ...   ...   \n",
       "21449  civil partnership                 1      F    business     0   \n",
       "21450            married                 0      F     retiree     0   \n",
       "21451  civil partnership                 1      M    employee     1   \n",
       "21452            married                 0      M    employee     1   \n",
       "21453            married                 0      F    employee     0   \n",
       "\n",
       "       total_income                  purpose  \n",
       "0             40620    purchase of the house  \n",
       "1             17932             car purchase  \n",
       "2             23341    purchase of the house  \n",
       "3             42820  supplementary education  \n",
       "4             25378        to have a wedding  \n",
       "...             ...                      ...  \n",
       "21449         35966     housing transactions  \n",
       "21450         24959        purchase of a car  \n",
       "21451         14347                 property  \n",
       "21452         39054        buying my own car  \n",
       "21453         13127             to buy a car  \n",
       "\n",
       "[21454 rows x 12 columns]"
      ]
     },
     "execution_count": 51,
     "metadata": {},
     "output_type": "execute_result"
    }
   ],
   "source": [
    "# checking that the index reset\n",
    "orgnzd_credit_score"
   ]
  },
  {
   "cell_type": "markdown",
   "metadata": {},
   "source": [
    "<s><div style=\"border:solid red 2px; padding: 20px\"> <b>Needs fixing:</b><br>\n",
    "    Please don't forget to write conclusion in this module.</div>"
   ]
  },
  {
   "cell_type": "markdown",
   "metadata": {},
   "source": [
    "<div class=\"alert alert-info\" style=\"border:solid blue 2px; padding: 20px\">\n",
    "    I identified the duplicates, removed them, and reset the index."
   ]
  },
  {
   "cell_type": "markdown",
   "metadata": {},
   "source": [
    "<div style=\"border:solid green 2px; padding: 20px\"> <b>Success V2:</b><br>\n",
    "    👍 </div>       "
   ]
  },
  {
   "cell_type": "markdown",
   "metadata": {},
   "source": [
    "#### Stemming"
   ]
  },
  {
   "cell_type": "markdown",
   "metadata": {},
   "source": [
    "Stemming the purpose column"
   ]
  },
  {
   "cell_type": "markdown",
   "metadata": {},
   "source": [
    "Since there are to much inique values in the purpose column while they really are the same pruposes that are phrased differently, I will stemm it to be only one word that represents each loan purpose: house, wedding, car and education."
   ]
  },
  {
   "cell_type": "code",
   "execution_count": 52,
   "metadata": {},
   "outputs": [],
   "source": [
    "# importing stemming tool\n",
    "from nltk.stem import SnowballStemmer\n",
    "english_stemmer = SnowballStemmer('english')"
   ]
  },
  {
   "cell_type": "code",
   "execution_count": 53,
   "metadata": {},
   "outputs": [],
   "source": [
    "# writing a function to stemm the purpose column\n",
    "def stemming_purpose(word_list, categorie):\n",
    "    for i in word_list:\n",
    "        for query in orgnzd_credit_score['purpose']:\n",
    "            for word in query.split(' '):\n",
    "                stemmed_word = english_stemmer.stem(word)\n",
    "                if stemmed_word == english_stemmer.stem(i):\n",
    "                    orgnzd_credit_score.loc[orgnzd_credit_score['purpose'] == query, 'purpose'] = categorie\n",
    "                else:\n",
    "                    continue"
   ]
  },
  {
   "cell_type": "code",
   "execution_count": 54,
   "metadata": {},
   "outputs": [],
   "source": [
    "# ordering all car related loans\n",
    "car_list = ['car']\n",
    "stemming_purpose(car_list, 'car')\n",
    "\n",
    "# ordering all wedding related loans\n",
    "wedding_list = ['wedding']\n",
    "stemming_purpose(wedding_list, 'wedding')\n",
    "\n",
    "# ordering all house related loans\n",
    "house_list = ['house', 'property', 'estate']\n",
    "stemming_purpose(house_list, 'house')\n",
    "\n",
    "# ordering all education related loans\n",
    "education_list = ['education', 'university']\n",
    "stemming_purpose(education_list, 'education')"
   ]
  },
  {
   "cell_type": "code",
   "execution_count": 55,
   "metadata": {},
   "outputs": [
    {
     "data": {
      "text/plain": [
       "house        10811\n",
       "car           4306\n",
       "education     4013\n",
       "wedding       2324\n",
       "Name: purpose, dtype: int64"
      ]
     },
     "execution_count": 55,
     "metadata": {},
     "output_type": "execute_result"
    }
   ],
   "source": [
    "# checking to see if it worked well\n",
    "orgnzd_credit_score['purpose'].value_counts()"
   ]
  },
  {
   "cell_type": "markdown",
   "metadata": {},
   "source": [
    "<div style=\"border:solid green 2px; padding: 20px\"> <b>Success:</b><br>\n",
    "   The stemming is correct and you have written the function correctly to categorise the purpose of the loan. </div>   \n"
   ]
  },
  {
   "cell_type": "markdown",
   "metadata": {},
   "source": [
    "<div class=\"alert alert-info\" style=\"border:solid blue 2px; padding: 20px\">\n",
    "   hushing the removal of the stemmed duplicates"
   ]
  },
  {
   "cell_type": "code",
   "execution_count": 56,
   "metadata": {},
   "outputs": [],
   "source": [
    "# checking for duplicates again after stemming\n",
    "#orgnzd_credit_score.duplicated().sum()"
   ]
  },
  {
   "cell_type": "markdown",
   "metadata": {},
   "source": [
    "In a real data set it wouldnt be possible (in case like this of a bank where there are relatively not so much people) but here i knew there would be more duplicates (since there are rows that are identical in all columns except the NaN columns to begin with and i filled the NaNs with medians) after stemming because i remove the differentiative phrases that the one who made this dataset randomly assigned to rows. but in a real dataset about customers this differentiation in phrasing supposed to point that its a different customer, and in a real dataset there would not be 2 exactly the same customers (with exactly the same loan purpose, time in the bank, income, num of children etc) except for the way they phrased the purpose . Hope i am understandable :)\n",
    "\n",
    "But again since its the given data ill remove those as well.  "
   ]
  },
  {
   "cell_type": "code",
   "execution_count": 57,
   "metadata": {},
   "outputs": [],
   "source": [
    "# removing duplicate rows and resetting the index\n",
    "#orgnzd_credit_score = orgnzd_credit_score.drop_duplicates().reset_index(drop=True)"
   ]
  },
  {
   "cell_type": "code",
   "execution_count": 58,
   "metadata": {},
   "outputs": [],
   "source": [
    "# checking for duplicates again after removing\n",
    "#orgnzd_credit_score.duplicated().sum()"
   ]
  },
  {
   "cell_type": "markdown",
   "metadata": {},
   "source": [
    "<s><div style=\"border:solid red 2px; padding: 20px\"> <b>Needs fixing:</b><br>\n",
    "    I understand your idea but here it is better not to delete the data, because formally we processed them in the previous block. You could accidentally delete data that are not really duplicates, but became duplicates after filling with median values and after changing the loan purpose. This is not entirely correct. Could you please fix it? </div>       \n",
    "<br>"
   ]
  },
  {
   "cell_type": "markdown",
   "metadata": {},
   "source": [
    "<div class=\"alert alert-info\" style=\"border:solid blue 2px; padding: 20px\">\n",
    "    Why isnt it correct? if only by changing the loan purpose and filling with median it made another duplicates it means that these rows are identical in all the other columns!.. it means these customers have the same amount of: children, days employed, dob years, and same: education, family status, gender, income type and debt score... its not logical that there will be different customers with all of those columns be the same... And if you still think i should not drop them then what to do? just leave them?"
   ]
  },
  {
   "cell_type": "markdown",
   "metadata": {},
   "source": [
    "<s><div style=\"border:solid red 2px; padding: 20px\"> <b>Needs fixing V2:</b><br>\n",
    "   Usually, duplicate processing is done on raw data, but we filled in the missing values in 2 columns with the median, processed the number of children, and reduced the loan purpose to a consistent look. Thus duplicates were formed that may not actually duplicate, even though the other columns may be identical. It's important to be very careful with deleting data. Especially since you wrote that in real data it could be different clients. And we in our projects are trying to get closer to the real conditions. Better to leave it as it is.</div>"
   ]
  },
  {
   "cell_type": "markdown",
   "metadata": {},
   "source": [
    "<div class=\"alert alert-info\" style=\"border:solid blue 2px; padding: 20px\">\n",
    "   oh, ok then, thats what i was inclined to do from the get go but Anastasia convinced me to remove it for the sake of the drill.. Just like in the first duplicates removal, when i discovered that if i assess and decide what is a duplicate based on 10 columns, then about 3000 rows in the no_NaN table would be duplicates just like the 71 in the NaN table.. anyway i hashed the drop above.\n",
    "    \n",
    "   also, just to elaborate what i mean: in a real case like that i assume i would have \"client ids\" and thus there wont be a need to lean on the other columns to differentiate between customers."
   ]
  },
  {
   "cell_type": "markdown",
   "metadata": {},
   "source": [
    "<div style=\"border:solid green 2px; padding: 20px\"> <b>Success V3:</b><br>\n",
    "   Yes, I agree, when we have the customer IDs, we will be able to tell for sure if they are duplicates or not. But again, it's better to be careful with deleting data so that we don't accidentally delete something important :) </div>   "
   ]
  },
  {
   "cell_type": "markdown",
   "metadata": {},
   "source": [
    "### Conclusion"
   ]
  },
  {
   "cell_type": "markdown",
   "metadata": {},
   "source": [
    "I removed the so called duplicates and stemmed the purpose column so now we can start categorizing the data."
   ]
  },
  {
   "cell_type": "markdown",
   "metadata": {},
   "source": [
    "<div style=\"border:solid green 2px; padding: 20px\"> <b>Success:</b><br>\n",
    "   Thanks for conclusion!</div>       "
   ]
  },
  {
   "cell_type": "markdown",
   "metadata": {},
   "source": [
    "### Categorizing Data"
   ]
  },
  {
   "cell_type": "markdown",
   "metadata": {},
   "source": [
    "Now ill rename columns. the dob_years column to be more clear and days_employed is not logical so ill assume it is hours which then will make sense."
   ]
  },
  {
   "cell_type": "markdown",
   "metadata": {},
   "source": [
    "<div class=\"alert alert-info\" style=\"border:solid blue 2px; padding: 20px\">\n",
    "   So since it was established above it cant be hours or minutes (or seconds), i will change days_employed to time_employed instead of hours_employed."
   ]
  },
  {
   "cell_type": "code",
   "execution_count": 59,
   "metadata": {},
   "outputs": [
    {
     "data": {
      "text/html": [
       "<div>\n",
       "<style scoped>\n",
       "    .dataframe tbody tr th:only-of-type {\n",
       "        vertical-align: middle;\n",
       "    }\n",
       "\n",
       "    .dataframe tbody tr th {\n",
       "        vertical-align: top;\n",
       "    }\n",
       "\n",
       "    .dataframe thead th {\n",
       "        text-align: right;\n",
       "    }\n",
       "</style>\n",
       "<table border=\"1\" class=\"dataframe\">\n",
       "  <thead>\n",
       "    <tr style=\"text-align: right;\">\n",
       "      <th></th>\n",
       "      <th>children</th>\n",
       "      <th>time_employed</th>\n",
       "      <th>years_in_bank</th>\n",
       "      <th>education</th>\n",
       "      <th>education_id</th>\n",
       "      <th>marital_status</th>\n",
       "      <th>marital_status_id</th>\n",
       "      <th>gender</th>\n",
       "      <th>income_type</th>\n",
       "      <th>debt</th>\n",
       "      <th>total_income</th>\n",
       "      <th>purpose</th>\n",
       "    </tr>\n",
       "  </thead>\n",
       "  <tbody>\n",
       "    <tr>\n",
       "      <td>0</td>\n",
       "      <td>1</td>\n",
       "      <td>8437</td>\n",
       "      <td>42</td>\n",
       "      <td>bachelor's degree</td>\n",
       "      <td>0</td>\n",
       "      <td>married</td>\n",
       "      <td>0</td>\n",
       "      <td>F</td>\n",
       "      <td>employee</td>\n",
       "      <td>0</td>\n",
       "      <td>40620</td>\n",
       "      <td>house</td>\n",
       "    </tr>\n",
       "    <tr>\n",
       "      <td>1</td>\n",
       "      <td>1</td>\n",
       "      <td>4024</td>\n",
       "      <td>36</td>\n",
       "      <td>secondary education</td>\n",
       "      <td>1</td>\n",
       "      <td>married</td>\n",
       "      <td>0</td>\n",
       "      <td>F</td>\n",
       "      <td>employee</td>\n",
       "      <td>0</td>\n",
       "      <td>17932</td>\n",
       "      <td>car</td>\n",
       "    </tr>\n",
       "    <tr>\n",
       "      <td>2</td>\n",
       "      <td>0</td>\n",
       "      <td>5623</td>\n",
       "      <td>33</td>\n",
       "      <td>secondary education</td>\n",
       "      <td>1</td>\n",
       "      <td>married</td>\n",
       "      <td>0</td>\n",
       "      <td>M</td>\n",
       "      <td>employee</td>\n",
       "      <td>0</td>\n",
       "      <td>23341</td>\n",
       "      <td>house</td>\n",
       "    </tr>\n",
       "    <tr>\n",
       "      <td>3</td>\n",
       "      <td>3</td>\n",
       "      <td>4124</td>\n",
       "      <td>32</td>\n",
       "      <td>secondary education</td>\n",
       "      <td>1</td>\n",
       "      <td>married</td>\n",
       "      <td>0</td>\n",
       "      <td>M</td>\n",
       "      <td>employee</td>\n",
       "      <td>0</td>\n",
       "      <td>42820</td>\n",
       "      <td>education</td>\n",
       "    </tr>\n",
       "    <tr>\n",
       "      <td>4</td>\n",
       "      <td>0</td>\n",
       "      <td>340266</td>\n",
       "      <td>53</td>\n",
       "      <td>secondary education</td>\n",
       "      <td>1</td>\n",
       "      <td>civil partnership</td>\n",
       "      <td>1</td>\n",
       "      <td>F</td>\n",
       "      <td>retiree</td>\n",
       "      <td>0</td>\n",
       "      <td>25378</td>\n",
       "      <td>wedding</td>\n",
       "    </tr>\n",
       "    <tr>\n",
       "      <td>...</td>\n",
       "      <td>...</td>\n",
       "      <td>...</td>\n",
       "      <td>...</td>\n",
       "      <td>...</td>\n",
       "      <td>...</td>\n",
       "      <td>...</td>\n",
       "      <td>...</td>\n",
       "      <td>...</td>\n",
       "      <td>...</td>\n",
       "      <td>...</td>\n",
       "      <td>...</td>\n",
       "      <td>...</td>\n",
       "    </tr>\n",
       "    <tr>\n",
       "      <td>21449</td>\n",
       "      <td>1</td>\n",
       "      <td>4529</td>\n",
       "      <td>43</td>\n",
       "      <td>secondary education</td>\n",
       "      <td>1</td>\n",
       "      <td>civil partnership</td>\n",
       "      <td>1</td>\n",
       "      <td>F</td>\n",
       "      <td>business</td>\n",
       "      <td>0</td>\n",
       "      <td>35966</td>\n",
       "      <td>house</td>\n",
       "    </tr>\n",
       "    <tr>\n",
       "      <td>21450</td>\n",
       "      <td>0</td>\n",
       "      <td>343937</td>\n",
       "      <td>67</td>\n",
       "      <td>secondary education</td>\n",
       "      <td>1</td>\n",
       "      <td>married</td>\n",
       "      <td>0</td>\n",
       "      <td>F</td>\n",
       "      <td>retiree</td>\n",
       "      <td>0</td>\n",
       "      <td>24959</td>\n",
       "      <td>car</td>\n",
       "    </tr>\n",
       "    <tr>\n",
       "      <td>21451</td>\n",
       "      <td>1</td>\n",
       "      <td>2113</td>\n",
       "      <td>38</td>\n",
       "      <td>secondary education</td>\n",
       "      <td>1</td>\n",
       "      <td>civil partnership</td>\n",
       "      <td>1</td>\n",
       "      <td>M</td>\n",
       "      <td>employee</td>\n",
       "      <td>1</td>\n",
       "      <td>14347</td>\n",
       "      <td>house</td>\n",
       "    </tr>\n",
       "    <tr>\n",
       "      <td>21452</td>\n",
       "      <td>3</td>\n",
       "      <td>3112</td>\n",
       "      <td>38</td>\n",
       "      <td>secondary education</td>\n",
       "      <td>1</td>\n",
       "      <td>married</td>\n",
       "      <td>0</td>\n",
       "      <td>M</td>\n",
       "      <td>employee</td>\n",
       "      <td>1</td>\n",
       "      <td>39054</td>\n",
       "      <td>car</td>\n",
       "    </tr>\n",
       "    <tr>\n",
       "      <td>21453</td>\n",
       "      <td>2</td>\n",
       "      <td>1984</td>\n",
       "      <td>40</td>\n",
       "      <td>secondary education</td>\n",
       "      <td>1</td>\n",
       "      <td>married</td>\n",
       "      <td>0</td>\n",
       "      <td>F</td>\n",
       "      <td>employee</td>\n",
       "      <td>0</td>\n",
       "      <td>13127</td>\n",
       "      <td>car</td>\n",
       "    </tr>\n",
       "  </tbody>\n",
       "</table>\n",
       "<p>21454 rows × 12 columns</p>\n",
       "</div>"
      ],
      "text/plain": [
       "       children  time_employed  years_in_bank            education  \\\n",
       "0             1           8437             42    bachelor's degree   \n",
       "1             1           4024             36  secondary education   \n",
       "2             0           5623             33  secondary education   \n",
       "3             3           4124             32  secondary education   \n",
       "4             0         340266             53  secondary education   \n",
       "...         ...            ...            ...                  ...   \n",
       "21449         1           4529             43  secondary education   \n",
       "21450         0         343937             67  secondary education   \n",
       "21451         1           2113             38  secondary education   \n",
       "21452         3           3112             38  secondary education   \n",
       "21453         2           1984             40  secondary education   \n",
       "\n",
       "       education_id     marital_status  marital_status_id gender income_type  \\\n",
       "0                 0            married                  0      F    employee   \n",
       "1                 1            married                  0      F    employee   \n",
       "2                 1            married                  0      M    employee   \n",
       "3                 1            married                  0      M    employee   \n",
       "4                 1  civil partnership                  1      F     retiree   \n",
       "...             ...                ...                ...    ...         ...   \n",
       "21449             1  civil partnership                  1      F    business   \n",
       "21450             1            married                  0      F     retiree   \n",
       "21451             1  civil partnership                  1      M    employee   \n",
       "21452             1            married                  0      M    employee   \n",
       "21453             1            married                  0      F    employee   \n",
       "\n",
       "       debt  total_income    purpose  \n",
       "0         0         40620      house  \n",
       "1         0         17932        car  \n",
       "2         0         23341      house  \n",
       "3         0         42820  education  \n",
       "4         0         25378    wedding  \n",
       "...     ...           ...        ...  \n",
       "21449     0         35966      house  \n",
       "21450     0         24959        car  \n",
       "21451     1         14347      house  \n",
       "21452     1         39054        car  \n",
       "21453     0         13127        car  \n",
       "\n",
       "[21454 rows x 12 columns]"
      ]
     },
     "execution_count": 59,
     "metadata": {},
     "output_type": "execute_result"
    }
   ],
   "source": [
    "# renaming the dob_years and days_employed columns\n",
    "renamed_columns = {'dob_years': 'years_in_bank', 'days_employed': 'time_employed', 'family_status': 'marital_status', 'family_status_id': 'marital_status_id'}\n",
    "orgnzd_credit_score.rename(renamed_columns, axis=1, inplace=True)\n",
    "orgnzd_credit_score"
   ]
  },
  {
   "cell_type": "markdown",
   "metadata": {},
   "source": [
    "### Conclusion"
   ]
  },
  {
   "cell_type": "markdown",
   "metadata": {},
   "source": [
    "I renamed the columns.\n",
    "\n",
    "for order's sake ill write all the code need for answering the next questions, below each question respectively."
   ]
  },
  {
   "cell_type": "markdown",
   "metadata": {},
   "source": [
    "<div style=\"border:solid green 2px; padding: 20px\"> <b>Success:</b><br>\n",
    "    Good work! 👍</div>    "
   ]
  },
  {
   "cell_type": "markdown",
   "metadata": {},
   "source": [
    "## Answer these questions"
   ]
  },
  {
   "cell_type": "markdown",
   "metadata": {},
   "source": [
    "###### childrent/debt relation"
   ]
  },
  {
   "cell_type": "markdown",
   "metadata": {},
   "source": [
    "- Is there a relation between having kids and repaying a loan on time?"
   ]
  },
  {
   "cell_type": "code",
   "execution_count": 60,
   "metadata": {
    "scrolled": true
   },
   "outputs": [
    {
     "data": {
      "text/html": [
       "<div>\n",
       "<style scoped>\n",
       "    .dataframe tbody tr th:only-of-type {\n",
       "        vertical-align: middle;\n",
       "    }\n",
       "\n",
       "    .dataframe tbody tr th {\n",
       "        vertical-align: top;\n",
       "    }\n",
       "\n",
       "    .dataframe thead th {\n",
       "        text-align: right;\n",
       "    }\n",
       "</style>\n",
       "<table border=\"1\" class=\"dataframe\">\n",
       "  <thead>\n",
       "    <tr style=\"text-align: right;\">\n",
       "      <th></th>\n",
       "      <th>children</th>\n",
       "      <th>debt</th>\n",
       "    </tr>\n",
       "  </thead>\n",
       "  <tbody>\n",
       "    <tr>\n",
       "      <td>0</td>\n",
       "      <td>1</td>\n",
       "      <td>0</td>\n",
       "    </tr>\n",
       "    <tr>\n",
       "      <td>1</td>\n",
       "      <td>1</td>\n",
       "      <td>0</td>\n",
       "    </tr>\n",
       "    <tr>\n",
       "      <td>2</td>\n",
       "      <td>0</td>\n",
       "      <td>0</td>\n",
       "    </tr>\n",
       "    <tr>\n",
       "      <td>3</td>\n",
       "      <td>3</td>\n",
       "      <td>0</td>\n",
       "    </tr>\n",
       "    <tr>\n",
       "      <td>4</td>\n",
       "      <td>0</td>\n",
       "      <td>0</td>\n",
       "    </tr>\n",
       "    <tr>\n",
       "      <td>...</td>\n",
       "      <td>...</td>\n",
       "      <td>...</td>\n",
       "    </tr>\n",
       "    <tr>\n",
       "      <td>21449</td>\n",
       "      <td>1</td>\n",
       "      <td>0</td>\n",
       "    </tr>\n",
       "    <tr>\n",
       "      <td>21450</td>\n",
       "      <td>0</td>\n",
       "      <td>0</td>\n",
       "    </tr>\n",
       "    <tr>\n",
       "      <td>21451</td>\n",
       "      <td>1</td>\n",
       "      <td>1</td>\n",
       "    </tr>\n",
       "    <tr>\n",
       "      <td>21452</td>\n",
       "      <td>3</td>\n",
       "      <td>1</td>\n",
       "    </tr>\n",
       "    <tr>\n",
       "      <td>21453</td>\n",
       "      <td>2</td>\n",
       "      <td>0</td>\n",
       "    </tr>\n",
       "  </tbody>\n",
       "</table>\n",
       "<p>21454 rows × 2 columns</p>\n",
       "</div>"
      ],
      "text/plain": [
       "       children  debt\n",
       "0             1     0\n",
       "1             1     0\n",
       "2             0     0\n",
       "3             3     0\n",
       "4             0     0\n",
       "...         ...   ...\n",
       "21449         1     0\n",
       "21450         0     0\n",
       "21451         1     1\n",
       "21452         3     1\n",
       "21453         2     0\n",
       "\n",
       "[21454 rows x 2 columns]"
      ]
     },
     "execution_count": 60,
     "metadata": {},
     "output_type": "execute_result"
    }
   ],
   "source": [
    "# making a children/debt table\n",
    "children_debt_relation = orgnzd_credit_score[['children', 'debt']]\n",
    "children_debt_relation"
   ]
  },
  {
   "cell_type": "code",
   "execution_count": 61,
   "metadata": {},
   "outputs": [
    {
     "data": {
      "text/html": [
       "<div>\n",
       "<style scoped>\n",
       "    .dataframe tbody tr th:only-of-type {\n",
       "        vertical-align: middle;\n",
       "    }\n",
       "\n",
       "    .dataframe tbody tr th {\n",
       "        vertical-align: top;\n",
       "    }\n",
       "\n",
       "    .dataframe thead tr th {\n",
       "        text-align: left;\n",
       "    }\n",
       "\n",
       "    .dataframe thead tr:last-of-type th {\n",
       "        text-align: right;\n",
       "    }\n",
       "</style>\n",
       "<table border=\"1\" class=\"dataframe\">\n",
       "  <thead>\n",
       "    <tr>\n",
       "      <th></th>\n",
       "      <th></th>\n",
       "      <th>debt</th>\n",
       "    </tr>\n",
       "    <tr>\n",
       "      <th></th>\n",
       "      <th></th>\n",
       "      <th>value_counts</th>\n",
       "    </tr>\n",
       "    <tr>\n",
       "      <th>children</th>\n",
       "      <th>debt</th>\n",
       "      <th></th>\n",
       "    </tr>\n",
       "  </thead>\n",
       "  <tbody>\n",
       "    <tr>\n",
       "      <td rowspan=\"2\" valign=\"top\">0</td>\n",
       "      <td>0</td>\n",
       "      <td>13028</td>\n",
       "    </tr>\n",
       "    <tr>\n",
       "      <td>1</td>\n",
       "      <td>1063</td>\n",
       "    </tr>\n",
       "    <tr>\n",
       "      <td rowspan=\"2\" valign=\"top\">1</td>\n",
       "      <td>0</td>\n",
       "      <td>4410</td>\n",
       "    </tr>\n",
       "    <tr>\n",
       "      <td>1</td>\n",
       "      <td>445</td>\n",
       "    </tr>\n",
       "    <tr>\n",
       "      <td rowspan=\"2\" valign=\"top\">2</td>\n",
       "      <td>0</td>\n",
       "      <td>1926</td>\n",
       "    </tr>\n",
       "    <tr>\n",
       "      <td>1</td>\n",
       "      <td>202</td>\n",
       "    </tr>\n",
       "    <tr>\n",
       "      <td rowspan=\"2\" valign=\"top\">3</td>\n",
       "      <td>0</td>\n",
       "      <td>303</td>\n",
       "    </tr>\n",
       "    <tr>\n",
       "      <td>1</td>\n",
       "      <td>27</td>\n",
       "    </tr>\n",
       "    <tr>\n",
       "      <td rowspan=\"2\" valign=\"top\">4</td>\n",
       "      <td>0</td>\n",
       "      <td>37</td>\n",
       "    </tr>\n",
       "    <tr>\n",
       "      <td>1</td>\n",
       "      <td>4</td>\n",
       "    </tr>\n",
       "    <tr>\n",
       "      <td>5</td>\n",
       "      <td>0</td>\n",
       "      <td>9</td>\n",
       "    </tr>\n",
       "  </tbody>\n",
       "</table>\n",
       "</div>"
      ],
      "text/plain": [
       "                      debt\n",
       "              value_counts\n",
       "children debt             \n",
       "0        0           13028\n",
       "         1            1063\n",
       "1        0            4410\n",
       "         1             445\n",
       "2        0            1926\n",
       "         1             202\n",
       "3        0             303\n",
       "         1              27\n",
       "4        0              37\n",
       "         1               4\n",
       "5        0               9"
      ]
     },
     "execution_count": 61,
     "metadata": {},
     "output_type": "execute_result"
    }
   ],
   "source": [
    "# looking at the value counts for each number of children\n",
    "children_debt_relation.groupby('children').agg({'debt': ['value_counts']})"
   ]
  },
  {
   "cell_type": "markdown",
   "metadata": {},
   "source": [
    "Since there are much less amount of customers that has 1,2,3,4,5 children then customers that dont have at all, there is no point calculating the default rate for each of them separatly because its not an equal comparison, so ill just combine them all in to 2 groups: 'no_kids' and 'have_kids' otherwise we'll get an answer that customers that have 5 kids will never default a loan, but it'll be based only on 9 cases."
   ]
  },
  {
   "cell_type": "code",
   "execution_count": 62,
   "metadata": {},
   "outputs": [
    {
     "name": "stderr",
     "output_type": "stream",
     "text": [
      "/opt/conda/lib/python3.7/site-packages/ipykernel_launcher.py:7: SettingWithCopyWarning: \n",
      "A value is trying to be set on a copy of a slice from a DataFrame.\n",
      "Try using .loc[row_indexer,col_indexer] = value instead\n",
      "\n",
      "See the caveats in the documentation: http://pandas.pydata.org/pandas-docs/stable/user_guide/indexing.html#returning-a-view-versus-a-copy\n",
      "  import sys\n"
     ]
    },
    {
     "data": {
      "text/html": [
       "<div>\n",
       "<style scoped>\n",
       "    .dataframe tbody tr th:only-of-type {\n",
       "        vertical-align: middle;\n",
       "    }\n",
       "\n",
       "    .dataframe tbody tr th {\n",
       "        vertical-align: top;\n",
       "    }\n",
       "\n",
       "    .dataframe thead th {\n",
       "        text-align: right;\n",
       "    }\n",
       "</style>\n",
       "<table border=\"1\" class=\"dataframe\">\n",
       "  <thead>\n",
       "    <tr style=\"text-align: right;\">\n",
       "      <th></th>\n",
       "      <th>children</th>\n",
       "      <th>debt</th>\n",
       "      <th>kids</th>\n",
       "    </tr>\n",
       "  </thead>\n",
       "  <tbody>\n",
       "    <tr>\n",
       "      <td>0</td>\n",
       "      <td>1</td>\n",
       "      <td>0</td>\n",
       "      <td>have_kids</td>\n",
       "    </tr>\n",
       "    <tr>\n",
       "      <td>1</td>\n",
       "      <td>1</td>\n",
       "      <td>0</td>\n",
       "      <td>have_kids</td>\n",
       "    </tr>\n",
       "    <tr>\n",
       "      <td>2</td>\n",
       "      <td>0</td>\n",
       "      <td>0</td>\n",
       "      <td>no_kids</td>\n",
       "    </tr>\n",
       "    <tr>\n",
       "      <td>3</td>\n",
       "      <td>3</td>\n",
       "      <td>0</td>\n",
       "      <td>have_kids</td>\n",
       "    </tr>\n",
       "    <tr>\n",
       "      <td>4</td>\n",
       "      <td>0</td>\n",
       "      <td>0</td>\n",
       "      <td>no_kids</td>\n",
       "    </tr>\n",
       "    <tr>\n",
       "      <td>...</td>\n",
       "      <td>...</td>\n",
       "      <td>...</td>\n",
       "      <td>...</td>\n",
       "    </tr>\n",
       "    <tr>\n",
       "      <td>21449</td>\n",
       "      <td>1</td>\n",
       "      <td>0</td>\n",
       "      <td>have_kids</td>\n",
       "    </tr>\n",
       "    <tr>\n",
       "      <td>21450</td>\n",
       "      <td>0</td>\n",
       "      <td>0</td>\n",
       "      <td>no_kids</td>\n",
       "    </tr>\n",
       "    <tr>\n",
       "      <td>21451</td>\n",
       "      <td>1</td>\n",
       "      <td>1</td>\n",
       "      <td>have_kids</td>\n",
       "    </tr>\n",
       "    <tr>\n",
       "      <td>21452</td>\n",
       "      <td>3</td>\n",
       "      <td>1</td>\n",
       "      <td>have_kids</td>\n",
       "    </tr>\n",
       "    <tr>\n",
       "      <td>21453</td>\n",
       "      <td>2</td>\n",
       "      <td>0</td>\n",
       "      <td>have_kids</td>\n",
       "    </tr>\n",
       "  </tbody>\n",
       "</table>\n",
       "<p>21454 rows × 3 columns</p>\n",
       "</div>"
      ],
      "text/plain": [
       "       children  debt       kids\n",
       "0             1     0  have_kids\n",
       "1             1     0  have_kids\n",
       "2             0     0    no_kids\n",
       "3             3     0  have_kids\n",
       "4             0     0    no_kids\n",
       "...         ...   ...        ...\n",
       "21449         1     0  have_kids\n",
       "21450         0     0    no_kids\n",
       "21451         1     1  have_kids\n",
       "21452         3     1  have_kids\n",
       "21453         2     0  have_kids\n",
       "\n",
       "[21454 rows x 3 columns]"
      ]
     },
     "execution_count": 62,
     "metadata": {},
     "output_type": "execute_result"
    }
   ],
   "source": [
    "# making a function to divide children column in to 2 groups\n",
    "def kids_group(amount):\n",
    "    if amount == 0:\n",
    "        return 'no_kids'\n",
    "    return 'have_kids'\n",
    "\n",
    "children_debt_relation['kids'] = children_debt_relation['children'].apply(kids_group)\n",
    "children_debt_relation"
   ]
  },
  {
   "cell_type": "markdown",
   "metadata": {},
   "source": [
    "<div style=\"border:solid green 2px; padding: 20px\"> <b>Success:</b><br>\n",
    "    All good here.</div>       "
   ]
  },
  {
   "cell_type": "code",
   "execution_count": 63,
   "metadata": {},
   "outputs": [
    {
     "data": {
      "text/html": [
       "<div>\n",
       "<style scoped>\n",
       "    .dataframe tbody tr th:only-of-type {\n",
       "        vertical-align: middle;\n",
       "    }\n",
       "\n",
       "    .dataframe tbody tr th {\n",
       "        vertical-align: top;\n",
       "    }\n",
       "\n",
       "    .dataframe thead tr th {\n",
       "        text-align: left;\n",
       "    }\n",
       "\n",
       "    .dataframe thead tr:last-of-type th {\n",
       "        text-align: right;\n",
       "    }\n",
       "</style>\n",
       "<table border=\"1\" class=\"dataframe\">\n",
       "  <thead>\n",
       "    <tr>\n",
       "      <th></th>\n",
       "      <th>sum</th>\n",
       "      <th>count</th>\n",
       "      <th>mean</th>\n",
       "    </tr>\n",
       "    <tr>\n",
       "      <th></th>\n",
       "      <th>debt</th>\n",
       "      <th>debt</th>\n",
       "      <th>debt</th>\n",
       "    </tr>\n",
       "    <tr>\n",
       "      <th>kids</th>\n",
       "      <th></th>\n",
       "      <th></th>\n",
       "      <th></th>\n",
       "    </tr>\n",
       "  </thead>\n",
       "  <tbody>\n",
       "    <tr>\n",
       "      <td>have_kids</td>\n",
       "      <td>678</td>\n",
       "      <td>7363</td>\n",
       "      <td>0.092082</td>\n",
       "    </tr>\n",
       "    <tr>\n",
       "      <td>no_kids</td>\n",
       "      <td>1063</td>\n",
       "      <td>14091</td>\n",
       "      <td>0.075438</td>\n",
       "    </tr>\n",
       "  </tbody>\n",
       "</table>\n",
       "</div>"
      ],
      "text/plain": [
       "            sum  count      mean\n",
       "           debt   debt      debt\n",
       "kids                            \n",
       "have_kids   678   7363  0.092082\n",
       "no_kids    1063  14091  0.075438"
      ]
     },
     "execution_count": 63,
     "metadata": {},
     "output_type": "execute_result"
    }
   ],
   "source": [
    "# making a pivot table to see how much there is for each group\n",
    "children_debt_pivot = children_debt_relation.pivot_table(\n",
    "    index = 'kids',\n",
    "    #columns = 'debt',\n",
    "    values = 'debt',\n",
    "    aggfunc = ['sum', 'count', 'mean']\n",
    ")\n",
    "children_debt_pivot"
   ]
  },
  {
   "cell_type": "markdown",
   "metadata": {},
   "source": [
    "<div style=\"border:solid green 2px; padding: 20px\"> <b>Success:</b><br>\n",
    "   Wow, it's really great that you know this method of pivot table that helps to avoid additional calculations. Very well!</div>       "
   ]
  },
  {
   "cell_type": "code",
   "execution_count": 64,
   "metadata": {},
   "outputs": [
    {
     "data": {
      "text/html": [
       "<div>\n",
       "<style scoped>\n",
       "    .dataframe tbody tr th:only-of-type {\n",
       "        vertical-align: middle;\n",
       "    }\n",
       "\n",
       "    .dataframe tbody tr th {\n",
       "        vertical-align: top;\n",
       "    }\n",
       "\n",
       "    .dataframe thead tr th {\n",
       "        text-align: left;\n",
       "    }\n",
       "\n",
       "    .dataframe thead tr:last-of-type th {\n",
       "        text-align: right;\n",
       "    }\n",
       "</style>\n",
       "<table border=\"1\" class=\"dataframe\">\n",
       "  <thead>\n",
       "    <tr>\n",
       "      <th></th>\n",
       "      <th>sum</th>\n",
       "      <th>count</th>\n",
       "      <th>mean</th>\n",
       "      <th>default_rate</th>\n",
       "    </tr>\n",
       "    <tr>\n",
       "      <th></th>\n",
       "      <th>debt</th>\n",
       "      <th>debt</th>\n",
       "      <th>debt</th>\n",
       "      <th></th>\n",
       "    </tr>\n",
       "    <tr>\n",
       "      <th>kids</th>\n",
       "      <th></th>\n",
       "      <th></th>\n",
       "      <th></th>\n",
       "      <th></th>\n",
       "    </tr>\n",
       "  </thead>\n",
       "  <tbody>\n",
       "    <tr>\n",
       "      <td>have_kids</td>\n",
       "      <td>678</td>\n",
       "      <td>7363</td>\n",
       "      <td>0.092082</td>\n",
       "      <td>9.208%</td>\n",
       "    </tr>\n",
       "    <tr>\n",
       "      <td>no_kids</td>\n",
       "      <td>1063</td>\n",
       "      <td>14091</td>\n",
       "      <td>0.075438</td>\n",
       "      <td>7.544%</td>\n",
       "    </tr>\n",
       "  </tbody>\n",
       "</table>\n",
       "</div>"
      ],
      "text/plain": [
       "            sum  count      mean default_rate\n",
       "           debt   debt      debt             \n",
       "kids                                         \n",
       "have_kids   678   7363  0.092082       9.208%\n",
       "no_kids    1063  14091  0.075438       7.544%"
      ]
     },
     "execution_count": 64,
     "metadata": {},
     "output_type": "execute_result"
    }
   ],
   "source": [
    "# adding the default_rate for each group in percents\n",
    "perc_calc = (children_debt_pivot['mean']) * 100\n",
    "perc_calc = round(perc_calc, 3)\n",
    "children_debt_pivot['default_rate'] = (perc_calc).astype(str) + '%'\n",
    "children_debt_pivot"
   ]
  },
  {
   "cell_type": "markdown",
   "metadata": {},
   "source": [
    "### Conclusion"
   ]
  },
  {
   "cell_type": "markdown",
   "metadata": {},
   "source": [
    "So it seems it would be safer to give a loan to customers with no kids, makes sense, but we also must take into account that the amount of customers with no kids, is almost double the amount of customers with kids so the result is probably somewhat skewed."
   ]
  },
  {
   "cell_type": "markdown",
   "metadata": {},
   "source": [
    "<div style=\"border:solid green 2px; padding: 20px\"> <b>Success:</b><br>\n",
    "    Great!</div>       "
   ]
  },
  {
   "cell_type": "markdown",
   "metadata": {},
   "source": [
    "###### marital status/debt relation"
   ]
  },
  {
   "cell_type": "markdown",
   "metadata": {},
   "source": [
    "- Is there a relation between marital status and repaying a loan on time?"
   ]
  },
  {
   "cell_type": "code",
   "execution_count": 65,
   "metadata": {
    "scrolled": true
   },
   "outputs": [
    {
     "data": {
      "text/html": [
       "<div>\n",
       "<style scoped>\n",
       "    .dataframe tbody tr th:only-of-type {\n",
       "        vertical-align: middle;\n",
       "    }\n",
       "\n",
       "    .dataframe tbody tr th {\n",
       "        vertical-align: top;\n",
       "    }\n",
       "\n",
       "    .dataframe thead th {\n",
       "        text-align: right;\n",
       "    }\n",
       "</style>\n",
       "<table border=\"1\" class=\"dataframe\">\n",
       "  <thead>\n",
       "    <tr style=\"text-align: right;\">\n",
       "      <th></th>\n",
       "      <th>marital_status</th>\n",
       "      <th>debt</th>\n",
       "    </tr>\n",
       "  </thead>\n",
       "  <tbody>\n",
       "    <tr>\n",
       "      <td>0</td>\n",
       "      <td>married</td>\n",
       "      <td>0</td>\n",
       "    </tr>\n",
       "    <tr>\n",
       "      <td>1</td>\n",
       "      <td>married</td>\n",
       "      <td>0</td>\n",
       "    </tr>\n",
       "    <tr>\n",
       "      <td>2</td>\n",
       "      <td>married</td>\n",
       "      <td>0</td>\n",
       "    </tr>\n",
       "    <tr>\n",
       "      <td>3</td>\n",
       "      <td>married</td>\n",
       "      <td>0</td>\n",
       "    </tr>\n",
       "    <tr>\n",
       "      <td>4</td>\n",
       "      <td>civil partnership</td>\n",
       "      <td>0</td>\n",
       "    </tr>\n",
       "    <tr>\n",
       "      <td>...</td>\n",
       "      <td>...</td>\n",
       "      <td>...</td>\n",
       "    </tr>\n",
       "    <tr>\n",
       "      <td>21449</td>\n",
       "      <td>civil partnership</td>\n",
       "      <td>0</td>\n",
       "    </tr>\n",
       "    <tr>\n",
       "      <td>21450</td>\n",
       "      <td>married</td>\n",
       "      <td>0</td>\n",
       "    </tr>\n",
       "    <tr>\n",
       "      <td>21451</td>\n",
       "      <td>civil partnership</td>\n",
       "      <td>1</td>\n",
       "    </tr>\n",
       "    <tr>\n",
       "      <td>21452</td>\n",
       "      <td>married</td>\n",
       "      <td>1</td>\n",
       "    </tr>\n",
       "    <tr>\n",
       "      <td>21453</td>\n",
       "      <td>married</td>\n",
       "      <td>0</td>\n",
       "    </tr>\n",
       "  </tbody>\n",
       "</table>\n",
       "<p>21454 rows × 2 columns</p>\n",
       "</div>"
      ],
      "text/plain": [
       "          marital_status  debt\n",
       "0                married     0\n",
       "1                married     0\n",
       "2                married     0\n",
       "3                married     0\n",
       "4      civil partnership     0\n",
       "...                  ...   ...\n",
       "21449  civil partnership     0\n",
       "21450            married     0\n",
       "21451  civil partnership     1\n",
       "21452            married     1\n",
       "21453            married     0\n",
       "\n",
       "[21454 rows x 2 columns]"
      ]
     },
     "execution_count": 65,
     "metadata": {},
     "output_type": "execute_result"
    }
   ],
   "source": [
    "# making a marital_status/debt table\n",
    "marital_status_debt_relation = orgnzd_credit_score[['marital_status', 'debt']]\n",
    "marital_status_debt_relation"
   ]
  },
  {
   "cell_type": "code",
   "execution_count": 66,
   "metadata": {},
   "outputs": [
    {
     "data": {
      "text/html": [
       "<div>\n",
       "<style scoped>\n",
       "    .dataframe tbody tr th:only-of-type {\n",
       "        vertical-align: middle;\n",
       "    }\n",
       "\n",
       "    .dataframe tbody tr th {\n",
       "        vertical-align: top;\n",
       "    }\n",
       "\n",
       "    .dataframe thead tr th {\n",
       "        text-align: left;\n",
       "    }\n",
       "\n",
       "    .dataframe thead tr:last-of-type th {\n",
       "        text-align: right;\n",
       "    }\n",
       "</style>\n",
       "<table border=\"1\" class=\"dataframe\">\n",
       "  <thead>\n",
       "    <tr>\n",
       "      <th></th>\n",
       "      <th>sum</th>\n",
       "      <th>count</th>\n",
       "      <th>mean</th>\n",
       "    </tr>\n",
       "    <tr>\n",
       "      <th></th>\n",
       "      <th>debt</th>\n",
       "      <th>debt</th>\n",
       "      <th>debt</th>\n",
       "    </tr>\n",
       "    <tr>\n",
       "      <th>marital_status</th>\n",
       "      <th></th>\n",
       "      <th></th>\n",
       "      <th></th>\n",
       "    </tr>\n",
       "  </thead>\n",
       "  <tbody>\n",
       "    <tr>\n",
       "      <td>civil partnership</td>\n",
       "      <td>388</td>\n",
       "      <td>4151</td>\n",
       "      <td>0.093471</td>\n",
       "    </tr>\n",
       "    <tr>\n",
       "      <td>divorced</td>\n",
       "      <td>85</td>\n",
       "      <td>1195</td>\n",
       "      <td>0.071130</td>\n",
       "    </tr>\n",
       "    <tr>\n",
       "      <td>married</td>\n",
       "      <td>931</td>\n",
       "      <td>12339</td>\n",
       "      <td>0.075452</td>\n",
       "    </tr>\n",
       "    <tr>\n",
       "      <td>unmarried</td>\n",
       "      <td>274</td>\n",
       "      <td>2810</td>\n",
       "      <td>0.097509</td>\n",
       "    </tr>\n",
       "    <tr>\n",
       "      <td>widow / widower</td>\n",
       "      <td>63</td>\n",
       "      <td>959</td>\n",
       "      <td>0.065693</td>\n",
       "    </tr>\n",
       "  </tbody>\n",
       "</table>\n",
       "</div>"
      ],
      "text/plain": [
       "                   sum  count      mean\n",
       "                  debt   debt      debt\n",
       "marital_status                         \n",
       "civil partnership  388   4151  0.093471\n",
       "divorced            85   1195  0.071130\n",
       "married            931  12339  0.075452\n",
       "unmarried          274   2810  0.097509\n",
       "widow / widower     63    959  0.065693"
      ]
     },
     "execution_count": 66,
     "metadata": {},
     "output_type": "execute_result"
    }
   ],
   "source": [
    "# marital_status_debt_relation.groupby('marital_status').agg({'debt': ['value_counts']})\n",
    "# making a pivot table to see how much there is for each group\n",
    "marital_status_debt_pivot = marital_status_debt_relation.pivot_table(\n",
    "    index = 'marital_status',\n",
    "    #columns = 'debt',\n",
    "    values = 'debt',\n",
    "    aggfunc = ['sum', 'count', 'mean']\n",
    ")\n",
    "marital_status_debt_pivot"
   ]
  },
  {
   "cell_type": "code",
   "execution_count": 67,
   "metadata": {},
   "outputs": [
    {
     "data": {
      "text/html": [
       "<div>\n",
       "<style scoped>\n",
       "    .dataframe tbody tr th:only-of-type {\n",
       "        vertical-align: middle;\n",
       "    }\n",
       "\n",
       "    .dataframe tbody tr th {\n",
       "        vertical-align: top;\n",
       "    }\n",
       "\n",
       "    .dataframe thead tr th {\n",
       "        text-align: left;\n",
       "    }\n",
       "\n",
       "    .dataframe thead tr:last-of-type th {\n",
       "        text-align: right;\n",
       "    }\n",
       "</style>\n",
       "<table border=\"1\" class=\"dataframe\">\n",
       "  <thead>\n",
       "    <tr>\n",
       "      <th></th>\n",
       "      <th>sum</th>\n",
       "      <th>count</th>\n",
       "      <th>mean</th>\n",
       "      <th>default_rate</th>\n",
       "    </tr>\n",
       "    <tr>\n",
       "      <th></th>\n",
       "      <th>debt</th>\n",
       "      <th>debt</th>\n",
       "      <th>debt</th>\n",
       "      <th></th>\n",
       "    </tr>\n",
       "    <tr>\n",
       "      <th>marital_status</th>\n",
       "      <th></th>\n",
       "      <th></th>\n",
       "      <th></th>\n",
       "      <th></th>\n",
       "    </tr>\n",
       "  </thead>\n",
       "  <tbody>\n",
       "    <tr>\n",
       "      <td>civil partnership</td>\n",
       "      <td>388</td>\n",
       "      <td>4151</td>\n",
       "      <td>0.093471</td>\n",
       "      <td>9.347%</td>\n",
       "    </tr>\n",
       "    <tr>\n",
       "      <td>divorced</td>\n",
       "      <td>85</td>\n",
       "      <td>1195</td>\n",
       "      <td>0.071130</td>\n",
       "      <td>7.113%</td>\n",
       "    </tr>\n",
       "    <tr>\n",
       "      <td>married</td>\n",
       "      <td>931</td>\n",
       "      <td>12339</td>\n",
       "      <td>0.075452</td>\n",
       "      <td>7.545%</td>\n",
       "    </tr>\n",
       "    <tr>\n",
       "      <td>unmarried</td>\n",
       "      <td>274</td>\n",
       "      <td>2810</td>\n",
       "      <td>0.097509</td>\n",
       "      <td>9.751%</td>\n",
       "    </tr>\n",
       "    <tr>\n",
       "      <td>widow / widower</td>\n",
       "      <td>63</td>\n",
       "      <td>959</td>\n",
       "      <td>0.065693</td>\n",
       "      <td>6.569%</td>\n",
       "    </tr>\n",
       "  </tbody>\n",
       "</table>\n",
       "</div>"
      ],
      "text/plain": [
       "                   sum  count      mean default_rate\n",
       "                  debt   debt      debt             \n",
       "marital_status                                      \n",
       "civil partnership  388   4151  0.093471       9.347%\n",
       "divorced            85   1195  0.071130       7.113%\n",
       "married            931  12339  0.075452       7.545%\n",
       "unmarried          274   2810  0.097509       9.751%\n",
       "widow / widower     63    959  0.065693       6.569%"
      ]
     },
     "execution_count": 67,
     "metadata": {},
     "output_type": "execute_result"
    }
   ],
   "source": [
    "# adding the default_rate for each group in percents\n",
    "perc_calc = (marital_status_debt_pivot['mean']) * 100\n",
    "perc_calc = round(perc_calc, 3)\n",
    "marital_status_debt_pivot['default_rate'] = (perc_calc).astype(str) + '%'\n",
    "marital_status_debt_pivot"
   ]
  },
  {
   "cell_type": "code",
   "execution_count": 68,
   "metadata": {},
   "outputs": [
    {
     "data": {
      "text/html": [
       "<div>\n",
       "<style scoped>\n",
       "    .dataframe tbody tr th:only-of-type {\n",
       "        vertical-align: middle;\n",
       "    }\n",
       "\n",
       "    .dataframe tbody tr th {\n",
       "        vertical-align: top;\n",
       "    }\n",
       "\n",
       "    .dataframe thead tr th {\n",
       "        text-align: left;\n",
       "    }\n",
       "\n",
       "    .dataframe thead tr:last-of-type th {\n",
       "        text-align: right;\n",
       "    }\n",
       "</style>\n",
       "<table border=\"1\" class=\"dataframe\">\n",
       "  <thead>\n",
       "    <tr>\n",
       "      <th></th>\n",
       "      <th>sum</th>\n",
       "      <th>count</th>\n",
       "      <th>mean</th>\n",
       "      <th>default_rate</th>\n",
       "    </tr>\n",
       "    <tr>\n",
       "      <th></th>\n",
       "      <th>debt</th>\n",
       "      <th>debt</th>\n",
       "      <th>debt</th>\n",
       "      <th></th>\n",
       "    </tr>\n",
       "    <tr>\n",
       "      <th>marital_status</th>\n",
       "      <th></th>\n",
       "      <th></th>\n",
       "      <th></th>\n",
       "      <th></th>\n",
       "    </tr>\n",
       "  </thead>\n",
       "  <tbody>\n",
       "    <tr>\n",
       "      <td>widow / widower</td>\n",
       "      <td>63</td>\n",
       "      <td>959</td>\n",
       "      <td>0.065693</td>\n",
       "      <td>6.569%</td>\n",
       "    </tr>\n",
       "    <tr>\n",
       "      <td>divorced</td>\n",
       "      <td>85</td>\n",
       "      <td>1195</td>\n",
       "      <td>0.071130</td>\n",
       "      <td>7.113%</td>\n",
       "    </tr>\n",
       "    <tr>\n",
       "      <td>married</td>\n",
       "      <td>931</td>\n",
       "      <td>12339</td>\n",
       "      <td>0.075452</td>\n",
       "      <td>7.545%</td>\n",
       "    </tr>\n",
       "    <tr>\n",
       "      <td>civil partnership</td>\n",
       "      <td>388</td>\n",
       "      <td>4151</td>\n",
       "      <td>0.093471</td>\n",
       "      <td>9.347%</td>\n",
       "    </tr>\n",
       "    <tr>\n",
       "      <td>unmarried</td>\n",
       "      <td>274</td>\n",
       "      <td>2810</td>\n",
       "      <td>0.097509</td>\n",
       "      <td>9.751%</td>\n",
       "    </tr>\n",
       "  </tbody>\n",
       "</table>\n",
       "</div>"
      ],
      "text/plain": [
       "                   sum  count      mean default_rate\n",
       "                  debt   debt      debt             \n",
       "marital_status                                      \n",
       "widow / widower     63    959  0.065693       6.569%\n",
       "divorced            85   1195  0.071130       7.113%\n",
       "married            931  12339  0.075452       7.545%\n",
       "civil partnership  388   4151  0.093471       9.347%\n",
       "unmarried          274   2810  0.097509       9.751%"
      ]
     },
     "execution_count": 68,
     "metadata": {},
     "output_type": "execute_result"
    }
   ],
   "source": [
    "# sorting the table by default_rate\n",
    "marital_status_debt_pivot = marital_status_debt_pivot.sort_values('default_rate')\n",
    "marital_status_debt_pivot"
   ]
  },
  {
   "cell_type": "markdown",
   "metadata": {},
   "source": [
    "### Conclusion"
   ]
  },
  {
   "cell_type": "markdown",
   "metadata": {},
   "source": [
    "So it seems it would be safest to give a loan to widows, and the riskiest to give to unmarried. i guess it makes sense since a widow is someone who still already has the experience with financial duties and budget (compared to unmarried) but still has the right to their partners assets and money (compared to a divorced person who does not).\n",
    "\n",
    "(here also we must take into account that the amount of each group is not the same so maybe the result is somewhat skewed)"
   ]
  },
  {
   "cell_type": "markdown",
   "metadata": {},
   "source": [
    "<div style=\"border:solid green 2px; padding: 20px\"> <b>Success:</b><br>\n",
    "    You've done a great job of applying pivot tables to datasets 👍.</div>   "
   ]
  },
  {
   "cell_type": "markdown",
   "metadata": {},
   "source": [
    "###### income/debt relation"
   ]
  },
  {
   "cell_type": "markdown",
   "metadata": {},
   "source": [
    "(I answered this question before all the others because i foresaw it will be the most challenging one)"
   ]
  },
  {
   "cell_type": "markdown",
   "metadata": {},
   "source": [
    "- Is there a relation between income level and repaying a loan on time?"
   ]
  },
  {
   "cell_type": "code",
   "execution_count": 69,
   "metadata": {
    "scrolled": true
   },
   "outputs": [
    {
     "data": {
      "text/html": [
       "<div>\n",
       "<style scoped>\n",
       "    .dataframe tbody tr th:only-of-type {\n",
       "        vertical-align: middle;\n",
       "    }\n",
       "\n",
       "    .dataframe tbody tr th {\n",
       "        vertical-align: top;\n",
       "    }\n",
       "\n",
       "    .dataframe thead th {\n",
       "        text-align: right;\n",
       "    }\n",
       "</style>\n",
       "<table border=\"1\" class=\"dataframe\">\n",
       "  <thead>\n",
       "    <tr style=\"text-align: right;\">\n",
       "      <th></th>\n",
       "      <th>total_income</th>\n",
       "      <th>debt</th>\n",
       "    </tr>\n",
       "  </thead>\n",
       "  <tbody>\n",
       "    <tr>\n",
       "      <td>0</td>\n",
       "      <td>40620</td>\n",
       "      <td>0</td>\n",
       "    </tr>\n",
       "    <tr>\n",
       "      <td>1</td>\n",
       "      <td>17932</td>\n",
       "      <td>0</td>\n",
       "    </tr>\n",
       "    <tr>\n",
       "      <td>2</td>\n",
       "      <td>23341</td>\n",
       "      <td>0</td>\n",
       "    </tr>\n",
       "    <tr>\n",
       "      <td>3</td>\n",
       "      <td>42820</td>\n",
       "      <td>0</td>\n",
       "    </tr>\n",
       "    <tr>\n",
       "      <td>4</td>\n",
       "      <td>25378</td>\n",
       "      <td>0</td>\n",
       "    </tr>\n",
       "    <tr>\n",
       "      <td>...</td>\n",
       "      <td>...</td>\n",
       "      <td>...</td>\n",
       "    </tr>\n",
       "    <tr>\n",
       "      <td>21449</td>\n",
       "      <td>35966</td>\n",
       "      <td>0</td>\n",
       "    </tr>\n",
       "    <tr>\n",
       "      <td>21450</td>\n",
       "      <td>24959</td>\n",
       "      <td>0</td>\n",
       "    </tr>\n",
       "    <tr>\n",
       "      <td>21451</td>\n",
       "      <td>14347</td>\n",
       "      <td>1</td>\n",
       "    </tr>\n",
       "    <tr>\n",
       "      <td>21452</td>\n",
       "      <td>39054</td>\n",
       "      <td>1</td>\n",
       "    </tr>\n",
       "    <tr>\n",
       "      <td>21453</td>\n",
       "      <td>13127</td>\n",
       "      <td>0</td>\n",
       "    </tr>\n",
       "  </tbody>\n",
       "</table>\n",
       "<p>21454 rows × 2 columns</p>\n",
       "</div>"
      ],
      "text/plain": [
       "       total_income  debt\n",
       "0             40620     0\n",
       "1             17932     0\n",
       "2             23341     0\n",
       "3             42820     0\n",
       "4             25378     0\n",
       "...             ...   ...\n",
       "21449         35966     0\n",
       "21450         24959     0\n",
       "21451         14347     1\n",
       "21452         39054     1\n",
       "21453         13127     0\n",
       "\n",
       "[21454 rows x 2 columns]"
      ]
     },
     "execution_count": 69,
     "metadata": {},
     "output_type": "execute_result"
    }
   ],
   "source": [
    "# making a total_income/debt table\n",
    "income_debt_relation = orgnzd_credit_score[['total_income', 'debt']]\n",
    "income_debt_relation"
   ]
  },
  {
   "cell_type": "code",
   "execution_count": 70,
   "metadata": {},
   "outputs": [],
   "source": [
    "#income_debt_relation = income_debt_relation.sort_values('total_income').reset_index(drop=True)\n",
    "#income_debt_relation"
   ]
  },
  {
   "cell_type": "code",
   "execution_count": 71,
   "metadata": {},
   "outputs": [
    {
     "data": {
      "text/html": [
       "<div>\n",
       "<style scoped>\n",
       "    .dataframe tbody tr th:only-of-type {\n",
       "        vertical-align: middle;\n",
       "    }\n",
       "\n",
       "    .dataframe tbody tr th {\n",
       "        vertical-align: top;\n",
       "    }\n",
       "\n",
       "    .dataframe thead th {\n",
       "        text-align: right;\n",
       "    }\n",
       "</style>\n",
       "<table border=\"1\" class=\"dataframe\">\n",
       "  <thead>\n",
       "    <tr style=\"text-align: right;\">\n",
       "      <th></th>\n",
       "      <th>total_income</th>\n",
       "      <th>debt</th>\n",
       "    </tr>\n",
       "  </thead>\n",
       "  <tbody>\n",
       "    <tr>\n",
       "      <td>count</td>\n",
       "      <td>21454.000000</td>\n",
       "      <td>21454.000000</td>\n",
       "    </tr>\n",
       "    <tr>\n",
       "      <td>mean</td>\n",
       "      <td>26448.305537</td>\n",
       "      <td>0.081150</td>\n",
       "    </tr>\n",
       "    <tr>\n",
       "      <td>std</td>\n",
       "      <td>15705.732637</td>\n",
       "      <td>0.273072</td>\n",
       "    </tr>\n",
       "    <tr>\n",
       "      <td>min</td>\n",
       "      <td>3306.000000</td>\n",
       "      <td>0.000000</td>\n",
       "    </tr>\n",
       "    <tr>\n",
       "      <td>25%</td>\n",
       "      <td>17219.500000</td>\n",
       "      <td>0.000000</td>\n",
       "    </tr>\n",
       "    <tr>\n",
       "      <td>50%</td>\n",
       "      <td>22815.000000</td>\n",
       "      <td>0.000000</td>\n",
       "    </tr>\n",
       "    <tr>\n",
       "      <td>75%</td>\n",
       "      <td>31330.000000</td>\n",
       "      <td>0.000000</td>\n",
       "    </tr>\n",
       "    <tr>\n",
       "      <td>max</td>\n",
       "      <td>362496.000000</td>\n",
       "      <td>1.000000</td>\n",
       "    </tr>\n",
       "  </tbody>\n",
       "</table>\n",
       "</div>"
      ],
      "text/plain": [
       "        total_income          debt\n",
       "count   21454.000000  21454.000000\n",
       "mean    26448.305537      0.081150\n",
       "std     15705.732637      0.273072\n",
       "min      3306.000000      0.000000\n",
       "25%     17219.500000      0.000000\n",
       "50%     22815.000000      0.000000\n",
       "75%     31330.000000      0.000000\n",
       "max    362496.000000      1.000000"
      ]
     },
     "execution_count": 71,
     "metadata": {},
     "output_type": "execute_result"
    }
   ],
   "source": [
    "# looking at what are the min and max of total_income\n",
    "income_debt_relation.describe()"
   ]
  },
  {
   "cell_type": "markdown",
   "metadata": {},
   "source": [
    "Since there are a lot of unique incomes i will divide them into 4 groups: low income, below average, above average and high income. I will do it using a function and the apply method."
   ]
  },
  {
   "cell_type": "markdown",
   "metadata": {},
   "source": [
    "(I want to stress that since i dont know what currency it is, i have no clue to what is logical to be low income and is the highest absurdly high or not.. because maybe the low incomes comes from someone who has a 25% part time job in cleaning toilets, and the highest from a full time CEO position so the point being i have no indication that way and thats why i am dividing the income to equivalent groups..) - that was my previous plan, but i gave it up because i understood that it isnt logical that exactly the same number of people would have a high income as a low income in a given dataset."
   ]
  },
  {
   "cell_type": "markdown",
   "metadata": {},
   "source": [
    "###### So as you can see after a lot of delibaration (between me myself and Anastasia) i decided to make the grouping based on the assumptions that there will be statistically most below_avarage incomes followed by low_income and then above_avarage and lastly the least number of people will have high_income."
   ]
  },
  {
   "cell_type": "code",
   "execution_count": 72,
   "metadata": {},
   "outputs": [
    {
     "name": "stderr",
     "output_type": "stream",
     "text": [
      "/opt/conda/lib/python3.7/site-packages/ipykernel_launcher.py:23: SettingWithCopyWarning: \n",
      "A value is trying to be set on a copy of a slice from a DataFrame.\n",
      "Try using .loc[row_indexer,col_indexer] = value instead\n",
      "\n",
      "See the caveats in the documentation: http://pandas.pydata.org/pandas-docs/stable/user_guide/indexing.html#returning-a-view-versus-a-copy\n"
     ]
    },
    {
     "data": {
      "text/html": [
       "<div>\n",
       "<style scoped>\n",
       "    .dataframe tbody tr th:only-of-type {\n",
       "        vertical-align: middle;\n",
       "    }\n",
       "\n",
       "    .dataframe tbody tr th {\n",
       "        vertical-align: top;\n",
       "    }\n",
       "\n",
       "    .dataframe thead th {\n",
       "        text-align: right;\n",
       "    }\n",
       "</style>\n",
       "<table border=\"1\" class=\"dataframe\">\n",
       "  <thead>\n",
       "    <tr style=\"text-align: right;\">\n",
       "      <th></th>\n",
       "      <th>total_income</th>\n",
       "      <th>debt</th>\n",
       "      <th>income_group</th>\n",
       "    </tr>\n",
       "  </thead>\n",
       "  <tbody>\n",
       "    <tr>\n",
       "      <td>0</td>\n",
       "      <td>40620</td>\n",
       "      <td>0</td>\n",
       "      <td>above_average</td>\n",
       "    </tr>\n",
       "    <tr>\n",
       "      <td>1</td>\n",
       "      <td>17932</td>\n",
       "      <td>0</td>\n",
       "      <td>low_income</td>\n",
       "    </tr>\n",
       "    <tr>\n",
       "      <td>2</td>\n",
       "      <td>23341</td>\n",
       "      <td>0</td>\n",
       "      <td>below_average</td>\n",
       "    </tr>\n",
       "    <tr>\n",
       "      <td>3</td>\n",
       "      <td>42820</td>\n",
       "      <td>0</td>\n",
       "      <td>above_average</td>\n",
       "    </tr>\n",
       "    <tr>\n",
       "      <td>4</td>\n",
       "      <td>25378</td>\n",
       "      <td>0</td>\n",
       "      <td>below_average</td>\n",
       "    </tr>\n",
       "    <tr>\n",
       "      <td>...</td>\n",
       "      <td>...</td>\n",
       "      <td>...</td>\n",
       "      <td>...</td>\n",
       "    </tr>\n",
       "    <tr>\n",
       "      <td>21449</td>\n",
       "      <td>35966</td>\n",
       "      <td>0</td>\n",
       "      <td>below_average</td>\n",
       "    </tr>\n",
       "    <tr>\n",
       "      <td>21450</td>\n",
       "      <td>24959</td>\n",
       "      <td>0</td>\n",
       "      <td>below_average</td>\n",
       "    </tr>\n",
       "    <tr>\n",
       "      <td>21451</td>\n",
       "      <td>14347</td>\n",
       "      <td>1</td>\n",
       "      <td>low_income</td>\n",
       "    </tr>\n",
       "    <tr>\n",
       "      <td>21452</td>\n",
       "      <td>39054</td>\n",
       "      <td>1</td>\n",
       "      <td>below_average</td>\n",
       "    </tr>\n",
       "    <tr>\n",
       "      <td>21453</td>\n",
       "      <td>13127</td>\n",
       "      <td>0</td>\n",
       "      <td>low_income</td>\n",
       "    </tr>\n",
       "  </tbody>\n",
       "</table>\n",
       "<p>21454 rows × 3 columns</p>\n",
       "</div>"
      ],
      "text/plain": [
       "       total_income  debt   income_group\n",
       "0             40620     0  above_average\n",
       "1             17932     0     low_income\n",
       "2             23341     0  below_average\n",
       "3             42820     0  above_average\n",
       "4             25378     0  below_average\n",
       "...             ...   ...            ...\n",
       "21449         35966     0  below_average\n",
       "21450         24959     0  below_average\n",
       "21451         14347     1     low_income\n",
       "21452         39054     1  below_average\n",
       "21453         13127     0     low_income\n",
       "\n",
       "[21454 rows x 3 columns]"
      ]
     },
     "execution_count": 72,
     "metadata": {},
     "output_type": "execute_result"
    }
   ],
   "source": [
    "## importing numpy\n",
    "#import numpy as np\n",
    "\n",
    "#income = np.array(income_debt_relation['total_income'])\n",
    "\n",
    "#min_income = income_debt_relation['total_income'].min()\n",
    "#max_income = income_debt_relation['total_income'].max()\n",
    "#income_50 = (min_income + max_income) / 2\n",
    "#income_25 = (min_income + income_50) / 2\n",
    "#income_75 = (max_income + income_50) / 2\n",
    "\n",
    "# making a function to divide total_income column in to 4 groups\n",
    "def income_group(amount):\n",
    "    if amount <= 20000:  # np.percentile(income, 25):    #income_25:     #10000:\n",
    "        return 'low_income'\n",
    "    if amount <= 40000:  # np.percentile(income, 50):    #income_50:     #30000:\n",
    "        return 'below_average'\n",
    "    if amount <= 60000:  # np.percentile(income, 75):    #income_75:     #90000:\n",
    "        return 'above_average'\n",
    "    return 'high_income'\n",
    "\n",
    "# applying the function to the table and adding the results to a new column\n",
    "income_debt_relation['income_group'] = income_debt_relation['total_income'].apply(income_group)\n",
    "income_debt_relation"
   ]
  },
  {
   "cell_type": "markdown",
   "metadata": {},
   "source": [
    "(The code works even though there is this red notice, i read a lot about what is in the link but there is nothing relevant i found there, and trying its suggestion to \"Try using .loc[row_indexer,col_indexer] = value instead\" doesnt work and is not relevant.. i am not even using .loc here..)"
   ]
  },
  {
   "cell_type": "markdown",
   "metadata": {},
   "source": [
    "<div style=\"border:solid green 2px; padding: 20px\"> <b>Success:</b><br>\n",
    "    You did well to use the quantile method to segment people by income. The quartile boundaries help to divide the data into equal parts. And equal parts are more convenient to compare with each other :) That's really great! \n",
    "\n",
    "Above I wrote to you how to switch off warnings  :)</div>  "
   ]
  },
  {
   "cell_type": "markdown",
   "metadata": {},
   "source": [
    "<div class=\"alert alert-info\" style=\"border:solid blue 2px; padding: 20px\">\n",
    "    I did not use percentile in the end because it would not be logical to assume that there are equal amount of customers that earn high income as low income :)"
   ]
  },
  {
   "cell_type": "markdown",
   "metadata": {},
   "source": [
    "<div style=\"border:solid green 2px; padding: 20px\"> <b>Success V2:</b><br>\n",
    "    I see. Your idea is logical and has a right to exist, just often use the method of quantiles, which helps divide clients into equal parts to make it easier to compare them with each other. Because if we get a very small group of people, in the end, we can't say anything about it because there won't be enough data to evaluate it.</div>  "
   ]
  },
  {
   "cell_type": "markdown",
   "metadata": {},
   "source": [
    "<div class=\"alert alert-info\" style=\"border:solid blue 2px; padding: 20px\">\n",
    "    Yeah i understood it as well thats why i played with the amounts until i got enough people in each group and in logicall proportions"
   ]
  },
  {
   "cell_type": "markdown",
   "metadata": {},
   "source": [
    "<div style=\"border:solid green 2px; padding: 20px\"> <b>Success V3:</b><br>\n",
    "    Perfect!</div>  "
   ]
  },
  {
   "cell_type": "code",
   "execution_count": 73,
   "metadata": {},
   "outputs": [
    {
     "data": {
      "text/plain": [
       "below_average    10886\n",
       "low_income        7756\n",
       "above_average     2140\n",
       "high_income        672\n",
       "Name: income_group, dtype: int64"
      ]
     },
     "execution_count": 73,
     "metadata": {},
     "output_type": "execute_result"
    }
   ],
   "source": [
    "# checking the count for each group and that it seems logical\n",
    "income_debt_relation['income_group'].value_counts()"
   ]
  },
  {
   "cell_type": "markdown",
   "metadata": {},
   "source": [
    "Trying to find the default rate"
   ]
  },
  {
   "cell_type": "markdown",
   "metadata": {},
   "source": [
    "<s><div style=\"border:solid orange 2px; padding: 20px\"> <b>Remarks:</b><br>\n",
    "    If you are not going to use this code in the future, it is better to delete it.</div>  "
   ]
  },
  {
   "cell_type": "markdown",
   "metadata": {},
   "source": [
    "<div class=\"alert alert-info\" style=\"border:solid blue 2px; padding: 20px\">\n",
    "    I thought you would like to see my train of thought.."
   ]
  },
  {
   "cell_type": "markdown",
   "metadata": {},
   "source": [
    "<s><div style=\"border:solid orange 2px; padding: 20px\"> <b>Remarks V2:</b><br>\n",
    "   It's great that you use different methods and find the best one for you, but usually in projects it is not accepted to leave code that will not be used. Your work is already good 😊 </div>   "
   ]
  },
  {
   "cell_type": "markdown",
   "metadata": {},
   "source": [
    "<div class=\"alert alert-info\" style=\"border:solid blue 2px; padding: 20px\">\n",
    "    removed it"
   ]
  },
  {
   "cell_type": "code",
   "execution_count": 74,
   "metadata": {},
   "outputs": [],
   "source": [
    "# making a pivot table to see how much there is for each group\n",
    "income_debt_pivot = income_debt_relation.pivot_table(\n",
    "    index = ['income_group'],\n",
    "    #columns = 'debt',\n",
    "    values = 'debt',\n",
    "    aggfunc = ['sum', 'count', 'mean']\n",
    ")"
   ]
  },
  {
   "cell_type": "code",
   "execution_count": 75,
   "metadata": {},
   "outputs": [
    {
     "data": {
      "text/html": [
       "<div>\n",
       "<style scoped>\n",
       "    .dataframe tbody tr th:only-of-type {\n",
       "        vertical-align: middle;\n",
       "    }\n",
       "\n",
       "    .dataframe tbody tr th {\n",
       "        vertical-align: top;\n",
       "    }\n",
       "\n",
       "    .dataframe thead tr th {\n",
       "        text-align: left;\n",
       "    }\n",
       "\n",
       "    .dataframe thead tr:last-of-type th {\n",
       "        text-align: right;\n",
       "    }\n",
       "</style>\n",
       "<table border=\"1\" class=\"dataframe\">\n",
       "  <thead>\n",
       "    <tr>\n",
       "      <th></th>\n",
       "      <th>sum</th>\n",
       "      <th>count</th>\n",
       "      <th>mean</th>\n",
       "      <th>default_rate</th>\n",
       "    </tr>\n",
       "    <tr>\n",
       "      <th></th>\n",
       "      <th>debt</th>\n",
       "      <th>debt</th>\n",
       "      <th>debt</th>\n",
       "      <th></th>\n",
       "    </tr>\n",
       "    <tr>\n",
       "      <th>income_group</th>\n",
       "      <th></th>\n",
       "      <th></th>\n",
       "      <th></th>\n",
       "      <th></th>\n",
       "    </tr>\n",
       "  </thead>\n",
       "  <tbody>\n",
       "    <tr>\n",
       "      <td>above_average</td>\n",
       "      <td>156</td>\n",
       "      <td>2140</td>\n",
       "      <td>0.072897</td>\n",
       "      <td>7.29%</td>\n",
       "    </tr>\n",
       "    <tr>\n",
       "      <td>below_average</td>\n",
       "      <td>904</td>\n",
       "      <td>10886</td>\n",
       "      <td>0.083042</td>\n",
       "      <td>8.304%</td>\n",
       "    </tr>\n",
       "    <tr>\n",
       "      <td>high_income</td>\n",
       "      <td>38</td>\n",
       "      <td>672</td>\n",
       "      <td>0.056548</td>\n",
       "      <td>5.655%</td>\n",
       "    </tr>\n",
       "    <tr>\n",
       "      <td>low_income</td>\n",
       "      <td>643</td>\n",
       "      <td>7756</td>\n",
       "      <td>0.082904</td>\n",
       "      <td>8.29%</td>\n",
       "    </tr>\n",
       "  </tbody>\n",
       "</table>\n",
       "</div>"
      ],
      "text/plain": [
       "               sum  count      mean default_rate\n",
       "              debt   debt      debt             \n",
       "income_group                                    \n",
       "above_average  156   2140  0.072897        7.29%\n",
       "below_average  904  10886  0.083042       8.304%\n",
       "high_income     38    672  0.056548       5.655%\n",
       "low_income     643   7756  0.082904        8.29%"
      ]
     },
     "execution_count": 75,
     "metadata": {},
     "output_type": "execute_result"
    }
   ],
   "source": [
    "# adding the default_rate for each group in percents\n",
    "#income_debt_pivot['ratio'] = income_debt_pivot[0] / income_debt_pivot[1]\n",
    "#income_debt_pivot['0_percentage'] = (income_debt_pivot[0] / (income_debt_pivot[1] + income_debt_pivot[0])) * 100\n",
    "#perc_calc = (income_debt_pivot[1] / (income_debt_pivot[1] + income_debt_pivot[0])) * 100\n",
    "perc_calc = (income_debt_pivot['mean']) * 100\n",
    "perc_calc = round(perc_calc, 3)\n",
    "income_debt_pivot['default_rate'] = (perc_calc).astype(str) + '%'  #'{perc_calc:.2f}'.format(perc_calc)\n",
    "income_debt_pivot"
   ]
  },
  {
   "cell_type": "code",
   "execution_count": 76,
   "metadata": {},
   "outputs": [
    {
     "data": {
      "text/html": [
       "<div>\n",
       "<style scoped>\n",
       "    .dataframe tbody tr th:only-of-type {\n",
       "        vertical-align: middle;\n",
       "    }\n",
       "\n",
       "    .dataframe tbody tr th {\n",
       "        vertical-align: top;\n",
       "    }\n",
       "\n",
       "    .dataframe thead tr th {\n",
       "        text-align: left;\n",
       "    }\n",
       "\n",
       "    .dataframe thead tr:last-of-type th {\n",
       "        text-align: right;\n",
       "    }\n",
       "</style>\n",
       "<table border=\"1\" class=\"dataframe\">\n",
       "  <thead>\n",
       "    <tr>\n",
       "      <th></th>\n",
       "      <th>sum</th>\n",
       "      <th>count</th>\n",
       "      <th>mean</th>\n",
       "      <th>default_rate</th>\n",
       "    </tr>\n",
       "    <tr>\n",
       "      <th></th>\n",
       "      <th>debt</th>\n",
       "      <th>debt</th>\n",
       "      <th>debt</th>\n",
       "      <th></th>\n",
       "    </tr>\n",
       "    <tr>\n",
       "      <th>income_group</th>\n",
       "      <th></th>\n",
       "      <th></th>\n",
       "      <th></th>\n",
       "      <th></th>\n",
       "    </tr>\n",
       "  </thead>\n",
       "  <tbody>\n",
       "    <tr>\n",
       "      <td>high_income</td>\n",
       "      <td>38</td>\n",
       "      <td>672</td>\n",
       "      <td>0.056548</td>\n",
       "      <td>5.655%</td>\n",
       "    </tr>\n",
       "    <tr>\n",
       "      <td>above_average</td>\n",
       "      <td>156</td>\n",
       "      <td>2140</td>\n",
       "      <td>0.072897</td>\n",
       "      <td>7.29%</td>\n",
       "    </tr>\n",
       "    <tr>\n",
       "      <td>low_income</td>\n",
       "      <td>643</td>\n",
       "      <td>7756</td>\n",
       "      <td>0.082904</td>\n",
       "      <td>8.29%</td>\n",
       "    </tr>\n",
       "    <tr>\n",
       "      <td>below_average</td>\n",
       "      <td>904</td>\n",
       "      <td>10886</td>\n",
       "      <td>0.083042</td>\n",
       "      <td>8.304%</td>\n",
       "    </tr>\n",
       "  </tbody>\n",
       "</table>\n",
       "</div>"
      ],
      "text/plain": [
       "               sum  count      mean default_rate\n",
       "              debt   debt      debt             \n",
       "income_group                                    \n",
       "high_income     38    672  0.056548       5.655%\n",
       "above_average  156   2140  0.072897        7.29%\n",
       "low_income     643   7756  0.082904        8.29%\n",
       "below_average  904  10886  0.083042       8.304%"
      ]
     },
     "execution_count": 76,
     "metadata": {},
     "output_type": "execute_result"
    }
   ],
   "source": [
    "# sorting the table by default_rate\n",
    "income_debt_pivot = income_debt_pivot.sort_values('default_rate')\n",
    "income_debt_pivot"
   ]
  },
  {
   "cell_type": "markdown",
   "metadata": {},
   "source": [
    "<div style=\"border:solid green 2px; padding: 20px\"> <b>Success:</b><br>\n",
    "    Good job! 👏👏👏</div>   "
   ]
  },
  {
   "cell_type": "markdown",
   "metadata": {},
   "source": [
    "### Conclusion"
   ]
  },
  {
   "cell_type": "markdown",
   "metadata": {},
   "source": [
    "So it seems it would be safest to give a loan to high_income customers, and the riskiest to give to below_average customers. i guess it makes sense since a customer with a below_average income is someone who's not poor on the one hand so he is used to spending, and on the other hand he still doesnt earn a lot and probably not budget savvy (compared to low_income who despite/because having very little in money is very strict with themselves and have the habbit to budget because of the need to.) and of cource it makes sense that from there the highre the income the safer it is to give the loan, because a higher income ussually comes with more specialized skills and that ussually comes also with maturer person (not necessarily of course) and that in turn comes with more budgeting and finnancial skills.\n",
    "\n",
    "(here also we must take into account that the amount of each group is not the same so maybe the result is somewhat skewed)"
   ]
  },
  {
   "cell_type": "markdown",
   "metadata": {},
   "source": [
    "<div style=\"border:solid green 2px; padding: 20px\"> <b>Success:</b><br>\n",
    "Thanks a lot for in-depth analysis!\n",
    "</div>   "
   ]
  },
  {
   "cell_type": "markdown",
   "metadata": {},
   "source": [
    "###### purpose/debt relation"
   ]
  },
  {
   "cell_type": "markdown",
   "metadata": {},
   "source": [
    "- How do different loan purposes affect on-time repayment of the loan?"
   ]
  },
  {
   "cell_type": "markdown",
   "metadata": {},
   "source": [
    "I first assumed that the purpose column represents the loan the customer wants to get now, not the one he already got from the bank. So which scenario makes more sense based on the question above: \n",
    "\n",
    "1 is based on **if the purpose is what the customer asks in the `present`**, \n",
    "\n",
    "2 is based on **if the purpose is what the customer asked previously in the `past`**.\n",
    "\n",
    "I came to the conclusion that the 2nd scenario is the relevant one for this question."
   ]
  },
  {
   "cell_type": "code",
   "execution_count": 77,
   "metadata": {},
   "outputs": [],
   "source": [
    "# making a purpose/debt table\n",
    "purpose_debt_relation = orgnzd_credit_score[['debt', 'purpose']]"
   ]
  },
  {
   "cell_type": "code",
   "execution_count": 78,
   "metadata": {},
   "outputs": [
    {
     "data": {
      "text/html": [
       "<div>\n",
       "<style scoped>\n",
       "    .dataframe tbody tr th:only-of-type {\n",
       "        vertical-align: middle;\n",
       "    }\n",
       "\n",
       "    .dataframe tbody tr th {\n",
       "        vertical-align: top;\n",
       "    }\n",
       "\n",
       "    .dataframe thead tr th {\n",
       "        text-align: left;\n",
       "    }\n",
       "\n",
       "    .dataframe thead tr:last-of-type th {\n",
       "        text-align: right;\n",
       "    }\n",
       "</style>\n",
       "<table border=\"1\" class=\"dataframe\">\n",
       "  <thead>\n",
       "    <tr>\n",
       "      <th></th>\n",
       "      <th>sum</th>\n",
       "      <th>count</th>\n",
       "      <th>mean</th>\n",
       "    </tr>\n",
       "    <tr>\n",
       "      <th></th>\n",
       "      <th>debt</th>\n",
       "      <th>debt</th>\n",
       "      <th>debt</th>\n",
       "    </tr>\n",
       "    <tr>\n",
       "      <th>purpose</th>\n",
       "      <th></th>\n",
       "      <th></th>\n",
       "      <th></th>\n",
       "    </tr>\n",
       "  </thead>\n",
       "  <tbody>\n",
       "    <tr>\n",
       "      <td>car</td>\n",
       "      <td>403</td>\n",
       "      <td>4306</td>\n",
       "      <td>0.093590</td>\n",
       "    </tr>\n",
       "    <tr>\n",
       "      <td>education</td>\n",
       "      <td>370</td>\n",
       "      <td>4013</td>\n",
       "      <td>0.092200</td>\n",
       "    </tr>\n",
       "    <tr>\n",
       "      <td>house</td>\n",
       "      <td>782</td>\n",
       "      <td>10811</td>\n",
       "      <td>0.072334</td>\n",
       "    </tr>\n",
       "    <tr>\n",
       "      <td>wedding</td>\n",
       "      <td>186</td>\n",
       "      <td>2324</td>\n",
       "      <td>0.080034</td>\n",
       "    </tr>\n",
       "  </tbody>\n",
       "</table>\n",
       "</div>"
      ],
      "text/plain": [
       "           sum  count      mean\n",
       "          debt   debt      debt\n",
       "purpose                        \n",
       "car        403   4306  0.093590\n",
       "education  370   4013  0.092200\n",
       "house      782  10811  0.072334\n",
       "wedding    186   2324  0.080034"
      ]
     },
     "execution_count": 78,
     "metadata": {},
     "output_type": "execute_result"
    }
   ],
   "source": [
    "#purpose_debt_relation.groupby('purpose').agg({'debt': ['value_counts']})\n",
    "# making a pivot table to see how much there is for each group\n",
    "purpose_debt_pivot = purpose_debt_relation.pivot_table(\n",
    "    index = 'purpose',\n",
    "    #columns = 'debt',\n",
    "    values = 'debt',\n",
    "    aggfunc = ['sum', 'count', 'mean']\n",
    ") # .reset_index()\n",
    "\n",
    "purpose_debt_pivot"
   ]
  },
  {
   "cell_type": "code",
   "execution_count": 79,
   "metadata": {},
   "outputs": [
    {
     "data": {
      "text/html": [
       "<div>\n",
       "<style scoped>\n",
       "    .dataframe tbody tr th:only-of-type {\n",
       "        vertical-align: middle;\n",
       "    }\n",
       "\n",
       "    .dataframe tbody tr th {\n",
       "        vertical-align: top;\n",
       "    }\n",
       "\n",
       "    .dataframe thead tr th {\n",
       "        text-align: left;\n",
       "    }\n",
       "\n",
       "    .dataframe thead tr:last-of-type th {\n",
       "        text-align: right;\n",
       "    }\n",
       "</style>\n",
       "<table border=\"1\" class=\"dataframe\">\n",
       "  <thead>\n",
       "    <tr>\n",
       "      <th></th>\n",
       "      <th>sum</th>\n",
       "      <th>count</th>\n",
       "      <th>mean</th>\n",
       "      <th>default_rate</th>\n",
       "    </tr>\n",
       "    <tr>\n",
       "      <th></th>\n",
       "      <th>debt</th>\n",
       "      <th>debt</th>\n",
       "      <th>debt</th>\n",
       "      <th></th>\n",
       "    </tr>\n",
       "    <tr>\n",
       "      <th>purpose</th>\n",
       "      <th></th>\n",
       "      <th></th>\n",
       "      <th></th>\n",
       "      <th></th>\n",
       "    </tr>\n",
       "  </thead>\n",
       "  <tbody>\n",
       "    <tr>\n",
       "      <td>car</td>\n",
       "      <td>403</td>\n",
       "      <td>4306</td>\n",
       "      <td>0.093590</td>\n",
       "      <td>9.359%</td>\n",
       "    </tr>\n",
       "    <tr>\n",
       "      <td>education</td>\n",
       "      <td>370</td>\n",
       "      <td>4013</td>\n",
       "      <td>0.092200</td>\n",
       "      <td>9.22%</td>\n",
       "    </tr>\n",
       "    <tr>\n",
       "      <td>house</td>\n",
       "      <td>782</td>\n",
       "      <td>10811</td>\n",
       "      <td>0.072334</td>\n",
       "      <td>7.233%</td>\n",
       "    </tr>\n",
       "    <tr>\n",
       "      <td>wedding</td>\n",
       "      <td>186</td>\n",
       "      <td>2324</td>\n",
       "      <td>0.080034</td>\n",
       "      <td>8.003%</td>\n",
       "    </tr>\n",
       "  </tbody>\n",
       "</table>\n",
       "</div>"
      ],
      "text/plain": [
       "           sum  count      mean default_rate\n",
       "          debt   debt      debt             \n",
       "purpose                                     \n",
       "car        403   4306  0.093590       9.359%\n",
       "education  370   4013  0.092200        9.22%\n",
       "house      782  10811  0.072334       7.233%\n",
       "wedding    186   2324  0.080034       8.003%"
      ]
     },
     "execution_count": 79,
     "metadata": {},
     "output_type": "execute_result"
    }
   ],
   "source": [
    "# adding the default_rate for each group in percents\n",
    "perc_calc = (purpose_debt_pivot['mean']) * 100\n",
    "perc_calc = round(perc_calc, 3)\n",
    "purpose_debt_pivot['default_rate'] = (perc_calc).astype(str) + '%'\n",
    "purpose_debt_pivot"
   ]
  },
  {
   "cell_type": "code",
   "execution_count": 80,
   "metadata": {},
   "outputs": [
    {
     "data": {
      "text/html": [
       "<div>\n",
       "<style scoped>\n",
       "    .dataframe tbody tr th:only-of-type {\n",
       "        vertical-align: middle;\n",
       "    }\n",
       "\n",
       "    .dataframe tbody tr th {\n",
       "        vertical-align: top;\n",
       "    }\n",
       "\n",
       "    .dataframe thead tr th {\n",
       "        text-align: left;\n",
       "    }\n",
       "\n",
       "    .dataframe thead tr:last-of-type th {\n",
       "        text-align: right;\n",
       "    }\n",
       "</style>\n",
       "<table border=\"1\" class=\"dataframe\">\n",
       "  <thead>\n",
       "    <tr>\n",
       "      <th></th>\n",
       "      <th>sum</th>\n",
       "      <th>count</th>\n",
       "      <th>mean</th>\n",
       "      <th>default_rate</th>\n",
       "    </tr>\n",
       "    <tr>\n",
       "      <th></th>\n",
       "      <th>debt</th>\n",
       "      <th>debt</th>\n",
       "      <th>debt</th>\n",
       "      <th></th>\n",
       "    </tr>\n",
       "    <tr>\n",
       "      <th>purpose</th>\n",
       "      <th></th>\n",
       "      <th></th>\n",
       "      <th></th>\n",
       "      <th></th>\n",
       "    </tr>\n",
       "  </thead>\n",
       "  <tbody>\n",
       "    <tr>\n",
       "      <td>house</td>\n",
       "      <td>782</td>\n",
       "      <td>10811</td>\n",
       "      <td>0.072334</td>\n",
       "      <td>7.233%</td>\n",
       "    </tr>\n",
       "    <tr>\n",
       "      <td>wedding</td>\n",
       "      <td>186</td>\n",
       "      <td>2324</td>\n",
       "      <td>0.080034</td>\n",
       "      <td>8.003%</td>\n",
       "    </tr>\n",
       "    <tr>\n",
       "      <td>education</td>\n",
       "      <td>370</td>\n",
       "      <td>4013</td>\n",
       "      <td>0.092200</td>\n",
       "      <td>9.22%</td>\n",
       "    </tr>\n",
       "    <tr>\n",
       "      <td>car</td>\n",
       "      <td>403</td>\n",
       "      <td>4306</td>\n",
       "      <td>0.093590</td>\n",
       "      <td>9.359%</td>\n",
       "    </tr>\n",
       "  </tbody>\n",
       "</table>\n",
       "</div>"
      ],
      "text/plain": [
       "           sum  count      mean default_rate\n",
       "          debt   debt      debt             \n",
       "purpose                                     \n",
       "house      782  10811  0.072334       7.233%\n",
       "wedding    186   2324  0.080034       8.003%\n",
       "education  370   4013  0.092200        9.22%\n",
       "car        403   4306  0.093590       9.359%"
      ]
     },
     "execution_count": 80,
     "metadata": {},
     "output_type": "execute_result"
    }
   ],
   "source": [
    "# sorting the table by default_rate\n",
    "purpose_debt_pivot = purpose_debt_pivot.sort_values('default_rate')\n",
    "purpose_debt_pivot"
   ]
  },
  {
   "cell_type": "markdown",
   "metadata": {},
   "source": [
    "### Conclusion"
   ]
  },
  {
   "cell_type": "markdown",
   "metadata": {},
   "source": [
    "So it seems it would be safest to give a loan to house seeking customers, and the riskiest to give to car seeking customers. i guess it makes sense since a car seeking customer will usually need a lot of maintenence for the car and the car will consistently lose value, (compared to education seeking customer who despite having trouble with income while he gets the education, will have a better chance of returning the loan since the education can maybe increase his value [not like a car that only decreases].) and of cource it makes sense that it is safer to give the loan to a house seeking customer, because a house usually increases its value over time and if loses then not much also its a much more serious purchace and therefor usually the customer that asks it is maturer and has more chances of returning the loan on time.\n",
    "\n",
    "(here also we must take into account that the amount of each group is not the same so maybe the result is somewhat skewed)"
   ]
  },
  {
   "cell_type": "markdown",
   "metadata": {},
   "source": [
    "<div style=\"border:solid green 2px; padding: 20px\"> <b>Success:</b><br>\n",
    "    Very well, you went deep into all the questions and wrote logical conclusions based on the results 👍 👍 👍 </div>   "
   ]
  },
  {
   "cell_type": "code",
   "execution_count": 81,
   "metadata": {},
   "outputs": [
    {
     "data": {
      "text/html": [
       "<div style=\"float: left; padding: 10px;\">\n",
       "    <p style='font-family:\"Courier New\", Courier, monospace'>children_debt_pivot</p><div>\n",
       "<style scoped>\n",
       "    .dataframe tbody tr th:only-of-type {\n",
       "        vertical-align: middle;\n",
       "    }\n",
       "\n",
       "    .dataframe tbody tr th {\n",
       "        vertical-align: top;\n",
       "    }\n",
       "\n",
       "    .dataframe thead tr th {\n",
       "        text-align: left;\n",
       "    }\n",
       "\n",
       "    .dataframe thead tr:last-of-type th {\n",
       "        text-align: right;\n",
       "    }\n",
       "</style>\n",
       "<table border=\"1\" class=\"dataframe\">\n",
       "  <thead>\n",
       "    <tr>\n",
       "      <th></th>\n",
       "      <th>sum</th>\n",
       "      <th>count</th>\n",
       "      <th>mean</th>\n",
       "      <th>default_rate</th>\n",
       "    </tr>\n",
       "    <tr>\n",
       "      <th></th>\n",
       "      <th>debt</th>\n",
       "      <th>debt</th>\n",
       "      <th>debt</th>\n",
       "      <th></th>\n",
       "    </tr>\n",
       "    <tr>\n",
       "      <th>kids</th>\n",
       "      <th></th>\n",
       "      <th></th>\n",
       "      <th></th>\n",
       "      <th></th>\n",
       "    </tr>\n",
       "  </thead>\n",
       "  <tbody>\n",
       "    <tr>\n",
       "      <td>have_kids</td>\n",
       "      <td>678</td>\n",
       "      <td>7363</td>\n",
       "      <td>0.092082</td>\n",
       "      <td>9.208%</td>\n",
       "    </tr>\n",
       "    <tr>\n",
       "      <td>no_kids</td>\n",
       "      <td>1063</td>\n",
       "      <td>14091</td>\n",
       "      <td>0.075438</td>\n",
       "      <td>7.544%</td>\n",
       "    </tr>\n",
       "  </tbody>\n",
       "</table>\n",
       "</div>\n",
       "    </div>\n",
       "<div style=\"float: left; padding: 10px;\">\n",
       "    <p style='font-family:\"Courier New\", Courier, monospace'>marital_status_debt_pivot</p><div>\n",
       "<style scoped>\n",
       "    .dataframe tbody tr th:only-of-type {\n",
       "        vertical-align: middle;\n",
       "    }\n",
       "\n",
       "    .dataframe tbody tr th {\n",
       "        vertical-align: top;\n",
       "    }\n",
       "\n",
       "    .dataframe thead tr th {\n",
       "        text-align: left;\n",
       "    }\n",
       "\n",
       "    .dataframe thead tr:last-of-type th {\n",
       "        text-align: right;\n",
       "    }\n",
       "</style>\n",
       "<table border=\"1\" class=\"dataframe\">\n",
       "  <thead>\n",
       "    <tr>\n",
       "      <th></th>\n",
       "      <th>sum</th>\n",
       "      <th>count</th>\n",
       "      <th>mean</th>\n",
       "      <th>default_rate</th>\n",
       "    </tr>\n",
       "    <tr>\n",
       "      <th></th>\n",
       "      <th>debt</th>\n",
       "      <th>debt</th>\n",
       "      <th>debt</th>\n",
       "      <th></th>\n",
       "    </tr>\n",
       "    <tr>\n",
       "      <th>marital_status</th>\n",
       "      <th></th>\n",
       "      <th></th>\n",
       "      <th></th>\n",
       "      <th></th>\n",
       "    </tr>\n",
       "  </thead>\n",
       "  <tbody>\n",
       "    <tr>\n",
       "      <td>widow / widower</td>\n",
       "      <td>63</td>\n",
       "      <td>959</td>\n",
       "      <td>0.065693</td>\n",
       "      <td>6.569%</td>\n",
       "    </tr>\n",
       "    <tr>\n",
       "      <td>divorced</td>\n",
       "      <td>85</td>\n",
       "      <td>1195</td>\n",
       "      <td>0.071130</td>\n",
       "      <td>7.113%</td>\n",
       "    </tr>\n",
       "    <tr>\n",
       "      <td>married</td>\n",
       "      <td>931</td>\n",
       "      <td>12339</td>\n",
       "      <td>0.075452</td>\n",
       "      <td>7.545%</td>\n",
       "    </tr>\n",
       "    <tr>\n",
       "      <td>civil partnership</td>\n",
       "      <td>388</td>\n",
       "      <td>4151</td>\n",
       "      <td>0.093471</td>\n",
       "      <td>9.347%</td>\n",
       "    </tr>\n",
       "    <tr>\n",
       "      <td>unmarried</td>\n",
       "      <td>274</td>\n",
       "      <td>2810</td>\n",
       "      <td>0.097509</td>\n",
       "      <td>9.751%</td>\n",
       "    </tr>\n",
       "  </tbody>\n",
       "</table>\n",
       "</div>\n",
       "    </div>\n",
       "<div style=\"float: left; padding: 10px;\">\n",
       "    <p style='font-family:\"Courier New\", Courier, monospace'>income_debt_pivot</p><div>\n",
       "<style scoped>\n",
       "    .dataframe tbody tr th:only-of-type {\n",
       "        vertical-align: middle;\n",
       "    }\n",
       "\n",
       "    .dataframe tbody tr th {\n",
       "        vertical-align: top;\n",
       "    }\n",
       "\n",
       "    .dataframe thead tr th {\n",
       "        text-align: left;\n",
       "    }\n",
       "\n",
       "    .dataframe thead tr:last-of-type th {\n",
       "        text-align: right;\n",
       "    }\n",
       "</style>\n",
       "<table border=\"1\" class=\"dataframe\">\n",
       "  <thead>\n",
       "    <tr>\n",
       "      <th></th>\n",
       "      <th>sum</th>\n",
       "      <th>count</th>\n",
       "      <th>mean</th>\n",
       "      <th>default_rate</th>\n",
       "    </tr>\n",
       "    <tr>\n",
       "      <th></th>\n",
       "      <th>debt</th>\n",
       "      <th>debt</th>\n",
       "      <th>debt</th>\n",
       "      <th></th>\n",
       "    </tr>\n",
       "    <tr>\n",
       "      <th>income_group</th>\n",
       "      <th></th>\n",
       "      <th></th>\n",
       "      <th></th>\n",
       "      <th></th>\n",
       "    </tr>\n",
       "  </thead>\n",
       "  <tbody>\n",
       "    <tr>\n",
       "      <td>high_income</td>\n",
       "      <td>38</td>\n",
       "      <td>672</td>\n",
       "      <td>0.056548</td>\n",
       "      <td>5.655%</td>\n",
       "    </tr>\n",
       "    <tr>\n",
       "      <td>above_average</td>\n",
       "      <td>156</td>\n",
       "      <td>2140</td>\n",
       "      <td>0.072897</td>\n",
       "      <td>7.29%</td>\n",
       "    </tr>\n",
       "    <tr>\n",
       "      <td>low_income</td>\n",
       "      <td>643</td>\n",
       "      <td>7756</td>\n",
       "      <td>0.082904</td>\n",
       "      <td>8.29%</td>\n",
       "    </tr>\n",
       "    <tr>\n",
       "      <td>below_average</td>\n",
       "      <td>904</td>\n",
       "      <td>10886</td>\n",
       "      <td>0.083042</td>\n",
       "      <td>8.304%</td>\n",
       "    </tr>\n",
       "  </tbody>\n",
       "</table>\n",
       "</div>\n",
       "    </div>\n",
       "<div style=\"float: left; padding: 10px;\">\n",
       "    <p style='font-family:\"Courier New\", Courier, monospace'>purpose_debt_pivot</p><div>\n",
       "<style scoped>\n",
       "    .dataframe tbody tr th:only-of-type {\n",
       "        vertical-align: middle;\n",
       "    }\n",
       "\n",
       "    .dataframe tbody tr th {\n",
       "        vertical-align: top;\n",
       "    }\n",
       "\n",
       "    .dataframe thead tr th {\n",
       "        text-align: left;\n",
       "    }\n",
       "\n",
       "    .dataframe thead tr:last-of-type th {\n",
       "        text-align: right;\n",
       "    }\n",
       "</style>\n",
       "<table border=\"1\" class=\"dataframe\">\n",
       "  <thead>\n",
       "    <tr>\n",
       "      <th></th>\n",
       "      <th>sum</th>\n",
       "      <th>count</th>\n",
       "      <th>mean</th>\n",
       "      <th>default_rate</th>\n",
       "    </tr>\n",
       "    <tr>\n",
       "      <th></th>\n",
       "      <th>debt</th>\n",
       "      <th>debt</th>\n",
       "      <th>debt</th>\n",
       "      <th></th>\n",
       "    </tr>\n",
       "    <tr>\n",
       "      <th>purpose</th>\n",
       "      <th></th>\n",
       "      <th></th>\n",
       "      <th></th>\n",
       "      <th></th>\n",
       "    </tr>\n",
       "  </thead>\n",
       "  <tbody>\n",
       "    <tr>\n",
       "      <td>house</td>\n",
       "      <td>782</td>\n",
       "      <td>10811</td>\n",
       "      <td>0.072334</td>\n",
       "      <td>7.233%</td>\n",
       "    </tr>\n",
       "    <tr>\n",
       "      <td>wedding</td>\n",
       "      <td>186</td>\n",
       "      <td>2324</td>\n",
       "      <td>0.080034</td>\n",
       "      <td>8.003%</td>\n",
       "    </tr>\n",
       "    <tr>\n",
       "      <td>education</td>\n",
       "      <td>370</td>\n",
       "      <td>4013</td>\n",
       "      <td>0.092200</td>\n",
       "      <td>9.22%</td>\n",
       "    </tr>\n",
       "    <tr>\n",
       "      <td>car</td>\n",
       "      <td>403</td>\n",
       "      <td>4306</td>\n",
       "      <td>0.093590</td>\n",
       "      <td>9.359%</td>\n",
       "    </tr>\n",
       "  </tbody>\n",
       "</table>\n",
       "</div>\n",
       "    </div>"
      ],
      "text/plain": [
       "children_debt_pivot\n",
       "            sum  count      mean default_rate\n",
       "           debt   debt      debt             \n",
       "kids                                         \n",
       "have_kids   678   7363  0.092082       9.208%\n",
       "no_kids    1063  14091  0.075438       7.544%\n",
       "\n",
       "marital_status_debt_pivot\n",
       "                   sum  count      mean default_rate\n",
       "                  debt   debt      debt             \n",
       "marital_status                                      \n",
       "widow / widower     63    959  0.065693       6.569%\n",
       "divorced            85   1195  0.071130       7.113%\n",
       "married            931  12339  0.075452       7.545%\n",
       "civil partnership  388   4151  0.093471       9.347%\n",
       "unmarried          274   2810  0.097509       9.751%\n",
       "\n",
       "income_debt_pivot\n",
       "               sum  count      mean default_rate\n",
       "              debt   debt      debt             \n",
       "income_group                                    \n",
       "high_income     38    672  0.056548       5.655%\n",
       "above_average  156   2140  0.072897        7.29%\n",
       "low_income     643   7756  0.082904        8.29%\n",
       "below_average  904  10886  0.083042       8.304%\n",
       "\n",
       "purpose_debt_pivot\n",
       "           sum  count      mean default_rate\n",
       "          debt   debt      debt             \n",
       "purpose                                     \n",
       "house      782  10811  0.072334       7.233%\n",
       "wedding    186   2324  0.080034       8.003%\n",
       "education  370   4013  0.092200        9.22%\n",
       "car        403   4306  0.093590       9.359%"
      ]
     },
     "execution_count": 81,
     "metadata": {},
     "output_type": "execute_result"
    }
   ],
   "source": [
    "# i copied this \"class\" way of displaying from the web without understanding it (i tried) because i think its very useful here\n",
    "# imorting numpy library\n",
    "import numpy as np\n",
    "\n",
    "# i just copied the code from here\n",
    "class display(object):\n",
    "    \"\"\"Display HTML representation of multiple objects\"\"\"\n",
    "    template = \"\"\"<div style=\"float: left; padding: 10px;\">\n",
    "    <p style='font-family:\"Courier New\", Courier, monospace'>{0}</p>{1}\n",
    "    </div>\"\"\"\n",
    "    def __init__(self, *args):\n",
    "        self.args = args\n",
    "        \n",
    "    def _repr_html_(self):\n",
    "        return '\\n'.join(self.template.format(a, eval(a)._repr_html_())\n",
    "                         for a in self.args)\n",
    "    \n",
    "    def __repr__(self):\n",
    "        return '\\n\\n'.join(a + '\\n' + repr(eval(a))\n",
    "                           for a in self.args)\n",
    "# to here\n",
    "    \n",
    "display('children_debt_pivot', 'marital_status_debt_pivot', 'income_debt_pivot', 'purpose_debt_pivot')"
   ]
  },
  {
   "cell_type": "markdown",
   "metadata": {},
   "source": [
    "## General conclusion"
   ]
  },
  {
   "cell_type": "markdown",
   "metadata": {},
   "source": [
    "###### So my conclusion is: "
   ]
  },
  {
   "cell_type": "markdown",
   "metadata": {},
   "source": [
    "<div class=\"alert alert-info\" style=\"border:solid blue 2px; padding: 20px\">\n",
    "1 Preprocessing - originally i had data of customers with all sorts of parameters like if they are married, how many children they have what type of education and income amount etc'. the data had problems in form of missing values, errors and duplicates. first i organized the table by lower casing all the relevant object columns, fixed all the negative values and replaced errors like 20 children. then i filled the missing values in total income with the medians by income type (did the same with the NaNs of days employed). then i stemmed the purpose column to have only several big groups, and found and removed duplicate rows. and in the end i got a table of 21120 rows with no NaN and no duplicates or illogical values.\n",
    "\n",
    "2 Categorization - i decided to split the data into different groups of income to answer the question about the relation of income level to defaulting on a loan. the distribution of income i had is low income (up to 20k), below average(up to 40k), above average(up to 60k) and hgh income(above 60k)\n",
    "\n",
    "3 Answering questions - \n",
    "    for the 1st question with kids group were risky and had higher default-rate and no kids group were trustworthy\n",
    "    for the 2nd question unmarried group were risky and had higher default-rate and widows/ers group were trustworthy\n",
    "    for the 3rd question below average group were risky and had higher default-rate and high income group were trustworthy\n",
    "    for the 4th question car group were risky and had higher default-rate and house group were trustworthy\n",
    "    My recommendation to the bank, for example, is lowering loan rate for trustworthy good categories"
   ]
  },
  {
   "cell_type": "markdown",
   "metadata": {},
   "source": [
    "The **`safest`** customers are: `widows/ers` with `no kids`, with `above_average or higher income`, that asking a `loan for a house`.\n",
    "\n",
    "The **`riskiest`** customers are: `unmarried` people `with kids`, with `below_average or lower income`, that asking a `loan for a car`."
   ]
  },
  {
   "cell_type": "markdown",
   "metadata": {},
   "source": [
    "<s><div style=\"border:solid red 2px; padding: 20px\"> <b>Needs fixing:</b><br>\n",
    "  The final conclusion should be a brief overview of your work, so it's better to describe everything you learned about the data. Please write more about what you researched and what results you got in the process, as the final conclusion is the first thing people read and is often the basis for judging the quality of the work as a whole. And it is not formally accepted to write code in the conclusions, because the conclusions are most often read by customers who don't understand anything about code. Please, fix it. </div>"
   ]
  },
  {
   "cell_type": "markdown",
   "metadata": {},
   "source": [
    "<div style=\"border:solid green 2px; padding: 20px\"> <b>Success V2:</b><br>\n",
    "   I like that you wrote such in-depth conclusions on the whole study, proved them with numbers and made logical assumptions. Thank you for your work! It's really great! 👏👏👏</div> "
   ]
  },
  {
   "cell_type": "markdown",
   "metadata": {},
   "source": [
    "<div class=\"alert alert-info\" style=\"border:solid blue 2px; padding: 20px\">\n",
    "    But the code here is only to display all the relevant tables so wht i write can be clearly seen.. its not like i explain something in the code here.."
   ]
  },
  {
   "cell_type": "markdown",
   "metadata": {},
   "source": [
    "<div style=\"border:solid green 2px; padding: 20px\"> <b>Success V2:</b><br>\n",
    "   I understand. I like the way you formatted the tables, it's really great! 👏  But usually the general conclusion contains only a textual description of the whole research. </div> "
   ]
  },
  {
   "cell_type": "markdown",
   "metadata": {},
   "source": [
    "## Project Readiness Checklist\n",
    "\n",
    "Put 'x' in the completed points. Then press Shift + Enter."
   ]
  },
  {
   "cell_type": "markdown",
   "metadata": {},
   "source": [
    "- [x]  file open;\n",
    "- [x]  file examined;\n",
    "- [x]  missing values defined;\n",
    "- [x]  missing values are filled;\n",
    "- [x]  an explanation of which missing value types were detected;\n",
    "- [x]  explanation for the possible causes of missing values;\n",
    "- [x]  an explanation of how the blanks are filled;\n",
    "- [x]  replaced the real data type with an integer;\n",
    "- [x]  an explanation of which method is used to change the data type and why;\n",
    "- [x]  duplicates deleted;\n",
    "- [x]  an explanation of which method is used to find and remove duplicates;\n",
    "- [x]  description of the possible reasons for the appearance of duplicates in the data;\n",
    "- [x]  data is categorized;\n",
    "- [x]  an explanation of the principle of data categorization; --- I didnt get it.\n",
    "- [x]  an answer to the question \"Is there a relation between having kids and repaying a loan on time?\";\n",
    "- [x]  an answer to the question \" Is there a relation between marital status and repaying a loan on time?\";\n",
    "- [x]   an answer to the question \" Is there a relation between income level and repaying a loan on time?\";\n",
    "- [x]  an answer to the question \" How do different loan purposes affect on-time repayment of the loan?\"\n",
    "- [x]  conclusions are present on each stage;\n",
    "- [x]  a general conclusion is made."
   ]
  }
 ],
 "metadata": {
  "ExecuteTimeLog": [
   {
    "duration": 309,
    "start_time": "2021-06-15T16:13:53.656Z"
   },
   {
    "duration": 721,
    "start_time": "2021-06-15T16:14:33.103Z"
   },
   {
    "duration": 764,
    "start_time": "2021-06-15T16:15:27.669Z"
   },
   {
    "duration": 15,
    "start_time": "2021-06-15T16:17:46.297Z"
   },
   {
    "duration": 27,
    "start_time": "2021-06-15T16:18:17.284Z"
   },
   {
    "duration": 66,
    "start_time": "2021-06-15T16:21:02.178Z"
   },
   {
    "duration": 78,
    "start_time": "2021-06-15T16:21:34.436Z"
   },
   {
    "duration": 81,
    "start_time": "2021-06-15T16:22:20.306Z"
   },
   {
    "duration": 1211,
    "start_time": "2021-06-28T15:26:41.340Z"
   },
   {
    "duration": 57,
    "start_time": "2021-06-28T15:26:42.553Z"
   },
   {
    "duration": 12,
    "start_time": "2021-06-28T15:26:42.612Z"
   },
   {
    "duration": 3,
    "start_time": "2021-06-28T15:26:42.627Z"
   },
   {
    "duration": 51,
    "start_time": "2021-06-28T15:26:42.632Z"
   },
   {
    "duration": 72,
    "start_time": "2021-06-28T15:26:42.685Z"
   },
   {
    "duration": 61,
    "start_time": "2021-06-28T15:26:42.759Z"
   },
   {
    "duration": 9,
    "start_time": "2021-06-28T15:26:42.826Z"
   },
   {
    "duration": 13,
    "start_time": "2021-06-28T15:26:42.838Z"
   },
   {
    "duration": 13,
    "start_time": "2021-06-28T15:26:42.853Z"
   },
   {
    "duration": 71,
    "start_time": "2021-06-28T15:26:42.869Z"
   },
   {
    "duration": 11,
    "start_time": "2021-06-28T15:26:42.942Z"
   },
   {
    "duration": 9,
    "start_time": "2021-06-28T15:26:42.955Z"
   },
   {
    "duration": 45,
    "start_time": "2021-06-28T15:26:42.966Z"
   },
   {
    "duration": 21,
    "start_time": "2021-06-28T15:26:43.014Z"
   },
   {
    "duration": 15,
    "start_time": "2021-06-28T15:26:43.037Z"
   },
   {
    "duration": 14,
    "start_time": "2021-06-28T15:26:43.054Z"
   },
   {
    "duration": 52,
    "start_time": "2021-06-28T15:26:43.070Z"
   },
   {
    "duration": 16,
    "start_time": "2021-06-28T15:26:43.125Z"
   },
   {
    "duration": 15,
    "start_time": "2021-06-28T15:26:43.143Z"
   },
   {
    "duration": 50,
    "start_time": "2021-06-28T15:26:43.160Z"
   },
   {
    "duration": 16,
    "start_time": "2021-06-28T15:26:43.212Z"
   },
   {
    "duration": 9,
    "start_time": "2021-06-28T15:26:43.234Z"
   },
   {
    "duration": 18,
    "start_time": "2021-06-28T15:26:43.247Z"
   },
   {
    "duration": 51,
    "start_time": "2021-06-28T15:26:43.268Z"
   },
   {
    "duration": 23,
    "start_time": "2021-06-28T15:26:43.321Z"
   },
   {
    "duration": 21,
    "start_time": "2021-06-28T15:26:43.346Z"
   },
   {
    "duration": 6,
    "start_time": "2021-06-28T15:26:43.369Z"
   },
   {
    "duration": 6,
    "start_time": "2021-06-28T15:26:43.408Z"
   },
   {
    "duration": 51,
    "start_time": "2021-06-28T15:26:43.417Z"
   },
   {
    "duration": 7,
    "start_time": "2021-06-28T15:26:43.470Z"
   },
   {
    "duration": 13,
    "start_time": "2021-06-28T15:26:43.510Z"
   },
   {
    "duration": 29,
    "start_time": "2021-06-28T15:26:43.526Z"
   },
   {
    "duration": 10,
    "start_time": "2021-06-28T15:26:43.557Z"
   },
   {
    "duration": 24,
    "start_time": "2021-06-28T15:26:43.569Z"
   },
   {
    "duration": 55,
    "start_time": "2021-06-28T15:26:43.595Z"
   },
   {
    "duration": 17,
    "start_time": "2021-06-28T15:26:43.652Z"
   },
   {
    "duration": 43,
    "start_time": "2021-06-28T15:26:43.671Z"
   },
   {
    "duration": 19,
    "start_time": "2021-06-28T15:26:43.717Z"
   },
   {
    "duration": 19,
    "start_time": "2021-06-28T15:26:43.738Z"
   },
   {
    "duration": 11,
    "start_time": "2021-06-28T15:26:43.759Z"
   },
   {
    "duration": 52,
    "start_time": "2021-06-28T15:26:43.772Z"
   },
   {
    "duration": 21,
    "start_time": "2021-06-28T15:26:43.827Z"
   },
   {
    "duration": 20,
    "start_time": "2021-06-28T15:26:43.850Z"
   },
   {
    "duration": 57,
    "start_time": "2021-06-28T15:26:43.873Z"
   },
   {
    "duration": 20,
    "start_time": "2021-06-28T15:26:43.932Z"
   },
   {
    "duration": 54,
    "start_time": "2021-06-28T15:26:43.954Z"
   },
   {
    "duration": 784,
    "start_time": "2021-06-28T15:26:44.011Z"
   },
   {
    "duration": 75943,
    "start_time": "2021-06-28T15:26:44.798Z"
   },
   {
    "duration": 9,
    "start_time": "2021-06-28T15:28:00.744Z"
   },
   {
    "duration": 28,
    "start_time": "2021-06-28T15:28:00.755Z"
   },
   {
    "duration": 45,
    "start_time": "2021-06-28T15:28:00.785Z"
   },
   {
    "duration": 21,
    "start_time": "2021-06-28T15:28:00.833Z"
   },
   {
    "duration": 59,
    "start_time": "2021-06-28T15:28:00.856Z"
   },
   {
    "duration": 12,
    "start_time": "2021-06-28T15:28:00.918Z"
   },
   {
    "duration": 32,
    "start_time": "2021-06-28T15:28:00.933Z"
   },
   {
    "duration": 44,
    "start_time": "2021-06-28T15:28:00.967Z"
   },
   {
    "duration": 47,
    "start_time": "2021-06-28T15:28:01.013Z"
   },
   {
    "duration": 47,
    "start_time": "2021-06-28T15:28:01.063Z"
   },
   {
    "duration": 15,
    "start_time": "2021-06-28T15:28:01.113Z"
   },
   {
    "duration": 47,
    "start_time": "2021-06-28T15:28:01.130Z"
   },
   {
    "duration": 47,
    "start_time": "2021-06-28T15:28:01.179Z"
   },
   {
    "duration": 27,
    "start_time": "2021-06-28T15:28:01.228Z"
   },
   {
    "duration": 22,
    "start_time": "2021-06-28T15:28:01.257Z"
   },
   {
    "duration": 27,
    "start_time": "2021-06-28T15:28:01.282Z"
   },
   {
    "duration": 43,
    "start_time": "2021-06-28T15:28:01.311Z"
   },
   {
    "duration": 32,
    "start_time": "2021-06-28T15:28:01.356Z"
   },
   {
    "duration": 34,
    "start_time": "2021-06-28T15:28:01.395Z"
   },
   {
    "duration": 51,
    "start_time": "2021-06-28T15:28:01.431Z"
   },
   {
    "duration": 22,
    "start_time": "2021-06-28T15:28:01.484Z"
   },
   {
    "duration": 51,
    "start_time": "2021-06-28T15:28:01.508Z"
   },
   {
    "duration": 35,
    "start_time": "2021-06-28T15:28:01.561Z"
   },
   {
    "duration": 59,
    "start_time": "2021-06-28T15:28:01.599Z"
   },
   {
    "duration": 31,
    "start_time": "2021-06-28T15:28:01.661Z"
   },
   {
    "duration": 42,
    "start_time": "2021-06-28T15:28:01.695Z"
   },
   {
    "duration": 62,
    "start_time": "2021-06-28T15:28:01.740Z"
   },
   {
    "duration": 48,
    "start_time": "2021-06-28T15:29:53.559Z"
   },
   {
    "duration": 47,
    "start_time": "2021-06-28T15:30:07.188Z"
   },
   {
    "duration": 8726,
    "start_time": "2021-06-28T15:44:21.595Z"
   },
   {
    "duration": 354,
    "start_time": "2021-06-28T15:44:45.367Z"
   },
   {
    "duration": 49,
    "start_time": "2021-06-28T15:44:45.723Z"
   },
   {
    "duration": 37,
    "start_time": "2021-06-28T15:44:45.775Z"
   },
   {
    "duration": 3,
    "start_time": "2021-06-28T15:44:45.815Z"
   },
   {
    "duration": 53,
    "start_time": "2021-06-28T15:44:45.820Z"
   },
   {
    "duration": 75,
    "start_time": "2021-06-28T15:44:45.875Z"
   },
   {
    "duration": 56,
    "start_time": "2021-06-28T15:44:45.954Z"
   },
   {
    "duration": 8,
    "start_time": "2021-06-28T15:44:46.015Z"
   },
   {
    "duration": 24,
    "start_time": "2021-06-28T15:44:46.026Z"
   },
   {
    "duration": 14,
    "start_time": "2021-06-28T15:44:46.052Z"
   },
   {
    "duration": 7,
    "start_time": "2021-06-28T15:44:48.527Z"
   },
   {
    "duration": 18,
    "start_time": "2021-06-28T15:45:53.538Z"
   },
   {
    "duration": 47,
    "start_time": "2021-06-28T15:46:09.096Z"
   },
   {
    "duration": 36,
    "start_time": "2021-06-28T15:57:52.289Z"
   },
   {
    "duration": 311,
    "start_time": "2021-06-28T15:57:59.801Z"
   },
   {
    "duration": 47,
    "start_time": "2021-06-28T15:58:00.114Z"
   },
   {
    "duration": 11,
    "start_time": "2021-06-28T15:58:00.164Z"
   },
   {
    "duration": 31,
    "start_time": "2021-06-28T15:58:00.178Z"
   },
   {
    "duration": 48,
    "start_time": "2021-06-28T15:58:00.212Z"
   },
   {
    "duration": 75,
    "start_time": "2021-06-28T15:58:00.263Z"
   },
   {
    "duration": 37,
    "start_time": "2021-06-28T15:58:00.341Z"
   },
   {
    "duration": 29,
    "start_time": "2021-06-28T15:58:00.381Z"
   },
   {
    "duration": 12,
    "start_time": "2021-06-28T15:58:00.413Z"
   },
   {
    "duration": 23,
    "start_time": "2021-06-28T15:58:00.427Z"
   },
   {
    "duration": 65,
    "start_time": "2021-06-28T15:58:00.452Z"
   },
   {
    "duration": 11,
    "start_time": "2021-06-28T15:58:00.519Z"
   },
   {
    "duration": 8,
    "start_time": "2021-06-28T15:58:00.533Z"
   },
   {
    "duration": 22,
    "start_time": "2021-06-28T15:58:00.543Z"
   },
   {
    "duration": 13,
    "start_time": "2021-06-28T15:58:00.567Z"
   },
   {
    "duration": 41,
    "start_time": "2021-06-28T15:58:00.582Z"
   },
   {
    "duration": 16,
    "start_time": "2021-06-28T15:58:00.625Z"
   },
   {
    "duration": 33,
    "start_time": "2021-06-28T15:58:00.643Z"
   },
   {
    "duration": 39,
    "start_time": "2021-06-28T15:58:00.679Z"
   },
   {
    "duration": 17,
    "start_time": "2021-06-28T15:58:00.720Z"
   },
   {
    "duration": 17,
    "start_time": "2021-06-28T15:58:00.740Z"
   },
   {
    "duration": 54,
    "start_time": "2021-06-28T15:58:00.759Z"
   },
   {
    "duration": 11,
    "start_time": "2021-06-28T15:58:00.820Z"
   },
   {
    "duration": 34,
    "start_time": "2021-06-28T15:58:00.834Z"
   },
   {
    "duration": 41,
    "start_time": "2021-06-28T15:58:00.870Z"
   },
   {
    "duration": 27,
    "start_time": "2021-06-28T15:58:00.914Z"
   },
   {
    "duration": 76,
    "start_time": "2021-06-28T15:58:00.943Z"
   },
   {
    "duration": 13,
    "start_time": "2021-06-28T15:58:01.021Z"
   },
   {
    "duration": 39,
    "start_time": "2021-06-28T15:58:01.037Z"
   },
   {
    "duration": 108,
    "start_time": "2021-06-28T15:58:01.078Z"
   },
   {
    "duration": 5,
    "start_time": "2021-06-28T15:58:01.188Z"
   },
   {
    "duration": 89,
    "start_time": "2021-06-28T15:58:01.196Z"
   },
   {
    "duration": 15,
    "start_time": "2021-06-28T15:58:31.370Z"
   },
   {
    "duration": 102,
    "start_time": "2021-06-28T17:37:47.428Z"
   },
   {
    "duration": 1418,
    "start_time": "2021-07-03T11:42:43.883Z"
   },
   {
    "duration": 57,
    "start_time": "2021-07-03T11:42:45.304Z"
   },
   {
    "duration": 16,
    "start_time": "2021-07-03T11:42:45.367Z"
   },
   {
    "duration": 17,
    "start_time": "2021-07-03T11:42:45.385Z"
   },
   {
    "duration": 6,
    "start_time": "2021-07-03T11:42:45.404Z"
   },
   {
    "duration": 84,
    "start_time": "2021-07-03T11:42:45.413Z"
   },
   {
    "duration": 59,
    "start_time": "2021-07-03T11:42:45.500Z"
   },
   {
    "duration": 42,
    "start_time": "2021-07-03T11:42:45.563Z"
   },
   {
    "duration": 8,
    "start_time": "2021-07-03T11:42:45.608Z"
   },
   {
    "duration": 47,
    "start_time": "2021-07-03T11:42:45.619Z"
   },
   {
    "duration": 24,
    "start_time": "2021-07-03T11:42:45.670Z"
   },
   {
    "duration": 37,
    "start_time": "2021-07-03T11:42:45.696Z"
   },
   {
    "duration": 27,
    "start_time": "2021-07-03T11:42:45.736Z"
   },
   {
    "duration": 17,
    "start_time": "2021-07-03T11:42:45.766Z"
   },
   {
    "duration": 8,
    "start_time": "2021-07-03T11:42:45.786Z"
   },
   {
    "duration": 13,
    "start_time": "2021-07-03T11:42:45.796Z"
   },
   {
    "duration": 66,
    "start_time": "2021-07-03T11:42:45.811Z"
   },
   {
    "duration": 18,
    "start_time": "2021-07-03T11:42:45.880Z"
   },
   {
    "duration": 57,
    "start_time": "2021-07-03T11:42:45.901Z"
   },
   {
    "duration": 22,
    "start_time": "2021-07-03T11:42:45.961Z"
   },
   {
    "duration": 18,
    "start_time": "2021-07-03T11:42:45.985Z"
   },
   {
    "duration": 53,
    "start_time": "2021-07-03T11:42:46.005Z"
   },
   {
    "duration": 23,
    "start_time": "2021-07-03T11:42:46.064Z"
   },
   {
    "duration": 9,
    "start_time": "2021-07-03T11:42:46.090Z"
   },
   {
    "duration": 21,
    "start_time": "2021-07-03T11:42:46.101Z"
   },
   {
    "duration": 56,
    "start_time": "2021-07-03T11:42:46.124Z"
   },
   {
    "duration": 23,
    "start_time": "2021-07-03T11:42:46.182Z"
   },
   {
    "duration": 58,
    "start_time": "2021-07-03T11:42:46.207Z"
   },
   {
    "duration": 8,
    "start_time": "2021-07-03T11:42:46.268Z"
   },
   {
    "duration": 8,
    "start_time": "2021-07-03T11:42:46.280Z"
   },
   {
    "duration": 95,
    "start_time": "2021-07-03T11:42:46.291Z"
   },
   {
    "duration": 7,
    "start_time": "2021-07-03T11:42:46.389Z"
   },
   {
    "duration": 17,
    "start_time": "2021-07-03T11:42:46.399Z"
   },
   {
    "duration": 41,
    "start_time": "2021-07-03T11:42:46.419Z"
   },
   {
    "duration": 8,
    "start_time": "2021-07-03T11:42:46.464Z"
   },
   {
    "duration": 26,
    "start_time": "2021-07-03T11:42:46.475Z"
   },
   {
    "duration": 86,
    "start_time": "2021-07-03T11:42:46.504Z"
   },
   {
    "duration": 17,
    "start_time": "2021-07-03T11:42:46.593Z"
   },
   {
    "duration": 47,
    "start_time": "2021-07-03T11:42:46.613Z"
   },
   {
    "duration": 23,
    "start_time": "2021-07-03T11:42:46.664Z"
   },
   {
    "duration": 24,
    "start_time": "2021-07-03T11:42:46.689Z"
   },
   {
    "duration": 46,
    "start_time": "2021-07-03T11:42:46.715Z"
   },
   {
    "duration": 24,
    "start_time": "2021-07-03T11:42:46.764Z"
   },
   {
    "duration": 20,
    "start_time": "2021-07-03T11:42:46.791Z"
   },
   {
    "duration": 70,
    "start_time": "2021-07-03T11:42:46.814Z"
   },
   {
    "duration": 25,
    "start_time": "2021-07-03T11:42:46.886Z"
   },
   {
    "duration": 50,
    "start_time": "2021-07-03T11:42:46.914Z"
   },
   {
    "duration": 31,
    "start_time": "2021-07-03T11:42:46.967Z"
   },
   {
    "duration": 840,
    "start_time": "2021-07-03T11:42:47.001Z"
   },
   {
    "duration": 77513,
    "start_time": "2021-07-03T11:42:47.843Z"
   },
   {
    "duration": 10,
    "start_time": "2021-07-03T11:44:05.358Z"
   },
   {
    "duration": 32,
    "start_time": "2021-07-03T11:44:05.370Z"
   },
   {
    "duration": 28,
    "start_time": "2021-07-03T11:44:05.404Z"
   },
   {
    "duration": 50,
    "start_time": "2021-07-03T11:44:05.457Z"
   },
   {
    "duration": 56,
    "start_time": "2021-07-03T11:44:05.511Z"
   },
   {
    "duration": 80,
    "start_time": "2021-07-03T11:44:05.570Z"
   },
   {
    "duration": 41,
    "start_time": "2021-07-03T11:44:05.654Z"
   },
   {
    "duration": 73,
    "start_time": "2021-07-03T11:44:05.698Z"
   },
   {
    "duration": 121,
    "start_time": "2021-07-03T11:44:05.774Z"
   },
   {
    "duration": 31,
    "start_time": "2021-07-03T11:44:05.899Z"
   },
   {
    "duration": 27,
    "start_time": "2021-07-03T11:44:05.932Z"
   },
   {
    "duration": 46,
    "start_time": "2021-07-03T11:44:05.962Z"
   },
   {
    "duration": 22,
    "start_time": "2021-07-03T11:44:06.011Z"
   },
   {
    "duration": 22,
    "start_time": "2021-07-03T11:44:06.057Z"
   },
   {
    "duration": 20,
    "start_time": "2021-07-03T11:44:06.082Z"
   },
   {
    "duration": 8,
    "start_time": "2021-07-03T11:44:06.105Z"
   },
   {
    "duration": 56,
    "start_time": "2021-07-03T11:44:06.115Z"
   },
   {
    "duration": 24,
    "start_time": "2021-07-03T11:44:06.179Z"
   },
   {
    "duration": 23,
    "start_time": "2021-07-03T11:44:06.206Z"
   },
   {
    "duration": 58,
    "start_time": "2021-07-03T11:44:06.231Z"
   },
   {
    "duration": 25,
    "start_time": "2021-07-03T11:44:06.291Z"
   },
   {
    "duration": 44,
    "start_time": "2021-07-03T11:44:06.319Z"
   },
   {
    "duration": 10,
    "start_time": "2021-07-03T11:44:06.366Z"
   },
   {
    "duration": 47,
    "start_time": "2021-07-03T11:44:06.379Z"
   },
   {
    "duration": 41,
    "start_time": "2021-07-03T11:44:06.430Z"
   },
   {
    "duration": 32,
    "start_time": "2021-07-03T11:44:06.473Z"
   },
   {
    "duration": 52,
    "start_time": "2021-07-03T11:44:06.508Z"
   },
   {
    "duration": 6243,
    "start_time": "2021-07-03T12:51:01.443Z"
   },
   {
    "duration": 249,
    "start_time": "2021-07-03T12:51:13.595Z"
   },
   {
    "duration": 61,
    "start_time": "2021-07-03T12:51:13.847Z"
   },
   {
    "duration": 47,
    "start_time": "2021-07-03T12:51:13.912Z"
   },
   {
    "duration": 16,
    "start_time": "2021-07-03T12:51:13.966Z"
   },
   {
    "duration": 7,
    "start_time": "2021-07-03T12:51:13.984Z"
   },
   {
    "duration": 76,
    "start_time": "2021-07-03T12:51:13.994Z"
   },
   {
    "duration": 57,
    "start_time": "2021-07-03T12:51:14.073Z"
   },
   {
    "duration": 67,
    "start_time": "2021-07-03T12:51:14.135Z"
   },
   {
    "duration": 8,
    "start_time": "2021-07-03T12:51:14.205Z"
   },
   {
    "duration": 43,
    "start_time": "2021-07-03T12:51:14.216Z"
   },
   {
    "duration": 43,
    "start_time": "2021-07-03T12:51:14.262Z"
   },
   {
    "duration": 64,
    "start_time": "2021-07-03T12:51:14.308Z"
   },
   {
    "duration": 12,
    "start_time": "2021-07-03T12:51:14.375Z"
   },
   {
    "duration": 21,
    "start_time": "2021-07-03T12:51:14.389Z"
   },
   {
    "duration": 46,
    "start_time": "2021-07-03T12:51:14.413Z"
   },
   {
    "duration": 18,
    "start_time": "2021-07-03T12:51:14.465Z"
   },
   {
    "duration": 26,
    "start_time": "2021-07-03T12:51:14.487Z"
   },
   {
    "duration": 53,
    "start_time": "2021-07-03T12:51:14.517Z"
   },
   {
    "duration": 35,
    "start_time": "2021-07-03T12:51:14.577Z"
   },
   {
    "duration": 50,
    "start_time": "2021-07-03T12:51:14.615Z"
   },
   {
    "duration": 28,
    "start_time": "2021-07-03T12:51:14.669Z"
   },
   {
    "duration": 26,
    "start_time": "2021-07-03T12:51:14.701Z"
   },
   {
    "duration": 27,
    "start_time": "2021-07-03T12:51:14.761Z"
   },
   {
    "duration": 13,
    "start_time": "2021-07-03T12:51:14.791Z"
   },
   {
    "duration": 29,
    "start_time": "2021-07-03T12:51:14.807Z"
   },
   {
    "duration": 39,
    "start_time": "2021-07-03T12:51:14.839Z"
   },
   {
    "duration": 24,
    "start_time": "2021-07-03T12:51:14.880Z"
   },
   {
    "duration": 60,
    "start_time": "2021-07-03T12:51:14.907Z"
   },
   {
    "duration": 6,
    "start_time": "2021-07-03T12:51:14.970Z"
   },
   {
    "duration": 13,
    "start_time": "2021-07-03T12:51:14.979Z"
   },
   {
    "duration": 83,
    "start_time": "2021-07-03T12:51:14.994Z"
   },
   {
    "duration": 6,
    "start_time": "2021-07-03T12:51:15.080Z"
   },
   {
    "duration": 20,
    "start_time": "2021-07-03T12:51:15.089Z"
   },
   {
    "duration": 20,
    "start_time": "2021-07-03T12:51:15.111Z"
   },
   {
    "duration": 27,
    "start_time": "2021-07-03T12:51:15.134Z"
   },
   {
    "duration": 27,
    "start_time": "2021-07-03T12:51:15.164Z"
   },
   {
    "duration": 69,
    "start_time": "2021-07-03T12:51:15.193Z"
   },
   {
    "duration": 20,
    "start_time": "2021-07-03T12:51:15.264Z"
   },
   {
    "duration": 17,
    "start_time": "2021-07-03T12:51:15.287Z"
   },
   {
    "duration": 37,
    "start_time": "2021-07-03T12:51:17.259Z"
   },
   {
    "duration": 53,
    "start_time": "2021-07-03T13:08:40.296Z"
   },
   {
    "duration": 307,
    "start_time": "2021-07-03T13:26:35.617Z"
   },
   {
    "duration": 67,
    "start_time": "2021-07-03T13:26:35.926Z"
   },
   {
    "duration": 12,
    "start_time": "2021-07-03T13:26:35.996Z"
   },
   {
    "duration": 14,
    "start_time": "2021-07-03T13:26:36.011Z"
   },
   {
    "duration": 11,
    "start_time": "2021-07-03T13:26:36.028Z"
   },
   {
    "duration": 62,
    "start_time": "2021-07-03T13:26:36.055Z"
   },
   {
    "duration": 80,
    "start_time": "2021-07-03T13:26:36.119Z"
   },
   {
    "duration": 64,
    "start_time": "2021-07-03T13:26:36.202Z"
   },
   {
    "duration": 11,
    "start_time": "2021-07-03T13:26:36.269Z"
   },
   {
    "duration": 24,
    "start_time": "2021-07-03T13:26:36.283Z"
   },
   {
    "duration": 19,
    "start_time": "2021-07-03T13:26:36.310Z"
   },
   {
    "duration": 71,
    "start_time": "2021-07-03T13:26:36.332Z"
   },
   {
    "duration": 15,
    "start_time": "2021-07-03T13:26:36.406Z"
   },
   {
    "duration": 39,
    "start_time": "2021-07-03T13:26:36.423Z"
   },
   {
    "duration": 24,
    "start_time": "2021-07-03T13:26:36.465Z"
   },
   {
    "duration": 11,
    "start_time": "2021-07-03T13:26:36.492Z"
   },
   {
    "duration": 20,
    "start_time": "2021-07-03T13:26:36.506Z"
   },
   {
    "duration": 29,
    "start_time": "2021-07-03T13:26:36.556Z"
   },
   {
    "duration": 23,
    "start_time": "2021-07-03T13:26:36.589Z"
   },
   {
    "duration": 16,
    "start_time": "2021-07-03T13:26:36.615Z"
   },
   {
    "duration": 53,
    "start_time": "2021-07-03T13:26:36.634Z"
   },
   {
    "duration": 19,
    "start_time": "2021-07-03T13:26:36.692Z"
   },
   {
    "duration": 16,
    "start_time": "2021-07-03T13:26:36.716Z"
   },
   {
    "duration": 12,
    "start_time": "2021-07-03T13:26:36.760Z"
   },
   {
    "duration": 27,
    "start_time": "2021-07-03T13:26:36.778Z"
   },
   {
    "duration": 21,
    "start_time": "2021-07-03T13:26:36.808Z"
   },
   {
    "duration": 60,
    "start_time": "2021-07-03T13:26:36.831Z"
   },
   {
    "duration": 25,
    "start_time": "2021-07-03T13:26:36.895Z"
   },
   {
    "duration": 6,
    "start_time": "2021-07-03T13:26:36.922Z"
   },
   {
    "duration": 31,
    "start_time": "2021-07-03T13:26:36.931Z"
   },
   {
    "duration": 60,
    "start_time": "2021-07-03T13:26:36.964Z"
   },
   {
    "duration": 6,
    "start_time": "2021-07-03T13:26:37.026Z"
   },
   {
    "duration": 17,
    "start_time": "2021-07-03T13:26:37.057Z"
   },
   {
    "duration": 7,
    "start_time": "2021-07-03T13:26:37.077Z"
   },
   {
    "duration": 13,
    "start_time": "2021-07-03T13:26:37.087Z"
   },
   {
    "duration": 65,
    "start_time": "2021-07-03T13:26:37.106Z"
   },
   {
    "duration": 53,
    "start_time": "2021-07-03T13:26:37.174Z"
   },
   {
    "duration": 45,
    "start_time": "2021-07-03T13:26:37.230Z"
   },
   {
    "duration": 22,
    "start_time": "2021-07-03T13:26:37.277Z"
   },
   {
    "duration": 29,
    "start_time": "2021-07-03T13:26:37.302Z"
   },
   {
    "duration": 55,
    "start_time": "2021-07-03T13:26:37.334Z"
   },
   {
    "duration": 12,
    "start_time": "2021-07-03T13:26:37.392Z"
   },
   {
    "duration": 22,
    "start_time": "2021-07-03T13:26:37.407Z"
   },
   {
    "duration": 53,
    "start_time": "2021-07-03T13:26:37.432Z"
   },
   {
    "duration": 21,
    "start_time": "2021-07-03T13:26:37.488Z"
   },
   {
    "duration": 61,
    "start_time": "2021-07-03T13:26:37.511Z"
   },
   {
    "duration": 25,
    "start_time": "2021-07-03T13:26:37.575Z"
   },
   {
    "duration": 28,
    "start_time": "2021-07-03T13:26:37.602Z"
   },
   {
    "duration": 25,
    "start_time": "2021-07-03T13:26:37.656Z"
   },
   {
    "duration": 85102,
    "start_time": "2021-07-03T13:26:37.687Z"
   },
   {
    "duration": 12,
    "start_time": "2021-07-03T13:28:02.791Z"
   },
   {
    "duration": 49,
    "start_time": "2021-07-03T13:28:02.807Z"
   },
   {
    "duration": 37,
    "start_time": "2021-07-03T13:28:14.324Z"
   },
   {
    "duration": 1107,
    "start_time": "2021-07-06T11:31:57.072Z"
   },
   {
    "duration": 46,
    "start_time": "2021-07-06T11:31:58.182Z"
   },
   {
    "duration": 66,
    "start_time": "2021-07-06T11:31:58.231Z"
   },
   {
    "duration": 46,
    "start_time": "2021-07-06T11:31:58.300Z"
   },
   {
    "duration": 36,
    "start_time": "2021-07-06T11:31:58.349Z"
   },
   {
    "duration": 9,
    "start_time": "2021-07-06T11:31:58.388Z"
   },
   {
    "duration": 6,
    "start_time": "2021-07-06T11:31:58.400Z"
   },
   {
    "duration": 44,
    "start_time": "2021-07-06T11:31:58.410Z"
   },
   {
    "duration": 75,
    "start_time": "2021-07-06T11:31:58.457Z"
   },
   {
    "duration": 60,
    "start_time": "2021-07-06T11:31:58.535Z"
   },
   {
    "duration": 8,
    "start_time": "2021-07-06T11:31:58.597Z"
   },
   {
    "duration": 14,
    "start_time": "2021-07-06T11:31:58.607Z"
   },
   {
    "duration": 16,
    "start_time": "2021-07-06T11:31:58.624Z"
   },
   {
    "duration": 69,
    "start_time": "2021-07-06T11:31:58.643Z"
   },
   {
    "duration": 10,
    "start_time": "2021-07-06T11:31:58.714Z"
   },
   {
    "duration": 12,
    "start_time": "2021-07-06T11:31:58.726Z"
   },
   {
    "duration": 8,
    "start_time": "2021-07-06T11:31:58.740Z"
   },
   {
    "duration": 42,
    "start_time": "2021-07-06T11:31:58.750Z"
   },
   {
    "duration": 18,
    "start_time": "2021-07-06T11:31:58.794Z"
   },
   {
    "duration": 15,
    "start_time": "2021-07-06T11:31:58.814Z"
   },
   {
    "duration": 58,
    "start_time": "2021-07-06T11:31:58.831Z"
   },
   {
    "duration": 19,
    "start_time": "2021-07-06T11:31:58.891Z"
   },
   {
    "duration": 18,
    "start_time": "2021-07-06T11:31:58.917Z"
   },
   {
    "duration": 50,
    "start_time": "2021-07-06T11:31:58.940Z"
   },
   {
    "duration": 18,
    "start_time": "2021-07-06T11:31:58.993Z"
   },
   {
    "duration": 10,
    "start_time": "2021-07-06T11:31:59.013Z"
   },
   {
    "duration": 18,
    "start_time": "2021-07-06T11:31:59.025Z"
   },
   {
    "duration": 19,
    "start_time": "2021-07-06T11:31:59.086Z"
   },
   {
    "duration": 23,
    "start_time": "2021-07-06T11:31:59.107Z"
   },
   {
    "duration": 53,
    "start_time": "2021-07-06T11:31:59.132Z"
   },
   {
    "duration": 7,
    "start_time": "2021-07-06T11:31:59.188Z"
   },
   {
    "duration": 9,
    "start_time": "2021-07-06T11:31:59.198Z"
   },
   {
    "duration": 84,
    "start_time": "2021-07-06T11:31:59.209Z"
   },
   {
    "duration": 7,
    "start_time": "2021-07-06T11:31:59.296Z"
   },
   {
    "duration": 13,
    "start_time": "2021-07-06T11:31:59.305Z"
   },
   {
    "duration": 6,
    "start_time": "2021-07-06T11:31:59.320Z"
   },
   {
    "duration": 10,
    "start_time": "2021-07-06T11:31:59.329Z"
   },
   {
    "duration": 61,
    "start_time": "2021-07-06T11:31:59.341Z"
   },
   {
    "duration": 54,
    "start_time": "2021-07-06T11:31:59.404Z"
   },
   {
    "duration": 40,
    "start_time": "2021-07-06T11:31:59.460Z"
   },
   {
    "duration": 20,
    "start_time": "2021-07-06T11:31:59.502Z"
   },
   {
    "duration": 75,
    "start_time": "2021-07-06T11:31:59.524Z"
   },
   {
    "duration": 18,
    "start_time": "2021-07-06T11:31:59.602Z"
   },
   {
    "duration": 20,
    "start_time": "2021-07-06T11:31:59.622Z"
   },
   {
    "duration": 42,
    "start_time": "2021-07-06T11:31:59.644Z"
   },
   {
    "duration": 17,
    "start_time": "2021-07-06T11:31:59.688Z"
   },
   {
    "duration": 22,
    "start_time": "2021-07-06T11:31:59.707Z"
   },
   {
    "duration": 56,
    "start_time": "2021-07-06T11:31:59.732Z"
   },
   {
    "duration": 26,
    "start_time": "2021-07-06T11:31:59.791Z"
   },
   {
    "duration": 24,
    "start_time": "2021-07-06T11:31:59.819Z"
   },
   {
    "duration": 60,
    "start_time": "2021-07-06T11:31:59.846Z"
   },
   {
    "duration": 841,
    "start_time": "2021-07-06T11:31:59.909Z"
   },
   {
    "duration": 5,
    "start_time": "2021-07-06T11:32:00.752Z"
   },
   {
    "duration": 72849,
    "start_time": "2021-07-06T11:32:00.760Z"
   },
   {
    "duration": 9,
    "start_time": "2021-07-06T11:33:13.611Z"
   },
   {
    "duration": 6,
    "start_time": "2021-07-06T11:33:13.622Z"
   },
   {
    "duration": 6,
    "start_time": "2021-07-06T11:33:13.631Z"
   },
   {
    "duration": 8,
    "start_time": "2021-07-06T11:33:13.639Z"
   },
   {
    "duration": 54,
    "start_time": "2021-07-06T11:33:13.649Z"
   },
   {
    "duration": 12,
    "start_time": "2021-07-06T11:33:13.706Z"
   },
   {
    "duration": 23,
    "start_time": "2021-07-06T11:33:13.720Z"
   },
   {
    "duration": 48,
    "start_time": "2021-07-06T11:33:13.745Z"
   },
   {
    "duration": 45,
    "start_time": "2021-07-06T11:33:13.796Z"
   },
   {
    "duration": 48,
    "start_time": "2021-07-06T11:33:13.843Z"
   },
   {
    "duration": 15,
    "start_time": "2021-07-06T11:33:13.894Z"
   },
   {
    "duration": 41,
    "start_time": "2021-07-06T11:33:13.911Z"
   },
   {
    "duration": 50,
    "start_time": "2021-07-06T11:33:13.955Z"
   },
   {
    "duration": 17,
    "start_time": "2021-07-06T11:33:14.012Z"
   },
   {
    "duration": 15,
    "start_time": "2021-07-06T11:33:14.033Z"
   },
   {
    "duration": 36,
    "start_time": "2021-07-06T11:33:14.051Z"
   },
   {
    "duration": 24,
    "start_time": "2021-07-06T11:33:14.090Z"
   },
   {
    "duration": 24,
    "start_time": "2021-07-06T11:33:14.116Z"
   },
   {
    "duration": 45,
    "start_time": "2021-07-06T11:33:14.143Z"
   },
   {
    "duration": 42,
    "start_time": "2021-07-06T11:33:14.190Z"
   },
   {
    "duration": 23,
    "start_time": "2021-07-06T11:33:14.234Z"
   },
   {
    "duration": 16,
    "start_time": "2021-07-06T11:33:14.285Z"
   },
   {
    "duration": 5,
    "start_time": "2021-07-06T11:33:14.304Z"
   },
   {
    "duration": 52,
    "start_time": "2021-07-06T11:33:14.312Z"
   },
   {
    "duration": 39,
    "start_time": "2021-07-06T11:33:14.366Z"
   },
   {
    "duration": 18,
    "start_time": "2021-07-06T11:33:14.407Z"
   },
   {
    "duration": 62,
    "start_time": "2021-07-06T11:33:14.428Z"
   },
   {
    "duration": 467,
    "start_time": "2021-07-06T12:06:33.977Z"
   },
   {
    "duration": 288,
    "start_time": "2021-07-06T12:06:54.913Z"
   },
   {
    "duration": 54,
    "start_time": "2021-07-06T12:06:55.205Z"
   },
   {
    "duration": 76,
    "start_time": "2021-07-06T12:06:55.262Z"
   },
   {
    "duration": 81,
    "start_time": "2021-07-06T12:06:55.341Z"
   },
   {
    "duration": 14,
    "start_time": "2021-07-06T12:06:55.425Z"
   },
   {
    "duration": 9,
    "start_time": "2021-07-06T12:06:55.442Z"
   },
   {
    "duration": 3,
    "start_time": "2021-07-06T12:06:55.486Z"
   },
   {
    "duration": 50,
    "start_time": "2021-07-06T12:06:55.493Z"
   },
   {
    "duration": 76,
    "start_time": "2021-07-06T12:06:55.546Z"
   },
   {
    "duration": 60,
    "start_time": "2021-07-06T12:06:55.625Z"
   },
   {
    "duration": 10,
    "start_time": "2021-07-06T12:06:55.688Z"
   },
   {
    "duration": 15,
    "start_time": "2021-07-06T12:06:55.701Z"
   },
   {
    "duration": 19,
    "start_time": "2021-07-06T12:06:55.719Z"
   },
   {
    "duration": 87,
    "start_time": "2021-07-06T12:06:55.741Z"
   },
   {
    "duration": 11,
    "start_time": "2021-07-06T12:06:55.831Z"
   },
   {
    "duration": 17,
    "start_time": "2021-07-06T12:06:55.845Z"
   },
   {
    "duration": 8,
    "start_time": "2021-07-06T12:06:55.886Z"
   },
   {
    "duration": 16,
    "start_time": "2021-07-06T12:06:55.897Z"
   },
   {
    "duration": 19,
    "start_time": "2021-07-06T12:06:55.916Z"
   },
   {
    "duration": 53,
    "start_time": "2021-07-06T12:06:55.938Z"
   },
   {
    "duration": 30,
    "start_time": "2021-07-06T12:06:55.994Z"
   },
   {
    "duration": 18,
    "start_time": "2021-07-06T12:06:56.026Z"
   },
   {
    "duration": 44,
    "start_time": "2021-07-06T12:06:56.049Z"
   },
   {
    "duration": 17,
    "start_time": "2021-07-06T12:06:56.097Z"
   },
   {
    "duration": 16,
    "start_time": "2021-07-06T12:06:56.116Z"
   },
   {
    "duration": 9,
    "start_time": "2021-07-06T12:06:56.135Z"
   },
   {
    "duration": 17,
    "start_time": "2021-07-06T12:06:56.185Z"
   },
   {
    "duration": 19,
    "start_time": "2021-07-06T12:06:56.205Z"
   },
   {
    "duration": 58,
    "start_time": "2021-07-06T12:06:56.227Z"
   },
   {
    "duration": 24,
    "start_time": "2021-07-06T12:06:56.288Z"
   },
   {
    "duration": 6,
    "start_time": "2021-07-06T12:06:56.315Z"
   },
   {
    "duration": 12,
    "start_time": "2021-07-06T12:06:56.324Z"
   },
   {
    "duration": 85,
    "start_time": "2021-07-06T12:06:56.339Z"
   },
   {
    "duration": 5,
    "start_time": "2021-07-06T12:06:56.426Z"
   },
   {
    "duration": 15,
    "start_time": "2021-07-06T12:06:56.433Z"
   },
   {
    "duration": 35,
    "start_time": "2021-07-06T12:06:56.451Z"
   },
   {
    "duration": 6,
    "start_time": "2021-07-06T12:06:56.488Z"
   },
   {
    "duration": 23,
    "start_time": "2021-07-06T12:06:56.497Z"
   },
   {
    "duration": 75,
    "start_time": "2021-07-06T12:06:56.522Z"
   },
   {
    "duration": 18,
    "start_time": "2021-07-06T12:06:56.599Z"
   },
   {
    "duration": 19,
    "start_time": "2021-07-06T12:06:56.619Z"
   },
   {
    "duration": 82,
    "start_time": "2021-07-06T12:06:56.640Z"
   },
   {
    "duration": 10,
    "start_time": "2021-07-06T12:06:56.724Z"
   },
   {
    "duration": 15,
    "start_time": "2021-07-06T12:08:20.666Z"
   },
   {
    "duration": 1139,
    "start_time": "2021-07-06T12:14:17.113Z"
   },
   {
    "duration": 61,
    "start_time": "2021-07-06T12:14:18.254Z"
   },
   {
    "duration": 48,
    "start_time": "2021-07-06T12:14:18.318Z"
   },
   {
    "duration": 65,
    "start_time": "2021-07-06T12:14:18.369Z"
   },
   {
    "duration": 12,
    "start_time": "2021-07-06T12:14:18.436Z"
   },
   {
    "duration": 36,
    "start_time": "2021-07-06T12:14:18.451Z"
   },
   {
    "duration": 4,
    "start_time": "2021-07-06T12:14:18.490Z"
   },
   {
    "duration": 46,
    "start_time": "2021-07-06T12:14:18.500Z"
   },
   {
    "duration": 79,
    "start_time": "2021-07-06T12:14:18.549Z"
   },
   {
    "duration": 55,
    "start_time": "2021-07-06T12:14:18.631Z"
   },
   {
    "duration": 8,
    "start_time": "2021-07-06T12:14:18.688Z"
   },
   {
    "duration": 15,
    "start_time": "2021-07-06T12:14:18.698Z"
   },
   {
    "duration": 17,
    "start_time": "2021-07-06T12:14:18.715Z"
   },
   {
    "duration": 69,
    "start_time": "2021-07-06T12:14:18.734Z"
   },
   {
    "duration": 10,
    "start_time": "2021-07-06T12:14:18.805Z"
   },
   {
    "duration": 21,
    "start_time": "2021-07-06T12:14:18.817Z"
   },
   {
    "duration": 14,
    "start_time": "2021-07-06T12:14:18.841Z"
   },
   {
    "duration": 34,
    "start_time": "2021-07-06T12:14:18.857Z"
   },
   {
    "duration": 18,
    "start_time": "2021-07-06T12:14:18.894Z"
   },
   {
    "duration": 27,
    "start_time": "2021-07-06T12:14:18.914Z"
   },
   {
    "duration": 48,
    "start_time": "2021-07-06T12:14:18.946Z"
   },
   {
    "duration": 17,
    "start_time": "2021-07-06T12:14:18.997Z"
   },
   {
    "duration": 18,
    "start_time": "2021-07-06T12:14:19.021Z"
   },
   {
    "duration": 56,
    "start_time": "2021-07-06T12:14:19.043Z"
   },
   {
    "duration": 15,
    "start_time": "2021-07-06T12:14:19.102Z"
   },
   {
    "duration": 9,
    "start_time": "2021-07-06T12:14:19.119Z"
   },
   {
    "duration": 57,
    "start_time": "2021-07-06T12:14:19.130Z"
   },
   {
    "duration": 19,
    "start_time": "2021-07-06T12:14:19.189Z"
   },
   {
    "duration": 23,
    "start_time": "2021-07-06T12:14:19.210Z"
   },
   {
    "duration": 56,
    "start_time": "2021-07-06T12:14:19.235Z"
   },
   {
    "duration": 7,
    "start_time": "2021-07-06T12:14:19.293Z"
   },
   {
    "duration": 8,
    "start_time": "2021-07-06T12:14:19.303Z"
   },
   {
    "duration": 73,
    "start_time": "2021-07-06T12:14:19.314Z"
   },
   {
    "duration": 6,
    "start_time": "2021-07-06T12:14:19.389Z"
   },
   {
    "duration": 15,
    "start_time": "2021-07-06T12:14:19.398Z"
   },
   {
    "duration": 7,
    "start_time": "2021-07-06T12:14:19.415Z"
   },
   {
    "duration": 8,
    "start_time": "2021-07-06T12:14:19.425Z"
   },
   {
    "duration": 64,
    "start_time": "2021-07-06T12:14:19.435Z"
   },
   {
    "duration": 44,
    "start_time": "2021-07-06T12:14:19.502Z"
   },
   {
    "duration": 37,
    "start_time": "2021-07-06T12:14:19.548Z"
   },
   {
    "duration": 18,
    "start_time": "2021-07-06T12:14:19.588Z"
   },
   {
    "duration": 51,
    "start_time": "2021-07-06T12:14:19.609Z"
   },
   {
    "duration": 22,
    "start_time": "2021-07-06T12:14:19.687Z"
   },
   {
    "duration": 22,
    "start_time": "2021-07-06T12:14:19.712Z"
   },
   {
    "duration": 51,
    "start_time": "2021-07-06T12:14:19.737Z"
   },
   {
    "duration": 19,
    "start_time": "2021-07-06T12:14:19.791Z"
   },
   {
    "duration": 22,
    "start_time": "2021-07-06T12:14:19.813Z"
   },
   {
    "duration": 63,
    "start_time": "2021-07-06T12:14:19.838Z"
   },
   {
    "duration": 26,
    "start_time": "2021-07-06T12:14:19.904Z"
   },
   {
    "duration": 22,
    "start_time": "2021-07-06T12:14:19.932Z"
   },
   {
    "duration": 29,
    "start_time": "2021-07-06T12:14:19.985Z"
   },
   {
    "duration": 905,
    "start_time": "2021-07-06T12:14:20.016Z"
   },
   {
    "duration": 5,
    "start_time": "2021-07-06T12:14:20.923Z"
   },
   {
    "duration": 72310,
    "start_time": "2021-07-06T12:14:20.931Z"
   },
   {
    "duration": 11,
    "start_time": "2021-07-06T12:15:33.244Z"
   },
   {
    "duration": 21,
    "start_time": "2021-07-06T12:15:33.257Z"
   },
   {
    "duration": 13,
    "start_time": "2021-07-06T12:15:33.285Z"
   },
   {
    "duration": 16,
    "start_time": "2021-07-06T12:15:33.301Z"
   },
   {
    "duration": 46,
    "start_time": "2021-07-06T12:15:33.319Z"
   },
   {
    "duration": 12,
    "start_time": "2021-07-06T12:15:33.367Z"
   },
   {
    "duration": 33,
    "start_time": "2021-07-06T12:15:33.382Z"
   },
   {
    "duration": 20,
    "start_time": "2021-07-06T12:15:33.417Z"
   },
   {
    "duration": 57,
    "start_time": "2021-07-06T12:15:33.439Z"
   },
   {
    "duration": 22,
    "start_time": "2021-07-06T12:15:33.498Z"
   },
   {
    "duration": 20,
    "start_time": "2021-07-06T12:15:33.522Z"
   },
   {
    "duration": 67,
    "start_time": "2021-07-06T12:15:33.545Z"
   },
   {
    "duration": 23,
    "start_time": "2021-07-06T12:15:33.614Z"
   },
   {
    "duration": 19,
    "start_time": "2021-07-06T12:15:33.644Z"
   },
   {
    "duration": 33,
    "start_time": "2021-07-06T12:15:33.666Z"
   },
   {
    "duration": 17,
    "start_time": "2021-07-06T12:15:33.701Z"
   },
   {
    "duration": 26,
    "start_time": "2021-07-06T12:15:33.721Z"
   },
   {
    "duration": 39,
    "start_time": "2021-07-06T12:15:33.750Z"
   },
   {
    "duration": 13,
    "start_time": "2021-07-06T12:15:33.791Z"
   },
   {
    "duration": 39,
    "start_time": "2021-07-06T12:15:33.806Z"
   },
   {
    "duration": 43,
    "start_time": "2021-07-06T12:15:33.847Z"
   },
   {
    "duration": 16,
    "start_time": "2021-07-06T12:15:33.893Z"
   },
   {
    "duration": 6,
    "start_time": "2021-07-06T12:15:33.912Z"
   },
   {
    "duration": 71,
    "start_time": "2021-07-06T12:15:33.921Z"
   },
   {
    "duration": 22,
    "start_time": "2021-07-06T12:15:33.995Z"
   },
   {
    "duration": 21,
    "start_time": "2021-07-06T12:15:34.020Z"
   },
   {
    "duration": 67,
    "start_time": "2021-07-06T12:15:34.045Z"
   }
  ],
  "kernelspec": {
   "display_name": "Python 3",
   "language": "python",
   "name": "python3"
  },
  "language_info": {
   "codemirror_mode": {
    "name": "ipython",
    "version": 3
   },
   "file_extension": ".py",
   "mimetype": "text/x-python",
   "name": "python",
   "nbconvert_exporter": "python",
   "pygments_lexer": "ipython3",
   "version": "3.8.8"
  },
  "toc": {
   "base_numbering": 1,
   "nav_menu": {},
   "number_sections": true,
   "sideBar": true,
   "skip_h1_title": true,
   "title_cell": "Table of Contents",
   "title_sidebar": "Contents",
   "toc_cell": false,
   "toc_position": {
    "height": "calc(100% - 180px)",
    "left": "10px",
    "top": "150px",
    "width": "290px"
   },
   "toc_section_display": true,
   "toc_window_display": true
  }
 },
 "nbformat": 4,
 "nbformat_minor": 2
}
