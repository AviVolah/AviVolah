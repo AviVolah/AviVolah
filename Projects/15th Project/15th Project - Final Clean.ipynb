{
 "cells": [
  {
   "cell_type": "markdown",
   "metadata": {},
   "source": [
    "# E-commerce: Analyzing the product range\n",
    "\n",
    "The dataset contains the transaction history of an online store that sells household goods. we should find what products we should sell more, what should we exclude and which products are sold together"
   ]
  },
  {
   "cell_type": "markdown",
   "metadata": {},
   "source": [
    "# Step 1. Open the data file and study the general information"
   ]
  },
  {
   "cell_type": "code",
   "execution_count": 1,
   "metadata": {
    "scrolled": true
   },
   "outputs": [
    {
     "name": "stdout",
     "output_type": "stream",
     "text": [
      "Defaulting to user installation because normal site-packages is not writeable\n",
      "Requirement already satisfied: matplotlib in /opt/conda/lib/python3.7/site-packages (3.1.0)\n",
      "Requirement already satisfied: python-dateutil>=2.1 in /opt/conda/lib/python3.7/site-packages (from matplotlib) (2.8.1)\n",
      "Requirement already satisfied: cycler>=0.10 in /opt/conda/lib/python3.7/site-packages (from matplotlib) (0.10.0)\n",
      "Requirement already satisfied: numpy>=1.11 in /opt/conda/lib/python3.7/site-packages (from matplotlib) (1.19.5)\n",
      "Requirement already satisfied: kiwisolver>=1.0.1 in /opt/conda/lib/python3.7/site-packages (from matplotlib) (1.3.1)\n",
      "Requirement already satisfied: pyparsing!=2.0.4,!=2.1.2,!=2.1.6,>=2.0.1 in /opt/conda/lib/python3.7/site-packages (from matplotlib) (2.4.7)\n",
      "Requirement already satisfied: six>=1.5 in /opt/conda/lib/python3.7/site-packages (from python-dateutil>=2.1->matplotlib) (1.15.0)\n",
      "Defaulting to user installation because normal site-packages is not writeable\n",
      "Collecting sidetable\n",
      "  Downloading sidetable-0.9.0-py3-none-any.whl (17 kB)\n",
      "Collecting pandas>=1.0\n",
      "  Downloading pandas-1.3.5-cp37-cp37m-manylinux_2_17_x86_64.manylinux2014_x86_64.whl (11.3 MB)\n",
      "\u001b[K     |████████████████████████████████| 11.3 MB 3.6 MB/s eta 0:00:01\n",
      "\u001b[?25hRequirement already satisfied: python-dateutil>=2.7.3 in /opt/conda/lib/python3.7/site-packages (from pandas>=1.0->sidetable) (2.8.1)\n",
      "Requirement already satisfied: numpy>=1.17.3; platform_machine != \"aarch64\" and platform_machine != \"arm64\" and python_version < \"3.10\" in /opt/conda/lib/python3.7/site-packages (from pandas>=1.0->sidetable) (1.19.5)\n",
      "Requirement already satisfied: pytz>=2017.3 in /opt/conda/lib/python3.7/site-packages (from pandas>=1.0->sidetable) (2021.1)\n",
      "Requirement already satisfied: six>=1.5 in /opt/conda/lib/python3.7/site-packages (from python-dateutil>=2.7.3->pandas>=1.0->sidetable) (1.15.0)\n",
      "Installing collected packages: pandas, sidetable\n",
      "Successfully installed pandas-1.3.5 sidetable-0.9.0\n",
      "Defaulting to user installation because normal site-packages is not writeable\n",
      "Requirement already satisfied: scipy in /opt/conda/lib/python3.7/site-packages (1.4.1)\n",
      "Requirement already satisfied: numpy>=1.13.3 in /opt/conda/lib/python3.7/site-packages (from scipy) (1.19.5)\n",
      "Defaulting to user installation because normal site-packages is not writeable\n",
      "Collecting mlxtend\n",
      "  Downloading mlxtend-0.19.0-py2.py3-none-any.whl (1.3 MB)\n",
      "\u001b[K     |████████████████████████████████| 1.3 MB 1.4 MB/s eta 0:00:01\n",
      "\u001b[?25hRequirement already satisfied: scipy>=1.2.1 in /opt/conda/lib/python3.7/site-packages (from mlxtend) (1.4.1)\n",
      "Requirement already satisfied: setuptools in /opt/conda/lib/python3.7/site-packages (from mlxtend) (49.6.0.post20210108)\n",
      "Requirement already satisfied: numpy>=1.16.2 in /opt/conda/lib/python3.7/site-packages (from mlxtend) (1.19.5)\n",
      "Requirement already satisfied: matplotlib>=3.0.0 in /opt/conda/lib/python3.7/site-packages (from mlxtend) (3.1.0)\n",
      "Requirement already satisfied: scikit-learn>=0.20.3 in /opt/conda/lib/python3.7/site-packages (from mlxtend) (0.21.2)\n",
      "Requirement already satisfied: pandas>=0.24.2 in /home/jovyan/.local/lib/python3.7/site-packages (from mlxtend) (1.3.5)\n",
      "Requirement already satisfied: joblib>=0.13.2 in /opt/conda/lib/python3.7/site-packages (from mlxtend) (1.0.1)\n",
      "Requirement already satisfied: pyparsing!=2.0.4,!=2.1.2,!=2.1.6,>=2.0.1 in /opt/conda/lib/python3.7/site-packages (from matplotlib>=3.0.0->mlxtend) (2.4.7)\n",
      "Requirement already satisfied: cycler>=0.10 in /opt/conda/lib/python3.7/site-packages (from matplotlib>=3.0.0->mlxtend) (0.10.0)\n",
      "Requirement already satisfied: kiwisolver>=1.0.1 in /opt/conda/lib/python3.7/site-packages (from matplotlib>=3.0.0->mlxtend) (1.3.1)\n",
      "Requirement already satisfied: python-dateutil>=2.1 in /opt/conda/lib/python3.7/site-packages (from matplotlib>=3.0.0->mlxtend) (2.8.1)\n",
      "Requirement already satisfied: pytz>=2017.3 in /opt/conda/lib/python3.7/site-packages (from pandas>=0.24.2->mlxtend) (2021.1)\n",
      "Requirement already satisfied: six in /opt/conda/lib/python3.7/site-packages (from cycler>=0.10->matplotlib>=3.0.0->mlxtend) (1.15.0)\n",
      "Installing collected packages: mlxtend\n",
      "Successfully installed mlxtend-0.19.0\n"
     ]
    }
   ],
   "source": [
    "#importing libraries\n",
    "# TABLE\n",
    "import pandas as pd\n",
    "from IPython.core.interactiveshell import InteractiveShell\n",
    "InteractiveShell.ast_node_interactivity = 'all'\n",
    "from functools import reduce\n",
    "#pd.set_option('display.max_rows', 100)\n",
    "#pd.set_option('display.max_columns', 10)\n",
    "\n",
    "# GRAPHS\n",
    "#!pip install plotly\n",
    "#!pip install plotly -U\n",
    "#import plotly.express as px\n",
    "#from plotly import graph_objects as go\n",
    "#!pip install -U seaborn\n",
    "#import seaborn as sns\n",
    "#!pip install -U matplotlib\n",
    "!python3.7 -m pip install matplotlib\n",
    "import matplotlib.pyplot as plt\n",
    "\n",
    "# NULLS\n",
    "#!pip install -U sidetable\n",
    "!python3.7 -m pip install sidetable\n",
    "import sidetable\n",
    "#!pip install -U missingno\n",
    "#import missingno as msno\n",
    "\n",
    "# STATS\n",
    "#from sklearn.preprocessing import StandardScaler\n",
    "#from sklearn.model_selection import train_test_split\n",
    "#from sklearn.linear_model import LogisticRegression\n",
    "#from sklearn.ensemble import RandomForestClassifier\n",
    "#from sklearn.metrics import accuracy_score, precision_score, recall_score, f1_score\n",
    "#from scipy.cluster.hierarchy import dendrogram, linkage\n",
    "#from sklearn.cluster import KMeans\n",
    "#from statsmodels.stats.weightstats import ztest as ztest\n",
    "!python3.7 -m pip install scipy\n",
    "from scipy import stats as st\n",
    "#!pip install -U mlxtend\n",
    "!python3.7 -m pip install mlxtend\n",
    "from mlxtend.frequent_patterns import apriori, association_rules\n",
    "\n",
    "# OTHER\n",
    "#from datetime import datetime\n",
    "#from datetime import timedelta\n",
    "#import math as mt\n",
    "import numpy as np\n",
    "#!pip install -U termcolor\n",
    "#from termcolor import colored"
   ]
  },
  {
   "cell_type": "code",
   "execution_count": 2,
   "metadata": {
    "scrolled": false
   },
   "outputs": [
    {
     "name": "stdout",
     "output_type": "stream",
     "text": [
      "<class 'pandas.core.frame.DataFrame'>\n",
      "RangeIndex: 541909 entries, 0 to 541908\n",
      "Data columns (total 7 columns):\n",
      "InvoiceNo      541909 non-null object\n",
      "StockCode      541909 non-null object\n",
      "Description    540455 non-null object\n",
      "Quantity       541909 non-null int64\n",
      "InvoiceDate    541909 non-null datetime64[ns]\n",
      "UnitPrice      541909 non-null float64\n",
      "CustomerID     406829 non-null object\n",
      "dtypes: datetime64[ns](1), float64(1), int64(1), object(4)\n",
      "memory usage: 28.9+ MB\n"
     ]
    }
   ],
   "source": [
    "# reading the files\n",
    "fp = 'ecommerce_dataset_us.csv'\n",
    "local_filepath = r'C:\\Users\\Avi\\Desktop\\D.A\\Practicum\\Projects\\15th project\\{}'.format(fp)\n",
    "\n",
    "try:\n",
    "    ecommerce = pd.read_csv(local_filepath, sep = '\\t', parse_dates = ['InvoiceDate'], dtype = {'CustomerID': 'object'})\n",
    "\n",
    "except:\n",
    "    ecommerce = pd.read_csv('/datasets/{}'.format(fp), sep = '\\t', parse_dates = ['InvoiceDate'], \n",
    "                            dtype = {'CustomerID': 'object'})\n",
    "\n",
    "# copying the data so it will load faster\n",
    "ecommerce = ecommerce.copy()\n",
    "\n",
    "# checking the columns for nulls and type and other info\n",
    "ecommerce.info()"
   ]
  },
  {
   "cell_type": "markdown",
   "metadata": {},
   "source": [
    "there are missing values, lets see the percentages"
   ]
  },
  {
   "cell_type": "code",
   "execution_count": 3,
   "metadata": {},
   "outputs": [
    {
     "data": {
      "text/html": [
       "<style  type=\"text/css\" >\n",
       "</style><table id=\"T_cd56d646_9586_11ec_82d6_02420a39a7a3\" ><thead>    <tr>        <th class=\"blank level0\" ></th>        <th class=\"col_heading level0 col0\" >missing</th>        <th class=\"col_heading level0 col1\" >total</th>        <th class=\"col_heading level0 col2\" >percent</th>    </tr></thead><tbody>\n",
       "                <tr>\n",
       "                        <th id=\"T_cd56d646_9586_11ec_82d6_02420a39a7a3level0_row0\" class=\"row_heading level0 row0\" >CustomerID</th>\n",
       "                        <td id=\"T_cd56d646_9586_11ec_82d6_02420a39a7a3row0_col0\" class=\"data row0 col0\" >135,080</td>\n",
       "                        <td id=\"T_cd56d646_9586_11ec_82d6_02420a39a7a3row0_col1\" class=\"data row0 col1\" >541,909</td>\n",
       "                        <td id=\"T_cd56d646_9586_11ec_82d6_02420a39a7a3row0_col2\" class=\"data row0 col2\" >24.93%</td>\n",
       "            </tr>\n",
       "            <tr>\n",
       "                        <th id=\"T_cd56d646_9586_11ec_82d6_02420a39a7a3level0_row1\" class=\"row_heading level0 row1\" >Description</th>\n",
       "                        <td id=\"T_cd56d646_9586_11ec_82d6_02420a39a7a3row1_col0\" class=\"data row1 col0\" >1,454</td>\n",
       "                        <td id=\"T_cd56d646_9586_11ec_82d6_02420a39a7a3row1_col1\" class=\"data row1 col1\" >541,909</td>\n",
       "                        <td id=\"T_cd56d646_9586_11ec_82d6_02420a39a7a3row1_col2\" class=\"data row1 col2\" >0.27%</td>\n",
       "            </tr>\n",
       "            <tr>\n",
       "                        <th id=\"T_cd56d646_9586_11ec_82d6_02420a39a7a3level0_row2\" class=\"row_heading level0 row2\" >InvoiceNo</th>\n",
       "                        <td id=\"T_cd56d646_9586_11ec_82d6_02420a39a7a3row2_col0\" class=\"data row2 col0\" >0</td>\n",
       "                        <td id=\"T_cd56d646_9586_11ec_82d6_02420a39a7a3row2_col1\" class=\"data row2 col1\" >541,909</td>\n",
       "                        <td id=\"T_cd56d646_9586_11ec_82d6_02420a39a7a3row2_col2\" class=\"data row2 col2\" >0.00%</td>\n",
       "            </tr>\n",
       "            <tr>\n",
       "                        <th id=\"T_cd56d646_9586_11ec_82d6_02420a39a7a3level0_row3\" class=\"row_heading level0 row3\" >StockCode</th>\n",
       "                        <td id=\"T_cd56d646_9586_11ec_82d6_02420a39a7a3row3_col0\" class=\"data row3 col0\" >0</td>\n",
       "                        <td id=\"T_cd56d646_9586_11ec_82d6_02420a39a7a3row3_col1\" class=\"data row3 col1\" >541,909</td>\n",
       "                        <td id=\"T_cd56d646_9586_11ec_82d6_02420a39a7a3row3_col2\" class=\"data row3 col2\" >0.00%</td>\n",
       "            </tr>\n",
       "            <tr>\n",
       "                        <th id=\"T_cd56d646_9586_11ec_82d6_02420a39a7a3level0_row4\" class=\"row_heading level0 row4\" >Quantity</th>\n",
       "                        <td id=\"T_cd56d646_9586_11ec_82d6_02420a39a7a3row4_col0\" class=\"data row4 col0\" >0</td>\n",
       "                        <td id=\"T_cd56d646_9586_11ec_82d6_02420a39a7a3row4_col1\" class=\"data row4 col1\" >541,909</td>\n",
       "                        <td id=\"T_cd56d646_9586_11ec_82d6_02420a39a7a3row4_col2\" class=\"data row4 col2\" >0.00%</td>\n",
       "            </tr>\n",
       "            <tr>\n",
       "                        <th id=\"T_cd56d646_9586_11ec_82d6_02420a39a7a3level0_row5\" class=\"row_heading level0 row5\" >InvoiceDate</th>\n",
       "                        <td id=\"T_cd56d646_9586_11ec_82d6_02420a39a7a3row5_col0\" class=\"data row5 col0\" >0</td>\n",
       "                        <td id=\"T_cd56d646_9586_11ec_82d6_02420a39a7a3row5_col1\" class=\"data row5 col1\" >541,909</td>\n",
       "                        <td id=\"T_cd56d646_9586_11ec_82d6_02420a39a7a3row5_col2\" class=\"data row5 col2\" >0.00%</td>\n",
       "            </tr>\n",
       "            <tr>\n",
       "                        <th id=\"T_cd56d646_9586_11ec_82d6_02420a39a7a3level0_row6\" class=\"row_heading level0 row6\" >UnitPrice</th>\n",
       "                        <td id=\"T_cd56d646_9586_11ec_82d6_02420a39a7a3row6_col0\" class=\"data row6 col0\" >0</td>\n",
       "                        <td id=\"T_cd56d646_9586_11ec_82d6_02420a39a7a3row6_col1\" class=\"data row6 col1\" >541,909</td>\n",
       "                        <td id=\"T_cd56d646_9586_11ec_82d6_02420a39a7a3row6_col2\" class=\"data row6 col2\" >0.00%</td>\n",
       "            </tr>\n",
       "    </tbody></table>"
      ],
      "text/plain": [
       "<pandas.io.formats.style.Styler at 0x7fef080bd4d0>"
      ]
     },
     "execution_count": 3,
     "metadata": {},
     "output_type": "execute_result"
    }
   ],
   "source": [
    "# checking the percentage of nulls in each column\n",
    "ecommerce.stb.missing(style=True)"
   ]
  },
  {
   "cell_type": "code",
   "execution_count": 4,
   "metadata": {},
   "outputs": [
    {
     "data": {
      "text/html": [
       "<div>\n",
       "<style scoped>\n",
       "    .dataframe tbody tr th:only-of-type {\n",
       "        vertical-align: middle;\n",
       "    }\n",
       "\n",
       "    .dataframe tbody tr th {\n",
       "        vertical-align: top;\n",
       "    }\n",
       "\n",
       "    .dataframe thead th {\n",
       "        text-align: right;\n",
       "    }\n",
       "</style>\n",
       "<table border=\"1\" class=\"dataframe\">\n",
       "  <thead>\n",
       "    <tr style=\"text-align: right;\">\n",
       "      <th></th>\n",
       "      <th>InvoiceNo</th>\n",
       "      <th>StockCode</th>\n",
       "      <th>Description</th>\n",
       "      <th>Quantity</th>\n",
       "      <th>InvoiceDate</th>\n",
       "      <th>UnitPrice</th>\n",
       "      <th>CustomerID</th>\n",
       "    </tr>\n",
       "  </thead>\n",
       "  <tbody>\n",
       "    <tr>\n",
       "      <td>0</td>\n",
       "      <td>536365</td>\n",
       "      <td>85123A</td>\n",
       "      <td>WHITE HANGING HEART T-LIGHT HOLDER</td>\n",
       "      <td>6</td>\n",
       "      <td>2018-11-29 08:26:00</td>\n",
       "      <td>2.55</td>\n",
       "      <td>17850</td>\n",
       "    </tr>\n",
       "    <tr>\n",
       "      <td>1</td>\n",
       "      <td>536365</td>\n",
       "      <td>71053</td>\n",
       "      <td>WHITE METAL LANTERN</td>\n",
       "      <td>6</td>\n",
       "      <td>2018-11-29 08:26:00</td>\n",
       "      <td>3.39</td>\n",
       "      <td>17850</td>\n",
       "    </tr>\n",
       "    <tr>\n",
       "      <td>2</td>\n",
       "      <td>536365</td>\n",
       "      <td>84406B</td>\n",
       "      <td>CREAM CUPID HEARTS COAT HANGER</td>\n",
       "      <td>8</td>\n",
       "      <td>2018-11-29 08:26:00</td>\n",
       "      <td>2.75</td>\n",
       "      <td>17850</td>\n",
       "    </tr>\n",
       "    <tr>\n",
       "      <td>3</td>\n",
       "      <td>536365</td>\n",
       "      <td>84029G</td>\n",
       "      <td>KNITTED UNION FLAG HOT WATER BOTTLE</td>\n",
       "      <td>6</td>\n",
       "      <td>2018-11-29 08:26:00</td>\n",
       "      <td>3.39</td>\n",
       "      <td>17850</td>\n",
       "    </tr>\n",
       "    <tr>\n",
       "      <td>4</td>\n",
       "      <td>536365</td>\n",
       "      <td>84029E</td>\n",
       "      <td>RED WOOLLY HOTTIE WHITE HEART.</td>\n",
       "      <td>6</td>\n",
       "      <td>2018-11-29 08:26:00</td>\n",
       "      <td>3.39</td>\n",
       "      <td>17850</td>\n",
       "    </tr>\n",
       "    <tr>\n",
       "      <td>5</td>\n",
       "      <td>536365</td>\n",
       "      <td>22752</td>\n",
       "      <td>SET 7 BABUSHKA NESTING BOXES</td>\n",
       "      <td>2</td>\n",
       "      <td>2018-11-29 08:26:00</td>\n",
       "      <td>7.65</td>\n",
       "      <td>17850</td>\n",
       "    </tr>\n",
       "    <tr>\n",
       "      <td>6</td>\n",
       "      <td>536365</td>\n",
       "      <td>21730</td>\n",
       "      <td>GLASS STAR FROSTED T-LIGHT HOLDER</td>\n",
       "      <td>6</td>\n",
       "      <td>2018-11-29 08:26:00</td>\n",
       "      <td>4.25</td>\n",
       "      <td>17850</td>\n",
       "    </tr>\n",
       "    <tr>\n",
       "      <td>7</td>\n",
       "      <td>536366</td>\n",
       "      <td>22633</td>\n",
       "      <td>HAND WARMER UNION JACK</td>\n",
       "      <td>6</td>\n",
       "      <td>2018-11-29 08:28:00</td>\n",
       "      <td>1.85</td>\n",
       "      <td>17850</td>\n",
       "    </tr>\n",
       "    <tr>\n",
       "      <td>8</td>\n",
       "      <td>536366</td>\n",
       "      <td>22632</td>\n",
       "      <td>HAND WARMER RED POLKA DOT</td>\n",
       "      <td>6</td>\n",
       "      <td>2018-11-29 08:28:00</td>\n",
       "      <td>1.85</td>\n",
       "      <td>17850</td>\n",
       "    </tr>\n",
       "    <tr>\n",
       "      <td>9</td>\n",
       "      <td>536367</td>\n",
       "      <td>84879</td>\n",
       "      <td>ASSORTED COLOUR BIRD ORNAMENT</td>\n",
       "      <td>32</td>\n",
       "      <td>2018-11-29 08:34:00</td>\n",
       "      <td>1.69</td>\n",
       "      <td>13047</td>\n",
       "    </tr>\n",
       "  </tbody>\n",
       "</table>\n",
       "</div>"
      ],
      "text/plain": [
       "  InvoiceNo StockCode                          Description  Quantity  \\\n",
       "0    536365    85123A   WHITE HANGING HEART T-LIGHT HOLDER         6   \n",
       "1    536365     71053                  WHITE METAL LANTERN         6   \n",
       "2    536365    84406B       CREAM CUPID HEARTS COAT HANGER         8   \n",
       "3    536365    84029G  KNITTED UNION FLAG HOT WATER BOTTLE         6   \n",
       "4    536365    84029E       RED WOOLLY HOTTIE WHITE HEART.         6   \n",
       "5    536365     22752         SET 7 BABUSHKA NESTING BOXES         2   \n",
       "6    536365     21730    GLASS STAR FROSTED T-LIGHT HOLDER         6   \n",
       "7    536366     22633               HAND WARMER UNION JACK         6   \n",
       "8    536366     22632            HAND WARMER RED POLKA DOT         6   \n",
       "9    536367     84879        ASSORTED COLOUR BIRD ORNAMENT        32   \n",
       "\n",
       "          InvoiceDate  UnitPrice CustomerID  \n",
       "0 2018-11-29 08:26:00       2.55      17850  \n",
       "1 2018-11-29 08:26:00       3.39      17850  \n",
       "2 2018-11-29 08:26:00       2.75      17850  \n",
       "3 2018-11-29 08:26:00       3.39      17850  \n",
       "4 2018-11-29 08:26:00       3.39      17850  \n",
       "5 2018-11-29 08:26:00       7.65      17850  \n",
       "6 2018-11-29 08:26:00       4.25      17850  \n",
       "7 2018-11-29 08:28:00       1.85      17850  \n",
       "8 2018-11-29 08:28:00       1.85      17850  \n",
       "9 2018-11-29 08:34:00       1.69      13047  "
      ]
     },
     "execution_count": 4,
     "metadata": {},
     "output_type": "execute_result"
    }
   ],
   "source": [
    "# checking the first 10 rows of the data to see the values\n",
    "ecommerce.head(10)"
   ]
  },
  {
   "cell_type": "markdown",
   "metadata": {},
   "source": [
    "ill lowercase the column names and rename them and lowercase the description"
   ]
  },
  {
   "cell_type": "code",
   "execution_count": 5,
   "metadata": {
    "scrolled": true
   },
   "outputs": [
    {
     "data": {
      "text/html": [
       "<div>\n",
       "<style scoped>\n",
       "    .dataframe tbody tr th:only-of-type {\n",
       "        vertical-align: middle;\n",
       "    }\n",
       "\n",
       "    .dataframe tbody tr th {\n",
       "        vertical-align: top;\n",
       "    }\n",
       "\n",
       "    .dataframe thead th {\n",
       "        text-align: right;\n",
       "    }\n",
       "</style>\n",
       "<table border=\"1\" class=\"dataframe\">\n",
       "  <thead>\n",
       "    <tr style=\"text-align: right;\">\n",
       "      <th></th>\n",
       "      <th>InvoiceNo</th>\n",
       "      <th>StockCode</th>\n",
       "      <th>Description</th>\n",
       "      <th>Quantity</th>\n",
       "      <th>InvoiceDate</th>\n",
       "      <th>UnitPrice</th>\n",
       "      <th>CustomerID</th>\n",
       "    </tr>\n",
       "  </thead>\n",
       "  <tbody>\n",
       "    <tr>\n",
       "      <td>count</td>\n",
       "      <td>541909</td>\n",
       "      <td>541909</td>\n",
       "      <td>540455</td>\n",
       "      <td>541909.000000</td>\n",
       "      <td>541909</td>\n",
       "      <td>541909.000000</td>\n",
       "      <td>406829</td>\n",
       "    </tr>\n",
       "    <tr>\n",
       "      <td>unique</td>\n",
       "      <td>25900</td>\n",
       "      <td>4070</td>\n",
       "      <td>4223</td>\n",
       "      <td>NaN</td>\n",
       "      <td>23260</td>\n",
       "      <td>NaN</td>\n",
       "      <td>4372</td>\n",
       "    </tr>\n",
       "    <tr>\n",
       "      <td>top</td>\n",
       "      <td>573585</td>\n",
       "      <td>85123A</td>\n",
       "      <td>WHITE HANGING HEART T-LIGHT HOLDER</td>\n",
       "      <td>NaN</td>\n",
       "      <td>2019-10-29 14:41:00</td>\n",
       "      <td>NaN</td>\n",
       "      <td>17841</td>\n",
       "    </tr>\n",
       "    <tr>\n",
       "      <td>freq</td>\n",
       "      <td>1114</td>\n",
       "      <td>2313</td>\n",
       "      <td>2369</td>\n",
       "      <td>NaN</td>\n",
       "      <td>1114</td>\n",
       "      <td>NaN</td>\n",
       "      <td>7983</td>\n",
       "    </tr>\n",
       "    <tr>\n",
       "      <td>first</td>\n",
       "      <td>NaN</td>\n",
       "      <td>NaN</td>\n",
       "      <td>NaN</td>\n",
       "      <td>NaN</td>\n",
       "      <td>2018-11-29 08:26:00</td>\n",
       "      <td>NaN</td>\n",
       "      <td>NaN</td>\n",
       "    </tr>\n",
       "    <tr>\n",
       "      <td>last</td>\n",
       "      <td>NaN</td>\n",
       "      <td>NaN</td>\n",
       "      <td>NaN</td>\n",
       "      <td>NaN</td>\n",
       "      <td>2019-12-07 12:50:00</td>\n",
       "      <td>NaN</td>\n",
       "      <td>NaN</td>\n",
       "    </tr>\n",
       "    <tr>\n",
       "      <td>mean</td>\n",
       "      <td>NaN</td>\n",
       "      <td>NaN</td>\n",
       "      <td>NaN</td>\n",
       "      <td>9.552250</td>\n",
       "      <td>NaN</td>\n",
       "      <td>4.611114</td>\n",
       "      <td>NaN</td>\n",
       "    </tr>\n",
       "    <tr>\n",
       "      <td>std</td>\n",
       "      <td>NaN</td>\n",
       "      <td>NaN</td>\n",
       "      <td>NaN</td>\n",
       "      <td>218.081158</td>\n",
       "      <td>NaN</td>\n",
       "      <td>96.759853</td>\n",
       "      <td>NaN</td>\n",
       "    </tr>\n",
       "    <tr>\n",
       "      <td>min</td>\n",
       "      <td>NaN</td>\n",
       "      <td>NaN</td>\n",
       "      <td>NaN</td>\n",
       "      <td>-80995.000000</td>\n",
       "      <td>NaN</td>\n",
       "      <td>-11062.060000</td>\n",
       "      <td>NaN</td>\n",
       "    </tr>\n",
       "    <tr>\n",
       "      <td>25%</td>\n",
       "      <td>NaN</td>\n",
       "      <td>NaN</td>\n",
       "      <td>NaN</td>\n",
       "      <td>1.000000</td>\n",
       "      <td>NaN</td>\n",
       "      <td>1.250000</td>\n",
       "      <td>NaN</td>\n",
       "    </tr>\n",
       "    <tr>\n",
       "      <td>50%</td>\n",
       "      <td>NaN</td>\n",
       "      <td>NaN</td>\n",
       "      <td>NaN</td>\n",
       "      <td>3.000000</td>\n",
       "      <td>NaN</td>\n",
       "      <td>2.080000</td>\n",
       "      <td>NaN</td>\n",
       "    </tr>\n",
       "    <tr>\n",
       "      <td>75%</td>\n",
       "      <td>NaN</td>\n",
       "      <td>NaN</td>\n",
       "      <td>NaN</td>\n",
       "      <td>10.000000</td>\n",
       "      <td>NaN</td>\n",
       "      <td>4.130000</td>\n",
       "      <td>NaN</td>\n",
       "    </tr>\n",
       "    <tr>\n",
       "      <td>max</td>\n",
       "      <td>NaN</td>\n",
       "      <td>NaN</td>\n",
       "      <td>NaN</td>\n",
       "      <td>80995.000000</td>\n",
       "      <td>NaN</td>\n",
       "      <td>38970.000000</td>\n",
       "      <td>NaN</td>\n",
       "    </tr>\n",
       "  </tbody>\n",
       "</table>\n",
       "</div>"
      ],
      "text/plain": [
       "       InvoiceNo StockCode                         Description       Quantity  \\\n",
       "count     541909    541909                              540455  541909.000000   \n",
       "unique     25900      4070                                4223            NaN   \n",
       "top       573585    85123A  WHITE HANGING HEART T-LIGHT HOLDER            NaN   \n",
       "freq        1114      2313                                2369            NaN   \n",
       "first        NaN       NaN                                 NaN            NaN   \n",
       "last         NaN       NaN                                 NaN            NaN   \n",
       "mean         NaN       NaN                                 NaN       9.552250   \n",
       "std          NaN       NaN                                 NaN     218.081158   \n",
       "min          NaN       NaN                                 NaN  -80995.000000   \n",
       "25%          NaN       NaN                                 NaN       1.000000   \n",
       "50%          NaN       NaN                                 NaN       3.000000   \n",
       "75%          NaN       NaN                                 NaN      10.000000   \n",
       "max          NaN       NaN                                 NaN   80995.000000   \n",
       "\n",
       "                InvoiceDate      UnitPrice CustomerID  \n",
       "count                541909  541909.000000     406829  \n",
       "unique                23260            NaN       4372  \n",
       "top     2019-10-29 14:41:00            NaN      17841  \n",
       "freq                   1114            NaN       7983  \n",
       "first   2018-11-29 08:26:00            NaN        NaN  \n",
       "last    2019-12-07 12:50:00            NaN        NaN  \n",
       "mean                    NaN       4.611114        NaN  \n",
       "std                     NaN      96.759853        NaN  \n",
       "min                     NaN  -11062.060000        NaN  \n",
       "25%                     NaN       1.250000        NaN  \n",
       "50%                     NaN       2.080000        NaN  \n",
       "75%                     NaN       4.130000        NaN  \n",
       "max                     NaN   38970.000000        NaN  "
      ]
     },
     "execution_count": 5,
     "metadata": {},
     "output_type": "execute_result"
    },
    {
     "data": {
      "text/plain": [
       "count                  541909\n",
       "unique                  23260\n",
       "top       2019-10-29 14:41:00\n",
       "freq                     1114\n",
       "first     2018-11-29 08:26:00\n",
       "last      2019-12-07 12:50:00\n",
       "Name: InvoiceDate, dtype: object"
      ]
     },
     "execution_count": 5,
     "metadata": {},
     "output_type": "execute_result"
    }
   ],
   "source": [
    "# using describe to see more info\n",
    "ecommerce.describe(include = 'all')\n",
    "ecommerce['InvoiceDate'].describe()"
   ]
  },
  {
   "cell_type": "markdown",
   "metadata": {},
   "source": [
    "there is a negative quantity and in addition its the same amount as the maximum quantity. <br>\n",
    "also the max quantity is probably some chain or bussiness rather than an individual <br>\n",
    "same with negative price\n",
    "\n",
    "also the unique amount of InvoiceNo is bigger than the unique amount of InvoiceDate (while both have no nulls) which means some orders were made in the same minute.\n",
    "and there are more unique descriptions than unique items - which means that there are items with several different descriptions"
   ]
  },
  {
   "cell_type": "markdown",
   "metadata": {},
   "source": [
    "# Step 2. Prepare the data"
   ]
  },
  {
   "cell_type": "markdown",
   "metadata": {},
   "source": [
    "First ill organize the table a bit:"
   ]
  },
  {
   "cell_type": "code",
   "execution_count": 6,
   "metadata": {},
   "outputs": [
    {
     "data": {
      "text/html": [
       "<div>\n",
       "<style scoped>\n",
       "    .dataframe tbody tr th:only-of-type {\n",
       "        vertical-align: middle;\n",
       "    }\n",
       "\n",
       "    .dataframe tbody tr th {\n",
       "        vertical-align: top;\n",
       "    }\n",
       "\n",
       "    .dataframe thead th {\n",
       "        text-align: right;\n",
       "    }\n",
       "</style>\n",
       "<table border=\"1\" class=\"dataframe\">\n",
       "  <thead>\n",
       "    <tr style=\"text-align: right;\">\n",
       "      <th></th>\n",
       "      <th>InvoiceNo</th>\n",
       "      <th>StockCode</th>\n",
       "      <th>Description</th>\n",
       "      <th>Quantity</th>\n",
       "      <th>InvoiceDate</th>\n",
       "      <th>UnitPrice</th>\n",
       "      <th>CustomerID</th>\n",
       "    </tr>\n",
       "  </thead>\n",
       "  <tbody>\n",
       "    <tr>\n",
       "      <td>0</td>\n",
       "      <td>536365</td>\n",
       "      <td>85123A</td>\n",
       "      <td>WHITE HANGING HEART T-LIGHT HOLDER</td>\n",
       "      <td>6</td>\n",
       "      <td>2018-11-29 08:26:00</td>\n",
       "      <td>2.55</td>\n",
       "      <td>17850</td>\n",
       "    </tr>\n",
       "    <tr>\n",
       "      <td>1</td>\n",
       "      <td>536365</td>\n",
       "      <td>71053</td>\n",
       "      <td>WHITE METAL LANTERN</td>\n",
       "      <td>6</td>\n",
       "      <td>2018-11-29 08:26:00</td>\n",
       "      <td>3.39</td>\n",
       "      <td>17850</td>\n",
       "    </tr>\n",
       "    <tr>\n",
       "      <td>2</td>\n",
       "      <td>536365</td>\n",
       "      <td>84406B</td>\n",
       "      <td>CREAM CUPID HEARTS COAT HANGER</td>\n",
       "      <td>8</td>\n",
       "      <td>2018-11-29 08:26:00</td>\n",
       "      <td>2.75</td>\n",
       "      <td>17850</td>\n",
       "    </tr>\n",
       "  </tbody>\n",
       "</table>\n",
       "</div>"
      ],
      "text/plain": [
       "  InvoiceNo StockCode                         Description  Quantity  \\\n",
       "0    536365    85123A  WHITE HANGING HEART T-LIGHT HOLDER         6   \n",
       "1    536365     71053                 WHITE METAL LANTERN         6   \n",
       "2    536365    84406B      CREAM CUPID HEARTS COAT HANGER         8   \n",
       "\n",
       "          InvoiceDate  UnitPrice CustomerID  \n",
       "0 2018-11-29 08:26:00       2.55      17850  \n",
       "1 2018-11-29 08:26:00       3.39      17850  \n",
       "2 2018-11-29 08:26:00       2.75      17850  "
      ]
     },
     "execution_count": 6,
     "metadata": {},
     "output_type": "execute_result"
    }
   ],
   "source": [
    "# saving to organized tables\n",
    "orgnzd_ecommerce = ecommerce.copy()\n",
    "orgnzd_ecommerce.head(3)"
   ]
  },
  {
   "cell_type": "code",
   "execution_count": 7,
   "metadata": {},
   "outputs": [
    {
     "data": {
      "text/html": [
       "<div>\n",
       "<style scoped>\n",
       "    .dataframe tbody tr th:only-of-type {\n",
       "        vertical-align: middle;\n",
       "    }\n",
       "\n",
       "    .dataframe tbody tr th {\n",
       "        vertical-align: top;\n",
       "    }\n",
       "\n",
       "    .dataframe thead th {\n",
       "        text-align: right;\n",
       "    }\n",
       "</style>\n",
       "<table border=\"1\" class=\"dataframe\">\n",
       "  <thead>\n",
       "    <tr style=\"text-align: right;\">\n",
       "      <th></th>\n",
       "      <th>invoiceno</th>\n",
       "      <th>stockcode</th>\n",
       "      <th>description</th>\n",
       "      <th>quantity</th>\n",
       "      <th>invoicedate</th>\n",
       "      <th>unitprice</th>\n",
       "      <th>customerid</th>\n",
       "    </tr>\n",
       "  </thead>\n",
       "  <tbody>\n",
       "    <tr>\n",
       "      <td>0</td>\n",
       "      <td>536365</td>\n",
       "      <td>85123A</td>\n",
       "      <td>white hanging heart t-light holder</td>\n",
       "      <td>6</td>\n",
       "      <td>2018-11-29 08:26:00</td>\n",
       "      <td>2.55</td>\n",
       "      <td>17850</td>\n",
       "    </tr>\n",
       "    <tr>\n",
       "      <td>1</td>\n",
       "      <td>536365</td>\n",
       "      <td>71053</td>\n",
       "      <td>white metal lantern</td>\n",
       "      <td>6</td>\n",
       "      <td>2018-11-29 08:26:00</td>\n",
       "      <td>3.39</td>\n",
       "      <td>17850</td>\n",
       "    </tr>\n",
       "    <tr>\n",
       "      <td>2</td>\n",
       "      <td>536365</td>\n",
       "      <td>84406B</td>\n",
       "      <td>cream cupid hearts coat hanger</td>\n",
       "      <td>8</td>\n",
       "      <td>2018-11-29 08:26:00</td>\n",
       "      <td>2.75</td>\n",
       "      <td>17850</td>\n",
       "    </tr>\n",
       "  </tbody>\n",
       "</table>\n",
       "</div>"
      ],
      "text/plain": [
       "  invoiceno stockcode                         description  quantity  \\\n",
       "0    536365    85123A  white hanging heart t-light holder         6   \n",
       "1    536365     71053                 white metal lantern         6   \n",
       "2    536365    84406B      cream cupid hearts coat hanger         8   \n",
       "\n",
       "          invoicedate  unitprice customerid  \n",
       "0 2018-11-29 08:26:00       2.55      17850  \n",
       "1 2018-11-29 08:26:00       3.39      17850  \n",
       "2 2018-11-29 08:26:00       2.75      17850  "
      ]
     },
     "execution_count": 7,
     "metadata": {},
     "output_type": "execute_result"
    }
   ],
   "source": [
    "# lower casing relevant object columns\n",
    "orgnzd_ecommerce['Description'] = orgnzd_ecommerce['Description'].str.lower()\n",
    "# Stripping extra spaces in the description\n",
    "orgnzd_ecommerce['Description'] = orgnzd_ecommerce['Description'].str.strip()\n",
    "# lower casing column names\n",
    "orgnzd_ecommerce.columns = orgnzd_ecommerce.columns.str.lower()\n",
    "#orgnzd_ecommerce = orgnzd_ecommerce.rename(columns = str.lower)\n",
    "orgnzd_ecommerce.head(3)"
   ]
  },
  {
   "cell_type": "code",
   "execution_count": 8,
   "metadata": {
    "scrolled": true
   },
   "outputs": [
    {
     "data": {
      "text/html": [
       "<div>\n",
       "<style scoped>\n",
       "    .dataframe tbody tr th:only-of-type {\n",
       "        vertical-align: middle;\n",
       "    }\n",
       "\n",
       "    .dataframe tbody tr th {\n",
       "        vertical-align: top;\n",
       "    }\n",
       "\n",
       "    .dataframe thead th {\n",
       "        text-align: right;\n",
       "    }\n",
       "</style>\n",
       "<table border=\"1\" class=\"dataframe\">\n",
       "  <thead>\n",
       "    <tr style=\"text-align: right;\">\n",
       "      <th></th>\n",
       "      <th>invoiceno</th>\n",
       "      <th>stockcode</th>\n",
       "      <th>description</th>\n",
       "      <th>quantity</th>\n",
       "      <th>invoicedate</th>\n",
       "      <th>unitprice</th>\n",
       "      <th>customerid</th>\n",
       "    </tr>\n",
       "  </thead>\n",
       "  <tbody>\n",
       "    <tr>\n",
       "      <td>0</td>\n",
       "      <td>536365</td>\n",
       "      <td>85123a</td>\n",
       "      <td>white hanging heart t-light holder</td>\n",
       "      <td>6</td>\n",
       "      <td>2018-11-29 08:26:00</td>\n",
       "      <td>2.55</td>\n",
       "      <td>17850</td>\n",
       "    </tr>\n",
       "    <tr>\n",
       "      <td>1</td>\n",
       "      <td>536365</td>\n",
       "      <td>71053</td>\n",
       "      <td>white metal lantern</td>\n",
       "      <td>6</td>\n",
       "      <td>2018-11-29 08:26:00</td>\n",
       "      <td>3.39</td>\n",
       "      <td>17850</td>\n",
       "    </tr>\n",
       "    <tr>\n",
       "      <td>2</td>\n",
       "      <td>536365</td>\n",
       "      <td>84406b</td>\n",
       "      <td>cream cupid hearts coat hanger</td>\n",
       "      <td>8</td>\n",
       "      <td>2018-11-29 08:26:00</td>\n",
       "      <td>2.75</td>\n",
       "      <td>17850</td>\n",
       "    </tr>\n",
       "  </tbody>\n",
       "</table>\n",
       "</div>"
      ],
      "text/plain": [
       "  invoiceno stockcode                         description  quantity  \\\n",
       "0    536365    85123a  white hanging heart t-light holder         6   \n",
       "1    536365     71053                 white metal lantern         6   \n",
       "2    536365    84406b      cream cupid hearts coat hanger         8   \n",
       "\n",
       "          invoicedate  unitprice customerid  \n",
       "0 2018-11-29 08:26:00       2.55      17850  \n",
       "1 2018-11-29 08:26:00       3.39      17850  \n",
       "2 2018-11-29 08:26:00       2.75      17850  "
      ]
     },
     "execution_count": 8,
     "metadata": {},
     "output_type": "execute_result"
    }
   ],
   "source": [
    "# lower casing object columns\n",
    "orgnzd_ecommerce['invoiceno'] = orgnzd_ecommerce['invoiceno'].str.lower()\n",
    "orgnzd_ecommerce['stockcode'] = orgnzd_ecommerce['stockcode'].str.lower()\n",
    "orgnzd_ecommerce['description'] = orgnzd_ecommerce['description'].str.lower()\n",
    "orgnzd_ecommerce.head(3)"
   ]
  },
  {
   "cell_type": "code",
   "execution_count": 9,
   "metadata": {},
   "outputs": [
    {
     "data": {
      "text/html": [
       "<div>\n",
       "<style scoped>\n",
       "    .dataframe tbody tr th:only-of-type {\n",
       "        vertical-align: middle;\n",
       "    }\n",
       "\n",
       "    .dataframe tbody tr th {\n",
       "        vertical-align: top;\n",
       "    }\n",
       "\n",
       "    .dataframe thead th {\n",
       "        text-align: right;\n",
       "    }\n",
       "</style>\n",
       "<table border=\"1\" class=\"dataframe\">\n",
       "  <thead>\n",
       "    <tr style=\"text-align: right;\">\n",
       "      <th></th>\n",
       "      <th>invoiceno</th>\n",
       "      <th>stockcode</th>\n",
       "      <th>description</th>\n",
       "      <th>quantity</th>\n",
       "      <th>invoice_dt</th>\n",
       "      <th>unitprice</th>\n",
       "      <th>customerid</th>\n",
       "    </tr>\n",
       "  </thead>\n",
       "  <tbody>\n",
       "    <tr>\n",
       "      <td>0</td>\n",
       "      <td>536365</td>\n",
       "      <td>85123a</td>\n",
       "      <td>white hanging heart t-light holder</td>\n",
       "      <td>6</td>\n",
       "      <td>2018-11-29 08:26:00</td>\n",
       "      <td>2.55</td>\n",
       "      <td>17850</td>\n",
       "    </tr>\n",
       "    <tr>\n",
       "      <td>1</td>\n",
       "      <td>536365</td>\n",
       "      <td>71053</td>\n",
       "      <td>white metal lantern</td>\n",
       "      <td>6</td>\n",
       "      <td>2018-11-29 08:26:00</td>\n",
       "      <td>3.39</td>\n",
       "      <td>17850</td>\n",
       "    </tr>\n",
       "    <tr>\n",
       "      <td>2</td>\n",
       "      <td>536365</td>\n",
       "      <td>84406b</td>\n",
       "      <td>cream cupid hearts coat hanger</td>\n",
       "      <td>8</td>\n",
       "      <td>2018-11-29 08:26:00</td>\n",
       "      <td>2.75</td>\n",
       "      <td>17850</td>\n",
       "    </tr>\n",
       "  </tbody>\n",
       "</table>\n",
       "</div>"
      ],
      "text/plain": [
       "  invoiceno stockcode                         description  quantity  \\\n",
       "0    536365    85123a  white hanging heart t-light holder         6   \n",
       "1    536365     71053                 white metal lantern         6   \n",
       "2    536365    84406b      cream cupid hearts coat hanger         8   \n",
       "\n",
       "           invoice_dt  unitprice customerid  \n",
       "0 2018-11-29 08:26:00       2.55      17850  \n",
       "1 2018-11-29 08:26:00       3.39      17850  \n",
       "2 2018-11-29 08:26:00       2.75      17850  "
      ]
     },
     "execution_count": 9,
     "metadata": {},
     "output_type": "execute_result"
    }
   ],
   "source": [
    "# renaming date column\n",
    "orgnzd_ecommerce.rename(columns = {'invoicedate': 'invoice_dt'}, inplace = True)\n",
    "orgnzd_ecommerce.head(3)"
   ]
  },
  {
   "cell_type": "code",
   "execution_count": 10,
   "metadata": {},
   "outputs": [
    {
     "data": {
      "text/html": [
       "<div>\n",
       "<style scoped>\n",
       "    .dataframe tbody tr th:only-of-type {\n",
       "        vertical-align: middle;\n",
       "    }\n",
       "\n",
       "    .dataframe tbody tr th {\n",
       "        vertical-align: top;\n",
       "    }\n",
       "\n",
       "    .dataframe thead th {\n",
       "        text-align: right;\n",
       "    }\n",
       "</style>\n",
       "<table border=\"1\" class=\"dataframe\">\n",
       "  <thead>\n",
       "    <tr style=\"text-align: right;\">\n",
       "      <th></th>\n",
       "      <th>invoiceno</th>\n",
       "      <th>stockcode</th>\n",
       "      <th>description</th>\n",
       "      <th>quantity</th>\n",
       "      <th>invoice_dt</th>\n",
       "      <th>unitprice</th>\n",
       "      <th>customerid</th>\n",
       "      <th>invoicedate</th>\n",
       "    </tr>\n",
       "  </thead>\n",
       "  <tbody>\n",
       "    <tr>\n",
       "      <td>0</td>\n",
       "      <td>536365</td>\n",
       "      <td>85123a</td>\n",
       "      <td>white hanging heart t-light holder</td>\n",
       "      <td>6</td>\n",
       "      <td>2018-11-29 08:26:00</td>\n",
       "      <td>2.55</td>\n",
       "      <td>17850</td>\n",
       "      <td>2018-11-29</td>\n",
       "    </tr>\n",
       "    <tr>\n",
       "      <td>1</td>\n",
       "      <td>536365</td>\n",
       "      <td>71053</td>\n",
       "      <td>white metal lantern</td>\n",
       "      <td>6</td>\n",
       "      <td>2018-11-29 08:26:00</td>\n",
       "      <td>3.39</td>\n",
       "      <td>17850</td>\n",
       "      <td>2018-11-29</td>\n",
       "    </tr>\n",
       "    <tr>\n",
       "      <td>2</td>\n",
       "      <td>536365</td>\n",
       "      <td>84406b</td>\n",
       "      <td>cream cupid hearts coat hanger</td>\n",
       "      <td>8</td>\n",
       "      <td>2018-11-29 08:26:00</td>\n",
       "      <td>2.75</td>\n",
       "      <td>17850</td>\n",
       "      <td>2018-11-29</td>\n",
       "    </tr>\n",
       "  </tbody>\n",
       "</table>\n",
       "</div>"
      ],
      "text/plain": [
       "  invoiceno stockcode                         description  quantity  \\\n",
       "0    536365    85123a  white hanging heart t-light holder         6   \n",
       "1    536365     71053                 white metal lantern         6   \n",
       "2    536365    84406b      cream cupid hearts coat hanger         8   \n",
       "\n",
       "           invoice_dt  unitprice customerid invoicedate  \n",
       "0 2018-11-29 08:26:00       2.55      17850  2018-11-29  \n",
       "1 2018-11-29 08:26:00       3.39      17850  2018-11-29  \n",
       "2 2018-11-29 08:26:00       2.75      17850  2018-11-29  "
      ]
     },
     "execution_count": 10,
     "metadata": {},
     "output_type": "execute_result"
    }
   ],
   "source": [
    "# adding date column\n",
    "orgnzd_ecommerce['invoicedate'] = orgnzd_ecommerce['invoice_dt'].astype('datetime64[D]')\n",
    "orgnzd_ecommerce.head(3)"
   ]
  },
  {
   "cell_type": "markdown",
   "metadata": {},
   "source": [
    "i can see the long customerid might be a nuisance if ill add columns - so ill replace it with a shorter one, and of course the correspondng id is saved in the suid table."
   ]
  },
  {
   "cell_type": "code",
   "execution_count": 11,
   "metadata": {},
   "outputs": [
    {
     "data": {
      "text/html": [
       "<div>\n",
       "<style scoped>\n",
       "    .dataframe tbody tr th:only-of-type {\n",
       "        vertical-align: middle;\n",
       "    }\n",
       "\n",
       "    .dataframe tbody tr th {\n",
       "        vertical-align: top;\n",
       "    }\n",
       "\n",
       "    .dataframe thead th {\n",
       "        text-align: right;\n",
       "    }\n",
       "</style>\n",
       "<table border=\"1\" class=\"dataframe\">\n",
       "  <thead>\n",
       "    <tr style=\"text-align: right;\">\n",
       "      <th></th>\n",
       "      <th>customerid</th>\n",
       "      <th>suid</th>\n",
       "    </tr>\n",
       "  </thead>\n",
       "  <tbody>\n",
       "    <tr>\n",
       "      <td>0</td>\n",
       "      <td>12346</td>\n",
       "      <td>100</td>\n",
       "    </tr>\n",
       "    <tr>\n",
       "      <td>1</td>\n",
       "      <td>12347</td>\n",
       "      <td>101</td>\n",
       "    </tr>\n",
       "    <tr>\n",
       "      <td>2</td>\n",
       "      <td>12348</td>\n",
       "      <td>102</td>\n",
       "    </tr>\n",
       "  </tbody>\n",
       "</table>\n",
       "</div>"
      ],
      "text/plain": [
       "  customerid suid\n",
       "0      12346  100\n",
       "1      12347  101\n",
       "2      12348  102"
      ]
     },
     "execution_count": 11,
     "metadata": {},
     "output_type": "execute_result"
    }
   ],
   "source": [
    "# making a table for shorted uid's\n",
    "suid = orgnzd_ecommerce.drop_duplicates('customerid')\n",
    "suid = suid.sort_values('customerid').reset_index(drop = True)\n",
    "suid['suid'] = suid.index + 100\n",
    "suid = suid[['customerid', 'suid']]\n",
    "suid['suid'] = suid['suid'].astype('object')\n",
    "suid.head(3)"
   ]
  },
  {
   "cell_type": "code",
   "execution_count": 12,
   "metadata": {},
   "outputs": [
    {
     "data": {
      "text/html": [
       "<div>\n",
       "<style scoped>\n",
       "    .dataframe tbody tr th:only-of-type {\n",
       "        vertical-align: middle;\n",
       "    }\n",
       "\n",
       "    .dataframe tbody tr th {\n",
       "        vertical-align: top;\n",
       "    }\n",
       "\n",
       "    .dataframe thead th {\n",
       "        text-align: right;\n",
       "    }\n",
       "</style>\n",
       "<table border=\"1\" class=\"dataframe\">\n",
       "  <thead>\n",
       "    <tr style=\"text-align: right;\">\n",
       "      <th></th>\n",
       "      <th>invoiceno</th>\n",
       "      <th>stockcode</th>\n",
       "      <th>description</th>\n",
       "      <th>quantity</th>\n",
       "      <th>invoice_dt</th>\n",
       "      <th>unitprice</th>\n",
       "      <th>invoicedate</th>\n",
       "      <th>suid</th>\n",
       "    </tr>\n",
       "  </thead>\n",
       "  <tbody>\n",
       "    <tr>\n",
       "      <td>0</td>\n",
       "      <td>536365</td>\n",
       "      <td>85123a</td>\n",
       "      <td>white hanging heart t-light holder</td>\n",
       "      <td>6</td>\n",
       "      <td>2018-11-29 08:26:00</td>\n",
       "      <td>2.55</td>\n",
       "      <td>2018-11-29</td>\n",
       "      <td>4148</td>\n",
       "    </tr>\n",
       "    <tr>\n",
       "      <td>1</td>\n",
       "      <td>536365</td>\n",
       "      <td>71053</td>\n",
       "      <td>white metal lantern</td>\n",
       "      <td>6</td>\n",
       "      <td>2018-11-29 08:26:00</td>\n",
       "      <td>3.39</td>\n",
       "      <td>2018-11-29</td>\n",
       "      <td>4148</td>\n",
       "    </tr>\n",
       "    <tr>\n",
       "      <td>2</td>\n",
       "      <td>536365</td>\n",
       "      <td>84406b</td>\n",
       "      <td>cream cupid hearts coat hanger</td>\n",
       "      <td>8</td>\n",
       "      <td>2018-11-29 08:26:00</td>\n",
       "      <td>2.75</td>\n",
       "      <td>2018-11-29</td>\n",
       "      <td>4148</td>\n",
       "    </tr>\n",
       "  </tbody>\n",
       "</table>\n",
       "</div>"
      ],
      "text/plain": [
       "  invoiceno stockcode                         description  quantity  \\\n",
       "0    536365    85123a  white hanging heart t-light holder         6   \n",
       "1    536365     71053                 white metal lantern         6   \n",
       "2    536365    84406b      cream cupid hearts coat hanger         8   \n",
       "\n",
       "           invoice_dt  unitprice invoicedate  suid  \n",
       "0 2018-11-29 08:26:00       2.55  2018-11-29  4148  \n",
       "1 2018-11-29 08:26:00       3.39  2018-11-29  4148  \n",
       "2 2018-11-29 08:26:00       2.75  2018-11-29  4148  "
      ]
     },
     "execution_count": 12,
     "metadata": {},
     "output_type": "execute_result"
    }
   ],
   "source": [
    "# adding suid column to the table\n",
    "orgnzd_ecommerce = orgnzd_ecommerce.merge(suid, how = 'left', on = 'customerid')\n",
    "# droping the long customerid column\n",
    "orgnzd_ecommerce = orgnzd_ecommerce.drop('customerid', axis = 1)\n",
    "orgnzd_ecommerce.head(3)"
   ]
  },
  {
   "cell_type": "code",
   "execution_count": 13,
   "metadata": {},
   "outputs": [
    {
     "data": {
      "text/plain": [
       "5268"
      ]
     },
     "execution_count": 13,
     "metadata": {},
     "output_type": "execute_result"
    }
   ],
   "source": [
    "# checking for duplicates\n",
    "orgnzd_ecommerce.duplicated().sum()"
   ]
  },
  {
   "cell_type": "code",
   "execution_count": 14,
   "metadata": {
    "scrolled": true
   },
   "outputs": [
    {
     "data": {
      "text/html": [
       "<div>\n",
       "<style scoped>\n",
       "    .dataframe tbody tr th:only-of-type {\n",
       "        vertical-align: middle;\n",
       "    }\n",
       "\n",
       "    .dataframe tbody tr th {\n",
       "        vertical-align: top;\n",
       "    }\n",
       "\n",
       "    .dataframe thead th {\n",
       "        text-align: right;\n",
       "    }\n",
       "</style>\n",
       "<table border=\"1\" class=\"dataframe\">\n",
       "  <thead>\n",
       "    <tr style=\"text-align: right;\">\n",
       "      <th></th>\n",
       "      <th>invoiceno</th>\n",
       "      <th>stockcode</th>\n",
       "      <th>description</th>\n",
       "      <th>quantity</th>\n",
       "      <th>invoice_dt</th>\n",
       "      <th>unitprice</th>\n",
       "      <th>invoicedate</th>\n",
       "      <th>suid</th>\n",
       "    </tr>\n",
       "  </thead>\n",
       "  <tbody>\n",
       "    <tr>\n",
       "      <td>485</td>\n",
       "      <td>536409</td>\n",
       "      <td>22111</td>\n",
       "      <td>scottie dog hot water bottle</td>\n",
       "      <td>1</td>\n",
       "      <td>2018-11-29 11:45:00</td>\n",
       "      <td>4.95</td>\n",
       "      <td>2018-11-29</td>\n",
       "      <td>4196</td>\n",
       "    </tr>\n",
       "    <tr>\n",
       "      <td>489</td>\n",
       "      <td>536409</td>\n",
       "      <td>22866</td>\n",
       "      <td>hand warmer scotty dog design</td>\n",
       "      <td>1</td>\n",
       "      <td>2018-11-29 11:45:00</td>\n",
       "      <td>2.10</td>\n",
       "      <td>2018-11-29</td>\n",
       "      <td>4196</td>\n",
       "    </tr>\n",
       "    <tr>\n",
       "      <td>494</td>\n",
       "      <td>536409</td>\n",
       "      <td>21866</td>\n",
       "      <td>union jack flag luggage tag</td>\n",
       "      <td>1</td>\n",
       "      <td>2018-11-29 11:45:00</td>\n",
       "      <td>1.25</td>\n",
       "      <td>2018-11-29</td>\n",
       "      <td>4196</td>\n",
       "    </tr>\n",
       "    <tr>\n",
       "      <td>517</td>\n",
       "      <td>536409</td>\n",
       "      <td>21866</td>\n",
       "      <td>union jack flag luggage tag</td>\n",
       "      <td>1</td>\n",
       "      <td>2018-11-29 11:45:00</td>\n",
       "      <td>1.25</td>\n",
       "      <td>2018-11-29</td>\n",
       "      <td>4196</td>\n",
       "    </tr>\n",
       "    <tr>\n",
       "      <td>521</td>\n",
       "      <td>536409</td>\n",
       "      <td>22900</td>\n",
       "      <td>set 2 tea towels i love london</td>\n",
       "      <td>1</td>\n",
       "      <td>2018-11-29 11:45:00</td>\n",
       "      <td>2.95</td>\n",
       "      <td>2018-11-29</td>\n",
       "      <td>4196</td>\n",
       "    </tr>\n",
       "    <tr>\n",
       "      <td>...</td>\n",
       "      <td>...</td>\n",
       "      <td>...</td>\n",
       "      <td>...</td>\n",
       "      <td>...</td>\n",
       "      <td>...</td>\n",
       "      <td>...</td>\n",
       "      <td>...</td>\n",
       "      <td>...</td>\n",
       "    </tr>\n",
       "    <tr>\n",
       "      <td>541675</td>\n",
       "      <td>581538</td>\n",
       "      <td>22068</td>\n",
       "      <td>black pirate treasure chest</td>\n",
       "      <td>1</td>\n",
       "      <td>2019-12-07 11:34:00</td>\n",
       "      <td>0.39</td>\n",
       "      <td>2019-12-07</td>\n",
       "      <td>1651</td>\n",
       "    </tr>\n",
       "    <tr>\n",
       "      <td>541689</td>\n",
       "      <td>581538</td>\n",
       "      <td>23318</td>\n",
       "      <td>box of 6 mini vintage crackers</td>\n",
       "      <td>1</td>\n",
       "      <td>2019-12-07 11:34:00</td>\n",
       "      <td>2.49</td>\n",
       "      <td>2019-12-07</td>\n",
       "      <td>1651</td>\n",
       "    </tr>\n",
       "    <tr>\n",
       "      <td>541692</td>\n",
       "      <td>581538</td>\n",
       "      <td>22992</td>\n",
       "      <td>revolver wooden ruler</td>\n",
       "      <td>1</td>\n",
       "      <td>2019-12-07 11:34:00</td>\n",
       "      <td>1.95</td>\n",
       "      <td>2019-12-07</td>\n",
       "      <td>1651</td>\n",
       "    </tr>\n",
       "    <tr>\n",
       "      <td>541699</td>\n",
       "      <td>581538</td>\n",
       "      <td>22694</td>\n",
       "      <td>wicker star</td>\n",
       "      <td>1</td>\n",
       "      <td>2019-12-07 11:34:00</td>\n",
       "      <td>2.10</td>\n",
       "      <td>2019-12-07</td>\n",
       "      <td>1651</td>\n",
       "    </tr>\n",
       "    <tr>\n",
       "      <td>541701</td>\n",
       "      <td>581538</td>\n",
       "      <td>23343</td>\n",
       "      <td>jumbo bag vintage christmas</td>\n",
       "      <td>1</td>\n",
       "      <td>2019-12-07 11:34:00</td>\n",
       "      <td>2.08</td>\n",
       "      <td>2019-12-07</td>\n",
       "      <td>1651</td>\n",
       "    </tr>\n",
       "  </tbody>\n",
       "</table>\n",
       "<p>10147 rows × 8 columns</p>\n",
       "</div>"
      ],
      "text/plain": [
       "       invoiceno stockcode                     description  quantity  \\\n",
       "485       536409     22111    scottie dog hot water bottle         1   \n",
       "489       536409     22866   hand warmer scotty dog design         1   \n",
       "494       536409     21866     union jack flag luggage tag         1   \n",
       "517       536409     21866     union jack flag luggage tag         1   \n",
       "521       536409     22900  set 2 tea towels i love london         1   \n",
       "...          ...       ...                             ...       ...   \n",
       "541675    581538     22068     black pirate treasure chest         1   \n",
       "541689    581538     23318  box of 6 mini vintage crackers         1   \n",
       "541692    581538     22992           revolver wooden ruler         1   \n",
       "541699    581538     22694                     wicker star         1   \n",
       "541701    581538     23343     jumbo bag vintage christmas         1   \n",
       "\n",
       "                invoice_dt  unitprice invoicedate  suid  \n",
       "485    2018-11-29 11:45:00       4.95  2018-11-29  4196  \n",
       "489    2018-11-29 11:45:00       2.10  2018-11-29  4196  \n",
       "494    2018-11-29 11:45:00       1.25  2018-11-29  4196  \n",
       "517    2018-11-29 11:45:00       1.25  2018-11-29  4196  \n",
       "521    2018-11-29 11:45:00       2.95  2018-11-29  4196  \n",
       "...                    ...        ...         ...   ...  \n",
       "541675 2019-12-07 11:34:00       0.39  2019-12-07  1651  \n",
       "541689 2019-12-07 11:34:00       2.49  2019-12-07  1651  \n",
       "541692 2019-12-07 11:34:00       1.95  2019-12-07  1651  \n",
       "541699 2019-12-07 11:34:00       2.10  2019-12-07  1651  \n",
       "541701 2019-12-07 11:34:00       2.08  2019-12-07  1651  \n",
       "\n",
       "[10147 rows x 8 columns]"
      ]
     },
     "execution_count": 14,
     "metadata": {},
     "output_type": "execute_result"
    }
   ],
   "source": [
    "# looking at the duplicates\n",
    "orgnzd_ecommerce[orgnzd_ecommerce.duplicated(keep = False)]"
   ]
  },
  {
   "cell_type": "markdown",
   "metadata": {},
   "source": [
    "Team lead said those are not duplicates, its items that got added to the cart separately so we are not to remove them,\n",
    "and also that we can disregard the nulls in cistomerid (they probably because of some error loading data from the database)"
   ]
  },
  {
   "cell_type": "markdown",
   "metadata": {},
   "source": [
    "now lets deal with the description nulls"
   ]
  },
  {
   "cell_type": "code",
   "execution_count": 15,
   "metadata": {},
   "outputs": [
    {
     "data": {
      "text/html": [
       "<div>\n",
       "<style scoped>\n",
       "    .dataframe tbody tr th:only-of-type {\n",
       "        vertical-align: middle;\n",
       "    }\n",
       "\n",
       "    .dataframe tbody tr th {\n",
       "        vertical-align: top;\n",
       "    }\n",
       "\n",
       "    .dataframe thead th {\n",
       "        text-align: right;\n",
       "    }\n",
       "</style>\n",
       "<table border=\"1\" class=\"dataframe\">\n",
       "  <thead>\n",
       "    <tr style=\"text-align: right;\">\n",
       "      <th></th>\n",
       "      <th>invoiceno</th>\n",
       "      <th>stockcode</th>\n",
       "      <th>description</th>\n",
       "      <th>quantity</th>\n",
       "      <th>invoice_dt</th>\n",
       "      <th>unitprice</th>\n",
       "      <th>invoicedate</th>\n",
       "      <th>suid</th>\n",
       "    </tr>\n",
       "  </thead>\n",
       "  <tbody>\n",
       "    <tr>\n",
       "      <td>622</td>\n",
       "      <td>536414</td>\n",
       "      <td>22139</td>\n",
       "      <td>NaN</td>\n",
       "      <td>56</td>\n",
       "      <td>2018-11-29 11:52:00</td>\n",
       "      <td>0.0</td>\n",
       "      <td>2018-11-29</td>\n",
       "      <td>4472</td>\n",
       "    </tr>\n",
       "    <tr>\n",
       "      <td>1970</td>\n",
       "      <td>536545</td>\n",
       "      <td>21134</td>\n",
       "      <td>NaN</td>\n",
       "      <td>1</td>\n",
       "      <td>2018-11-29 14:32:00</td>\n",
       "      <td>0.0</td>\n",
       "      <td>2018-11-29</td>\n",
       "      <td>4472</td>\n",
       "    </tr>\n",
       "    <tr>\n",
       "      <td>1971</td>\n",
       "      <td>536546</td>\n",
       "      <td>22145</td>\n",
       "      <td>NaN</td>\n",
       "      <td>1</td>\n",
       "      <td>2018-11-29 14:33:00</td>\n",
       "      <td>0.0</td>\n",
       "      <td>2018-11-29</td>\n",
       "      <td>4472</td>\n",
       "    </tr>\n",
       "    <tr>\n",
       "      <td>1972</td>\n",
       "      <td>536547</td>\n",
       "      <td>37509</td>\n",
       "      <td>NaN</td>\n",
       "      <td>1</td>\n",
       "      <td>2018-11-29 14:33:00</td>\n",
       "      <td>0.0</td>\n",
       "      <td>2018-11-29</td>\n",
       "      <td>4472</td>\n",
       "    </tr>\n",
       "    <tr>\n",
       "      <td>1987</td>\n",
       "      <td>536549</td>\n",
       "      <td>85226a</td>\n",
       "      <td>NaN</td>\n",
       "      <td>1</td>\n",
       "      <td>2018-11-29 14:34:00</td>\n",
       "      <td>0.0</td>\n",
       "      <td>2018-11-29</td>\n",
       "      <td>4472</td>\n",
       "    </tr>\n",
       "    <tr>\n",
       "      <td>...</td>\n",
       "      <td>...</td>\n",
       "      <td>...</td>\n",
       "      <td>...</td>\n",
       "      <td>...</td>\n",
       "      <td>...</td>\n",
       "      <td>...</td>\n",
       "      <td>...</td>\n",
       "      <td>...</td>\n",
       "    </tr>\n",
       "    <tr>\n",
       "      <td>535322</td>\n",
       "      <td>581199</td>\n",
       "      <td>84581</td>\n",
       "      <td>NaN</td>\n",
       "      <td>-2</td>\n",
       "      <td>2019-12-05 18:26:00</td>\n",
       "      <td>0.0</td>\n",
       "      <td>2019-12-05</td>\n",
       "      <td>4472</td>\n",
       "    </tr>\n",
       "    <tr>\n",
       "      <td>535326</td>\n",
       "      <td>581203</td>\n",
       "      <td>23406</td>\n",
       "      <td>NaN</td>\n",
       "      <td>15</td>\n",
       "      <td>2019-12-05 18:31:00</td>\n",
       "      <td>0.0</td>\n",
       "      <td>2019-12-05</td>\n",
       "      <td>4472</td>\n",
       "    </tr>\n",
       "    <tr>\n",
       "      <td>535332</td>\n",
       "      <td>581209</td>\n",
       "      <td>21620</td>\n",
       "      <td>NaN</td>\n",
       "      <td>6</td>\n",
       "      <td>2019-12-05 18:35:00</td>\n",
       "      <td>0.0</td>\n",
       "      <td>2019-12-05</td>\n",
       "      <td>4472</td>\n",
       "    </tr>\n",
       "    <tr>\n",
       "      <td>536981</td>\n",
       "      <td>581234</td>\n",
       "      <td>72817</td>\n",
       "      <td>NaN</td>\n",
       "      <td>27</td>\n",
       "      <td>2019-12-06 10:33:00</td>\n",
       "      <td>0.0</td>\n",
       "      <td>2019-12-06</td>\n",
       "      <td>4472</td>\n",
       "    </tr>\n",
       "    <tr>\n",
       "      <td>538554</td>\n",
       "      <td>581408</td>\n",
       "      <td>85175</td>\n",
       "      <td>NaN</td>\n",
       "      <td>20</td>\n",
       "      <td>2019-12-06 14:06:00</td>\n",
       "      <td>0.0</td>\n",
       "      <td>2019-12-06</td>\n",
       "      <td>4472</td>\n",
       "    </tr>\n",
       "  </tbody>\n",
       "</table>\n",
       "<p>1454 rows × 8 columns</p>\n",
       "</div>"
      ],
      "text/plain": [
       "       invoiceno stockcode description  quantity          invoice_dt  \\\n",
       "622       536414     22139         NaN        56 2018-11-29 11:52:00   \n",
       "1970      536545     21134         NaN         1 2018-11-29 14:32:00   \n",
       "1971      536546     22145         NaN         1 2018-11-29 14:33:00   \n",
       "1972      536547     37509         NaN         1 2018-11-29 14:33:00   \n",
       "1987      536549    85226a         NaN         1 2018-11-29 14:34:00   \n",
       "...          ...       ...         ...       ...                 ...   \n",
       "535322    581199     84581         NaN        -2 2019-12-05 18:26:00   \n",
       "535326    581203     23406         NaN        15 2019-12-05 18:31:00   \n",
       "535332    581209     21620         NaN         6 2019-12-05 18:35:00   \n",
       "536981    581234     72817         NaN        27 2019-12-06 10:33:00   \n",
       "538554    581408     85175         NaN        20 2019-12-06 14:06:00   \n",
       "\n",
       "        unitprice invoicedate  suid  \n",
       "622           0.0  2018-11-29  4472  \n",
       "1970          0.0  2018-11-29  4472  \n",
       "1971          0.0  2018-11-29  4472  \n",
       "1972          0.0  2018-11-29  4472  \n",
       "1987          0.0  2018-11-29  4472  \n",
       "...           ...         ...   ...  \n",
       "535322        0.0  2019-12-05  4472  \n",
       "535326        0.0  2019-12-05  4472  \n",
       "535332        0.0  2019-12-05  4472  \n",
       "536981        0.0  2019-12-06  4472  \n",
       "538554        0.0  2019-12-06  4472  \n",
       "\n",
       "[1454 rows x 8 columns]"
      ]
     },
     "execution_count": 15,
     "metadata": {},
     "output_type": "execute_result"
    }
   ],
   "source": [
    "# looking at the rows that dont have description\n",
    "orgnzd_ecommerce.loc[orgnzd_ecommerce['description'].isna()]"
   ]
  },
  {
   "cell_type": "code",
   "execution_count": 16,
   "metadata": {},
   "outputs": [
    {
     "name": "stdout",
     "output_type": "stream",
     "text": [
      "great\n"
     ]
    }
   ],
   "source": [
    "# checking if a stockcode that is null also has a dscription\n",
    "na_desc = orgnzd_ecommerce.loc[orgnzd_ecommerce['description'].isna()]\n",
    "not_na_desc = orgnzd_ecommerce.loc[orgnzd_ecommerce['description'].notna()]\n",
    "for stockcode in na_desc['stockcode']:\n",
    "    if stockcode in list(not_na_desc['stockcode']):\n",
    "        print('great')\n",
    "        break\n",
    "    else:\n",
    "        print('bad')"
   ]
  },
  {
   "cell_type": "code",
   "execution_count": 17,
   "metadata": {
    "scrolled": false
   },
   "outputs": [
    {
     "data": {
      "text/html": [
       "<div>\n",
       "<style scoped>\n",
       "    .dataframe tbody tr th:only-of-type {\n",
       "        vertical-align: middle;\n",
       "    }\n",
       "\n",
       "    .dataframe tbody tr th {\n",
       "        vertical-align: top;\n",
       "    }\n",
       "\n",
       "    .dataframe thead th {\n",
       "        text-align: right;\n",
       "    }\n",
       "</style>\n",
       "<table border=\"1\" class=\"dataframe\">\n",
       "  <thead>\n",
       "    <tr style=\"text-align: right;\">\n",
       "      <th></th>\n",
       "      <th>stockcode</th>\n",
       "      <th>description</th>\n",
       "    </tr>\n",
       "  </thead>\n",
       "  <tbody>\n",
       "    <tr>\n",
       "      <td>0</td>\n",
       "      <td>10002</td>\n",
       "      <td>inflatable political globe</td>\n",
       "    </tr>\n",
       "    <tr>\n",
       "      <td>1</td>\n",
       "      <td>10080</td>\n",
       "      <td>groovy cactus inflatable</td>\n",
       "    </tr>\n",
       "    <tr>\n",
       "      <td>2</td>\n",
       "      <td>10120</td>\n",
       "      <td>doggy rubber</td>\n",
       "    </tr>\n",
       "    <tr>\n",
       "      <td>3</td>\n",
       "      <td>10123c</td>\n",
       "      <td>hearts wrapping tape</td>\n",
       "    </tr>\n",
       "    <tr>\n",
       "      <td>4</td>\n",
       "      <td>10124a</td>\n",
       "      <td>spots on red bookcover tape</td>\n",
       "    </tr>\n",
       "  </tbody>\n",
       "</table>\n",
       "</div>"
      ],
      "text/plain": [
       "  stockcode                  description\n",
       "0     10002   inflatable political globe\n",
       "1     10080     groovy cactus inflatable\n",
       "2     10120                 doggy rubber\n",
       "3    10123c         hearts wrapping tape\n",
       "4    10124a  spots on red bookcover tape"
      ]
     },
     "execution_count": 17,
     "metadata": {},
     "output_type": "execute_result"
    },
    {
     "data": {
      "text/plain": [
       "3848"
      ]
     },
     "execution_count": 17,
     "metadata": {},
     "output_type": "execute_result"
    }
   ],
   "source": [
    "# making a new mode func for use in groupby\n",
    "mode1 = lambda x: x.value_counts().index[0]\n",
    "# finding the mode description for each stockcode\n",
    "mode_desc_p_sc = not_na_desc.groupby('stockcode').agg({'description': mode1}).reset_index()\n",
    "mode_desc_p_sc.head()\n",
    "mode_desc_p_sc.shape[0]"
   ]
  },
  {
   "cell_type": "code",
   "execution_count": 18,
   "metadata": {},
   "outputs": [
    {
     "data": {
      "text/html": [
       "<div>\n",
       "<style scoped>\n",
       "    .dataframe tbody tr th:only-of-type {\n",
       "        vertical-align: middle;\n",
       "    }\n",
       "\n",
       "    .dataframe tbody tr th {\n",
       "        vertical-align: top;\n",
       "    }\n",
       "\n",
       "    .dataframe thead th {\n",
       "        text-align: right;\n",
       "    }\n",
       "</style>\n",
       "<table border=\"1\" class=\"dataframe\">\n",
       "  <thead>\n",
       "    <tr style=\"text-align: right;\">\n",
       "      <th></th>\n",
       "      <th>invoiceno</th>\n",
       "      <th>stockcode</th>\n",
       "      <th>quantity</th>\n",
       "      <th>invoice_dt</th>\n",
       "      <th>unitprice</th>\n",
       "      <th>invoicedate</th>\n",
       "      <th>suid</th>\n",
       "      <th>description</th>\n",
       "    </tr>\n",
       "  </thead>\n",
       "  <tbody>\n",
       "    <tr>\n",
       "      <td>0</td>\n",
       "      <td>536365</td>\n",
       "      <td>85123a</td>\n",
       "      <td>6</td>\n",
       "      <td>2018-11-29 08:26:00</td>\n",
       "      <td>2.55</td>\n",
       "      <td>2018-11-29</td>\n",
       "      <td>4148</td>\n",
       "      <td>white hanging heart t-light holder</td>\n",
       "    </tr>\n",
       "    <tr>\n",
       "      <td>1</td>\n",
       "      <td>536373</td>\n",
       "      <td>85123a</td>\n",
       "      <td>6</td>\n",
       "      <td>2018-11-29 09:02:00</td>\n",
       "      <td>2.55</td>\n",
       "      <td>2018-11-29</td>\n",
       "      <td>4148</td>\n",
       "      <td>white hanging heart t-light holder</td>\n",
       "    </tr>\n",
       "    <tr>\n",
       "      <td>2</td>\n",
       "      <td>536375</td>\n",
       "      <td>85123a</td>\n",
       "      <td>6</td>\n",
       "      <td>2018-11-29 09:32:00</td>\n",
       "      <td>2.55</td>\n",
       "      <td>2018-11-29</td>\n",
       "      <td>4148</td>\n",
       "      <td>white hanging heart t-light holder</td>\n",
       "    </tr>\n",
       "  </tbody>\n",
       "</table>\n",
       "</div>"
      ],
      "text/plain": [
       "  invoiceno stockcode  quantity          invoice_dt  unitprice invoicedate  \\\n",
       "0    536365    85123a         6 2018-11-29 08:26:00       2.55  2018-11-29   \n",
       "1    536373    85123a         6 2018-11-29 09:02:00       2.55  2018-11-29   \n",
       "2    536375    85123a         6 2018-11-29 09:32:00       2.55  2018-11-29   \n",
       "\n",
       "   suid                         description  \n",
       "0  4148  white hanging heart t-light holder  \n",
       "1  4148  white hanging heart t-light holder  \n",
       "2  4148  white hanging heart t-light holder  "
      ]
     },
     "execution_count": 18,
     "metadata": {},
     "output_type": "execute_result"
    },
    {
     "data": {
      "text/plain": [
       "541799"
      ]
     },
     "execution_count": 18,
     "metadata": {},
     "output_type": "execute_result"
    }
   ],
   "source": [
    "# merging both tables on stockcode, dropping the excecive column and renaming the ramining one\n",
    "orgnzd_ecommerce = orgnzd_ecommerce.merge(mode_desc_p_sc, on = 'stockcode')\n",
    "orgnzd_ecommerce = orgnzd_ecommerce.drop('description_x', axis = 1)\n",
    "orgnzd_ecommerce.rename(columns = {'description_y': 'description'}, inplace = True)\n",
    "orgnzd_ecommerce.head(3)\n",
    "orgnzd_ecommerce.shape[0]"
   ]
  },
  {
   "cell_type": "code",
   "execution_count": 19,
   "metadata": {},
   "outputs": [
    {
     "data": {
      "text/plain": [
       "0"
      ]
     },
     "execution_count": 19,
     "metadata": {},
     "output_type": "execute_result"
    }
   ],
   "source": [
    "# checking i have no null description\n",
    "orgnzd_ecommerce['description'].isna().sum()"
   ]
  },
  {
   "cell_type": "markdown",
   "metadata": {},
   "source": [
    "now lets take a look at the negative quantity values"
   ]
  },
  {
   "cell_type": "code",
   "execution_count": 20,
   "metadata": {
    "scrolled": true
   },
   "outputs": [
    {
     "data": {
      "text/html": [
       "<div>\n",
       "<style scoped>\n",
       "    .dataframe tbody tr th:only-of-type {\n",
       "        vertical-align: middle;\n",
       "    }\n",
       "\n",
       "    .dataframe tbody tr th {\n",
       "        vertical-align: top;\n",
       "    }\n",
       "\n",
       "    .dataframe thead th {\n",
       "        text-align: right;\n",
       "    }\n",
       "</style>\n",
       "<table border=\"1\" class=\"dataframe\">\n",
       "  <thead>\n",
       "    <tr style=\"text-align: right;\">\n",
       "      <th></th>\n",
       "      <th>invoiceno</th>\n",
       "      <th>stockcode</th>\n",
       "      <th>quantity</th>\n",
       "      <th>invoice_dt</th>\n",
       "      <th>unitprice</th>\n",
       "      <th>invoicedate</th>\n",
       "      <th>suid</th>\n",
       "      <th>description</th>\n",
       "    </tr>\n",
       "  </thead>\n",
       "  <tbody>\n",
       "    <tr>\n",
       "      <td>0</td>\n",
       "      <td>c537602</td>\n",
       "      <td>85123a</td>\n",
       "      <td>-1</td>\n",
       "      <td>2018-12-05 12:45:00</td>\n",
       "      <td>2.55</td>\n",
       "      <td>2018-12-05</td>\n",
       "      <td>3901</td>\n",
       "      <td>white hanging heart t-light holder</td>\n",
       "    </tr>\n",
       "    <tr>\n",
       "      <td>1</td>\n",
       "      <td>c538350</td>\n",
       "      <td>85123a</td>\n",
       "      <td>-1</td>\n",
       "      <td>2018-12-08 15:01:00</td>\n",
       "      <td>2.55</td>\n",
       "      <td>2018-12-08</td>\n",
       "      <td>1178</td>\n",
       "      <td>white hanging heart t-light holder</td>\n",
       "    </tr>\n",
       "    <tr>\n",
       "      <td>2</td>\n",
       "      <td>c538834</td>\n",
       "      <td>85123a</td>\n",
       "      <td>-1</td>\n",
       "      <td>2018-12-12 13:06:00</td>\n",
       "      <td>2.95</td>\n",
       "      <td>2018-12-12</td>\n",
       "      <td>1628</td>\n",
       "      <td>white hanging heart t-light holder</td>\n",
       "    </tr>\n",
       "    <tr>\n",
       "      <td>3</td>\n",
       "      <td>c539329</td>\n",
       "      <td>85123a</td>\n",
       "      <td>-500</td>\n",
       "      <td>2018-12-15 09:37:00</td>\n",
       "      <td>2.55</td>\n",
       "      <td>2018-12-15</td>\n",
       "      <td>2808</td>\n",
       "      <td>white hanging heart t-light holder</td>\n",
       "    </tr>\n",
       "    <tr>\n",
       "      <td>4</td>\n",
       "      <td>c539576</td>\n",
       "      <td>85123a</td>\n",
       "      <td>-24</td>\n",
       "      <td>2018-12-18 12:25:00</td>\n",
       "      <td>2.95</td>\n",
       "      <td>2018-12-18</td>\n",
       "      <td>1995</td>\n",
       "      <td>white hanging heart t-light holder</td>\n",
       "    </tr>\n",
       "    <tr>\n",
       "      <td>5</td>\n",
       "      <td>c539832</td>\n",
       "      <td>85123a</td>\n",
       "      <td>-1</td>\n",
       "      <td>2018-12-20 13:20:00</td>\n",
       "      <td>2.55</td>\n",
       "      <td>2018-12-20</td>\n",
       "      <td>3707</td>\n",
       "      <td>white hanging heart t-light holder</td>\n",
       "    </tr>\n",
       "    <tr>\n",
       "      <td>6</td>\n",
       "      <td>c540244</td>\n",
       "      <td>85123a</td>\n",
       "      <td>-1</td>\n",
       "      <td>2019-01-03 15:40:00</td>\n",
       "      <td>2.95</td>\n",
       "      <td>2019-01-03</td>\n",
       "      <td>3685</td>\n",
       "      <td>white hanging heart t-light holder</td>\n",
       "    </tr>\n",
       "    <tr>\n",
       "      <td>7</td>\n",
       "      <td>c540403</td>\n",
       "      <td>85123a</td>\n",
       "      <td>-1</td>\n",
       "      <td>2019-01-05 09:32:00</td>\n",
       "      <td>2.55</td>\n",
       "      <td>2019-01-05</td>\n",
       "      <td>3698</td>\n",
       "      <td>white hanging heart t-light holder</td>\n",
       "    </tr>\n",
       "    <tr>\n",
       "      <td>8</td>\n",
       "      <td>c540837</td>\n",
       "      <td>85123a</td>\n",
       "      <td>-1</td>\n",
       "      <td>2019-01-09 15:02:00</td>\n",
       "      <td>2.55</td>\n",
       "      <td>2019-01-09</td>\n",
       "      <td>1868</td>\n",
       "      <td>white hanging heart t-light holder</td>\n",
       "    </tr>\n",
       "    <tr>\n",
       "      <td>9</td>\n",
       "      <td>c541415</td>\n",
       "      <td>85123a</td>\n",
       "      <td>-1</td>\n",
       "      <td>2019-01-15 16:20:00</td>\n",
       "      <td>2.55</td>\n",
       "      <td>2019-01-15</td>\n",
       "      <td>1543</td>\n",
       "      <td>white hanging heart t-light holder</td>\n",
       "    </tr>\n",
       "  </tbody>\n",
       "</table>\n",
       "</div>"
      ],
      "text/plain": [
       "  invoiceno stockcode  quantity          invoice_dt  unitprice invoicedate  \\\n",
       "0   c537602    85123a        -1 2018-12-05 12:45:00       2.55  2018-12-05   \n",
       "1   c538350    85123a        -1 2018-12-08 15:01:00       2.55  2018-12-08   \n",
       "2   c538834    85123a        -1 2018-12-12 13:06:00       2.95  2018-12-12   \n",
       "3   c539329    85123a      -500 2018-12-15 09:37:00       2.55  2018-12-15   \n",
       "4   c539576    85123a       -24 2018-12-18 12:25:00       2.95  2018-12-18   \n",
       "5   c539832    85123a        -1 2018-12-20 13:20:00       2.55  2018-12-20   \n",
       "6   c540244    85123a        -1 2019-01-03 15:40:00       2.95  2019-01-03   \n",
       "7   c540403    85123a        -1 2019-01-05 09:32:00       2.55  2019-01-05   \n",
       "8   c540837    85123a        -1 2019-01-09 15:02:00       2.55  2019-01-09   \n",
       "9   c541415    85123a        -1 2019-01-15 16:20:00       2.55  2019-01-15   \n",
       "\n",
       "   suid                         description  \n",
       "0  3901  white hanging heart t-light holder  \n",
       "1  1178  white hanging heart t-light holder  \n",
       "2  1628  white hanging heart t-light holder  \n",
       "3  2808  white hanging heart t-light holder  \n",
       "4  1995  white hanging heart t-light holder  \n",
       "5  3707  white hanging heart t-light holder  \n",
       "6  3685  white hanging heart t-light holder  \n",
       "7  3698  white hanging heart t-light holder  \n",
       "8  1868  white hanging heart t-light holder  \n",
       "9  1543  white hanging heart t-light holder  "
      ]
     },
     "execution_count": 20,
     "metadata": {},
     "output_type": "execute_result"
    }
   ],
   "source": [
    "# looking at the rows where quantity is negative\n",
    "orgnzd_ecommerce[orgnzd_ecommerce['quantity'] < 0].reset_index(drop = True).head(10)"
   ]
  },
  {
   "cell_type": "markdown",
   "metadata": {},
   "source": [
    "so its basically returns so ill save them to a different table"
   ]
  },
  {
   "cell_type": "code",
   "execution_count": 21,
   "metadata": {
    "scrolled": true
   },
   "outputs": [
    {
     "data": {
      "text/html": [
       "<div>\n",
       "<style scoped>\n",
       "    .dataframe tbody tr th:only-of-type {\n",
       "        vertical-align: middle;\n",
       "    }\n",
       "\n",
       "    .dataframe tbody tr th {\n",
       "        vertical-align: top;\n",
       "    }\n",
       "\n",
       "    .dataframe thead th {\n",
       "        text-align: right;\n",
       "    }\n",
       "</style>\n",
       "<table border=\"1\" class=\"dataframe\">\n",
       "  <thead>\n",
       "    <tr style=\"text-align: right;\">\n",
       "      <th></th>\n",
       "      <th>invoiceno</th>\n",
       "      <th>stockcode</th>\n",
       "      <th>quantity</th>\n",
       "      <th>invoice_dt</th>\n",
       "      <th>unitprice</th>\n",
       "      <th>invoicedate</th>\n",
       "      <th>suid</th>\n",
       "      <th>description</th>\n",
       "    </tr>\n",
       "  </thead>\n",
       "  <tbody>\n",
       "    <tr>\n",
       "      <td>0</td>\n",
       "      <td>c537602</td>\n",
       "      <td>85123a</td>\n",
       "      <td>1</td>\n",
       "      <td>2018-12-05 12:45:00</td>\n",
       "      <td>2.55</td>\n",
       "      <td>2018-12-05</td>\n",
       "      <td>3901</td>\n",
       "      <td>white hanging heart t-light holder</td>\n",
       "    </tr>\n",
       "    <tr>\n",
       "      <td>1</td>\n",
       "      <td>c538350</td>\n",
       "      <td>85123a</td>\n",
       "      <td>1</td>\n",
       "      <td>2018-12-08 15:01:00</td>\n",
       "      <td>2.55</td>\n",
       "      <td>2018-12-08</td>\n",
       "      <td>1178</td>\n",
       "      <td>white hanging heart t-light holder</td>\n",
       "    </tr>\n",
       "    <tr>\n",
       "      <td>2</td>\n",
       "      <td>c538834</td>\n",
       "      <td>85123a</td>\n",
       "      <td>1</td>\n",
       "      <td>2018-12-12 13:06:00</td>\n",
       "      <td>2.95</td>\n",
       "      <td>2018-12-12</td>\n",
       "      <td>1628</td>\n",
       "      <td>white hanging heart t-light holder</td>\n",
       "    </tr>\n",
       "    <tr>\n",
       "      <td>3</td>\n",
       "      <td>c539329</td>\n",
       "      <td>85123a</td>\n",
       "      <td>500</td>\n",
       "      <td>2018-12-15 09:37:00</td>\n",
       "      <td>2.55</td>\n",
       "      <td>2018-12-15</td>\n",
       "      <td>2808</td>\n",
       "      <td>white hanging heart t-light holder</td>\n",
       "    </tr>\n",
       "    <tr>\n",
       "      <td>4</td>\n",
       "      <td>c539576</td>\n",
       "      <td>85123a</td>\n",
       "      <td>24</td>\n",
       "      <td>2018-12-18 12:25:00</td>\n",
       "      <td>2.95</td>\n",
       "      <td>2018-12-18</td>\n",
       "      <td>1995</td>\n",
       "      <td>white hanging heart t-light holder</td>\n",
       "    </tr>\n",
       "  </tbody>\n",
       "</table>\n",
       "</div>"
      ],
      "text/plain": [
       "  invoiceno stockcode  quantity          invoice_dt  unitprice invoicedate  \\\n",
       "0   c537602    85123a         1 2018-12-05 12:45:00       2.55  2018-12-05   \n",
       "1   c538350    85123a         1 2018-12-08 15:01:00       2.55  2018-12-08   \n",
       "2   c538834    85123a         1 2018-12-12 13:06:00       2.95  2018-12-12   \n",
       "3   c539329    85123a       500 2018-12-15 09:37:00       2.55  2018-12-15   \n",
       "4   c539576    85123a        24 2018-12-18 12:25:00       2.95  2018-12-18   \n",
       "\n",
       "   suid                         description  \n",
       "0  3901  white hanging heart t-light holder  \n",
       "1  1178  white hanging heart t-light holder  \n",
       "2  1628  white hanging heart t-light holder  \n",
       "3  2808  white hanging heart t-light holder  \n",
       "4  1995  white hanging heart t-light holder  "
      ]
     },
     "execution_count": 21,
     "metadata": {},
     "output_type": "execute_result"
    },
    {
     "data": {
      "text/plain": [
       "10527"
      ]
     },
     "execution_count": 21,
     "metadata": {},
     "output_type": "execute_result"
    },
    {
     "data": {
      "text/html": [
       "<div>\n",
       "<style scoped>\n",
       "    .dataframe tbody tr th:only-of-type {\n",
       "        vertical-align: middle;\n",
       "    }\n",
       "\n",
       "    .dataframe tbody tr th {\n",
       "        vertical-align: top;\n",
       "    }\n",
       "\n",
       "    .dataframe thead th {\n",
       "        text-align: right;\n",
       "    }\n",
       "</style>\n",
       "<table border=\"1\" class=\"dataframe\">\n",
       "  <thead>\n",
       "    <tr style=\"text-align: right;\">\n",
       "      <th></th>\n",
       "      <th>invoiceno</th>\n",
       "      <th>stockcode</th>\n",
       "      <th>quantity</th>\n",
       "      <th>invoice_dt</th>\n",
       "      <th>unitprice</th>\n",
       "      <th>invoicedate</th>\n",
       "      <th>suid</th>\n",
       "      <th>description</th>\n",
       "    </tr>\n",
       "  </thead>\n",
       "  <tbody>\n",
       "    <tr>\n",
       "      <td>0</td>\n",
       "      <td>536365</td>\n",
       "      <td>85123a</td>\n",
       "      <td>6</td>\n",
       "      <td>2018-11-29 08:26:00</td>\n",
       "      <td>2.55</td>\n",
       "      <td>2018-11-29</td>\n",
       "      <td>4148</td>\n",
       "      <td>white hanging heart t-light holder</td>\n",
       "    </tr>\n",
       "    <tr>\n",
       "      <td>1</td>\n",
       "      <td>536373</td>\n",
       "      <td>85123a</td>\n",
       "      <td>6</td>\n",
       "      <td>2018-11-29 09:02:00</td>\n",
       "      <td>2.55</td>\n",
       "      <td>2018-11-29</td>\n",
       "      <td>4148</td>\n",
       "      <td>white hanging heart t-light holder</td>\n",
       "    </tr>\n",
       "    <tr>\n",
       "      <td>2</td>\n",
       "      <td>536375</td>\n",
       "      <td>85123a</td>\n",
       "      <td>6</td>\n",
       "      <td>2018-11-29 09:32:00</td>\n",
       "      <td>2.55</td>\n",
       "      <td>2018-11-29</td>\n",
       "      <td>4148</td>\n",
       "      <td>white hanging heart t-light holder</td>\n",
       "    </tr>\n",
       "    <tr>\n",
       "      <td>3</td>\n",
       "      <td>536390</td>\n",
       "      <td>85123a</td>\n",
       "      <td>64</td>\n",
       "      <td>2018-11-29 10:19:00</td>\n",
       "      <td>2.55</td>\n",
       "      <td>2018-11-29</td>\n",
       "      <td>3901</td>\n",
       "      <td>white hanging heart t-light holder</td>\n",
       "    </tr>\n",
       "    <tr>\n",
       "      <td>4</td>\n",
       "      <td>536394</td>\n",
       "      <td>85123a</td>\n",
       "      <td>32</td>\n",
       "      <td>2018-11-29 10:39:00</td>\n",
       "      <td>2.55</td>\n",
       "      <td>2018-11-29</td>\n",
       "      <td>903</td>\n",
       "      <td>white hanging heart t-light holder</td>\n",
       "    </tr>\n",
       "  </tbody>\n",
       "</table>\n",
       "</div>"
      ],
      "text/plain": [
       "  invoiceno stockcode  quantity          invoice_dt  unitprice invoicedate  \\\n",
       "0    536365    85123a         6 2018-11-29 08:26:00       2.55  2018-11-29   \n",
       "1    536373    85123a         6 2018-11-29 09:02:00       2.55  2018-11-29   \n",
       "2    536375    85123a         6 2018-11-29 09:32:00       2.55  2018-11-29   \n",
       "3    536390    85123a        64 2018-11-29 10:19:00       2.55  2018-11-29   \n",
       "4    536394    85123a        32 2018-11-29 10:39:00       2.55  2018-11-29   \n",
       "\n",
       "   suid                         description  \n",
       "0  4148  white hanging heart t-light holder  \n",
       "1  4148  white hanging heart t-light holder  \n",
       "2  4148  white hanging heart t-light holder  \n",
       "3  3901  white hanging heart t-light holder  \n",
       "4   903  white hanging heart t-light holder  "
      ]
     },
     "execution_count": 21,
     "metadata": {},
     "output_type": "execute_result"
    },
    {
     "data": {
      "text/plain": [
       "531272"
      ]
     },
     "execution_count": 21,
     "metadata": {},
     "output_type": "execute_result"
    }
   ],
   "source": [
    "# making new tables, 1 for returns and the other purchases\n",
    "returns = orgnzd_ecommerce[orgnzd_ecommerce['quantity'] < 0].reset_index(drop = True)\n",
    "returns['quantity'] = returns['quantity'] * -1\n",
    "purchases = orgnzd_ecommerce[orgnzd_ecommerce['quantity'] > 0].reset_index(drop = True)\n",
    "returns.head()\n",
    "returns.shape[0]\n",
    "purchases.head()\n",
    "purchases.shape[0]"
   ]
  },
  {
   "cell_type": "markdown",
   "metadata": {},
   "source": [
    "lets investigate the sc's without numbers"
   ]
  },
  {
   "cell_type": "code",
   "execution_count": 22,
   "metadata": {},
   "outputs": [
    {
     "data": {
      "text/plain": [
       "['post',\n",
       " 'd',\n",
       " 'dot',\n",
       " 'm',\n",
       " 'bank charges',\n",
       " 's',\n",
       " 'amazonfee',\n",
       " 'gift_0001_40',\n",
       " 'gift_0001_50',\n",
       " 'gift_0001_30',\n",
       " 'gift_0001_20',\n",
       " 'dcgssboy',\n",
       " 'dcgssgirl',\n",
       " 'gift_0001_10',\n",
       " 'pads',\n",
       " 'b',\n",
       " 'cruk']"
      ]
     },
     "execution_count": 22,
     "metadata": {},
     "output_type": "execute_result"
    }
   ],
   "source": [
    "# saving all the letter scs\n",
    "mask1 = orgnzd_ecommerce['stockcode'].str.isalpha()\n",
    "mask2 = ~orgnzd_ecommerce['stockcode'].str.isalnum()\n",
    "no_num_sc = orgnzd_ecommerce[mask1 | mask2]['stockcode'].unique().tolist()\n",
    "no_num_sc"
   ]
  },
  {
   "cell_type": "code",
   "execution_count": 23,
   "metadata": {},
   "outputs": [
    {
     "data": {
      "text/html": [
       "<div>\n",
       "<style scoped>\n",
       "    .dataframe tbody tr th:only-of-type {\n",
       "        vertical-align: middle;\n",
       "    }\n",
       "\n",
       "    .dataframe tbody tr th {\n",
       "        vertical-align: top;\n",
       "    }\n",
       "\n",
       "    .dataframe thead th {\n",
       "        text-align: right;\n",
       "    }\n",
       "</style>\n",
       "<table border=\"1\" class=\"dataframe\">\n",
       "  <thead>\n",
       "    <tr style=\"text-align: right;\">\n",
       "      <th></th>\n",
       "      <th>index</th>\n",
       "      <th>invoiceno</th>\n",
       "      <th>stockcode</th>\n",
       "      <th>quantity</th>\n",
       "      <th>invoice_dt</th>\n",
       "      <th>unitprice</th>\n",
       "      <th>invoicedate</th>\n",
       "      <th>suid</th>\n",
       "      <th>description</th>\n",
       "    </tr>\n",
       "  </thead>\n",
       "  <tbody>\n",
       "    <tr>\n",
       "      <td>0</td>\n",
       "      <td>22863</td>\n",
       "      <td>536370</td>\n",
       "      <td>post</td>\n",
       "      <td>3</td>\n",
       "      <td>2018-11-29 08:45:00</td>\n",
       "      <td>18.0</td>\n",
       "      <td>2018-11-29</td>\n",
       "      <td>291</td>\n",
       "      <td>postage</td>\n",
       "    </tr>\n",
       "    <tr>\n",
       "      <td>1</td>\n",
       "      <td>22864</td>\n",
       "      <td>536403</td>\n",
       "      <td>post</td>\n",
       "      <td>1</td>\n",
       "      <td>2018-11-29 11:27:00</td>\n",
       "      <td>15.0</td>\n",
       "      <td>2018-11-29</td>\n",
       "      <td>459</td>\n",
       "      <td>postage</td>\n",
       "    </tr>\n",
       "    <tr>\n",
       "      <td>2</td>\n",
       "      <td>22865</td>\n",
       "      <td>536527</td>\n",
       "      <td>post</td>\n",
       "      <td>1</td>\n",
       "      <td>2018-11-29 13:04:00</td>\n",
       "      <td>18.0</td>\n",
       "      <td>2018-11-29</td>\n",
       "      <td>361</td>\n",
       "      <td>postage</td>\n",
       "    </tr>\n",
       "    <tr>\n",
       "      <td>3</td>\n",
       "      <td>22866</td>\n",
       "      <td>536840</td>\n",
       "      <td>post</td>\n",
       "      <td>1</td>\n",
       "      <td>2018-11-30 18:27:00</td>\n",
       "      <td>18.0</td>\n",
       "      <td>2018-11-30</td>\n",
       "      <td>424</td>\n",
       "      <td>postage</td>\n",
       "    </tr>\n",
       "    <tr>\n",
       "      <td>4</td>\n",
       "      <td>22867</td>\n",
       "      <td>536852</td>\n",
       "      <td>post</td>\n",
       "      <td>1</td>\n",
       "      <td>2018-12-01 09:51:00</td>\n",
       "      <td>18.0</td>\n",
       "      <td>2018-12-01</td>\n",
       "      <td>381</td>\n",
       "      <td>postage</td>\n",
       "    </tr>\n",
       "    <tr>\n",
       "      <td>...</td>\n",
       "      <td>...</td>\n",
       "      <td>...</td>\n",
       "      <td>...</td>\n",
       "      <td>...</td>\n",
       "      <td>...</td>\n",
       "      <td>...</td>\n",
       "      <td>...</td>\n",
       "      <td>...</td>\n",
       "      <td>...</td>\n",
       "    </tr>\n",
       "    <tr>\n",
       "      <td>1251</td>\n",
       "      <td>24114</td>\n",
       "      <td>581493</td>\n",
       "      <td>post</td>\n",
       "      <td>1</td>\n",
       "      <td>2019-12-07 10:10:00</td>\n",
       "      <td>15.0</td>\n",
       "      <td>2019-12-07</td>\n",
       "      <td>161</td>\n",
       "      <td>postage</td>\n",
       "    </tr>\n",
       "    <tr>\n",
       "      <td>1252</td>\n",
       "      <td>24115</td>\n",
       "      <td>581494</td>\n",
       "      <td>post</td>\n",
       "      <td>2</td>\n",
       "      <td>2019-12-07 10:13:00</td>\n",
       "      <td>18.0</td>\n",
       "      <td>2019-12-07</td>\n",
       "      <td>239</td>\n",
       "      <td>postage</td>\n",
       "    </tr>\n",
       "    <tr>\n",
       "      <td>1253</td>\n",
       "      <td>24116</td>\n",
       "      <td>581570</td>\n",
       "      <td>post</td>\n",
       "      <td>1</td>\n",
       "      <td>2019-12-07 11:59:00</td>\n",
       "      <td>18.0</td>\n",
       "      <td>2019-12-07</td>\n",
       "      <td>361</td>\n",
       "      <td>postage</td>\n",
       "    </tr>\n",
       "    <tr>\n",
       "      <td>1254</td>\n",
       "      <td>24117</td>\n",
       "      <td>581574</td>\n",
       "      <td>post</td>\n",
       "      <td>2</td>\n",
       "      <td>2019-12-07 12:09:00</td>\n",
       "      <td>18.0</td>\n",
       "      <td>2019-12-07</td>\n",
       "      <td>246</td>\n",
       "      <td>postage</td>\n",
       "    </tr>\n",
       "    <tr>\n",
       "      <td>1255</td>\n",
       "      <td>24118</td>\n",
       "      <td>581578</td>\n",
       "      <td>post</td>\n",
       "      <td>3</td>\n",
       "      <td>2019-12-07 12:16:00</td>\n",
       "      <td>18.0</td>\n",
       "      <td>2019-12-07</td>\n",
       "      <td>401</td>\n",
       "      <td>postage</td>\n",
       "    </tr>\n",
       "  </tbody>\n",
       "</table>\n",
       "<p>1256 rows × 9 columns</p>\n",
       "</div>"
      ],
      "text/plain": [
       "      index invoiceno stockcode  quantity          invoice_dt  unitprice  \\\n",
       "0     22863    536370      post         3 2018-11-29 08:45:00       18.0   \n",
       "1     22864    536403      post         1 2018-11-29 11:27:00       15.0   \n",
       "2     22865    536527      post         1 2018-11-29 13:04:00       18.0   \n",
       "3     22866    536840      post         1 2018-11-30 18:27:00       18.0   \n",
       "4     22867    536852      post         1 2018-12-01 09:51:00       18.0   \n",
       "...     ...       ...       ...       ...                 ...        ...   \n",
       "1251  24114    581493      post         1 2019-12-07 10:10:00       15.0   \n",
       "1252  24115    581494      post         2 2019-12-07 10:13:00       18.0   \n",
       "1253  24116    581570      post         1 2019-12-07 11:59:00       18.0   \n",
       "1254  24117    581574      post         2 2019-12-07 12:09:00       18.0   \n",
       "1255  24118    581578      post         3 2019-12-07 12:16:00       18.0   \n",
       "\n",
       "     invoicedate suid description  \n",
       "0     2018-11-29  291     postage  \n",
       "1     2018-11-29  459     postage  \n",
       "2     2018-11-29  361     postage  \n",
       "3     2018-11-30  424     postage  \n",
       "4     2018-12-01  381     postage  \n",
       "...          ...  ...         ...  \n",
       "1251  2019-12-07  161     postage  \n",
       "1252  2019-12-07  239     postage  \n",
       "1253  2019-12-07  361     postage  \n",
       "1254  2019-12-07  246     postage  \n",
       "1255  2019-12-07  401     postage  \n",
       "\n",
       "[1256 rows x 9 columns]"
      ]
     },
     "execution_count": 23,
     "metadata": {},
     "output_type": "execute_result"
    },
    {
     "data": {
      "text/html": [
       "<div>\n",
       "<style scoped>\n",
       "    .dataframe tbody tr th:only-of-type {\n",
       "        vertical-align: middle;\n",
       "    }\n",
       "\n",
       "    .dataframe tbody tr th {\n",
       "        vertical-align: top;\n",
       "    }\n",
       "\n",
       "    .dataframe thead th {\n",
       "        text-align: right;\n",
       "    }\n",
       "</style>\n",
       "<table border=\"1\" class=\"dataframe\">\n",
       "  <thead>\n",
       "    <tr style=\"text-align: right;\">\n",
       "      <th></th>\n",
       "      <th>index</th>\n",
       "      <th>invoiceno</th>\n",
       "      <th>stockcode</th>\n",
       "      <th>quantity</th>\n",
       "      <th>invoice_dt</th>\n",
       "      <th>unitprice</th>\n",
       "      <th>invoicedate</th>\n",
       "      <th>suid</th>\n",
       "      <th>description</th>\n",
       "    </tr>\n",
       "  </thead>\n",
       "  <tbody>\n",
       "    <tr>\n",
       "      <td>0</td>\n",
       "      <td>57418</td>\n",
       "      <td>c536379</td>\n",
       "      <td>d</td>\n",
       "      <td>-1</td>\n",
       "      <td>2018-11-29 09:41:00</td>\n",
       "      <td>27.50</td>\n",
       "      <td>2018-11-29</td>\n",
       "      <td>1715</td>\n",
       "      <td>discount</td>\n",
       "    </tr>\n",
       "    <tr>\n",
       "      <td>1</td>\n",
       "      <td>57419</td>\n",
       "      <td>c537164</td>\n",
       "      <td>d</td>\n",
       "      <td>-1</td>\n",
       "      <td>2018-12-03 13:21:00</td>\n",
       "      <td>29.29</td>\n",
       "      <td>2018-12-03</td>\n",
       "      <td>1715</td>\n",
       "      <td>discount</td>\n",
       "    </tr>\n",
       "    <tr>\n",
       "      <td>2</td>\n",
       "      <td>57420</td>\n",
       "      <td>c537597</td>\n",
       "      <td>d</td>\n",
       "      <td>-1</td>\n",
       "      <td>2018-12-05 12:34:00</td>\n",
       "      <td>281.00</td>\n",
       "      <td>2018-12-05</td>\n",
       "      <td>2429</td>\n",
       "      <td>discount</td>\n",
       "    </tr>\n",
       "    <tr>\n",
       "      <td>3</td>\n",
       "      <td>57421</td>\n",
       "      <td>c537857</td>\n",
       "      <td>d</td>\n",
       "      <td>-1</td>\n",
       "      <td>2018-12-06 16:00:00</td>\n",
       "      <td>267.12</td>\n",
       "      <td>2018-12-06</td>\n",
       "      <td>3771</td>\n",
       "      <td>discount</td>\n",
       "    </tr>\n",
       "    <tr>\n",
       "      <td>4</td>\n",
       "      <td>57422</td>\n",
       "      <td>c538897</td>\n",
       "      <td>d</td>\n",
       "      <td>-1</td>\n",
       "      <td>2018-12-13 09:14:00</td>\n",
       "      <td>5.76</td>\n",
       "      <td>2018-12-13</td>\n",
       "      <td>3114</td>\n",
       "      <td>discount</td>\n",
       "    </tr>\n",
       "    <tr>\n",
       "      <td>...</td>\n",
       "      <td>...</td>\n",
       "      <td>...</td>\n",
       "      <td>...</td>\n",
       "      <td>...</td>\n",
       "      <td>...</td>\n",
       "      <td>...</td>\n",
       "      <td>...</td>\n",
       "      <td>...</td>\n",
       "      <td>...</td>\n",
       "    </tr>\n",
       "    <tr>\n",
       "      <td>72</td>\n",
       "      <td>57490</td>\n",
       "      <td>c577227</td>\n",
       "      <td>d</td>\n",
       "      <td>-1</td>\n",
       "      <td>2019-11-16 12:06:00</td>\n",
       "      <td>19.82</td>\n",
       "      <td>2019-11-16</td>\n",
       "      <td>1715</td>\n",
       "      <td>discount</td>\n",
       "    </tr>\n",
       "    <tr>\n",
       "      <td>73</td>\n",
       "      <td>57491</td>\n",
       "      <td>c577227</td>\n",
       "      <td>d</td>\n",
       "      <td>-1</td>\n",
       "      <td>2019-11-16 12:06:00</td>\n",
       "      <td>16.76</td>\n",
       "      <td>2019-11-16</td>\n",
       "      <td>1715</td>\n",
       "      <td>discount</td>\n",
       "    </tr>\n",
       "    <tr>\n",
       "      <td>74</td>\n",
       "      <td>57492</td>\n",
       "      <td>c578239</td>\n",
       "      <td>d</td>\n",
       "      <td>-1</td>\n",
       "      <td>2019-11-21 12:29:00</td>\n",
       "      <td>26.33</td>\n",
       "      <td>2019-11-21</td>\n",
       "      <td>1996</td>\n",
       "      <td>discount</td>\n",
       "    </tr>\n",
       "    <tr>\n",
       "      <td>75</td>\n",
       "      <td>57493</td>\n",
       "      <td>c579884</td>\n",
       "      <td>d</td>\n",
       "      <td>-1</td>\n",
       "      <td>2019-11-28 17:34:00</td>\n",
       "      <td>20.53</td>\n",
       "      <td>2019-11-28</td>\n",
       "      <td>1715</td>\n",
       "      <td>discount</td>\n",
       "    </tr>\n",
       "    <tr>\n",
       "      <td>76</td>\n",
       "      <td>57494</td>\n",
       "      <td>c579908</td>\n",
       "      <td>d</td>\n",
       "      <td>-1</td>\n",
       "      <td>2019-11-29 08:49:00</td>\n",
       "      <td>28.68</td>\n",
       "      <td>2019-11-29</td>\n",
       "      <td>1715</td>\n",
       "      <td>discount</td>\n",
       "    </tr>\n",
       "  </tbody>\n",
       "</table>\n",
       "<p>77 rows × 9 columns</p>\n",
       "</div>"
      ],
      "text/plain": [
       "    index invoiceno stockcode  quantity          invoice_dt  unitprice  \\\n",
       "0   57418   c536379         d        -1 2018-11-29 09:41:00      27.50   \n",
       "1   57419   c537164         d        -1 2018-12-03 13:21:00      29.29   \n",
       "2   57420   c537597         d        -1 2018-12-05 12:34:00     281.00   \n",
       "3   57421   c537857         d        -1 2018-12-06 16:00:00     267.12   \n",
       "4   57422   c538897         d        -1 2018-12-13 09:14:00       5.76   \n",
       "..    ...       ...       ...       ...                 ...        ...   \n",
       "72  57490   c577227         d        -1 2019-11-16 12:06:00      19.82   \n",
       "73  57491   c577227         d        -1 2019-11-16 12:06:00      16.76   \n",
       "74  57492   c578239         d        -1 2019-11-21 12:29:00      26.33   \n",
       "75  57493   c579884         d        -1 2019-11-28 17:34:00      20.53   \n",
       "76  57494   c579908         d        -1 2019-11-29 08:49:00      28.68   \n",
       "\n",
       "   invoicedate  suid description  \n",
       "0   2018-11-29  1715    discount  \n",
       "1   2018-12-03  1715    discount  \n",
       "2   2018-12-05  2429    discount  \n",
       "3   2018-12-06  3771    discount  \n",
       "4   2018-12-13  3114    discount  \n",
       "..         ...   ...         ...  \n",
       "72  2019-11-16  1715    discount  \n",
       "73  2019-11-16  1715    discount  \n",
       "74  2019-11-21  1996    discount  \n",
       "75  2019-11-28  1715    discount  \n",
       "76  2019-11-29  1715    discount  \n",
       "\n",
       "[77 rows x 9 columns]"
      ]
     },
     "execution_count": 23,
     "metadata": {},
     "output_type": "execute_result"
    },
    {
     "data": {
      "text/html": [
       "<div>\n",
       "<style scoped>\n",
       "    .dataframe tbody tr th:only-of-type {\n",
       "        vertical-align: middle;\n",
       "    }\n",
       "\n",
       "    .dataframe tbody tr th {\n",
       "        vertical-align: top;\n",
       "    }\n",
       "\n",
       "    .dataframe thead th {\n",
       "        text-align: right;\n",
       "    }\n",
       "</style>\n",
       "<table border=\"1\" class=\"dataframe\">\n",
       "  <thead>\n",
       "    <tr style=\"text-align: right;\">\n",
       "      <th></th>\n",
       "      <th>index</th>\n",
       "      <th>invoiceno</th>\n",
       "      <th>stockcode</th>\n",
       "      <th>quantity</th>\n",
       "      <th>invoice_dt</th>\n",
       "      <th>unitprice</th>\n",
       "      <th>invoicedate</th>\n",
       "      <th>suid</th>\n",
       "      <th>description</th>\n",
       "    </tr>\n",
       "  </thead>\n",
       "  <tbody>\n",
       "    <tr>\n",
       "      <td>0</td>\n",
       "      <td>273296</td>\n",
       "      <td>536544</td>\n",
       "      <td>dot</td>\n",
       "      <td>1</td>\n",
       "      <td>2018-11-29 14:32:00</td>\n",
       "      <td>569.77</td>\n",
       "      <td>2018-11-29</td>\n",
       "      <td>4472</td>\n",
       "      <td>dotcom postage</td>\n",
       "    </tr>\n",
       "    <tr>\n",
       "      <td>1</td>\n",
       "      <td>273297</td>\n",
       "      <td>536592</td>\n",
       "      <td>dot</td>\n",
       "      <td>1</td>\n",
       "      <td>2018-11-29 17:06:00</td>\n",
       "      <td>607.49</td>\n",
       "      <td>2018-11-29</td>\n",
       "      <td>4472</td>\n",
       "      <td>dotcom postage</td>\n",
       "    </tr>\n",
       "    <tr>\n",
       "      <td>2</td>\n",
       "      <td>273298</td>\n",
       "      <td>536862</td>\n",
       "      <td>dot</td>\n",
       "      <td>1</td>\n",
       "      <td>2018-12-01 11:13:00</td>\n",
       "      <td>254.43</td>\n",
       "      <td>2018-12-01</td>\n",
       "      <td>4472</td>\n",
       "      <td>dotcom postage</td>\n",
       "    </tr>\n",
       "    <tr>\n",
       "      <td>3</td>\n",
       "      <td>273299</td>\n",
       "      <td>536864</td>\n",
       "      <td>dot</td>\n",
       "      <td>1</td>\n",
       "      <td>2018-12-01 11:27:00</td>\n",
       "      <td>121.06</td>\n",
       "      <td>2018-12-01</td>\n",
       "      <td>4472</td>\n",
       "      <td>dotcom postage</td>\n",
       "    </tr>\n",
       "    <tr>\n",
       "      <td>4</td>\n",
       "      <td>273300</td>\n",
       "      <td>536865</td>\n",
       "      <td>dot</td>\n",
       "      <td>1</td>\n",
       "      <td>2018-12-01 11:28:00</td>\n",
       "      <td>498.47</td>\n",
       "      <td>2018-12-01</td>\n",
       "      <td>4472</td>\n",
       "      <td>dotcom postage</td>\n",
       "    </tr>\n",
       "    <tr>\n",
       "      <td>...</td>\n",
       "      <td>...</td>\n",
       "      <td>...</td>\n",
       "      <td>...</td>\n",
       "      <td>...</td>\n",
       "      <td>...</td>\n",
       "      <td>...</td>\n",
       "      <td>...</td>\n",
       "      <td>...</td>\n",
       "      <td>...</td>\n",
       "    </tr>\n",
       "    <tr>\n",
       "      <td>705</td>\n",
       "      <td>274001</td>\n",
       "      <td>581219</td>\n",
       "      <td>dot</td>\n",
       "      <td>1</td>\n",
       "      <td>2019-12-06 09:28:00</td>\n",
       "      <td>1008.96</td>\n",
       "      <td>2019-12-06</td>\n",
       "      <td>4472</td>\n",
       "      <td>dotcom postage</td>\n",
       "    </tr>\n",
       "    <tr>\n",
       "      <td>706</td>\n",
       "      <td>274002</td>\n",
       "      <td>581238</td>\n",
       "      <td>dot</td>\n",
       "      <td>1</td>\n",
       "      <td>2019-12-06 10:53:00</td>\n",
       "      <td>1683.75</td>\n",
       "      <td>2019-12-06</td>\n",
       "      <td>4472</td>\n",
       "      <td>dotcom postage</td>\n",
       "    </tr>\n",
       "    <tr>\n",
       "      <td>707</td>\n",
       "      <td>274003</td>\n",
       "      <td>581439</td>\n",
       "      <td>dot</td>\n",
       "      <td>1</td>\n",
       "      <td>2019-12-06 16:30:00</td>\n",
       "      <td>938.59</td>\n",
       "      <td>2019-12-06</td>\n",
       "      <td>4472</td>\n",
       "      <td>dotcom postage</td>\n",
       "    </tr>\n",
       "    <tr>\n",
       "      <td>708</td>\n",
       "      <td>274004</td>\n",
       "      <td>581492</td>\n",
       "      <td>dot</td>\n",
       "      <td>1</td>\n",
       "      <td>2019-12-07 10:03:00</td>\n",
       "      <td>933.17</td>\n",
       "      <td>2019-12-07</td>\n",
       "      <td>4472</td>\n",
       "      <td>dotcom postage</td>\n",
       "    </tr>\n",
       "    <tr>\n",
       "      <td>709</td>\n",
       "      <td>274005</td>\n",
       "      <td>581498</td>\n",
       "      <td>dot</td>\n",
       "      <td>1</td>\n",
       "      <td>2019-12-07 10:26:00</td>\n",
       "      <td>1714.17</td>\n",
       "      <td>2019-12-07</td>\n",
       "      <td>4472</td>\n",
       "      <td>dotcom postage</td>\n",
       "    </tr>\n",
       "  </tbody>\n",
       "</table>\n",
       "<p>710 rows × 9 columns</p>\n",
       "</div>"
      ],
      "text/plain": [
       "      index invoiceno stockcode  quantity          invoice_dt  unitprice  \\\n",
       "0    273296    536544       dot         1 2018-11-29 14:32:00     569.77   \n",
       "1    273297    536592       dot         1 2018-11-29 17:06:00     607.49   \n",
       "2    273298    536862       dot         1 2018-12-01 11:13:00     254.43   \n",
       "3    273299    536864       dot         1 2018-12-01 11:27:00     121.06   \n",
       "4    273300    536865       dot         1 2018-12-01 11:28:00     498.47   \n",
       "..      ...       ...       ...       ...                 ...        ...   \n",
       "705  274001    581219       dot         1 2019-12-06 09:28:00    1008.96   \n",
       "706  274002    581238       dot         1 2019-12-06 10:53:00    1683.75   \n",
       "707  274003    581439       dot         1 2019-12-06 16:30:00     938.59   \n",
       "708  274004    581492       dot         1 2019-12-07 10:03:00     933.17   \n",
       "709  274005    581498       dot         1 2019-12-07 10:26:00    1714.17   \n",
       "\n",
       "    invoicedate  suid     description  \n",
       "0    2018-11-29  4472  dotcom postage  \n",
       "1    2018-11-29  4472  dotcom postage  \n",
       "2    2018-12-01  4472  dotcom postage  \n",
       "3    2018-12-01  4472  dotcom postage  \n",
       "4    2018-12-01  4472  dotcom postage  \n",
       "..          ...   ...             ...  \n",
       "705  2019-12-06  4472  dotcom postage  \n",
       "706  2019-12-06  4472  dotcom postage  \n",
       "707  2019-12-06  4472  dotcom postage  \n",
       "708  2019-12-07  4472  dotcom postage  \n",
       "709  2019-12-07  4472  dotcom postage  \n",
       "\n",
       "[710 rows x 9 columns]"
      ]
     },
     "execution_count": 23,
     "metadata": {},
     "output_type": "execute_result"
    },
    {
     "data": {
      "text/html": [
       "<div>\n",
       "<style scoped>\n",
       "    .dataframe tbody tr th:only-of-type {\n",
       "        vertical-align: middle;\n",
       "    }\n",
       "\n",
       "    .dataframe tbody tr th {\n",
       "        vertical-align: top;\n",
       "    }\n",
       "\n",
       "    .dataframe thead th {\n",
       "        text-align: right;\n",
       "    }\n",
       "</style>\n",
       "<table border=\"1\" class=\"dataframe\">\n",
       "  <thead>\n",
       "    <tr style=\"text-align: right;\">\n",
       "      <th></th>\n",
       "      <th>index</th>\n",
       "      <th>invoiceno</th>\n",
       "      <th>stockcode</th>\n",
       "      <th>quantity</th>\n",
       "      <th>invoice_dt</th>\n",
       "      <th>unitprice</th>\n",
       "      <th>invoicedate</th>\n",
       "      <th>suid</th>\n",
       "      <th>description</th>\n",
       "    </tr>\n",
       "  </thead>\n",
       "  <tbody>\n",
       "    <tr>\n",
       "      <td>0</td>\n",
       "      <td>300435</td>\n",
       "      <td>536569</td>\n",
       "      <td>m</td>\n",
       "      <td>1</td>\n",
       "      <td>2018-11-29 15:35:00</td>\n",
       "      <td>1.25</td>\n",
       "      <td>2018-11-29</td>\n",
       "      <td>3007</td>\n",
       "      <td>manual</td>\n",
       "    </tr>\n",
       "    <tr>\n",
       "      <td>1</td>\n",
       "      <td>300436</td>\n",
       "      <td>536569</td>\n",
       "      <td>m</td>\n",
       "      <td>1</td>\n",
       "      <td>2018-11-29 15:35:00</td>\n",
       "      <td>18.95</td>\n",
       "      <td>2018-11-29</td>\n",
       "      <td>3007</td>\n",
       "      <td>manual</td>\n",
       "    </tr>\n",
       "    <tr>\n",
       "      <td>2</td>\n",
       "      <td>300437</td>\n",
       "      <td>536865</td>\n",
       "      <td>m</td>\n",
       "      <td>1</td>\n",
       "      <td>2018-12-01 11:28:00</td>\n",
       "      <td>2.55</td>\n",
       "      <td>2018-12-01</td>\n",
       "      <td>4472</td>\n",
       "      <td>manual</td>\n",
       "    </tr>\n",
       "    <tr>\n",
       "      <td>3</td>\n",
       "      <td>300438</td>\n",
       "      <td>536981</td>\n",
       "      <td>m</td>\n",
       "      <td>2</td>\n",
       "      <td>2018-12-01 14:26:00</td>\n",
       "      <td>0.85</td>\n",
       "      <td>2018-12-01</td>\n",
       "      <td>1861</td>\n",
       "      <td>manual</td>\n",
       "    </tr>\n",
       "    <tr>\n",
       "      <td>4</td>\n",
       "      <td>300439</td>\n",
       "      <td>537077</td>\n",
       "      <td>m</td>\n",
       "      <td>12</td>\n",
       "      <td>2018-12-03 11:59:00</td>\n",
       "      <td>0.42</td>\n",
       "      <td>2018-12-03</td>\n",
       "      <td>3584</td>\n",
       "      <td>manual</td>\n",
       "    </tr>\n",
       "    <tr>\n",
       "      <td>...</td>\n",
       "      <td>...</td>\n",
       "      <td>...</td>\n",
       "      <td>...</td>\n",
       "      <td>...</td>\n",
       "      <td>...</td>\n",
       "      <td>...</td>\n",
       "      <td>...</td>\n",
       "      <td>...</td>\n",
       "      <td>...</td>\n",
       "    </tr>\n",
       "    <tr>\n",
       "      <td>567</td>\n",
       "      <td>301002</td>\n",
       "      <td>580956</td>\n",
       "      <td>m</td>\n",
       "      <td>4</td>\n",
       "      <td>2019-12-04 14:23:00</td>\n",
       "      <td>1.25</td>\n",
       "      <td>2019-12-04</td>\n",
       "      <td>4142</td>\n",
       "      <td>manual</td>\n",
       "    </tr>\n",
       "    <tr>\n",
       "      <td>568</td>\n",
       "      <td>301003</td>\n",
       "      <td>c581009</td>\n",
       "      <td>m</td>\n",
       "      <td>-1</td>\n",
       "      <td>2019-12-05 09:15:00</td>\n",
       "      <td>125.00</td>\n",
       "      <td>2019-12-05</td>\n",
       "      <td>3520</td>\n",
       "      <td>manual</td>\n",
       "    </tr>\n",
       "    <tr>\n",
       "      <td>569</td>\n",
       "      <td>301004</td>\n",
       "      <td>c581145</td>\n",
       "      <td>m</td>\n",
       "      <td>-1</td>\n",
       "      <td>2019-12-05 13:48:00</td>\n",
       "      <td>9.95</td>\n",
       "      <td>2019-12-05</td>\n",
       "      <td>3883</td>\n",
       "      <td>manual</td>\n",
       "    </tr>\n",
       "    <tr>\n",
       "      <td>570</td>\n",
       "      <td>301005</td>\n",
       "      <td>581405</td>\n",
       "      <td>m</td>\n",
       "      <td>3</td>\n",
       "      <td>2019-12-06 13:50:00</td>\n",
       "      <td>0.42</td>\n",
       "      <td>2019-12-06</td>\n",
       "      <td>989</td>\n",
       "      <td>manual</td>\n",
       "    </tr>\n",
       "    <tr>\n",
       "      <td>571</td>\n",
       "      <td>301006</td>\n",
       "      <td>c581499</td>\n",
       "      <td>m</td>\n",
       "      <td>-1</td>\n",
       "      <td>2019-12-07 10:28:00</td>\n",
       "      <td>224.69</td>\n",
       "      <td>2019-12-07</td>\n",
       "      <td>2429</td>\n",
       "      <td>manual</td>\n",
       "    </tr>\n",
       "  </tbody>\n",
       "</table>\n",
       "<p>572 rows × 9 columns</p>\n",
       "</div>"
      ],
      "text/plain": [
       "      index invoiceno stockcode  quantity          invoice_dt  unitprice  \\\n",
       "0    300435    536569         m         1 2018-11-29 15:35:00       1.25   \n",
       "1    300436    536569         m         1 2018-11-29 15:35:00      18.95   \n",
       "2    300437    536865         m         1 2018-12-01 11:28:00       2.55   \n",
       "3    300438    536981         m         2 2018-12-01 14:26:00       0.85   \n",
       "4    300439    537077         m        12 2018-12-03 11:59:00       0.42   \n",
       "..      ...       ...       ...       ...                 ...        ...   \n",
       "567  301002    580956         m         4 2019-12-04 14:23:00       1.25   \n",
       "568  301003   c581009         m        -1 2019-12-05 09:15:00     125.00   \n",
       "569  301004   c581145         m        -1 2019-12-05 13:48:00       9.95   \n",
       "570  301005    581405         m         3 2019-12-06 13:50:00       0.42   \n",
       "571  301006   c581499         m        -1 2019-12-07 10:28:00     224.69   \n",
       "\n",
       "    invoicedate  suid description  \n",
       "0    2018-11-29  3007      manual  \n",
       "1    2018-11-29  3007      manual  \n",
       "2    2018-12-01  4472      manual  \n",
       "3    2018-12-01  1861      manual  \n",
       "4    2018-12-03  3584      manual  \n",
       "..          ...   ...         ...  \n",
       "567  2019-12-04  4142      manual  \n",
       "568  2019-12-05  3520      manual  \n",
       "569  2019-12-05  3883      manual  \n",
       "570  2019-12-06   989      manual  \n",
       "571  2019-12-07  2429      manual  \n",
       "\n",
       "[572 rows x 9 columns]"
      ]
     },
     "execution_count": 23,
     "metadata": {},
     "output_type": "execute_result"
    },
    {
     "data": {
      "text/html": [
       "<div>\n",
       "<style scoped>\n",
       "    .dataframe tbody tr th:only-of-type {\n",
       "        vertical-align: middle;\n",
       "    }\n",
       "\n",
       "    .dataframe tbody tr th {\n",
       "        vertical-align: top;\n",
       "    }\n",
       "\n",
       "    .dataframe thead th {\n",
       "        text-align: right;\n",
       "    }\n",
       "</style>\n",
       "<table border=\"1\" class=\"dataframe\">\n",
       "  <thead>\n",
       "    <tr style=\"text-align: right;\">\n",
       "      <th></th>\n",
       "      <th>index</th>\n",
       "      <th>invoiceno</th>\n",
       "      <th>stockcode</th>\n",
       "      <th>quantity</th>\n",
       "      <th>invoice_dt</th>\n",
       "      <th>unitprice</th>\n",
       "      <th>invoicedate</th>\n",
       "      <th>suid</th>\n",
       "      <th>description</th>\n",
       "    </tr>\n",
       "  </thead>\n",
       "  <tbody>\n",
       "    <tr>\n",
       "      <td>0</td>\n",
       "      <td>356250</td>\n",
       "      <td>536779</td>\n",
       "      <td>bank charges</td>\n",
       "      <td>1</td>\n",
       "      <td>2018-11-30 15:08:00</td>\n",
       "      <td>15.000</td>\n",
       "      <td>2018-11-30</td>\n",
       "      <td>2678</td>\n",
       "      <td>bank charges</td>\n",
       "    </tr>\n",
       "    <tr>\n",
       "      <td>1</td>\n",
       "      <td>356251</td>\n",
       "      <td>c537572</td>\n",
       "      <td>bank charges</td>\n",
       "      <td>-1</td>\n",
       "      <td>2018-12-05 12:00:00</td>\n",
       "      <td>95.380</td>\n",
       "      <td>2018-12-05</td>\n",
       "      <td>4472</td>\n",
       "      <td>bank charges</td>\n",
       "    </tr>\n",
       "    <tr>\n",
       "      <td>2</td>\n",
       "      <td>356252</td>\n",
       "      <td>c538680</td>\n",
       "      <td>bank charges</td>\n",
       "      <td>-1</td>\n",
       "      <td>2018-12-11 17:10:00</td>\n",
       "      <td>966.920</td>\n",
       "      <td>2018-12-11</td>\n",
       "      <td>4472</td>\n",
       "      <td>bank charges</td>\n",
       "    </tr>\n",
       "    <tr>\n",
       "      <td>3</td>\n",
       "      <td>356253</td>\n",
       "      <td>541505</td>\n",
       "      <td>bank charges</td>\n",
       "      <td>1</td>\n",
       "      <td>2019-01-16 15:58:00</td>\n",
       "      <td>15.000</td>\n",
       "      <td>2019-01-16</td>\n",
       "      <td>2757</td>\n",
       "      <td>bank charges</td>\n",
       "    </tr>\n",
       "    <tr>\n",
       "      <td>4</td>\n",
       "      <td>356254</td>\n",
       "      <td>c541653</td>\n",
       "      <td>bank charges</td>\n",
       "      <td>-1</td>\n",
       "      <td>2019-01-18 11:50:00</td>\n",
       "      <td>1050.150</td>\n",
       "      <td>2019-01-18</td>\n",
       "      <td>4472</td>\n",
       "      <td>bank charges</td>\n",
       "    </tr>\n",
       "    <tr>\n",
       "      <td>5</td>\n",
       "      <td>356255</td>\n",
       "      <td>c544049</td>\n",
       "      <td>bank charges</td>\n",
       "      <td>-1</td>\n",
       "      <td>2019-02-13 12:39:00</td>\n",
       "      <td>566.370</td>\n",
       "      <td>2019-02-13</td>\n",
       "      <td>4472</td>\n",
       "      <td>bank charges</td>\n",
       "    </tr>\n",
       "    <tr>\n",
       "      <td>6</td>\n",
       "      <td>356256</td>\n",
       "      <td>c544575</td>\n",
       "      <td>bank charges</td>\n",
       "      <td>-1</td>\n",
       "      <td>2019-02-19 13:58:00</td>\n",
       "      <td>134.760</td>\n",
       "      <td>2019-02-19</td>\n",
       "      <td>4472</td>\n",
       "      <td>bank charges</td>\n",
       "    </tr>\n",
       "    <tr>\n",
       "      <td>7</td>\n",
       "      <td>356257</td>\n",
       "      <td>c544576</td>\n",
       "      <td>bank charges</td>\n",
       "      <td>-1</td>\n",
       "      <td>2019-02-19 14:01:00</td>\n",
       "      <td>149.160</td>\n",
       "      <td>2019-02-19</td>\n",
       "      <td>4472</td>\n",
       "      <td>bank charges</td>\n",
       "    </tr>\n",
       "    <tr>\n",
       "      <td>8</td>\n",
       "      <td>356258</td>\n",
       "      <td>c544584</td>\n",
       "      <td>bank charges</td>\n",
       "      <td>-1</td>\n",
       "      <td>2019-02-19 14:52:00</td>\n",
       "      <td>109.840</td>\n",
       "      <td>2019-02-19</td>\n",
       "      <td>4472</td>\n",
       "      <td>bank charges</td>\n",
       "    </tr>\n",
       "    <tr>\n",
       "      <td>9</td>\n",
       "      <td>356259</td>\n",
       "      <td>c545887</td>\n",
       "      <td>bank charges</td>\n",
       "      <td>-1</td>\n",
       "      <td>2019-03-05 15:54:00</td>\n",
       "      <td>326.680</td>\n",
       "      <td>2019-03-05</td>\n",
       "      <td>4472</td>\n",
       "      <td>bank charges</td>\n",
       "    </tr>\n",
       "    <tr>\n",
       "      <td>10</td>\n",
       "      <td>356260</td>\n",
       "      <td>c546943</td>\n",
       "      <td>bank charges</td>\n",
       "      <td>-1</td>\n",
       "      <td>2019-03-16 11:11:00</td>\n",
       "      <td>56.930</td>\n",
       "      <td>2019-03-16</td>\n",
       "      <td>4472</td>\n",
       "      <td>bank charges</td>\n",
       "    </tr>\n",
       "    <tr>\n",
       "      <td>11</td>\n",
       "      <td>356261</td>\n",
       "      <td>549717</td>\n",
       "      <td>bank charges</td>\n",
       "      <td>1</td>\n",
       "      <td>2019-04-09 14:56:00</td>\n",
       "      <td>15.000</td>\n",
       "      <td>2019-04-09</td>\n",
       "      <td>1774</td>\n",
       "      <td>bank charges</td>\n",
       "    </tr>\n",
       "    <tr>\n",
       "      <td>12</td>\n",
       "      <td>356262</td>\n",
       "      <td>c550932</td>\n",
       "      <td>bank charges</td>\n",
       "      <td>-1</td>\n",
       "      <td>2019-04-19 15:12:00</td>\n",
       "      <td>475.690</td>\n",
       "      <td>2019-04-19</td>\n",
       "      <td>4472</td>\n",
       "      <td>bank charges</td>\n",
       "    </tr>\n",
       "    <tr>\n",
       "      <td>13</td>\n",
       "      <td>356263</td>\n",
       "      <td>551945</td>\n",
       "      <td>bank charges</td>\n",
       "      <td>1</td>\n",
       "      <td>2019-05-03 11:09:00</td>\n",
       "      <td>15.000</td>\n",
       "      <td>2019-05-03</td>\n",
       "      <td>3323</td>\n",
       "      <td>bank charges</td>\n",
       "    </tr>\n",
       "    <tr>\n",
       "      <td>14</td>\n",
       "      <td>356264</td>\n",
       "      <td>c552458</td>\n",
       "      <td>bank charges</td>\n",
       "      <td>-1</td>\n",
       "      <td>2019-05-07 14:41:00</td>\n",
       "      <td>440.290</td>\n",
       "      <td>2019-05-07</td>\n",
       "      <td>4472</td>\n",
       "      <td>bank charges</td>\n",
       "    </tr>\n",
       "    <tr>\n",
       "      <td>15</td>\n",
       "      <td>356265</td>\n",
       "      <td>c553511</td>\n",
       "      <td>bank charges</td>\n",
       "      <td>-1</td>\n",
       "      <td>2019-05-15 13:49:00</td>\n",
       "      <td>86.900</td>\n",
       "      <td>2019-05-15</td>\n",
       "      <td>4472</td>\n",
       "      <td>bank charges</td>\n",
       "    </tr>\n",
       "    <tr>\n",
       "      <td>16</td>\n",
       "      <td>356266</td>\n",
       "      <td>c553528</td>\n",
       "      <td>bank charges</td>\n",
       "      <td>-1</td>\n",
       "      <td>2019-05-15 14:58:00</td>\n",
       "      <td>82.730</td>\n",
       "      <td>2019-05-15</td>\n",
       "      <td>4472</td>\n",
       "      <td>bank charges</td>\n",
       "    </tr>\n",
       "    <tr>\n",
       "      <td>17</td>\n",
       "      <td>356267</td>\n",
       "      <td>c556874</td>\n",
       "      <td>bank charges</td>\n",
       "      <td>-1</td>\n",
       "      <td>2019-06-13 11:49:00</td>\n",
       "      <td>464.520</td>\n",
       "      <td>2019-06-13</td>\n",
       "      <td>4472</td>\n",
       "      <td>bank charges</td>\n",
       "    </tr>\n",
       "    <tr>\n",
       "      <td>18</td>\n",
       "      <td>356268</td>\n",
       "      <td>c558349</td>\n",
       "      <td>bank charges</td>\n",
       "      <td>-1</td>\n",
       "      <td>2019-06-26 14:50:00</td>\n",
       "      <td>82.890</td>\n",
       "      <td>2019-06-26</td>\n",
       "      <td>4472</td>\n",
       "      <td>bank charges</td>\n",
       "    </tr>\n",
       "    <tr>\n",
       "      <td>19</td>\n",
       "      <td>356269</td>\n",
       "      <td>c560823</td>\n",
       "      <td>bank charges</td>\n",
       "      <td>-1</td>\n",
       "      <td>2019-07-19 11:22:00</td>\n",
       "      <td>21.900</td>\n",
       "      <td>2019-07-19</td>\n",
       "      <td>4472</td>\n",
       "      <td>bank charges</td>\n",
       "    </tr>\n",
       "    <tr>\n",
       "      <td>20</td>\n",
       "      <td>356270</td>\n",
       "      <td>c563535</td>\n",
       "      <td>bank charges</td>\n",
       "      <td>-1</td>\n",
       "      <td>2019-08-15 11:38:00</td>\n",
       "      <td>612.460</td>\n",
       "      <td>2019-08-15</td>\n",
       "      <td>4472</td>\n",
       "      <td>bank charges</td>\n",
       "    </tr>\n",
       "    <tr>\n",
       "      <td>21</td>\n",
       "      <td>356271</td>\n",
       "      <td>c564494</td>\n",
       "      <td>bank charges</td>\n",
       "      <td>-1</td>\n",
       "      <td>2019-08-23 14:20:00</td>\n",
       "      <td>83.830</td>\n",
       "      <td>2019-08-23</td>\n",
       "      <td>4472</td>\n",
       "      <td>bank charges</td>\n",
       "    </tr>\n",
       "    <tr>\n",
       "      <td>22</td>\n",
       "      <td>356272</td>\n",
       "      <td>c564498</td>\n",
       "      <td>bank charges</td>\n",
       "      <td>-1</td>\n",
       "      <td>2019-08-23 14:22:00</td>\n",
       "      <td>77.630</td>\n",
       "      <td>2019-08-23</td>\n",
       "      <td>4472</td>\n",
       "      <td>bank charges</td>\n",
       "    </tr>\n",
       "    <tr>\n",
       "      <td>23</td>\n",
       "      <td>356273</td>\n",
       "      <td>565735</td>\n",
       "      <td>bank charges</td>\n",
       "      <td>1</td>\n",
       "      <td>2019-09-04 12:25:00</td>\n",
       "      <td>15.000</td>\n",
       "      <td>2019-09-04</td>\n",
       "      <td>3468</td>\n",
       "      <td>bank charges</td>\n",
       "    </tr>\n",
       "    <tr>\n",
       "      <td>24</td>\n",
       "      <td>356274</td>\n",
       "      <td>c567136</td>\n",
       "      <td>bank charges</td>\n",
       "      <td>-1</td>\n",
       "      <td>2019-09-14 14:27:00</td>\n",
       "      <td>366.270</td>\n",
       "      <td>2019-09-14</td>\n",
       "      <td>4472</td>\n",
       "      <td>bank charges</td>\n",
       "    </tr>\n",
       "    <tr>\n",
       "      <td>25</td>\n",
       "      <td>356275</td>\n",
       "      <td>568375</td>\n",
       "      <td>bank charges</td>\n",
       "      <td>1</td>\n",
       "      <td>2019-09-24 17:01:00</td>\n",
       "      <td>15.000</td>\n",
       "      <td>2019-09-24</td>\n",
       "      <td>902</td>\n",
       "      <td>bank charges</td>\n",
       "    </tr>\n",
       "    <tr>\n",
       "      <td>26</td>\n",
       "      <td>356276</td>\n",
       "      <td>568375</td>\n",
       "      <td>bank charges</td>\n",
       "      <td>1</td>\n",
       "      <td>2019-09-24 17:01:00</td>\n",
       "      <td>0.001</td>\n",
       "      <td>2019-09-24</td>\n",
       "      <td>902</td>\n",
       "      <td>bank charges</td>\n",
       "    </tr>\n",
       "    <tr>\n",
       "      <td>27</td>\n",
       "      <td>356277</td>\n",
       "      <td>c570454</td>\n",
       "      <td>bank charges</td>\n",
       "      <td>-1</td>\n",
       "      <td>2019-10-08 15:21:00</td>\n",
       "      <td>472.770</td>\n",
       "      <td>2019-10-08</td>\n",
       "      <td>4472</td>\n",
       "      <td>bank charges</td>\n",
       "    </tr>\n",
       "    <tr>\n",
       "      <td>28</td>\n",
       "      <td>356278</td>\n",
       "      <td>c570463</td>\n",
       "      <td>bank charges</td>\n",
       "      <td>-1</td>\n",
       "      <td>2019-10-08 15:59:00</td>\n",
       "      <td>49.650</td>\n",
       "      <td>2019-10-08</td>\n",
       "      <td>4472</td>\n",
       "      <td>bank charges</td>\n",
       "    </tr>\n",
       "    <tr>\n",
       "      <td>29</td>\n",
       "      <td>356279</td>\n",
       "      <td>571900</td>\n",
       "      <td>bank charges</td>\n",
       "      <td>1</td>\n",
       "      <td>2019-10-17 14:26:00</td>\n",
       "      <td>15.000</td>\n",
       "      <td>2019-10-17</td>\n",
       "      <td>798</td>\n",
       "      <td>bank charges</td>\n",
       "    </tr>\n",
       "    <tr>\n",
       "      <td>30</td>\n",
       "      <td>356280</td>\n",
       "      <td>c572346</td>\n",
       "      <td>bank charges</td>\n",
       "      <td>-1</td>\n",
       "      <td>2019-10-22 10:58:00</td>\n",
       "      <td>49.650</td>\n",
       "      <td>2019-10-22</td>\n",
       "      <td>4472</td>\n",
       "      <td>bank charges</td>\n",
       "    </tr>\n",
       "    <tr>\n",
       "      <td>31</td>\n",
       "      <td>356281</td>\n",
       "      <td>573586</td>\n",
       "      <td>bank charges</td>\n",
       "      <td>1</td>\n",
       "      <td>2019-10-29 14:48:00</td>\n",
       "      <td>15.000</td>\n",
       "      <td>2019-10-29</td>\n",
       "      <td>1847</td>\n",
       "      <td>bank charges</td>\n",
       "    </tr>\n",
       "    <tr>\n",
       "      <td>32</td>\n",
       "      <td>356282</td>\n",
       "      <td>574546</td>\n",
       "      <td>bank charges</td>\n",
       "      <td>1</td>\n",
       "      <td>2019-11-02 14:59:00</td>\n",
       "      <td>15.000</td>\n",
       "      <td>2019-11-02</td>\n",
       "      <td>1076</td>\n",
       "      <td>bank charges</td>\n",
       "    </tr>\n",
       "    <tr>\n",
       "      <td>33</td>\n",
       "      <td>356283</td>\n",
       "      <td>c577342</td>\n",
       "      <td>bank charges</td>\n",
       "      <td>-1</td>\n",
       "      <td>2019-11-16 15:11:00</td>\n",
       "      <td>490.060</td>\n",
       "      <td>2019-11-16</td>\n",
       "      <td>4472</td>\n",
       "      <td>bank charges</td>\n",
       "    </tr>\n",
       "    <tr>\n",
       "      <td>34</td>\n",
       "      <td>356284</td>\n",
       "      <td>c577343</td>\n",
       "      <td>bank charges</td>\n",
       "      <td>-1</td>\n",
       "      <td>2019-11-16 15:13:00</td>\n",
       "      <td>27.210</td>\n",
       "      <td>2019-11-16</td>\n",
       "      <td>4472</td>\n",
       "      <td>bank charges</td>\n",
       "    </tr>\n",
       "    <tr>\n",
       "      <td>35</td>\n",
       "      <td>356285</td>\n",
       "      <td>579137</td>\n",
       "      <td>bank charges</td>\n",
       "      <td>1</td>\n",
       "      <td>2019-11-26 12:51:00</td>\n",
       "      <td>15.000</td>\n",
       "      <td>2019-11-26</td>\n",
       "      <td>1847</td>\n",
       "      <td>bank charges</td>\n",
       "    </tr>\n",
       "    <tr>\n",
       "      <td>36</td>\n",
       "      <td>356286</td>\n",
       "      <td>581127</td>\n",
       "      <td>bank charges</td>\n",
       "      <td>1</td>\n",
       "      <td>2019-12-05 12:45:00</td>\n",
       "      <td>15.000</td>\n",
       "      <td>2019-12-05</td>\n",
       "      <td>3005</td>\n",
       "      <td>bank charges</td>\n",
       "    </tr>\n",
       "  </tbody>\n",
       "</table>\n",
       "</div>"
      ],
      "text/plain": [
       "     index invoiceno     stockcode  quantity          invoice_dt  unitprice  \\\n",
       "0   356250    536779  bank charges         1 2018-11-30 15:08:00     15.000   \n",
       "1   356251   c537572  bank charges        -1 2018-12-05 12:00:00     95.380   \n",
       "2   356252   c538680  bank charges        -1 2018-12-11 17:10:00    966.920   \n",
       "3   356253    541505  bank charges         1 2019-01-16 15:58:00     15.000   \n",
       "4   356254   c541653  bank charges        -1 2019-01-18 11:50:00   1050.150   \n",
       "5   356255   c544049  bank charges        -1 2019-02-13 12:39:00    566.370   \n",
       "6   356256   c544575  bank charges        -1 2019-02-19 13:58:00    134.760   \n",
       "7   356257   c544576  bank charges        -1 2019-02-19 14:01:00    149.160   \n",
       "8   356258   c544584  bank charges        -1 2019-02-19 14:52:00    109.840   \n",
       "9   356259   c545887  bank charges        -1 2019-03-05 15:54:00    326.680   \n",
       "10  356260   c546943  bank charges        -1 2019-03-16 11:11:00     56.930   \n",
       "11  356261    549717  bank charges         1 2019-04-09 14:56:00     15.000   \n",
       "12  356262   c550932  bank charges        -1 2019-04-19 15:12:00    475.690   \n",
       "13  356263    551945  bank charges         1 2019-05-03 11:09:00     15.000   \n",
       "14  356264   c552458  bank charges        -1 2019-05-07 14:41:00    440.290   \n",
       "15  356265   c553511  bank charges        -1 2019-05-15 13:49:00     86.900   \n",
       "16  356266   c553528  bank charges        -1 2019-05-15 14:58:00     82.730   \n",
       "17  356267   c556874  bank charges        -1 2019-06-13 11:49:00    464.520   \n",
       "18  356268   c558349  bank charges        -1 2019-06-26 14:50:00     82.890   \n",
       "19  356269   c560823  bank charges        -1 2019-07-19 11:22:00     21.900   \n",
       "20  356270   c563535  bank charges        -1 2019-08-15 11:38:00    612.460   \n",
       "21  356271   c564494  bank charges        -1 2019-08-23 14:20:00     83.830   \n",
       "22  356272   c564498  bank charges        -1 2019-08-23 14:22:00     77.630   \n",
       "23  356273    565735  bank charges         1 2019-09-04 12:25:00     15.000   \n",
       "24  356274   c567136  bank charges        -1 2019-09-14 14:27:00    366.270   \n",
       "25  356275    568375  bank charges         1 2019-09-24 17:01:00     15.000   \n",
       "26  356276    568375  bank charges         1 2019-09-24 17:01:00      0.001   \n",
       "27  356277   c570454  bank charges        -1 2019-10-08 15:21:00    472.770   \n",
       "28  356278   c570463  bank charges        -1 2019-10-08 15:59:00     49.650   \n",
       "29  356279    571900  bank charges         1 2019-10-17 14:26:00     15.000   \n",
       "30  356280   c572346  bank charges        -1 2019-10-22 10:58:00     49.650   \n",
       "31  356281    573586  bank charges         1 2019-10-29 14:48:00     15.000   \n",
       "32  356282    574546  bank charges         1 2019-11-02 14:59:00     15.000   \n",
       "33  356283   c577342  bank charges        -1 2019-11-16 15:11:00    490.060   \n",
       "34  356284   c577343  bank charges        -1 2019-11-16 15:13:00     27.210   \n",
       "35  356285    579137  bank charges         1 2019-11-26 12:51:00     15.000   \n",
       "36  356286    581127  bank charges         1 2019-12-05 12:45:00     15.000   \n",
       "\n",
       "   invoicedate  suid   description  \n",
       "0   2018-11-30  2678  bank charges  \n",
       "1   2018-12-05  4472  bank charges  \n",
       "2   2018-12-11  4472  bank charges  \n",
       "3   2019-01-16  2757  bank charges  \n",
       "4   2019-01-18  4472  bank charges  \n",
       "5   2019-02-13  4472  bank charges  \n",
       "6   2019-02-19  4472  bank charges  \n",
       "7   2019-02-19  4472  bank charges  \n",
       "8   2019-02-19  4472  bank charges  \n",
       "9   2019-03-05  4472  bank charges  \n",
       "10  2019-03-16  4472  bank charges  \n",
       "11  2019-04-09  1774  bank charges  \n",
       "12  2019-04-19  4472  bank charges  \n",
       "13  2019-05-03  3323  bank charges  \n",
       "14  2019-05-07  4472  bank charges  \n",
       "15  2019-05-15  4472  bank charges  \n",
       "16  2019-05-15  4472  bank charges  \n",
       "17  2019-06-13  4472  bank charges  \n",
       "18  2019-06-26  4472  bank charges  \n",
       "19  2019-07-19  4472  bank charges  \n",
       "20  2019-08-15  4472  bank charges  \n",
       "21  2019-08-23  4472  bank charges  \n",
       "22  2019-08-23  4472  bank charges  \n",
       "23  2019-09-04  3468  bank charges  \n",
       "24  2019-09-14  4472  bank charges  \n",
       "25  2019-09-24   902  bank charges  \n",
       "26  2019-09-24   902  bank charges  \n",
       "27  2019-10-08  4472  bank charges  \n",
       "28  2019-10-08  4472  bank charges  \n",
       "29  2019-10-17   798  bank charges  \n",
       "30  2019-10-22  4472  bank charges  \n",
       "31  2019-10-29  1847  bank charges  \n",
       "32  2019-11-02  1076  bank charges  \n",
       "33  2019-11-16  4472  bank charges  \n",
       "34  2019-11-16  4472  bank charges  \n",
       "35  2019-11-26  1847  bank charges  \n",
       "36  2019-12-05  3005  bank charges  "
      ]
     },
     "execution_count": 23,
     "metadata": {},
     "output_type": "execute_result"
    },
    {
     "data": {
      "text/html": [
       "<div>\n",
       "<style scoped>\n",
       "    .dataframe tbody tr th:only-of-type {\n",
       "        vertical-align: middle;\n",
       "    }\n",
       "\n",
       "    .dataframe tbody tr th {\n",
       "        vertical-align: top;\n",
       "    }\n",
       "\n",
       "    .dataframe thead th {\n",
       "        text-align: right;\n",
       "    }\n",
       "</style>\n",
       "<table border=\"1\" class=\"dataframe\">\n",
       "  <thead>\n",
       "    <tr style=\"text-align: right;\">\n",
       "      <th></th>\n",
       "      <th>index</th>\n",
       "      <th>invoiceno</th>\n",
       "      <th>stockcode</th>\n",
       "      <th>quantity</th>\n",
       "      <th>invoice_dt</th>\n",
       "      <th>unitprice</th>\n",
       "      <th>invoicedate</th>\n",
       "      <th>suid</th>\n",
       "      <th>description</th>\n",
       "    </tr>\n",
       "  </thead>\n",
       "  <tbody>\n",
       "    <tr>\n",
       "      <td>0</td>\n",
       "      <td>410100</td>\n",
       "      <td>c537581</td>\n",
       "      <td>s</td>\n",
       "      <td>-1</td>\n",
       "      <td>2018-12-05 12:03:00</td>\n",
       "      <td>12.95</td>\n",
       "      <td>2018-12-05</td>\n",
       "      <td>4472</td>\n",
       "      <td>samples</td>\n",
       "    </tr>\n",
       "    <tr>\n",
       "      <td>1</td>\n",
       "      <td>410101</td>\n",
       "      <td>c537581</td>\n",
       "      <td>s</td>\n",
       "      <td>-1</td>\n",
       "      <td>2018-12-05 12:03:00</td>\n",
       "      <td>52.00</td>\n",
       "      <td>2018-12-05</td>\n",
       "      <td>4472</td>\n",
       "      <td>samples</td>\n",
       "    </tr>\n",
       "    <tr>\n",
       "      <td>2</td>\n",
       "      <td>410102</td>\n",
       "      <td>c544580</td>\n",
       "      <td>s</td>\n",
       "      <td>-1</td>\n",
       "      <td>2019-02-19 14:25:00</td>\n",
       "      <td>5.74</td>\n",
       "      <td>2019-02-19</td>\n",
       "      <td>4472</td>\n",
       "      <td>samples</td>\n",
       "    </tr>\n",
       "    <tr>\n",
       "      <td>3</td>\n",
       "      <td>410103</td>\n",
       "      <td>c544580</td>\n",
       "      <td>s</td>\n",
       "      <td>-1</td>\n",
       "      <td>2019-02-19 14:25:00</td>\n",
       "      <td>11.08</td>\n",
       "      <td>2019-02-19</td>\n",
       "      <td>4472</td>\n",
       "      <td>samples</td>\n",
       "    </tr>\n",
       "    <tr>\n",
       "      <td>4</td>\n",
       "      <td>410104</td>\n",
       "      <td>c544580</td>\n",
       "      <td>s</td>\n",
       "      <td>-1</td>\n",
       "      <td>2019-02-19 14:25:00</td>\n",
       "      <td>5.79</td>\n",
       "      <td>2019-02-19</td>\n",
       "      <td>4472</td>\n",
       "      <td>samples</td>\n",
       "    </tr>\n",
       "    <tr>\n",
       "      <td>...</td>\n",
       "      <td>...</td>\n",
       "      <td>...</td>\n",
       "      <td>...</td>\n",
       "      <td>...</td>\n",
       "      <td>...</td>\n",
       "      <td>...</td>\n",
       "      <td>...</td>\n",
       "      <td>...</td>\n",
       "      <td>...</td>\n",
       "    </tr>\n",
       "    <tr>\n",
       "      <td>58</td>\n",
       "      <td>410158</td>\n",
       "      <td>c572347</td>\n",
       "      <td>s</td>\n",
       "      <td>-1</td>\n",
       "      <td>2019-10-22 11:03:00</td>\n",
       "      <td>33.05</td>\n",
       "      <td>2019-10-22</td>\n",
       "      <td>4472</td>\n",
       "      <td>samples</td>\n",
       "    </tr>\n",
       "    <tr>\n",
       "      <td>59</td>\n",
       "      <td>410159</td>\n",
       "      <td>572849</td>\n",
       "      <td>s</td>\n",
       "      <td>1</td>\n",
       "      <td>2019-10-24 12:20:00</td>\n",
       "      <td>33.05</td>\n",
       "      <td>2019-10-24</td>\n",
       "      <td>4472</td>\n",
       "      <td>samples</td>\n",
       "    </tr>\n",
       "    <tr>\n",
       "      <td>60</td>\n",
       "      <td>410160</td>\n",
       "      <td>c577330</td>\n",
       "      <td>s</td>\n",
       "      <td>-1</td>\n",
       "      <td>2019-11-16 14:16:00</td>\n",
       "      <td>2.89</td>\n",
       "      <td>2019-11-16</td>\n",
       "      <td>4472</td>\n",
       "      <td>samples</td>\n",
       "    </tr>\n",
       "    <tr>\n",
       "      <td>61</td>\n",
       "      <td>410161</td>\n",
       "      <td>c577330</td>\n",
       "      <td>s</td>\n",
       "      <td>-1</td>\n",
       "      <td>2019-11-16 14:16:00</td>\n",
       "      <td>75.00</td>\n",
       "      <td>2019-11-16</td>\n",
       "      <td>4472</td>\n",
       "      <td>samples</td>\n",
       "    </tr>\n",
       "    <tr>\n",
       "      <td>62</td>\n",
       "      <td>410162</td>\n",
       "      <td>c577330</td>\n",
       "      <td>s</td>\n",
       "      <td>-1</td>\n",
       "      <td>2019-11-16 14:16:00</td>\n",
       "      <td>5.99</td>\n",
       "      <td>2019-11-16</td>\n",
       "      <td>4472</td>\n",
       "      <td>samples</td>\n",
       "    </tr>\n",
       "  </tbody>\n",
       "</table>\n",
       "<p>63 rows × 9 columns</p>\n",
       "</div>"
      ],
      "text/plain": [
       "     index invoiceno stockcode  quantity          invoice_dt  unitprice  \\\n",
       "0   410100   c537581         s        -1 2018-12-05 12:03:00      12.95   \n",
       "1   410101   c537581         s        -1 2018-12-05 12:03:00      52.00   \n",
       "2   410102   c544580         s        -1 2019-02-19 14:25:00       5.74   \n",
       "3   410103   c544580         s        -1 2019-02-19 14:25:00      11.08   \n",
       "4   410104   c544580         s        -1 2019-02-19 14:25:00       5.79   \n",
       "..     ...       ...       ...       ...                 ...        ...   \n",
       "58  410158   c572347         s        -1 2019-10-22 11:03:00      33.05   \n",
       "59  410159    572849         s         1 2019-10-24 12:20:00      33.05   \n",
       "60  410160   c577330         s        -1 2019-11-16 14:16:00       2.89   \n",
       "61  410161   c577330         s        -1 2019-11-16 14:16:00      75.00   \n",
       "62  410162   c577330         s        -1 2019-11-16 14:16:00       5.99   \n",
       "\n",
       "   invoicedate  suid description  \n",
       "0   2018-12-05  4472     samples  \n",
       "1   2018-12-05  4472     samples  \n",
       "2   2019-02-19  4472     samples  \n",
       "3   2019-02-19  4472     samples  \n",
       "4   2019-02-19  4472     samples  \n",
       "..         ...   ...         ...  \n",
       "58  2019-10-22  4472     samples  \n",
       "59  2019-10-24  4472     samples  \n",
       "60  2019-11-16  4472     samples  \n",
       "61  2019-11-16  4472     samples  \n",
       "62  2019-11-16  4472     samples  \n",
       "\n",
       "[63 rows x 9 columns]"
      ]
     },
     "execution_count": 23,
     "metadata": {},
     "output_type": "execute_result"
    },
    {
     "data": {
      "text/html": [
       "<div>\n",
       "<style scoped>\n",
       "    .dataframe tbody tr th:only-of-type {\n",
       "        vertical-align: middle;\n",
       "    }\n",
       "\n",
       "    .dataframe tbody tr th {\n",
       "        vertical-align: top;\n",
       "    }\n",
       "\n",
       "    .dataframe thead th {\n",
       "        text-align: right;\n",
       "    }\n",
       "</style>\n",
       "<table border=\"1\" class=\"dataframe\">\n",
       "  <thead>\n",
       "    <tr style=\"text-align: right;\">\n",
       "      <th></th>\n",
       "      <th>index</th>\n",
       "      <th>invoiceno</th>\n",
       "      <th>stockcode</th>\n",
       "      <th>quantity</th>\n",
       "      <th>invoice_dt</th>\n",
       "      <th>unitprice</th>\n",
       "      <th>invoicedate</th>\n",
       "      <th>suid</th>\n",
       "      <th>description</th>\n",
       "    </tr>\n",
       "  </thead>\n",
       "  <tbody>\n",
       "    <tr>\n",
       "      <td>0</td>\n",
       "      <td>410219</td>\n",
       "      <td>c537600</td>\n",
       "      <td>amazonfee</td>\n",
       "      <td>-1</td>\n",
       "      <td>2018-12-05 12:41:00</td>\n",
       "      <td>1.00</td>\n",
       "      <td>2018-12-05</td>\n",
       "      <td>4472</td>\n",
       "      <td>amazon fee</td>\n",
       "    </tr>\n",
       "    <tr>\n",
       "      <td>1</td>\n",
       "      <td>410220</td>\n",
       "      <td>c537630</td>\n",
       "      <td>amazonfee</td>\n",
       "      <td>-1</td>\n",
       "      <td>2018-12-05 15:04:00</td>\n",
       "      <td>13541.33</td>\n",
       "      <td>2018-12-05</td>\n",
       "      <td>4472</td>\n",
       "      <td>amazon fee</td>\n",
       "    </tr>\n",
       "    <tr>\n",
       "      <td>2</td>\n",
       "      <td>410221</td>\n",
       "      <td>537632</td>\n",
       "      <td>amazonfee</td>\n",
       "      <td>1</td>\n",
       "      <td>2018-12-05 15:08:00</td>\n",
       "      <td>13541.33</td>\n",
       "      <td>2018-12-05</td>\n",
       "      <td>4472</td>\n",
       "      <td>amazon fee</td>\n",
       "    </tr>\n",
       "    <tr>\n",
       "      <td>3</td>\n",
       "      <td>410222</td>\n",
       "      <td>c537644</td>\n",
       "      <td>amazonfee</td>\n",
       "      <td>-1</td>\n",
       "      <td>2018-12-05 15:34:00</td>\n",
       "      <td>13474.79</td>\n",
       "      <td>2018-12-05</td>\n",
       "      <td>4472</td>\n",
       "      <td>amazon fee</td>\n",
       "    </tr>\n",
       "    <tr>\n",
       "      <td>4</td>\n",
       "      <td>410223</td>\n",
       "      <td>c537647</td>\n",
       "      <td>amazonfee</td>\n",
       "      <td>-1</td>\n",
       "      <td>2018-12-05 15:41:00</td>\n",
       "      <td>5519.25</td>\n",
       "      <td>2018-12-05</td>\n",
       "      <td>4472</td>\n",
       "      <td>amazon fee</td>\n",
       "    </tr>\n",
       "    <tr>\n",
       "      <td>5</td>\n",
       "      <td>410224</td>\n",
       "      <td>c537651</td>\n",
       "      <td>amazonfee</td>\n",
       "      <td>-1</td>\n",
       "      <td>2018-12-05 15:49:00</td>\n",
       "      <td>13541.33</td>\n",
       "      <td>2018-12-05</td>\n",
       "      <td>4472</td>\n",
       "      <td>amazon fee</td>\n",
       "    </tr>\n",
       "    <tr>\n",
       "      <td>6</td>\n",
       "      <td>410225</td>\n",
       "      <td>c537652</td>\n",
       "      <td>amazonfee</td>\n",
       "      <td>-1</td>\n",
       "      <td>2018-12-05 15:51:00</td>\n",
       "      <td>6706.71</td>\n",
       "      <td>2018-12-05</td>\n",
       "      <td>4472</td>\n",
       "      <td>amazon fee</td>\n",
       "    </tr>\n",
       "    <tr>\n",
       "      <td>7</td>\n",
       "      <td>410226</td>\n",
       "      <td>c540117</td>\n",
       "      <td>amazonfee</td>\n",
       "      <td>-1</td>\n",
       "      <td>2019-01-03 09:55:00</td>\n",
       "      <td>16888.02</td>\n",
       "      <td>2019-01-03</td>\n",
       "      <td>4472</td>\n",
       "      <td>amazon fee</td>\n",
       "    </tr>\n",
       "    <tr>\n",
       "      <td>8</td>\n",
       "      <td>410227</td>\n",
       "      <td>c540118</td>\n",
       "      <td>amazonfee</td>\n",
       "      <td>-1</td>\n",
       "      <td>2019-01-03 09:57:00</td>\n",
       "      <td>16453.71</td>\n",
       "      <td>2019-01-03</td>\n",
       "      <td>4472</td>\n",
       "      <td>amazon fee</td>\n",
       "    </tr>\n",
       "    <tr>\n",
       "      <td>9</td>\n",
       "      <td>410228</td>\n",
       "      <td>c544587</td>\n",
       "      <td>amazonfee</td>\n",
       "      <td>-1</td>\n",
       "      <td>2019-02-19 15:07:00</td>\n",
       "      <td>5575.28</td>\n",
       "      <td>2019-02-19</td>\n",
       "      <td>4472</td>\n",
       "      <td>amazon fee</td>\n",
       "    </tr>\n",
       "    <tr>\n",
       "      <td>10</td>\n",
       "      <td>410229</td>\n",
       "      <td>c544589</td>\n",
       "      <td>amazonfee</td>\n",
       "      <td>-1</td>\n",
       "      <td>2019-02-19 15:11:00</td>\n",
       "      <td>5258.77</td>\n",
       "      <td>2019-02-19</td>\n",
       "      <td>4472</td>\n",
       "      <td>amazon fee</td>\n",
       "    </tr>\n",
       "    <tr>\n",
       "      <td>11</td>\n",
       "      <td>410230</td>\n",
       "      <td>c546987</td>\n",
       "      <td>amazonfee</td>\n",
       "      <td>-1</td>\n",
       "      <td>2019-03-16 12:56:00</td>\n",
       "      <td>5693.05</td>\n",
       "      <td>2019-03-16</td>\n",
       "      <td>4472</td>\n",
       "      <td>amazon fee</td>\n",
       "    </tr>\n",
       "    <tr>\n",
       "      <td>12</td>\n",
       "      <td>410231</td>\n",
       "      <td>c546989</td>\n",
       "      <td>amazonfee</td>\n",
       "      <td>-1</td>\n",
       "      <td>2019-03-16 12:59:00</td>\n",
       "      <td>5225.03</td>\n",
       "      <td>2019-03-16</td>\n",
       "      <td>4472</td>\n",
       "      <td>amazon fee</td>\n",
       "    </tr>\n",
       "    <tr>\n",
       "      <td>13</td>\n",
       "      <td>410232</td>\n",
       "      <td>547901</td>\n",
       "      <td>amazonfee</td>\n",
       "      <td>1</td>\n",
       "      <td>2019-03-26 11:57:00</td>\n",
       "      <td>219.76</td>\n",
       "      <td>2019-03-26</td>\n",
       "      <td>4472</td>\n",
       "      <td>amazon fee</td>\n",
       "    </tr>\n",
       "    <tr>\n",
       "      <td>14</td>\n",
       "      <td>410233</td>\n",
       "      <td>c547904</td>\n",
       "      <td>amazonfee</td>\n",
       "      <td>-1</td>\n",
       "      <td>2019-03-26 12:02:00</td>\n",
       "      <td>219.76</td>\n",
       "      <td>2019-03-26</td>\n",
       "      <td>4472</td>\n",
       "      <td>amazon fee</td>\n",
       "    </tr>\n",
       "    <tr>\n",
       "      <td>15</td>\n",
       "      <td>410234</td>\n",
       "      <td>c553354</td>\n",
       "      <td>amazonfee</td>\n",
       "      <td>-1</td>\n",
       "      <td>2019-05-14 13:54:00</td>\n",
       "      <td>5876.40</td>\n",
       "      <td>2019-05-14</td>\n",
       "      <td>4472</td>\n",
       "      <td>amazon fee</td>\n",
       "    </tr>\n",
       "    <tr>\n",
       "      <td>16</td>\n",
       "      <td>410235</td>\n",
       "      <td>c553355</td>\n",
       "      <td>amazonfee</td>\n",
       "      <td>-1</td>\n",
       "      <td>2019-05-14 13:58:00</td>\n",
       "      <td>7006.83</td>\n",
       "      <td>2019-05-14</td>\n",
       "      <td>4472</td>\n",
       "      <td>amazon fee</td>\n",
       "    </tr>\n",
       "    <tr>\n",
       "      <td>17</td>\n",
       "      <td>410236</td>\n",
       "      <td>c558036</td>\n",
       "      <td>amazonfee</td>\n",
       "      <td>-1</td>\n",
       "      <td>2019-06-22 12:31:00</td>\n",
       "      <td>5791.18</td>\n",
       "      <td>2019-06-22</td>\n",
       "      <td>4472</td>\n",
       "      <td>amazon fee</td>\n",
       "    </tr>\n",
       "    <tr>\n",
       "      <td>18</td>\n",
       "      <td>410237</td>\n",
       "      <td>c558037</td>\n",
       "      <td>amazonfee</td>\n",
       "      <td>-1</td>\n",
       "      <td>2019-06-22 12:33:00</td>\n",
       "      <td>4534.24</td>\n",
       "      <td>2019-06-22</td>\n",
       "      <td>4472</td>\n",
       "      <td>amazon fee</td>\n",
       "    </tr>\n",
       "    <tr>\n",
       "      <td>19</td>\n",
       "      <td>410238</td>\n",
       "      <td>c559915</td>\n",
       "      <td>amazonfee</td>\n",
       "      <td>-1</td>\n",
       "      <td>2019-07-11 15:18:00</td>\n",
       "      <td>4383.62</td>\n",
       "      <td>2019-07-11</td>\n",
       "      <td>4472</td>\n",
       "      <td>amazon fee</td>\n",
       "    </tr>\n",
       "    <tr>\n",
       "      <td>20</td>\n",
       "      <td>410239</td>\n",
       "      <td>c559917</td>\n",
       "      <td>amazonfee</td>\n",
       "      <td>-1</td>\n",
       "      <td>2019-07-11 15:21:00</td>\n",
       "      <td>6497.47</td>\n",
       "      <td>2019-07-11</td>\n",
       "      <td>4472</td>\n",
       "      <td>amazon fee</td>\n",
       "    </tr>\n",
       "    <tr>\n",
       "      <td>21</td>\n",
       "      <td>410240</td>\n",
       "      <td>c562062</td>\n",
       "      <td>amazonfee</td>\n",
       "      <td>-1</td>\n",
       "      <td>2019-07-31 12:17:00</td>\n",
       "      <td>4575.64</td>\n",
       "      <td>2019-07-31</td>\n",
       "      <td>4472</td>\n",
       "      <td>amazon fee</td>\n",
       "    </tr>\n",
       "    <tr>\n",
       "      <td>22</td>\n",
       "      <td>410241</td>\n",
       "      <td>c562086</td>\n",
       "      <td>amazonfee</td>\n",
       "      <td>-1</td>\n",
       "      <td>2019-07-31 12:27:00</td>\n",
       "      <td>6721.37</td>\n",
       "      <td>2019-07-31</td>\n",
       "      <td>4472</td>\n",
       "      <td>amazon fee</td>\n",
       "    </tr>\n",
       "    <tr>\n",
       "      <td>23</td>\n",
       "      <td>410242</td>\n",
       "      <td>c564340</td>\n",
       "      <td>amazonfee</td>\n",
       "      <td>-1</td>\n",
       "      <td>2019-08-22 14:50:00</td>\n",
       "      <td>4527.65</td>\n",
       "      <td>2019-08-22</td>\n",
       "      <td>4472</td>\n",
       "      <td>amazon fee</td>\n",
       "    </tr>\n",
       "    <tr>\n",
       "      <td>24</td>\n",
       "      <td>410243</td>\n",
       "      <td>c564341</td>\n",
       "      <td>amazonfee</td>\n",
       "      <td>-1</td>\n",
       "      <td>2019-08-22 14:53:00</td>\n",
       "      <td>6662.51</td>\n",
       "      <td>2019-08-22</td>\n",
       "      <td>4472</td>\n",
       "      <td>amazon fee</td>\n",
       "    </tr>\n",
       "    <tr>\n",
       "      <td>25</td>\n",
       "      <td>410244</td>\n",
       "      <td>c566889</td>\n",
       "      <td>amazonfee</td>\n",
       "      <td>-1</td>\n",
       "      <td>2019-09-13 13:50:00</td>\n",
       "      <td>5522.14</td>\n",
       "      <td>2019-09-13</td>\n",
       "      <td>4472</td>\n",
       "      <td>amazon fee</td>\n",
       "    </tr>\n",
       "    <tr>\n",
       "      <td>26</td>\n",
       "      <td>410245</td>\n",
       "      <td>c566899</td>\n",
       "      <td>amazonfee</td>\n",
       "      <td>-1</td>\n",
       "      <td>2019-09-13 13:53:00</td>\n",
       "      <td>7427.97</td>\n",
       "      <td>2019-09-13</td>\n",
       "      <td>4472</td>\n",
       "      <td>amazon fee</td>\n",
       "    </tr>\n",
       "    <tr>\n",
       "      <td>27</td>\n",
       "      <td>410246</td>\n",
       "      <td>c570025</td>\n",
       "      <td>amazonfee</td>\n",
       "      <td>-1</td>\n",
       "      <td>2019-10-05 10:29:00</td>\n",
       "      <td>5942.57</td>\n",
       "      <td>2019-10-05</td>\n",
       "      <td>4472</td>\n",
       "      <td>amazon fee</td>\n",
       "    </tr>\n",
       "    <tr>\n",
       "      <td>28</td>\n",
       "      <td>410247</td>\n",
       "      <td>c573549</td>\n",
       "      <td>amazonfee</td>\n",
       "      <td>-1</td>\n",
       "      <td>2019-10-29 13:23:00</td>\n",
       "      <td>5942.57</td>\n",
       "      <td>2019-10-29</td>\n",
       "      <td>4472</td>\n",
       "      <td>amazon fee</td>\n",
       "    </tr>\n",
       "    <tr>\n",
       "      <td>29</td>\n",
       "      <td>410248</td>\n",
       "      <td>c573550</td>\n",
       "      <td>amazonfee</td>\n",
       "      <td>-1</td>\n",
       "      <td>2019-10-29 13:32:00</td>\n",
       "      <td>2185.04</td>\n",
       "      <td>2019-10-29</td>\n",
       "      <td>4472</td>\n",
       "      <td>amazon fee</td>\n",
       "    </tr>\n",
       "    <tr>\n",
       "      <td>30</td>\n",
       "      <td>410249</td>\n",
       "      <td>c574897</td>\n",
       "      <td>amazonfee</td>\n",
       "      <td>-1</td>\n",
       "      <td>2019-11-05 15:03:00</td>\n",
       "      <td>5877.18</td>\n",
       "      <td>2019-11-05</td>\n",
       "      <td>4472</td>\n",
       "      <td>amazon fee</td>\n",
       "    </tr>\n",
       "    <tr>\n",
       "      <td>31</td>\n",
       "      <td>410250</td>\n",
       "      <td>c574902</td>\n",
       "      <td>amazonfee</td>\n",
       "      <td>-1</td>\n",
       "      <td>2019-11-05 15:21:00</td>\n",
       "      <td>8286.22</td>\n",
       "      <td>2019-11-05</td>\n",
       "      <td>4472</td>\n",
       "      <td>amazon fee</td>\n",
       "    </tr>\n",
       "    <tr>\n",
       "      <td>32</td>\n",
       "      <td>410251</td>\n",
       "      <td>c580604</td>\n",
       "      <td>amazonfee</td>\n",
       "      <td>-1</td>\n",
       "      <td>2019-12-03 11:35:00</td>\n",
       "      <td>11586.50</td>\n",
       "      <td>2019-12-03</td>\n",
       "      <td>4472</td>\n",
       "      <td>amazon fee</td>\n",
       "    </tr>\n",
       "    <tr>\n",
       "      <td>33</td>\n",
       "      <td>410252</td>\n",
       "      <td>c580605</td>\n",
       "      <td>amazonfee</td>\n",
       "      <td>-1</td>\n",
       "      <td>2019-12-03 11:36:00</td>\n",
       "      <td>17836.46</td>\n",
       "      <td>2019-12-03</td>\n",
       "      <td>4472</td>\n",
       "      <td>amazon fee</td>\n",
       "    </tr>\n",
       "  </tbody>\n",
       "</table>\n",
       "</div>"
      ],
      "text/plain": [
       "     index invoiceno  stockcode  quantity          invoice_dt  unitprice  \\\n",
       "0   410219   c537600  amazonfee        -1 2018-12-05 12:41:00       1.00   \n",
       "1   410220   c537630  amazonfee        -1 2018-12-05 15:04:00   13541.33   \n",
       "2   410221    537632  amazonfee         1 2018-12-05 15:08:00   13541.33   \n",
       "3   410222   c537644  amazonfee        -1 2018-12-05 15:34:00   13474.79   \n",
       "4   410223   c537647  amazonfee        -1 2018-12-05 15:41:00    5519.25   \n",
       "5   410224   c537651  amazonfee        -1 2018-12-05 15:49:00   13541.33   \n",
       "6   410225   c537652  amazonfee        -1 2018-12-05 15:51:00    6706.71   \n",
       "7   410226   c540117  amazonfee        -1 2019-01-03 09:55:00   16888.02   \n",
       "8   410227   c540118  amazonfee        -1 2019-01-03 09:57:00   16453.71   \n",
       "9   410228   c544587  amazonfee        -1 2019-02-19 15:07:00    5575.28   \n",
       "10  410229   c544589  amazonfee        -1 2019-02-19 15:11:00    5258.77   \n",
       "11  410230   c546987  amazonfee        -1 2019-03-16 12:56:00    5693.05   \n",
       "12  410231   c546989  amazonfee        -1 2019-03-16 12:59:00    5225.03   \n",
       "13  410232    547901  amazonfee         1 2019-03-26 11:57:00     219.76   \n",
       "14  410233   c547904  amazonfee        -1 2019-03-26 12:02:00     219.76   \n",
       "15  410234   c553354  amazonfee        -1 2019-05-14 13:54:00    5876.40   \n",
       "16  410235   c553355  amazonfee        -1 2019-05-14 13:58:00    7006.83   \n",
       "17  410236   c558036  amazonfee        -1 2019-06-22 12:31:00    5791.18   \n",
       "18  410237   c558037  amazonfee        -1 2019-06-22 12:33:00    4534.24   \n",
       "19  410238   c559915  amazonfee        -1 2019-07-11 15:18:00    4383.62   \n",
       "20  410239   c559917  amazonfee        -1 2019-07-11 15:21:00    6497.47   \n",
       "21  410240   c562062  amazonfee        -1 2019-07-31 12:17:00    4575.64   \n",
       "22  410241   c562086  amazonfee        -1 2019-07-31 12:27:00    6721.37   \n",
       "23  410242   c564340  amazonfee        -1 2019-08-22 14:50:00    4527.65   \n",
       "24  410243   c564341  amazonfee        -1 2019-08-22 14:53:00    6662.51   \n",
       "25  410244   c566889  amazonfee        -1 2019-09-13 13:50:00    5522.14   \n",
       "26  410245   c566899  amazonfee        -1 2019-09-13 13:53:00    7427.97   \n",
       "27  410246   c570025  amazonfee        -1 2019-10-05 10:29:00    5942.57   \n",
       "28  410247   c573549  amazonfee        -1 2019-10-29 13:23:00    5942.57   \n",
       "29  410248   c573550  amazonfee        -1 2019-10-29 13:32:00    2185.04   \n",
       "30  410249   c574897  amazonfee        -1 2019-11-05 15:03:00    5877.18   \n",
       "31  410250   c574902  amazonfee        -1 2019-11-05 15:21:00    8286.22   \n",
       "32  410251   c580604  amazonfee        -1 2019-12-03 11:35:00   11586.50   \n",
       "33  410252   c580605  amazonfee        -1 2019-12-03 11:36:00   17836.46   \n",
       "\n",
       "   invoicedate  suid description  \n",
       "0   2018-12-05  4472  amazon fee  \n",
       "1   2018-12-05  4472  amazon fee  \n",
       "2   2018-12-05  4472  amazon fee  \n",
       "3   2018-12-05  4472  amazon fee  \n",
       "4   2018-12-05  4472  amazon fee  \n",
       "5   2018-12-05  4472  amazon fee  \n",
       "6   2018-12-05  4472  amazon fee  \n",
       "7   2019-01-03  4472  amazon fee  \n",
       "8   2019-01-03  4472  amazon fee  \n",
       "9   2019-02-19  4472  amazon fee  \n",
       "10  2019-02-19  4472  amazon fee  \n",
       "11  2019-03-16  4472  amazon fee  \n",
       "12  2019-03-16  4472  amazon fee  \n",
       "13  2019-03-26  4472  amazon fee  \n",
       "14  2019-03-26  4472  amazon fee  \n",
       "15  2019-05-14  4472  amazon fee  \n",
       "16  2019-05-14  4472  amazon fee  \n",
       "17  2019-06-22  4472  amazon fee  \n",
       "18  2019-06-22  4472  amazon fee  \n",
       "19  2019-07-11  4472  amazon fee  \n",
       "20  2019-07-11  4472  amazon fee  \n",
       "21  2019-07-31  4472  amazon fee  \n",
       "22  2019-07-31  4472  amazon fee  \n",
       "23  2019-08-22  4472  amazon fee  \n",
       "24  2019-08-22  4472  amazon fee  \n",
       "25  2019-09-13  4472  amazon fee  \n",
       "26  2019-09-13  4472  amazon fee  \n",
       "27  2019-10-05  4472  amazon fee  \n",
       "28  2019-10-29  4472  amazon fee  \n",
       "29  2019-10-29  4472  amazon fee  \n",
       "30  2019-11-05  4472  amazon fee  \n",
       "31  2019-11-05  4472  amazon fee  \n",
       "32  2019-12-03  4472  amazon fee  \n",
       "33  2019-12-03  4472  amazon fee  "
      ]
     },
     "execution_count": 23,
     "metadata": {},
     "output_type": "execute_result"
    },
    {
     "data": {
      "text/html": [
       "<div>\n",
       "<style scoped>\n",
       "    .dataframe tbody tr th:only-of-type {\n",
       "        vertical-align: middle;\n",
       "    }\n",
       "\n",
       "    .dataframe tbody tr th {\n",
       "        vertical-align: top;\n",
       "    }\n",
       "\n",
       "    .dataframe thead th {\n",
       "        text-align: right;\n",
       "    }\n",
       "</style>\n",
       "<table border=\"1\" class=\"dataframe\">\n",
       "  <thead>\n",
       "    <tr style=\"text-align: right;\">\n",
       "      <th></th>\n",
       "      <th>index</th>\n",
       "      <th>invoiceno</th>\n",
       "      <th>stockcode</th>\n",
       "      <th>quantity</th>\n",
       "      <th>invoice_dt</th>\n",
       "      <th>unitprice</th>\n",
       "      <th>invoicedate</th>\n",
       "      <th>suid</th>\n",
       "      <th>description</th>\n",
       "    </tr>\n",
       "  </thead>\n",
       "  <tbody>\n",
       "    <tr>\n",
       "      <td>0</td>\n",
       "      <td>434659</td>\n",
       "      <td>539492</td>\n",
       "      <td>gift_0001_40</td>\n",
       "      <td>1</td>\n",
       "      <td>2018-12-18 10:14:00</td>\n",
       "      <td>34.04</td>\n",
       "      <td>2018-12-18</td>\n",
       "      <td>4472</td>\n",
       "      <td>dotcomgiftshop gift voucher £40.00</td>\n",
       "    </tr>\n",
       "    <tr>\n",
       "      <td>1</td>\n",
       "      <td>434660</td>\n",
       "      <td>548893</td>\n",
       "      <td>gift_0001_40</td>\n",
       "      <td>1</td>\n",
       "      <td>2019-04-02 15:54:00</td>\n",
       "      <td>33.33</td>\n",
       "      <td>2019-04-02</td>\n",
       "      <td>4472</td>\n",
       "      <td>dotcomgiftshop gift voucher £40.00</td>\n",
       "    </tr>\n",
       "    <tr>\n",
       "      <td>2</td>\n",
       "      <td>434661</td>\n",
       "      <td>561513</td>\n",
       "      <td>gift_0001_40</td>\n",
       "      <td>1</td>\n",
       "      <td>2019-07-25 15:12:00</td>\n",
       "      <td>33.33</td>\n",
       "      <td>2019-07-25</td>\n",
       "      <td>4472</td>\n",
       "      <td>dotcomgiftshop gift voucher £40.00</td>\n",
       "    </tr>\n",
       "  </tbody>\n",
       "</table>\n",
       "</div>"
      ],
      "text/plain": [
       "    index invoiceno     stockcode  quantity          invoice_dt  unitprice  \\\n",
       "0  434659    539492  gift_0001_40         1 2018-12-18 10:14:00      34.04   \n",
       "1  434660    548893  gift_0001_40         1 2019-04-02 15:54:00      33.33   \n",
       "2  434661    561513  gift_0001_40         1 2019-07-25 15:12:00      33.33   \n",
       "\n",
       "  invoicedate  suid                         description  \n",
       "0  2018-12-18  4472  dotcomgiftshop gift voucher £40.00  \n",
       "1  2019-04-02  4472  dotcomgiftshop gift voucher £40.00  \n",
       "2  2019-07-25  4472  dotcomgiftshop gift voucher £40.00  "
      ]
     },
     "execution_count": 23,
     "metadata": {},
     "output_type": "execute_result"
    },
    {
     "data": {
      "text/html": [
       "<div>\n",
       "<style scoped>\n",
       "    .dataframe tbody tr th:only-of-type {\n",
       "        vertical-align: middle;\n",
       "    }\n",
       "\n",
       "    .dataframe tbody tr th {\n",
       "        vertical-align: top;\n",
       "    }\n",
       "\n",
       "    .dataframe thead th {\n",
       "        text-align: right;\n",
       "    }\n",
       "</style>\n",
       "<table border=\"1\" class=\"dataframe\">\n",
       "  <thead>\n",
       "    <tr style=\"text-align: right;\">\n",
       "      <th></th>\n",
       "      <th>index</th>\n",
       "      <th>invoiceno</th>\n",
       "      <th>stockcode</th>\n",
       "      <th>quantity</th>\n",
       "      <th>invoice_dt</th>\n",
       "      <th>unitprice</th>\n",
       "      <th>invoicedate</th>\n",
       "      <th>suid</th>\n",
       "      <th>description</th>\n",
       "    </tr>\n",
       "  </thead>\n",
       "  <tbody>\n",
       "    <tr>\n",
       "      <td>0</td>\n",
       "      <td>435748</td>\n",
       "      <td>539958</td>\n",
       "      <td>gift_0001_50</td>\n",
       "      <td>1</td>\n",
       "      <td>2018-12-21 13:26:00</td>\n",
       "      <td>42.55</td>\n",
       "      <td>2018-12-21</td>\n",
       "      <td>4472</td>\n",
       "      <td>dotcomgiftshop gift voucher £50.00</td>\n",
       "    </tr>\n",
       "    <tr>\n",
       "      <td>1</td>\n",
       "      <td>435749</td>\n",
       "      <td>552232</td>\n",
       "      <td>gift_0001_50</td>\n",
       "      <td>1</td>\n",
       "      <td>2019-05-04 15:54:00</td>\n",
       "      <td>41.67</td>\n",
       "      <td>2019-05-04</td>\n",
       "      <td>4472</td>\n",
       "      <td>dotcomgiftshop gift voucher £50.00</td>\n",
       "    </tr>\n",
       "    <tr>\n",
       "      <td>2</td>\n",
       "      <td>435750</td>\n",
       "      <td>558066</td>\n",
       "      <td>gift_0001_50</td>\n",
       "      <td>1</td>\n",
       "      <td>2019-06-22 15:45:00</td>\n",
       "      <td>41.67</td>\n",
       "      <td>2019-06-22</td>\n",
       "      <td>4472</td>\n",
       "      <td>dotcomgiftshop gift voucher £50.00</td>\n",
       "    </tr>\n",
       "    <tr>\n",
       "      <td>3</td>\n",
       "      <td>435751</td>\n",
       "      <td>558614</td>\n",
       "      <td>gift_0001_50</td>\n",
       "      <td>1</td>\n",
       "      <td>2019-06-28 15:56:00</td>\n",
       "      <td>41.67</td>\n",
       "      <td>2019-06-28</td>\n",
       "      <td>4472</td>\n",
       "      <td>dotcomgiftshop gift voucher £50.00</td>\n",
       "    </tr>\n",
       "  </tbody>\n",
       "</table>\n",
       "</div>"
      ],
      "text/plain": [
       "    index invoiceno     stockcode  quantity          invoice_dt  unitprice  \\\n",
       "0  435748    539958  gift_0001_50         1 2018-12-21 13:26:00      42.55   \n",
       "1  435749    552232  gift_0001_50         1 2019-05-04 15:54:00      41.67   \n",
       "2  435750    558066  gift_0001_50         1 2019-06-22 15:45:00      41.67   \n",
       "3  435751    558614  gift_0001_50         1 2019-06-28 15:56:00      41.67   \n",
       "\n",
       "  invoicedate  suid                         description  \n",
       "0  2018-12-21  4472  dotcomgiftshop gift voucher £50.00  \n",
       "1  2019-05-04  4472  dotcomgiftshop gift voucher £50.00  \n",
       "2  2019-06-22  4472  dotcomgiftshop gift voucher £50.00  \n",
       "3  2019-06-28  4472  dotcomgiftshop gift voucher £50.00  "
      ]
     },
     "execution_count": 23,
     "metadata": {},
     "output_type": "execute_result"
    },
    {
     "data": {
      "text/html": [
       "<div>\n",
       "<style scoped>\n",
       "    .dataframe tbody tr th:only-of-type {\n",
       "        vertical-align: middle;\n",
       "    }\n",
       "\n",
       "    .dataframe tbody tr th {\n",
       "        vertical-align: top;\n",
       "    }\n",
       "\n",
       "    .dataframe thead th {\n",
       "        text-align: right;\n",
       "    }\n",
       "</style>\n",
       "<table border=\"1\" class=\"dataframe\">\n",
       "  <thead>\n",
       "    <tr style=\"text-align: right;\">\n",
       "      <th></th>\n",
       "      <th>index</th>\n",
       "      <th>invoiceno</th>\n",
       "      <th>stockcode</th>\n",
       "      <th>quantity</th>\n",
       "      <th>invoice_dt</th>\n",
       "      <th>unitprice</th>\n",
       "      <th>invoicedate</th>\n",
       "      <th>suid</th>\n",
       "      <th>description</th>\n",
       "    </tr>\n",
       "  </thead>\n",
       "  <tbody>\n",
       "    <tr>\n",
       "      <td>0</td>\n",
       "      <td>436416</td>\n",
       "      <td>540238</td>\n",
       "      <td>gift_0001_30</td>\n",
       "      <td>1</td>\n",
       "      <td>2019-01-03 14:44:00</td>\n",
       "      <td>25.53</td>\n",
       "      <td>2019-01-03</td>\n",
       "      <td>4472</td>\n",
       "      <td>dotcomgiftshop gift voucher £30.00</td>\n",
       "    </tr>\n",
       "    <tr>\n",
       "      <td>1</td>\n",
       "      <td>436417</td>\n",
       "      <td>544323</td>\n",
       "      <td>gift_0001_30</td>\n",
       "      <td>1</td>\n",
       "      <td>2019-02-15 15:51:00</td>\n",
       "      <td>25.00</td>\n",
       "      <td>2019-02-15</td>\n",
       "      <td>4472</td>\n",
       "      <td>dotcomgiftshop gift voucher £30.00</td>\n",
       "    </tr>\n",
       "    <tr>\n",
       "      <td>2</td>\n",
       "      <td>436418</td>\n",
       "      <td>544434</td>\n",
       "      <td>gift_0001_30</td>\n",
       "      <td>1</td>\n",
       "      <td>2019-02-16 16:12:00</td>\n",
       "      <td>25.00</td>\n",
       "      <td>2019-02-16</td>\n",
       "      <td>4472</td>\n",
       "      <td>dotcomgiftshop gift voucher £30.00</td>\n",
       "    </tr>\n",
       "    <tr>\n",
       "      <td>3</td>\n",
       "      <td>436419</td>\n",
       "      <td>555149</td>\n",
       "      <td>gift_0001_30</td>\n",
       "      <td>1</td>\n",
       "      <td>2019-05-29 15:49:00</td>\n",
       "      <td>25.00</td>\n",
       "      <td>2019-05-29</td>\n",
       "      <td>4472</td>\n",
       "      <td>dotcomgiftshop gift voucher £30.00</td>\n",
       "    </tr>\n",
       "    <tr>\n",
       "      <td>4</td>\n",
       "      <td>436420</td>\n",
       "      <td>562933</td>\n",
       "      <td>gift_0001_30</td>\n",
       "      <td>1</td>\n",
       "      <td>2019-08-08 16:51:00</td>\n",
       "      <td>25.00</td>\n",
       "      <td>2019-08-08</td>\n",
       "      <td>4472</td>\n",
       "      <td>dotcomgiftshop gift voucher £30.00</td>\n",
       "    </tr>\n",
       "    <tr>\n",
       "      <td>5</td>\n",
       "      <td>436421</td>\n",
       "      <td>564760</td>\n",
       "      <td>gift_0001_30</td>\n",
       "      <td>1</td>\n",
       "      <td>2019-08-28 10:47:00</td>\n",
       "      <td>25.00</td>\n",
       "      <td>2019-08-28</td>\n",
       "      <td>4472</td>\n",
       "      <td>dotcomgiftshop gift voucher £30.00</td>\n",
       "    </tr>\n",
       "    <tr>\n",
       "      <td>6</td>\n",
       "      <td>436422</td>\n",
       "      <td>564761</td>\n",
       "      <td>gift_0001_30</td>\n",
       "      <td>30</td>\n",
       "      <td>2019-08-28 10:48:00</td>\n",
       "      <td>0.00</td>\n",
       "      <td>2019-08-28</td>\n",
       "      <td>4472</td>\n",
       "      <td>dotcomgiftshop gift voucher £30.00</td>\n",
       "    </tr>\n",
       "    <tr>\n",
       "      <td>7</td>\n",
       "      <td>436423</td>\n",
       "      <td>565231</td>\n",
       "      <td>gift_0001_30</td>\n",
       "      <td>1</td>\n",
       "      <td>2019-08-31 09:26:00</td>\n",
       "      <td>25.00</td>\n",
       "      <td>2019-08-31</td>\n",
       "      <td>4472</td>\n",
       "      <td>dotcomgiftshop gift voucher £30.00</td>\n",
       "    </tr>\n",
       "  </tbody>\n",
       "</table>\n",
       "</div>"
      ],
      "text/plain": [
       "    index invoiceno     stockcode  quantity          invoice_dt  unitprice  \\\n",
       "0  436416    540238  gift_0001_30         1 2019-01-03 14:44:00      25.53   \n",
       "1  436417    544323  gift_0001_30         1 2019-02-15 15:51:00      25.00   \n",
       "2  436418    544434  gift_0001_30         1 2019-02-16 16:12:00      25.00   \n",
       "3  436419    555149  gift_0001_30         1 2019-05-29 15:49:00      25.00   \n",
       "4  436420    562933  gift_0001_30         1 2019-08-08 16:51:00      25.00   \n",
       "5  436421    564760  gift_0001_30         1 2019-08-28 10:47:00      25.00   \n",
       "6  436422    564761  gift_0001_30        30 2019-08-28 10:48:00       0.00   \n",
       "7  436423    565231  gift_0001_30         1 2019-08-31 09:26:00      25.00   \n",
       "\n",
       "  invoicedate  suid                         description  \n",
       "0  2019-01-03  4472  dotcomgiftshop gift voucher £30.00  \n",
       "1  2019-02-15  4472  dotcomgiftshop gift voucher £30.00  \n",
       "2  2019-02-16  4472  dotcomgiftshop gift voucher £30.00  \n",
       "3  2019-05-29  4472  dotcomgiftshop gift voucher £30.00  \n",
       "4  2019-08-08  4472  dotcomgiftshop gift voucher £30.00  \n",
       "5  2019-08-28  4472  dotcomgiftshop gift voucher £30.00  \n",
       "6  2019-08-28  4472  dotcomgiftshop gift voucher £30.00  \n",
       "7  2019-08-31  4472  dotcomgiftshop gift voucher £30.00  "
      ]
     },
     "execution_count": 23,
     "metadata": {},
     "output_type": "execute_result"
    },
    {
     "data": {
      "text/html": [
       "<div>\n",
       "<style scoped>\n",
       "    .dataframe tbody tr th:only-of-type {\n",
       "        vertical-align: middle;\n",
       "    }\n",
       "\n",
       "    .dataframe tbody tr th {\n",
       "        vertical-align: top;\n",
       "    }\n",
       "\n",
       "    .dataframe thead th {\n",
       "        text-align: right;\n",
       "    }\n",
       "</style>\n",
       "<table border=\"1\" class=\"dataframe\">\n",
       "  <thead>\n",
       "    <tr style=\"text-align: right;\">\n",
       "      <th></th>\n",
       "      <th>index</th>\n",
       "      <th>invoiceno</th>\n",
       "      <th>stockcode</th>\n",
       "      <th>quantity</th>\n",
       "      <th>invoice_dt</th>\n",
       "      <th>unitprice</th>\n",
       "      <th>invoicedate</th>\n",
       "      <th>suid</th>\n",
       "      <th>description</th>\n",
       "    </tr>\n",
       "  </thead>\n",
       "  <tbody>\n",
       "    <tr>\n",
       "      <td>0</td>\n",
       "      <td>436424</td>\n",
       "      <td>540238</td>\n",
       "      <td>gift_0001_20</td>\n",
       "      <td>1</td>\n",
       "      <td>2019-01-03 14:44:00</td>\n",
       "      <td>17.02</td>\n",
       "      <td>2019-01-03</td>\n",
       "      <td>4472</td>\n",
       "      <td>dotcomgiftshop gift voucher £20.00</td>\n",
       "    </tr>\n",
       "    <tr>\n",
       "      <td>1</td>\n",
       "      <td>436425</td>\n",
       "      <td>540995</td>\n",
       "      <td>gift_0001_20</td>\n",
       "      <td>1</td>\n",
       "      <td>2019-01-11 09:30:00</td>\n",
       "      <td>16.67</td>\n",
       "      <td>2019-01-11</td>\n",
       "      <td>4472</td>\n",
       "      <td>dotcomgiftshop gift voucher £20.00</td>\n",
       "    </tr>\n",
       "    <tr>\n",
       "      <td>2</td>\n",
       "      <td>436426</td>\n",
       "      <td>544089</td>\n",
       "      <td>gift_0001_20</td>\n",
       "      <td>1</td>\n",
       "      <td>2019-02-13 17:51:00</td>\n",
       "      <td>16.67</td>\n",
       "      <td>2019-02-13</td>\n",
       "      <td>4472</td>\n",
       "      <td>dotcomgiftshop gift voucher £20.00</td>\n",
       "    </tr>\n",
       "    <tr>\n",
       "      <td>3</td>\n",
       "      <td>436427</td>\n",
       "      <td>550474</td>\n",
       "      <td>gift_0001_20</td>\n",
       "      <td>2</td>\n",
       "      <td>2019-04-16 13:58:00</td>\n",
       "      <td>16.67</td>\n",
       "      <td>2019-04-16</td>\n",
       "      <td>4472</td>\n",
       "      <td>dotcomgiftshop gift voucher £20.00</td>\n",
       "    </tr>\n",
       "    <tr>\n",
       "      <td>4</td>\n",
       "      <td>436428</td>\n",
       "      <td>550542</td>\n",
       "      <td>gift_0001_20</td>\n",
       "      <td>1</td>\n",
       "      <td>2019-04-17 11:37:00</td>\n",
       "      <td>16.67</td>\n",
       "      <td>2019-04-17</td>\n",
       "      <td>4472</td>\n",
       "      <td>dotcomgiftshop gift voucher £20.00</td>\n",
       "    </tr>\n",
       "    <tr>\n",
       "      <td>5</td>\n",
       "      <td>436429</td>\n",
       "      <td>556955</td>\n",
       "      <td>gift_0001_20</td>\n",
       "      <td>10</td>\n",
       "      <td>2019-06-14 09:04:00</td>\n",
       "      <td>0.00</td>\n",
       "      <td>2019-06-14</td>\n",
       "      <td>4472</td>\n",
       "      <td>dotcomgiftshop gift voucher £20.00</td>\n",
       "    </tr>\n",
       "    <tr>\n",
       "      <td>6</td>\n",
       "      <td>436430</td>\n",
       "      <td>557500</td>\n",
       "      <td>gift_0001_20</td>\n",
       "      <td>1</td>\n",
       "      <td>2019-06-18 15:27:00</td>\n",
       "      <td>16.67</td>\n",
       "      <td>2019-06-18</td>\n",
       "      <td>4472</td>\n",
       "      <td>dotcomgiftshop gift voucher £20.00</td>\n",
       "    </tr>\n",
       "    <tr>\n",
       "      <td>7</td>\n",
       "      <td>436431</td>\n",
       "      <td>558068</td>\n",
       "      <td>gift_0001_20</td>\n",
       "      <td>1</td>\n",
       "      <td>2019-06-22 15:51:00</td>\n",
       "      <td>16.67</td>\n",
       "      <td>2019-06-22</td>\n",
       "      <td>4472</td>\n",
       "      <td>dotcomgiftshop gift voucher £20.00</td>\n",
       "    </tr>\n",
       "    <tr>\n",
       "      <td>8</td>\n",
       "      <td>436432</td>\n",
       "      <td>562420</td>\n",
       "      <td>gift_0001_20</td>\n",
       "      <td>1</td>\n",
       "      <td>2019-08-02 16:38:00</td>\n",
       "      <td>16.67</td>\n",
       "      <td>2019-08-02</td>\n",
       "      <td>4472</td>\n",
       "      <td>dotcomgiftshop gift voucher £20.00</td>\n",
       "    </tr>\n",
       "    <tr>\n",
       "      <td>9</td>\n",
       "      <td>436433</td>\n",
       "      <td>573585</td>\n",
       "      <td>gift_0001_20</td>\n",
       "      <td>1</td>\n",
       "      <td>2019-10-29 14:41:00</td>\n",
       "      <td>16.67</td>\n",
       "      <td>2019-10-29</td>\n",
       "      <td>4472</td>\n",
       "      <td>dotcomgiftshop gift voucher £20.00</td>\n",
       "    </tr>\n",
       "  </tbody>\n",
       "</table>\n",
       "</div>"
      ],
      "text/plain": [
       "    index invoiceno     stockcode  quantity          invoice_dt  unitprice  \\\n",
       "0  436424    540238  gift_0001_20         1 2019-01-03 14:44:00      17.02   \n",
       "1  436425    540995  gift_0001_20         1 2019-01-11 09:30:00      16.67   \n",
       "2  436426    544089  gift_0001_20         1 2019-02-13 17:51:00      16.67   \n",
       "3  436427    550474  gift_0001_20         2 2019-04-16 13:58:00      16.67   \n",
       "4  436428    550542  gift_0001_20         1 2019-04-17 11:37:00      16.67   \n",
       "5  436429    556955  gift_0001_20        10 2019-06-14 09:04:00       0.00   \n",
       "6  436430    557500  gift_0001_20         1 2019-06-18 15:27:00      16.67   \n",
       "7  436431    558068  gift_0001_20         1 2019-06-22 15:51:00      16.67   \n",
       "8  436432    562420  gift_0001_20         1 2019-08-02 16:38:00      16.67   \n",
       "9  436433    573585  gift_0001_20         1 2019-10-29 14:41:00      16.67   \n",
       "\n",
       "  invoicedate  suid                         description  \n",
       "0  2019-01-03  4472  dotcomgiftshop gift voucher £20.00  \n",
       "1  2019-01-11  4472  dotcomgiftshop gift voucher £20.00  \n",
       "2  2019-02-13  4472  dotcomgiftshop gift voucher £20.00  \n",
       "3  2019-04-16  4472  dotcomgiftshop gift voucher £20.00  \n",
       "4  2019-04-17  4472  dotcomgiftshop gift voucher £20.00  \n",
       "5  2019-06-14  4472  dotcomgiftshop gift voucher £20.00  \n",
       "6  2019-06-18  4472  dotcomgiftshop gift voucher £20.00  \n",
       "7  2019-06-22  4472  dotcomgiftshop gift voucher £20.00  \n",
       "8  2019-08-02  4472  dotcomgiftshop gift voucher £20.00  \n",
       "9  2019-10-29  4472  dotcomgiftshop gift voucher £20.00  "
      ]
     },
     "execution_count": 23,
     "metadata": {},
     "output_type": "execute_result"
    },
    {
     "data": {
      "text/html": [
       "<div>\n",
       "<style scoped>\n",
       "    .dataframe tbody tr th:only-of-type {\n",
       "        vertical-align: middle;\n",
       "    }\n",
       "\n",
       "    .dataframe tbody tr th {\n",
       "        vertical-align: top;\n",
       "    }\n",
       "\n",
       "    .dataframe thead th {\n",
       "        text-align: right;\n",
       "    }\n",
       "</style>\n",
       "<table border=\"1\" class=\"dataframe\">\n",
       "  <thead>\n",
       "    <tr style=\"text-align: right;\">\n",
       "      <th></th>\n",
       "      <th>index</th>\n",
       "      <th>invoiceno</th>\n",
       "      <th>stockcode</th>\n",
       "      <th>quantity</th>\n",
       "      <th>invoice_dt</th>\n",
       "      <th>unitprice</th>\n",
       "      <th>invoicedate</th>\n",
       "      <th>suid</th>\n",
       "      <th>description</th>\n",
       "    </tr>\n",
       "  </thead>\n",
       "  <tbody>\n",
       "    <tr>\n",
       "      <td>0</td>\n",
       "      <td>441922</td>\n",
       "      <td>543358</td>\n",
       "      <td>dcgssboy</td>\n",
       "      <td>1</td>\n",
       "      <td>2019-02-05 14:04:00</td>\n",
       "      <td>3.29</td>\n",
       "      <td>2019-02-05</td>\n",
       "      <td>4472</td>\n",
       "      <td>boys party bag</td>\n",
       "    </tr>\n",
       "    <tr>\n",
       "      <td>1</td>\n",
       "      <td>441923</td>\n",
       "      <td>544599</td>\n",
       "      <td>dcgssboy</td>\n",
       "      <td>1</td>\n",
       "      <td>2019-02-19 18:15:00</td>\n",
       "      <td>3.29</td>\n",
       "      <td>2019-02-19</td>\n",
       "      <td>4472</td>\n",
       "      <td>boys party bag</td>\n",
       "    </tr>\n",
       "    <tr>\n",
       "      <td>2</td>\n",
       "      <td>441924</td>\n",
       "      <td>545897</td>\n",
       "      <td>dcgssboy</td>\n",
       "      <td>5</td>\n",
       "      <td>2019-03-05 17:22:00</td>\n",
       "      <td>3.29</td>\n",
       "      <td>2019-03-05</td>\n",
       "      <td>4472</td>\n",
       "      <td>boys party bag</td>\n",
       "    </tr>\n",
       "    <tr>\n",
       "      <td>3</td>\n",
       "      <td>441925</td>\n",
       "      <td>546306</td>\n",
       "      <td>dcgssboy</td>\n",
       "      <td>1</td>\n",
       "      <td>2019-03-08 16:16:00</td>\n",
       "      <td>3.29</td>\n",
       "      <td>2019-03-08</td>\n",
       "      <td>4472</td>\n",
       "      <td>boys party bag</td>\n",
       "    </tr>\n",
       "    <tr>\n",
       "      <td>4</td>\n",
       "      <td>441926</td>\n",
       "      <td>547249</td>\n",
       "      <td>dcgssboy</td>\n",
       "      <td>6</td>\n",
       "      <td>2019-03-20 09:27:00</td>\n",
       "      <td>3.29</td>\n",
       "      <td>2019-03-20</td>\n",
       "      <td>4472</td>\n",
       "      <td>boys party bag</td>\n",
       "    </tr>\n",
       "    <tr>\n",
       "      <td>5</td>\n",
       "      <td>441927</td>\n",
       "      <td>550458</td>\n",
       "      <td>dcgssboy</td>\n",
       "      <td>1</td>\n",
       "      <td>2019-04-16 13:13:00</td>\n",
       "      <td>3.29</td>\n",
       "      <td>2019-04-16</td>\n",
       "      <td>4472</td>\n",
       "      <td>boys party bag</td>\n",
       "    </tr>\n",
       "    <tr>\n",
       "      <td>6</td>\n",
       "      <td>441928</td>\n",
       "      <td>552234</td>\n",
       "      <td>dcgssboy</td>\n",
       "      <td>7</td>\n",
       "      <td>2019-05-04 16:01:00</td>\n",
       "      <td>3.29</td>\n",
       "      <td>2019-05-04</td>\n",
       "      <td>4472</td>\n",
       "      <td>boys party bag</td>\n",
       "    </tr>\n",
       "    <tr>\n",
       "      <td>7</td>\n",
       "      <td>441929</td>\n",
       "      <td>559923</td>\n",
       "      <td>dcgssboy</td>\n",
       "      <td>20</td>\n",
       "      <td>2019-07-11 16:07:00</td>\n",
       "      <td>3.29</td>\n",
       "      <td>2019-07-11</td>\n",
       "      <td>4472</td>\n",
       "      <td>boys party bag</td>\n",
       "    </tr>\n",
       "    <tr>\n",
       "      <td>8</td>\n",
       "      <td>441930</td>\n",
       "      <td>561209</td>\n",
       "      <td>dcgssboy</td>\n",
       "      <td>2</td>\n",
       "      <td>2019-07-23 16:57:00</td>\n",
       "      <td>1.25</td>\n",
       "      <td>2019-07-23</td>\n",
       "      <td>4472</td>\n",
       "      <td>boys party bag</td>\n",
       "    </tr>\n",
       "    <tr>\n",
       "      <td>9</td>\n",
       "      <td>441931</td>\n",
       "      <td>568716</td>\n",
       "      <td>dcgssboy</td>\n",
       "      <td>2</td>\n",
       "      <td>2019-09-26 16:13:00</td>\n",
       "      <td>3.29</td>\n",
       "      <td>2019-09-26</td>\n",
       "      <td>4472</td>\n",
       "      <td>boys party bag</td>\n",
       "    </tr>\n",
       "    <tr>\n",
       "      <td>10</td>\n",
       "      <td>441932</td>\n",
       "      <td>580115</td>\n",
       "      <td>dcgssboy</td>\n",
       "      <td>1</td>\n",
       "      <td>2019-11-29 16:22:00</td>\n",
       "      <td>3.29</td>\n",
       "      <td>2019-11-29</td>\n",
       "      <td>4472</td>\n",
       "      <td>boys party bag</td>\n",
       "    </tr>\n",
       "  </tbody>\n",
       "</table>\n",
       "</div>"
      ],
      "text/plain": [
       "     index invoiceno stockcode  quantity          invoice_dt  unitprice  \\\n",
       "0   441922    543358  dcgssboy         1 2019-02-05 14:04:00       3.29   \n",
       "1   441923    544599  dcgssboy         1 2019-02-19 18:15:00       3.29   \n",
       "2   441924    545897  dcgssboy         5 2019-03-05 17:22:00       3.29   \n",
       "3   441925    546306  dcgssboy         1 2019-03-08 16:16:00       3.29   \n",
       "4   441926    547249  dcgssboy         6 2019-03-20 09:27:00       3.29   \n",
       "5   441927    550458  dcgssboy         1 2019-04-16 13:13:00       3.29   \n",
       "6   441928    552234  dcgssboy         7 2019-05-04 16:01:00       3.29   \n",
       "7   441929    559923  dcgssboy        20 2019-07-11 16:07:00       3.29   \n",
       "8   441930    561209  dcgssboy         2 2019-07-23 16:57:00       1.25   \n",
       "9   441931    568716  dcgssboy         2 2019-09-26 16:13:00       3.29   \n",
       "10  441932    580115  dcgssboy         1 2019-11-29 16:22:00       3.29   \n",
       "\n",
       "   invoicedate  suid     description  \n",
       "0   2019-02-05  4472  boys party bag  \n",
       "1   2019-02-19  4472  boys party bag  \n",
       "2   2019-03-05  4472  boys party bag  \n",
       "3   2019-03-08  4472  boys party bag  \n",
       "4   2019-03-20  4472  boys party bag  \n",
       "5   2019-04-16  4472  boys party bag  \n",
       "6   2019-05-04  4472  boys party bag  \n",
       "7   2019-07-11  4472  boys party bag  \n",
       "8   2019-07-23  4472  boys party bag  \n",
       "9   2019-09-26  4472  boys party bag  \n",
       "10  2019-11-29  4472  boys party bag  "
      ]
     },
     "execution_count": 23,
     "metadata": {},
     "output_type": "execute_result"
    },
    {
     "data": {
      "text/html": [
       "<div>\n",
       "<style scoped>\n",
       "    .dataframe tbody tr th:only-of-type {\n",
       "        vertical-align: middle;\n",
       "    }\n",
       "\n",
       "    .dataframe tbody tr th {\n",
       "        vertical-align: top;\n",
       "    }\n",
       "\n",
       "    .dataframe thead th {\n",
       "        text-align: right;\n",
       "    }\n",
       "</style>\n",
       "<table border=\"1\" class=\"dataframe\">\n",
       "  <thead>\n",
       "    <tr style=\"text-align: right;\">\n",
       "      <th></th>\n",
       "      <th>index</th>\n",
       "      <th>invoiceno</th>\n",
       "      <th>stockcode</th>\n",
       "      <th>quantity</th>\n",
       "      <th>invoice_dt</th>\n",
       "      <th>unitprice</th>\n",
       "      <th>invoicedate</th>\n",
       "      <th>suid</th>\n",
       "      <th>description</th>\n",
       "    </tr>\n",
       "  </thead>\n",
       "  <tbody>\n",
       "    <tr>\n",
       "      <td>0</td>\n",
       "      <td>441933</td>\n",
       "      <td>543358</td>\n",
       "      <td>dcgssgirl</td>\n",
       "      <td>3</td>\n",
       "      <td>2019-02-05 14:04:00</td>\n",
       "      <td>3.29</td>\n",
       "      <td>2019-02-05</td>\n",
       "      <td>4472</td>\n",
       "      <td>girls party bag</td>\n",
       "    </tr>\n",
       "    <tr>\n",
       "      <td>1</td>\n",
       "      <td>441934</td>\n",
       "      <td>545897</td>\n",
       "      <td>dcgssgirl</td>\n",
       "      <td>5</td>\n",
       "      <td>2019-03-05 17:22:00</td>\n",
       "      <td>3.29</td>\n",
       "      <td>2019-03-05</td>\n",
       "      <td>4472</td>\n",
       "      <td>girls party bag</td>\n",
       "    </tr>\n",
       "    <tr>\n",
       "      <td>2</td>\n",
       "      <td>441935</td>\n",
       "      <td>546306</td>\n",
       "      <td>dcgssgirl</td>\n",
       "      <td>2</td>\n",
       "      <td>2019-03-08 16:16:00</td>\n",
       "      <td>3.29</td>\n",
       "      <td>2019-03-08</td>\n",
       "      <td>4472</td>\n",
       "      <td>girls party bag</td>\n",
       "    </tr>\n",
       "    <tr>\n",
       "      <td>3</td>\n",
       "      <td>441936</td>\n",
       "      <td>547249</td>\n",
       "      <td>dcgssgirl</td>\n",
       "      <td>17</td>\n",
       "      <td>2019-03-20 09:27:00</td>\n",
       "      <td>3.29</td>\n",
       "      <td>2019-03-20</td>\n",
       "      <td>4472</td>\n",
       "      <td>girls party bag</td>\n",
       "    </tr>\n",
       "    <tr>\n",
       "      <td>4</td>\n",
       "      <td>441937</td>\n",
       "      <td>547250</td>\n",
       "      <td>dcgssgirl</td>\n",
       "      <td>2</td>\n",
       "      <td>2019-03-20 09:30:00</td>\n",
       "      <td>3.29</td>\n",
       "      <td>2019-03-20</td>\n",
       "      <td>4472</td>\n",
       "      <td>girls party bag</td>\n",
       "    </tr>\n",
       "    <tr>\n",
       "      <td>5</td>\n",
       "      <td>441938</td>\n",
       "      <td>549524</td>\n",
       "      <td>dcgssgirl</td>\n",
       "      <td>1</td>\n",
       "      <td>2019-04-06 15:42:00</td>\n",
       "      <td>3.29</td>\n",
       "      <td>2019-04-06</td>\n",
       "      <td>4472</td>\n",
       "      <td>girls party bag</td>\n",
       "    </tr>\n",
       "    <tr>\n",
       "      <td>6</td>\n",
       "      <td>441939</td>\n",
       "      <td>551997</td>\n",
       "      <td>dcgssgirl</td>\n",
       "      <td>2</td>\n",
       "      <td>2019-05-03 15:47:00</td>\n",
       "      <td>3.29</td>\n",
       "      <td>2019-05-03</td>\n",
       "      <td>4472</td>\n",
       "      <td>girls party bag</td>\n",
       "    </tr>\n",
       "    <tr>\n",
       "      <td>7</td>\n",
       "      <td>441940</td>\n",
       "      <td>552234</td>\n",
       "      <td>dcgssgirl</td>\n",
       "      <td>2</td>\n",
       "      <td>2019-05-04 16:01:00</td>\n",
       "      <td>3.29</td>\n",
       "      <td>2019-05-04</td>\n",
       "      <td>4472</td>\n",
       "      <td>girls party bag</td>\n",
       "    </tr>\n",
       "    <tr>\n",
       "      <td>8</td>\n",
       "      <td>441941</td>\n",
       "      <td>561209</td>\n",
       "      <td>dcgssgirl</td>\n",
       "      <td>5</td>\n",
       "      <td>2019-07-23 16:57:00</td>\n",
       "      <td>1.25</td>\n",
       "      <td>2019-07-23</td>\n",
       "      <td>4472</td>\n",
       "      <td>girls party bag</td>\n",
       "    </tr>\n",
       "    <tr>\n",
       "      <td>9</td>\n",
       "      <td>441942</td>\n",
       "      <td>562933</td>\n",
       "      <td>dcgssgirl</td>\n",
       "      <td>5</td>\n",
       "      <td>2019-08-08 16:51:00</td>\n",
       "      <td>3.29</td>\n",
       "      <td>2019-08-08</td>\n",
       "      <td>4472</td>\n",
       "      <td>girls party bag</td>\n",
       "    </tr>\n",
       "    <tr>\n",
       "      <td>10</td>\n",
       "      <td>441943</td>\n",
       "      <td>564825</td>\n",
       "      <td>dcgssgirl</td>\n",
       "      <td>1</td>\n",
       "      <td>2019-08-28 12:26:00</td>\n",
       "      <td>3.29</td>\n",
       "      <td>2019-08-28</td>\n",
       "      <td>4472</td>\n",
       "      <td>girls party bag</td>\n",
       "    </tr>\n",
       "    <tr>\n",
       "      <td>11</td>\n",
       "      <td>441944</td>\n",
       "      <td>571931</td>\n",
       "      <td>dcgssgirl</td>\n",
       "      <td>1</td>\n",
       "      <td>2019-10-17 16:59:00</td>\n",
       "      <td>3.29</td>\n",
       "      <td>2019-10-17</td>\n",
       "      <td>4472</td>\n",
       "      <td>girls party bag</td>\n",
       "    </tr>\n",
       "    <tr>\n",
       "      <td>12</td>\n",
       "      <td>441945</td>\n",
       "      <td>576840</td>\n",
       "      <td>dcgssgirl</td>\n",
       "      <td>1</td>\n",
       "      <td>2019-11-14 15:23:00</td>\n",
       "      <td>3.29</td>\n",
       "      <td>2019-11-14</td>\n",
       "      <td>4472</td>\n",
       "      <td>girls party bag</td>\n",
       "    </tr>\n",
       "  </tbody>\n",
       "</table>\n",
       "</div>"
      ],
      "text/plain": [
       "     index invoiceno  stockcode  quantity          invoice_dt  unitprice  \\\n",
       "0   441933    543358  dcgssgirl         3 2019-02-05 14:04:00       3.29   \n",
       "1   441934    545897  dcgssgirl         5 2019-03-05 17:22:00       3.29   \n",
       "2   441935    546306  dcgssgirl         2 2019-03-08 16:16:00       3.29   \n",
       "3   441936    547249  dcgssgirl        17 2019-03-20 09:27:00       3.29   \n",
       "4   441937    547250  dcgssgirl         2 2019-03-20 09:30:00       3.29   \n",
       "5   441938    549524  dcgssgirl         1 2019-04-06 15:42:00       3.29   \n",
       "6   441939    551997  dcgssgirl         2 2019-05-03 15:47:00       3.29   \n",
       "7   441940    552234  dcgssgirl         2 2019-05-04 16:01:00       3.29   \n",
       "8   441941    561209  dcgssgirl         5 2019-07-23 16:57:00       1.25   \n",
       "9   441942    562933  dcgssgirl         5 2019-08-08 16:51:00       3.29   \n",
       "10  441943    564825  dcgssgirl         1 2019-08-28 12:26:00       3.29   \n",
       "11  441944    571931  dcgssgirl         1 2019-10-17 16:59:00       3.29   \n",
       "12  441945    576840  dcgssgirl         1 2019-11-14 15:23:00       3.29   \n",
       "\n",
       "   invoicedate  suid      description  \n",
       "0   2019-02-05  4472  girls party bag  \n",
       "1   2019-03-05  4472  girls party bag  \n",
       "2   2019-03-08  4472  girls party bag  \n",
       "3   2019-03-20  4472  girls party bag  \n",
       "4   2019-03-20  4472  girls party bag  \n",
       "5   2019-04-06  4472  girls party bag  \n",
       "6   2019-05-03  4472  girls party bag  \n",
       "7   2019-05-04  4472  girls party bag  \n",
       "8   2019-07-23  4472  girls party bag  \n",
       "9   2019-08-08  4472  girls party bag  \n",
       "10  2019-08-28  4472  girls party bag  \n",
       "11  2019-10-17  4472  girls party bag  \n",
       "12  2019-11-14  4472  girls party bag  "
      ]
     },
     "execution_count": 23,
     "metadata": {},
     "output_type": "execute_result"
    },
    {
     "data": {
      "text/html": [
       "<div>\n",
       "<style scoped>\n",
       "    .dataframe tbody tr th:only-of-type {\n",
       "        vertical-align: middle;\n",
       "    }\n",
       "\n",
       "    .dataframe tbody tr th {\n",
       "        vertical-align: top;\n",
       "    }\n",
       "\n",
       "    .dataframe thead th {\n",
       "        text-align: right;\n",
       "    }\n",
       "</style>\n",
       "<table border=\"1\" class=\"dataframe\">\n",
       "  <thead>\n",
       "    <tr style=\"text-align: right;\">\n",
       "      <th></th>\n",
       "      <th>index</th>\n",
       "      <th>invoiceno</th>\n",
       "      <th>stockcode</th>\n",
       "      <th>quantity</th>\n",
       "      <th>invoice_dt</th>\n",
       "      <th>unitprice</th>\n",
       "      <th>invoicedate</th>\n",
       "      <th>suid</th>\n",
       "      <th>description</th>\n",
       "    </tr>\n",
       "  </thead>\n",
       "  <tbody>\n",
       "    <tr>\n",
       "      <td>0</td>\n",
       "      <td>452406</td>\n",
       "      <td>545895</td>\n",
       "      <td>gift_0001_10</td>\n",
       "      <td>1</td>\n",
       "      <td>2019-03-05 17:14:00</td>\n",
       "      <td>8.33</td>\n",
       "      <td>2019-03-05</td>\n",
       "      <td>4472</td>\n",
       "      <td>dotcomgiftshop gift voucher £10.00</td>\n",
       "    </tr>\n",
       "    <tr>\n",
       "      <td>1</td>\n",
       "      <td>452407</td>\n",
       "      <td>550542</td>\n",
       "      <td>gift_0001_10</td>\n",
       "      <td>1</td>\n",
       "      <td>2019-04-17 11:37:00</td>\n",
       "      <td>8.33</td>\n",
       "      <td>2019-04-17</td>\n",
       "      <td>4472</td>\n",
       "      <td>dotcomgiftshop gift voucher £10.00</td>\n",
       "    </tr>\n",
       "    <tr>\n",
       "      <td>2</td>\n",
       "      <td>452408</td>\n",
       "      <td>553387</td>\n",
       "      <td>gift_0001_10</td>\n",
       "      <td>1</td>\n",
       "      <td>2019-05-14 16:33:00</td>\n",
       "      <td>8.33</td>\n",
       "      <td>2019-05-14</td>\n",
       "      <td>4472</td>\n",
       "      <td>dotcomgiftshop gift voucher £10.00</td>\n",
       "    </tr>\n",
       "    <tr>\n",
       "      <td>3</td>\n",
       "      <td>452409</td>\n",
       "      <td>553389</td>\n",
       "      <td>gift_0001_10</td>\n",
       "      <td>1</td>\n",
       "      <td>2019-05-14 16:37:00</td>\n",
       "      <td>8.33</td>\n",
       "      <td>2019-05-14</td>\n",
       "      <td>4472</td>\n",
       "      <td>dotcomgiftshop gift voucher £10.00</td>\n",
       "    </tr>\n",
       "    <tr>\n",
       "      <td>4</td>\n",
       "      <td>452410</td>\n",
       "      <td>558614</td>\n",
       "      <td>gift_0001_10</td>\n",
       "      <td>1</td>\n",
       "      <td>2019-06-28 15:56:00</td>\n",
       "      <td>8.33</td>\n",
       "      <td>2019-06-28</td>\n",
       "      <td>4472</td>\n",
       "      <td>dotcomgiftshop gift voucher £10.00</td>\n",
       "    </tr>\n",
       "    <tr>\n",
       "      <td>5</td>\n",
       "      <td>452411</td>\n",
       "      <td>564760</td>\n",
       "      <td>gift_0001_10</td>\n",
       "      <td>1</td>\n",
       "      <td>2019-08-28 10:47:00</td>\n",
       "      <td>8.33</td>\n",
       "      <td>2019-08-28</td>\n",
       "      <td>4472</td>\n",
       "      <td>dotcomgiftshop gift voucher £10.00</td>\n",
       "    </tr>\n",
       "    <tr>\n",
       "      <td>6</td>\n",
       "      <td>452412</td>\n",
       "      <td>564762</td>\n",
       "      <td>gift_0001_10</td>\n",
       "      <td>30</td>\n",
       "      <td>2019-08-28 10:48:00</td>\n",
       "      <td>0.00</td>\n",
       "      <td>2019-08-28</td>\n",
       "      <td>4472</td>\n",
       "      <td>dotcomgiftshop gift voucher £10.00</td>\n",
       "    </tr>\n",
       "    <tr>\n",
       "      <td>7</td>\n",
       "      <td>452413</td>\n",
       "      <td>564974</td>\n",
       "      <td>gift_0001_10</td>\n",
       "      <td>2</td>\n",
       "      <td>2019-08-29 15:32:00</td>\n",
       "      <td>8.33</td>\n",
       "      <td>2019-08-29</td>\n",
       "      <td>4472</td>\n",
       "      <td>dotcomgiftshop gift voucher £10.00</td>\n",
       "    </tr>\n",
       "    <tr>\n",
       "      <td>8</td>\n",
       "      <td>452414</td>\n",
       "      <td>581217</td>\n",
       "      <td>gift_0001_10</td>\n",
       "      <td>1</td>\n",
       "      <td>2019-12-06 09:20:00</td>\n",
       "      <td>8.33</td>\n",
       "      <td>2019-12-06</td>\n",
       "      <td>4472</td>\n",
       "      <td>dotcomgiftshop gift voucher £10.00</td>\n",
       "    </tr>\n",
       "  </tbody>\n",
       "</table>\n",
       "</div>"
      ],
      "text/plain": [
       "    index invoiceno     stockcode  quantity          invoice_dt  unitprice  \\\n",
       "0  452406    545895  gift_0001_10         1 2019-03-05 17:14:00       8.33   \n",
       "1  452407    550542  gift_0001_10         1 2019-04-17 11:37:00       8.33   \n",
       "2  452408    553387  gift_0001_10         1 2019-05-14 16:33:00       8.33   \n",
       "3  452409    553389  gift_0001_10         1 2019-05-14 16:37:00       8.33   \n",
       "4  452410    558614  gift_0001_10         1 2019-06-28 15:56:00       8.33   \n",
       "5  452411    564760  gift_0001_10         1 2019-08-28 10:47:00       8.33   \n",
       "6  452412    564762  gift_0001_10        30 2019-08-28 10:48:00       0.00   \n",
       "7  452413    564974  gift_0001_10         2 2019-08-29 15:32:00       8.33   \n",
       "8  452414    581217  gift_0001_10         1 2019-12-06 09:20:00       8.33   \n",
       "\n",
       "  invoicedate  suid                         description  \n",
       "0  2019-03-05  4472  dotcomgiftshop gift voucher £10.00  \n",
       "1  2019-04-17  4472  dotcomgiftshop gift voucher £10.00  \n",
       "2  2019-05-14  4472  dotcomgiftshop gift voucher £10.00  \n",
       "3  2019-05-14  4472  dotcomgiftshop gift voucher £10.00  \n",
       "4  2019-06-28  4472  dotcomgiftshop gift voucher £10.00  \n",
       "5  2019-08-28  4472  dotcomgiftshop gift voucher £10.00  \n",
       "6  2019-08-28  4472  dotcomgiftshop gift voucher £10.00  \n",
       "7  2019-08-29  4472  dotcomgiftshop gift voucher £10.00  \n",
       "8  2019-12-06  4472  dotcomgiftshop gift voucher £10.00  "
      ]
     },
     "execution_count": 23,
     "metadata": {},
     "output_type": "execute_result"
    },
    {
     "data": {
      "text/html": [
       "<div>\n",
       "<style scoped>\n",
       "    .dataframe tbody tr th:only-of-type {\n",
       "        vertical-align: middle;\n",
       "    }\n",
       "\n",
       "    .dataframe tbody tr th {\n",
       "        vertical-align: top;\n",
       "    }\n",
       "\n",
       "    .dataframe thead th {\n",
       "        text-align: right;\n",
       "    }\n",
       "</style>\n",
       "<table border=\"1\" class=\"dataframe\">\n",
       "  <thead>\n",
       "    <tr style=\"text-align: right;\">\n",
       "      <th></th>\n",
       "      <th>index</th>\n",
       "      <th>invoiceno</th>\n",
       "      <th>stockcode</th>\n",
       "      <th>quantity</th>\n",
       "      <th>invoice_dt</th>\n",
       "      <th>unitprice</th>\n",
       "      <th>invoicedate</th>\n",
       "      <th>suid</th>\n",
       "      <th>description</th>\n",
       "    </tr>\n",
       "  </thead>\n",
       "  <tbody>\n",
       "    <tr>\n",
       "      <td>0</td>\n",
       "      <td>462975</td>\n",
       "      <td>550193</td>\n",
       "      <td>pads</td>\n",
       "      <td>1</td>\n",
       "      <td>2019-04-13 09:27:00</td>\n",
       "      <td>0.001</td>\n",
       "      <td>2019-04-13</td>\n",
       "      <td>1295</td>\n",
       "      <td>pads to match all cushions</td>\n",
       "    </tr>\n",
       "    <tr>\n",
       "      <td>1</td>\n",
       "      <td>462976</td>\n",
       "      <td>561226</td>\n",
       "      <td>pads</td>\n",
       "      <td>1</td>\n",
       "      <td>2019-07-24 10:13:00</td>\n",
       "      <td>0.001</td>\n",
       "      <td>2019-07-24</td>\n",
       "      <td>2521</td>\n",
       "      <td>pads to match all cushions</td>\n",
       "    </tr>\n",
       "    <tr>\n",
       "      <td>2</td>\n",
       "      <td>462977</td>\n",
       "      <td>568158</td>\n",
       "      <td>pads</td>\n",
       "      <td>1</td>\n",
       "      <td>2019-09-23 12:22:00</td>\n",
       "      <td>0.000</td>\n",
       "      <td>2019-09-23</td>\n",
       "      <td>2898</td>\n",
       "      <td>pads to match all cushions</td>\n",
       "    </tr>\n",
       "    <tr>\n",
       "      <td>3</td>\n",
       "      <td>462978</td>\n",
       "      <td>568200</td>\n",
       "      <td>pads</td>\n",
       "      <td>1</td>\n",
       "      <td>2019-09-23 14:58:00</td>\n",
       "      <td>0.001</td>\n",
       "      <td>2019-09-23</td>\n",
       "      <td>2949</td>\n",
       "      <td>pads to match all cushions</td>\n",
       "    </tr>\n",
       "  </tbody>\n",
       "</table>\n",
       "</div>"
      ],
      "text/plain": [
       "    index invoiceno stockcode  quantity          invoice_dt  unitprice  \\\n",
       "0  462975    550193      pads         1 2019-04-13 09:27:00      0.001   \n",
       "1  462976    561226      pads         1 2019-07-24 10:13:00      0.001   \n",
       "2  462977    568158      pads         1 2019-09-23 12:22:00      0.000   \n",
       "3  462978    568200      pads         1 2019-09-23 14:58:00      0.001   \n",
       "\n",
       "  invoicedate  suid                 description  \n",
       "0  2019-04-13  1295  pads to match all cushions  \n",
       "1  2019-07-24  2521  pads to match all cushions  \n",
       "2  2019-09-23  2898  pads to match all cushions  \n",
       "3  2019-09-23  2949  pads to match all cushions  "
      ]
     },
     "execution_count": 23,
     "metadata": {},
     "output_type": "execute_result"
    },
    {
     "data": {
      "text/html": [
       "<div>\n",
       "<style scoped>\n",
       "    .dataframe tbody tr th:only-of-type {\n",
       "        vertical-align: middle;\n",
       "    }\n",
       "\n",
       "    .dataframe tbody tr th {\n",
       "        vertical-align: top;\n",
       "    }\n",
       "\n",
       "    .dataframe thead th {\n",
       "        text-align: right;\n",
       "    }\n",
       "</style>\n",
       "<table border=\"1\" class=\"dataframe\">\n",
       "  <thead>\n",
       "    <tr style=\"text-align: right;\">\n",
       "      <th></th>\n",
       "      <th>index</th>\n",
       "      <th>invoiceno</th>\n",
       "      <th>stockcode</th>\n",
       "      <th>quantity</th>\n",
       "      <th>invoice_dt</th>\n",
       "      <th>unitprice</th>\n",
       "      <th>invoicedate</th>\n",
       "      <th>suid</th>\n",
       "      <th>description</th>\n",
       "    </tr>\n",
       "  </thead>\n",
       "  <tbody>\n",
       "    <tr>\n",
       "      <td>0</td>\n",
       "      <td>520610</td>\n",
       "      <td>a563185</td>\n",
       "      <td>b</td>\n",
       "      <td>1</td>\n",
       "      <td>2019-08-10 14:50:00</td>\n",
       "      <td>11062.06</td>\n",
       "      <td>2019-08-10</td>\n",
       "      <td>4472</td>\n",
       "      <td>adjust bad debt</td>\n",
       "    </tr>\n",
       "    <tr>\n",
       "      <td>1</td>\n",
       "      <td>520611</td>\n",
       "      <td>a563186</td>\n",
       "      <td>b</td>\n",
       "      <td>1</td>\n",
       "      <td>2019-08-10 14:51:00</td>\n",
       "      <td>-11062.06</td>\n",
       "      <td>2019-08-10</td>\n",
       "      <td>4472</td>\n",
       "      <td>adjust bad debt</td>\n",
       "    </tr>\n",
       "    <tr>\n",
       "      <td>2</td>\n",
       "      <td>520612</td>\n",
       "      <td>a563187</td>\n",
       "      <td>b</td>\n",
       "      <td>1</td>\n",
       "      <td>2019-08-10 14:52:00</td>\n",
       "      <td>-11062.06</td>\n",
       "      <td>2019-08-10</td>\n",
       "      <td>4472</td>\n",
       "      <td>adjust bad debt</td>\n",
       "    </tr>\n",
       "  </tbody>\n",
       "</table>\n",
       "</div>"
      ],
      "text/plain": [
       "    index invoiceno stockcode  quantity          invoice_dt  unitprice  \\\n",
       "0  520610   a563185         b         1 2019-08-10 14:50:00   11062.06   \n",
       "1  520611   a563186         b         1 2019-08-10 14:51:00  -11062.06   \n",
       "2  520612   a563187         b         1 2019-08-10 14:52:00  -11062.06   \n",
       "\n",
       "  invoicedate  suid      description  \n",
       "0  2019-08-10  4472  adjust bad debt  \n",
       "1  2019-08-10  4472  adjust bad debt  \n",
       "2  2019-08-10  4472  adjust bad debt  "
      ]
     },
     "execution_count": 23,
     "metadata": {},
     "output_type": "execute_result"
    },
    {
     "data": {
      "text/html": [
       "<div>\n",
       "<style scoped>\n",
       "    .dataframe tbody tr th:only-of-type {\n",
       "        vertical-align: middle;\n",
       "    }\n",
       "\n",
       "    .dataframe tbody tr th {\n",
       "        vertical-align: top;\n",
       "    }\n",
       "\n",
       "    .dataframe thead th {\n",
       "        text-align: right;\n",
       "    }\n",
       "</style>\n",
       "<table border=\"1\" class=\"dataframe\">\n",
       "  <thead>\n",
       "    <tr style=\"text-align: right;\">\n",
       "      <th></th>\n",
       "      <th>index</th>\n",
       "      <th>invoiceno</th>\n",
       "      <th>stockcode</th>\n",
       "      <th>quantity</th>\n",
       "      <th>invoice_dt</th>\n",
       "      <th>unitprice</th>\n",
       "      <th>invoicedate</th>\n",
       "      <th>suid</th>\n",
       "      <th>description</th>\n",
       "    </tr>\n",
       "  </thead>\n",
       "  <tbody>\n",
       "    <tr>\n",
       "      <td>0</td>\n",
       "      <td>523079</td>\n",
       "      <td>c564763</td>\n",
       "      <td>cruk</td>\n",
       "      <td>-1</td>\n",
       "      <td>2019-08-28 10:49:00</td>\n",
       "      <td>1.60</td>\n",
       "      <td>2019-08-28</td>\n",
       "      <td>1400</td>\n",
       "      <td>cruk commission</td>\n",
       "    </tr>\n",
       "    <tr>\n",
       "      <td>1</td>\n",
       "      <td>523080</td>\n",
       "      <td>c565382</td>\n",
       "      <td>cruk</td>\n",
       "      <td>-1</td>\n",
       "      <td>2019-08-31 15:45:00</td>\n",
       "      <td>13.01</td>\n",
       "      <td>2019-08-31</td>\n",
       "      <td>1400</td>\n",
       "      <td>cruk commission</td>\n",
       "    </tr>\n",
       "    <tr>\n",
       "      <td>2</td>\n",
       "      <td>523081</td>\n",
       "      <td>c566216</td>\n",
       "      <td>cruk</td>\n",
       "      <td>-1</td>\n",
       "      <td>2019-09-07 15:17:00</td>\n",
       "      <td>15.96</td>\n",
       "      <td>2019-09-07</td>\n",
       "      <td>1400</td>\n",
       "      <td>cruk commission</td>\n",
       "    </tr>\n",
       "    <tr>\n",
       "      <td>3</td>\n",
       "      <td>523082</td>\n",
       "      <td>c566565</td>\n",
       "      <td>cruk</td>\n",
       "      <td>-1</td>\n",
       "      <td>2019-09-11 12:32:00</td>\n",
       "      <td>52.24</td>\n",
       "      <td>2019-09-11</td>\n",
       "      <td>1400</td>\n",
       "      <td>cruk commission</td>\n",
       "    </tr>\n",
       "    <tr>\n",
       "      <td>4</td>\n",
       "      <td>523083</td>\n",
       "      <td>c567655</td>\n",
       "      <td>cruk</td>\n",
       "      <td>-1</td>\n",
       "      <td>2019-09-19 14:40:00</td>\n",
       "      <td>608.66</td>\n",
       "      <td>2019-09-19</td>\n",
       "      <td>1400</td>\n",
       "      <td>cruk commission</td>\n",
       "    </tr>\n",
       "    <tr>\n",
       "      <td>5</td>\n",
       "      <td>523084</td>\n",
       "      <td>c568345</td>\n",
       "      <td>cruk</td>\n",
       "      <td>-1</td>\n",
       "      <td>2019-09-24 15:28:00</td>\n",
       "      <td>447.56</td>\n",
       "      <td>2019-09-24</td>\n",
       "      <td>1400</td>\n",
       "      <td>cruk commission</td>\n",
       "    </tr>\n",
       "    <tr>\n",
       "      <td>6</td>\n",
       "      <td>523085</td>\n",
       "      <td>c569245</td>\n",
       "      <td>cruk</td>\n",
       "      <td>-1</td>\n",
       "      <td>2019-10-01 09:57:00</td>\n",
       "      <td>361.59</td>\n",
       "      <td>2019-10-01</td>\n",
       "      <td>1400</td>\n",
       "      <td>cruk commission</td>\n",
       "    </tr>\n",
       "    <tr>\n",
       "      <td>7</td>\n",
       "      <td>523086</td>\n",
       "      <td>c570487</td>\n",
       "      <td>cruk</td>\n",
       "      <td>-1</td>\n",
       "      <td>2019-10-08 17:12:00</td>\n",
       "      <td>411.92</td>\n",
       "      <td>2019-10-08</td>\n",
       "      <td>1400</td>\n",
       "      <td>cruk commission</td>\n",
       "    </tr>\n",
       "    <tr>\n",
       "      <td>8</td>\n",
       "      <td>523087</td>\n",
       "      <td>c571440</td>\n",
       "      <td>cruk</td>\n",
       "      <td>-1</td>\n",
       "      <td>2019-10-15 13:31:00</td>\n",
       "      <td>495.98</td>\n",
       "      <td>2019-10-15</td>\n",
       "      <td>1400</td>\n",
       "      <td>cruk commission</td>\n",
       "    </tr>\n",
       "    <tr>\n",
       "      <td>9</td>\n",
       "      <td>523088</td>\n",
       "      <td>c572551</td>\n",
       "      <td>cruk</td>\n",
       "      <td>-1</td>\n",
       "      <td>2019-10-22 17:07:00</td>\n",
       "      <td>425.14</td>\n",
       "      <td>2019-10-22</td>\n",
       "      <td>1400</td>\n",
       "      <td>cruk commission</td>\n",
       "    </tr>\n",
       "    <tr>\n",
       "      <td>10</td>\n",
       "      <td>523089</td>\n",
       "      <td>c573575</td>\n",
       "      <td>cruk</td>\n",
       "      <td>-1</td>\n",
       "      <td>2019-10-29 14:09:00</td>\n",
       "      <td>606.00</td>\n",
       "      <td>2019-10-29</td>\n",
       "      <td>1400</td>\n",
       "      <td>cruk commission</td>\n",
       "    </tr>\n",
       "    <tr>\n",
       "      <td>11</td>\n",
       "      <td>523090</td>\n",
       "      <td>c575606</td>\n",
       "      <td>cruk</td>\n",
       "      <td>-1</td>\n",
       "      <td>2019-11-08 12:37:00</td>\n",
       "      <td>517.51</td>\n",
       "      <td>2019-11-08</td>\n",
       "      <td>1400</td>\n",
       "      <td>cruk commission</td>\n",
       "    </tr>\n",
       "    <tr>\n",
       "      <td>12</td>\n",
       "      <td>523091</td>\n",
       "      <td>c576338</td>\n",
       "      <td>cruk</td>\n",
       "      <td>-1</td>\n",
       "      <td>2019-11-12 15:27:00</td>\n",
       "      <td>1038.75</td>\n",
       "      <td>2019-11-12</td>\n",
       "      <td>1400</td>\n",
       "      <td>cruk commission</td>\n",
       "    </tr>\n",
       "    <tr>\n",
       "      <td>13</td>\n",
       "      <td>523092</td>\n",
       "      <td>c578269</td>\n",
       "      <td>cruk</td>\n",
       "      <td>-1</td>\n",
       "      <td>2019-11-21 13:39:00</td>\n",
       "      <td>849.93</td>\n",
       "      <td>2019-11-21</td>\n",
       "      <td>1400</td>\n",
       "      <td>cruk commission</td>\n",
       "    </tr>\n",
       "    <tr>\n",
       "      <td>14</td>\n",
       "      <td>523093</td>\n",
       "      <td>c579195</td>\n",
       "      <td>cruk</td>\n",
       "      <td>-1</td>\n",
       "      <td>2019-11-26 15:54:00</td>\n",
       "      <td>987.14</td>\n",
       "      <td>2019-11-26</td>\n",
       "      <td>1400</td>\n",
       "      <td>cruk commission</td>\n",
       "    </tr>\n",
       "    <tr>\n",
       "      <td>15</td>\n",
       "      <td>523094</td>\n",
       "      <td>c580726</td>\n",
       "      <td>cruk</td>\n",
       "      <td>-1</td>\n",
       "      <td>2019-12-03 17:17:00</td>\n",
       "      <td>1100.44</td>\n",
       "      <td>2019-12-03</td>\n",
       "      <td>1400</td>\n",
       "      <td>cruk commission</td>\n",
       "    </tr>\n",
       "  </tbody>\n",
       "</table>\n",
       "</div>"
      ],
      "text/plain": [
       "     index invoiceno stockcode  quantity          invoice_dt  unitprice  \\\n",
       "0   523079   c564763      cruk        -1 2019-08-28 10:49:00       1.60   \n",
       "1   523080   c565382      cruk        -1 2019-08-31 15:45:00      13.01   \n",
       "2   523081   c566216      cruk        -1 2019-09-07 15:17:00      15.96   \n",
       "3   523082   c566565      cruk        -1 2019-09-11 12:32:00      52.24   \n",
       "4   523083   c567655      cruk        -1 2019-09-19 14:40:00     608.66   \n",
       "5   523084   c568345      cruk        -1 2019-09-24 15:28:00     447.56   \n",
       "6   523085   c569245      cruk        -1 2019-10-01 09:57:00     361.59   \n",
       "7   523086   c570487      cruk        -1 2019-10-08 17:12:00     411.92   \n",
       "8   523087   c571440      cruk        -1 2019-10-15 13:31:00     495.98   \n",
       "9   523088   c572551      cruk        -1 2019-10-22 17:07:00     425.14   \n",
       "10  523089   c573575      cruk        -1 2019-10-29 14:09:00     606.00   \n",
       "11  523090   c575606      cruk        -1 2019-11-08 12:37:00     517.51   \n",
       "12  523091   c576338      cruk        -1 2019-11-12 15:27:00    1038.75   \n",
       "13  523092   c578269      cruk        -1 2019-11-21 13:39:00     849.93   \n",
       "14  523093   c579195      cruk        -1 2019-11-26 15:54:00     987.14   \n",
       "15  523094   c580726      cruk        -1 2019-12-03 17:17:00    1100.44   \n",
       "\n",
       "   invoicedate  suid      description  \n",
       "0   2019-08-28  1400  cruk commission  \n",
       "1   2019-08-31  1400  cruk commission  \n",
       "2   2019-09-07  1400  cruk commission  \n",
       "3   2019-09-11  1400  cruk commission  \n",
       "4   2019-09-19  1400  cruk commission  \n",
       "5   2019-09-24  1400  cruk commission  \n",
       "6   2019-10-01  1400  cruk commission  \n",
       "7   2019-10-08  1400  cruk commission  \n",
       "8   2019-10-15  1400  cruk commission  \n",
       "9   2019-10-22  1400  cruk commission  \n",
       "10  2019-10-29  1400  cruk commission  \n",
       "11  2019-11-08  1400  cruk commission  \n",
       "12  2019-11-12  1400  cruk commission  \n",
       "13  2019-11-21  1400  cruk commission  \n",
       "14  2019-11-26  1400  cruk commission  \n",
       "15  2019-12-03  1400  cruk commission  "
      ]
     },
     "execution_count": 23,
     "metadata": {},
     "output_type": "execute_result"
    }
   ],
   "source": [
    "# looking at the rows with those scs\n",
    "for sc in no_num_sc:\n",
    "    orgnzd_ecommerce.query('stockcode == @sc').reset_index()"
   ]
  },
  {
   "cell_type": "markdown",
   "metadata": {},
   "source": [
    "i see that uid 4472 and 1400 are essential to \"dotcom postage\", \"samples\", \"amazon fee\" and \"cruk commission\", so lets check those uids"
   ]
  },
  {
   "cell_type": "code",
   "execution_count": 24,
   "metadata": {
    "scrolled": true
   },
   "outputs": [
    {
     "data": {
      "text/html": [
       "<div>\n",
       "<style scoped>\n",
       "    .dataframe tbody tr th:only-of-type {\n",
       "        vertical-align: middle;\n",
       "    }\n",
       "\n",
       "    .dataframe tbody tr th {\n",
       "        vertical-align: top;\n",
       "    }\n",
       "\n",
       "    .dataframe thead th {\n",
       "        text-align: right;\n",
       "    }\n",
       "</style>\n",
       "<table border=\"1\" class=\"dataframe\">\n",
       "  <thead>\n",
       "    <tr style=\"text-align: right;\">\n",
       "      <th></th>\n",
       "      <th>stockcode</th>\n",
       "      <th>description</th>\n",
       "      <th>suid</th>\n",
       "      <th>invoiceno</th>\n",
       "    </tr>\n",
       "  </thead>\n",
       "  <tbody>\n",
       "    <tr>\n",
       "      <td>0</td>\n",
       "      <td>10002</td>\n",
       "      <td>inflatable political globe</td>\n",
       "      <td>4472</td>\n",
       "      <td>24</td>\n",
       "    </tr>\n",
       "    <tr>\n",
       "      <td>1</td>\n",
       "      <td>10080</td>\n",
       "      <td>groovy cactus inflatable</td>\n",
       "      <td>4472</td>\n",
       "      <td>3</td>\n",
       "    </tr>\n",
       "    <tr>\n",
       "      <td>2</td>\n",
       "      <td>10123c</td>\n",
       "      <td>hearts wrapping tape</td>\n",
       "      <td>4472</td>\n",
       "      <td>1</td>\n",
       "    </tr>\n",
       "    <tr>\n",
       "      <td>3</td>\n",
       "      <td>10125</td>\n",
       "      <td>mini funky design tapes</td>\n",
       "      <td>4472</td>\n",
       "      <td>30</td>\n",
       "    </tr>\n",
       "    <tr>\n",
       "      <td>4</td>\n",
       "      <td>10133</td>\n",
       "      <td>colouring pencils brown tube</td>\n",
       "      <td>4472</td>\n",
       "      <td>75</td>\n",
       "    </tr>\n",
       "    <tr>\n",
       "      <td>...</td>\n",
       "      <td>...</td>\n",
       "      <td>...</td>\n",
       "      <td>...</td>\n",
       "      <td>...</td>\n",
       "    </tr>\n",
       "    <tr>\n",
       "      <td>4705</td>\n",
       "      <td>gift_0001_50</td>\n",
       "      <td>dotcomgiftshop gift voucher £50.00</td>\n",
       "      <td>4472</td>\n",
       "      <td>4</td>\n",
       "    </tr>\n",
       "    <tr>\n",
       "      <td>4706</td>\n",
       "      <td>m</td>\n",
       "      <td>manual</td>\n",
       "      <td>1400</td>\n",
       "      <td>1</td>\n",
       "    </tr>\n",
       "    <tr>\n",
       "      <td>4707</td>\n",
       "      <td>m</td>\n",
       "      <td>manual</td>\n",
       "      <td>4472</td>\n",
       "      <td>107</td>\n",
       "    </tr>\n",
       "    <tr>\n",
       "      <td>4708</td>\n",
       "      <td>post</td>\n",
       "      <td>postage</td>\n",
       "      <td>4472</td>\n",
       "      <td>60</td>\n",
       "    </tr>\n",
       "    <tr>\n",
       "      <td>4709</td>\n",
       "      <td>s</td>\n",
       "      <td>samples</td>\n",
       "      <td>4472</td>\n",
       "      <td>63</td>\n",
       "    </tr>\n",
       "  </tbody>\n",
       "</table>\n",
       "<p>4710 rows × 4 columns</p>\n",
       "</div>"
      ],
      "text/plain": [
       "         stockcode                         description  suid  invoiceno\n",
       "0            10002          inflatable political globe  4472         24\n",
       "1            10080            groovy cactus inflatable  4472          3\n",
       "2           10123c                hearts wrapping tape  4472          1\n",
       "3            10125             mini funky design tapes  4472         30\n",
       "4            10133        colouring pencils brown tube  4472         75\n",
       "...            ...                                 ...   ...        ...\n",
       "4705  gift_0001_50  dotcomgiftshop gift voucher £50.00  4472          4\n",
       "4706             m                              manual  1400          1\n",
       "4707             m                              manual  4472        107\n",
       "4708          post                             postage  4472         60\n",
       "4709             s                             samples  4472         63\n",
       "\n",
       "[4710 rows x 4 columns]"
      ]
     },
     "execution_count": 24,
     "metadata": {},
     "output_type": "execute_result"
    }
   ],
   "source": [
    "# looking at the amount and variation of items those users bought\n",
    "orgnzd_ecommerce[orgnzd_ecommerce['suid'].isin([4472, 1400])].groupby(['stockcode', 'description', 'suid'])[\n",
    "    'invoiceno'].count().reset_index()"
   ]
  },
  {
   "cell_type": "markdown",
   "metadata": {},
   "source": [
    "i see they did buy other stuff, but since those users are not entirely \"regular\" i will drop them"
   ]
  },
  {
   "cell_type": "code",
   "execution_count": 25,
   "metadata": {},
   "outputs": [],
   "source": [
    "# dropping those users from bith tables\n",
    "returns = returns[returns['suid'] != (4472, 1400)].reset_index(drop = True)\n",
    "purchases = purchases[purchases['suid'] != (4472, 1400)].reset_index(drop = True)"
   ]
  },
  {
   "cell_type": "markdown",
   "metadata": {},
   "source": [
    "also ill drop the no_num_sc since they are irrelevant to us (except for the 'dcgssboy' and 'dcgssgirl')"
   ]
  },
  {
   "cell_type": "code",
   "execution_count": 26,
   "metadata": {},
   "outputs": [
    {
     "data": {
      "text/plain": [
       "['post',\n",
       " 'd',\n",
       " 'dot',\n",
       " 'm',\n",
       " 'bank charges',\n",
       " 's',\n",
       " 'amazonfee',\n",
       " 'gift_0001_40',\n",
       " 'gift_0001_50',\n",
       " 'gift_0001_30',\n",
       " 'gift_0001_20',\n",
       " 'gift_0001_10',\n",
       " 'pads',\n",
       " 'b',\n",
       " 'cruk']"
      ]
     },
     "execution_count": 26,
     "metadata": {},
     "output_type": "execute_result"
    }
   ],
   "source": [
    "# making a sc drop list\n",
    "sc_to_drop = [i for i in no_num_sc if i not in ['dcgssboy', 'dcgssgirl']]\n",
    "sc_to_drop"
   ]
  },
  {
   "cell_type": "code",
   "execution_count": 27,
   "metadata": {
    "scrolled": true
   },
   "outputs": [],
   "source": [
    "# droping those scs from both tables\n",
    "returns = returns[~returns['stockcode'].isin(sc_to_drop)].reset_index(drop = True)\n",
    "purchases = purchases[~purchases['stockcode'].isin(sc_to_drop)].reset_index(drop = True)"
   ]
  },
  {
   "cell_type": "markdown",
   "metadata": {},
   "source": [
    "now ill check if the invoices from the returns are connected to the ones in purchases"
   ]
  },
  {
   "cell_type": "code",
   "execution_count": 28,
   "metadata": {},
   "outputs": [
    {
     "data": {
      "text/html": [
       "<div>\n",
       "<style scoped>\n",
       "    .dataframe tbody tr th:only-of-type {\n",
       "        vertical-align: middle;\n",
       "    }\n",
       "\n",
       "    .dataframe tbody tr th {\n",
       "        vertical-align: top;\n",
       "    }\n",
       "\n",
       "    .dataframe thead th {\n",
       "        text-align: right;\n",
       "    }\n",
       "</style>\n",
       "<table border=\"1\" class=\"dataframe\">\n",
       "  <thead>\n",
       "    <tr style=\"text-align: right;\">\n",
       "      <th></th>\n",
       "      <th>invoiceno</th>\n",
       "      <th>stockcode</th>\n",
       "      <th>quantity</th>\n",
       "      <th>invoice_dt</th>\n",
       "      <th>unitprice</th>\n",
       "      <th>invoicedate</th>\n",
       "      <th>suid</th>\n",
       "      <th>description</th>\n",
       "    </tr>\n",
       "  </thead>\n",
       "  <tbody>\n",
       "  </tbody>\n",
       "</table>\n",
       "</div>"
      ],
      "text/plain": [
       "Empty DataFrame\n",
       "Columns: [invoiceno, stockcode, quantity, invoice_dt, unitprice, invoicedate, suid, description]\n",
       "Index: []"
      ]
     },
     "execution_count": 28,
     "metadata": {},
     "output_type": "execute_result"
    }
   ],
   "source": [
    "# looking in purchases if the invoiceno from returns is in there\n",
    "purchases.query('invoiceno == \"C579192\"')"
   ]
  },
  {
   "cell_type": "code",
   "execution_count": 29,
   "metadata": {},
   "outputs": [
    {
     "data": {
      "text/html": [
       "<div>\n",
       "<style scoped>\n",
       "    .dataframe tbody tr th:only-of-type {\n",
       "        vertical-align: middle;\n",
       "    }\n",
       "\n",
       "    .dataframe tbody tr th {\n",
       "        vertical-align: top;\n",
       "    }\n",
       "\n",
       "    .dataframe thead th {\n",
       "        text-align: right;\n",
       "    }\n",
       "</style>\n",
       "<table border=\"1\" class=\"dataframe\">\n",
       "  <thead>\n",
       "    <tr style=\"text-align: right;\">\n",
       "      <th></th>\n",
       "      <th>invoiceno</th>\n",
       "      <th>stockcode</th>\n",
       "      <th>quantity</th>\n",
       "      <th>invoice_dt</th>\n",
       "      <th>unitprice</th>\n",
       "      <th>invoicedate</th>\n",
       "      <th>suid</th>\n",
       "      <th>description</th>\n",
       "    </tr>\n",
       "  </thead>\n",
       "  <tbody>\n",
       "  </tbody>\n",
       "</table>\n",
       "</div>"
      ],
      "text/plain": [
       "Empty DataFrame\n",
       "Columns: [invoiceno, stockcode, quantity, invoice_dt, unitprice, invoicedate, suid, description]\n",
       "Index: []"
      ]
     },
     "execution_count": 29,
     "metadata": {},
     "output_type": "execute_result"
    }
   ],
   "source": [
    "# looking in purchases if the invoiceno from returns is there without the \"C\"\n",
    "purchases.query('invoiceno == \"579192\"')"
   ]
  },
  {
   "cell_type": "markdown",
   "metadata": {},
   "source": [
    "seems that the returns did not happen in the same invoice as the purchase and are not conncected by it, but lets check all of them"
   ]
  },
  {
   "cell_type": "code",
   "execution_count": 30,
   "metadata": {},
   "outputs": [
    {
     "data": {
      "text/plain": [
       "0"
      ]
     },
     "execution_count": 30,
     "metadata": {},
     "output_type": "execute_result"
    },
    {
     "data": {
      "text/plain": [
       "4661"
      ]
     },
     "execution_count": 30,
     "metadata": {},
     "output_type": "execute_result"
    },
    {
     "data": {
      "text/plain": [
       "4661"
      ]
     },
     "execution_count": 30,
     "metadata": {},
     "output_type": "execute_result"
    }
   ],
   "source": [
    "# checking if the invoices in the returns are the same as the ones in purchases\n",
    "returns_iv_list = returns['invoiceno'].unique().tolist()\n",
    "purchases_iv_list = purchases['invoiceno'].unique().tolist()\n",
    "len(set(returns_iv_list).intersection(set(purchases_iv_list)))\n",
    "len(set(returns_iv_list).difference(set(purchases_iv_list)))\n",
    "len(returns['invoiceno'].unique())"
   ]
  },
  {
   "cell_type": "code",
   "execution_count": 31,
   "metadata": {},
   "outputs": [],
   "source": [
    "# making a new list of the return invoices without the letters\n",
    "returns_iv_list2 = []\n",
    "for iv in returns_iv_list:\n",
    "    if iv.isdecimal():\n",
    "        returns_iv_list2.append(iv)\n",
    "    else:\n",
    "        i = ''.join(filter(str.isdigit, iv))\n",
    "        returns_iv_list2.append(i)"
   ]
  },
  {
   "cell_type": "code",
   "execution_count": 32,
   "metadata": {},
   "outputs": [
    {
     "data": {
      "text/plain": [
       "0"
      ]
     },
     "execution_count": 32,
     "metadata": {},
     "output_type": "execute_result"
    },
    {
     "data": {
      "text/plain": [
       "4661"
      ]
     },
     "execution_count": 32,
     "metadata": {},
     "output_type": "execute_result"
    },
    {
     "data": {
      "text/plain": [
       "4661"
      ]
     },
     "execution_count": 32,
     "metadata": {},
     "output_type": "execute_result"
    }
   ],
   "source": [
    "# checking if the invoices in the returns *without the letters in them* are the same as the ones in purchases\n",
    "#returns_iv_list = [iv.translate(None, letters) for iv in returns_iv_list]\n",
    "len(set(returns_iv_list2).intersection(set(purchases_iv_list)))\n",
    "len(set(returns_iv_list2).difference(set(purchases_iv_list)))\n",
    "len(returns['invoiceno'].unique())"
   ]
  },
  {
   "cell_type": "markdown",
   "metadata": {},
   "source": [
    "now ill do the same test for uids"
   ]
  },
  {
   "cell_type": "code",
   "execution_count": 33,
   "metadata": {},
   "outputs": [
    {
     "data": {
      "text/plain": [
       "1507"
      ]
     },
     "execution_count": 33,
     "metadata": {},
     "output_type": "execute_result"
    },
    {
     "data": {
      "text/plain": [
       "28"
      ]
     },
     "execution_count": 33,
     "metadata": {},
     "output_type": "execute_result"
    },
    {
     "data": {
      "text/plain": [
       "1535"
      ]
     },
     "execution_count": 33,
     "metadata": {},
     "output_type": "execute_result"
    },
    {
     "data": {
      "text/plain": [
       "1535"
      ]
     },
     "execution_count": 33,
     "metadata": {},
     "output_type": "execute_result"
    }
   ],
   "source": [
    "# looking at how many users returned items out of the users that bought something\n",
    "returns_id_list = returns['suid'].unique().tolist()\n",
    "purchases_id_list = purchases['suid'].unique().tolist()\n",
    "same = set(returns_id_list).intersection(set(purchases_id_list))\n",
    "notsame = set(returns_id_list).difference(set(purchases_id_list))\n",
    "len(same)\n",
    "len(notsame)\n",
    "len(same) + len(notsame)\n",
    "len(returns['suid'].unique())"
   ]
  },
  {
   "cell_type": "markdown",
   "metadata": {},
   "source": [
    "that means that most of the customers from returns did buy something (which is logical), and 28 customers never purchased anything but got a return - maybe they purchased before the data was taken, or what they got was free or some sale.."
   ]
  },
  {
   "cell_type": "code",
   "execution_count": 34,
   "metadata": {},
   "outputs": [
    {
     "data": {
      "text/plain": [
       "1507"
      ]
     },
     "execution_count": 34,
     "metadata": {},
     "output_type": "execute_result"
    }
   ],
   "source": [
    "# removing those uids, since they are not present in purchases\n",
    "returns = returns[returns['suid'].isin(same)].reset_index(drop = True)\n",
    "len(returns['suid'].unique())"
   ]
  },
  {
   "cell_type": "markdown",
   "metadata": {},
   "source": [
    "and now negative price"
   ]
  },
  {
   "cell_type": "code",
   "execution_count": 35,
   "metadata": {
    "scrolled": true
   },
   "outputs": [
    {
     "data": {
      "text/html": [
       "<div>\n",
       "<style scoped>\n",
       "    .dataframe tbody tr th:only-of-type {\n",
       "        vertical-align: middle;\n",
       "    }\n",
       "\n",
       "    .dataframe tbody tr th {\n",
       "        vertical-align: top;\n",
       "    }\n",
       "\n",
       "    .dataframe thead th {\n",
       "        text-align: right;\n",
       "    }\n",
       "</style>\n",
       "<table border=\"1\" class=\"dataframe\">\n",
       "  <thead>\n",
       "    <tr style=\"text-align: right;\">\n",
       "      <th></th>\n",
       "      <th>invoiceno</th>\n",
       "      <th>stockcode</th>\n",
       "      <th>quantity</th>\n",
       "      <th>invoice_dt</th>\n",
       "      <th>unitprice</th>\n",
       "      <th>invoicedate</th>\n",
       "      <th>suid</th>\n",
       "      <th>description</th>\n",
       "    </tr>\n",
       "  </thead>\n",
       "  <tbody>\n",
       "    <tr>\n",
       "      <td>520611</td>\n",
       "      <td>a563186</td>\n",
       "      <td>b</td>\n",
       "      <td>1</td>\n",
       "      <td>2019-08-10 14:51:00</td>\n",
       "      <td>-11062.06</td>\n",
       "      <td>2019-08-10</td>\n",
       "      <td>4472</td>\n",
       "      <td>adjust bad debt</td>\n",
       "    </tr>\n",
       "    <tr>\n",
       "      <td>520612</td>\n",
       "      <td>a563187</td>\n",
       "      <td>b</td>\n",
       "      <td>1</td>\n",
       "      <td>2019-08-10 14:52:00</td>\n",
       "      <td>-11062.06</td>\n",
       "      <td>2019-08-10</td>\n",
       "      <td>4472</td>\n",
       "      <td>adjust bad debt</td>\n",
       "    </tr>\n",
       "  </tbody>\n",
       "</table>\n",
       "</div>"
      ],
      "text/plain": [
       "       invoiceno stockcode  quantity          invoice_dt  unitprice  \\\n",
       "520611   a563186         b         1 2019-08-10 14:51:00  -11062.06   \n",
       "520612   a563187         b         1 2019-08-10 14:52:00  -11062.06   \n",
       "\n",
       "       invoicedate  suid      description  \n",
       "520611  2019-08-10  4472  adjust bad debt  \n",
       "520612  2019-08-10  4472  adjust bad debt  "
      ]
     },
     "execution_count": 35,
     "metadata": {},
     "output_type": "execute_result"
    }
   ],
   "source": [
    "# looking at the rows with negative unitprice\n",
    "orgnzd_ecommerce[orgnzd_ecommerce['unitprice'] < 0]"
   ]
  },
  {
   "cell_type": "markdown",
   "metadata": {},
   "source": [
    "seems that only stockcode is B has negative price, lets check if there are other rows with it"
   ]
  },
  {
   "cell_type": "code",
   "execution_count": 36,
   "metadata": {
    "scrolled": true
   },
   "outputs": [
    {
     "data": {
      "text/html": [
       "<div>\n",
       "<style scoped>\n",
       "    .dataframe tbody tr th:only-of-type {\n",
       "        vertical-align: middle;\n",
       "    }\n",
       "\n",
       "    .dataframe tbody tr th {\n",
       "        vertical-align: top;\n",
       "    }\n",
       "\n",
       "    .dataframe thead th {\n",
       "        text-align: right;\n",
       "    }\n",
       "</style>\n",
       "<table border=\"1\" class=\"dataframe\">\n",
       "  <thead>\n",
       "    <tr style=\"text-align: right;\">\n",
       "      <th></th>\n",
       "      <th>invoiceno</th>\n",
       "      <th>stockcode</th>\n",
       "      <th>quantity</th>\n",
       "      <th>invoice_dt</th>\n",
       "      <th>unitprice</th>\n",
       "      <th>invoicedate</th>\n",
       "      <th>suid</th>\n",
       "      <th>description</th>\n",
       "    </tr>\n",
       "  </thead>\n",
       "  <tbody>\n",
       "    <tr>\n",
       "      <td>520610</td>\n",
       "      <td>a563185</td>\n",
       "      <td>b</td>\n",
       "      <td>1</td>\n",
       "      <td>2019-08-10 14:50:00</td>\n",
       "      <td>11062.06</td>\n",
       "      <td>2019-08-10</td>\n",
       "      <td>4472</td>\n",
       "      <td>adjust bad debt</td>\n",
       "    </tr>\n",
       "    <tr>\n",
       "      <td>520611</td>\n",
       "      <td>a563186</td>\n",
       "      <td>b</td>\n",
       "      <td>1</td>\n",
       "      <td>2019-08-10 14:51:00</td>\n",
       "      <td>-11062.06</td>\n",
       "      <td>2019-08-10</td>\n",
       "      <td>4472</td>\n",
       "      <td>adjust bad debt</td>\n",
       "    </tr>\n",
       "    <tr>\n",
       "      <td>520612</td>\n",
       "      <td>a563187</td>\n",
       "      <td>b</td>\n",
       "      <td>1</td>\n",
       "      <td>2019-08-10 14:52:00</td>\n",
       "      <td>-11062.06</td>\n",
       "      <td>2019-08-10</td>\n",
       "      <td>4472</td>\n",
       "      <td>adjust bad debt</td>\n",
       "    </tr>\n",
       "  </tbody>\n",
       "</table>\n",
       "</div>"
      ],
      "text/plain": [
       "       invoiceno stockcode  quantity          invoice_dt  unitprice  \\\n",
       "520610   a563185         b         1 2019-08-10 14:50:00   11062.06   \n",
       "520611   a563186         b         1 2019-08-10 14:51:00  -11062.06   \n",
       "520612   a563187         b         1 2019-08-10 14:52:00  -11062.06   \n",
       "\n",
       "       invoicedate  suid      description  \n",
       "520610  2019-08-10  4472  adjust bad debt  \n",
       "520611  2019-08-10  4472  adjust bad debt  \n",
       "520612  2019-08-10  4472  adjust bad debt  "
      ]
     },
     "execution_count": 36,
     "metadata": {},
     "output_type": "execute_result"
    }
   ],
   "source": [
    "# lookig at sc b rows\n",
    "orgnzd_ecommerce.query('stockcode == \"b\"')"
   ]
  },
  {
   "cell_type": "markdown",
   "metadata": {},
   "source": [
    "after consulting with team lead ill remove those rows"
   ]
  },
  {
   "cell_type": "code",
   "execution_count": 37,
   "metadata": {},
   "outputs": [],
   "source": [
    "# dropping sc b rows\n",
    "orgnzd_ecommerce = orgnzd_ecommerce.query('stockcode != \"b\"')"
   ]
  },
  {
   "cell_type": "markdown",
   "metadata": {},
   "source": [
    "actually since the goal of the project is to find what sells best and etc, i will only use the purchases table from now on"
   ]
  },
  {
   "cell_type": "code",
   "execution_count": 38,
   "metadata": {},
   "outputs": [],
   "source": [
    "# dropping sc b rows\n",
    "purchases = purchases.query('stockcode != \"b\"')"
   ]
  },
  {
   "cell_type": "code",
   "execution_count": 39,
   "metadata": {},
   "outputs": [],
   "source": [
    "# calculating spent amount of each row\n",
    "purchases['spent'] = purchases['quantity'] * purchases['unitprice']"
   ]
  },
  {
   "cell_type": "code",
   "execution_count": 40,
   "metadata": {
    "scrolled": true
   },
   "outputs": [
    {
     "data": {
      "text/html": [
       "<div>\n",
       "<style scoped>\n",
       "    .dataframe tbody tr th:only-of-type {\n",
       "        vertical-align: middle;\n",
       "    }\n",
       "\n",
       "    .dataframe tbody tr th {\n",
       "        vertical-align: top;\n",
       "    }\n",
       "\n",
       "    .dataframe thead th {\n",
       "        text-align: right;\n",
       "    }\n",
       "</style>\n",
       "<table border=\"1\" class=\"dataframe\">\n",
       "  <thead>\n",
       "    <tr style=\"text-align: right;\">\n",
       "      <th></th>\n",
       "      <th>invoiceno</th>\n",
       "      <th>stockcode</th>\n",
       "      <th>quantity</th>\n",
       "      <th>invoice_dt</th>\n",
       "      <th>unitprice</th>\n",
       "      <th>invoicedate</th>\n",
       "      <th>suid</th>\n",
       "      <th>description</th>\n",
       "      <th>spent</th>\n",
       "    </tr>\n",
       "  </thead>\n",
       "  <tbody>\n",
       "    <tr>\n",
       "      <td>count</td>\n",
       "      <td>529048</td>\n",
       "      <td>529048</td>\n",
       "      <td>529048.000000</td>\n",
       "      <td>529048</td>\n",
       "      <td>529048.000000</td>\n",
       "      <td>529048</td>\n",
       "      <td>529048.0</td>\n",
       "      <td>529048</td>\n",
       "      <td>529048.000000</td>\n",
       "    </tr>\n",
       "    <tr>\n",
       "      <td>unique</td>\n",
       "      <td>20529</td>\n",
       "      <td>3803</td>\n",
       "      <td>NaN</td>\n",
       "      <td>18890</td>\n",
       "      <td>NaN</td>\n",
       "      <td>305</td>\n",
       "      <td>4336.0</td>\n",
       "      <td>3777</td>\n",
       "      <td>NaN</td>\n",
       "    </tr>\n",
       "    <tr>\n",
       "      <td>top</td>\n",
       "      <td>573585</td>\n",
       "      <td>85123a</td>\n",
       "      <td>NaN</td>\n",
       "      <td>2019-10-29 14:41:00</td>\n",
       "      <td>NaN</td>\n",
       "      <td>2019-12-03 00:00:00</td>\n",
       "      <td>4472.0</td>\n",
       "      <td>white hanging heart t-light holder</td>\n",
       "      <td>NaN</td>\n",
       "    </tr>\n",
       "    <tr>\n",
       "      <td>freq</td>\n",
       "      <td>1112</td>\n",
       "      <td>2337</td>\n",
       "      <td>NaN</td>\n",
       "      <td>1112</td>\n",
       "      <td>NaN</td>\n",
       "      <td>5287</td>\n",
       "      <td>132545.0</td>\n",
       "      <td>2337</td>\n",
       "      <td>NaN</td>\n",
       "    </tr>\n",
       "    <tr>\n",
       "      <td>first</td>\n",
       "      <td>NaN</td>\n",
       "      <td>NaN</td>\n",
       "      <td>NaN</td>\n",
       "      <td>2018-11-29 08:26:00</td>\n",
       "      <td>NaN</td>\n",
       "      <td>2018-11-29 00:00:00</td>\n",
       "      <td>NaN</td>\n",
       "      <td>NaN</td>\n",
       "      <td>NaN</td>\n",
       "    </tr>\n",
       "    <tr>\n",
       "      <td>last</td>\n",
       "      <td>NaN</td>\n",
       "      <td>NaN</td>\n",
       "      <td>NaN</td>\n",
       "      <td>2019-12-07 12:50:00</td>\n",
       "      <td>NaN</td>\n",
       "      <td>2019-12-07 00:00:00</td>\n",
       "      <td>NaN</td>\n",
       "      <td>NaN</td>\n",
       "      <td>NaN</td>\n",
       "    </tr>\n",
       "    <tr>\n",
       "      <td>mean</td>\n",
       "      <td>NaN</td>\n",
       "      <td>NaN</td>\n",
       "      <td>10.670710</td>\n",
       "      <td>NaN</td>\n",
       "      <td>3.270754</td>\n",
       "      <td>NaN</td>\n",
       "      <td>NaN</td>\n",
       "      <td>NaN</td>\n",
       "      <td>19.428264</td>\n",
       "    </tr>\n",
       "    <tr>\n",
       "      <td>std</td>\n",
       "      <td>NaN</td>\n",
       "      <td>NaN</td>\n",
       "      <td>157.104391</td>\n",
       "      <td>NaN</td>\n",
       "      <td>4.443806</td>\n",
       "      <td>NaN</td>\n",
       "      <td>NaN</td>\n",
       "      <td>NaN</td>\n",
       "      <td>268.280058</td>\n",
       "    </tr>\n",
       "    <tr>\n",
       "      <td>min</td>\n",
       "      <td>NaN</td>\n",
       "      <td>NaN</td>\n",
       "      <td>1.000000</td>\n",
       "      <td>NaN</td>\n",
       "      <td>0.000000</td>\n",
       "      <td>NaN</td>\n",
       "      <td>NaN</td>\n",
       "      <td>NaN</td>\n",
       "      <td>0.000000</td>\n",
       "    </tr>\n",
       "    <tr>\n",
       "      <td>25%</td>\n",
       "      <td>NaN</td>\n",
       "      <td>NaN</td>\n",
       "      <td>1.000000</td>\n",
       "      <td>NaN</td>\n",
       "      <td>1.250000</td>\n",
       "      <td>NaN</td>\n",
       "      <td>NaN</td>\n",
       "      <td>NaN</td>\n",
       "      <td>3.750000</td>\n",
       "    </tr>\n",
       "    <tr>\n",
       "      <td>50%</td>\n",
       "      <td>NaN</td>\n",
       "      <td>NaN</td>\n",
       "      <td>3.000000</td>\n",
       "      <td>NaN</td>\n",
       "      <td>2.080000</td>\n",
       "      <td>NaN</td>\n",
       "      <td>NaN</td>\n",
       "      <td>NaN</td>\n",
       "      <td>9.900000</td>\n",
       "    </tr>\n",
       "    <tr>\n",
       "      <td>75%</td>\n",
       "      <td>NaN</td>\n",
       "      <td>NaN</td>\n",
       "      <td>11.000000</td>\n",
       "      <td>NaN</td>\n",
       "      <td>4.130000</td>\n",
       "      <td>NaN</td>\n",
       "      <td>NaN</td>\n",
       "      <td>NaN</td>\n",
       "      <td>17.400000</td>\n",
       "    </tr>\n",
       "    <tr>\n",
       "      <td>max</td>\n",
       "      <td>NaN</td>\n",
       "      <td>NaN</td>\n",
       "      <td>80995.000000</td>\n",
       "      <td>NaN</td>\n",
       "      <td>649.500000</td>\n",
       "      <td>NaN</td>\n",
       "      <td>NaN</td>\n",
       "      <td>NaN</td>\n",
       "      <td>168469.600000</td>\n",
       "    </tr>\n",
       "  </tbody>\n",
       "</table>\n",
       "</div>"
      ],
      "text/plain": [
       "       invoiceno stockcode       quantity           invoice_dt      unitprice  \\\n",
       "count     529048    529048  529048.000000               529048  529048.000000   \n",
       "unique     20529      3803            NaN                18890            NaN   \n",
       "top       573585    85123a            NaN  2019-10-29 14:41:00            NaN   \n",
       "freq        1112      2337            NaN                 1112            NaN   \n",
       "first        NaN       NaN            NaN  2018-11-29 08:26:00            NaN   \n",
       "last         NaN       NaN            NaN  2019-12-07 12:50:00            NaN   \n",
       "mean         NaN       NaN      10.670710                  NaN       3.270754   \n",
       "std          NaN       NaN     157.104391                  NaN       4.443806   \n",
       "min          NaN       NaN       1.000000                  NaN       0.000000   \n",
       "25%          NaN       NaN       1.000000                  NaN       1.250000   \n",
       "50%          NaN       NaN       3.000000                  NaN       2.080000   \n",
       "75%          NaN       NaN      11.000000                  NaN       4.130000   \n",
       "max          NaN       NaN   80995.000000                  NaN     649.500000   \n",
       "\n",
       "                invoicedate      suid                         description  \\\n",
       "count                529048  529048.0                              529048   \n",
       "unique                  305    4336.0                                3777   \n",
       "top     2019-12-03 00:00:00    4472.0  white hanging heart t-light holder   \n",
       "freq                   5287  132545.0                                2337   \n",
       "first   2018-11-29 00:00:00       NaN                                 NaN   \n",
       "last    2019-12-07 00:00:00       NaN                                 NaN   \n",
       "mean                    NaN       NaN                                 NaN   \n",
       "std                     NaN       NaN                                 NaN   \n",
       "min                     NaN       NaN                                 NaN   \n",
       "25%                     NaN       NaN                                 NaN   \n",
       "50%                     NaN       NaN                                 NaN   \n",
       "75%                     NaN       NaN                                 NaN   \n",
       "max                     NaN       NaN                                 NaN   \n",
       "\n",
       "                spent  \n",
       "count   529048.000000  \n",
       "unique            NaN  \n",
       "top               NaN  \n",
       "freq              NaN  \n",
       "first             NaN  \n",
       "last              NaN  \n",
       "mean        19.428264  \n",
       "std        268.280058  \n",
       "min          0.000000  \n",
       "25%          3.750000  \n",
       "50%          9.900000  \n",
       "75%         17.400000  \n",
       "max     168469.600000  "
      ]
     },
     "execution_count": 40,
     "metadata": {},
     "output_type": "execute_result"
    },
    {
     "data": {
      "text/plain": [
       "count                  529048\n",
       "unique                    305\n",
       "top       2019-12-03 00:00:00\n",
       "freq                     5287\n",
       "first     2018-11-29 00:00:00\n",
       "last      2019-12-07 00:00:00\n",
       "Name: invoicedate, dtype: object"
      ]
     },
     "execution_count": 40,
     "metadata": {},
     "output_type": "execute_result"
    }
   ],
   "source": [
    "# using describe on purchases to see more info\n",
    "purchases.describe(include = 'all')\n",
    "purchases['invoicedate'].describe()"
   ]
  },
  {
   "cell_type": "markdown",
   "metadata": {},
   "source": [
    "* there are much less unique uids than invoices, that means that there are customers that made multiple purchases - makes sense\n",
    "* uid 4472 purchased a lot!\n",
    "* we can group by invoice to see which item is most popular in invoices, what is the biggest and smallest purchase, how many quantity are usually present in an invoice, how many unique items are usually present in an invoice.\n",
    "* the most purchased item is 85123A for now\n",
    "* somehow the stockcode and description unique count is still not the same, and since the are no missing values here, it can only mean that there are some stockcodes with the same description\n",
    "* <s>but moreover: the top stockcode's freq and the top description's freq is also different!</s> (fixed it by lowercasing the column)\n",
    "* investigate the max quantity, unitprice and spent outliers\n",
    "* unitprice 0 is not a purchace, maybe its a gift or something else, but its not relevant here, so i think ill remove those"
   ]
  },
  {
   "cell_type": "markdown",
   "metadata": {},
   "source": [
    "ill start with fixing the stockcode and description mismatch"
   ]
  },
  {
   "cell_type": "code",
   "execution_count": 41,
   "metadata": {
    "scrolled": true
   },
   "outputs": [
    {
     "data": {
      "text/html": [
       "<div>\n",
       "<style scoped>\n",
       "    .dataframe tbody tr th:only-of-type {\n",
       "        vertical-align: middle;\n",
       "    }\n",
       "\n",
       "    .dataframe tbody tr th {\n",
       "        vertical-align: top;\n",
       "    }\n",
       "\n",
       "    .dataframe thead th {\n",
       "        text-align: right;\n",
       "    }\n",
       "</style>\n",
       "<table border=\"1\" class=\"dataframe\">\n",
       "  <thead>\n",
       "    <tr style=\"text-align: right;\">\n",
       "      <th></th>\n",
       "      <th>stockcode</th>\n",
       "      <th>description</th>\n",
       "    </tr>\n",
       "  </thead>\n",
       "  <tbody>\n",
       "    <tr>\n",
       "      <td>0</td>\n",
       "      <td>82580</td>\n",
       "      <td>bathroom metal sign</td>\n",
       "    </tr>\n",
       "    <tr>\n",
       "      <td>1</td>\n",
       "      <td>21171</td>\n",
       "      <td>bathroom metal sign</td>\n",
       "    </tr>\n",
       "    <tr>\n",
       "      <td>2</td>\n",
       "      <td>10133</td>\n",
       "      <td>colouring pencils brown tube</td>\n",
       "    </tr>\n",
       "    <tr>\n",
       "      <td>3</td>\n",
       "      <td>10135</td>\n",
       "      <td>colouring pencils brown tube</td>\n",
       "    </tr>\n",
       "    <tr>\n",
       "      <td>4</td>\n",
       "      <td>72133</td>\n",
       "      <td>columbian candle rectangle</td>\n",
       "    </tr>\n",
       "    <tr>\n",
       "      <td>...</td>\n",
       "      <td>...</td>\n",
       "      <td>...</td>\n",
       "    </tr>\n",
       "    <tr>\n",
       "      <td>60</td>\n",
       "      <td>79342b</td>\n",
       "      <td>unsaleable, destroyed.</td>\n",
       "    </tr>\n",
       "    <tr>\n",
       "      <td>61</td>\n",
       "      <td>79323w</td>\n",
       "      <td>unsaleable, destroyed.</td>\n",
       "    </tr>\n",
       "    <tr>\n",
       "      <td>62</td>\n",
       "      <td>79341</td>\n",
       "      <td>unsaleable, destroyed.</td>\n",
       "    </tr>\n",
       "    <tr>\n",
       "      <td>63</td>\n",
       "      <td>40003</td>\n",
       "      <td>white bamboo ribs lampshade</td>\n",
       "    </tr>\n",
       "    <tr>\n",
       "      <td>64</td>\n",
       "      <td>40001</td>\n",
       "      <td>white bamboo ribs lampshade</td>\n",
       "    </tr>\n",
       "  </tbody>\n",
       "</table>\n",
       "<p>65 rows × 2 columns</p>\n",
       "</div>"
      ],
      "text/plain": [
       "   stockcode                   description\n",
       "0      82580           bathroom metal sign\n",
       "1      21171           bathroom metal sign\n",
       "2      10133  colouring pencils brown tube\n",
       "3      10135  colouring pencils brown tube\n",
       "4      72133    columbian candle rectangle\n",
       "..       ...                           ...\n",
       "60    79342b        unsaleable, destroyed.\n",
       "61    79323w        unsaleable, destroyed.\n",
       "62     79341        unsaleable, destroyed.\n",
       "63     40003   white bamboo ribs lampshade\n",
       "64     40001   white bamboo ribs lampshade\n",
       "\n",
       "[65 rows x 2 columns]"
      ]
     },
     "execution_count": 41,
     "metadata": {},
     "output_type": "execute_result"
    }
   ],
   "source": [
    "# finding the scs that have the same description\n",
    "duplicate_sc = mode_desc_p_sc[mode_desc_p_sc.duplicated('description', keep = False)].sort_values(\n",
    "    'description').reset_index(drop = True)\n",
    "duplicate_sc"
   ]
  },
  {
   "cell_type": "markdown",
   "metadata": {},
   "source": [
    "now ill do the same thing i did before, use mode to find the most common sc  for a description and merge on the description"
   ]
  },
  {
   "cell_type": "code",
   "execution_count": 42,
   "metadata": {},
   "outputs": [
    {
     "data": {
      "text/html": [
       "<div>\n",
       "<style scoped>\n",
       "    .dataframe tbody tr th:only-of-type {\n",
       "        vertical-align: middle;\n",
       "    }\n",
       "\n",
       "    .dataframe tbody tr th {\n",
       "        vertical-align: top;\n",
       "    }\n",
       "\n",
       "    .dataframe thead th {\n",
       "        text-align: right;\n",
       "    }\n",
       "</style>\n",
       "<table border=\"1\" class=\"dataframe\">\n",
       "  <thead>\n",
       "    <tr style=\"text-align: right;\">\n",
       "      <th></th>\n",
       "      <th>description</th>\n",
       "      <th>stockcode</th>\n",
       "    </tr>\n",
       "  </thead>\n",
       "  <tbody>\n",
       "    <tr>\n",
       "      <td>0</td>\n",
       "      <td>*boombox ipod classic</td>\n",
       "      <td>21120</td>\n",
       "    </tr>\n",
       "    <tr>\n",
       "      <td>1</td>\n",
       "      <td>*usb office mirror ball</td>\n",
       "      <td>20954</td>\n",
       "    </tr>\n",
       "    <tr>\n",
       "      <td>2</td>\n",
       "      <td>10 colour spaceboy pen</td>\n",
       "      <td>22418</td>\n",
       "    </tr>\n",
       "    <tr>\n",
       "      <td>3</td>\n",
       "      <td>12 coloured party balloons</td>\n",
       "      <td>22436</td>\n",
       "    </tr>\n",
       "    <tr>\n",
       "      <td>4</td>\n",
       "      <td>12 daisy pegs in wood box</td>\n",
       "      <td>21448</td>\n",
       "    </tr>\n",
       "  </tbody>\n",
       "</table>\n",
       "</div>"
      ],
      "text/plain": [
       "                  description stockcode\n",
       "0       *boombox ipod classic     21120\n",
       "1     *usb office mirror ball     20954\n",
       "2      10 colour spaceboy pen     22418\n",
       "3  12 coloured party balloons     22436\n",
       "4   12 daisy pegs in wood box     21448"
      ]
     },
     "execution_count": 42,
     "metadata": {},
     "output_type": "execute_result"
    },
    {
     "data": {
      "text/plain": [
       "3810"
      ]
     },
     "execution_count": 42,
     "metadata": {},
     "output_type": "execute_result"
    }
   ],
   "source": [
    "# finding the mode sc for each description\n",
    "mode_sc_p_desc = orgnzd_ecommerce.groupby('description').agg({'stockcode': mode1}).reset_index()\n",
    "mode_sc_p_desc.head()\n",
    "mode_sc_p_desc.shape[0]"
   ]
  },
  {
   "cell_type": "code",
   "execution_count": 43,
   "metadata": {},
   "outputs": [
    {
     "data": {
      "text/html": [
       "<div>\n",
       "<style scoped>\n",
       "    .dataframe tbody tr th:only-of-type {\n",
       "        vertical-align: middle;\n",
       "    }\n",
       "\n",
       "    .dataframe tbody tr th {\n",
       "        vertical-align: top;\n",
       "    }\n",
       "\n",
       "    .dataframe thead th {\n",
       "        text-align: right;\n",
       "    }\n",
       "</style>\n",
       "<table border=\"1\" class=\"dataframe\">\n",
       "  <thead>\n",
       "    <tr style=\"text-align: right;\">\n",
       "      <th></th>\n",
       "      <th>invoiceno</th>\n",
       "      <th>quantity</th>\n",
       "      <th>invoice_dt</th>\n",
       "      <th>unitprice</th>\n",
       "      <th>invoicedate</th>\n",
       "      <th>suid</th>\n",
       "      <th>description</th>\n",
       "      <th>spent</th>\n",
       "      <th>stockcode</th>\n",
       "    </tr>\n",
       "  </thead>\n",
       "  <tbody>\n",
       "    <tr>\n",
       "      <td>0</td>\n",
       "      <td>536365</td>\n",
       "      <td>6</td>\n",
       "      <td>2018-11-29 08:26:00</td>\n",
       "      <td>2.55</td>\n",
       "      <td>2018-11-29</td>\n",
       "      <td>4148</td>\n",
       "      <td>white hanging heart t-light holder</td>\n",
       "      <td>15.3</td>\n",
       "      <td>85123a</td>\n",
       "    </tr>\n",
       "    <tr>\n",
       "      <td>1</td>\n",
       "      <td>536373</td>\n",
       "      <td>6</td>\n",
       "      <td>2018-11-29 09:02:00</td>\n",
       "      <td>2.55</td>\n",
       "      <td>2018-11-29</td>\n",
       "      <td>4148</td>\n",
       "      <td>white hanging heart t-light holder</td>\n",
       "      <td>15.3</td>\n",
       "      <td>85123a</td>\n",
       "    </tr>\n",
       "    <tr>\n",
       "      <td>2</td>\n",
       "      <td>536375</td>\n",
       "      <td>6</td>\n",
       "      <td>2018-11-29 09:32:00</td>\n",
       "      <td>2.55</td>\n",
       "      <td>2018-11-29</td>\n",
       "      <td>4148</td>\n",
       "      <td>white hanging heart t-light holder</td>\n",
       "      <td>15.3</td>\n",
       "      <td>85123a</td>\n",
       "    </tr>\n",
       "  </tbody>\n",
       "</table>\n",
       "</div>"
      ],
      "text/plain": [
       "  invoiceno  quantity          invoice_dt  unitprice invoicedate  suid  \\\n",
       "0    536365         6 2018-11-29 08:26:00       2.55  2018-11-29  4148   \n",
       "1    536373         6 2018-11-29 09:02:00       2.55  2018-11-29  4148   \n",
       "2    536375         6 2018-11-29 09:32:00       2.55  2018-11-29  4148   \n",
       "\n",
       "                          description  spent stockcode  \n",
       "0  white hanging heart t-light holder   15.3    85123a  \n",
       "1  white hanging heart t-light holder   15.3    85123a  \n",
       "2  white hanging heart t-light holder   15.3    85123a  "
      ]
     },
     "execution_count": 43,
     "metadata": {},
     "output_type": "execute_result"
    },
    {
     "data": {
      "text/plain": [
       "529048"
      ]
     },
     "execution_count": 43,
     "metadata": {},
     "output_type": "execute_result"
    },
    {
     "data": {
      "text/html": [
       "<div>\n",
       "<style scoped>\n",
       "    .dataframe tbody tr th:only-of-type {\n",
       "        vertical-align: middle;\n",
       "    }\n",
       "\n",
       "    .dataframe tbody tr th {\n",
       "        vertical-align: top;\n",
       "    }\n",
       "\n",
       "    .dataframe thead th {\n",
       "        text-align: right;\n",
       "    }\n",
       "</style>\n",
       "<table border=\"1\" class=\"dataframe\">\n",
       "  <thead>\n",
       "    <tr style=\"text-align: right;\">\n",
       "      <th></th>\n",
       "      <th>invoiceno</th>\n",
       "      <th>quantity</th>\n",
       "      <th>invoice_dt</th>\n",
       "      <th>unitprice</th>\n",
       "      <th>invoicedate</th>\n",
       "      <th>suid</th>\n",
       "      <th>description</th>\n",
       "      <th>stockcode</th>\n",
       "    </tr>\n",
       "  </thead>\n",
       "  <tbody>\n",
       "    <tr>\n",
       "      <td>0</td>\n",
       "      <td>c537602</td>\n",
       "      <td>1</td>\n",
       "      <td>2018-12-05 12:45:00</td>\n",
       "      <td>2.55</td>\n",
       "      <td>2018-12-05</td>\n",
       "      <td>3901</td>\n",
       "      <td>white hanging heart t-light holder</td>\n",
       "      <td>85123a</td>\n",
       "    </tr>\n",
       "    <tr>\n",
       "      <td>1</td>\n",
       "      <td>c538350</td>\n",
       "      <td>1</td>\n",
       "      <td>2018-12-08 15:01:00</td>\n",
       "      <td>2.55</td>\n",
       "      <td>2018-12-08</td>\n",
       "      <td>1178</td>\n",
       "      <td>white hanging heart t-light holder</td>\n",
       "      <td>85123a</td>\n",
       "    </tr>\n",
       "    <tr>\n",
       "      <td>2</td>\n",
       "      <td>c538834</td>\n",
       "      <td>1</td>\n",
       "      <td>2018-12-12 13:06:00</td>\n",
       "      <td>2.95</td>\n",
       "      <td>2018-12-12</td>\n",
       "      <td>1628</td>\n",
       "      <td>white hanging heart t-light holder</td>\n",
       "      <td>85123a</td>\n",
       "    </tr>\n",
       "  </tbody>\n",
       "</table>\n",
       "</div>"
      ],
      "text/plain": [
       "  invoiceno  quantity          invoice_dt  unitprice invoicedate  suid  \\\n",
       "0   c537602         1 2018-12-05 12:45:00       2.55  2018-12-05  3901   \n",
       "1   c538350         1 2018-12-08 15:01:00       2.55  2018-12-08  1178   \n",
       "2   c538834         1 2018-12-12 13:06:00       2.95  2018-12-12  1628   \n",
       "\n",
       "                          description stockcode  \n",
       "0  white hanging heart t-light holder    85123a  \n",
       "1  white hanging heart t-light holder    85123a  \n",
       "2  white hanging heart t-light holder    85123a  "
      ]
     },
     "execution_count": 43,
     "metadata": {},
     "output_type": "execute_result"
    },
    {
     "data": {
      "text/plain": [
       "9846"
      ]
     },
     "execution_count": 43,
     "metadata": {},
     "output_type": "execute_result"
    }
   ],
   "source": [
    "# merging the mode sc of each desc to the tables\n",
    "purchases = purchases.merge(mode_sc_p_desc, on = 'description')\n",
    "purchases = purchases.drop('stockcode_x', axis = 1)\n",
    "purchases.rename(columns = {'stockcode_y': 'stockcode'}, inplace = True)\n",
    "purchases.head(3)\n",
    "purchases.shape[0]\n",
    "returns = returns.merge(mode_sc_p_desc, on = 'description')\n",
    "returns = returns.drop('stockcode_x', axis = 1)\n",
    "returns.rename(columns = {'stockcode_y': 'stockcode'}, inplace = True)\n",
    "returns.head(3)\n",
    "returns.shape[0]"
   ]
  },
  {
   "cell_type": "code",
   "execution_count": 44,
   "metadata": {
    "scrolled": true
   },
   "outputs": [
    {
     "data": {
      "text/html": [
       "<div>\n",
       "<style scoped>\n",
       "    .dataframe tbody tr th:only-of-type {\n",
       "        vertical-align: middle;\n",
       "    }\n",
       "\n",
       "    .dataframe tbody tr th {\n",
       "        vertical-align: top;\n",
       "    }\n",
       "\n",
       "    .dataframe thead th {\n",
       "        text-align: right;\n",
       "    }\n",
       "</style>\n",
       "<table border=\"1\" class=\"dataframe\">\n",
       "  <thead>\n",
       "    <tr style=\"text-align: right;\">\n",
       "      <th></th>\n",
       "      <th>description</th>\n",
       "      <th>stockcode</th>\n",
       "    </tr>\n",
       "  </thead>\n",
       "  <tbody>\n",
       "    <tr>\n",
       "      <td>count</td>\n",
       "      <td>529048</td>\n",
       "      <td>529048</td>\n",
       "    </tr>\n",
       "    <tr>\n",
       "      <td>unique</td>\n",
       "      <td>3777</td>\n",
       "      <td>3777</td>\n",
       "    </tr>\n",
       "    <tr>\n",
       "      <td>top</td>\n",
       "      <td>white hanging heart t-light holder</td>\n",
       "      <td>85123a</td>\n",
       "    </tr>\n",
       "    <tr>\n",
       "      <td>freq</td>\n",
       "      <td>2337</td>\n",
       "      <td>2337</td>\n",
       "    </tr>\n",
       "  </tbody>\n",
       "</table>\n",
       "</div>"
      ],
      "text/plain": [
       "                               description stockcode\n",
       "count                               529048    529048\n",
       "unique                                3777      3777\n",
       "top     white hanging heart t-light holder    85123a\n",
       "freq                                  2337      2337"
      ]
     },
     "execution_count": 44,
     "metadata": {},
     "output_type": "execute_result"
    },
    {
     "data": {
      "text/html": [
       "<div>\n",
       "<style scoped>\n",
       "    .dataframe tbody tr th:only-of-type {\n",
       "        vertical-align: middle;\n",
       "    }\n",
       "\n",
       "    .dataframe tbody tr th {\n",
       "        vertical-align: top;\n",
       "    }\n",
       "\n",
       "    .dataframe thead th {\n",
       "        text-align: right;\n",
       "    }\n",
       "</style>\n",
       "<table border=\"1\" class=\"dataframe\">\n",
       "  <thead>\n",
       "    <tr style=\"text-align: right;\">\n",
       "      <th></th>\n",
       "      <th>description</th>\n",
       "      <th>stockcode</th>\n",
       "    </tr>\n",
       "  </thead>\n",
       "  <tbody>\n",
       "    <tr>\n",
       "      <td>count</td>\n",
       "      <td>9846</td>\n",
       "      <td>9846</td>\n",
       "    </tr>\n",
       "    <tr>\n",
       "      <td>unique</td>\n",
       "      <td>2425</td>\n",
       "      <td>2425</td>\n",
       "    </tr>\n",
       "    <tr>\n",
       "      <td>top</td>\n",
       "      <td>regency cakestand 3 tier</td>\n",
       "      <td>22423</td>\n",
       "    </tr>\n",
       "    <tr>\n",
       "      <td>freq</td>\n",
       "      <td>183</td>\n",
       "      <td>183</td>\n",
       "    </tr>\n",
       "  </tbody>\n",
       "</table>\n",
       "</div>"
      ],
      "text/plain": [
       "                     description stockcode\n",
       "count                       9846      9846\n",
       "unique                      2425      2425\n",
       "top     regency cakestand 3 tier     22423\n",
       "freq                         183       183"
      ]
     },
     "execution_count": 44,
     "metadata": {},
     "output_type": "execute_result"
    }
   ],
   "source": [
    "# checking that we have same amount of unique desc and sc\n",
    "purchases[['description', 'stockcode']].describe()\n",
    "returns[['description', 'stockcode']].describe()"
   ]
  },
  {
   "cell_type": "markdown",
   "metadata": {},
   "source": [
    "now ill look at the rows with unitprice 0"
   ]
  },
  {
   "cell_type": "code",
   "execution_count": 45,
   "metadata": {},
   "outputs": [
    {
     "data": {
      "text/html": [
       "<div>\n",
       "<style scoped>\n",
       "    .dataframe tbody tr th:only-of-type {\n",
       "        vertical-align: middle;\n",
       "    }\n",
       "\n",
       "    .dataframe tbody tr th {\n",
       "        vertical-align: top;\n",
       "    }\n",
       "\n",
       "    .dataframe thead th {\n",
       "        text-align: right;\n",
       "    }\n",
       "</style>\n",
       "<table border=\"1\" class=\"dataframe\">\n",
       "  <thead>\n",
       "    <tr style=\"text-align: right;\">\n",
       "      <th></th>\n",
       "      <th>invoiceno</th>\n",
       "      <th>quantity</th>\n",
       "      <th>invoice_dt</th>\n",
       "      <th>unitprice</th>\n",
       "      <th>invoicedate</th>\n",
       "      <th>suid</th>\n",
       "      <th>description</th>\n",
       "      <th>spent</th>\n",
       "      <th>stockcode</th>\n",
       "    </tr>\n",
       "  </thead>\n",
       "  <tbody>\n",
       "    <tr>\n",
       "      <td>230</td>\n",
       "      <td>539856</td>\n",
       "      <td>1</td>\n",
       "      <td>2018-12-20 14:41:00</td>\n",
       "      <td>0.0</td>\n",
       "      <td>2018-12-20</td>\n",
       "      <td>4472</td>\n",
       "      <td>white hanging heart t-light holder</td>\n",
       "      <td>0.0</td>\n",
       "      <td>85123a</td>\n",
       "    </tr>\n",
       "    <tr>\n",
       "      <td>659</td>\n",
       "      <td>546933</td>\n",
       "      <td>1</td>\n",
       "      <td>2019-03-16 11:02:00</td>\n",
       "      <td>0.0</td>\n",
       "      <td>2019-03-16</td>\n",
       "      <td>4472</td>\n",
       "      <td>white hanging heart t-light holder</td>\n",
       "      <td>0.0</td>\n",
       "      <td>85123a</td>\n",
       "    </tr>\n",
       "    <tr>\n",
       "      <td>1218</td>\n",
       "      <td>556231</td>\n",
       "      <td>4000</td>\n",
       "      <td>2019-06-07 15:04:00</td>\n",
       "      <td>0.0</td>\n",
       "      <td>2019-06-07</td>\n",
       "      <td>4472</td>\n",
       "      <td>white hanging heart t-light holder</td>\n",
       "      <td>0.0</td>\n",
       "      <td>85123a</td>\n",
       "    </tr>\n",
       "    <tr>\n",
       "      <td>1299</td>\n",
       "      <td>558340</td>\n",
       "      <td>1</td>\n",
       "      <td>2019-06-26 14:01:00</td>\n",
       "      <td>0.0</td>\n",
       "      <td>2019-06-26</td>\n",
       "      <td>4472</td>\n",
       "      <td>white hanging heart t-light holder</td>\n",
       "      <td>0.0</td>\n",
       "      <td>85123a</td>\n",
       "    </tr>\n",
       "    <tr>\n",
       "      <td>1614</td>\n",
       "      <td>564530</td>\n",
       "      <td>1</td>\n",
       "      <td>2019-08-23 14:57:00</td>\n",
       "      <td>0.0</td>\n",
       "      <td>2019-08-23</td>\n",
       "      <td>4472</td>\n",
       "      <td>white hanging heart t-light holder</td>\n",
       "      <td>0.0</td>\n",
       "      <td>85123a</td>\n",
       "    </tr>\n",
       "    <tr>\n",
       "      <td>...</td>\n",
       "      <td>...</td>\n",
       "      <td>...</td>\n",
       "      <td>...</td>\n",
       "      <td>...</td>\n",
       "      <td>...</td>\n",
       "      <td>...</td>\n",
       "      <td>...</td>\n",
       "      <td>...</td>\n",
       "      <td>...</td>\n",
       "    </tr>\n",
       "    <tr>\n",
       "      <td>524640</td>\n",
       "      <td>571674</td>\n",
       "      <td>100</td>\n",
       "      <td>2019-10-16 13:22:00</td>\n",
       "      <td>0.0</td>\n",
       "      <td>2019-10-16</td>\n",
       "      <td>4472</td>\n",
       "      <td>high resolution image</td>\n",
       "      <td>0.0</td>\n",
       "      <td>23702</td>\n",
       "    </tr>\n",
       "    <tr>\n",
       "      <td>524961</td>\n",
       "      <td>574920</td>\n",
       "      <td>1</td>\n",
       "      <td>2019-11-05 16:34:00</td>\n",
       "      <td>0.0</td>\n",
       "      <td>2019-11-05</td>\n",
       "      <td>1319</td>\n",
       "      <td>mini lights woodland mushrooms</td>\n",
       "      <td>0.0</td>\n",
       "      <td>23480</td>\n",
       "    </tr>\n",
       "    <tr>\n",
       "      <td>527756</td>\n",
       "      <td>572614</td>\n",
       "      <td>5</td>\n",
       "      <td>2019-10-23 11:38:00</td>\n",
       "      <td>0.0</td>\n",
       "      <td>2019-10-23</td>\n",
       "      <td>4472</td>\n",
       "      <td>adjustment</td>\n",
       "      <td>0.0</td>\n",
       "      <td>23595</td>\n",
       "    </tr>\n",
       "    <tr>\n",
       "      <td>527806</td>\n",
       "      <td>573169</td>\n",
       "      <td>1</td>\n",
       "      <td>2019-10-26 09:56:00</td>\n",
       "      <td>0.0</td>\n",
       "      <td>2019-10-26</td>\n",
       "      <td>4472</td>\n",
       "      <td>found by jackie</td>\n",
       "      <td>0.0</td>\n",
       "      <td>35600a</td>\n",
       "    </tr>\n",
       "    <tr>\n",
       "      <td>528606</td>\n",
       "      <td>578360</td>\n",
       "      <td>2</td>\n",
       "      <td>2019-11-22 10:36:00</td>\n",
       "      <td>0.0</td>\n",
       "      <td>2019-11-22</td>\n",
       "      <td>4472</td>\n",
       "      <td>large heart flowers hook</td>\n",
       "      <td>0.0</td>\n",
       "      <td>84971l</td>\n",
       "    </tr>\n",
       "  </tbody>\n",
       "</table>\n",
       "<p>1149 rows × 9 columns</p>\n",
       "</div>"
      ],
      "text/plain": [
       "       invoiceno  quantity          invoice_dt  unitprice invoicedate  suid  \\\n",
       "230       539856         1 2018-12-20 14:41:00        0.0  2018-12-20  4472   \n",
       "659       546933         1 2019-03-16 11:02:00        0.0  2019-03-16  4472   \n",
       "1218      556231      4000 2019-06-07 15:04:00        0.0  2019-06-07  4472   \n",
       "1299      558340         1 2019-06-26 14:01:00        0.0  2019-06-26  4472   \n",
       "1614      564530         1 2019-08-23 14:57:00        0.0  2019-08-23  4472   \n",
       "...          ...       ...                 ...        ...         ...   ...   \n",
       "524640    571674       100 2019-10-16 13:22:00        0.0  2019-10-16  4472   \n",
       "524961    574920         1 2019-11-05 16:34:00        0.0  2019-11-05  1319   \n",
       "527756    572614         5 2019-10-23 11:38:00        0.0  2019-10-23  4472   \n",
       "527806    573169         1 2019-10-26 09:56:00        0.0  2019-10-26  4472   \n",
       "528606    578360         2 2019-11-22 10:36:00        0.0  2019-11-22  4472   \n",
       "\n",
       "                               description  spent stockcode  \n",
       "230     white hanging heart t-light holder    0.0    85123a  \n",
       "659     white hanging heart t-light holder    0.0    85123a  \n",
       "1218    white hanging heart t-light holder    0.0    85123a  \n",
       "1299    white hanging heart t-light holder    0.0    85123a  \n",
       "1614    white hanging heart t-light holder    0.0    85123a  \n",
       "...                                    ...    ...       ...  \n",
       "524640               high resolution image    0.0     23702  \n",
       "524961      mini lights woodland mushrooms    0.0     23480  \n",
       "527756                          adjustment    0.0     23595  \n",
       "527806                     found by jackie    0.0    35600a  \n",
       "528606            large heart flowers hook    0.0    84971l  \n",
       "\n",
       "[1149 rows x 9 columns]"
      ]
     },
     "execution_count": 45,
     "metadata": {},
     "output_type": "execute_result"
    }
   ],
   "source": [
    "purchases[purchases['unitprice'] == 0]"
   ]
  },
  {
   "cell_type": "markdown",
   "metadata": {},
   "source": [
    "seeing that some are the same stockcodes that do have unitprice, i consulted with team lead and she said its a \"failed transaction or an error in logging\", either way its not relevant so ill remove those rows"
   ]
  },
  {
   "cell_type": "code",
   "execution_count": 46,
   "metadata": {
    "scrolled": false
   },
   "outputs": [
    {
     "data": {
      "text/html": [
       "<div>\n",
       "<style scoped>\n",
       "    .dataframe tbody tr th:only-of-type {\n",
       "        vertical-align: middle;\n",
       "    }\n",
       "\n",
       "    .dataframe tbody tr th {\n",
       "        vertical-align: top;\n",
       "    }\n",
       "\n",
       "    .dataframe thead th {\n",
       "        text-align: right;\n",
       "    }\n",
       "</style>\n",
       "<table border=\"1\" class=\"dataframe\">\n",
       "  <thead>\n",
       "    <tr style=\"text-align: right;\">\n",
       "      <th></th>\n",
       "      <th>invoiceno</th>\n",
       "      <th>quantity</th>\n",
       "      <th>invoice_dt</th>\n",
       "      <th>unitprice</th>\n",
       "      <th>invoicedate</th>\n",
       "      <th>suid</th>\n",
       "      <th>description</th>\n",
       "      <th>spent</th>\n",
       "      <th>stockcode</th>\n",
       "    </tr>\n",
       "  </thead>\n",
       "  <tbody>\n",
       "    <tr>\n",
       "      <td>0</td>\n",
       "      <td>536365</td>\n",
       "      <td>6</td>\n",
       "      <td>2018-11-29 08:26:00</td>\n",
       "      <td>2.55</td>\n",
       "      <td>2018-11-29</td>\n",
       "      <td>4148</td>\n",
       "      <td>white hanging heart t-light holder</td>\n",
       "      <td>15.3</td>\n",
       "      <td>85123a</td>\n",
       "    </tr>\n",
       "    <tr>\n",
       "      <td>1</td>\n",
       "      <td>536373</td>\n",
       "      <td>6</td>\n",
       "      <td>2018-11-29 09:02:00</td>\n",
       "      <td>2.55</td>\n",
       "      <td>2018-11-29</td>\n",
       "      <td>4148</td>\n",
       "      <td>white hanging heart t-light holder</td>\n",
       "      <td>15.3</td>\n",
       "      <td>85123a</td>\n",
       "    </tr>\n",
       "    <tr>\n",
       "      <td>2</td>\n",
       "      <td>536375</td>\n",
       "      <td>6</td>\n",
       "      <td>2018-11-29 09:32:00</td>\n",
       "      <td>2.55</td>\n",
       "      <td>2018-11-29</td>\n",
       "      <td>4148</td>\n",
       "      <td>white hanging heart t-light holder</td>\n",
       "      <td>15.3</td>\n",
       "      <td>85123a</td>\n",
       "    </tr>\n",
       "    <tr>\n",
       "      <td>3</td>\n",
       "      <td>536390</td>\n",
       "      <td>64</td>\n",
       "      <td>2018-11-29 10:19:00</td>\n",
       "      <td>2.55</td>\n",
       "      <td>2018-11-29</td>\n",
       "      <td>3901</td>\n",
       "      <td>white hanging heart t-light holder</td>\n",
       "      <td>163.2</td>\n",
       "      <td>85123a</td>\n",
       "    </tr>\n",
       "    <tr>\n",
       "      <td>4</td>\n",
       "      <td>536394</td>\n",
       "      <td>32</td>\n",
       "      <td>2018-11-29 10:39:00</td>\n",
       "      <td>2.55</td>\n",
       "      <td>2018-11-29</td>\n",
       "      <td>903</td>\n",
       "      <td>white hanging heart t-light holder</td>\n",
       "      <td>81.6</td>\n",
       "      <td>85123a</td>\n",
       "    </tr>\n",
       "  </tbody>\n",
       "</table>\n",
       "</div>"
      ],
      "text/plain": [
       "  invoiceno  quantity          invoice_dt  unitprice invoicedate  suid  \\\n",
       "0    536365         6 2018-11-29 08:26:00       2.55  2018-11-29  4148   \n",
       "1    536373         6 2018-11-29 09:02:00       2.55  2018-11-29  4148   \n",
       "2    536375         6 2018-11-29 09:32:00       2.55  2018-11-29  4148   \n",
       "3    536390        64 2018-11-29 10:19:00       2.55  2018-11-29  3901   \n",
       "4    536394        32 2018-11-29 10:39:00       2.55  2018-11-29   903   \n",
       "\n",
       "                          description  spent stockcode  \n",
       "0  white hanging heart t-light holder   15.3    85123a  \n",
       "1  white hanging heart t-light holder   15.3    85123a  \n",
       "2  white hanging heart t-light holder   15.3    85123a  \n",
       "3  white hanging heart t-light holder  163.2    85123a  \n",
       "4  white hanging heart t-light holder   81.6    85123a  "
      ]
     },
     "execution_count": 46,
     "metadata": {},
     "output_type": "execute_result"
    },
    {
     "data": {
      "text/plain": [
       "527899"
      ]
     },
     "execution_count": 46,
     "metadata": {},
     "output_type": "execute_result"
    }
   ],
   "source": [
    "# removing rows with 0 unitprice\n",
    "purchases = purchases[purchases['unitprice'] != 0].reset_index(drop = True)\n",
    "returns = returns[returns['unitprice'] != 0].reset_index(drop = True)\n",
    "purchases.head(5)\n",
    "purchases.shape[0]"
   ]
  },
  {
   "cell_type": "markdown",
   "metadata": {},
   "source": [
    "# Step 3. Exploratory data analysis"
   ]
  },
  {
   "cell_type": "markdown",
   "metadata": {},
   "source": [
    "now ill check the distribution of quantity, unitprice and spent cause there clearly are outliers there"
   ]
  },
  {
   "cell_type": "code",
   "execution_count": 47,
   "metadata": {
    "scrolled": true
   },
   "outputs": [
    {
     "data": {
      "image/png": "[encoded data removed]",
      "text/plain": [
       "<Figure size 432x288 with 1 Axes>"
      ]
     },
     "metadata": {
      "needs_background": "light"
     },
     "output_type": "display_data"
    },
    {
     "data": {
      "image/png": "[encoded data removed]",
      "text/plain": [
       "<Figure size 432x288 with 1 Axes>"
      ]
     },
     "metadata": {
      "needs_background": "light"
     },
     "output_type": "display_data"
    },
    {
     "data": {
      "image/png": "[encoded data removed]",
      "text/plain": [
       "<Figure size 432x288 with 1 Axes>"
      ]
     },
     "metadata": {
      "needs_background": "light"
     },
     "output_type": "display_data"
    }
   ],
   "source": [
    "for i in purchases[['quantity', 'unitprice', 'spent']].columns:\n",
    "    plt.boxplot(purchases[i])\n",
    "    plt.xlabel('{}'.format(i))\n",
    "    plt.show()\n",
    "plt.show();"
   ]
  },
  {
   "cell_type": "code",
   "execution_count": 48,
   "metadata": {},
   "outputs": [
    {
     "data": {
      "image/png": "[encoded data removed]",
      "text/plain": [
       "<Figure size 432x288 with 1 Axes>"
      ]
     },
     "metadata": {
      "needs_background": "light"
     },
     "output_type": "display_data"
    }
   ],
   "source": [
    "plt.boxplot(x = purchases['quantity'], labels = ['quantity'])\n",
    "plt.show();"
   ]
  },
  {
   "cell_type": "code",
   "execution_count": 49,
   "metadata": {
    "scrolled": true
   },
   "outputs": [
    {
     "data": {
      "image/png": "[encoded data removed]",
      "text/plain": [
       "<Figure size 432x288 with 1 Axes>"
      ]
     },
     "metadata": {
      "needs_background": "light"
     },
     "output_type": "display_data"
    },
    {
     "data": {
      "image/png": "[encoded data removed]",
      "text/plain": [
       "<Figure size 432x288 with 1 Axes>"
      ]
     },
     "metadata": {
      "needs_background": "light"
     },
     "output_type": "display_data"
    },
    {
     "data": {
      "image/png": "[encoded data removed]",
      "text/plain": [
       "<Figure size 432x288 with 1 Axes>"
      ]
     },
     "metadata": {
      "needs_background": "light"
     },
     "output_type": "display_data"
    }
   ],
   "source": [
    "for i in purchases[['quantity', 'unitprice', 'spent']].columns:\n",
    "    plt.boxplot(purchases[i])\n",
    "    plt.ylim(0, 40)\n",
    "    plt.xlabel('{}'.format(i))\n",
    "    plt.show()\n",
    "plt.show();"
   ]
  },
  {
   "cell_type": "markdown",
   "metadata": {},
   "source": [
    "but thats the distribution of all the \"rows\" in the invoices, so i think ill make first the table i talked about grouping by invoice"
   ]
  },
  {
   "cell_type": "code",
   "execution_count": 50,
   "metadata": {},
   "outputs": [],
   "source": [
    "# making a mode func\n",
    "def mode2(x):\n",
    "    return x.value_counts().index[0]"
   ]
  },
  {
   "cell_type": "code",
   "execution_count": 51,
   "metadata": {
    "scrolled": true
   },
   "outputs": [
    {
     "data": {
      "text/html": [
       "<div>\n",
       "<style scoped>\n",
       "    .dataframe tbody tr th:only-of-type {\n",
       "        vertical-align: middle;\n",
       "    }\n",
       "\n",
       "    .dataframe tbody tr th {\n",
       "        vertical-align: top;\n",
       "    }\n",
       "\n",
       "    .dataframe thead th {\n",
       "        text-align: right;\n",
       "    }\n",
       "</style>\n",
       "<table border=\"1\" class=\"dataframe\">\n",
       "  <thead>\n",
       "    <tr style=\"text-align: right;\">\n",
       "      <th></th>\n",
       "      <th>invoiceno</th>\n",
       "      <th>sc_count</th>\n",
       "      <th>mode_sc</th>\n",
       "      <th>total_qty</th>\n",
       "      <th>invoice_dt</th>\n",
       "      <th>avg_price</th>\n",
       "      <th>total_spent</th>\n",
       "    </tr>\n",
       "  </thead>\n",
       "  <tbody>\n",
       "    <tr>\n",
       "      <td>0</td>\n",
       "      <td>536365</td>\n",
       "      <td>7</td>\n",
       "      <td>84406b</td>\n",
       "      <td>40</td>\n",
       "      <td>2018-11-29 08:26:00</td>\n",
       "      <td>3.910000</td>\n",
       "      <td>139.12</td>\n",
       "    </tr>\n",
       "    <tr>\n",
       "      <td>1</td>\n",
       "      <td>536366</td>\n",
       "      <td>2</td>\n",
       "      <td>22632</td>\n",
       "      <td>12</td>\n",
       "      <td>2018-11-29 08:28:00</td>\n",
       "      <td>1.850000</td>\n",
       "      <td>22.20</td>\n",
       "    </tr>\n",
       "    <tr>\n",
       "      <td>2</td>\n",
       "      <td>536367</td>\n",
       "      <td>12</td>\n",
       "      <td>48187</td>\n",
       "      <td>83</td>\n",
       "      <td>2018-11-29 08:34:00</td>\n",
       "      <td>4.853333</td>\n",
       "      <td>278.73</td>\n",
       "    </tr>\n",
       "    <tr>\n",
       "      <td>3</td>\n",
       "      <td>536368</td>\n",
       "      <td>4</td>\n",
       "      <td>22913</td>\n",
       "      <td>15</td>\n",
       "      <td>2018-11-29 08:34:00</td>\n",
       "      <td>4.775000</td>\n",
       "      <td>70.05</td>\n",
       "    </tr>\n",
       "    <tr>\n",
       "      <td>4</td>\n",
       "      <td>536369</td>\n",
       "      <td>1</td>\n",
       "      <td>21756</td>\n",
       "      <td>3</td>\n",
       "      <td>2018-11-29 08:35:00</td>\n",
       "      <td>5.950000</td>\n",
       "      <td>17.85</td>\n",
       "    </tr>\n",
       "  </tbody>\n",
       "</table>\n",
       "</div>"
      ],
      "text/plain": [
       "  invoiceno  sc_count mode_sc  total_qty          invoice_dt  avg_price  \\\n",
       "0    536365         7  84406b         40 2018-11-29 08:26:00   3.910000   \n",
       "1    536366         2   22632         12 2018-11-29 08:28:00   1.850000   \n",
       "2    536367        12   48187         83 2018-11-29 08:34:00   4.853333   \n",
       "3    536368         4   22913         15 2018-11-29 08:34:00   4.775000   \n",
       "4    536369         1   21756          3 2018-11-29 08:35:00   5.950000   \n",
       "\n",
       "   total_spent  \n",
       "0       139.12  \n",
       "1        22.20  \n",
       "2       278.73  \n",
       "3        70.05  \n",
       "4        17.85  "
      ]
     },
     "execution_count": 51,
     "metadata": {},
     "output_type": "execute_result"
    },
    {
     "data": {
      "text/plain": [
       "19776"
      ]
     },
     "execution_count": 51,
     "metadata": {},
     "output_type": "execute_result"
    }
   ],
   "source": [
    "# making a table by invoice\n",
    "pur_p_invoice = purchases.groupby('invoiceno').agg(sc_count = ('stockcode', 'nunique'), mode_sc = ('stockcode', mode2), \n",
    "                total_qty = ('quantity', 'sum'), invoice_dt = ('invoice_dt', 'first'), avg_price = ('unitprice', 'mean'), \n",
    "                                                   total_spent = ('spent', 'sum')).reset_index()\n",
    "pur_p_invoice.head()\n",
    "pur_p_invoice.shape[0]"
   ]
  },
  {
   "cell_type": "markdown",
   "metadata": {},
   "source": [
    "* now lets check the distribution of those columns per invoice\n",
    "<s>* about unitprice: i need to find how frequently people buy each unit price group?</s>"
   ]
  },
  {
   "cell_type": "code",
   "execution_count": 52,
   "metadata": {},
   "outputs": [],
   "source": [
    "df = pur_p_invoice[['total_qty', 'avg_price', 'total_spent', 'sc_count']]"
   ]
  },
  {
   "cell_type": "code",
   "execution_count": 53,
   "metadata": {
    "scrolled": true
   },
   "outputs": [
    {
     "data": {
      "image/png": "[encoded data removed]",
      "text/plain": [
       "<Figure size 432x288 with 1 Axes>"
      ]
     },
     "metadata": {
      "needs_background": "light"
     },
     "output_type": "display_data"
    },
    {
     "data": {
      "image/png": "[encoded data removed]",
      "text/plain": [
       "<Figure size 432x288 with 1 Axes>"
      ]
     },
     "metadata": {
      "needs_background": "light"
     },
     "output_type": "display_data"
    },
    {
     "data": {
      "image/png": "[encoded data removed]",
      "text/plain": [
       "<Figure size 432x288 with 1 Axes>"
      ]
     },
     "metadata": {
      "needs_background": "light"
     },
     "output_type": "display_data"
    },
    {
     "data": {
      "image/png": "[encoded data removed]",
      "text/plain": [
       "<Figure size 432x288 with 1 Axes>"
      ]
     },
     "metadata": {
      "needs_background": "light"
     },
     "output_type": "display_data"
    }
   ],
   "source": [
    "for i in df.columns:\n",
    "    plt.boxplot(df[i])\n",
    "    plt.xlabel('{}'.format(i))\n",
    "    plt.show()\n",
    "plt.show();"
   ]
  },
  {
   "cell_type": "code",
   "execution_count": 54,
   "metadata": {
    "scrolled": true
   },
   "outputs": [
    {
     "data": {
      "image/png": "[encoded data removed]",
      "text/plain": [
       "<Figure size 432x288 with 1 Axes>"
      ]
     },
     "metadata": {
      "needs_background": "light"
     },
     "output_type": "display_data"
    },
    {
     "data": {
      "image/png": "[encoded data removed]",
      "text/plain": [
       "<Figure size 432x288 with 1 Axes>"
      ]
     },
     "metadata": {
      "needs_background": "light"
     },
     "output_type": "display_data"
    },
    {
     "data": {
      "image/png": "[encoded data removed]",
      "text/plain": [
       "<Figure size 432x288 with 1 Axes>"
      ]
     },
     "metadata": {
      "needs_background": "light"
     },
     "output_type": "display_data"
    },
    {
     "data": {
      "image/png": "[encoded data removed]",
      "text/plain": [
       "<Figure size 432x288 with 1 Axes>"
      ]
     },
     "metadata": {
      "needs_background": "light"
     },
     "output_type": "display_data"
    }
   ],
   "source": [
    "for i in df.columns:\n",
    "    plt.boxplot(df[i])\n",
    "    plt.xlabel('{}'.format(i))\n",
    "    plt.ylim(0, 1050)\n",
    "    plt.show()\n",
    "plt.show();"
   ]
  },
  {
   "cell_type": "code",
   "execution_count": 55,
   "metadata": {
    "scrolled": true
   },
   "outputs": [
    {
     "data": {
      "image/png": "[encoded data removed]",
      "text/plain": [
       "<Figure size 432x288 with 1 Axes>"
      ]
     },
     "metadata": {
      "needs_background": "light"
     },
     "output_type": "display_data"
    },
    {
     "data": {
      "image/png": "[encoded data removed]",
      "text/plain": [
       "<Figure size 432x288 with 1 Axes>"
      ]
     },
     "metadata": {
      "needs_background": "light"
     },
     "output_type": "display_data"
    }
   ],
   "source": [
    "for i in pur_p_invoice[['avg_price', 'sc_count']].columns:\n",
    "    plt.boxplot(pur_p_invoice[i])\n",
    "    plt.xlabel('{}'.format(i))\n",
    "    plt.ylim(0, 65)\n",
    "    plt.show()\n",
    "plt.show();"
   ]
  },
  {
   "cell_type": "markdown",
   "metadata": {},
   "source": [
    "now that its more logical, ill isolate the regular invoices from the abnormal using the graphs above"
   ]
  },
  {
   "cell_type": "code",
   "execution_count": 56,
   "metadata": {},
   "outputs": [
    {
     "data": {
      "text/plain": [
       "16918"
      ]
     },
     "execution_count": 56,
     "metadata": {},
     "output_type": "execute_result"
    },
    {
     "data": {
      "text/plain": [
       "2858"
      ]
     },
     "execution_count": 56,
     "metadata": {},
     "output_type": "execute_result"
    },
    {
     "data": {
      "text/plain": [
       "19776"
      ]
     },
     "execution_count": 56,
     "metadata": {},
     "output_type": "execute_result"
    },
    {
     "data": {
      "text/plain": [
       "19776"
      ]
     },
     "execution_count": 56,
     "metadata": {},
     "output_type": "execute_result"
    }
   ],
   "source": [
    "# defining the regular and abnormal invoices\n",
    "mask1 = pur_p_invoice['total_qty'] <= 650\n",
    "mask2 = pur_p_invoice['avg_price'] <= 10\n",
    "mask3 = pur_p_invoice['total_spent'] <= 1050\n",
    "mask4 = pur_p_invoice['sc_count'] <= 65\n",
    "reg_invoice = pur_p_invoice[mask1 & mask2 & mask3 & mask4]['invoiceno'].tolist()\n",
    "mask1 = pur_p_invoice['total_qty'] > 650\n",
    "mask2 = pur_p_invoice['avg_price'] > 10\n",
    "mask3 = pur_p_invoice['total_spent'] > 1050\n",
    "mask4 = pur_p_invoice['sc_count'] > 65\n",
    "abnorm_invoice = pur_p_invoice[mask1 | mask2 | mask3 | mask4]['invoiceno'].tolist()\n",
    "len(reg_invoice)\n",
    "len(abnorm_invoice)\n",
    "len(reg_invoice) + len(abnorm_invoice)\n",
    "pur_p_invoice.shape[0]"
   ]
  },
  {
   "cell_type": "markdown",
   "metadata": {},
   "source": [
    "ok so ill make a df for the abnormal quantity, unitprice or spent"
   ]
  },
  {
   "cell_type": "code",
   "execution_count": 57,
   "metadata": {},
   "outputs": [],
   "source": [
    "# difining normal and large purchaces\n",
    "large_purchases = purchases[purchases['invoiceno'].isin(abnorm_invoice)].reset_index(drop = True)\n",
    "normal_purchases = purchases[purchases['invoiceno'].isin(reg_invoice)].reset_index(drop = True)"
   ]
  },
  {
   "cell_type": "code",
   "execution_count": 58,
   "metadata": {
    "scrolled": true
   },
   "outputs": [
    {
     "data": {
      "text/html": [
       "<div>\n",
       "<style scoped>\n",
       "    .dataframe tbody tr th:only-of-type {\n",
       "        vertical-align: middle;\n",
       "    }\n",
       "\n",
       "    .dataframe tbody tr th {\n",
       "        vertical-align: top;\n",
       "    }\n",
       "\n",
       "    .dataframe thead th {\n",
       "        text-align: right;\n",
       "    }\n",
       "</style>\n",
       "<table border=\"1\" class=\"dataframe\">\n",
       "  <thead>\n",
       "    <tr style=\"text-align: right;\">\n",
       "      <th></th>\n",
       "      <th>invoiceno</th>\n",
       "      <th>quantity</th>\n",
       "      <th>invoice_dt</th>\n",
       "      <th>unitprice</th>\n",
       "      <th>invoicedate</th>\n",
       "      <th>suid</th>\n",
       "      <th>description</th>\n",
       "      <th>spent</th>\n",
       "      <th>stockcode</th>\n",
       "    </tr>\n",
       "  </thead>\n",
       "  <tbody>\n",
       "    <tr>\n",
       "      <td>count</td>\n",
       "      <td>297667</td>\n",
       "      <td>297667.000000</td>\n",
       "      <td>297667</td>\n",
       "      <td>297667.000000</td>\n",
       "      <td>297667</td>\n",
       "      <td>297667.0</td>\n",
       "      <td>297667</td>\n",
       "      <td>297667.000000</td>\n",
       "      <td>297667</td>\n",
       "    </tr>\n",
       "    <tr>\n",
       "      <td>unique</td>\n",
       "      <td>16918</td>\n",
       "      <td>NaN</td>\n",
       "      <td>15816</td>\n",
       "      <td>NaN</td>\n",
       "      <td>305</td>\n",
       "      <td>4117.0</td>\n",
       "      <td>3594</td>\n",
       "      <td>NaN</td>\n",
       "      <td>3594</td>\n",
       "    </tr>\n",
       "    <tr>\n",
       "      <td>top</td>\n",
       "      <td>536412</td>\n",
       "      <td>NaN</td>\n",
       "      <td>2019-05-08 15:07:00</td>\n",
       "      <td>NaN</td>\n",
       "      <td>2019-11-18 00:00:00</td>\n",
       "      <td>4472.0</td>\n",
       "      <td>white hanging heart t-light holder</td>\n",
       "      <td>NaN</td>\n",
       "      <td>85123a</td>\n",
       "    </tr>\n",
       "    <tr>\n",
       "      <td>freq</td>\n",
       "      <td>81</td>\n",
       "      <td>NaN</td>\n",
       "      <td>247</td>\n",
       "      <td>NaN</td>\n",
       "      <td>2067</td>\n",
       "      <td>13606.0</td>\n",
       "      <td>1694</td>\n",
       "      <td>NaN</td>\n",
       "      <td>1694</td>\n",
       "    </tr>\n",
       "    <tr>\n",
       "      <td>first</td>\n",
       "      <td>NaN</td>\n",
       "      <td>NaN</td>\n",
       "      <td>2018-11-29 08:26:00</td>\n",
       "      <td>NaN</td>\n",
       "      <td>2018-11-29 00:00:00</td>\n",
       "      <td>NaN</td>\n",
       "      <td>NaN</td>\n",
       "      <td>NaN</td>\n",
       "      <td>NaN</td>\n",
       "    </tr>\n",
       "    <tr>\n",
       "      <td>last</td>\n",
       "      <td>NaN</td>\n",
       "      <td>NaN</td>\n",
       "      <td>2019-12-07 12:50:00</td>\n",
       "      <td>NaN</td>\n",
       "      <td>2019-12-07 00:00:00</td>\n",
       "      <td>NaN</td>\n",
       "      <td>NaN</td>\n",
       "      <td>NaN</td>\n",
       "      <td>NaN</td>\n",
       "    </tr>\n",
       "    <tr>\n",
       "      <td>mean</td>\n",
       "      <td>NaN</td>\n",
       "      <td>9.452986</td>\n",
       "      <td>NaN</td>\n",
       "      <td>3.010030</td>\n",
       "      <td>NaN</td>\n",
       "      <td>NaN</td>\n",
       "      <td>NaN</td>\n",
       "      <td>16.717333</td>\n",
       "      <td>NaN</td>\n",
       "    </tr>\n",
       "    <tr>\n",
       "      <td>std</td>\n",
       "      <td>NaN</td>\n",
       "      <td>17.032139</td>\n",
       "      <td>NaN</td>\n",
       "      <td>3.386086</td>\n",
       "      <td>NaN</td>\n",
       "      <td>NaN</td>\n",
       "      <td>NaN</td>\n",
       "      <td>26.156827</td>\n",
       "      <td>NaN</td>\n",
       "    </tr>\n",
       "    <tr>\n",
       "      <td>min</td>\n",
       "      <td>NaN</td>\n",
       "      <td>1.000000</td>\n",
       "      <td>NaN</td>\n",
       "      <td>0.040000</td>\n",
       "      <td>NaN</td>\n",
       "      <td>NaN</td>\n",
       "      <td>NaN</td>\n",
       "      <td>0.060000</td>\n",
       "      <td>NaN</td>\n",
       "    </tr>\n",
       "    <tr>\n",
       "      <td>25%</td>\n",
       "      <td>NaN</td>\n",
       "      <td>2.000000</td>\n",
       "      <td>NaN</td>\n",
       "      <td>1.250000</td>\n",
       "      <td>NaN</td>\n",
       "      <td>NaN</td>\n",
       "      <td>NaN</td>\n",
       "      <td>5.000000</td>\n",
       "      <td>NaN</td>\n",
       "    </tr>\n",
       "    <tr>\n",
       "      <td>50%</td>\n",
       "      <td>NaN</td>\n",
       "      <td>5.000000</td>\n",
       "      <td>NaN</td>\n",
       "      <td>1.950000</td>\n",
       "      <td>NaN</td>\n",
       "      <td>NaN</td>\n",
       "      <td>NaN</td>\n",
       "      <td>12.500000</td>\n",
       "      <td>NaN</td>\n",
       "    </tr>\n",
       "    <tr>\n",
       "      <td>75%</td>\n",
       "      <td>NaN</td>\n",
       "      <td>12.000000</td>\n",
       "      <td>NaN</td>\n",
       "      <td>3.750000</td>\n",
       "      <td>NaN</td>\n",
       "      <td>NaN</td>\n",
       "      <td>NaN</td>\n",
       "      <td>18.600000</td>\n",
       "      <td>NaN</td>\n",
       "    </tr>\n",
       "    <tr>\n",
       "      <td>max</td>\n",
       "      <td>NaN</td>\n",
       "      <td>648.000000</td>\n",
       "      <td>NaN</td>\n",
       "      <td>195.000000</td>\n",
       "      <td>NaN</td>\n",
       "      <td>NaN</td>\n",
       "      <td>NaN</td>\n",
       "      <td>1044.000000</td>\n",
       "      <td>NaN</td>\n",
       "    </tr>\n",
       "  </tbody>\n",
       "</table>\n",
       "</div>"
      ],
      "text/plain": [
       "       invoiceno       quantity           invoice_dt      unitprice  \\\n",
       "count     297667  297667.000000               297667  297667.000000   \n",
       "unique     16918            NaN                15816            NaN   \n",
       "top       536412            NaN  2019-05-08 15:07:00            NaN   \n",
       "freq          81            NaN                  247            NaN   \n",
       "first        NaN            NaN  2018-11-29 08:26:00            NaN   \n",
       "last         NaN            NaN  2019-12-07 12:50:00            NaN   \n",
       "mean         NaN       9.452986                  NaN       3.010030   \n",
       "std          NaN      17.032139                  NaN       3.386086   \n",
       "min          NaN       1.000000                  NaN       0.040000   \n",
       "25%          NaN       2.000000                  NaN       1.250000   \n",
       "50%          NaN       5.000000                  NaN       1.950000   \n",
       "75%          NaN      12.000000                  NaN       3.750000   \n",
       "max          NaN     648.000000                  NaN     195.000000   \n",
       "\n",
       "                invoicedate      suid                         description  \\\n",
       "count                297667  297667.0                              297667   \n",
       "unique                  305    4117.0                                3594   \n",
       "top     2019-11-18 00:00:00    4472.0  white hanging heart t-light holder   \n",
       "freq                   2067   13606.0                                1694   \n",
       "first   2018-11-29 00:00:00       NaN                                 NaN   \n",
       "last    2019-12-07 00:00:00       NaN                                 NaN   \n",
       "mean                    NaN       NaN                                 NaN   \n",
       "std                     NaN       NaN                                 NaN   \n",
       "min                     NaN       NaN                                 NaN   \n",
       "25%                     NaN       NaN                                 NaN   \n",
       "50%                     NaN       NaN                                 NaN   \n",
       "75%                     NaN       NaN                                 NaN   \n",
       "max                     NaN       NaN                                 NaN   \n",
       "\n",
       "                spent stockcode  \n",
       "count   297667.000000    297667  \n",
       "unique            NaN      3594  \n",
       "top               NaN    85123a  \n",
       "freq              NaN      1694  \n",
       "first             NaN       NaN  \n",
       "last              NaN       NaN  \n",
       "mean        16.717333       NaN  \n",
       "std         26.156827       NaN  \n",
       "min          0.060000       NaN  \n",
       "25%          5.000000       NaN  \n",
       "50%         12.500000       NaN  \n",
       "75%         18.600000       NaN  \n",
       "max       1044.000000       NaN  "
      ]
     },
     "execution_count": 58,
     "metadata": {},
     "output_type": "execute_result"
    }
   ],
   "source": [
    "# using describe to see table info\n",
    "normal_purchases.describe(include = 'all')#, datetime_is_numeric = True)\n",
    "#normal_purchases['invoicedate'].describe()"
   ]
  },
  {
   "cell_type": "code",
   "execution_count": 59,
   "metadata": {
    "scrolled": true
   },
   "outputs": [
    {
     "data": {
      "text/html": [
       "<div>\n",
       "<style scoped>\n",
       "    .dataframe tbody tr th:only-of-type {\n",
       "        vertical-align: middle;\n",
       "    }\n",
       "\n",
       "    .dataframe tbody tr th {\n",
       "        vertical-align: top;\n",
       "    }\n",
       "\n",
       "    .dataframe thead th {\n",
       "        text-align: right;\n",
       "    }\n",
       "</style>\n",
       "<table border=\"1\" class=\"dataframe\">\n",
       "  <thead>\n",
       "    <tr style=\"text-align: right;\">\n",
       "      <th></th>\n",
       "      <th>invoiceno</th>\n",
       "      <th>quantity</th>\n",
       "      <th>invoice_dt</th>\n",
       "      <th>unitprice</th>\n",
       "      <th>invoicedate</th>\n",
       "      <th>suid</th>\n",
       "      <th>description</th>\n",
       "      <th>spent</th>\n",
       "      <th>stockcode</th>\n",
       "    </tr>\n",
       "  </thead>\n",
       "  <tbody>\n",
       "    <tr>\n",
       "      <td>count</td>\n",
       "      <td>230232</td>\n",
       "      <td>230232.000000</td>\n",
       "      <td>230232</td>\n",
       "      <td>230232.000000</td>\n",
       "      <td>230232</td>\n",
       "      <td>230232.0</td>\n",
       "      <td>230232</td>\n",
       "      <td>230232.000000</td>\n",
       "      <td>230232</td>\n",
       "    </tr>\n",
       "    <tr>\n",
       "      <td>unique</td>\n",
       "      <td>2858</td>\n",
       "      <td>NaN</td>\n",
       "      <td>2850</td>\n",
       "      <td>NaN</td>\n",
       "      <td>303</td>\n",
       "      <td>981.0</td>\n",
       "      <td>3602</td>\n",
       "      <td>NaN</td>\n",
       "      <td>3602</td>\n",
       "    </tr>\n",
       "    <tr>\n",
       "      <td>top</td>\n",
       "      <td>573585</td>\n",
       "      <td>NaN</td>\n",
       "      <td>2019-10-29 14:41:00</td>\n",
       "      <td>NaN</td>\n",
       "      <td>2019-12-03 00:00:00</td>\n",
       "      <td>4472.0</td>\n",
       "      <td>jumbo bag red retrospot</td>\n",
       "      <td>NaN</td>\n",
       "      <td>85099b</td>\n",
       "    </tr>\n",
       "    <tr>\n",
       "      <td>freq</td>\n",
       "      <td>1112</td>\n",
       "      <td>NaN</td>\n",
       "      <td>1112</td>\n",
       "      <td>NaN</td>\n",
       "      <td>3695</td>\n",
       "      <td>117823.0</td>\n",
       "      <td>697</td>\n",
       "      <td>NaN</td>\n",
       "      <td>697</td>\n",
       "    </tr>\n",
       "    <tr>\n",
       "      <td>first</td>\n",
       "      <td>NaN</td>\n",
       "      <td>NaN</td>\n",
       "      <td>2018-11-29 09:09:00</td>\n",
       "      <td>NaN</td>\n",
       "      <td>2018-11-29 00:00:00</td>\n",
       "      <td>NaN</td>\n",
       "      <td>NaN</td>\n",
       "      <td>NaN</td>\n",
       "      <td>NaN</td>\n",
       "    </tr>\n",
       "    <tr>\n",
       "      <td>last</td>\n",
       "      <td>NaN</td>\n",
       "      <td>NaN</td>\n",
       "      <td>2019-12-07 10:46:00</td>\n",
       "      <td>NaN</td>\n",
       "      <td>2019-12-07 00:00:00</td>\n",
       "      <td>NaN</td>\n",
       "      <td>NaN</td>\n",
       "      <td>NaN</td>\n",
       "      <td>NaN</td>\n",
       "    </tr>\n",
       "    <tr>\n",
       "      <td>mean</td>\n",
       "      <td>NaN</td>\n",
       "      <td>12.002676</td>\n",
       "      <td>NaN</td>\n",
       "      <td>3.624168</td>\n",
       "      <td>NaN</td>\n",
       "      <td>NaN</td>\n",
       "      <td>NaN</td>\n",
       "      <td>23.030186</td>\n",
       "      <td>NaN</td>\n",
       "    </tr>\n",
       "    <tr>\n",
       "      <td>std</td>\n",
       "      <td>NaN</td>\n",
       "      <td>235.134468</td>\n",
       "      <td>NaN</td>\n",
       "      <td>5.503404</td>\n",
       "      <td>NaN</td>\n",
       "      <td>NaN</td>\n",
       "      <td>NaN</td>\n",
       "      <td>405.561708</td>\n",
       "      <td>NaN</td>\n",
       "    </tr>\n",
       "    <tr>\n",
       "      <td>min</td>\n",
       "      <td>NaN</td>\n",
       "      <td>1.000000</td>\n",
       "      <td>NaN</td>\n",
       "      <td>0.040000</td>\n",
       "      <td>NaN</td>\n",
       "      <td>NaN</td>\n",
       "      <td>NaN</td>\n",
       "      <td>0.060000</td>\n",
       "      <td>NaN</td>\n",
       "    </tr>\n",
       "    <tr>\n",
       "      <td>25%</td>\n",
       "      <td>NaN</td>\n",
       "      <td>1.000000</td>\n",
       "      <td>NaN</td>\n",
       "      <td>1.250000</td>\n",
       "      <td>NaN</td>\n",
       "      <td>NaN</td>\n",
       "      <td>NaN</td>\n",
       "      <td>2.950000</td>\n",
       "      <td>NaN</td>\n",
       "    </tr>\n",
       "    <tr>\n",
       "      <td>50%</td>\n",
       "      <td>NaN</td>\n",
       "      <td>2.000000</td>\n",
       "      <td>NaN</td>\n",
       "      <td>2.460000</td>\n",
       "      <td>NaN</td>\n",
       "      <td>NaN</td>\n",
       "      <td>NaN</td>\n",
       "      <td>6.520000</td>\n",
       "      <td>NaN</td>\n",
       "    </tr>\n",
       "    <tr>\n",
       "      <td>75%</td>\n",
       "      <td>NaN</td>\n",
       "      <td>6.000000</td>\n",
       "      <td>NaN</td>\n",
       "      <td>4.130000</td>\n",
       "      <td>NaN</td>\n",
       "      <td>NaN</td>\n",
       "      <td>NaN</td>\n",
       "      <td>15.300000</td>\n",
       "      <td>NaN</td>\n",
       "    </tr>\n",
       "    <tr>\n",
       "      <td>max</td>\n",
       "      <td>NaN</td>\n",
       "      <td>80995.000000</td>\n",
       "      <td>NaN</td>\n",
       "      <td>649.500000</td>\n",
       "      <td>NaN</td>\n",
       "      <td>NaN</td>\n",
       "      <td>NaN</td>\n",
       "      <td>168469.600000</td>\n",
       "      <td>NaN</td>\n",
       "    </tr>\n",
       "  </tbody>\n",
       "</table>\n",
       "</div>"
      ],
      "text/plain": [
       "       invoiceno       quantity           invoice_dt      unitprice  \\\n",
       "count     230232  230232.000000               230232  230232.000000   \n",
       "unique      2858            NaN                 2850            NaN   \n",
       "top       573585            NaN  2019-10-29 14:41:00            NaN   \n",
       "freq        1112            NaN                 1112            NaN   \n",
       "first        NaN            NaN  2018-11-29 09:09:00            NaN   \n",
       "last         NaN            NaN  2019-12-07 10:46:00            NaN   \n",
       "mean         NaN      12.002676                  NaN       3.624168   \n",
       "std          NaN     235.134468                  NaN       5.503404   \n",
       "min          NaN       1.000000                  NaN       0.040000   \n",
       "25%          NaN       1.000000                  NaN       1.250000   \n",
       "50%          NaN       2.000000                  NaN       2.460000   \n",
       "75%          NaN       6.000000                  NaN       4.130000   \n",
       "max          NaN   80995.000000                  NaN     649.500000   \n",
       "\n",
       "                invoicedate      suid              description          spent  \\\n",
       "count                230232  230232.0                   230232  230232.000000   \n",
       "unique                  303     981.0                     3602            NaN   \n",
       "top     2019-12-03 00:00:00    4472.0  jumbo bag red retrospot            NaN   \n",
       "freq                   3695  117823.0                      697            NaN   \n",
       "first   2018-11-29 00:00:00       NaN                      NaN            NaN   \n",
       "last    2019-12-07 00:00:00       NaN                      NaN            NaN   \n",
       "mean                    NaN       NaN                      NaN      23.030186   \n",
       "std                     NaN       NaN                      NaN     405.561708   \n",
       "min                     NaN       NaN                      NaN       0.060000   \n",
       "25%                     NaN       NaN                      NaN       2.950000   \n",
       "50%                     NaN       NaN                      NaN       6.520000   \n",
       "75%                     NaN       NaN                      NaN      15.300000   \n",
       "max                     NaN       NaN                      NaN  168469.600000   \n",
       "\n",
       "       stockcode  \n",
       "count     230232  \n",
       "unique      3602  \n",
       "top       85099b  \n",
       "freq         697  \n",
       "first        NaN  \n",
       "last         NaN  \n",
       "mean         NaN  \n",
       "std          NaN  \n",
       "min          NaN  \n",
       "25%          NaN  \n",
       "50%          NaN  \n",
       "75%          NaN  \n",
       "max          NaN  "
      ]
     },
     "execution_count": 59,
     "metadata": {},
     "output_type": "execute_result"
    }
   ],
   "source": [
    "# using describe to see table info\n",
    "large_purchases.describe(include = 'all')#, datetime_is_numeric = True)\n",
    "#large_purchases['invoicedate'].describe()"
   ]
  },
  {
   "cell_type": "markdown",
   "metadata": {},
   "source": [
    "now i have a table to work with"
   ]
  },
  {
   "cell_type": "markdown",
   "metadata": {},
   "source": [
    "# Step 4. Product Range Analysis"
   ]
  },
  {
   "cell_type": "markdown",
   "metadata": {},
   "source": [
    "now ill do the same table for returns and then merge them to see the overall picture of each sc"
   ]
  },
  {
   "cell_type": "code",
   "execution_count": 60,
   "metadata": {},
   "outputs": [
    {
     "data": {
      "text/html": [
       "<div>\n",
       "<style scoped>\n",
       "    .dataframe tbody tr th:only-of-type {\n",
       "        vertical-align: middle;\n",
       "    }\n",
       "\n",
       "    .dataframe tbody tr th {\n",
       "        vertical-align: top;\n",
       "    }\n",
       "\n",
       "    .dataframe thead th {\n",
       "        text-align: right;\n",
       "    }\n",
       "</style>\n",
       "<table border=\"1\" class=\"dataframe\">\n",
       "  <thead>\n",
       "    <tr style=\"text-align: right;\">\n",
       "      <th></th>\n",
       "      <th>invoiceno</th>\n",
       "      <th>quantity</th>\n",
       "      <th>invoice_dt</th>\n",
       "      <th>unitprice</th>\n",
       "      <th>invoicedate</th>\n",
       "      <th>suid</th>\n",
       "      <th>description</th>\n",
       "      <th>stockcode</th>\n",
       "    </tr>\n",
       "  </thead>\n",
       "  <tbody>\n",
       "    <tr>\n",
       "      <td>0</td>\n",
       "      <td>c537602</td>\n",
       "      <td>1</td>\n",
       "      <td>2018-12-05 12:45:00</td>\n",
       "      <td>2.55</td>\n",
       "      <td>2018-12-05</td>\n",
       "      <td>3901</td>\n",
       "      <td>white hanging heart t-light holder</td>\n",
       "      <td>85123a</td>\n",
       "    </tr>\n",
       "    <tr>\n",
       "      <td>1</td>\n",
       "      <td>c538350</td>\n",
       "      <td>1</td>\n",
       "      <td>2018-12-08 15:01:00</td>\n",
       "      <td>2.55</td>\n",
       "      <td>2018-12-08</td>\n",
       "      <td>1178</td>\n",
       "      <td>white hanging heart t-light holder</td>\n",
       "      <td>85123a</td>\n",
       "    </tr>\n",
       "    <tr>\n",
       "      <td>2</td>\n",
       "      <td>c538834</td>\n",
       "      <td>1</td>\n",
       "      <td>2018-12-12 13:06:00</td>\n",
       "      <td>2.95</td>\n",
       "      <td>2018-12-12</td>\n",
       "      <td>1628</td>\n",
       "      <td>white hanging heart t-light holder</td>\n",
       "      <td>85123a</td>\n",
       "    </tr>\n",
       "    <tr>\n",
       "      <td>3</td>\n",
       "      <td>c539329</td>\n",
       "      <td>500</td>\n",
       "      <td>2018-12-15 09:37:00</td>\n",
       "      <td>2.55</td>\n",
       "      <td>2018-12-15</td>\n",
       "      <td>2808</td>\n",
       "      <td>white hanging heart t-light holder</td>\n",
       "      <td>85123a</td>\n",
       "    </tr>\n",
       "    <tr>\n",
       "      <td>4</td>\n",
       "      <td>c539576</td>\n",
       "      <td>24</td>\n",
       "      <td>2018-12-18 12:25:00</td>\n",
       "      <td>2.95</td>\n",
       "      <td>2018-12-18</td>\n",
       "      <td>1995</td>\n",
       "      <td>white hanging heart t-light holder</td>\n",
       "      <td>85123a</td>\n",
       "    </tr>\n",
       "  </tbody>\n",
       "</table>\n",
       "</div>"
      ],
      "text/plain": [
       "  invoiceno  quantity          invoice_dt  unitprice invoicedate  suid  \\\n",
       "0   c537602         1 2018-12-05 12:45:00       2.55  2018-12-05  3901   \n",
       "1   c538350         1 2018-12-08 15:01:00       2.55  2018-12-08  1178   \n",
       "2   c538834         1 2018-12-12 13:06:00       2.95  2018-12-12  1628   \n",
       "3   c539329       500 2018-12-15 09:37:00       2.55  2018-12-15  2808   \n",
       "4   c539576        24 2018-12-18 12:25:00       2.95  2018-12-18  1995   \n",
       "\n",
       "                          description stockcode  \n",
       "0  white hanging heart t-light holder    85123a  \n",
       "1  white hanging heart t-light holder    85123a  \n",
       "2  white hanging heart t-light holder    85123a  \n",
       "3  white hanging heart t-light holder    85123a  \n",
       "4  white hanging heart t-light holder    85123a  "
      ]
     },
     "execution_count": 60,
     "metadata": {},
     "output_type": "execute_result"
    },
    {
     "data": {
      "text/plain": [
       "8607"
      ]
     },
     "execution_count": 60,
     "metadata": {},
     "output_type": "execute_result"
    }
   ],
   "source": [
    "returns.head()\n",
    "returns.shape[0]"
   ]
  },
  {
   "cell_type": "markdown",
   "metadata": {},
   "source": [
    "since i checked for the best product in normal_purchases, ill look at the same stockcodes in the returns "
   ]
  },
  {
   "cell_type": "code",
   "execution_count": 61,
   "metadata": {
    "scrolled": true
   },
   "outputs": [
    {
     "data": {
      "text/html": [
       "<div>\n",
       "<style scoped>\n",
       "    .dataframe tbody tr th:only-of-type {\n",
       "        vertical-align: middle;\n",
       "    }\n",
       "\n",
       "    .dataframe tbody tr th {\n",
       "        vertical-align: top;\n",
       "    }\n",
       "\n",
       "    .dataframe thead th {\n",
       "        text-align: right;\n",
       "    }\n",
       "</style>\n",
       "<table border=\"1\" class=\"dataframe\">\n",
       "  <thead>\n",
       "    <tr style=\"text-align: right;\">\n",
       "      <th></th>\n",
       "      <th>invoiceno</th>\n",
       "      <th>quantity</th>\n",
       "      <th>invoice_dt</th>\n",
       "      <th>unitprice</th>\n",
       "      <th>invoicedate</th>\n",
       "      <th>suid</th>\n",
       "      <th>description</th>\n",
       "      <th>stockcode</th>\n",
       "    </tr>\n",
       "  </thead>\n",
       "  <tbody>\n",
       "    <tr>\n",
       "      <td>0</td>\n",
       "      <td>c537602</td>\n",
       "      <td>1</td>\n",
       "      <td>2018-12-05 12:45:00</td>\n",
       "      <td>2.55</td>\n",
       "      <td>2018-12-05</td>\n",
       "      <td>3901</td>\n",
       "      <td>white hanging heart t-light holder</td>\n",
       "      <td>85123a</td>\n",
       "    </tr>\n",
       "    <tr>\n",
       "      <td>1</td>\n",
       "      <td>c538350</td>\n",
       "      <td>1</td>\n",
       "      <td>2018-12-08 15:01:00</td>\n",
       "      <td>2.55</td>\n",
       "      <td>2018-12-08</td>\n",
       "      <td>1178</td>\n",
       "      <td>white hanging heart t-light holder</td>\n",
       "      <td>85123a</td>\n",
       "    </tr>\n",
       "    <tr>\n",
       "      <td>2</td>\n",
       "      <td>c538834</td>\n",
       "      <td>1</td>\n",
       "      <td>2018-12-12 13:06:00</td>\n",
       "      <td>2.95</td>\n",
       "      <td>2018-12-12</td>\n",
       "      <td>1628</td>\n",
       "      <td>white hanging heart t-light holder</td>\n",
       "      <td>85123a</td>\n",
       "    </tr>\n",
       "    <tr>\n",
       "      <td>3</td>\n",
       "      <td>c539329</td>\n",
       "      <td>500</td>\n",
       "      <td>2018-12-15 09:37:00</td>\n",
       "      <td>2.55</td>\n",
       "      <td>2018-12-15</td>\n",
       "      <td>2808</td>\n",
       "      <td>white hanging heart t-light holder</td>\n",
       "      <td>85123a</td>\n",
       "    </tr>\n",
       "    <tr>\n",
       "      <td>4</td>\n",
       "      <td>c539576</td>\n",
       "      <td>24</td>\n",
       "      <td>2018-12-18 12:25:00</td>\n",
       "      <td>2.95</td>\n",
       "      <td>2018-12-18</td>\n",
       "      <td>1995</td>\n",
       "      <td>white hanging heart t-light holder</td>\n",
       "      <td>85123a</td>\n",
       "    </tr>\n",
       "  </tbody>\n",
       "</table>\n",
       "</div>"
      ],
      "text/plain": [
       "  invoiceno  quantity          invoice_dt  unitprice invoicedate  suid  \\\n",
       "0   c537602         1 2018-12-05 12:45:00       2.55  2018-12-05  3901   \n",
       "1   c538350         1 2018-12-08 15:01:00       2.55  2018-12-08  1178   \n",
       "2   c538834         1 2018-12-12 13:06:00       2.95  2018-12-12  1628   \n",
       "3   c539329       500 2018-12-15 09:37:00       2.55  2018-12-15  2808   \n",
       "4   c539576        24 2018-12-18 12:25:00       2.95  2018-12-18  1995   \n",
       "\n",
       "                          description stockcode  \n",
       "0  white hanging heart t-light holder    85123a  \n",
       "1  white hanging heart t-light holder    85123a  \n",
       "2  white hanging heart t-light holder    85123a  \n",
       "3  white hanging heart t-light holder    85123a  \n",
       "4  white hanging heart t-light holder    85123a  "
      ]
     },
     "execution_count": 61,
     "metadata": {},
     "output_type": "execute_result"
    },
    {
     "data": {
      "text/plain": [
       "8291"
      ]
     },
     "execution_count": 61,
     "metadata": {},
     "output_type": "execute_result"
    }
   ],
   "source": [
    "# making a normal_returns table based on the items and users from normal_purchases\n",
    "reg_sc = normal_purchases['stockcode'].unique().tolist()\n",
    "reg_uid = normal_purchases['suid'].unique().tolist()\n",
    "mask1 = returns['stockcode'].isin(reg_sc)\n",
    "mask2 = returns['suid'].isin(reg_uid)\n",
    "normal_returns = returns[mask1 & mask2].reset_index(drop = True)\n",
    "normal_returns.head()\n",
    "normal_returns.shape[0]"
   ]
  },
  {
   "cell_type": "code",
   "execution_count": 62,
   "metadata": {},
   "outputs": [
    {
     "data": {
      "text/html": [
       "<div>\n",
       "<style scoped>\n",
       "    .dataframe tbody tr th:only-of-type {\n",
       "        vertical-align: middle;\n",
       "    }\n",
       "\n",
       "    .dataframe tbody tr th {\n",
       "        vertical-align: top;\n",
       "    }\n",
       "\n",
       "    .dataframe thead th {\n",
       "        text-align: right;\n",
       "    }\n",
       "</style>\n",
       "<table border=\"1\" class=\"dataframe\">\n",
       "  <thead>\n",
       "    <tr style=\"text-align: right;\">\n",
       "      <th></th>\n",
       "      <th>invoiceno</th>\n",
       "      <th>quantity</th>\n",
       "      <th>invoice_dt</th>\n",
       "      <th>unitprice</th>\n",
       "      <th>invoicedate</th>\n",
       "      <th>suid</th>\n",
       "      <th>description</th>\n",
       "      <th>stockcode</th>\n",
       "      <th>refunded</th>\n",
       "    </tr>\n",
       "  </thead>\n",
       "  <tbody>\n",
       "    <tr>\n",
       "      <td>0</td>\n",
       "      <td>c537602</td>\n",
       "      <td>1</td>\n",
       "      <td>2018-12-05 12:45:00</td>\n",
       "      <td>2.55</td>\n",
       "      <td>2018-12-05</td>\n",
       "      <td>3901</td>\n",
       "      <td>white hanging heart t-light holder</td>\n",
       "      <td>85123a</td>\n",
       "      <td>2.55</td>\n",
       "    </tr>\n",
       "    <tr>\n",
       "      <td>1</td>\n",
       "      <td>c538350</td>\n",
       "      <td>1</td>\n",
       "      <td>2018-12-08 15:01:00</td>\n",
       "      <td>2.55</td>\n",
       "      <td>2018-12-08</td>\n",
       "      <td>1178</td>\n",
       "      <td>white hanging heart t-light holder</td>\n",
       "      <td>85123a</td>\n",
       "      <td>2.55</td>\n",
       "    </tr>\n",
       "    <tr>\n",
       "      <td>2</td>\n",
       "      <td>c538834</td>\n",
       "      <td>1</td>\n",
       "      <td>2018-12-12 13:06:00</td>\n",
       "      <td>2.95</td>\n",
       "      <td>2018-12-12</td>\n",
       "      <td>1628</td>\n",
       "      <td>white hanging heart t-light holder</td>\n",
       "      <td>85123a</td>\n",
       "      <td>2.95</td>\n",
       "    </tr>\n",
       "  </tbody>\n",
       "</table>\n",
       "</div>"
      ],
      "text/plain": [
       "  invoiceno  quantity          invoice_dt  unitprice invoicedate  suid  \\\n",
       "0   c537602         1 2018-12-05 12:45:00       2.55  2018-12-05  3901   \n",
       "1   c538350         1 2018-12-08 15:01:00       2.55  2018-12-08  1178   \n",
       "2   c538834         1 2018-12-12 13:06:00       2.95  2018-12-12  1628   \n",
       "\n",
       "                          description stockcode  refunded  \n",
       "0  white hanging heart t-light holder    85123a      2.55  \n",
       "1  white hanging heart t-light holder    85123a      2.55  \n",
       "2  white hanging heart t-light holder    85123a      2.95  "
      ]
     },
     "execution_count": 62,
     "metadata": {},
     "output_type": "execute_result"
    }
   ],
   "source": [
    "# adding a refunded column\n",
    "normal_returns['refunded'] = normal_returns['quantity'] * normal_returns['unitprice']\n",
    "normal_returns.head(3)"
   ]
  },
  {
   "cell_type": "code",
   "execution_count": 63,
   "metadata": {
    "scrolled": true
   },
   "outputs": [
    {
     "data": {
      "text/html": [
       "<div>\n",
       "<style scoped>\n",
       "    .dataframe tbody tr th:only-of-type {\n",
       "        vertical-align: middle;\n",
       "    }\n",
       "\n",
       "    .dataframe tbody tr th {\n",
       "        vertical-align: top;\n",
       "    }\n",
       "\n",
       "    .dataframe thead th {\n",
       "        text-align: right;\n",
       "    }\n",
       "</style>\n",
       "<table border=\"1\" class=\"dataframe\">\n",
       "  <thead>\n",
       "    <tr style=\"text-align: right;\">\n",
       "      <th></th>\n",
       "      <th>invoiceno</th>\n",
       "      <th>quantity</th>\n",
       "      <th>invoice_dt</th>\n",
       "      <th>unitprice</th>\n",
       "      <th>invoicedate</th>\n",
       "      <th>suid</th>\n",
       "      <th>description</th>\n",
       "      <th>stockcode</th>\n",
       "      <th>refunded</th>\n",
       "    </tr>\n",
       "  </thead>\n",
       "  <tbody>\n",
       "    <tr>\n",
       "      <td>count</td>\n",
       "      <td>8291</td>\n",
       "      <td>8291.000000</td>\n",
       "      <td>8291</td>\n",
       "      <td>8291.000000</td>\n",
       "      <td>8291</td>\n",
       "      <td>8291.0</td>\n",
       "      <td>8291</td>\n",
       "      <td>8291</td>\n",
       "      <td>8291.000000</td>\n",
       "    </tr>\n",
       "    <tr>\n",
       "      <td>unique</td>\n",
       "      <td>3315</td>\n",
       "      <td>NaN</td>\n",
       "      <td>3257</td>\n",
       "      <td>NaN</td>\n",
       "      <td>302</td>\n",
       "      <td>1454.0</td>\n",
       "      <td>1855</td>\n",
       "      <td>1855</td>\n",
       "      <td>NaN</td>\n",
       "    </tr>\n",
       "    <tr>\n",
       "      <td>top</td>\n",
       "      <td>c560540</td>\n",
       "      <td>NaN</td>\n",
       "      <td>2019-07-17 12:26:00</td>\n",
       "      <td>NaN</td>\n",
       "      <td>2019-10-04 00:00:00</td>\n",
       "      <td>1995.0</td>\n",
       "      <td>regency cakestand 3 tier</td>\n",
       "      <td>22423</td>\n",
       "      <td>NaN</td>\n",
       "    </tr>\n",
       "    <tr>\n",
       "      <td>freq</td>\n",
       "      <td>57</td>\n",
       "      <td>NaN</td>\n",
       "      <td>57</td>\n",
       "      <td>NaN</td>\n",
       "      <td>223</td>\n",
       "      <td>212.0</td>\n",
       "      <td>176</td>\n",
       "      <td>176</td>\n",
       "      <td>NaN</td>\n",
       "    </tr>\n",
       "    <tr>\n",
       "      <td>first</td>\n",
       "      <td>NaN</td>\n",
       "      <td>NaN</td>\n",
       "      <td>2018-11-29 09:49:00</td>\n",
       "      <td>NaN</td>\n",
       "      <td>2018-11-29 00:00:00</td>\n",
       "      <td>NaN</td>\n",
       "      <td>NaN</td>\n",
       "      <td>NaN</td>\n",
       "      <td>NaN</td>\n",
       "    </tr>\n",
       "    <tr>\n",
       "      <td>last</td>\n",
       "      <td>NaN</td>\n",
       "      <td>NaN</td>\n",
       "      <td>2019-12-07 11:58:00</td>\n",
       "      <td>NaN</td>\n",
       "      <td>2019-12-07 00:00:00</td>\n",
       "      <td>NaN</td>\n",
       "      <td>NaN</td>\n",
       "      <td>NaN</td>\n",
       "      <td>NaN</td>\n",
       "    </tr>\n",
       "    <tr>\n",
       "      <td>mean</td>\n",
       "      <td>NaN</td>\n",
       "      <td>12.378362</td>\n",
       "      <td>NaN</td>\n",
       "      <td>4.385008</td>\n",
       "      <td>NaN</td>\n",
       "      <td>NaN</td>\n",
       "      <td>NaN</td>\n",
       "      <td>NaN</td>\n",
       "      <td>23.742778</td>\n",
       "    </tr>\n",
       "    <tr>\n",
       "      <td>std</td>\n",
       "      <td>NaN</td>\n",
       "      <td>114.230619</td>\n",
       "      <td>NaN</td>\n",
       "      <td>8.896030</td>\n",
       "      <td>NaN</td>\n",
       "      <td>NaN</td>\n",
       "      <td>NaN</td>\n",
       "      <td>NaN</td>\n",
       "      <td>94.075840</td>\n",
       "    </tr>\n",
       "    <tr>\n",
       "      <td>min</td>\n",
       "      <td>NaN</td>\n",
       "      <td>1.000000</td>\n",
       "      <td>NaN</td>\n",
       "      <td>0.030000</td>\n",
       "      <td>NaN</td>\n",
       "      <td>NaN</td>\n",
       "      <td>NaN</td>\n",
       "      <td>NaN</td>\n",
       "      <td>0.120000</td>\n",
       "    </tr>\n",
       "    <tr>\n",
       "      <td>25%</td>\n",
       "      <td>NaN</td>\n",
       "      <td>1.000000</td>\n",
       "      <td>NaN</td>\n",
       "      <td>1.450000</td>\n",
       "      <td>NaN</td>\n",
       "      <td>NaN</td>\n",
       "      <td>NaN</td>\n",
       "      <td>NaN</td>\n",
       "      <td>3.300000</td>\n",
       "    </tr>\n",
       "    <tr>\n",
       "      <td>50%</td>\n",
       "      <td>NaN</td>\n",
       "      <td>2.000000</td>\n",
       "      <td>NaN</td>\n",
       "      <td>2.550000</td>\n",
       "      <td>NaN</td>\n",
       "      <td>NaN</td>\n",
       "      <td>NaN</td>\n",
       "      <td>NaN</td>\n",
       "      <td>8.250000</td>\n",
       "    </tr>\n",
       "    <tr>\n",
       "      <td>75%</td>\n",
       "      <td>NaN</td>\n",
       "      <td>6.000000</td>\n",
       "      <td>NaN</td>\n",
       "      <td>4.950000</td>\n",
       "      <td>NaN</td>\n",
       "      <td>NaN</td>\n",
       "      <td>NaN</td>\n",
       "      <td>NaN</td>\n",
       "      <td>16.500000</td>\n",
       "    </tr>\n",
       "    <tr>\n",
       "      <td>max</td>\n",
       "      <td>NaN</td>\n",
       "      <td>9360.000000</td>\n",
       "      <td>NaN</td>\n",
       "      <td>295.000000</td>\n",
       "      <td>NaN</td>\n",
       "      <td>NaN</td>\n",
       "      <td>NaN</td>\n",
       "      <td>NaN</td>\n",
       "      <td>3825.360000</td>\n",
       "    </tr>\n",
       "  </tbody>\n",
       "</table>\n",
       "</div>"
      ],
      "text/plain": [
       "       invoiceno     quantity           invoice_dt    unitprice  \\\n",
       "count       8291  8291.000000                 8291  8291.000000   \n",
       "unique      3315          NaN                 3257          NaN   \n",
       "top      c560540          NaN  2019-07-17 12:26:00          NaN   \n",
       "freq          57          NaN                   57          NaN   \n",
       "first        NaN          NaN  2018-11-29 09:49:00          NaN   \n",
       "last         NaN          NaN  2019-12-07 11:58:00          NaN   \n",
       "mean         NaN    12.378362                  NaN     4.385008   \n",
       "std          NaN   114.230619                  NaN     8.896030   \n",
       "min          NaN     1.000000                  NaN     0.030000   \n",
       "25%          NaN     1.000000                  NaN     1.450000   \n",
       "50%          NaN     2.000000                  NaN     2.550000   \n",
       "75%          NaN     6.000000                  NaN     4.950000   \n",
       "max          NaN  9360.000000                  NaN   295.000000   \n",
       "\n",
       "                invoicedate    suid               description stockcode  \\\n",
       "count                  8291  8291.0                      8291      8291   \n",
       "unique                  302  1454.0                      1855      1855   \n",
       "top     2019-10-04 00:00:00  1995.0  regency cakestand 3 tier     22423   \n",
       "freq                    223   212.0                       176       176   \n",
       "first   2018-11-29 00:00:00     NaN                       NaN       NaN   \n",
       "last    2019-12-07 00:00:00     NaN                       NaN       NaN   \n",
       "mean                    NaN     NaN                       NaN       NaN   \n",
       "std                     NaN     NaN                       NaN       NaN   \n",
       "min                     NaN     NaN                       NaN       NaN   \n",
       "25%                     NaN     NaN                       NaN       NaN   \n",
       "50%                     NaN     NaN                       NaN       NaN   \n",
       "75%                     NaN     NaN                       NaN       NaN   \n",
       "max                     NaN     NaN                       NaN       NaN   \n",
       "\n",
       "           refunded  \n",
       "count   8291.000000  \n",
       "unique          NaN  \n",
       "top             NaN  \n",
       "freq            NaN  \n",
       "first           NaN  \n",
       "last            NaN  \n",
       "mean      23.742778  \n",
       "std       94.075840  \n",
       "min        0.120000  \n",
       "25%        3.300000  \n",
       "50%        8.250000  \n",
       "75%       16.500000  \n",
       "max     3825.360000  "
      ]
     },
     "execution_count": 63,
     "metadata": {},
     "output_type": "execute_result"
    }
   ],
   "source": [
    "# using describe for more info\n",
    "normal_returns.describe(include = 'all')"
   ]
  },
  {
   "cell_type": "markdown",
   "metadata": {},
   "source": [
    "* again - some invoices were made at the exact same time (possible)\n",
    "* since i have to include all the items that were included in the purchases, i wont remove the return with 9360 quantity"
   ]
  },
  {
   "cell_type": "code",
   "execution_count": 64,
   "metadata": {},
   "outputs": [
    {
     "data": {
      "text/html": [
       "<div>\n",
       "<style scoped>\n",
       "    .dataframe tbody tr th:only-of-type {\n",
       "        vertical-align: middle;\n",
       "    }\n",
       "\n",
       "    .dataframe tbody tr th {\n",
       "        vertical-align: top;\n",
       "    }\n",
       "\n",
       "    .dataframe thead th {\n",
       "        text-align: right;\n",
       "    }\n",
       "</style>\n",
       "<table border=\"1\" class=\"dataframe\">\n",
       "  <thead>\n",
       "    <tr style=\"text-align: right;\">\n",
       "      <th></th>\n",
       "      <th>invoiceno</th>\n",
       "      <th>quantity</th>\n",
       "      <th>invoice_dt</th>\n",
       "      <th>unitprice</th>\n",
       "      <th>invoicedate</th>\n",
       "      <th>suid</th>\n",
       "      <th>description</th>\n",
       "      <th>spent</th>\n",
       "      <th>stockcode</th>\n",
       "    </tr>\n",
       "  </thead>\n",
       "  <tbody>\n",
       "    <tr>\n",
       "      <td>0</td>\n",
       "      <td>536365</td>\n",
       "      <td>6</td>\n",
       "      <td>2018-11-29 08:26:00</td>\n",
       "      <td>2.55</td>\n",
       "      <td>2018-11-29</td>\n",
       "      <td>4148</td>\n",
       "      <td>white hanging heart t-light holder</td>\n",
       "      <td>15.3</td>\n",
       "      <td>85123a</td>\n",
       "    </tr>\n",
       "    <tr>\n",
       "      <td>1</td>\n",
       "      <td>536373</td>\n",
       "      <td>6</td>\n",
       "      <td>2018-11-29 09:02:00</td>\n",
       "      <td>2.55</td>\n",
       "      <td>2018-11-29</td>\n",
       "      <td>4148</td>\n",
       "      <td>white hanging heart t-light holder</td>\n",
       "      <td>15.3</td>\n",
       "      <td>85123a</td>\n",
       "    </tr>\n",
       "    <tr>\n",
       "      <td>2</td>\n",
       "      <td>536375</td>\n",
       "      <td>6</td>\n",
       "      <td>2018-11-29 09:32:00</td>\n",
       "      <td>2.55</td>\n",
       "      <td>2018-11-29</td>\n",
       "      <td>4148</td>\n",
       "      <td>white hanging heart t-light holder</td>\n",
       "      <td>15.3</td>\n",
       "      <td>85123a</td>\n",
       "    </tr>\n",
       "  </tbody>\n",
       "</table>\n",
       "</div>"
      ],
      "text/plain": [
       "  invoiceno  quantity          invoice_dt  unitprice invoicedate  suid  \\\n",
       "0    536365         6 2018-11-29 08:26:00       2.55  2018-11-29  4148   \n",
       "1    536373         6 2018-11-29 09:02:00       2.55  2018-11-29  4148   \n",
       "2    536375         6 2018-11-29 09:32:00       2.55  2018-11-29  4148   \n",
       "\n",
       "                          description  spent stockcode  \n",
       "0  white hanging heart t-light holder   15.3    85123a  \n",
       "1  white hanging heart t-light holder   15.3    85123a  \n",
       "2  white hanging heart t-light holder   15.3    85123a  "
      ]
     },
     "execution_count": 64,
     "metadata": {},
     "output_type": "execute_result"
    },
    {
     "data": {
      "text/plain": [
       "297667"
      ]
     },
     "execution_count": 64,
     "metadata": {},
     "output_type": "execute_result"
    },
    {
     "data": {
      "text/html": [
       "<div>\n",
       "<style scoped>\n",
       "    .dataframe tbody tr th:only-of-type {\n",
       "        vertical-align: middle;\n",
       "    }\n",
       "\n",
       "    .dataframe tbody tr th {\n",
       "        vertical-align: top;\n",
       "    }\n",
       "\n",
       "    .dataframe thead th {\n",
       "        text-align: right;\n",
       "    }\n",
       "</style>\n",
       "<table border=\"1\" class=\"dataframe\">\n",
       "  <thead>\n",
       "    <tr style=\"text-align: right;\">\n",
       "      <th></th>\n",
       "      <th>invoiceno</th>\n",
       "      <th>quantity</th>\n",
       "      <th>invoice_dt</th>\n",
       "      <th>unitprice</th>\n",
       "      <th>invoicedate</th>\n",
       "      <th>suid</th>\n",
       "      <th>description</th>\n",
       "      <th>stockcode</th>\n",
       "      <th>refunded</th>\n",
       "    </tr>\n",
       "  </thead>\n",
       "  <tbody>\n",
       "    <tr>\n",
       "      <td>0</td>\n",
       "      <td>c537602</td>\n",
       "      <td>1</td>\n",
       "      <td>2018-12-05 12:45:00</td>\n",
       "      <td>2.55</td>\n",
       "      <td>2018-12-05</td>\n",
       "      <td>3901</td>\n",
       "      <td>white hanging heart t-light holder</td>\n",
       "      <td>85123a</td>\n",
       "      <td>2.55</td>\n",
       "    </tr>\n",
       "    <tr>\n",
       "      <td>1</td>\n",
       "      <td>c538350</td>\n",
       "      <td>1</td>\n",
       "      <td>2018-12-08 15:01:00</td>\n",
       "      <td>2.55</td>\n",
       "      <td>2018-12-08</td>\n",
       "      <td>1178</td>\n",
       "      <td>white hanging heart t-light holder</td>\n",
       "      <td>85123a</td>\n",
       "      <td>2.55</td>\n",
       "    </tr>\n",
       "    <tr>\n",
       "      <td>2</td>\n",
       "      <td>c538834</td>\n",
       "      <td>1</td>\n",
       "      <td>2018-12-12 13:06:00</td>\n",
       "      <td>2.95</td>\n",
       "      <td>2018-12-12</td>\n",
       "      <td>1628</td>\n",
       "      <td>white hanging heart t-light holder</td>\n",
       "      <td>85123a</td>\n",
       "      <td>2.95</td>\n",
       "    </tr>\n",
       "  </tbody>\n",
       "</table>\n",
       "</div>"
      ],
      "text/plain": [
       "  invoiceno  quantity          invoice_dt  unitprice invoicedate  suid  \\\n",
       "0   c537602         1 2018-12-05 12:45:00       2.55  2018-12-05  3901   \n",
       "1   c538350         1 2018-12-08 15:01:00       2.55  2018-12-08  1178   \n",
       "2   c538834         1 2018-12-12 13:06:00       2.95  2018-12-12  1628   \n",
       "\n",
       "                          description stockcode  refunded  \n",
       "0  white hanging heart t-light holder    85123a      2.55  \n",
       "1  white hanging heart t-light holder    85123a      2.55  \n",
       "2  white hanging heart t-light holder    85123a      2.95  "
      ]
     },
     "execution_count": 64,
     "metadata": {},
     "output_type": "execute_result"
    },
    {
     "data": {
      "text/plain": [
       "8291"
      ]
     },
     "execution_count": 64,
     "metadata": {},
     "output_type": "execute_result"
    }
   ],
   "source": [
    "normal_purchases.head(3)\n",
    "normal_purchases.shape[0]\n",
    "normal_returns.head(3)\n",
    "normal_returns.shape[0]"
   ]
  },
  {
   "cell_type": "markdown",
   "metadata": {},
   "source": [
    "lets try to see again if there is a connection between the return and purchase invoices"
   ]
  },
  {
   "cell_type": "code",
   "execution_count": 65,
   "metadata": {},
   "outputs": [
    {
     "data": {
      "text/html": [
       "<div>\n",
       "<style scoped>\n",
       "    .dataframe tbody tr th:only-of-type {\n",
       "        vertical-align: middle;\n",
       "    }\n",
       "\n",
       "    .dataframe tbody tr th {\n",
       "        vertical-align: top;\n",
       "    }\n",
       "\n",
       "    .dataframe thead th {\n",
       "        text-align: right;\n",
       "    }\n",
       "</style>\n",
       "<table border=\"1\" class=\"dataframe\">\n",
       "  <thead>\n",
       "    <tr style=\"text-align: right;\">\n",
       "      <th></th>\n",
       "      <th>suid</th>\n",
       "      <th>inv_cnt</th>\n",
       "    </tr>\n",
       "  </thead>\n",
       "  <tbody>\n",
       "    <tr>\n",
       "      <td>10</td>\n",
       "      <td>150</td>\n",
       "      <td>4</td>\n",
       "    </tr>\n",
       "    <tr>\n",
       "      <td>13</td>\n",
       "      <td>155</td>\n",
       "      <td>4</td>\n",
       "    </tr>\n",
       "    <tr>\n",
       "      <td>51</td>\n",
       "      <td>267</td>\n",
       "      <td>4</td>\n",
       "    </tr>\n",
       "    <tr>\n",
       "      <td>77</td>\n",
       "      <td>331</td>\n",
       "      <td>4</td>\n",
       "    </tr>\n",
       "    <tr>\n",
       "      <td>94</td>\n",
       "      <td>376</td>\n",
       "      <td>4</td>\n",
       "    </tr>\n",
       "  </tbody>\n",
       "</table>\n",
       "</div>"
      ],
      "text/plain": [
       "    suid  inv_cnt\n",
       "10   150        4\n",
       "13   155        4\n",
       "51   267        4\n",
       "77   331        4\n",
       "94   376        4"
      ]
     },
     "execution_count": 65,
     "metadata": {},
     "output_type": "execute_result"
    }
   ],
   "source": [
    "# checking how many invoices there are per user and looking at the users that have 4 return invoices\n",
    "inv_p_uid = normal_returns.groupby('suid').agg(inv_cnt = ('invoiceno', 'nunique')).reset_index()\n",
    "inv_p_uid[inv_p_uid['inv_cnt'] == 4].head()"
   ]
  },
  {
   "cell_type": "code",
   "execution_count": 66,
   "metadata": {
    "scrolled": false
   },
   "outputs": [
    {
     "data": {
      "text/html": [
       "<div>\n",
       "<style scoped>\n",
       "    .dataframe tbody tr th:only-of-type {\n",
       "        vertical-align: middle;\n",
       "    }\n",
       "\n",
       "    .dataframe tbody tr th {\n",
       "        vertical-align: top;\n",
       "    }\n",
       "\n",
       "    .dataframe thead th {\n",
       "        text-align: right;\n",
       "    }\n",
       "</style>\n",
       "<table border=\"1\" class=\"dataframe\">\n",
       "  <thead>\n",
       "    <tr style=\"text-align: right;\">\n",
       "      <th></th>\n",
       "      <th>invoiceno</th>\n",
       "      <th>quantity</th>\n",
       "      <th>invoice_dt</th>\n",
       "      <th>unitprice</th>\n",
       "      <th>invoicedate</th>\n",
       "      <th>suid</th>\n",
       "      <th>description</th>\n",
       "      <th>stockcode</th>\n",
       "      <th>refunded</th>\n",
       "    </tr>\n",
       "  </thead>\n",
       "  <tbody>\n",
       "    <tr>\n",
       "      <td>1193</td>\n",
       "      <td>c545525</td>\n",
       "      <td>86</td>\n",
       "      <td>2019-03-01 13:11:00</td>\n",
       "      <td>1.25</td>\n",
       "      <td>2019-03-01</td>\n",
       "      <td>155</td>\n",
       "      <td>homemade jam scented candles</td>\n",
       "      <td>22969</td>\n",
       "      <td>107.50</td>\n",
       "    </tr>\n",
       "    <tr>\n",
       "      <td>3142</td>\n",
       "      <td>c545525</td>\n",
       "      <td>24</td>\n",
       "      <td>2019-03-01 13:11:00</td>\n",
       "      <td>2.55</td>\n",
       "      <td>2019-03-01</td>\n",
       "      <td>155</td>\n",
       "      <td>green regency teacup and saucer</td>\n",
       "      <td>22697</td>\n",
       "      <td>61.20</td>\n",
       "    </tr>\n",
       "    <tr>\n",
       "      <td>6672</td>\n",
       "      <td>c551348</td>\n",
       "      <td>100</td>\n",
       "      <td>2019-04-26 09:49:00</td>\n",
       "      <td>4.25</td>\n",
       "      <td>2019-04-26</td>\n",
       "      <td>155</td>\n",
       "      <td>cotton apron pantry design</td>\n",
       "      <td>22990</td>\n",
       "      <td>425.00</td>\n",
       "    </tr>\n",
       "    <tr>\n",
       "      <td>396</td>\n",
       "      <td>c560540</td>\n",
       "      <td>36</td>\n",
       "      <td>2019-07-17 12:26:00</td>\n",
       "      <td>0.65</td>\n",
       "      <td>2019-07-17</td>\n",
       "      <td>155</td>\n",
       "      <td>mini paint set vintage</td>\n",
       "      <td>22492</td>\n",
       "      <td>23.40</td>\n",
       "    </tr>\n",
       "    <tr>\n",
       "      <td>7181</td>\n",
       "      <td>c560540</td>\n",
       "      <td>1</td>\n",
       "      <td>2019-07-17 12:26:00</td>\n",
       "      <td>2.08</td>\n",
       "      <td>2019-07-17</td>\n",
       "      <td>155</td>\n",
       "      <td>jumbo bag vintage doily</td>\n",
       "      <td>23203</td>\n",
       "      <td>2.08</td>\n",
       "    </tr>\n",
       "    <tr>\n",
       "      <td>...</td>\n",
       "      <td>...</td>\n",
       "      <td>...</td>\n",
       "      <td>...</td>\n",
       "      <td>...</td>\n",
       "      <td>...</td>\n",
       "      <td>...</td>\n",
       "      <td>...</td>\n",
       "      <td>...</td>\n",
       "      <td>...</td>\n",
       "    </tr>\n",
       "    <tr>\n",
       "      <td>6930</td>\n",
       "      <td>c560540</td>\n",
       "      <td>1</td>\n",
       "      <td>2019-07-17 12:26:00</td>\n",
       "      <td>4.15</td>\n",
       "      <td>2019-07-17</td>\n",
       "      <td>155</td>\n",
       "      <td>childrens cutlery dolly girl</td>\n",
       "      <td>23254</td>\n",
       "      <td>4.15</td>\n",
       "    </tr>\n",
       "    <tr>\n",
       "      <td>6937</td>\n",
       "      <td>c560540</td>\n",
       "      <td>1</td>\n",
       "      <td>2019-07-17 12:26:00</td>\n",
       "      <td>4.15</td>\n",
       "      <td>2019-07-17</td>\n",
       "      <td>155</td>\n",
       "      <td>childrens cutlery spaceboy</td>\n",
       "      <td>23256</td>\n",
       "      <td>4.15</td>\n",
       "    </tr>\n",
       "    <tr>\n",
       "      <td>4963</td>\n",
       "      <td>c560540</td>\n",
       "      <td>1</td>\n",
       "      <td>2019-07-17 12:26:00</td>\n",
       "      <td>0.42</td>\n",
       "      <td>2019-07-17</td>\n",
       "      <td>155</td>\n",
       "      <td>set 12 kids colour  chalk sticks</td>\n",
       "      <td>21918</td>\n",
       "      <td>0.42</td>\n",
       "    </tr>\n",
       "    <tr>\n",
       "      <td>8010</td>\n",
       "      <td>c560540</td>\n",
       "      <td>2</td>\n",
       "      <td>2019-07-17 12:26:00</td>\n",
       "      <td>1.65</td>\n",
       "      <td>2019-07-17</td>\n",
       "      <td>155</td>\n",
       "      <td>set 40 heart shape petit four cases</td>\n",
       "      <td>23297</td>\n",
       "      <td>3.30</td>\n",
       "    </tr>\n",
       "    <tr>\n",
       "      <td>2390</td>\n",
       "      <td>c574019</td>\n",
       "      <td>120</td>\n",
       "      <td>2019-10-31 12:05:00</td>\n",
       "      <td>1.45</td>\n",
       "      <td>2019-10-31</td>\n",
       "      <td>155</td>\n",
       "      <td>ribbon reel snowy village</td>\n",
       "      <td>22738</td>\n",
       "      <td>174.00</td>\n",
       "    </tr>\n",
       "  </tbody>\n",
       "</table>\n",
       "<p>61 rows × 9 columns</p>\n",
       "</div>"
      ],
      "text/plain": [
       "     invoiceno  quantity          invoice_dt  unitprice invoicedate suid  \\\n",
       "1193   c545525        86 2019-03-01 13:11:00       1.25  2019-03-01  155   \n",
       "3142   c545525        24 2019-03-01 13:11:00       2.55  2019-03-01  155   \n",
       "6672   c551348       100 2019-04-26 09:49:00       4.25  2019-04-26  155   \n",
       "396    c560540        36 2019-07-17 12:26:00       0.65  2019-07-17  155   \n",
       "7181   c560540         1 2019-07-17 12:26:00       2.08  2019-07-17  155   \n",
       "...        ...       ...                 ...        ...         ...  ...   \n",
       "6930   c560540         1 2019-07-17 12:26:00       4.15  2019-07-17  155   \n",
       "6937   c560540         1 2019-07-17 12:26:00       4.15  2019-07-17  155   \n",
       "4963   c560540         1 2019-07-17 12:26:00       0.42  2019-07-17  155   \n",
       "8010   c560540         2 2019-07-17 12:26:00       1.65  2019-07-17  155   \n",
       "2390   c574019       120 2019-10-31 12:05:00       1.45  2019-10-31  155   \n",
       "\n",
       "                              description stockcode  refunded  \n",
       "1193         homemade jam scented candles     22969    107.50  \n",
       "3142      green regency teacup and saucer     22697     61.20  \n",
       "6672           cotton apron pantry design     22990    425.00  \n",
       "396                mini paint set vintage     22492     23.40  \n",
       "7181              jumbo bag vintage doily     23203      2.08  \n",
       "...                                   ...       ...       ...  \n",
       "6930         childrens cutlery dolly girl     23254      4.15  \n",
       "6937           childrens cutlery spaceboy     23256      4.15  \n",
       "4963     set 12 kids colour  chalk sticks     21918      0.42  \n",
       "8010  set 40 heart shape petit four cases     23297      3.30  \n",
       "2390            ribbon reel snowy village     22738    174.00  \n",
       "\n",
       "[61 rows x 9 columns]"
      ]
     },
     "execution_count": 66,
     "metadata": {},
     "output_type": "execute_result"
    },
    {
     "data": {
      "text/html": [
       "<div>\n",
       "<style scoped>\n",
       "    .dataframe tbody tr th:only-of-type {\n",
       "        vertical-align: middle;\n",
       "    }\n",
       "\n",
       "    .dataframe tbody tr th {\n",
       "        vertical-align: top;\n",
       "    }\n",
       "\n",
       "    .dataframe thead th {\n",
       "        text-align: right;\n",
       "    }\n",
       "</style>\n",
       "<table border=\"1\" class=\"dataframe\">\n",
       "  <thead>\n",
       "    <tr style=\"text-align: right;\">\n",
       "      <th></th>\n",
       "      <th>invoiceno</th>\n",
       "      <th>quantity</th>\n",
       "      <th>invoice_dt</th>\n",
       "      <th>unitprice</th>\n",
       "      <th>invoicedate</th>\n",
       "      <th>suid</th>\n",
       "      <th>description</th>\n",
       "      <th>spent</th>\n",
       "      <th>stockcode</th>\n",
       "    </tr>\n",
       "  </thead>\n",
       "  <tbody>\n",
       "    <tr>\n",
       "      <td>14152</td>\n",
       "      <td>560491</td>\n",
       "      <td>36</td>\n",
       "      <td>2019-07-17 10:51:00</td>\n",
       "      <td>0.65</td>\n",
       "      <td>2019-07-17</td>\n",
       "      <td>155</td>\n",
       "      <td>mini paint set vintage</td>\n",
       "      <td>23.4</td>\n",
       "      <td>22492</td>\n",
       "    </tr>\n",
       "  </tbody>\n",
       "</table>\n",
       "</div>"
      ],
      "text/plain": [
       "      invoiceno  quantity          invoice_dt  unitprice invoicedate suid  \\\n",
       "14152    560491        36 2019-07-17 10:51:00       0.65  2019-07-17  155   \n",
       "\n",
       "                  description  spent stockcode  \n",
       "14152  mini paint set vintage   23.4     22492  "
      ]
     },
     "execution_count": 66,
     "metadata": {},
     "output_type": "execute_result"
    }
   ],
   "source": [
    "# looking at the invoices of 1 user in purchases and returns to notice a pattern\n",
    "normal_returns[normal_returns['suid'] == 155].sort_values('invoiceno')\n",
    "# designating a stockcode in the purchases to find the same invoice (if this sc was returned)\n",
    "normal_purchases[(normal_purchases['suid'] == 155) & (normal_purchases['stockcode'] == '22492')]"
   ]
  },
  {
   "cell_type": "markdown",
   "metadata": {},
   "source": [
    "ok so from multiple tries in the cell above it seems like the first 3 digits of the invoice are the same for purchases and returns, and that there are different unitprice for the same stockcode (which is good since that means that it will be easier to match the return to the purchace). lets check it"
   ]
  },
  {
   "cell_type": "code",
   "execution_count": 67,
   "metadata": {},
   "outputs": [
    {
     "data": {
      "text/plain": [
       "array(['560491'], dtype=object)"
      ]
     },
     "execution_count": 67,
     "metadata": {},
     "output_type": "execute_result"
    },
    {
     "data": {
      "text/plain": [
       "array(['563037'], dtype=object)"
      ]
     },
     "execution_count": 67,
     "metadata": {},
     "output_type": "execute_result"
    }
   ],
   "source": [
    "# checking if there is only 1 invoice in purchases (of the same user) that starts with the first 3 digits in returns invoice\n",
    "normal_purchases[(normal_purchases['invoiceno'].str.startswith('560'))\n",
    "                 & (normal_purchases['suid'] == 155)]['invoiceno'].unique()\n",
    "\n",
    "normal_purchases[(normal_purchases['invoiceno'].str.startswith('563'))\n",
    "                 & (normal_purchases['suid'] == 115)]['invoiceno'].unique()"
   ]
  },
  {
   "cell_type": "code",
   "execution_count": 68,
   "metadata": {},
   "outputs": [
    {
     "data": {
      "text/plain": [
       "3315"
      ]
     },
     "execution_count": 68,
     "metadata": {},
     "output_type": "execute_result"
    },
    {
     "data": {
      "text/plain": [
       "True    3315\n",
       "Name: invoiceno, dtype: int64"
      ]
     },
     "execution_count": 68,
     "metadata": {},
     "output_type": "execute_result"
    },
    {
     "data": {
      "text/plain": [
       "16918"
      ]
     },
     "execution_count": 68,
     "metadata": {},
     "output_type": "execute_result"
    },
    {
     "data": {
      "text/plain": [
       "True    16918\n",
       "Name: invoiceno, dtype: int64"
      ]
     },
     "execution_count": 68,
     "metadata": {},
     "output_type": "execute_result"
    }
   ],
   "source": [
    "# checking if all invoices start with c\n",
    "normal_returns['invoiceno'].nunique()\n",
    "normal_returns['invoiceno'].drop_duplicates().str.startswith('c').value_counts()\n",
    "# checking that all the invoices in purchases are without letters\n",
    "normal_purchases['invoiceno'].nunique()\n",
    "normal_purchases['invoiceno'].drop_duplicates().str.isdigit().value_counts()"
   ]
  },
  {
   "cell_type": "markdown",
   "metadata": {},
   "source": [
    "all starts with c!"
   ]
  },
  {
   "cell_type": "code",
   "execution_count": 69,
   "metadata": {},
   "outputs": [],
   "source": [
    "# makiing a column of short invoice to merge by\n",
    "normal_returns['sinv'] = normal_returns['invoiceno'].str[1:4]\n",
    "normal_purchases['sinv'] = normal_purchases['invoiceno'].str[1:4]"
   ]
  },
  {
   "cell_type": "code",
   "execution_count": 70,
   "metadata": {
    "scrolled": true
   },
   "outputs": [
    {
     "data": {
      "text/html": [
       "<div>\n",
       "<style scoped>\n",
       "    .dataframe tbody tr th:only-of-type {\n",
       "        vertical-align: middle;\n",
       "    }\n",
       "\n",
       "    .dataframe tbody tr th {\n",
       "        vertical-align: top;\n",
       "    }\n",
       "\n",
       "    .dataframe thead th {\n",
       "        text-align: right;\n",
       "    }\n",
       "</style>\n",
       "<table border=\"1\" class=\"dataframe\">\n",
       "  <thead>\n",
       "    <tr style=\"text-align: right;\">\n",
       "      <th></th>\n",
       "      <th>invoiceno_p</th>\n",
       "      <th>quantity_p</th>\n",
       "      <th>invoice_dt_p</th>\n",
       "      <th>unitprice</th>\n",
       "      <th>invoicedate_p</th>\n",
       "      <th>suid</th>\n",
       "      <th>description</th>\n",
       "      <th>spent</th>\n",
       "      <th>stockcode</th>\n",
       "      <th>sinv</th>\n",
       "      <th>invoiceno_r</th>\n",
       "      <th>quantity_r</th>\n",
       "      <th>invoice_dt_r</th>\n",
       "      <th>invoicedate_r</th>\n",
       "      <th>refunded</th>\n",
       "    </tr>\n",
       "  </thead>\n",
       "  <tbody>\n",
       "    <tr>\n",
       "      <td>0</td>\n",
       "      <td>536365</td>\n",
       "      <td>6</td>\n",
       "      <td>2018-11-29 08:26:00</td>\n",
       "      <td>2.55</td>\n",
       "      <td>2018-11-29</td>\n",
       "      <td>4148</td>\n",
       "      <td>white hanging heart t-light holder</td>\n",
       "      <td>15.3</td>\n",
       "      <td>85123a</td>\n",
       "      <td>363</td>\n",
       "      <td>NaN</td>\n",
       "      <td>NaN</td>\n",
       "      <td>NaT</td>\n",
       "      <td>NaT</td>\n",
       "      <td>NaN</td>\n",
       "    </tr>\n",
       "    <tr>\n",
       "      <td>1</td>\n",
       "      <td>536373</td>\n",
       "      <td>6</td>\n",
       "      <td>2018-11-29 09:02:00</td>\n",
       "      <td>2.55</td>\n",
       "      <td>2018-11-29</td>\n",
       "      <td>4148</td>\n",
       "      <td>white hanging heart t-light holder</td>\n",
       "      <td>15.3</td>\n",
       "      <td>85123a</td>\n",
       "      <td>363</td>\n",
       "      <td>NaN</td>\n",
       "      <td>NaN</td>\n",
       "      <td>NaT</td>\n",
       "      <td>NaT</td>\n",
       "      <td>NaN</td>\n",
       "    </tr>\n",
       "    <tr>\n",
       "      <td>2</td>\n",
       "      <td>536375</td>\n",
       "      <td>6</td>\n",
       "      <td>2018-11-29 09:32:00</td>\n",
       "      <td>2.55</td>\n",
       "      <td>2018-11-29</td>\n",
       "      <td>4148</td>\n",
       "      <td>white hanging heart t-light holder</td>\n",
       "      <td>15.3</td>\n",
       "      <td>85123a</td>\n",
       "      <td>363</td>\n",
       "      <td>NaN</td>\n",
       "      <td>NaN</td>\n",
       "      <td>NaT</td>\n",
       "      <td>NaT</td>\n",
       "      <td>NaN</td>\n",
       "    </tr>\n",
       "  </tbody>\n",
       "</table>\n",
       "</div>"
      ],
      "text/plain": [
       "  invoiceno_p  quantity_p        invoice_dt_p  unitprice invoicedate_p  suid  \\\n",
       "0      536365           6 2018-11-29 08:26:00       2.55    2018-11-29  4148   \n",
       "1      536373           6 2018-11-29 09:02:00       2.55    2018-11-29  4148   \n",
       "2      536375           6 2018-11-29 09:32:00       2.55    2018-11-29  4148   \n",
       "\n",
       "                          description  spent stockcode sinv invoiceno_r  \\\n",
       "0  white hanging heart t-light holder   15.3    85123a  363         NaN   \n",
       "1  white hanging heart t-light holder   15.3    85123a  363         NaN   \n",
       "2  white hanging heart t-light holder   15.3    85123a  363         NaN   \n",
       "\n",
       "   quantity_r invoice_dt_r invoicedate_r  refunded  \n",
       "0         NaN          NaT           NaT       NaN  \n",
       "1         NaN          NaT           NaT       NaN  \n",
       "2         NaN          NaT           NaT       NaN  "
      ]
     },
     "execution_count": 70,
     "metadata": {},
     "output_type": "execute_result"
    },
    {
     "data": {
      "text/plain": [
       "297667"
      ]
     },
     "execution_count": 70,
     "metadata": {},
     "output_type": "execute_result"
    }
   ],
   "source": [
    "# merging by all the necessary columns (and description since its the same for both tables) \n",
    "normal_ecomm = normal_purchases.merge(normal_returns, on = ['sinv', 'suid', 'stockcode', 'unitprice', 'description'], \n",
    "                                      how = 'left', suffixes = ('_p', '_r')#, suffixes = (False, False)\n",
    "                                     )\n",
    "normal_ecomm.head(3)\n",
    "normal_ecomm.shape[0]"
   ]
  },
  {
   "cell_type": "code",
   "execution_count": 71,
   "metadata": {},
   "outputs": [
    {
     "data": {
      "text/html": [
       "<div>\n",
       "<style scoped>\n",
       "    .dataframe tbody tr th:only-of-type {\n",
       "        vertical-align: middle;\n",
       "    }\n",
       "\n",
       "    .dataframe tbody tr th {\n",
       "        vertical-align: top;\n",
       "    }\n",
       "\n",
       "    .dataframe thead th {\n",
       "        text-align: right;\n",
       "    }\n",
       "</style>\n",
       "<table border=\"1\" class=\"dataframe\">\n",
       "  <thead>\n",
       "    <tr style=\"text-align: right;\">\n",
       "      <th></th>\n",
       "      <th>invoiceno_p</th>\n",
       "      <th>quantity_p</th>\n",
       "      <th>invoice_dt_p</th>\n",
       "      <th>unitprice</th>\n",
       "      <th>invoicedate_p</th>\n",
       "      <th>suid</th>\n",
       "      <th>description</th>\n",
       "      <th>spent</th>\n",
       "      <th>stockcode</th>\n",
       "      <th>sinv</th>\n",
       "      <th>invoiceno_r</th>\n",
       "      <th>quantity_r</th>\n",
       "      <th>invoice_dt_r</th>\n",
       "      <th>invoicedate_r</th>\n",
       "      <th>refunded</th>\n",
       "    </tr>\n",
       "  </thead>\n",
       "  <tbody>\n",
       "    <tr>\n",
       "      <td>0</td>\n",
       "      <td>553836</td>\n",
       "      <td>6</td>\n",
       "      <td>2019-05-17 12:08:00</td>\n",
       "      <td>4.25</td>\n",
       "      <td>2019-05-17</td>\n",
       "      <td>3549</td>\n",
       "      <td>jam making set with jars</td>\n",
       "      <td>25.50</td>\n",
       "      <td>22960</td>\n",
       "      <td>538</td>\n",
       "      <td>c538802</td>\n",
       "      <td>4.0</td>\n",
       "      <td>2018-12-12 11:54:00</td>\n",
       "      <td>2018-12-12</td>\n",
       "      <td>17.00</td>\n",
       "    </tr>\n",
       "    <tr>\n",
       "      <td>1</td>\n",
       "      <td>557152</td>\n",
       "      <td>1</td>\n",
       "      <td>2019-06-15 11:06:00</td>\n",
       "      <td>8.95</td>\n",
       "      <td>2019-06-15</td>\n",
       "      <td>2281</td>\n",
       "      <td>wood s/3 cabinet ant white finish</td>\n",
       "      <td>8.95</td>\n",
       "      <td>82486</td>\n",
       "      <td>571</td>\n",
       "      <td>c571711</td>\n",
       "      <td>1.0</td>\n",
       "      <td>2019-10-16 16:21:00</td>\n",
       "      <td>2019-10-16</td>\n",
       "      <td>8.95</td>\n",
       "    </tr>\n",
       "    <tr>\n",
       "      <td>2</td>\n",
       "      <td>555533</td>\n",
       "      <td>6</td>\n",
       "      <td>2019-06-03 12:12:00</td>\n",
       "      <td>2.95</td>\n",
       "      <td>2019-06-03</td>\n",
       "      <td>2601</td>\n",
       "      <td>heart of wicker large</td>\n",
       "      <td>17.70</td>\n",
       "      <td>22470</td>\n",
       "      <td>555</td>\n",
       "      <td>c555532</td>\n",
       "      <td>2.0</td>\n",
       "      <td>2019-06-03 12:01:00</td>\n",
       "      <td>2019-06-03</td>\n",
       "      <td>5.90</td>\n",
       "    </tr>\n",
       "  </tbody>\n",
       "</table>\n",
       "</div>"
      ],
      "text/plain": [
       "  invoiceno_p  quantity_p        invoice_dt_p  unitprice invoicedate_p  suid  \\\n",
       "0      553836           6 2019-05-17 12:08:00       4.25    2019-05-17  3549   \n",
       "1      557152           1 2019-06-15 11:06:00       8.95    2019-06-15  2281   \n",
       "2      555533           6 2019-06-03 12:12:00       2.95    2019-06-03  2601   \n",
       "\n",
       "                         description  spent stockcode sinv invoiceno_r  \\\n",
       "0           jam making set with jars  25.50     22960  538     c538802   \n",
       "1  wood s/3 cabinet ant white finish   8.95     82486  571     c571711   \n",
       "2              heart of wicker large  17.70     22470  555     c555532   \n",
       "\n",
       "   quantity_r        invoice_dt_r invoicedate_r  refunded  \n",
       "0         4.0 2018-12-12 11:54:00    2018-12-12     17.00  \n",
       "1         1.0 2019-10-16 16:21:00    2019-10-16      8.95  \n",
       "2         2.0 2019-06-03 12:01:00    2019-06-03      5.90  "
      ]
     },
     "execution_count": 71,
     "metadata": {},
     "output_type": "execute_result"
    },
    {
     "data": {
      "text/plain": [
       "78"
      ]
     },
     "execution_count": 71,
     "metadata": {},
     "output_type": "execute_result"
    },
    {
     "data": {
      "text/html": [
       "<div>\n",
       "<style scoped>\n",
       "    .dataframe tbody tr th:only-of-type {\n",
       "        vertical-align: middle;\n",
       "    }\n",
       "\n",
       "    .dataframe tbody tr th {\n",
       "        vertical-align: top;\n",
       "    }\n",
       "\n",
       "    .dataframe thead th {\n",
       "        text-align: right;\n",
       "    }\n",
       "</style>\n",
       "<table border=\"1\" class=\"dataframe\">\n",
       "  <thead>\n",
       "    <tr style=\"text-align: right;\">\n",
       "      <th></th>\n",
       "      <th>invoiceno_p</th>\n",
       "      <th>quantity_p</th>\n",
       "      <th>invoice_dt_p</th>\n",
       "      <th>unitprice</th>\n",
       "      <th>invoicedate_p</th>\n",
       "      <th>suid</th>\n",
       "      <th>description</th>\n",
       "      <th>spent</th>\n",
       "      <th>stockcode</th>\n",
       "      <th>sinv</th>\n",
       "    </tr>\n",
       "  </thead>\n",
       "  <tbody>\n",
       "    <tr>\n",
       "      <td>0</td>\n",
       "      <td>536365</td>\n",
       "      <td>6</td>\n",
       "      <td>2018-11-29 08:26:00</td>\n",
       "      <td>2.55</td>\n",
       "      <td>2018-11-29</td>\n",
       "      <td>4148</td>\n",
       "      <td>white hanging heart t-light holder</td>\n",
       "      <td>15.3</td>\n",
       "      <td>85123a</td>\n",
       "      <td>363</td>\n",
       "    </tr>\n",
       "    <tr>\n",
       "      <td>1</td>\n",
       "      <td>536373</td>\n",
       "      <td>6</td>\n",
       "      <td>2018-11-29 09:02:00</td>\n",
       "      <td>2.55</td>\n",
       "      <td>2018-11-29</td>\n",
       "      <td>4148</td>\n",
       "      <td>white hanging heart t-light holder</td>\n",
       "      <td>15.3</td>\n",
       "      <td>85123a</td>\n",
       "      <td>363</td>\n",
       "    </tr>\n",
       "    <tr>\n",
       "      <td>2</td>\n",
       "      <td>536375</td>\n",
       "      <td>6</td>\n",
       "      <td>2018-11-29 09:32:00</td>\n",
       "      <td>2.55</td>\n",
       "      <td>2018-11-29</td>\n",
       "      <td>4148</td>\n",
       "      <td>white hanging heart t-light holder</td>\n",
       "      <td>15.3</td>\n",
       "      <td>85123a</td>\n",
       "      <td>363</td>\n",
       "    </tr>\n",
       "  </tbody>\n",
       "</table>\n",
       "</div>"
      ],
      "text/plain": [
       "  invoiceno_p  quantity_p        invoice_dt_p  unitprice invoicedate_p  suid  \\\n",
       "0      536365           6 2018-11-29 08:26:00       2.55    2018-11-29  4148   \n",
       "1      536373           6 2018-11-29 09:02:00       2.55    2018-11-29  4148   \n",
       "2      536375           6 2018-11-29 09:32:00       2.55    2018-11-29  4148   \n",
       "\n",
       "                          description  spent stockcode sinv  \n",
       "0  white hanging heart t-light holder   15.3    85123a  363  \n",
       "1  white hanging heart t-light holder   15.3    85123a  363  \n",
       "2  white hanging heart t-light holder   15.3    85123a  363  "
      ]
     },
     "execution_count": 71,
     "metadata": {},
     "output_type": "execute_result"
    },
    {
     "data": {
      "text/plain": [
       "297589"
      ]
     },
     "execution_count": 71,
     "metadata": {},
     "output_type": "execute_result"
    }
   ],
   "source": [
    "# slicing into 2 dfs, returned purchases and not returned purchases\n",
    "#is_ret = normal_ecomm[normal_ecomm['invoiceno_r'].notna()].reset_index(drop = True)\n",
    "ret_pur = normal_ecomm.dropna().reset_index(drop = True)\n",
    "not_ret_pur = normal_ecomm[normal_ecomm['invoiceno_r'].isna()].dropna(axis = 1).reset_index(drop = True)\n",
    "ret_pur.head(3)\n",
    "ret_pur.shape[0]\n",
    "not_ret_pur.head(3)\n",
    "not_ret_pur.shape[0]"
   ]
  },
  {
   "cell_type": "markdown",
   "metadata": {},
   "source": [
    "its only 78 returns because all the other returns were of purchases that are not in the data! (and now there wont be negative profit [whitch was in different version of this project, way down in the proccess so i rewrote it])\n",
    "\n",
    "now ill remove the rows where the return happened before the purchase:"
   ]
  },
  {
   "cell_type": "code",
   "execution_count": 72,
   "metadata": {},
   "outputs": [
    {
     "data": {
      "text/plain": [
       "70"
      ]
     },
     "execution_count": 72,
     "metadata": {},
     "output_type": "execute_result"
    }
   ],
   "source": [
    "ret_pur = ret_pur[ret_pur['invoice_dt_p'] < ret_pur['invoice_dt_r']].reset_index(drop = True)\n",
    "ret_pur.shape[0]"
   ]
  },
  {
   "cell_type": "code",
   "execution_count": 73,
   "metadata": {},
   "outputs": [
    {
     "data": {
      "text/html": [
       "<div>\n",
       "<style scoped>\n",
       "    .dataframe tbody tr th:only-of-type {\n",
       "        vertical-align: middle;\n",
       "    }\n",
       "\n",
       "    .dataframe tbody tr th {\n",
       "        vertical-align: top;\n",
       "    }\n",
       "\n",
       "    .dataframe thead th {\n",
       "        text-align: right;\n",
       "    }\n",
       "</style>\n",
       "<table border=\"1\" class=\"dataframe\">\n",
       "  <thead>\n",
       "    <tr style=\"text-align: right;\">\n",
       "      <th></th>\n",
       "      <th>invoiceno</th>\n",
       "      <th>sinv</th>\n",
       "      <th>invoice_dt</th>\n",
       "      <th>suid</th>\n",
       "      <th>stockcode</th>\n",
       "      <th>description</th>\n",
       "      <th>quantity</th>\n",
       "      <th>unitprice</th>\n",
       "      <th>refunded</th>\n",
       "    </tr>\n",
       "  </thead>\n",
       "  <tbody>\n",
       "    <tr>\n",
       "      <td>0</td>\n",
       "      <td>c571711</td>\n",
       "      <td>571</td>\n",
       "      <td>2019-10-16 16:21:00</td>\n",
       "      <td>2281</td>\n",
       "      <td>82486</td>\n",
       "      <td>wood s/3 cabinet ant white finish</td>\n",
       "      <td>1.0</td>\n",
       "      <td>8.95</td>\n",
       "      <td>8.95</td>\n",
       "    </tr>\n",
       "    <tr>\n",
       "      <td>1</td>\n",
       "      <td>c555636</td>\n",
       "      <td>555</td>\n",
       "      <td>2019-06-04 12:33:00</td>\n",
       "      <td>2109</td>\n",
       "      <td>79321</td>\n",
       "      <td>chilli lights</td>\n",
       "      <td>4.0</td>\n",
       "      <td>5.75</td>\n",
       "      <td>23.00</td>\n",
       "    </tr>\n",
       "    <tr>\n",
       "      <td>2</td>\n",
       "      <td>c558439</td>\n",
       "      <td>558</td>\n",
       "      <td>2019-06-27 12:53:00</td>\n",
       "      <td>292</td>\n",
       "      <td>22804</td>\n",
       "      <td>candleholder pink hanging heart</td>\n",
       "      <td>2.0</td>\n",
       "      <td>2.95</td>\n",
       "      <td>5.90</td>\n",
       "    </tr>\n",
       "  </tbody>\n",
       "</table>\n",
       "</div>"
      ],
      "text/plain": [
       "  invoiceno sinv          invoice_dt  suid stockcode  \\\n",
       "0   c571711  571 2019-10-16 16:21:00  2281     82486   \n",
       "1   c555636  555 2019-06-04 12:33:00  2109     79321   \n",
       "2   c558439  558 2019-06-27 12:53:00   292     22804   \n",
       "\n",
       "                         description  quantity  unitprice  refunded  \n",
       "0  wood s/3 cabinet ant white finish       1.0       8.95      8.95  \n",
       "1                      chilli lights       4.0       5.75     23.00  \n",
       "2    candleholder pink hanging heart       2.0       2.95      5.90  "
      ]
     },
     "execution_count": 73,
     "metadata": {},
     "output_type": "execute_result"
    }
   ],
   "source": [
    "# defining normal returns again\n",
    "normal_returns = ret_pur[['invoiceno_r', 'sinv', 'invoice_dt_r', 'suid', 'stockcode', 'description', 'quantity_r', \n",
    "                          'unitprice', 'refunded']]\n",
    "normal_returns.columns = ['invoiceno', 'sinv', 'invoice_dt', 'suid', 'stockcode', 'description', 'quantity', 'unitprice', \n",
    "                          'refunded']\n",
    "normal_returns.head(3)"
   ]
  },
  {
   "cell_type": "markdown",
   "metadata": {},
   "source": [
    "now! that we are working only with the relevant returns we can continue"
   ]
  },
  {
   "cell_type": "markdown",
   "metadata": {},
   "source": [
    "lets see the product that gets us the most and least in different parameters"
   ]
  },
  {
   "cell_type": "code",
   "execution_count": 74,
   "metadata": {},
   "outputs": [],
   "source": [
    "# grouping per sc\n",
    "# i didnt do any changes to normal_purchases so ill use it to reuse all the code later\n",
    "pur_p_sc = normal_purchases.groupby('stockcode').agg(description = ('description', 'first'), \n",
    "            total_spent = ('spent', 'sum'), purchases_num = ('suid', 'count'), buyers_num = ('suid', 'nunique'), \n",
    "            unitprice = ('unitprice', 'first'), quantity_sold = ('quantity', 'sum')#, invoice_cnt = ('invoiceno', 'nunique')\n",
    "                                                      ).reset_index()"
   ]
  },
  {
   "cell_type": "code",
   "execution_count": 75,
   "metadata": {
    "scrolled": true
   },
   "outputs": [
    {
     "data": {
      "text/html": [
       "<div>\n",
       "<style scoped>\n",
       "    .dataframe tbody tr th:only-of-type {\n",
       "        vertical-align: middle;\n",
       "    }\n",
       "\n",
       "    .dataframe tbody tr th {\n",
       "        vertical-align: top;\n",
       "    }\n",
       "\n",
       "    .dataframe thead th {\n",
       "        text-align: right;\n",
       "    }\n",
       "</style>\n",
       "<table border=\"1\" class=\"dataframe\">\n",
       "  <thead>\n",
       "    <tr style=\"text-align: right;\">\n",
       "      <th></th>\n",
       "      <th>stockcode</th>\n",
       "      <th>description</th>\n",
       "      <th>total_spent</th>\n",
       "      <th>purchases_num</th>\n",
       "      <th>buyers_num</th>\n",
       "      <th>unitprice</th>\n",
       "      <th>quantity_sold</th>\n",
       "    </tr>\n",
       "  </thead>\n",
       "  <tbody>\n",
       "    <tr>\n",
       "      <td>0</td>\n",
       "      <td>10002</td>\n",
       "      <td>inflatable political globe</td>\n",
       "      <td>420.26</td>\n",
       "      <td>42</td>\n",
       "      <td>30</td>\n",
       "      <td>0.85</td>\n",
       "      <td>488</td>\n",
       "    </tr>\n",
       "    <tr>\n",
       "      <td>1</td>\n",
       "      <td>10080</td>\n",
       "      <td>groovy cactus inflatable</td>\n",
       "      <td>107.78</td>\n",
       "      <td>17</td>\n",
       "      <td>15</td>\n",
       "      <td>0.85</td>\n",
       "      <td>274</td>\n",
       "    </tr>\n",
       "    <tr>\n",
       "      <td>2</td>\n",
       "      <td>10120</td>\n",
       "      <td>doggy rubber</td>\n",
       "      <td>17.01</td>\n",
       "      <td>19</td>\n",
       "      <td>16</td>\n",
       "      <td>0.21</td>\n",
       "      <td>81</td>\n",
       "    </tr>\n",
       "  </tbody>\n",
       "</table>\n",
       "</div>"
      ],
      "text/plain": [
       "  stockcode                 description  total_spent  purchases_num  \\\n",
       "0     10002  inflatable political globe       420.26             42   \n",
       "1     10080    groovy cactus inflatable       107.78             17   \n",
       "2     10120                doggy rubber        17.01             19   \n",
       "\n",
       "   buyers_num  unitprice  quantity_sold  \n",
       "0          30       0.85            488  \n",
       "1          15       0.85            274  \n",
       "2          16       0.21             81  "
      ]
     },
     "execution_count": 75,
     "metadata": {},
     "output_type": "execute_result"
    },
    {
     "data": {
      "text/html": [
       "<div>\n",
       "<style scoped>\n",
       "    .dataframe tbody tr th:only-of-type {\n",
       "        vertical-align: middle;\n",
       "    }\n",
       "\n",
       "    .dataframe tbody tr th {\n",
       "        vertical-align: top;\n",
       "    }\n",
       "\n",
       "    .dataframe thead th {\n",
       "        text-align: right;\n",
       "    }\n",
       "</style>\n",
       "<table border=\"1\" class=\"dataframe\">\n",
       "  <thead>\n",
       "    <tr style=\"text-align: right;\">\n",
       "      <th></th>\n",
       "      <th>stockcode</th>\n",
       "      <th>description</th>\n",
       "      <th>total_spent</th>\n",
       "      <th>purchases_num</th>\n",
       "      <th>buyers_num</th>\n",
       "      <th>unitprice</th>\n",
       "      <th>quantity_sold</th>\n",
       "    </tr>\n",
       "  </thead>\n",
       "  <tbody>\n",
       "    <tr>\n",
       "      <td>3591</td>\n",
       "      <td>90214v</td>\n",
       "      <td>letter \"v\" bling key ring</td>\n",
       "      <td>2.50</td>\n",
       "      <td>2</td>\n",
       "      <td>1</td>\n",
       "      <td>1.25</td>\n",
       "      <td>2</td>\n",
       "    </tr>\n",
       "    <tr>\n",
       "      <td>3592</td>\n",
       "      <td>90214y</td>\n",
       "      <td>letter \"y\" bling key ring</td>\n",
       "      <td>15.17</td>\n",
       "      <td>2</td>\n",
       "      <td>2</td>\n",
       "      <td>1.25</td>\n",
       "      <td>49</td>\n",
       "    </tr>\n",
       "    <tr>\n",
       "      <td>3593</td>\n",
       "      <td>c2</td>\n",
       "      <td>carriage</td>\n",
       "      <td>6086.00</td>\n",
       "      <td>122</td>\n",
       "      <td>27</td>\n",
       "      <td>50.00</td>\n",
       "      <td>123</td>\n",
       "    </tr>\n",
       "  </tbody>\n",
       "</table>\n",
       "</div>"
      ],
      "text/plain": [
       "     stockcode                description  total_spent  purchases_num  \\\n",
       "3591    90214v  letter \"v\" bling key ring         2.50              2   \n",
       "3592    90214y  letter \"y\" bling key ring        15.17              2   \n",
       "3593        c2                   carriage      6086.00            122   \n",
       "\n",
       "      buyers_num  unitprice  quantity_sold  \n",
       "3591           1       1.25              2  \n",
       "3592           2       1.25             49  \n",
       "3593          27      50.00            123  "
      ]
     },
     "execution_count": 75,
     "metadata": {},
     "output_type": "execute_result"
    },
    {
     "data": {
      "text/plain": [
       "3594"
      ]
     },
     "execution_count": 75,
     "metadata": {},
     "output_type": "execute_result"
    }
   ],
   "source": [
    "pur_p_sc.head(3)\n",
    "pur_p_sc.tail(3)\n",
    "pur_p_sc.shape[0]"
   ]
  },
  {
   "cell_type": "code",
   "execution_count": 76,
   "metadata": {},
   "outputs": [],
   "source": [
    "# grouping returns by sc\n",
    "ret_p_sc = normal_returns.groupby('stockcode').agg(description = ('description', 'first'),\n",
    "            total_refunded = ('refunded', 'sum'), returns_num = ('suid', 'count'), returners_num = ('suid', 'nunique'), \n",
    "            unitprice = ('unitprice', 'first'), quantity_returned = ('quantity', 'sum')\n",
    "                                                   #, invoice_cnt = ('invoiceno', 'nunique')\n",
    "                                                      ).reset_index()"
   ]
  },
  {
   "cell_type": "code",
   "execution_count": 77,
   "metadata": {
    "scrolled": true
   },
   "outputs": [
    {
     "data": {
      "text/html": [
       "<div>\n",
       "<style scoped>\n",
       "    .dataframe tbody tr th:only-of-type {\n",
       "        vertical-align: middle;\n",
       "    }\n",
       "\n",
       "    .dataframe tbody tr th {\n",
       "        vertical-align: top;\n",
       "    }\n",
       "\n",
       "    .dataframe thead th {\n",
       "        text-align: right;\n",
       "    }\n",
       "</style>\n",
       "<table border=\"1\" class=\"dataframe\">\n",
       "  <thead>\n",
       "    <tr style=\"text-align: right;\">\n",
       "      <th></th>\n",
       "      <th>stockcode</th>\n",
       "      <th>description</th>\n",
       "      <th>total_refunded</th>\n",
       "      <th>returns_num</th>\n",
       "      <th>returners_num</th>\n",
       "      <th>unitprice</th>\n",
       "      <th>quantity_returned</th>\n",
       "    </tr>\n",
       "  </thead>\n",
       "  <tbody>\n",
       "    <tr>\n",
       "      <td>0</td>\n",
       "      <td>21770</td>\n",
       "      <td>open closed metal sign</td>\n",
       "      <td>29.70</td>\n",
       "      <td>1</td>\n",
       "      <td>1</td>\n",
       "      <td>4.95</td>\n",
       "      <td>6.0</td>\n",
       "    </tr>\n",
       "    <tr>\n",
       "      <td>1</td>\n",
       "      <td>22374</td>\n",
       "      <td>airline bag vintage jet set red</td>\n",
       "      <td>4.25</td>\n",
       "      <td>1</td>\n",
       "      <td>1</td>\n",
       "      <td>4.25</td>\n",
       "      <td>1.0</td>\n",
       "    </tr>\n",
       "    <tr>\n",
       "      <td>2</td>\n",
       "      <td>22423</td>\n",
       "      <td>regency cakestand 3 tier</td>\n",
       "      <td>25.50</td>\n",
       "      <td>2</td>\n",
       "      <td>2</td>\n",
       "      <td>12.75</td>\n",
       "      <td>2.0</td>\n",
       "    </tr>\n",
       "  </tbody>\n",
       "</table>\n",
       "</div>"
      ],
      "text/plain": [
       "  stockcode                      description  total_refunded  returns_num  \\\n",
       "0     21770           open closed metal sign           29.70            1   \n",
       "1     22374  airline bag vintage jet set red            4.25            1   \n",
       "2     22423         regency cakestand 3 tier           25.50            2   \n",
       "\n",
       "   returners_num  unitprice  quantity_returned  \n",
       "0              1       4.95                6.0  \n",
       "1              1       4.25                1.0  \n",
       "2              2      12.75                2.0  "
      ]
     },
     "execution_count": 77,
     "metadata": {},
     "output_type": "execute_result"
    },
    {
     "data": {
      "text/html": [
       "<div>\n",
       "<style scoped>\n",
       "    .dataframe tbody tr th:only-of-type {\n",
       "        vertical-align: middle;\n",
       "    }\n",
       "\n",
       "    .dataframe tbody tr th {\n",
       "        vertical-align: top;\n",
       "    }\n",
       "\n",
       "    .dataframe thead th {\n",
       "        text-align: right;\n",
       "    }\n",
       "</style>\n",
       "<table border=\"1\" class=\"dataframe\">\n",
       "  <thead>\n",
       "    <tr style=\"text-align: right;\">\n",
       "      <th></th>\n",
       "      <th>stockcode</th>\n",
       "      <th>description</th>\n",
       "      <th>total_refunded</th>\n",
       "      <th>returns_num</th>\n",
       "      <th>returners_num</th>\n",
       "      <th>unitprice</th>\n",
       "      <th>quantity_returned</th>\n",
       "    </tr>\n",
       "  </thead>\n",
       "  <tbody>\n",
       "    <tr>\n",
       "      <td>44</td>\n",
       "      <td>84687</td>\n",
       "      <td>beach hut shelf w 3 drawers</td>\n",
       "      <td>11.9</td>\n",
       "      <td>1</td>\n",
       "      <td>1</td>\n",
       "      <td>5.95</td>\n",
       "      <td>2.0</td>\n",
       "    </tr>\n",
       "    <tr>\n",
       "      <td>45</td>\n",
       "      <td>84816</td>\n",
       "      <td>danish rose bedside cabinet</td>\n",
       "      <td>79.9</td>\n",
       "      <td>1</td>\n",
       "      <td>1</td>\n",
       "      <td>39.95</td>\n",
       "      <td>2.0</td>\n",
       "    </tr>\n",
       "    <tr>\n",
       "      <td>46</td>\n",
       "      <td>85053</td>\n",
       "      <td>french enamel candleholder</td>\n",
       "      <td>8.4</td>\n",
       "      <td>1</td>\n",
       "      <td>1</td>\n",
       "      <td>2.10</td>\n",
       "      <td>4.0</td>\n",
       "    </tr>\n",
       "  </tbody>\n",
       "</table>\n",
       "</div>"
      ],
      "text/plain": [
       "   stockcode                  description  total_refunded  returns_num  \\\n",
       "44     84687  beach hut shelf w 3 drawers            11.9            1   \n",
       "45     84816  danish rose bedside cabinet            79.9            1   \n",
       "46     85053   french enamel candleholder             8.4            1   \n",
       "\n",
       "    returners_num  unitprice  quantity_returned  \n",
       "44              1       5.95                2.0  \n",
       "45              1      39.95                2.0  \n",
       "46              1       2.10                4.0  "
      ]
     },
     "execution_count": 77,
     "metadata": {},
     "output_type": "execute_result"
    },
    {
     "data": {
      "text/plain": [
       "47"
      ]
     },
     "execution_count": 77,
     "metadata": {},
     "output_type": "execute_result"
    }
   ],
   "source": [
    "ret_p_sc.head(3)\n",
    "ret_p_sc.tail(3)\n",
    "ret_p_sc.shape[0]"
   ]
  },
  {
   "cell_type": "code",
   "execution_count": 78,
   "metadata": {
    "scrolled": true
   },
   "outputs": [
    {
     "data": {
      "text/html": [
       "<div>\n",
       "<style scoped>\n",
       "    .dataframe tbody tr th:only-of-type {\n",
       "        vertical-align: middle;\n",
       "    }\n",
       "\n",
       "    .dataframe tbody tr th {\n",
       "        vertical-align: top;\n",
       "    }\n",
       "\n",
       "    .dataframe thead th {\n",
       "        text-align: right;\n",
       "    }\n",
       "</style>\n",
       "<table border=\"1\" class=\"dataframe\">\n",
       "  <thead>\n",
       "    <tr style=\"text-align: right;\">\n",
       "      <th></th>\n",
       "      <th>stockcode</th>\n",
       "      <th>description</th>\n",
       "      <th>total_refunded</th>\n",
       "      <th>returns_num</th>\n",
       "      <th>returners_num</th>\n",
       "      <th>unitprice</th>\n",
       "      <th>quantity_returned</th>\n",
       "    </tr>\n",
       "  </thead>\n",
       "  <tbody>\n",
       "    <tr>\n",
       "      <td>0</td>\n",
       "      <td>21770</td>\n",
       "      <td>open closed metal sign</td>\n",
       "      <td>29.70</td>\n",
       "      <td>1</td>\n",
       "      <td>1</td>\n",
       "      <td>4.95</td>\n",
       "      <td>6.0</td>\n",
       "    </tr>\n",
       "    <tr>\n",
       "      <td>1</td>\n",
       "      <td>22374</td>\n",
       "      <td>airline bag vintage jet set red</td>\n",
       "      <td>4.25</td>\n",
       "      <td>1</td>\n",
       "      <td>1</td>\n",
       "      <td>4.25</td>\n",
       "      <td>1.0</td>\n",
       "    </tr>\n",
       "    <tr>\n",
       "      <td>2</td>\n",
       "      <td>22423</td>\n",
       "      <td>regency cakestand 3 tier</td>\n",
       "      <td>25.50</td>\n",
       "      <td>2</td>\n",
       "      <td>2</td>\n",
       "      <td>12.75</td>\n",
       "      <td>2.0</td>\n",
       "    </tr>\n",
       "  </tbody>\n",
       "</table>\n",
       "</div>"
      ],
      "text/plain": [
       "  stockcode                      description  total_refunded  returns_num  \\\n",
       "0     21770           open closed metal sign           29.70            1   \n",
       "1     22374  airline bag vintage jet set red            4.25            1   \n",
       "2     22423         regency cakestand 3 tier           25.50            2   \n",
       "\n",
       "   returners_num  unitprice  quantity_returned  \n",
       "0              1       4.95                6.0  \n",
       "1              1       4.25                1.0  \n",
       "2              2      12.75                2.0  "
      ]
     },
     "execution_count": 78,
     "metadata": {},
     "output_type": "execute_result"
    },
    {
     "data": {
      "text/plain": [
       "47"
      ]
     },
     "execution_count": 78,
     "metadata": {},
     "output_type": "execute_result"
    },
    {
     "data": {
      "text/html": [
       "<div>\n",
       "<style scoped>\n",
       "    .dataframe tbody tr th:only-of-type {\n",
       "        vertical-align: middle;\n",
       "    }\n",
       "\n",
       "    .dataframe tbody tr th {\n",
       "        vertical-align: top;\n",
       "    }\n",
       "\n",
       "    .dataframe thead th {\n",
       "        text-align: right;\n",
       "    }\n",
       "</style>\n",
       "<table border=\"1\" class=\"dataframe\">\n",
       "  <thead>\n",
       "    <tr style=\"text-align: right;\">\n",
       "      <th></th>\n",
       "      <th>stockcode</th>\n",
       "      <th>description</th>\n",
       "      <th>total_spent</th>\n",
       "      <th>purchases_num</th>\n",
       "      <th>buyers_num</th>\n",
       "      <th>unitprice</th>\n",
       "      <th>quantity_sold</th>\n",
       "    </tr>\n",
       "  </thead>\n",
       "  <tbody>\n",
       "    <tr>\n",
       "      <td>0</td>\n",
       "      <td>10002</td>\n",
       "      <td>inflatable political globe</td>\n",
       "      <td>420.26</td>\n",
       "      <td>42</td>\n",
       "      <td>30</td>\n",
       "      <td>0.85</td>\n",
       "      <td>488</td>\n",
       "    </tr>\n",
       "    <tr>\n",
       "      <td>1</td>\n",
       "      <td>10080</td>\n",
       "      <td>groovy cactus inflatable</td>\n",
       "      <td>107.78</td>\n",
       "      <td>17</td>\n",
       "      <td>15</td>\n",
       "      <td>0.85</td>\n",
       "      <td>274</td>\n",
       "    </tr>\n",
       "    <tr>\n",
       "      <td>2</td>\n",
       "      <td>10120</td>\n",
       "      <td>doggy rubber</td>\n",
       "      <td>17.01</td>\n",
       "      <td>19</td>\n",
       "      <td>16</td>\n",
       "      <td>0.21</td>\n",
       "      <td>81</td>\n",
       "    </tr>\n",
       "  </tbody>\n",
       "</table>\n",
       "</div>"
      ],
      "text/plain": [
       "  stockcode                 description  total_spent  purchases_num  \\\n",
       "0     10002  inflatable political globe       420.26             42   \n",
       "1     10080    groovy cactus inflatable       107.78             17   \n",
       "2     10120                doggy rubber        17.01             19   \n",
       "\n",
       "   buyers_num  unitprice  quantity_sold  \n",
       "0          30       0.85            488  \n",
       "1          15       0.85            274  \n",
       "2          16       0.21             81  "
      ]
     },
     "execution_count": 78,
     "metadata": {},
     "output_type": "execute_result"
    },
    {
     "data": {
      "text/plain": [
       "3594"
      ]
     },
     "execution_count": 78,
     "metadata": {},
     "output_type": "execute_result"
    }
   ],
   "source": [
    "ret_p_sc.head(3)\n",
    "ret_p_sc.shape[0]\n",
    "pur_p_sc.head(3)\n",
    "pur_p_sc.shape[0]"
   ]
  },
  {
   "cell_type": "code",
   "execution_count": 79,
   "metadata": {
    "scrolled": true
   },
   "outputs": [
    {
     "data": {
      "text/html": [
       "<div>\n",
       "<style scoped>\n",
       "    .dataframe tbody tr th:only-of-type {\n",
       "        vertical-align: middle;\n",
       "    }\n",
       "\n",
       "    .dataframe tbody tr th {\n",
       "        vertical-align: top;\n",
       "    }\n",
       "\n",
       "    .dataframe thead th {\n",
       "        text-align: right;\n",
       "    }\n",
       "</style>\n",
       "<table border=\"1\" class=\"dataframe\">\n",
       "  <thead>\n",
       "    <tr style=\"text-align: right;\">\n",
       "      <th></th>\n",
       "      <th>stockcode</th>\n",
       "      <th>description</th>\n",
       "      <th>total_spent</th>\n",
       "      <th>purchases_num</th>\n",
       "      <th>buyers_num</th>\n",
       "      <th>unitprice</th>\n",
       "      <th>quantity_sold</th>\n",
       "      <th>total_refunded</th>\n",
       "      <th>returns_num</th>\n",
       "      <th>returners_num</th>\n",
       "      <th>quantity_returned</th>\n",
       "    </tr>\n",
       "  </thead>\n",
       "  <tbody>\n",
       "    <tr>\n",
       "      <td>0</td>\n",
       "      <td>10002</td>\n",
       "      <td>inflatable political globe</td>\n",
       "      <td>420.26</td>\n",
       "      <td>42</td>\n",
       "      <td>30</td>\n",
       "      <td>0.85</td>\n",
       "      <td>488</td>\n",
       "      <td>0.0</td>\n",
       "      <td>0.0</td>\n",
       "      <td>0.0</td>\n",
       "      <td>0.0</td>\n",
       "    </tr>\n",
       "    <tr>\n",
       "      <td>1</td>\n",
       "      <td>10080</td>\n",
       "      <td>groovy cactus inflatable</td>\n",
       "      <td>107.78</td>\n",
       "      <td>17</td>\n",
       "      <td>15</td>\n",
       "      <td>0.85</td>\n",
       "      <td>274</td>\n",
       "      <td>0.0</td>\n",
       "      <td>0.0</td>\n",
       "      <td>0.0</td>\n",
       "      <td>0.0</td>\n",
       "    </tr>\n",
       "    <tr>\n",
       "      <td>2</td>\n",
       "      <td>10120</td>\n",
       "      <td>doggy rubber</td>\n",
       "      <td>17.01</td>\n",
       "      <td>19</td>\n",
       "      <td>16</td>\n",
       "      <td>0.21</td>\n",
       "      <td>81</td>\n",
       "      <td>0.0</td>\n",
       "      <td>0.0</td>\n",
       "      <td>0.0</td>\n",
       "      <td>0.0</td>\n",
       "    </tr>\n",
       "  </tbody>\n",
       "</table>\n",
       "</div>"
      ],
      "text/plain": [
       "  stockcode                 description  total_spent  purchases_num  \\\n",
       "0     10002  inflatable political globe       420.26             42   \n",
       "1     10080    groovy cactus inflatable       107.78             17   \n",
       "2     10120                doggy rubber        17.01             19   \n",
       "\n",
       "   buyers_num  unitprice  quantity_sold  total_refunded  returns_num  \\\n",
       "0          30       0.85            488             0.0          0.0   \n",
       "1          15       0.85            274             0.0          0.0   \n",
       "2          16       0.21             81             0.0          0.0   \n",
       "\n",
       "   returners_num  quantity_returned  \n",
       "0            0.0                0.0  \n",
       "1            0.0                0.0  \n",
       "2            0.0                0.0  "
      ]
     },
     "execution_count": 79,
     "metadata": {},
     "output_type": "execute_result"
    },
    {
     "data": {
      "text/plain": [
       "3594"
      ]
     },
     "execution_count": 79,
     "metadata": {},
     "output_type": "execute_result"
    }
   ],
   "source": [
    "# merging the returns and purchases per sc\n",
    "all_p_sc = pur_p_sc.merge(ret_p_sc, on = ['stockcode', 'description', 'unitprice'], how = 'left')\n",
    "all_p_sc = all_p_sc.fillna(0)\n",
    "all_p_sc.head(3)\n",
    "all_p_sc.shape[0]"
   ]
  },
  {
   "cell_type": "markdown",
   "metadata": {},
   "source": [
    "now lets find the percentage returned and overall profit"
   ]
  },
  {
   "cell_type": "code",
   "execution_count": 80,
   "metadata": {},
   "outputs": [
    {
     "data": {
      "text/html": [
       "<div>\n",
       "<style scoped>\n",
       "    .dataframe tbody tr th:only-of-type {\n",
       "        vertical-align: middle;\n",
       "    }\n",
       "\n",
       "    .dataframe tbody tr th {\n",
       "        vertical-align: top;\n",
       "    }\n",
       "\n",
       "    .dataframe thead th {\n",
       "        text-align: right;\n",
       "    }\n",
       "</style>\n",
       "<table border=\"1\" class=\"dataframe\">\n",
       "  <thead>\n",
       "    <tr style=\"text-align: right;\">\n",
       "      <th></th>\n",
       "      <th>stockcode</th>\n",
       "      <th>description</th>\n",
       "      <th>unitprice</th>\n",
       "      <th>profit</th>\n",
       "      <th>item_ret_ratio</th>\n",
       "      <th>not_ret_pur</th>\n",
       "      <th>return_ratio</th>\n",
       "      <th>not_ret_uids</th>\n",
       "      <th>user_ret_ratio</th>\n",
       "    </tr>\n",
       "  </thead>\n",
       "  <tbody>\n",
       "    <tr>\n",
       "      <td>0</td>\n",
       "      <td>10002</td>\n",
       "      <td>inflatable political globe</td>\n",
       "      <td>0.85</td>\n",
       "      <td>420.26</td>\n",
       "      <td>0.0</td>\n",
       "      <td>42.0</td>\n",
       "      <td>0.0</td>\n",
       "      <td>30.0</td>\n",
       "      <td>0.0</td>\n",
       "    </tr>\n",
       "    <tr>\n",
       "      <td>1</td>\n",
       "      <td>10080</td>\n",
       "      <td>groovy cactus inflatable</td>\n",
       "      <td>0.85</td>\n",
       "      <td>107.78</td>\n",
       "      <td>0.0</td>\n",
       "      <td>17.0</td>\n",
       "      <td>0.0</td>\n",
       "      <td>15.0</td>\n",
       "      <td>0.0</td>\n",
       "    </tr>\n",
       "    <tr>\n",
       "      <td>2</td>\n",
       "      <td>10120</td>\n",
       "      <td>doggy rubber</td>\n",
       "      <td>0.21</td>\n",
       "      <td>17.01</td>\n",
       "      <td>0.0</td>\n",
       "      <td>19.0</td>\n",
       "      <td>0.0</td>\n",
       "      <td>16.0</td>\n",
       "      <td>0.0</td>\n",
       "    </tr>\n",
       "  </tbody>\n",
       "</table>\n",
       "</div>"
      ],
      "text/plain": [
       "  stockcode                 description  unitprice  profit  item_ret_ratio  \\\n",
       "0     10002  inflatable political globe       0.85  420.26             0.0   \n",
       "1     10080    groovy cactus inflatable       0.85  107.78             0.0   \n",
       "2     10120                doggy rubber       0.21   17.01             0.0   \n",
       "\n",
       "   not_ret_pur  return_ratio  not_ret_uids  user_ret_ratio  \n",
       "0         42.0           0.0          30.0             0.0  \n",
       "1         17.0           0.0          15.0             0.0  \n",
       "2         19.0           0.0          16.0             0.0  "
      ]
     },
     "execution_count": 80,
     "metadata": {},
     "output_type": "execute_result"
    },
    {
     "data": {
      "text/plain": [
       "3594"
      ]
     },
     "execution_count": 80,
     "metadata": {},
     "output_type": "execute_result"
    }
   ],
   "source": [
    "%%capture --no-display\n",
    "# finding the profit, returned ratio, and other ratios\n",
    "final_p_sc = all_p_sc[['stockcode', 'description', 'unitprice']]\n",
    "final_p_sc['profit'] = all_p_sc['total_spent'] - all_p_sc['total_refunded']\n",
    "final_p_sc['item_ret_ratio'] = all_p_sc['quantity_returned'] / all_p_sc['quantity_sold'] * 100\n",
    "final_p_sc['not_ret_pur'] = all_p_sc['purchases_num'] - all_p_sc['returns_num']\n",
    "final_p_sc['return_ratio'] = all_p_sc['returns_num'] / all_p_sc['purchases_num'] * 100\n",
    "final_p_sc['not_ret_uids'] = all_p_sc['buyers_num'] - all_p_sc['returners_num']\n",
    "final_p_sc['user_ret_ratio'] = all_p_sc['returners_num'] / all_p_sc['buyers_num'] * 100\n",
    "final_p_sc.head(3)\n",
    "final_p_sc.shape[0]"
   ]
  },
  {
   "cell_type": "code",
   "execution_count": 81,
   "metadata": {},
   "outputs": [
    {
     "data": {
      "text/html": [
       "<div>\n",
       "<style scoped>\n",
       "    .dataframe tbody tr th:only-of-type {\n",
       "        vertical-align: middle;\n",
       "    }\n",
       "\n",
       "    .dataframe tbody tr th {\n",
       "        vertical-align: top;\n",
       "    }\n",
       "\n",
       "    .dataframe thead th {\n",
       "        text-align: right;\n",
       "    }\n",
       "</style>\n",
       "<table border=\"1\" class=\"dataframe\">\n",
       "  <thead>\n",
       "    <tr style=\"text-align: right;\">\n",
       "      <th></th>\n",
       "      <th>stockcode</th>\n",
       "      <th>description</th>\n",
       "      <th>unitprice</th>\n",
       "      <th>profit</th>\n",
       "      <th>item_ret_ratio</th>\n",
       "      <th>not_ret_pur</th>\n",
       "      <th>return_ratio</th>\n",
       "      <th>not_ret_uids</th>\n",
       "      <th>user_ret_ratio</th>\n",
       "    </tr>\n",
       "  </thead>\n",
       "  <tbody>\n",
       "    <tr>\n",
       "      <td>count</td>\n",
       "      <td>3594</td>\n",
       "      <td>3594</td>\n",
       "      <td>3594.000000</td>\n",
       "      <td>3594.000000</td>\n",
       "      <td>3594.000000</td>\n",
       "      <td>3594.000000</td>\n",
       "      <td>3594.000000</td>\n",
       "      <td>3594.000000</td>\n",
       "      <td>3594.000000</td>\n",
       "    </tr>\n",
       "    <tr>\n",
       "      <td>unique</td>\n",
       "      <td>3594</td>\n",
       "      <td>3594</td>\n",
       "      <td>NaN</td>\n",
       "      <td>NaN</td>\n",
       "      <td>NaN</td>\n",
       "      <td>NaN</td>\n",
       "      <td>NaN</td>\n",
       "      <td>NaN</td>\n",
       "      <td>NaN</td>\n",
       "    </tr>\n",
       "    <tr>\n",
       "      <td>top</td>\n",
       "      <td>21744</td>\n",
       "      <td>tea party birthday card</td>\n",
       "      <td>NaN</td>\n",
       "      <td>NaN</td>\n",
       "      <td>NaN</td>\n",
       "      <td>NaN</td>\n",
       "      <td>NaN</td>\n",
       "      <td>NaN</td>\n",
       "      <td>NaN</td>\n",
       "    </tr>\n",
       "    <tr>\n",
       "      <td>freq</td>\n",
       "      <td>1</td>\n",
       "      <td>1</td>\n",
       "      <td>NaN</td>\n",
       "      <td>NaN</td>\n",
       "      <td>NaN</td>\n",
       "      <td>NaN</td>\n",
       "      <td>NaN</td>\n",
       "      <td>NaN</td>\n",
       "      <td>NaN</td>\n",
       "    </tr>\n",
       "    <tr>\n",
       "      <td>mean</td>\n",
       "      <td>NaN</td>\n",
       "      <td>NaN</td>\n",
       "      <td>3.518740</td>\n",
       "      <td>1384.019894</td>\n",
       "      <td>0.026664</td>\n",
       "      <td>82.806066</td>\n",
       "      <td>0.018016</td>\n",
       "      <td>56.868670</td>\n",
       "      <td>0.022284</td>\n",
       "    </tr>\n",
       "    <tr>\n",
       "      <td>std</td>\n",
       "      <td>NaN</td>\n",
       "      <td>NaN</td>\n",
       "      <td>6.852119</td>\n",
       "      <td>3252.757505</td>\n",
       "      <td>0.584953</td>\n",
       "      <td>129.793904</td>\n",
       "      <td>0.328880</td>\n",
       "      <td>74.608316</td>\n",
       "      <td>0.354306</td>\n",
       "    </tr>\n",
       "    <tr>\n",
       "      <td>min</td>\n",
       "      <td>NaN</td>\n",
       "      <td>NaN</td>\n",
       "      <td>0.100000</td>\n",
       "      <td>0.290000</td>\n",
       "      <td>0.000000</td>\n",
       "      <td>1.000000</td>\n",
       "      <td>0.000000</td>\n",
       "      <td>1.000000</td>\n",
       "      <td>0.000000</td>\n",
       "    </tr>\n",
       "    <tr>\n",
       "      <td>25%</td>\n",
       "      <td>NaN</td>\n",
       "      <td>NaN</td>\n",
       "      <td>1.250000</td>\n",
       "      <td>87.240000</td>\n",
       "      <td>0.000000</td>\n",
       "      <td>10.000000</td>\n",
       "      <td>0.000000</td>\n",
       "      <td>8.000000</td>\n",
       "      <td>0.000000</td>\n",
       "    </tr>\n",
       "    <tr>\n",
       "      <td>50%</td>\n",
       "      <td>NaN</td>\n",
       "      <td>NaN</td>\n",
       "      <td>2.080000</td>\n",
       "      <td>401.535000</td>\n",
       "      <td>0.000000</td>\n",
       "      <td>35.000000</td>\n",
       "      <td>0.000000</td>\n",
       "      <td>30.000000</td>\n",
       "      <td>0.000000</td>\n",
       "    </tr>\n",
       "    <tr>\n",
       "      <td>75%</td>\n",
       "      <td>NaN</td>\n",
       "      <td>NaN</td>\n",
       "      <td>4.150000</td>\n",
       "      <td>1303.165000</td>\n",
       "      <td>0.000000</td>\n",
       "      <td>101.000000</td>\n",
       "      <td>0.000000</td>\n",
       "      <td>75.000000</td>\n",
       "      <td>0.000000</td>\n",
       "    </tr>\n",
       "    <tr>\n",
       "      <td>max</td>\n",
       "      <td>NaN</td>\n",
       "      <td>NaN</td>\n",
       "      <td>195.000000</td>\n",
       "      <td>76961.250000</td>\n",
       "      <td>28.571429</td>\n",
       "      <td>1694.000000</td>\n",
       "      <td>16.666667</td>\n",
       "      <td>760.000000</td>\n",
       "      <td>16.666667</td>\n",
       "    </tr>\n",
       "  </tbody>\n",
       "</table>\n",
       "</div>"
      ],
      "text/plain": [
       "       stockcode              description    unitprice        profit  \\\n",
       "count       3594                     3594  3594.000000   3594.000000   \n",
       "unique      3594                     3594          NaN           NaN   \n",
       "top        21744  tea party birthday card          NaN           NaN   \n",
       "freq           1                        1          NaN           NaN   \n",
       "mean         NaN                      NaN     3.518740   1384.019894   \n",
       "std          NaN                      NaN     6.852119   3252.757505   \n",
       "min          NaN                      NaN     0.100000      0.290000   \n",
       "25%          NaN                      NaN     1.250000     87.240000   \n",
       "50%          NaN                      NaN     2.080000    401.535000   \n",
       "75%          NaN                      NaN     4.150000   1303.165000   \n",
       "max          NaN                      NaN   195.000000  76961.250000   \n",
       "\n",
       "        item_ret_ratio  not_ret_pur  return_ratio  not_ret_uids  \\\n",
       "count      3594.000000  3594.000000   3594.000000   3594.000000   \n",
       "unique             NaN          NaN           NaN           NaN   \n",
       "top                NaN          NaN           NaN           NaN   \n",
       "freq               NaN          NaN           NaN           NaN   \n",
       "mean          0.026664    82.806066      0.018016     56.868670   \n",
       "std           0.584953   129.793904      0.328880     74.608316   \n",
       "min           0.000000     1.000000      0.000000      1.000000   \n",
       "25%           0.000000    10.000000      0.000000      8.000000   \n",
       "50%           0.000000    35.000000      0.000000     30.000000   \n",
       "75%           0.000000   101.000000      0.000000     75.000000   \n",
       "max          28.571429  1694.000000     16.666667    760.000000   \n",
       "\n",
       "        user_ret_ratio  \n",
       "count      3594.000000  \n",
       "unique             NaN  \n",
       "top                NaN  \n",
       "freq               NaN  \n",
       "mean          0.022284  \n",
       "std           0.354306  \n",
       "min           0.000000  \n",
       "25%           0.000000  \n",
       "50%           0.000000  \n",
       "75%           0.000000  \n",
       "max          16.666667  "
      ]
     },
     "execution_count": 81,
     "metadata": {},
     "output_type": "execute_result"
    }
   ],
   "source": [
    "# checking the info\n",
    "final_p_sc.describe(include = 'all')"
   ]
  },
  {
   "cell_type": "markdown",
   "metadata": {},
   "source": [
    "<s>somehow (even though i removed all the users and items from returns that are not present in purchases) there is a negative profit and number of users that bought and not returned the item.. guess ill remove those items when ill deal with the worst items</s><br>\n",
    "now everything seems logicall"
   ]
  },
  {
   "cell_type": "markdown",
   "metadata": {},
   "source": [
    "now i can start looking at the best and worst"
   ]
  },
  {
   "cell_type": "code",
   "execution_count": 82,
   "metadata": {},
   "outputs": [],
   "source": [
    "# finding the top scs based on different parameters (i payed attention to where its head or tail)\n",
    "top_profit = final_p_sc[['stockcode', 'description', 'unitprice', 'profit']].sort_values('profit').tail(300)\n",
    "top_item_ret_ratio = final_p_sc[['stockcode', 'item_ret_ratio']].sort_values('item_ret_ratio').head(300)\n",
    "top_not_ret_pur = final_p_sc[['stockcode', 'not_ret_pur']].sort_values('not_ret_pur').tail(300)\n",
    "top_return_ratio = final_p_sc[['stockcode', 'return_ratio']].sort_values('return_ratio').head(300)\n",
    "top_not_ret_uids = final_p_sc[['stockcode', 'not_ret_uids']].sort_values('not_ret_uids').tail(300)\n",
    "top_user_ret_ratio = final_p_sc[['stockcode', 'user_ret_ratio']].sort_values('user_ret_ratio').head(300)"
   ]
  },
  {
   "cell_type": "code",
   "execution_count": 83,
   "metadata": {
    "scrolled": true
   },
   "outputs": [
    {
     "data": {
      "text/html": [
       "<div>\n",
       "<style scoped>\n",
       "    .dataframe tbody tr th:only-of-type {\n",
       "        vertical-align: middle;\n",
       "    }\n",
       "\n",
       "    .dataframe tbody tr th {\n",
       "        vertical-align: top;\n",
       "    }\n",
       "\n",
       "    .dataframe thead th {\n",
       "        text-align: right;\n",
       "    }\n",
       "</style>\n",
       "<table border=\"1\" class=\"dataframe\">\n",
       "  <thead>\n",
       "    <tr style=\"text-align: right;\">\n",
       "      <th></th>\n",
       "      <th>stockcode</th>\n",
       "      <th>description</th>\n",
       "      <th>unitprice</th>\n",
       "      <th>profit</th>\n",
       "      <th>item_ret_ratio</th>\n",
       "      <th>not_ret_pur</th>\n",
       "      <th>return_ratio</th>\n",
       "      <th>not_ret_uids</th>\n",
       "      <th>user_ret_ratio</th>\n",
       "    </tr>\n",
       "  </thead>\n",
       "  <tbody>\n",
       "    <tr>\n",
       "      <td>9</td>\n",
       "      <td>48138</td>\n",
       "      <td>doormat union flag</td>\n",
       "      <td>7.95</td>\n",
       "      <td>13991.79</td>\n",
       "      <td>0.0</td>\n",
       "      <td>453.0</td>\n",
       "      <td>0.0</td>\n",
       "      <td>266.0</td>\n",
       "      <td>0.0</td>\n",
       "    </tr>\n",
       "    <tr>\n",
       "      <td>8</td>\n",
       "      <td>48187</td>\n",
       "      <td>doormat new england</td>\n",
       "      <td>7.95</td>\n",
       "      <td>9389.52</td>\n",
       "      <td>0.0</td>\n",
       "      <td>420.0</td>\n",
       "      <td>0.0</td>\n",
       "      <td>259.0</td>\n",
       "      <td>0.0</td>\n",
       "    </tr>\n",
       "    <tr>\n",
       "      <td>7</td>\n",
       "      <td>48194</td>\n",
       "      <td>doormat hearts</td>\n",
       "      <td>7.95</td>\n",
       "      <td>8629.83</td>\n",
       "      <td>0.0</td>\n",
       "      <td>409.0</td>\n",
       "      <td>0.0</td>\n",
       "      <td>240.0</td>\n",
       "      <td>0.0</td>\n",
       "    </tr>\n",
       "    <tr>\n",
       "      <td>6</td>\n",
       "      <td>48184</td>\n",
       "      <td>doormat english rose</td>\n",
       "      <td>7.95</td>\n",
       "      <td>7238.52</td>\n",
       "      <td>0.0</td>\n",
       "      <td>282.0</td>\n",
       "      <td>0.0</td>\n",
       "      <td>188.0</td>\n",
       "      <td>0.0</td>\n",
       "    </tr>\n",
       "    <tr>\n",
       "      <td>5</td>\n",
       "      <td>71459</td>\n",
       "      <td>hanging jam jar t-light holder</td>\n",
       "      <td>0.85</td>\n",
       "      <td>7094.99</td>\n",
       "      <td>0.0</td>\n",
       "      <td>317.0</td>\n",
       "      <td>0.0</td>\n",
       "      <td>197.0</td>\n",
       "      <td>0.0</td>\n",
       "    </tr>\n",
       "    <tr>\n",
       "      <td>4</td>\n",
       "      <td>47590b</td>\n",
       "      <td>pink happy birthday bunting</td>\n",
       "      <td>5.45</td>\n",
       "      <td>7085.66</td>\n",
       "      <td>0.0</td>\n",
       "      <td>285.0</td>\n",
       "      <td>0.0</td>\n",
       "      <td>196.0</td>\n",
       "      <td>0.0</td>\n",
       "    </tr>\n",
       "    <tr>\n",
       "      <td>3</td>\n",
       "      <td>23581</td>\n",
       "      <td>jumbo bag paisley park</td>\n",
       "      <td>1.79</td>\n",
       "      <td>6352.70</td>\n",
       "      <td>0.0</td>\n",
       "      <td>253.0</td>\n",
       "      <td>0.0</td>\n",
       "      <td>188.0</td>\n",
       "      <td>0.0</td>\n",
       "    </tr>\n",
       "    <tr>\n",
       "      <td>2</td>\n",
       "      <td>47590a</td>\n",
       "      <td>blue happy birthday bunting</td>\n",
       "      <td>5.45</td>\n",
       "      <td>5947.70</td>\n",
       "      <td>0.0</td>\n",
       "      <td>274.0</td>\n",
       "      <td>0.0</td>\n",
       "      <td>185.0</td>\n",
       "      <td>0.0</td>\n",
       "    </tr>\n",
       "    <tr>\n",
       "      <td>1</td>\n",
       "      <td>35970</td>\n",
       "      <td>zinc folkart sleigh bells</td>\n",
       "      <td>4.21</td>\n",
       "      <td>5448.25</td>\n",
       "      <td>0.0</td>\n",
       "      <td>254.0</td>\n",
       "      <td>0.0</td>\n",
       "      <td>203.0</td>\n",
       "      <td>0.0</td>\n",
       "    </tr>\n",
       "    <tr>\n",
       "      <td>0</td>\n",
       "      <td>47591d</td>\n",
       "      <td>pink fairy cake childrens apron</td>\n",
       "      <td>1.95</td>\n",
       "      <td>4140.73</td>\n",
       "      <td>0.0</td>\n",
       "      <td>327.0</td>\n",
       "      <td>0.0</td>\n",
       "      <td>194.0</td>\n",
       "      <td>0.0</td>\n",
       "    </tr>\n",
       "  </tbody>\n",
       "</table>\n",
       "</div>"
      ],
      "text/plain": [
       "  stockcode                      description  unitprice    profit  \\\n",
       "9     48138               doormat union flag       7.95  13991.79   \n",
       "8     48187              doormat new england       7.95   9389.52   \n",
       "7     48194                   doormat hearts       7.95   8629.83   \n",
       "6     48184             doormat english rose       7.95   7238.52   \n",
       "5     71459   hanging jam jar t-light holder       0.85   7094.99   \n",
       "4    47590b      pink happy birthday bunting       5.45   7085.66   \n",
       "3     23581           jumbo bag paisley park       1.79   6352.70   \n",
       "2    47590a      blue happy birthday bunting       5.45   5947.70   \n",
       "1     35970        zinc folkart sleigh bells       4.21   5448.25   \n",
       "0    47591d  pink fairy cake childrens apron       1.95   4140.73   \n",
       "\n",
       "   item_ret_ratio  not_ret_pur  return_ratio  not_ret_uids  user_ret_ratio  \n",
       "9             0.0        453.0           0.0         266.0             0.0  \n",
       "8             0.0        420.0           0.0         259.0             0.0  \n",
       "7             0.0        409.0           0.0         240.0             0.0  \n",
       "6             0.0        282.0           0.0         188.0             0.0  \n",
       "5             0.0        317.0           0.0         197.0             0.0  \n",
       "4             0.0        285.0           0.0         196.0             0.0  \n",
       "3             0.0        253.0           0.0         188.0             0.0  \n",
       "2             0.0        274.0           0.0         185.0             0.0  \n",
       "1             0.0        254.0           0.0         203.0             0.0  \n",
       "0             0.0        327.0           0.0         194.0             0.0  "
      ]
     },
     "execution_count": 83,
     "metadata": {},
     "output_type": "execute_result"
    }
   ],
   "source": [
    "# merging the dfs\n",
    "top_dfs = [top_profit, top_item_ret_ratio, top_not_ret_pur, top_return_ratio, top_not_ret_uids, top_user_ret_ratio]\n",
    "best_items = reduce(lambda left, right: pd.merge(left, right, on = 'stockcode'), top_dfs)\n",
    "best_items.sort_values('profit', ascending = False)"
   ]
  },
  {
   "cell_type": "markdown",
   "metadata": {},
   "source": [
    "The best products overall are:\n",
    "* doormat union flag\n",
    "* doormat new england\n",
    "* doormat hearts\t\n",
    "* doormat english rose\n",
    "* hanging jam jar t-light holder\n",
    "\n",
    "it seems doormats fly!"
   ]
  },
  {
   "cell_type": "markdown",
   "metadata": {},
   "source": [
    "now ill make a list of the top items per parameter"
   ]
  },
  {
   "cell_type": "code",
   "execution_count": 84,
   "metadata": {},
   "outputs": [
    {
     "data": {
      "text/plain": [
       "28"
      ]
     },
     "execution_count": 84,
     "metadata": {},
     "output_type": "execute_result"
    }
   ],
   "source": [
    "# making a list of top items\n",
    "top_sc = []\n",
    "c = 0\n",
    "for df in top_dfs:\n",
    "    if c % 2 == 0:\n",
    "        top_sc.extend(df['stockcode'].tail(10).tolist())\n",
    "    else:\n",
    "        top_sc.extend(df['stockcode'].head(10).tolist())\n",
    "    c += 1\n",
    "top_sc = list(set(top_sc))\n",
    "len(top_sc)"
   ]
  },
  {
   "cell_type": "code",
   "execution_count": 85,
   "metadata": {
    "scrolled": true
   },
   "outputs": [
    {
     "data": {
      "text/html": [
       "<div>\n",
       "<style scoped>\n",
       "    .dataframe tbody tr th:only-of-type {\n",
       "        vertical-align: middle;\n",
       "    }\n",
       "\n",
       "    .dataframe tbody tr th {\n",
       "        vertical-align: top;\n",
       "    }\n",
       "\n",
       "    .dataframe thead th {\n",
       "        text-align: right;\n",
       "    }\n",
       "</style>\n",
       "<table border=\"1\" class=\"dataframe\">\n",
       "  <thead>\n",
       "    <tr style=\"text-align: right;\">\n",
       "      <th></th>\n",
       "      <th>stockcode</th>\n",
       "      <th>description</th>\n",
       "      <th>unitprice</th>\n",
       "      <th>profit</th>\n",
       "      <th>item_ret_ratio</th>\n",
       "      <th>not_ret_pur</th>\n",
       "      <th>return_ratio</th>\n",
       "      <th>not_ret_uids</th>\n",
       "      <th>user_ret_ratio</th>\n",
       "    </tr>\n",
       "  </thead>\n",
       "  <tbody>\n",
       "    <tr>\n",
       "      <td>0</td>\n",
       "      <td>10002</td>\n",
       "      <td>inflatable political globe</td>\n",
       "      <td>0.85</td>\n",
       "      <td>420.26</td>\n",
       "      <td>0.0</td>\n",
       "      <td>42.0</td>\n",
       "      <td>0.0</td>\n",
       "      <td>30.0</td>\n",
       "      <td>0.0</td>\n",
       "    </tr>\n",
       "    <tr>\n",
       "      <td>1</td>\n",
       "      <td>20725</td>\n",
       "      <td>lunch bag red retrospot</td>\n",
       "      <td>1.65</td>\n",
       "      <td>17234.59</td>\n",
       "      <td>0.0</td>\n",
       "      <td>1019.0</td>\n",
       "      <td>0.0</td>\n",
       "      <td>452.0</td>\n",
       "      <td>0.0</td>\n",
       "    </tr>\n",
       "    <tr>\n",
       "      <td>2</td>\n",
       "      <td>21212</td>\n",
       "      <td>pack of 72 retrospot cake cases</td>\n",
       "      <td>0.42</td>\n",
       "      <td>7846.96</td>\n",
       "      <td>0.0</td>\n",
       "      <td>724.0</td>\n",
       "      <td>0.0</td>\n",
       "      <td>498.0</td>\n",
       "      <td>0.0</td>\n",
       "    </tr>\n",
       "    <tr>\n",
       "      <td>3</td>\n",
       "      <td>22086</td>\n",
       "      <td>paper chain kit 50's christmas</td>\n",
       "      <td>2.55</td>\n",
       "      <td>25955.60</td>\n",
       "      <td>0.0</td>\n",
       "      <td>787.0</td>\n",
       "      <td>0.0</td>\n",
       "      <td>507.0</td>\n",
       "      <td>0.0</td>\n",
       "    </tr>\n",
       "    <tr>\n",
       "      <td>4</td>\n",
       "      <td>22178</td>\n",
       "      <td>victorian glass hanging t-light</td>\n",
       "      <td>1.25</td>\n",
       "      <td>24116.85</td>\n",
       "      <td>0.0</td>\n",
       "      <td>732.0</td>\n",
       "      <td>0.0</td>\n",
       "      <td>369.0</td>\n",
       "      <td>0.0</td>\n",
       "    </tr>\n",
       "  </tbody>\n",
       "</table>\n",
       "</div>"
      ],
      "text/plain": [
       "  stockcode                      description  unitprice    profit  \\\n",
       "0     10002       inflatable political globe       0.85    420.26   \n",
       "1     20725          lunch bag red retrospot       1.65  17234.59   \n",
       "2     21212  pack of 72 retrospot cake cases       0.42   7846.96   \n",
       "3     22086   paper chain kit 50's christmas       2.55  25955.60   \n",
       "4     22178  victorian glass hanging t-light       1.25  24116.85   \n",
       "\n",
       "   item_ret_ratio  not_ret_pur  return_ratio  not_ret_uids  user_ret_ratio  \n",
       "0             0.0         42.0           0.0          30.0             0.0  \n",
       "1             0.0       1019.0           0.0         452.0             0.0  \n",
       "2             0.0        724.0           0.0         498.0             0.0  \n",
       "3             0.0        787.0           0.0         507.0             0.0  \n",
       "4             0.0        732.0           0.0         369.0             0.0  "
      ]
     },
     "execution_count": 85,
     "metadata": {},
     "output_type": "execute_result"
    },
    {
     "data": {
      "text/plain": [
       "28"
      ]
     },
     "execution_count": 85,
     "metadata": {},
     "output_type": "execute_result"
    }
   ],
   "source": [
    "# making a df of those items for more info in them\n",
    "items_to_sell_more = final_p_sc[final_p_sc['stockcode'].isin(top_sc)].reset_index(drop = True)\n",
    "items_to_sell_more.head()\n",
    "items_to_sell_more.shape[0]"
   ]
  },
  {
   "cell_type": "markdown",
   "metadata": {},
   "source": [
    "now lets do the same for the least selling product"
   ]
  },
  {
   "cell_type": "code",
   "execution_count": 86,
   "metadata": {},
   "outputs": [],
   "source": [
    "# finding the worst scs based on different parameters (i payed attention to where its head or tail)\n",
    "min_profit = final_p_sc[['stockcode', 'description', 'unitprice', 'profit']].sort_values('profit').head(300)\n",
    "min_item_ret_ratio = final_p_sc[['stockcode', 'item_ret_ratio']].sort_values('item_ret_ratio').tail(300)\n",
    "min_not_ret_pur = final_p_sc[['stockcode', 'not_ret_pur']].sort_values('not_ret_pur').head(300)\n",
    "min_return_ratio = final_p_sc[['stockcode', 'return_ratio']].sort_values('return_ratio').tail(300)\n",
    "min_not_ret_uids = final_p_sc[['stockcode', 'not_ret_uids']].sort_values('not_ret_uids').head(300)\n",
    "min_user_ret_ratio = final_p_sc[['stockcode', 'user_ret_ratio']].sort_values('user_ret_ratio').tail(300)"
   ]
  },
  {
   "cell_type": "code",
   "execution_count": 87,
   "metadata": {
    "scrolled": true
   },
   "outputs": [
    {
     "data": {
      "text/html": [
       "<div>\n",
       "<style scoped>\n",
       "    .dataframe tbody tr th:only-of-type {\n",
       "        vertical-align: middle;\n",
       "    }\n",
       "\n",
       "    .dataframe tbody tr th {\n",
       "        vertical-align: top;\n",
       "    }\n",
       "\n",
       "    .dataframe thead th {\n",
       "        text-align: right;\n",
       "    }\n",
       "</style>\n",
       "<table border=\"1\" class=\"dataframe\">\n",
       "  <thead>\n",
       "    <tr style=\"text-align: right;\">\n",
       "      <th></th>\n",
       "      <th>stockcode</th>\n",
       "      <th>description</th>\n",
       "      <th>unitprice</th>\n",
       "      <th>profit</th>\n",
       "      <th>item_ret_ratio</th>\n",
       "      <th>not_ret_pur</th>\n",
       "      <th>return_ratio</th>\n",
       "      <th>not_ret_uids</th>\n",
       "      <th>user_ret_ratio</th>\n",
       "    </tr>\n",
       "  </thead>\n",
       "  <tbody>\n",
       "    <tr>\n",
       "      <td>0</td>\n",
       "      <td>22323</td>\n",
       "      <td>pink polkadot kids bag</td>\n",
       "      <td>1.95</td>\n",
       "      <td>1.95</td>\n",
       "      <td>0.0</td>\n",
       "      <td>1.0</td>\n",
       "      <td>0.0</td>\n",
       "      <td>1.0</td>\n",
       "      <td>0.0</td>\n",
       "    </tr>\n",
       "  </tbody>\n",
       "</table>\n",
       "</div>"
      ],
      "text/plain": [
       "  stockcode             description  unitprice  profit  item_ret_ratio  \\\n",
       "0     22323  pink polkadot kids bag       1.95    1.95             0.0   \n",
       "\n",
       "   not_ret_pur  return_ratio  not_ret_uids  user_ret_ratio  \n",
       "0          1.0           0.0           1.0             0.0  "
      ]
     },
     "execution_count": 87,
     "metadata": {},
     "output_type": "execute_result"
    }
   ],
   "source": [
    "# merging the dfs\n",
    "min_dfs = [min_profit, min_item_ret_ratio, min_not_ret_pur, min_return_ratio, min_not_ret_uids, min_user_ret_ratio]\n",
    "worst_product = reduce(lambda left, right: pd.merge(left, right, on = 'stockcode'), min_dfs)\n",
    "worst_product"
   ]
  },
  {
   "cell_type": "markdown",
   "metadata": {},
   "source": [
    "The worst product overall is:\n",
    "* pink polkadot kids bag"
   ]
  },
  {
   "cell_type": "markdown",
   "metadata": {},
   "source": [
    "now ill make a list of the worst items per parameter"
   ]
  },
  {
   "cell_type": "code",
   "execution_count": 88,
   "metadata": {},
   "outputs": [
    {
     "data": {
      "text/plain": [
       "42"
      ]
     },
     "execution_count": 88,
     "metadata": {},
     "output_type": "execute_result"
    }
   ],
   "source": [
    "# making a list of top items\n",
    "bad_sc = []\n",
    "c = 0\n",
    "for df in min_dfs:\n",
    "    if c % 2 == 0:\n",
    "        bad_sc.extend(df['stockcode'].head(10).tolist())\n",
    "    else:\n",
    "        bad_sc.extend(df['stockcode'].tail(10).tolist())\n",
    "    c += 1\n",
    "bad_sc = list(set(bad_sc))\n",
    "len(bad_sc)"
   ]
  },
  {
   "cell_type": "code",
   "execution_count": 89,
   "metadata": {
    "scrolled": true
   },
   "outputs": [
    {
     "data": {
      "text/html": [
       "<div>\n",
       "<style scoped>\n",
       "    .dataframe tbody tr th:only-of-type {\n",
       "        vertical-align: middle;\n",
       "    }\n",
       "\n",
       "    .dataframe tbody tr th {\n",
       "        vertical-align: top;\n",
       "    }\n",
       "\n",
       "    .dataframe thead th {\n",
       "        text-align: right;\n",
       "    }\n",
       "</style>\n",
       "<table border=\"1\" class=\"dataframe\">\n",
       "  <thead>\n",
       "    <tr style=\"text-align: right;\">\n",
       "      <th></th>\n",
       "      <th>stockcode</th>\n",
       "      <th>description</th>\n",
       "      <th>unitprice</th>\n",
       "      <th>profit</th>\n",
       "      <th>item_ret_ratio</th>\n",
       "      <th>not_ret_pur</th>\n",
       "      <th>return_ratio</th>\n",
       "      <th>not_ret_uids</th>\n",
       "      <th>user_ret_ratio</th>\n",
       "    </tr>\n",
       "  </thead>\n",
       "  <tbody>\n",
       "    <tr>\n",
       "      <td>0</td>\n",
       "      <td>17174</td>\n",
       "      <td>asstd rasta key-chains</td>\n",
       "      <td>0.42</td>\n",
       "      <td>0.42</td>\n",
       "      <td>0.000000</td>\n",
       "      <td>1.0</td>\n",
       "      <td>0.000000</td>\n",
       "      <td>1.0</td>\n",
       "      <td>0.000000</td>\n",
       "    </tr>\n",
       "    <tr>\n",
       "      <td>1</td>\n",
       "      <td>20701</td>\n",
       "      <td>pink cat floral cushion cover</td>\n",
       "      <td>3.75</td>\n",
       "      <td>3.75</td>\n",
       "      <td>0.000000</td>\n",
       "      <td>1.0</td>\n",
       "      <td>0.000000</td>\n",
       "      <td>1.0</td>\n",
       "      <td>0.000000</td>\n",
       "    </tr>\n",
       "    <tr>\n",
       "      <td>2</td>\n",
       "      <td>21491</td>\n",
       "      <td>set of three vintage gift wraps</td>\n",
       "      <td>1.95</td>\n",
       "      <td>1.95</td>\n",
       "      <td>0.000000</td>\n",
       "      <td>1.0</td>\n",
       "      <td>0.000000</td>\n",
       "      <td>1.0</td>\n",
       "      <td>0.000000</td>\n",
       "    </tr>\n",
       "    <tr>\n",
       "      <td>3</td>\n",
       "      <td>22184</td>\n",
       "      <td>cake stand victorian filigree large</td>\n",
       "      <td>8.50</td>\n",
       "      <td>17.00</td>\n",
       "      <td>0.000000</td>\n",
       "      <td>1.0</td>\n",
       "      <td>0.000000</td>\n",
       "      <td>1.0</td>\n",
       "      <td>0.000000</td>\n",
       "    </tr>\n",
       "    <tr>\n",
       "      <td>4</td>\n",
       "      <td>22679</td>\n",
       "      <td>french blue metal door sign 4</td>\n",
       "      <td>1.25</td>\n",
       "      <td>613.19</td>\n",
       "      <td>2.053388</td>\n",
       "      <td>77.0</td>\n",
       "      <td>1.282051</td>\n",
       "      <td>42.0</td>\n",
       "      <td>2.325581</td>\n",
       "    </tr>\n",
       "  </tbody>\n",
       "</table>\n",
       "</div>"
      ],
      "text/plain": [
       "  stockcode                          description  unitprice  profit  \\\n",
       "0     17174               asstd rasta key-chains       0.42    0.42   \n",
       "1     20701        pink cat floral cushion cover       3.75    3.75   \n",
       "2     21491      set of three vintage gift wraps       1.95    1.95   \n",
       "3     22184  cake stand victorian filigree large       8.50   17.00   \n",
       "4     22679        french blue metal door sign 4       1.25  613.19   \n",
       "\n",
       "   item_ret_ratio  not_ret_pur  return_ratio  not_ret_uids  user_ret_ratio  \n",
       "0        0.000000          1.0      0.000000           1.0        0.000000  \n",
       "1        0.000000          1.0      0.000000           1.0        0.000000  \n",
       "2        0.000000          1.0      0.000000           1.0        0.000000  \n",
       "3        0.000000          1.0      0.000000           1.0        0.000000  \n",
       "4        2.053388         77.0      1.282051          42.0        2.325581  "
      ]
     },
     "execution_count": 89,
     "metadata": {},
     "output_type": "execute_result"
    },
    {
     "data": {
      "text/plain": [
       "42"
      ]
     },
     "execution_count": 89,
     "metadata": {},
     "output_type": "execute_result"
    }
   ],
   "source": [
    "# making a df of those items for more info in them\n",
    "items_to_remove = final_p_sc[final_p_sc['stockcode'].isin(bad_sc)].reset_index(drop = True)\n",
    "items_to_remove.head()\n",
    "items_to_remove.shape[0]"
   ]
  },
  {
   "cell_type": "markdown",
   "metadata": {},
   "source": [
    "## Conclusion\n",
    "The best products overall are:\n",
    "* doormat union flag\n",
    "* doormat new england\n",
    "* doormat hearts\t\n",
    "* doormat english rose\n",
    "* hanging jam jar t-light holder\n",
    "\n",
    "it seems doormats fly!\n",
    "\n",
    "The worst product overall is:\n",
    "* pink polkadot kids bag"
   ]
  },
  {
   "cell_type": "markdown",
   "metadata": {},
   "source": [
    "#### Finding most common combinations of products"
   ]
  },
  {
   "cell_type": "code",
   "execution_count": 90,
   "metadata": {},
   "outputs": [],
   "source": [
    "# making a basket\n",
    "basket = normal_purchases.groupby(['invoiceno', 'description'])['stockcode'].nunique().unstack().reset_index().fillna(0\n",
    "                                                                                                ).set_index('invoiceno')"
   ]
  },
  {
   "cell_type": "code",
   "execution_count": 91,
   "metadata": {
    "scrolled": true
   },
   "outputs": [],
   "source": [
    "# using apriori to find the frequent_itemsets\n",
    "frequent_itemsets_03 = apriori(basket, min_support = 0.03, use_colnames = True, low_memory = True)"
   ]
  },
  {
   "cell_type": "code",
   "execution_count": 92,
   "metadata": {},
   "outputs": [
    {
     "data": {
      "text/html": [
       "<div>\n",
       "<style scoped>\n",
       "    .dataframe tbody tr th:only-of-type {\n",
       "        vertical-align: middle;\n",
       "    }\n",
       "\n",
       "    .dataframe tbody tr th {\n",
       "        vertical-align: top;\n",
       "    }\n",
       "\n",
       "    .dataframe thead th {\n",
       "        text-align: right;\n",
       "    }\n",
       "</style>\n",
       "<table border=\"1\" class=\"dataframe\">\n",
       "  <thead>\n",
       "    <tr style=\"text-align: right;\">\n",
       "      <th></th>\n",
       "      <th>antecedents</th>\n",
       "      <th>consequents</th>\n",
       "      <th>antecedent support</th>\n",
       "      <th>consequent support</th>\n",
       "      <th>support</th>\n",
       "      <th>confidence</th>\n",
       "      <th>lift</th>\n",
       "      <th>leverage</th>\n",
       "      <th>conviction</th>\n",
       "    </tr>\n",
       "  </thead>\n",
       "  <tbody>\n",
       "    <tr>\n",
       "      <td>0</td>\n",
       "      <td>(jumbo bag pink polkadot)</td>\n",
       "      <td>(jumbo bag red retrospot)</td>\n",
       "      <td>0.050006</td>\n",
       "      <td>0.083048</td>\n",
       "      <td>0.031387</td>\n",
       "      <td>0.627660</td>\n",
       "      <td>7.557825</td>\n",
       "      <td>0.027234</td>\n",
       "      <td>2.462672</td>\n",
       "    </tr>\n",
       "    <tr>\n",
       "      <td>1</td>\n",
       "      <td>(jumbo bag red retrospot)</td>\n",
       "      <td>(jumbo bag pink polkadot)</td>\n",
       "      <td>0.083048</td>\n",
       "      <td>0.050006</td>\n",
       "      <td>0.031387</td>\n",
       "      <td>0.377936</td>\n",
       "      <td>7.557825</td>\n",
       "      <td>0.027234</td>\n",
       "      <td>1.527164</td>\n",
       "    </tr>\n",
       "  </tbody>\n",
       "</table>\n",
       "</div>"
      ],
      "text/plain": [
       "                 antecedents                consequents  antecedent support  \\\n",
       "0  (jumbo bag pink polkadot)  (jumbo bag red retrospot)            0.050006   \n",
       "1  (jumbo bag red retrospot)  (jumbo bag pink polkadot)            0.083048   \n",
       "\n",
       "   consequent support   support  confidence      lift  leverage  conviction  \n",
       "0            0.083048  0.031387    0.627660  7.557825  0.027234    2.462672  \n",
       "1            0.050006  0.031387    0.377936  7.557825  0.027234    1.527164  "
      ]
     },
     "execution_count": 92,
     "metadata": {},
     "output_type": "execute_result"
    }
   ],
   "source": [
    "# using association_rules to find the rules\n",
    "rules = association_rules(frequent_itemsets_03, metric = 'lift', min_threshold = 1)\n",
    "rules.head()"
   ]
  },
  {
   "cell_type": "code",
   "execution_count": 93,
   "metadata": {
    "scrolled": false
   },
   "outputs": [],
   "source": [
    "frequent_itemsets_01 = apriori(basket, min_support = 0.01, use_colnames = True, low_memory = True)"
   ]
  },
  {
   "cell_type": "code",
   "execution_count": 94,
   "metadata": {},
   "outputs": [
    {
     "data": {
      "text/html": [
       "<div>\n",
       "<style scoped>\n",
       "    .dataframe tbody tr th:only-of-type {\n",
       "        vertical-align: middle;\n",
       "    }\n",
       "\n",
       "    .dataframe tbody tr th {\n",
       "        vertical-align: top;\n",
       "    }\n",
       "\n",
       "    .dataframe thead th {\n",
       "        text-align: right;\n",
       "    }\n",
       "</style>\n",
       "<table border=\"1\" class=\"dataframe\">\n",
       "  <thead>\n",
       "    <tr style=\"text-align: right;\">\n",
       "      <th></th>\n",
       "      <th>antecedents</th>\n",
       "      <th>consequents</th>\n",
       "      <th>antecedent support</th>\n",
       "      <th>consequent support</th>\n",
       "      <th>support</th>\n",
       "      <th>confidence</th>\n",
       "      <th>lift</th>\n",
       "      <th>leverage</th>\n",
       "      <th>conviction</th>\n",
       "    </tr>\n",
       "  </thead>\n",
       "  <tbody>\n",
       "    <tr>\n",
       "      <td>0</td>\n",
       "      <td>(pack of 72 retrospot cake cases)</td>\n",
       "      <td>(60 teatime fairy cake cases)</td>\n",
       "      <td>0.041967</td>\n",
       "      <td>0.025949</td>\n",
       "      <td>0.011290</td>\n",
       "      <td>0.269014</td>\n",
       "      <td>10.367153</td>\n",
       "      <td>0.010201</td>\n",
       "      <td>1.332517</td>\n",
       "    </tr>\n",
       "    <tr>\n",
       "      <td>1</td>\n",
       "      <td>(60 teatime fairy cake cases)</td>\n",
       "      <td>(pack of 72 retrospot cake cases)</td>\n",
       "      <td>0.025949</td>\n",
       "      <td>0.041967</td>\n",
       "      <td>0.011290</td>\n",
       "      <td>0.435080</td>\n",
       "      <td>10.367153</td>\n",
       "      <td>0.010201</td>\n",
       "      <td>1.695873</td>\n",
       "    </tr>\n",
       "    <tr>\n",
       "      <td>2</td>\n",
       "      <td>(alarm clock bakelike green)</td>\n",
       "      <td>(alarm clock bakelike ivory)</td>\n",
       "      <td>0.037298</td>\n",
       "      <td>0.021161</td>\n",
       "      <td>0.012531</td>\n",
       "      <td>0.335975</td>\n",
       "      <td>15.877148</td>\n",
       "      <td>0.011742</td>\n",
       "      <td>1.474099</td>\n",
       "    </tr>\n",
       "    <tr>\n",
       "      <td>3</td>\n",
       "      <td>(alarm clock bakelike ivory)</td>\n",
       "      <td>(alarm clock bakelike green)</td>\n",
       "      <td>0.021161</td>\n",
       "      <td>0.037298</td>\n",
       "      <td>0.012531</td>\n",
       "      <td>0.592179</td>\n",
       "      <td>15.877148</td>\n",
       "      <td>0.011742</td>\n",
       "      <td>2.360599</td>\n",
       "    </tr>\n",
       "    <tr>\n",
       "      <td>4</td>\n",
       "      <td>(alarm clock bakelike pink)</td>\n",
       "      <td>(alarm clock bakelike green)</td>\n",
       "      <td>0.027426</td>\n",
       "      <td>0.037298</td>\n",
       "      <td>0.014895</td>\n",
       "      <td>0.543103</td>\n",
       "      <td>14.561369</td>\n",
       "      <td>0.013872</td>\n",
       "      <td>2.107047</td>\n",
       "    </tr>\n",
       "  </tbody>\n",
       "</table>\n",
       "</div>"
      ],
      "text/plain": [
       "                         antecedents                        consequents  \\\n",
       "0  (pack of 72 retrospot cake cases)      (60 teatime fairy cake cases)   \n",
       "1      (60 teatime fairy cake cases)  (pack of 72 retrospot cake cases)   \n",
       "2       (alarm clock bakelike green)       (alarm clock bakelike ivory)   \n",
       "3       (alarm clock bakelike ivory)       (alarm clock bakelike green)   \n",
       "4        (alarm clock bakelike pink)       (alarm clock bakelike green)   \n",
       "\n",
       "   antecedent support  consequent support   support  confidence       lift  \\\n",
       "0            0.041967            0.025949  0.011290    0.269014  10.367153   \n",
       "1            0.025949            0.041967  0.011290    0.435080  10.367153   \n",
       "2            0.037298            0.021161  0.012531    0.335975  15.877148   \n",
       "3            0.021161            0.037298  0.012531    0.592179  15.877148   \n",
       "4            0.027426            0.037298  0.014895    0.543103  14.561369   \n",
       "\n",
       "   leverage  conviction  \n",
       "0  0.010201    1.332517  \n",
       "1  0.010201    1.695873  \n",
       "2  0.011742    1.474099  \n",
       "3  0.011742    2.360599  \n",
       "4  0.013872    2.107047  "
      ]
     },
     "execution_count": 94,
     "metadata": {},
     "output_type": "execute_result"
    }
   ],
   "source": [
    "rules = association_rules(frequent_itemsets_01, metric = 'lift', min_threshold = 1)\n",
    "rules.head()"
   ]
  },
  {
   "cell_type": "markdown",
   "metadata": {},
   "source": [
    "so the items that are mostly sell together are:\n",
    "* (jumbo bag red retrospot)\t& (jumbo bag pink polkadot)\n",
    "* <s>(60 teatime fairy cake cases) & (pack of 60 dinosaur cake cases)</s>\n",
    "* <s>(60 teatime fairy cake cases)\t& (pack of 60 pink paisley cake cases)</s>\n",
    "* (60 teatime fairy cake cases) & (pack of 72 retrospot cake cases)\n",
    "* (alarm clock bakelike green) & (alarm clock bakelike ivory)\n",
    "* (alarm clock bakelike green) & (alarm clock bakelike pink)\n",
    "\n",
    "so nothing out of the ordinary"
   ]
  },
  {
   "cell_type": "markdown",
   "metadata": {},
   "source": [
    "# Statistical Hypothesis Test\n",
    "* does longer description affects the item sales"
   ]
  },
  {
   "cell_type": "code",
   "execution_count": 95,
   "metadata": {
    "scrolled": true
   },
   "outputs": [
    {
     "data": {
      "text/html": [
       "<div>\n",
       "<style scoped>\n",
       "    .dataframe tbody tr th:only-of-type {\n",
       "        vertical-align: middle;\n",
       "    }\n",
       "\n",
       "    .dataframe tbody tr th {\n",
       "        vertical-align: top;\n",
       "    }\n",
       "\n",
       "    .dataframe thead th {\n",
       "        text-align: right;\n",
       "    }\n",
       "</style>\n",
       "<table border=\"1\" class=\"dataframe\">\n",
       "  <thead>\n",
       "    <tr style=\"text-align: right;\">\n",
       "      <th></th>\n",
       "      <th>stockcode</th>\n",
       "      <th>description</th>\n",
       "      <th>total_spent</th>\n",
       "      <th>purchases_num</th>\n",
       "      <th>buyers_num</th>\n",
       "      <th>unitprice</th>\n",
       "      <th>quantity_sold</th>\n",
       "    </tr>\n",
       "  </thead>\n",
       "  <tbody>\n",
       "    <tr>\n",
       "      <td>0</td>\n",
       "      <td>10002</td>\n",
       "      <td>inflatable political globe</td>\n",
       "      <td>420.26</td>\n",
       "      <td>42</td>\n",
       "      <td>30</td>\n",
       "      <td>0.85</td>\n",
       "      <td>488</td>\n",
       "    </tr>\n",
       "    <tr>\n",
       "      <td>1</td>\n",
       "      <td>10080</td>\n",
       "      <td>groovy cactus inflatable</td>\n",
       "      <td>107.78</td>\n",
       "      <td>17</td>\n",
       "      <td>15</td>\n",
       "      <td>0.85</td>\n",
       "      <td>274</td>\n",
       "    </tr>\n",
       "    <tr>\n",
       "      <td>2</td>\n",
       "      <td>10120</td>\n",
       "      <td>doggy rubber</td>\n",
       "      <td>17.01</td>\n",
       "      <td>19</td>\n",
       "      <td>16</td>\n",
       "      <td>0.21</td>\n",
       "      <td>81</td>\n",
       "    </tr>\n",
       "    <tr>\n",
       "      <td>3</td>\n",
       "      <td>10123c</td>\n",
       "      <td>hearts wrapping tape</td>\n",
       "      <td>2.60</td>\n",
       "      <td>2</td>\n",
       "      <td>2</td>\n",
       "      <td>0.65</td>\n",
       "      <td>4</td>\n",
       "    </tr>\n",
       "    <tr>\n",
       "      <td>4</td>\n",
       "      <td>10124a</td>\n",
       "      <td>spots on red bookcover tape</td>\n",
       "      <td>6.72</td>\n",
       "      <td>5</td>\n",
       "      <td>5</td>\n",
       "      <td>0.42</td>\n",
       "      <td>16</td>\n",
       "    </tr>\n",
       "  </tbody>\n",
       "</table>\n",
       "</div>"
      ],
      "text/plain": [
       "  stockcode                  description  total_spent  purchases_num  \\\n",
       "0     10002   inflatable political globe       420.26             42   \n",
       "1     10080     groovy cactus inflatable       107.78             17   \n",
       "2     10120                 doggy rubber        17.01             19   \n",
       "3    10123c         hearts wrapping tape         2.60              2   \n",
       "4    10124a  spots on red bookcover tape         6.72              5   \n",
       "\n",
       "   buyers_num  unitprice  quantity_sold  \n",
       "0          30       0.85            488  \n",
       "1          15       0.85            274  \n",
       "2          16       0.21             81  \n",
       "3           2       0.65              4  \n",
       "4           5       0.42             16  "
      ]
     },
     "execution_count": 95,
     "metadata": {},
     "output_type": "execute_result"
    },
    {
     "data": {
      "text/plain": [
       "3594"
      ]
     },
     "execution_count": 95,
     "metadata": {},
     "output_type": "execute_result"
    },
    {
     "data": {
      "text/html": [
       "<div>\n",
       "<style scoped>\n",
       "    .dataframe tbody tr th:only-of-type {\n",
       "        vertical-align: middle;\n",
       "    }\n",
       "\n",
       "    .dataframe tbody tr th {\n",
       "        vertical-align: top;\n",
       "    }\n",
       "\n",
       "    .dataframe thead th {\n",
       "        text-align: right;\n",
       "    }\n",
       "</style>\n",
       "<table border=\"1\" class=\"dataframe\">\n",
       "  <thead>\n",
       "    <tr style=\"text-align: right;\">\n",
       "      <th></th>\n",
       "      <th>stockcode</th>\n",
       "      <th>description</th>\n",
       "      <th>total_spent</th>\n",
       "      <th>purchases_num</th>\n",
       "      <th>buyers_num</th>\n",
       "      <th>unitprice</th>\n",
       "      <th>quantity_sold</th>\n",
       "      <th>total_refunded</th>\n",
       "      <th>returns_num</th>\n",
       "      <th>returners_num</th>\n",
       "      <th>quantity_returned</th>\n",
       "    </tr>\n",
       "  </thead>\n",
       "  <tbody>\n",
       "    <tr>\n",
       "      <td>0</td>\n",
       "      <td>10002</td>\n",
       "      <td>inflatable political globe</td>\n",
       "      <td>420.26</td>\n",
       "      <td>42</td>\n",
       "      <td>30</td>\n",
       "      <td>0.85</td>\n",
       "      <td>488</td>\n",
       "      <td>0.0</td>\n",
       "      <td>0.0</td>\n",
       "      <td>0.0</td>\n",
       "      <td>0.0</td>\n",
       "    </tr>\n",
       "    <tr>\n",
       "      <td>1</td>\n",
       "      <td>10080</td>\n",
       "      <td>groovy cactus inflatable</td>\n",
       "      <td>107.78</td>\n",
       "      <td>17</td>\n",
       "      <td>15</td>\n",
       "      <td>0.85</td>\n",
       "      <td>274</td>\n",
       "      <td>0.0</td>\n",
       "      <td>0.0</td>\n",
       "      <td>0.0</td>\n",
       "      <td>0.0</td>\n",
       "    </tr>\n",
       "    <tr>\n",
       "      <td>2</td>\n",
       "      <td>10120</td>\n",
       "      <td>doggy rubber</td>\n",
       "      <td>17.01</td>\n",
       "      <td>19</td>\n",
       "      <td>16</td>\n",
       "      <td>0.21</td>\n",
       "      <td>81</td>\n",
       "      <td>0.0</td>\n",
       "      <td>0.0</td>\n",
       "      <td>0.0</td>\n",
       "      <td>0.0</td>\n",
       "    </tr>\n",
       "    <tr>\n",
       "      <td>3</td>\n",
       "      <td>10123c</td>\n",
       "      <td>hearts wrapping tape</td>\n",
       "      <td>2.60</td>\n",
       "      <td>2</td>\n",
       "      <td>2</td>\n",
       "      <td>0.65</td>\n",
       "      <td>4</td>\n",
       "      <td>0.0</td>\n",
       "      <td>0.0</td>\n",
       "      <td>0.0</td>\n",
       "      <td>0.0</td>\n",
       "    </tr>\n",
       "    <tr>\n",
       "      <td>4</td>\n",
       "      <td>10124a</td>\n",
       "      <td>spots on red bookcover tape</td>\n",
       "      <td>6.72</td>\n",
       "      <td>5</td>\n",
       "      <td>5</td>\n",
       "      <td>0.42</td>\n",
       "      <td>16</td>\n",
       "      <td>0.0</td>\n",
       "      <td>0.0</td>\n",
       "      <td>0.0</td>\n",
       "      <td>0.0</td>\n",
       "    </tr>\n",
       "  </tbody>\n",
       "</table>\n",
       "</div>"
      ],
      "text/plain": [
       "  stockcode                  description  total_spent  purchases_num  \\\n",
       "0     10002   inflatable political globe       420.26             42   \n",
       "1     10080     groovy cactus inflatable       107.78             17   \n",
       "2     10120                 doggy rubber        17.01             19   \n",
       "3    10123c         hearts wrapping tape         2.60              2   \n",
       "4    10124a  spots on red bookcover tape         6.72              5   \n",
       "\n",
       "   buyers_num  unitprice  quantity_sold  total_refunded  returns_num  \\\n",
       "0          30       0.85            488             0.0          0.0   \n",
       "1          15       0.85            274             0.0          0.0   \n",
       "2          16       0.21             81             0.0          0.0   \n",
       "3           2       0.65              4             0.0          0.0   \n",
       "4           5       0.42             16             0.0          0.0   \n",
       "\n",
       "   returners_num  quantity_returned  \n",
       "0            0.0                0.0  \n",
       "1            0.0                0.0  \n",
       "2            0.0                0.0  \n",
       "3            0.0                0.0  \n",
       "4            0.0                0.0  "
      ]
     },
     "execution_count": 95,
     "metadata": {},
     "output_type": "execute_result"
    },
    {
     "data": {
      "text/plain": [
       "3594"
      ]
     },
     "execution_count": 95,
     "metadata": {},
     "output_type": "execute_result"
    },
    {
     "data": {
      "text/html": [
       "<div>\n",
       "<style scoped>\n",
       "    .dataframe tbody tr th:only-of-type {\n",
       "        vertical-align: middle;\n",
       "    }\n",
       "\n",
       "    .dataframe tbody tr th {\n",
       "        vertical-align: top;\n",
       "    }\n",
       "\n",
       "    .dataframe thead th {\n",
       "        text-align: right;\n",
       "    }\n",
       "</style>\n",
       "<table border=\"1\" class=\"dataframe\">\n",
       "  <thead>\n",
       "    <tr style=\"text-align: right;\">\n",
       "      <th></th>\n",
       "      <th>stockcode</th>\n",
       "      <th>description</th>\n",
       "      <th>unitprice</th>\n",
       "      <th>profit</th>\n",
       "      <th>item_ret_ratio</th>\n",
       "      <th>not_ret_pur</th>\n",
       "      <th>return_ratio</th>\n",
       "      <th>not_ret_uids</th>\n",
       "      <th>user_ret_ratio</th>\n",
       "    </tr>\n",
       "  </thead>\n",
       "  <tbody>\n",
       "    <tr>\n",
       "      <td>0</td>\n",
       "      <td>10002</td>\n",
       "      <td>inflatable political globe</td>\n",
       "      <td>0.85</td>\n",
       "      <td>420.26</td>\n",
       "      <td>0.0</td>\n",
       "      <td>42.0</td>\n",
       "      <td>0.0</td>\n",
       "      <td>30.0</td>\n",
       "      <td>0.0</td>\n",
       "    </tr>\n",
       "    <tr>\n",
       "      <td>1</td>\n",
       "      <td>10080</td>\n",
       "      <td>groovy cactus inflatable</td>\n",
       "      <td>0.85</td>\n",
       "      <td>107.78</td>\n",
       "      <td>0.0</td>\n",
       "      <td>17.0</td>\n",
       "      <td>0.0</td>\n",
       "      <td>15.0</td>\n",
       "      <td>0.0</td>\n",
       "    </tr>\n",
       "    <tr>\n",
       "      <td>2</td>\n",
       "      <td>10120</td>\n",
       "      <td>doggy rubber</td>\n",
       "      <td>0.21</td>\n",
       "      <td>17.01</td>\n",
       "      <td>0.0</td>\n",
       "      <td>19.0</td>\n",
       "      <td>0.0</td>\n",
       "      <td>16.0</td>\n",
       "      <td>0.0</td>\n",
       "    </tr>\n",
       "    <tr>\n",
       "      <td>3</td>\n",
       "      <td>10123c</td>\n",
       "      <td>hearts wrapping tape</td>\n",
       "      <td>0.65</td>\n",
       "      <td>2.60</td>\n",
       "      <td>0.0</td>\n",
       "      <td>2.0</td>\n",
       "      <td>0.0</td>\n",
       "      <td>2.0</td>\n",
       "      <td>0.0</td>\n",
       "    </tr>\n",
       "    <tr>\n",
       "      <td>4</td>\n",
       "      <td>10124a</td>\n",
       "      <td>spots on red bookcover tape</td>\n",
       "      <td>0.42</td>\n",
       "      <td>6.72</td>\n",
       "      <td>0.0</td>\n",
       "      <td>5.0</td>\n",
       "      <td>0.0</td>\n",
       "      <td>5.0</td>\n",
       "      <td>0.0</td>\n",
       "    </tr>\n",
       "  </tbody>\n",
       "</table>\n",
       "</div>"
      ],
      "text/plain": [
       "  stockcode                  description  unitprice  profit  item_ret_ratio  \\\n",
       "0     10002   inflatable political globe       0.85  420.26             0.0   \n",
       "1     10080     groovy cactus inflatable       0.85  107.78             0.0   \n",
       "2     10120                 doggy rubber       0.21   17.01             0.0   \n",
       "3    10123c         hearts wrapping tape       0.65    2.60             0.0   \n",
       "4    10124a  spots on red bookcover tape       0.42    6.72             0.0   \n",
       "\n",
       "   not_ret_pur  return_ratio  not_ret_uids  user_ret_ratio  \n",
       "0         42.0           0.0          30.0             0.0  \n",
       "1         17.0           0.0          15.0             0.0  \n",
       "2         19.0           0.0          16.0             0.0  \n",
       "3          2.0           0.0           2.0             0.0  \n",
       "4          5.0           0.0           5.0             0.0  "
      ]
     },
     "execution_count": 95,
     "metadata": {},
     "output_type": "execute_result"
    },
    {
     "data": {
      "text/plain": [
       "3594"
      ]
     },
     "execution_count": 95,
     "metadata": {},
     "output_type": "execute_result"
    }
   ],
   "source": [
    "pur_p_sc.head()\n",
    "pur_p_sc.shape[0]\n",
    "all_p_sc.head()\n",
    "all_p_sc.shape[0]\n",
    "final_p_sc.head()\n",
    "final_p_sc.shape[0]"
   ]
  },
  {
   "cell_type": "markdown",
   "metadata": {},
   "source": [
    "first ill make a desc_len column"
   ]
  },
  {
   "cell_type": "code",
   "execution_count": 96,
   "metadata": {
    "scrolled": false
   },
   "outputs": [
    {
     "name": "stderr",
     "output_type": "stream",
     "text": [
      "/opt/conda/lib/python3.7/site-packages/ipykernel_launcher.py:2: SettingWithCopyWarning: \n",
      "A value is trying to be set on a copy of a slice from a DataFrame.\n",
      "Try using .loc[row_indexer,col_indexer] = value instead\n",
      "\n",
      "See the caveats in the documentation: http://pandas.pydata.org/pandas-docs/stable/user_guide/indexing.html#returning-a-view-versus-a-copy\n",
      "  \n"
     ]
    },
    {
     "data": {
      "text/html": [
       "<div>\n",
       "<style scoped>\n",
       "    .dataframe tbody tr th:only-of-type {\n",
       "        vertical-align: middle;\n",
       "    }\n",
       "\n",
       "    .dataframe tbody tr th {\n",
       "        vertical-align: top;\n",
       "    }\n",
       "\n",
       "    .dataframe thead th {\n",
       "        text-align: right;\n",
       "    }\n",
       "</style>\n",
       "<table border=\"1\" class=\"dataframe\">\n",
       "  <thead>\n",
       "    <tr style=\"text-align: right;\">\n",
       "      <th></th>\n",
       "      <th>total_spent</th>\n",
       "      <th>purchases_num</th>\n",
       "      <th>buyers_num</th>\n",
       "      <th>unitprice</th>\n",
       "      <th>quantity_sold</th>\n",
       "      <th>total_refunded</th>\n",
       "      <th>returns_num</th>\n",
       "      <th>returners_num</th>\n",
       "      <th>quantity_returned</th>\n",
       "      <th>desc_len</th>\n",
       "    </tr>\n",
       "  </thead>\n",
       "  <tbody>\n",
       "    <tr>\n",
       "      <td>desc_len</td>\n",
       "      <td>-0.050179</td>\n",
       "      <td>-0.048173</td>\n",
       "      <td>-0.042066</td>\n",
       "      <td>0.018621</td>\n",
       "      <td>-0.045532</td>\n",
       "      <td>0.00922</td>\n",
       "      <td>0.009875</td>\n",
       "      <td>0.002462</td>\n",
       "      <td>0.011096</td>\n",
       "      <td>1.0</td>\n",
       "    </tr>\n",
       "  </tbody>\n",
       "</table>\n",
       "</div>"
      ],
      "text/plain": [
       "          total_spent  purchases_num  buyers_num  unitprice  quantity_sold  \\\n",
       "desc_len    -0.050179      -0.048173   -0.042066   0.018621      -0.045532   \n",
       "\n",
       "          total_refunded  returns_num  returners_num  quantity_returned  \\\n",
       "desc_len         0.00922     0.009875       0.002462           0.011096   \n",
       "\n",
       "          desc_len  \n",
       "desc_len       1.0  "
      ]
     },
     "execution_count": 96,
     "metadata": {},
     "output_type": "execute_result"
    },
    {
     "data": {
      "text/html": [
       "<div>\n",
       "<style scoped>\n",
       "    .dataframe tbody tr th:only-of-type {\n",
       "        vertical-align: middle;\n",
       "    }\n",
       "\n",
       "    .dataframe tbody tr th {\n",
       "        vertical-align: top;\n",
       "    }\n",
       "\n",
       "    .dataframe thead th {\n",
       "        text-align: right;\n",
       "    }\n",
       "</style>\n",
       "<table border=\"1\" class=\"dataframe\">\n",
       "  <thead>\n",
       "    <tr style=\"text-align: right;\">\n",
       "      <th></th>\n",
       "      <th>unitprice</th>\n",
       "      <th>profit</th>\n",
       "      <th>item_ret_ratio</th>\n",
       "      <th>not_ret_pur</th>\n",
       "      <th>return_ratio</th>\n",
       "      <th>not_ret_uids</th>\n",
       "      <th>user_ret_ratio</th>\n",
       "      <th>desc_len</th>\n",
       "    </tr>\n",
       "  </thead>\n",
       "  <tbody>\n",
       "    <tr>\n",
       "      <td>desc_len</td>\n",
       "      <td>0.018621</td>\n",
       "      <td>-0.050263</td>\n",
       "      <td>0.008789</td>\n",
       "      <td>-0.048211</td>\n",
       "      <td>0.007275</td>\n",
       "      <td>-0.042078</td>\n",
       "      <td>0.008838</td>\n",
       "      <td>1.0</td>\n",
       "    </tr>\n",
       "  </tbody>\n",
       "</table>\n",
       "</div>"
      ],
      "text/plain": [
       "          unitprice    profit  item_ret_ratio  not_ret_pur  return_ratio  \\\n",
       "desc_len   0.018621 -0.050263        0.008789    -0.048211      0.007275   \n",
       "\n",
       "          not_ret_uids  user_ret_ratio  desc_len  \n",
       "desc_len     -0.042078        0.008838       1.0  "
      ]
     },
     "execution_count": 96,
     "metadata": {},
     "output_type": "execute_result"
    }
   ],
   "source": [
    "all_p_sc['desc_len'] = all_p_sc['description'].str.len()\n",
    "final_p_sc['desc_len'] = final_p_sc['description'].str.len()\n",
    "# looking at the corr of desc_len to all the other metrics\n",
    "all_p_sc.corr().tail(1)#['desc_len']\n",
    "final_p_sc.corr().tail(1)#['desc_len']"
   ]
  },
  {
   "cell_type": "markdown",
   "metadata": {},
   "source": [
    "the highest correlation for desc length is profit, (but its very small, so there is no significant correlation) so ill do the test for it"
   ]
  },
  {
   "cell_type": "markdown",
   "metadata": {},
   "source": [
    "**Testing the hypothesis: \"The average profit of items with long description is different than the items with short description.\"**"
   ]
  },
  {
   "cell_type": "markdown",
   "metadata": {},
   "source": [
    "now lets define what is and isnt a long description"
   ]
  },
  {
   "cell_type": "code",
   "execution_count": 97,
   "metadata": {},
   "outputs": [
    {
     "data": {
      "text/plain": [
       "count    3594.000000\n",
       "mean       26.873957\n",
       "std         5.167764\n",
       "min         7.000000\n",
       "25%        24.000000\n",
       "50%        28.000000\n",
       "75%        31.000000\n",
       "max        35.000000\n",
       "Name: desc_len, dtype: float64"
      ]
     },
     "execution_count": 97,
     "metadata": {},
     "output_type": "execute_result"
    },
    {
     "data": {
      "text/plain": [
       "26.87395659432387"
      ]
     },
     "execution_count": 97,
     "metadata": {},
     "output_type": "execute_result"
    },
    {
     "data": {
      "text/plain": [
       "27.436978297161936"
      ]
     },
     "execution_count": 97,
     "metadata": {},
     "output_type": "execute_result"
    }
   ],
   "source": [
    "final_p_sc['desc_len'].describe()\n",
    "final_p_sc['desc_len'].mean()\n",
    "(final_p_sc['desc_len'].mean() + final_p_sc['desc_len'].median()) / 2"
   ]
  },
  {
   "cell_type": "markdown",
   "metadata": {},
   "source": [
    "lets say that 27 and below is short desc, and 28 and above is long desc"
   ]
  },
  {
   "cell_type": "code",
   "execution_count": 98,
   "metadata": {},
   "outputs": [
    {
     "data": {
      "text/plain": [
       "1800"
      ]
     },
     "execution_count": 98,
     "metadata": {},
     "output_type": "execute_result"
    },
    {
     "data": {
      "text/plain": [
       "1794"
      ]
     },
     "execution_count": 98,
     "metadata": {},
     "output_type": "execute_result"
    }
   ],
   "source": [
    "# creating tables for long and short desc\n",
    "long_desc = final_p_sc[final_p_sc['desc_len'] > 27]\n",
    "short_desc = final_p_sc[final_p_sc['desc_len'] < 28]\n",
    "long_desc.shape[0]\n",
    "short_desc.shape[0]"
   ]
  },
  {
   "cell_type": "code",
   "execution_count": 99,
   "metadata": {},
   "outputs": [
    {
     "data": {
      "text/plain": [
       "('long_desc profit var:', 7873238.398498221)"
      ]
     },
     "execution_count": 99,
     "metadata": {},
     "output_type": "execute_result"
    },
    {
     "data": {
      "text/plain": [
       "('short_desc profit var', 13244060.25246865)"
      ]
     },
     "execution_count": 99,
     "metadata": {},
     "output_type": "execute_result"
    }
   ],
   "source": [
    "# creating series of profit for long and short desc\n",
    "long_desc_profit = long_desc['profit']\n",
    "short_desc_profit = short_desc['profit']\n",
    "\n",
    "# calculating the mean for each\n",
    "l_desc_p_mean = long_desc_profit.mean()\n",
    "s_desc_p_mean = short_desc_profit.mean()\n",
    "\n",
    "# now ill check if the var is equal\n",
    "'long_desc profit var:',np.var(long_desc_profit)\n",
    "'short_desc profit var',np.var(short_desc_profit)"
   ]
  },
  {
   "cell_type": "markdown",
   "metadata": {},
   "source": [
    "To test this hypothesis first we need to define H0 and H1.\n",
    "* H0: Mean(long_desc) == Mean(short_desc)\n",
    "* H1: Mean(long_desc) != Mean(short_desc)\n",
    "* To test it, we'll apply the method scipy.stats.ttest_ind (array1, array2, equal_var). <br>\n",
    "equal_var = False  because the variance of the samples is different.\n",
    "\n",
    "alpha = 5% by convention."
   ]
  },
  {
   "cell_type": "code",
   "execution_count": 100,
   "metadata": {
    "scrolled": true
   },
   "outputs": [
    {
     "name": "stdout",
     "output_type": "stream",
     "text": [
      "p-value:  0.004889326556551269\n",
      "We reject the null hypothesis, the average profit of long_desc is different than the items with short_desc.\n",
      "short_desc profit is higher than long_desc profit on average.\n"
     ]
    }
   ],
   "source": [
    "alpha = 0.05  # critical statistical significance level\n",
    "# if the p-value is less than alpha, we reject the hypothesis\n",
    "\n",
    "results = st.ttest_ind(long_desc_profit, short_desc_profit, equal_var = False, nan_policy = 'omit')\n",
    "\n",
    "print('p-value: ', results.pvalue)\n",
    "\n",
    "if results.pvalue < alpha:\n",
    "    print(\"We reject the null hypothesis, the average profit of long_desc is different than the items with short_desc.\")\n",
    "    if l_desc_p_mean > s_desc_p_mean:\n",
    "        print('long_desc profit is higher than short_desc profit on average.')\n",
    "    else:\n",
    "        print('short_desc profit is higher than long_desc profit on average.')\n",
    "else:\n",
    "    print(\"We can't reject the null hypothesis, the average profit of long_desc and short description can be the same.\")"
   ]
  },
  {
   "cell_type": "markdown",
   "metadata": {},
   "source": [
    "# Conclusion"
   ]
  },
  {
   "cell_type": "markdown",
   "metadata": {},
   "source": [
    "Based on the data and the analysis i did there are 3 points i arrived at:\n",
    "* Best remove all the items in the bad_sc list and double down on the top_sc list\n",
    "* Make reccomendations to buy other cake cases when there is a purchase of a cake case\n",
    "* There is no significant correlation between the desc length and any sale metric, but the highest is to profit, and from conducting a statistical test, its better to shorten the descriptions"
   ]
  },
  {
   "cell_type": "raw",
   "metadata": {},
   "source": [
    "final_p_sc.to_csv('final_p_sc.csv', index=False)"
   ]
  },
  {
   "cell_type": "markdown",
   "metadata": {},
   "source": [
    "Tableau dashboard: <br>\n",
    "https://public.tableau.com/views/TopItemsByProfit/EcommerceProductRange?:language=en-US&:display_count=n&:origin=viz_share_link"
   ]
  },
  {
   "cell_type": "markdown",
   "metadata": {},
   "source": [
    "PDF Presentation: <br>\n",
    "https://files.trom.tf/s/No4WtYtdHSTmn5y"
   ]
  }
 ],
 "metadata": {
  "ExecuteTimeLog": [
   {
    "duration": 1537,
    "start_time": "2022-02-10T19:26:01.283Z"
   },
   {
    "duration": -599,
    "start_time": "2022-02-10T19:26:03.426Z"
   },
   {
    "duration": -606,
    "start_time": "2022-02-10T19:26:03.434Z"
   },
   {
    "duration": -614,
    "start_time": "2022-02-10T19:26:03.444Z"
   },
   {
    "duration": -625,
    "start_time": "2022-02-10T19:26:03.456Z"
   },
   {
    "duration": -631,
    "start_time": "2022-02-10T19:26:03.463Z"
   },
   {
    "duration": -635,
    "start_time": "2022-02-10T19:26:03.469Z"
   },
   {
    "duration": -642,
    "start_time": "2022-02-10T19:26:03.477Z"
   },
   {
    "duration": -647,
    "start_time": "2022-02-10T19:26:03.483Z"
   },
   {
    "duration": -651,
    "start_time": "2022-02-10T19:26:03.489Z"
   },
   {
    "duration": -655,
    "start_time": "2022-02-10T19:26:03.494Z"
   },
   {
    "duration": -661,
    "start_time": "2022-02-10T19:26:03.502Z"
   },
   {
    "duration": -665,
    "start_time": "2022-02-10T19:26:03.507Z"
   },
   {
    "duration": -670,
    "start_time": "2022-02-10T19:26:03.513Z"
   },
   {
    "duration": -675,
    "start_time": "2022-02-10T19:26:03.519Z"
   },
   {
    "duration": -679,
    "start_time": "2022-02-10T19:26:03.524Z"
   },
   {
    "duration": -683,
    "start_time": "2022-02-10T19:26:03.530Z"
   },
   {
    "duration": -687,
    "start_time": "2022-02-10T19:26:03.535Z"
   },
   {
    "duration": -692,
    "start_time": "2022-02-10T19:26:03.541Z"
   },
   {
    "duration": -696,
    "start_time": "2022-02-10T19:26:03.546Z"
   },
   {
    "duration": -701,
    "start_time": "2022-02-10T19:26:03.552Z"
   },
   {
    "duration": -705,
    "start_time": "2022-02-10T19:26:03.558Z"
   },
   {
    "duration": -710,
    "start_time": "2022-02-10T19:26:03.564Z"
   },
   {
    "duration": -715,
    "start_time": "2022-02-10T19:26:03.570Z"
   },
   {
    "duration": -719,
    "start_time": "2022-02-10T19:26:03.576Z"
   },
   {
    "duration": -790,
    "start_time": "2022-02-10T19:26:03.648Z"
   },
   {
    "duration": -794,
    "start_time": "2022-02-10T19:26:03.653Z"
   },
   {
    "duration": -799,
    "start_time": "2022-02-10T19:26:03.659Z"
   },
   {
    "duration": -803,
    "start_time": "2022-02-10T19:26:03.664Z"
   },
   {
    "duration": -807,
    "start_time": "2022-02-10T19:26:03.669Z"
   },
   {
    "duration": -803,
    "start_time": "2022-02-10T19:26:03.674Z"
   },
   {
    "duration": -807,
    "start_time": "2022-02-10T19:26:03.680Z"
   },
   {
    "duration": -812,
    "start_time": "2022-02-10T19:26:03.686Z"
   },
   {
    "duration": -815,
    "start_time": "2022-02-10T19:26:03.691Z"
   },
   {
    "duration": -819,
    "start_time": "2022-02-10T19:26:03.696Z"
   },
   {
    "duration": -823,
    "start_time": "2022-02-10T19:26:03.701Z"
   },
   {
    "duration": -827,
    "start_time": "2022-02-10T19:26:03.706Z"
   },
   {
    "duration": -831,
    "start_time": "2022-02-10T19:26:03.712Z"
   },
   {
    "duration": -835,
    "start_time": "2022-02-10T19:26:03.717Z"
   },
   {
    "duration": -839,
    "start_time": "2022-02-10T19:26:03.722Z"
   },
   {
    "duration": -843,
    "start_time": "2022-02-10T19:26:03.727Z"
   },
   {
    "duration": -847,
    "start_time": "2022-02-10T19:26:03.733Z"
   },
   {
    "duration": -850,
    "start_time": "2022-02-10T19:26:03.737Z"
   },
   {
    "duration": -854,
    "start_time": "2022-02-10T19:26:03.742Z"
   },
   {
    "duration": -859,
    "start_time": "2022-02-10T19:26:03.748Z"
   },
   {
    "duration": -862,
    "start_time": "2022-02-10T19:26:03.753Z"
   },
   {
    "duration": -867,
    "start_time": "2022-02-10T19:26:03.759Z"
   },
   {
    "duration": -872,
    "start_time": "2022-02-10T19:26:03.765Z"
   },
   {
    "duration": -876,
    "start_time": "2022-02-10T19:26:03.770Z"
   },
   {
    "duration": -882,
    "start_time": "2022-02-10T19:26:03.777Z"
   },
   {
    "duration": -914,
    "start_time": "2022-02-10T19:26:03.811Z"
   },
   {
    "duration": -922,
    "start_time": "2022-02-10T19:26:03.820Z"
   },
   {
    "duration": -925,
    "start_time": "2022-02-10T19:26:03.825Z"
   },
   {
    "duration": -930,
    "start_time": "2022-02-10T19:26:03.831Z"
   },
   {
    "duration": -935,
    "start_time": "2022-02-10T19:26:03.837Z"
   },
   {
    "duration": -940,
    "start_time": "2022-02-10T19:26:03.844Z"
   },
   {
    "duration": -945,
    "start_time": "2022-02-10T19:26:03.850Z"
   },
   {
    "duration": -952,
    "start_time": "2022-02-10T19:26:03.858Z"
   },
   {
    "duration": -956,
    "start_time": "2022-02-10T19:26:03.863Z"
   },
   {
    "duration": -899,
    "start_time": "2022-02-10T19:26:03.869Z"
   },
   {
    "duration": -905,
    "start_time": "2022-02-10T19:26:03.876Z"
   },
   {
    "duration": -908,
    "start_time": "2022-02-10T19:26:03.881Z"
   },
   {
    "duration": -913,
    "start_time": "2022-02-10T19:26:03.887Z"
   },
   {
    "duration": -917,
    "start_time": "2022-02-10T19:26:03.893Z"
   },
   {
    "duration": -925,
    "start_time": "2022-02-10T19:26:03.902Z"
   },
   {
    "duration": -929,
    "start_time": "2022-02-10T19:26:03.908Z"
   },
   {
    "duration": -935,
    "start_time": "2022-02-10T19:26:03.915Z"
   },
   {
    "duration": -961,
    "start_time": "2022-02-10T19:26:03.943Z"
   },
   {
    "duration": -966,
    "start_time": "2022-02-10T19:26:03.950Z"
   },
   {
    "duration": -970,
    "start_time": "2022-02-10T19:26:03.958Z"
   },
   {
    "duration": -977,
    "start_time": "2022-02-10T19:26:03.966Z"
   },
   {
    "duration": -985,
    "start_time": "2022-02-10T19:26:03.975Z"
   },
   {
    "duration": -990,
    "start_time": "2022-02-10T19:26:03.982Z"
   },
   {
    "duration": -996,
    "start_time": "2022-02-10T19:26:03.989Z"
   },
   {
    "duration": -1001,
    "start_time": "2022-02-10T19:26:03.995Z"
   },
   {
    "duration": -1006,
    "start_time": "2022-02-10T19:26:04.001Z"
   },
   {
    "duration": -1016,
    "start_time": "2022-02-10T19:26:04.013Z"
   },
   {
    "duration": -1022,
    "start_time": "2022-02-10T19:26:04.020Z"
   },
   {
    "duration": -1029,
    "start_time": "2022-02-10T19:26:04.028Z"
   },
   {
    "duration": -1035,
    "start_time": "2022-02-10T19:26:04.035Z"
   },
   {
    "duration": -1042,
    "start_time": "2022-02-10T19:26:04.043Z"
   },
   {
    "duration": -1047,
    "start_time": "2022-02-10T19:26:04.050Z"
   },
   {
    "duration": -1136,
    "start_time": "2022-02-10T19:26:04.140Z"
   },
   {
    "duration": -1143,
    "start_time": "2022-02-10T19:26:04.148Z"
   },
   {
    "duration": -1148,
    "start_time": "2022-02-10T19:26:04.154Z"
   },
   {
    "duration": -1092,
    "start_time": "2022-02-10T19:26:04.162Z"
   },
   {
    "duration": 343,
    "start_time": "2022-02-10T19:26:03.075Z"
   },
   {
    "duration": -2606,
    "start_time": "2022-02-10T19:26:06.027Z"
   },
   {
    "duration": -2611,
    "start_time": "2022-02-10T19:26:06.033Z"
   },
   {
    "duration": -2615,
    "start_time": "2022-02-10T19:26:06.039Z"
   },
   {
    "duration": -2618,
    "start_time": "2022-02-10T19:26:06.044Z"
   },
   {
    "duration": -2622,
    "start_time": "2022-02-10T19:26:06.049Z"
   },
   {
    "duration": -2626,
    "start_time": "2022-02-10T19:26:06.055Z"
   },
   {
    "duration": 791,
    "start_time": "2022-02-10T19:42:22.197Z"
   },
   {
    "duration": 27356,
    "start_time": "2022-02-10T19:43:15.384Z"
   },
   {
    "duration": 562,
    "start_time": "2022-02-10T19:44:48.553Z"
   },
   {
    "duration": 349,
    "start_time": "2022-02-10T19:44:56.499Z"
   },
   {
    "duration": 68272,
    "start_time": "2022-02-10T19:45:22.248Z"
   },
   {
    "duration": 345,
    "start_time": "2022-02-10T19:46:38.457Z"
   },
   {
    "duration": 54023,
    "start_time": "2022-02-10T19:47:09.689Z"
   },
   {
    "duration": 376,
    "start_time": "2022-02-10T19:48:16.406Z"
   },
   {
    "duration": 54336,
    "start_time": "2022-02-10T19:48:21.472Z"
   },
   {
    "duration": 275533,
    "start_time": "2022-02-10T19:50:05.044Z"
   },
   {
    "duration": 66609,
    "start_time": "2022-02-10T19:54:57.007Z"
   },
   {
    "duration": 2270,
    "start_time": "2022-02-10T19:56:04.286Z"
   },
   {
    "duration": 62758,
    "start_time": "2022-02-10T19:56:26.911Z"
   },
   {
    "duration": 19569,
    "start_time": "2022-02-11T04:21:09.709Z"
   },
   {
    "duration": 429,
    "start_time": "2022-02-11T04:21:29.281Z"
   },
   {
    "duration": 83282,
    "start_time": "2022-02-11T04:21:42.687Z"
   },
   {
    "duration": 73457,
    "start_time": "2022-02-11T04:23:05.973Z"
   },
   {
    "duration": 74506,
    "start_time": "2022-02-11T04:24:19.433Z"
   },
   {
    "duration": 149,
    "start_time": "2022-02-11T04:25:33.942Z"
   },
   {
    "duration": 10228,
    "start_time": "2022-02-11T04:27:44.904Z"
   },
   {
    "duration": 4164,
    "start_time": "2022-02-11T04:27:59.931Z"
   },
   {
    "duration": 61313,
    "start_time": "2022-02-11T04:28:04.098Z"
   },
   {
    "duration": 49,
    "start_time": "2022-02-11T04:29:05.414Z"
   },
   {
    "duration": 358,
    "start_time": "2022-02-11T04:29:05.466Z"
   },
   {
    "duration": -115,
    "start_time": "2022-02-11T04:29:05.946Z"
   },
   {
    "duration": -120,
    "start_time": "2022-02-11T04:29:05.953Z"
   },
   {
    "duration": -126,
    "start_time": "2022-02-11T04:29:05.960Z"
   },
   {
    "duration": -131,
    "start_time": "2022-02-11T04:29:05.966Z"
   },
   {
    "duration": -136,
    "start_time": "2022-02-11T04:29:05.973Z"
   },
   {
    "duration": -143,
    "start_time": "2022-02-11T04:29:05.981Z"
   },
   {
    "duration": -149,
    "start_time": "2022-02-11T04:29:05.988Z"
   },
   {
    "duration": -153,
    "start_time": "2022-02-11T04:29:05.994Z"
   },
   {
    "duration": -159,
    "start_time": "2022-02-11T04:29:06.001Z"
   },
   {
    "duration": -165,
    "start_time": "2022-02-11T04:29:06.008Z"
   },
   {
    "duration": -170,
    "start_time": "2022-02-11T04:29:06.015Z"
   },
   {
    "duration": -175,
    "start_time": "2022-02-11T04:29:06.021Z"
   },
   {
    "duration": -181,
    "start_time": "2022-02-11T04:29:06.028Z"
   },
   {
    "duration": -185,
    "start_time": "2022-02-11T04:29:06.034Z"
   },
   {
    "duration": -181,
    "start_time": "2022-02-11T04:29:06.041Z"
   },
   {
    "duration": -195,
    "start_time": "2022-02-11T04:29:06.056Z"
   },
   {
    "duration": -200,
    "start_time": "2022-02-11T04:29:06.063Z"
   },
   {
    "duration": -205,
    "start_time": "2022-02-11T04:29:06.069Z"
   },
   {
    "duration": -211,
    "start_time": "2022-02-11T04:29:06.077Z"
   },
   {
    "duration": -217,
    "start_time": "2022-02-11T04:29:06.084Z"
   },
   {
    "duration": -222,
    "start_time": "2022-02-11T04:29:06.091Z"
   },
   {
    "duration": -228,
    "start_time": "2022-02-11T04:29:06.098Z"
   },
   {
    "duration": -234,
    "start_time": "2022-02-11T04:29:06.105Z"
   },
   {
    "duration": -238,
    "start_time": "2022-02-11T04:29:06.111Z"
   },
   {
    "duration": -244,
    "start_time": "2022-02-11T04:29:06.118Z"
   },
   {
    "duration": -253,
    "start_time": "2022-02-11T04:29:06.128Z"
   },
   {
    "duration": -258,
    "start_time": "2022-02-11T04:29:06.135Z"
   },
   {
    "duration": -263,
    "start_time": "2022-02-11T04:29:06.141Z"
   },
   {
    "duration": -268,
    "start_time": "2022-02-11T04:29:06.148Z"
   },
   {
    "duration": -273,
    "start_time": "2022-02-11T04:29:06.154Z"
   },
   {
    "duration": -279,
    "start_time": "2022-02-11T04:29:06.161Z"
   },
   {
    "duration": -284,
    "start_time": "2022-02-11T04:29:06.168Z"
   },
   {
    "duration": -288,
    "start_time": "2022-02-11T04:29:06.175Z"
   },
   {
    "duration": -292,
    "start_time": "2022-02-11T04:29:06.181Z"
   },
   {
    "duration": -298,
    "start_time": "2022-02-11T04:29:06.188Z"
   },
   {
    "duration": -304,
    "start_time": "2022-02-11T04:29:06.195Z"
   },
   {
    "duration": -310,
    "start_time": "2022-02-11T04:29:06.203Z"
   },
   {
    "duration": -316,
    "start_time": "2022-02-11T04:29:06.210Z"
   },
   {
    "duration": -321,
    "start_time": "2022-02-11T04:29:06.217Z"
   },
   {
    "duration": -327,
    "start_time": "2022-02-11T04:29:06.224Z"
   },
   {
    "duration": -333,
    "start_time": "2022-02-11T04:29:06.231Z"
   },
   {
    "duration": -278,
    "start_time": "2022-02-11T04:29:06.238Z"
   },
   {
    "duration": -284,
    "start_time": "2022-02-11T04:29:06.245Z"
   },
   {
    "duration": -289,
    "start_time": "2022-02-11T04:29:06.252Z"
   },
   {
    "duration": -295,
    "start_time": "2022-02-11T04:29:06.259Z"
   },
   {
    "duration": -300,
    "start_time": "2022-02-11T04:29:06.265Z"
   },
   {
    "duration": -307,
    "start_time": "2022-02-11T04:29:06.273Z"
   },
   {
    "duration": -311,
    "start_time": "2022-02-11T04:29:06.279Z"
   },
   {
    "duration": -317,
    "start_time": "2022-02-11T04:29:06.286Z"
   },
   {
    "duration": -323,
    "start_time": "2022-02-11T04:29:06.293Z"
   },
   {
    "duration": -329,
    "start_time": "2022-02-11T04:29:06.300Z"
   },
   {
    "duration": -335,
    "start_time": "2022-02-11T04:29:06.307Z"
   },
   {
    "duration": -340,
    "start_time": "2022-02-11T04:29:06.314Z"
   },
   {
    "duration": -346,
    "start_time": "2022-02-11T04:29:06.321Z"
   },
   {
    "duration": -352,
    "start_time": "2022-02-11T04:29:06.328Z"
   },
   {
    "duration": -356,
    "start_time": "2022-02-11T04:29:06.334Z"
   },
   {
    "duration": -363,
    "start_time": "2022-02-11T04:29:06.342Z"
   },
   {
    "duration": -368,
    "start_time": "2022-02-11T04:29:06.349Z"
   },
   {
    "duration": -374,
    "start_time": "2022-02-11T04:29:06.356Z"
   },
   {
    "duration": -379,
    "start_time": "2022-02-11T04:29:06.363Z"
   },
   {
    "duration": -385,
    "start_time": "2022-02-11T04:29:06.370Z"
   },
   {
    "duration": -389,
    "start_time": "2022-02-11T04:29:06.376Z"
   },
   {
    "duration": -395,
    "start_time": "2022-02-11T04:29:06.383Z"
   },
   {
    "duration": -399,
    "start_time": "2022-02-11T04:29:06.389Z"
   },
   {
    "duration": -405,
    "start_time": "2022-02-11T04:29:06.396Z"
   },
   {
    "duration": -410,
    "start_time": "2022-02-11T04:29:06.402Z"
   },
   {
    "duration": -415,
    "start_time": "2022-02-11T04:29:06.409Z"
   },
   {
    "duration": -354,
    "start_time": "2022-02-11T04:29:06.414Z"
   },
   {
    "duration": -359,
    "start_time": "2022-02-11T04:29:06.421Z"
   },
   {
    "duration": -363,
    "start_time": "2022-02-11T04:29:06.427Z"
   },
   {
    "duration": -369,
    "start_time": "2022-02-11T04:29:06.434Z"
   },
   {
    "duration": -372,
    "start_time": "2022-02-11T04:29:06.439Z"
   },
   {
    "duration": -378,
    "start_time": "2022-02-11T04:29:06.446Z"
   },
   {
    "duration": -383,
    "start_time": "2022-02-11T04:29:06.452Z"
   },
   {
    "duration": -388,
    "start_time": "2022-02-11T04:29:06.459Z"
   },
   {
    "duration": -391,
    "start_time": "2022-02-11T04:29:06.464Z"
   },
   {
    "duration": -397,
    "start_time": "2022-02-11T04:29:06.471Z"
   },
   {
    "duration": -402,
    "start_time": "2022-02-11T04:29:06.477Z"
   },
   {
    "duration": -407,
    "start_time": "2022-02-11T04:29:06.483Z"
   },
   {
    "duration": -411,
    "start_time": "2022-02-11T04:29:06.489Z"
   },
   {
    "duration": -417,
    "start_time": "2022-02-11T04:29:06.496Z"
   },
   {
    "duration": -422,
    "start_time": "2022-02-11T04:29:06.502Z"
   },
   {
    "duration": -427,
    "start_time": "2022-02-11T04:29:06.508Z"
   },
   {
    "duration": -432,
    "start_time": "2022-02-11T04:29:06.514Z"
   },
   {
    "duration": -437,
    "start_time": "2022-02-11T04:29:06.521Z"
   },
   {
    "duration": -442,
    "start_time": "2022-02-11T04:29:06.527Z"
   },
   {
    "duration": -448,
    "start_time": "2022-02-11T04:29:06.534Z"
   },
   {
    "duration": -452,
    "start_time": "2022-02-11T04:29:06.540Z"
   },
   {
    "duration": 637,
    "start_time": "2022-02-11T04:29:46.089Z"
   },
   {
    "duration": 42,
    "start_time": "2022-02-11T04:29:52.081Z"
   },
   {
    "duration": 596,
    "start_time": "2022-02-11T04:29:52.126Z"
   },
   {
    "duration": 814,
    "start_time": "2022-02-11T04:29:52.725Z"
   },
   {
    "duration": 61,
    "start_time": "2022-02-11T04:29:53.541Z"
   },
   {
    "duration": 81,
    "start_time": "2022-02-11T04:29:53.605Z"
   },
   {
    "duration": 106,
    "start_time": "2022-02-11T04:29:53.688Z"
   },
   {
    "duration": 527,
    "start_time": "2022-02-11T04:29:53.796Z"
   },
   {
    "duration": 464,
    "start_time": "2022-02-11T04:29:54.327Z"
   },
   {
    "duration": 478,
    "start_time": "2022-02-11T04:29:54.794Z"
   },
   {
    "duration": 59,
    "start_time": "2022-02-11T04:29:55.275Z"
   },
   {
    "duration": 211,
    "start_time": "2022-02-11T04:29:55.336Z"
   },
   {
    "duration": 4556,
    "start_time": "2022-02-11T04:29:55.549Z"
   },
   {
    "duration": 1289,
    "start_time": "2022-02-11T04:30:00.107Z"
   },
   {
    "duration": 29,
    "start_time": "2022-02-11T04:30:01.399Z"
   },
   {
    "duration": 49,
    "start_time": "2022-02-11T04:30:01.431Z"
   },
   {
    "duration": 246,
    "start_time": "2022-02-11T04:30:01.482Z"
   },
   {
    "duration": 37,
    "start_time": "2022-02-11T04:30:01.730Z"
   },
   {
    "duration": 231,
    "start_time": "2022-02-11T04:30:01.769Z"
   },
   {
    "duration": 190,
    "start_time": "2022-02-11T04:30:02.002Z"
   },
   {
    "duration": 293,
    "start_time": "2022-02-11T04:30:02.194Z"
   },
   {
    "duration": 275,
    "start_time": "2022-02-11T04:30:02.489Z"
   },
   {
    "duration": 128,
    "start_time": "2022-02-11T04:30:02.767Z"
   },
   {
    "duration": 67,
    "start_time": "2022-02-11T04:30:02.901Z"
   },
   {
    "duration": 187,
    "start_time": "2022-02-11T04:30:02.973Z"
   },
   {
    "duration": 14,
    "start_time": "2022-02-11T04:30:03.163Z"
   },
   {
    "duration": 24,
    "start_time": "2022-02-11T04:30:03.179Z"
   },
   {
    "duration": 64,
    "start_time": "2022-02-11T04:30:03.205Z"
   },
   {
    "duration": 3,
    "start_time": "2022-02-11T04:30:03.272Z"
   },
   {
    "duration": 13,
    "start_time": "2022-02-11T04:30:03.277Z"
   },
   {
    "duration": 17,
    "start_time": "2022-02-11T04:30:03.292Z"
   },
   {
    "duration": 115,
    "start_time": "2022-02-11T04:30:03.311Z"
   },
   {
    "duration": 184,
    "start_time": "2022-02-11T04:30:03.428Z"
   },
   {
    "duration": 169,
    "start_time": "2022-02-11T04:30:03.615Z"
   },
   {
    "duration": 10,
    "start_time": "2022-02-11T04:30:03.786Z"
   },
   {
    "duration": 311,
    "start_time": "2022-02-11T04:30:03.798Z"
   },
   {
    "duration": -195,
    "start_time": "2022-02-11T04:30:04.309Z"
   },
   {
    "duration": -205,
    "start_time": "2022-02-11T04:30:04.320Z"
   },
   {
    "duration": -222,
    "start_time": "2022-02-11T04:30:04.340Z"
   },
   {
    "duration": -245,
    "start_time": "2022-02-11T04:30:04.365Z"
   },
   {
    "duration": -254,
    "start_time": "2022-02-11T04:30:04.376Z"
   },
   {
    "duration": -264,
    "start_time": "2022-02-11T04:30:04.388Z"
   },
   {
    "duration": -274,
    "start_time": "2022-02-11T04:30:04.401Z"
   },
   {
    "duration": -287,
    "start_time": "2022-02-11T04:30:04.416Z"
   },
   {
    "duration": -294,
    "start_time": "2022-02-11T04:30:04.425Z"
   },
   {
    "duration": -305,
    "start_time": "2022-02-11T04:30:04.438Z"
   },
   {
    "duration": -316,
    "start_time": "2022-02-11T04:30:04.451Z"
   },
   {
    "duration": -321,
    "start_time": "2022-02-11T04:30:04.459Z"
   },
   {
    "duration": -332,
    "start_time": "2022-02-11T04:30:04.472Z"
   },
   {
    "duration": -342,
    "start_time": "2022-02-11T04:30:04.484Z"
   },
   {
    "duration": -349,
    "start_time": "2022-02-11T04:30:04.493Z"
   },
   {
    "duration": -358,
    "start_time": "2022-02-11T04:30:04.504Z"
   },
   {
    "duration": -368,
    "start_time": "2022-02-11T04:30:04.516Z"
   },
   {
    "duration": -374,
    "start_time": "2022-02-11T04:30:04.524Z"
   },
   {
    "duration": -376,
    "start_time": "2022-02-11T04:30:04.535Z"
   },
   {
    "duration": -381,
    "start_time": "2022-02-11T04:30:04.543Z"
   },
   {
    "duration": -391,
    "start_time": "2022-02-11T04:30:04.555Z"
   },
   {
    "duration": -401,
    "start_time": "2022-02-11T04:30:04.567Z"
   },
   {
    "duration": -408,
    "start_time": "2022-02-11T04:30:04.576Z"
   },
   {
    "duration": -416,
    "start_time": "2022-02-11T04:30:04.587Z"
   },
   {
    "duration": -425,
    "start_time": "2022-02-11T04:30:04.598Z"
   },
   {
    "duration": -432,
    "start_time": "2022-02-11T04:30:04.607Z"
   },
   {
    "duration": -441,
    "start_time": "2022-02-11T04:30:04.618Z"
   },
   {
    "duration": -445,
    "start_time": "2022-02-11T04:30:04.625Z"
   },
   {
    "duration": -454,
    "start_time": "2022-02-11T04:30:04.636Z"
   },
   {
    "duration": -459,
    "start_time": "2022-02-11T04:30:04.643Z"
   },
   {
    "duration": -464,
    "start_time": "2022-02-11T04:30:04.651Z"
   },
   {
    "duration": -469,
    "start_time": "2022-02-11T04:30:04.658Z"
   },
   {
    "duration": -474,
    "start_time": "2022-02-11T04:30:04.665Z"
   },
   {
    "duration": -479,
    "start_time": "2022-02-11T04:30:04.672Z"
   },
   {
    "duration": -503,
    "start_time": "2022-02-11T04:30:04.699Z"
   },
   {
    "duration": -522,
    "start_time": "2022-02-11T04:30:04.720Z"
   },
   {
    "duration": -470,
    "start_time": "2022-02-11T04:30:04.730Z"
   },
   {
    "duration": -475,
    "start_time": "2022-02-11T04:30:04.737Z"
   },
   {
    "duration": -481,
    "start_time": "2022-02-11T04:30:04.745Z"
   },
   {
    "duration": -485,
    "start_time": "2022-02-11T04:30:04.752Z"
   },
   {
    "duration": -491,
    "start_time": "2022-02-11T04:30:04.760Z"
   },
   {
    "duration": -496,
    "start_time": "2022-02-11T04:30:04.767Z"
   },
   {
    "duration": -502,
    "start_time": "2022-02-11T04:30:04.775Z"
   },
   {
    "duration": -505,
    "start_time": "2022-02-11T04:30:04.781Z"
   },
   {
    "duration": -511,
    "start_time": "2022-02-11T04:30:04.789Z"
   },
   {
    "duration": -516,
    "start_time": "2022-02-11T04:30:04.796Z"
   },
   {
    "duration": -534,
    "start_time": "2022-02-11T04:30:04.816Z"
   },
   {
    "duration": -550,
    "start_time": "2022-02-11T04:30:04.834Z"
   },
   {
    "duration": -555,
    "start_time": "2022-02-11T04:30:04.842Z"
   },
   {
    "duration": -561,
    "start_time": "2022-02-11T04:30:04.850Z"
   },
   {
    "duration": -568,
    "start_time": "2022-02-11T04:30:04.859Z"
   },
   {
    "duration": -573,
    "start_time": "2022-02-11T04:30:04.866Z"
   },
   {
    "duration": -585,
    "start_time": "2022-02-11T04:30:04.880Z"
   },
   {
    "duration": 839,
    "start_time": "2022-02-11T04:36:20.463Z"
   },
   {
    "duration": 18,
    "start_time": "2022-02-11T04:36:44.070Z"
   },
   {
    "duration": 4496,
    "start_time": "2022-02-11T04:36:44.090Z"
   },
   {
    "duration": 753,
    "start_time": "2022-02-11T04:36:48.589Z"
   },
   {
    "duration": 200,
    "start_time": "2022-02-11T04:36:49.360Z"
   },
   {
    "duration": 30,
    "start_time": "2022-02-11T04:36:49.562Z"
   },
   {
    "duration": 198,
    "start_time": "2022-02-11T04:36:49.595Z"
   },
   {
    "duration": 2055,
    "start_time": "2022-02-11T04:36:49.795Z"
   },
   {
    "duration": -85,
    "start_time": "2022-02-11T04:36:51.940Z"
   },
   {
    "duration": -89,
    "start_time": "2022-02-11T04:36:51.948Z"
   },
   {
    "duration": -99,
    "start_time": "2022-02-11T04:36:51.959Z"
   },
   {
    "duration": -105,
    "start_time": "2022-02-11T04:36:51.967Z"
   },
   {
    "duration": -112,
    "start_time": "2022-02-11T04:36:51.975Z"
   },
   {
    "duration": -119,
    "start_time": "2022-02-11T04:36:51.983Z"
   },
   {
    "duration": -126,
    "start_time": "2022-02-11T04:36:51.991Z"
   },
   {
    "duration": -133,
    "start_time": "2022-02-11T04:36:51.999Z"
   },
   {
    "duration": -139,
    "start_time": "2022-02-11T04:36:52.007Z"
   },
   {
    "duration": -146,
    "start_time": "2022-02-11T04:36:52.015Z"
   },
   {
    "duration": -153,
    "start_time": "2022-02-11T04:36:52.023Z"
   },
   {
    "duration": -160,
    "start_time": "2022-02-11T04:36:52.031Z"
   },
   {
    "duration": -184,
    "start_time": "2022-02-11T04:36:52.057Z"
   },
   {
    "duration": -190,
    "start_time": "2022-02-11T04:36:52.064Z"
   },
   {
    "duration": -200,
    "start_time": "2022-02-11T04:36:52.075Z"
   },
   {
    "duration": -206,
    "start_time": "2022-02-11T04:36:52.082Z"
   },
   {
    "duration": -214,
    "start_time": "2022-02-11T04:36:52.091Z"
   },
   {
    "duration": -220,
    "start_time": "2022-02-11T04:36:52.099Z"
   },
   {
    "duration": -227,
    "start_time": "2022-02-11T04:36:52.107Z"
   },
   {
    "duration": -234,
    "start_time": "2022-02-11T04:36:52.115Z"
   },
   {
    "duration": -242,
    "start_time": "2022-02-11T04:36:52.124Z"
   },
   {
    "duration": -248,
    "start_time": "2022-02-11T04:36:52.131Z"
   },
   {
    "duration": -255,
    "start_time": "2022-02-11T04:36:52.139Z"
   },
   {
    "duration": -260,
    "start_time": "2022-02-11T04:36:52.146Z"
   },
   {
    "duration": -282,
    "start_time": "2022-02-11T04:36:52.169Z"
   },
   {
    "duration": -289,
    "start_time": "2022-02-11T04:36:52.177Z"
   },
   {
    "duration": -296,
    "start_time": "2022-02-11T04:36:52.185Z"
   },
   {
    "duration": -301,
    "start_time": "2022-02-11T04:36:52.191Z"
   },
   {
    "duration": -324,
    "start_time": "2022-02-11T04:36:52.216Z"
   },
   {
    "duration": -330,
    "start_time": "2022-02-11T04:36:52.223Z"
   },
   {
    "duration": -337,
    "start_time": "2022-02-11T04:36:52.231Z"
   },
   {
    "duration": -343,
    "start_time": "2022-02-11T04:36:52.238Z"
   },
   {
    "duration": -351,
    "start_time": "2022-02-11T04:36:52.247Z"
   },
   {
    "duration": -357,
    "start_time": "2022-02-11T04:36:52.254Z"
   },
   {
    "duration": -363,
    "start_time": "2022-02-11T04:36:52.262Z"
   },
   {
    "duration": -383,
    "start_time": "2022-02-11T04:36:52.283Z"
   },
   {
    "duration": -332,
    "start_time": "2022-02-11T04:36:52.293Z"
   },
   {
    "duration": -337,
    "start_time": "2022-02-11T04:36:52.300Z"
   },
   {
    "duration": -344,
    "start_time": "2022-02-11T04:36:52.308Z"
   },
   {
    "duration": -349,
    "start_time": "2022-02-11T04:36:52.315Z"
   },
   {
    "duration": -356,
    "start_time": "2022-02-11T04:36:52.323Z"
   },
   {
    "duration": -361,
    "start_time": "2022-02-11T04:36:52.329Z"
   },
   {
    "duration": -368,
    "start_time": "2022-02-11T04:36:52.337Z"
   },
   {
    "duration": -373,
    "start_time": "2022-02-11T04:36:52.344Z"
   },
   {
    "duration": -380,
    "start_time": "2022-02-11T04:36:52.352Z"
   },
   {
    "duration": -386,
    "start_time": "2022-02-11T04:36:52.359Z"
   },
   {
    "duration": 2098,
    "start_time": "2022-02-11T04:37:16.607Z"
   },
   {
    "duration": 22343,
    "start_time": "2022-02-11T04:37:53.680Z"
   },
   {
    "duration": -164,
    "start_time": "2022-02-11T04:38:16.192Z"
   },
   {
    "duration": -178,
    "start_time": "2022-02-11T04:38:16.207Z"
   },
   {
    "duration": -195,
    "start_time": "2022-02-11T04:38:16.226Z"
   },
   {
    "duration": -205,
    "start_time": "2022-02-11T04:38:16.237Z"
   },
   {
    "duration": -213,
    "start_time": "2022-02-11T04:38:16.247Z"
   },
   {
    "duration": -221,
    "start_time": "2022-02-11T04:38:16.256Z"
   },
   {
    "duration": -228,
    "start_time": "2022-02-11T04:38:16.265Z"
   },
   {
    "duration": -235,
    "start_time": "2022-02-11T04:38:16.273Z"
   },
   {
    "duration": -257,
    "start_time": "2022-02-11T04:38:16.297Z"
   },
   {
    "duration": -269,
    "start_time": "2022-02-11T04:38:16.310Z"
   },
   {
    "duration": -284,
    "start_time": "2022-02-11T04:38:16.326Z"
   },
   {
    "duration": -292,
    "start_time": "2022-02-11T04:38:16.336Z"
   },
   {
    "duration": -299,
    "start_time": "2022-02-11T04:38:16.344Z"
   },
   {
    "duration": -307,
    "start_time": "2022-02-11T04:38:16.354Z"
   },
   {
    "duration": -316,
    "start_time": "2022-02-11T04:38:16.364Z"
   },
   {
    "duration": -324,
    "start_time": "2022-02-11T04:38:16.374Z"
   },
   {
    "duration": -331,
    "start_time": "2022-02-11T04:38:16.383Z"
   },
   {
    "duration": -339,
    "start_time": "2022-02-11T04:38:16.393Z"
   },
   {
    "duration": -364,
    "start_time": "2022-02-11T04:38:16.419Z"
   },
   {
    "duration": -375,
    "start_time": "2022-02-11T04:38:16.431Z"
   },
   {
    "duration": -381,
    "start_time": "2022-02-11T04:38:16.439Z"
   },
   {
    "duration": -390,
    "start_time": "2022-02-11T04:38:16.449Z"
   },
   {
    "duration": -398,
    "start_time": "2022-02-11T04:38:16.458Z"
   },
   {
    "duration": -407,
    "start_time": "2022-02-11T04:38:16.468Z"
   },
   {
    "duration": -413,
    "start_time": "2022-02-11T04:38:16.475Z"
   },
   {
    "duration": -419,
    "start_time": "2022-02-11T04:38:16.483Z"
   },
   {
    "duration": -426,
    "start_time": "2022-02-11T04:38:16.491Z"
   },
   {
    "duration": -433,
    "start_time": "2022-02-11T04:38:16.500Z"
   },
   {
    "duration": -439,
    "start_time": "2022-02-11T04:38:16.507Z"
   },
   {
    "duration": -463,
    "start_time": "2022-02-11T04:38:16.532Z"
   },
   {
    "duration": -470,
    "start_time": "2022-02-11T04:38:16.540Z"
   },
   {
    "duration": -477,
    "start_time": "2022-02-11T04:38:16.549Z"
   },
   {
    "duration": -484,
    "start_time": "2022-02-11T04:38:16.557Z"
   },
   {
    "duration": -491,
    "start_time": "2022-02-11T04:38:16.565Z"
   },
   {
    "duration": -498,
    "start_time": "2022-02-11T04:38:16.573Z"
   },
   {
    "duration": -504,
    "start_time": "2022-02-11T04:38:16.581Z"
   },
   {
    "duration": -510,
    "start_time": "2022-02-11T04:38:16.588Z"
   },
   {
    "duration": -518,
    "start_time": "2022-02-11T04:38:16.597Z"
   },
   {
    "duration": -524,
    "start_time": "2022-02-11T04:38:16.605Z"
   },
   {
    "duration": -531,
    "start_time": "2022-02-11T04:38:16.613Z"
   },
   {
    "duration": -536,
    "start_time": "2022-02-11T04:38:16.620Z"
   },
   {
    "duration": -543,
    "start_time": "2022-02-11T04:38:16.628Z"
   },
   {
    "duration": -562,
    "start_time": "2022-02-11T04:38:16.648Z"
   },
   {
    "duration": -571,
    "start_time": "2022-02-11T04:38:16.658Z"
   },
   {
    "duration": 280,
    "start_time": "2022-02-11T04:38:57.156Z"
   },
   {
    "duration": -768,
    "start_time": "2022-02-11T04:38:58.208Z"
   },
   {
    "duration": -780,
    "start_time": "2022-02-11T04:38:58.221Z"
   },
   {
    "duration": -786,
    "start_time": "2022-02-11T04:38:58.229Z"
   },
   {
    "duration": -794,
    "start_time": "2022-02-11T04:38:58.238Z"
   },
   {
    "duration": -801,
    "start_time": "2022-02-11T04:38:58.246Z"
   },
   {
    "duration": -809,
    "start_time": "2022-02-11T04:38:58.255Z"
   },
   {
    "duration": -814,
    "start_time": "2022-02-11T04:38:58.262Z"
   },
   {
    "duration": -821,
    "start_time": "2022-02-11T04:38:58.270Z"
   },
   {
    "duration": -828,
    "start_time": "2022-02-11T04:38:58.278Z"
   },
   {
    "duration": -870,
    "start_time": "2022-02-11T04:38:58.321Z"
   },
   {
    "duration": -879,
    "start_time": "2022-02-11T04:38:58.332Z"
   },
   {
    "duration": -886,
    "start_time": "2022-02-11T04:38:58.340Z"
   },
   {
    "duration": -892,
    "start_time": "2022-02-11T04:38:58.348Z"
   },
   {
    "duration": -901,
    "start_time": "2022-02-11T04:38:58.358Z"
   },
   {
    "duration": -907,
    "start_time": "2022-02-11T04:38:58.365Z"
   },
   {
    "duration": -914,
    "start_time": "2022-02-11T04:38:58.373Z"
   },
   {
    "duration": -919,
    "start_time": "2022-02-11T04:38:58.380Z"
   },
   {
    "duration": -925,
    "start_time": "2022-02-11T04:38:58.387Z"
   },
   {
    "duration": -932,
    "start_time": "2022-02-11T04:38:58.395Z"
   },
   {
    "duration": -938,
    "start_time": "2022-02-11T04:38:58.403Z"
   },
   {
    "duration": -944,
    "start_time": "2022-02-11T04:38:58.410Z"
   },
   {
    "duration": -967,
    "start_time": "2022-02-11T04:38:58.435Z"
   },
   {
    "duration": -975,
    "start_time": "2022-02-11T04:38:58.444Z"
   },
   {
    "duration": -983,
    "start_time": "2022-02-11T04:38:58.453Z"
   },
   {
    "duration": -990,
    "start_time": "2022-02-11T04:38:58.462Z"
   },
   {
    "duration": -996,
    "start_time": "2022-02-11T04:38:58.469Z"
   },
   {
    "duration": -1005,
    "start_time": "2022-02-11T04:38:58.479Z"
   },
   {
    "duration": -1011,
    "start_time": "2022-02-11T04:38:58.486Z"
   },
   {
    "duration": -1017,
    "start_time": "2022-02-11T04:38:58.494Z"
   },
   {
    "duration": -1023,
    "start_time": "2022-02-11T04:38:58.501Z"
   },
   {
    "duration": -1030,
    "start_time": "2022-02-11T04:38:58.509Z"
   },
   {
    "duration": -1036,
    "start_time": "2022-02-11T04:38:58.517Z"
   },
   {
    "duration": 293,
    "start_time": "2022-02-11T04:38:57.494Z"
   },
   {
    "duration": -783,
    "start_time": "2022-02-11T04:38:58.572Z"
   },
   {
    "duration": -793,
    "start_time": "2022-02-11T04:38:58.584Z"
   },
   {
    "duration": -800,
    "start_time": "2022-02-11T04:38:58.592Z"
   },
   {
    "duration": 266,
    "start_time": "2022-02-11T04:38:57.946Z"
   },
   {
    "duration": -399,
    "start_time": "2022-02-11T04:38:58.614Z"
   },
   {
    "duration": -406,
    "start_time": "2022-02-11T04:38:58.622Z"
   },
   {
    "duration": -414,
    "start_time": "2022-02-11T04:38:58.632Z"
   },
   {
    "duration": -420,
    "start_time": "2022-02-11T04:38:58.639Z"
   },
   {
    "duration": -427,
    "start_time": "2022-02-11T04:38:58.648Z"
   },
   {
    "duration": -433,
    "start_time": "2022-02-11T04:38:58.655Z"
   },
   {
    "duration": 283,
    "start_time": "2022-02-11T04:39:14.355Z"
   },
   {
    "duration": 753,
    "start_time": "2022-02-11T04:39:14.962Z"
   },
   {
    "duration": 290,
    "start_time": "2022-02-11T04:39:19.201Z"
   },
   {
    "duration": 323,
    "start_time": "2022-02-11T04:39:27.089Z"
   },
   {
    "duration": 272,
    "start_time": "2022-02-11T04:39:27.630Z"
   },
   {
    "duration": 673,
    "start_time": "2022-02-11T04:39:30.159Z"
   },
   {
    "duration": 274,
    "start_time": "2022-02-11T04:39:33.370Z"
   },
   {
    "duration": 346,
    "start_time": "2022-02-11T04:39:36.007Z"
   },
   {
    "duration": 1027,
    "start_time": "2022-02-11T08:55:40.212Z"
   },
   {
    "duration": -368,
    "start_time": "2022-02-11T08:55:41.610Z"
   },
   {
    "duration": -372,
    "start_time": "2022-02-11T08:55:41.615Z"
   },
   {
    "duration": -374,
    "start_time": "2022-02-11T08:55:41.618Z"
   },
   {
    "duration": -375,
    "start_time": "2022-02-11T08:55:41.620Z"
   },
   {
    "duration": -377,
    "start_time": "2022-02-11T08:55:41.623Z"
   },
   {
    "duration": -432,
    "start_time": "2022-02-11T08:55:41.679Z"
   },
   {
    "duration": -434,
    "start_time": "2022-02-11T08:55:41.682Z"
   },
   {
    "duration": -435,
    "start_time": "2022-02-11T08:55:41.684Z"
   },
   {
    "duration": -436,
    "start_time": "2022-02-11T08:55:41.686Z"
   },
   {
    "duration": -438,
    "start_time": "2022-02-11T08:55:41.689Z"
   },
   {
    "duration": -439,
    "start_time": "2022-02-11T08:55:41.691Z"
   },
   {
    "duration": -442,
    "start_time": "2022-02-11T08:55:41.695Z"
   },
   {
    "duration": -444,
    "start_time": "2022-02-11T08:55:41.698Z"
   },
   {
    "duration": -446,
    "start_time": "2022-02-11T08:55:41.700Z"
   },
   {
    "duration": -447,
    "start_time": "2022-02-11T08:55:41.702Z"
   },
   {
    "duration": -449,
    "start_time": "2022-02-11T08:55:41.705Z"
   },
   {
    "duration": -450,
    "start_time": "2022-02-11T08:55:41.707Z"
   },
   {
    "duration": -454,
    "start_time": "2022-02-11T08:55:41.712Z"
   },
   {
    "duration": -457,
    "start_time": "2022-02-11T08:55:41.716Z"
   },
   {
    "duration": -461,
    "start_time": "2022-02-11T08:55:41.720Z"
   },
   {
    "duration": -463,
    "start_time": "2022-02-11T08:55:41.723Z"
   },
   {
    "duration": -465,
    "start_time": "2022-02-11T08:55:41.726Z"
   },
   {
    "duration": -467,
    "start_time": "2022-02-11T08:55:41.729Z"
   },
   {
    "duration": -468,
    "start_time": "2022-02-11T08:55:41.731Z"
   },
   {
    "duration": -478,
    "start_time": "2022-02-11T08:55:41.742Z"
   },
   {
    "duration": -480,
    "start_time": "2022-02-11T08:55:41.745Z"
   },
   {
    "duration": -524,
    "start_time": "2022-02-11T08:55:41.790Z"
   },
   {
    "duration": -528,
    "start_time": "2022-02-11T08:55:41.795Z"
   },
   {
    "duration": -530,
    "start_time": "2022-02-11T08:55:41.798Z"
   },
   {
    "duration": -531,
    "start_time": "2022-02-11T08:55:41.800Z"
   },
   {
    "duration": -532,
    "start_time": "2022-02-11T08:55:41.802Z"
   },
   {
    "duration": -534,
    "start_time": "2022-02-11T08:55:41.804Z"
   },
   {
    "duration": -536,
    "start_time": "2022-02-11T08:55:41.807Z"
   },
   {
    "duration": -539,
    "start_time": "2022-02-11T08:55:41.811Z"
   },
   {
    "duration": -540,
    "start_time": "2022-02-11T08:55:41.813Z"
   },
   {
    "duration": -541,
    "start_time": "2022-02-11T08:55:41.815Z"
   },
   {
    "duration": -542,
    "start_time": "2022-02-11T08:55:41.817Z"
   },
   {
    "duration": -543,
    "start_time": "2022-02-11T08:55:41.819Z"
   },
   {
    "duration": -545,
    "start_time": "2022-02-11T08:55:41.822Z"
   },
   {
    "duration": -546,
    "start_time": "2022-02-11T08:55:41.824Z"
   },
   {
    "duration": -547,
    "start_time": "2022-02-11T08:55:41.826Z"
   },
   {
    "duration": -550,
    "start_time": "2022-02-11T08:55:41.829Z"
   },
   {
    "duration": -551,
    "start_time": "2022-02-11T08:55:41.831Z"
   },
   {
    "duration": -537,
    "start_time": "2022-02-11T08:55:41.834Z"
   },
   {
    "duration": -537,
    "start_time": "2022-02-11T08:55:41.836Z"
   },
   {
    "duration": 84765,
    "start_time": "2022-02-11T08:56:11.271Z"
   },
   {
    "duration": 96155,
    "start_time": "2022-02-11T08:57:42.125Z"
   },
   {
    "duration": 231837,
    "start_time": "2022-02-11T09:00:42.490Z"
   },
   {
    "duration": 2729,
    "start_time": "2022-02-11T09:06:38.557Z"
   },
   {
    "duration": 499,
    "start_time": "2022-02-11T09:06:41.288Z"
   },
   {
    "duration": 16,
    "start_time": "2022-02-11T09:06:41.790Z"
   },
   {
    "duration": 378,
    "start_time": "2022-02-11T09:06:41.809Z"
   },
   {
    "duration": 41,
    "start_time": "2022-02-11T09:06:42.189Z"
   },
   {
    "duration": 391,
    "start_time": "2022-02-11T09:06:42.232Z"
   },
   {
    "duration": 554,
    "start_time": "2022-02-11T09:06:42.625Z"
   },
   {
    "duration": 44,
    "start_time": "2022-02-11T09:06:43.181Z"
   },
   {
    "duration": 42,
    "start_time": "2022-02-11T09:06:43.227Z"
   },
   {
    "duration": 95,
    "start_time": "2022-02-11T09:06:43.271Z"
   },
   {
    "duration": 375,
    "start_time": "2022-02-11T09:06:43.368Z"
   },
   {
    "duration": 289,
    "start_time": "2022-02-11T09:06:43.744Z"
   },
   {
    "duration": 301,
    "start_time": "2022-02-11T09:06:44.035Z"
   },
   {
    "duration": 44,
    "start_time": "2022-02-11T09:06:44.338Z"
   },
   {
    "duration": 154,
    "start_time": "2022-02-11T09:06:44.383Z"
   },
   {
    "duration": 2796,
    "start_time": "2022-02-11T09:06:44.539Z"
   },
   {
    "duration": 1098,
    "start_time": "2022-02-11T09:06:47.337Z"
   },
   {
    "duration": 26,
    "start_time": "2022-02-11T09:06:48.436Z"
   },
   {
    "duration": 40,
    "start_time": "2022-02-11T09:06:48.463Z"
   },
   {
    "duration": 182,
    "start_time": "2022-02-11T09:06:48.505Z"
   },
   {
    "duration": 21,
    "start_time": "2022-02-11T09:06:48.689Z"
   },
   {
    "duration": 166,
    "start_time": "2022-02-11T09:06:48.711Z"
   },
   {
    "duration": 122,
    "start_time": "2022-02-11T09:06:48.898Z"
   },
   {
    "duration": 210,
    "start_time": "2022-02-11T09:06:49.022Z"
   },
   {
    "duration": 197,
    "start_time": "2022-02-11T09:06:49.234Z"
   },
   {
    "duration": 98,
    "start_time": "2022-02-11T09:06:49.432Z"
   },
   {
    "duration": 46,
    "start_time": "2022-02-11T09:06:49.532Z"
   },
   {
    "duration": 143,
    "start_time": "2022-02-11T09:06:49.579Z"
   },
   {
    "duration": 10,
    "start_time": "2022-02-11T09:06:49.724Z"
   },
   {
    "duration": 24,
    "start_time": "2022-02-11T09:06:49.736Z"
   },
   {
    "duration": 52,
    "start_time": "2022-02-11T09:06:49.762Z"
   },
   {
    "duration": 4,
    "start_time": "2022-02-11T09:06:49.816Z"
   },
   {
    "duration": 16,
    "start_time": "2022-02-11T09:06:49.822Z"
   },
   {
    "duration": 12,
    "start_time": "2022-02-11T09:06:49.839Z"
   },
   {
    "duration": 73,
    "start_time": "2022-02-11T09:06:49.852Z"
   },
   {
    "duration": 131,
    "start_time": "2022-02-11T09:06:49.927Z"
   },
   {
    "duration": 122,
    "start_time": "2022-02-11T09:06:50.060Z"
   },
   {
    "duration": 6,
    "start_time": "2022-02-11T09:06:50.183Z"
   },
   {
    "duration": 709,
    "start_time": "2022-02-11T09:06:50.190Z"
   },
   {
    "duration": 12,
    "start_time": "2022-02-11T09:06:50.901Z"
   },
   {
    "duration": 2704,
    "start_time": "2022-02-11T09:06:50.915Z"
   },
   {
    "duration": 568,
    "start_time": "2022-02-11T09:06:53.621Z"
   },
   {
    "duration": 178,
    "start_time": "2022-02-11T09:06:54.190Z"
   },
   {
    "duration": 31,
    "start_time": "2022-02-11T09:06:54.369Z"
   },
   {
    "duration": 142,
    "start_time": "2022-02-11T09:06:54.402Z"
   },
   {
    "duration": 1544,
    "start_time": "2022-02-11T09:07:10.028Z"
   },
   {
    "duration": 81,
    "start_time": "2022-02-11T09:08:50.958Z"
   },
   {
    "duration": 7667,
    "start_time": "2022-02-11T09:11:02.229Z"
   },
   {
    "duration": 1645,
    "start_time": "2022-02-11T09:32:55.229Z"
   },
   {
    "duration": 205,
    "start_time": "2022-02-11T09:33:14.524Z"
   },
   {
    "duration": 205,
    "start_time": "2022-02-11T09:33:33.703Z"
   },
   {
    "duration": 780,
    "start_time": "2022-02-11T09:36:08.561Z"
   },
   {
    "duration": 84571,
    "start_time": "2022-02-11T09:37:50.767Z"
   },
   {
    "duration": 1569,
    "start_time": "2022-02-11T09:39:27.414Z"
   },
   {
    "duration": 20,
    "start_time": "2022-02-11T09:39:59.175Z"
   },
   {
    "duration": 20,
    "start_time": "2022-02-11T09:40:17.863Z"
   },
   {
    "duration": 21,
    "start_time": "2022-02-11T09:40:35.049Z"
   },
   {
    "duration": 684,
    "start_time": "2022-02-11T09:45:30.739Z"
   },
   {
    "duration": 674,
    "start_time": "2022-02-11T09:45:39.210Z"
   },
   {
    "duration": 285,
    "start_time": "2022-02-11T09:46:24.799Z"
   },
   {
    "duration": 13851,
    "start_time": "2022-02-11T09:46:34.418Z"
   },
   {
    "duration": 97,
    "start_time": "2022-02-11T09:53:31.190Z"
   },
   {
    "duration": 13863,
    "start_time": "2022-02-11T09:54:06.761Z"
   },
   {
    "duration": 13664,
    "start_time": "2022-02-11T09:56:44.025Z"
   },
   {
    "duration": 3,
    "start_time": "2022-02-11T09:59:19.915Z"
   },
   {
    "duration": 13609,
    "start_time": "2022-02-11T09:59:54.594Z"
   },
   {
    "duration": 3,
    "start_time": "2022-02-11T10:00:40.109Z"
   },
   {
    "duration": 490,
    "start_time": "2022-02-11T10:01:15.786Z"
   },
   {
    "duration": 454,
    "start_time": "2022-02-11T10:01:21.438Z"
   },
   {
    "duration": 501,
    "start_time": "2022-02-11T10:01:24.546Z"
   },
   {
    "duration": 23,
    "start_time": "2022-02-11T10:01:35.131Z"
   },
   {
    "duration": 304,
    "start_time": "2022-02-11T10:01:41.313Z"
   },
   {
    "duration": 286,
    "start_time": "2022-02-11T10:01:45.301Z"
   },
   {
    "duration": 326,
    "start_time": "2022-02-11T10:04:41.133Z"
   },
   {
    "duration": 315,
    "start_time": "2022-02-11T10:05:00.563Z"
   },
   {
    "duration": 244,
    "start_time": "2022-02-11T10:05:15.830Z"
   },
   {
    "duration": 41,
    "start_time": "2022-02-11T10:05:33.575Z"
   },
   {
    "duration": 14,
    "start_time": "2022-02-11T10:05:36.526Z"
   },
   {
    "duration": 48,
    "start_time": "2022-02-11T10:05:43.278Z"
   },
   {
    "duration": 39,
    "start_time": "2022-02-11T10:05:47.259Z"
   },
   {
    "duration": 25,
    "start_time": "2022-02-11T10:05:50.431Z"
   },
   {
    "duration": 62,
    "start_time": "2022-02-11T10:05:51.771Z"
   },
   {
    "duration": 408,
    "start_time": "2022-02-11T10:05:56.087Z"
   },
   {
    "duration": 154,
    "start_time": "2022-02-11T10:05:59.191Z"
   },
   {
    "duration": 174,
    "start_time": "2022-02-11T10:06:04.231Z"
   },
   {
    "duration": 298,
    "start_time": "2022-02-11T10:06:07.230Z"
   },
   {
    "duration": 419,
    "start_time": "2022-02-11T10:06:09.974Z"
   },
   {
    "duration": 6,
    "start_time": "2022-02-11T10:06:13.966Z"
   },
   {
    "duration": 18,
    "start_time": "2022-02-11T10:06:15.581Z"
   },
   {
    "duration": 302,
    "start_time": "2022-02-11T10:06:18.356Z"
   },
   {
    "duration": 19,
    "start_time": "2022-02-11T10:06:20.417Z"
   },
   {
    "duration": 22,
    "start_time": "2022-02-11T10:06:21.648Z"
   },
   {
    "duration": 21,
    "start_time": "2022-02-11T10:06:25.334Z"
   },
   {
    "duration": 20,
    "start_time": "2022-02-11T10:06:27.900Z"
   },
   {
    "duration": 29,
    "start_time": "2022-02-11T10:06:29.830Z"
   },
   {
    "duration": 25,
    "start_time": "2022-02-11T10:06:32.680Z"
   },
   {
    "duration": 41,
    "start_time": "2022-02-11T10:06:35.864Z"
   },
   {
    "duration": 16,
    "start_time": "2022-02-11T10:06:39.866Z"
   },
   {
    "duration": 31,
    "start_time": "2022-02-11T10:06:44.379Z"
   },
   {
    "duration": 7,
    "start_time": "2022-02-11T10:06:47.710Z"
   },
   {
    "duration": 17,
    "start_time": "2022-02-11T10:06:51.654Z"
   },
   {
    "duration": 23,
    "start_time": "2022-02-11T10:06:58.386Z"
   },
   {
    "duration": 30,
    "start_time": "2022-02-11T10:06:59.998Z"
   },
   {
    "duration": 639,
    "start_time": "2022-02-11T10:10:26.553Z"
   },
   {
    "duration": 894,
    "start_time": "2022-02-11T10:11:09.916Z"
   },
   {
    "duration": 263,
    "start_time": "2022-02-11T10:22:30.936Z"
   },
   {
    "duration": 250,
    "start_time": "2022-02-11T10:25:24.341Z"
   },
   {
    "duration": 4,
    "start_time": "2022-02-11T10:25:35.627Z"
   },
   {
    "duration": 258,
    "start_time": "2022-02-11T10:25:57.342Z"
   },
   {
    "duration": 280,
    "start_time": "2022-02-11T10:26:05.438Z"
   },
   {
    "duration": 2,
    "start_time": "2022-02-11T10:26:15.507Z"
   },
   {
    "duration": 264,
    "start_time": "2022-02-11T10:26:31.956Z"
   },
   {
    "duration": 255,
    "start_time": "2022-02-11T10:26:42.637Z"
   },
   {
    "duration": 4,
    "start_time": "2022-02-11T10:36:59.285Z"
   },
   {
    "duration": 140,
    "start_time": "2022-02-11T10:40:40.694Z"
   },
   {
    "duration": 2582,
    "start_time": "2022-02-11T10:41:38.411Z"
   },
   {
    "duration": 165,
    "start_time": "2022-02-11T10:41:40.995Z"
   },
   {
    "duration": 11,
    "start_time": "2022-02-11T10:41:41.162Z"
   },
   {
    "duration": 373,
    "start_time": "2022-02-11T10:41:41.175Z"
   },
   {
    "duration": 21,
    "start_time": "2022-02-11T10:41:41.549Z"
   },
   {
    "duration": 375,
    "start_time": "2022-02-11T10:41:41.571Z"
   },
   {
    "duration": 540,
    "start_time": "2022-02-11T10:41:41.948Z"
   },
   {
    "duration": 39,
    "start_time": "2022-02-11T10:41:42.491Z"
   },
   {
    "duration": 41,
    "start_time": "2022-02-11T10:41:42.532Z"
   },
   {
    "duration": 93,
    "start_time": "2022-02-11T10:41:42.575Z"
   },
   {
    "duration": 374,
    "start_time": "2022-02-11T10:41:42.670Z"
   },
   {
    "duration": 290,
    "start_time": "2022-02-11T10:41:43.046Z"
   },
   {
    "duration": 289,
    "start_time": "2022-02-11T10:41:43.338Z"
   },
   {
    "duration": 46,
    "start_time": "2022-02-11T10:41:43.630Z"
   },
   {
    "duration": 178,
    "start_time": "2022-02-11T10:41:43.677Z"
   },
   {
    "duration": 2779,
    "start_time": "2022-02-11T10:41:43.857Z"
   },
   {
    "duration": 1052,
    "start_time": "2022-02-11T10:41:46.638Z"
   },
   {
    "duration": 31,
    "start_time": "2022-02-11T10:41:47.692Z"
   },
   {
    "duration": 23,
    "start_time": "2022-02-11T10:41:47.725Z"
   },
   {
    "duration": 213,
    "start_time": "2022-02-11T10:41:47.750Z"
   },
   {
    "duration": 637,
    "start_time": "2022-02-11T10:41:47.965Z"
   },
   {
    "duration": 954,
    "start_time": "2022-02-11T10:41:48.604Z"
   },
   {
    "duration": 130,
    "start_time": "2022-02-11T10:41:49.563Z"
   },
   {
    "duration": 175,
    "start_time": "2022-02-11T10:41:49.696Z"
   },
   {
    "duration": 5,
    "start_time": "2022-02-11T10:41:49.873Z"
   },
   {
    "duration": 203,
    "start_time": "2022-02-11T10:41:49.879Z"
   },
   {
    "duration": 97,
    "start_time": "2022-02-11T10:41:50.084Z"
   },
   {
    "duration": 51,
    "start_time": "2022-02-11T10:41:50.183Z"
   },
   {
    "duration": 141,
    "start_time": "2022-02-11T10:41:50.235Z"
   },
   {
    "duration": 21,
    "start_time": "2022-02-11T10:41:50.378Z"
   },
   {
    "duration": 63,
    "start_time": "2022-02-11T10:41:50.400Z"
   },
   {
    "duration": 32,
    "start_time": "2022-02-11T10:41:50.465Z"
   },
   {
    "duration": 21,
    "start_time": "2022-02-11T10:41:50.499Z"
   },
   {
    "duration": 16,
    "start_time": "2022-02-11T10:41:50.522Z"
   },
   {
    "duration": 12,
    "start_time": "2022-02-11T10:41:50.540Z"
   },
   {
    "duration": 51,
    "start_time": "2022-02-11T10:41:50.554Z"
   },
   {
    "duration": 101,
    "start_time": "2022-02-11T10:41:50.607Z"
   },
   {
    "duration": 122,
    "start_time": "2022-02-11T10:41:50.710Z"
   },
   {
    "duration": 5,
    "start_time": "2022-02-11T10:41:50.834Z"
   },
   {
    "duration": 703,
    "start_time": "2022-02-11T10:41:50.841Z"
   },
   {
    "duration": 11,
    "start_time": "2022-02-11T10:41:51.546Z"
   },
   {
    "duration": 2783,
    "start_time": "2022-02-11T10:41:51.559Z"
   },
   {
    "duration": 576,
    "start_time": "2022-02-11T10:41:54.344Z"
   },
   {
    "duration": 181,
    "start_time": "2022-02-11T10:41:54.922Z"
   },
   {
    "duration": 22,
    "start_time": "2022-02-11T10:41:55.104Z"
   },
   {
    "duration": 143,
    "start_time": "2022-02-11T10:41:55.127Z"
   },
   {
    "duration": 1536,
    "start_time": "2022-02-11T10:41:55.272Z"
   },
   {
    "duration": -444,
    "start_time": "2022-02-11T10:41:57.255Z"
   },
   {
    "duration": -462,
    "start_time": "2022-02-11T10:41:57.274Z"
   },
   {
    "duration": -489,
    "start_time": "2022-02-11T10:41:57.302Z"
   },
   {
    "duration": -495,
    "start_time": "2022-02-11T10:41:57.309Z"
   },
   {
    "duration": -497,
    "start_time": "2022-02-11T10:41:57.312Z"
   },
   {
    "duration": -499,
    "start_time": "2022-02-11T10:41:57.315Z"
   },
   {
    "duration": -501,
    "start_time": "2022-02-11T10:41:57.318Z"
   },
   {
    "duration": -512,
    "start_time": "2022-02-11T10:41:57.330Z"
   },
   {
    "duration": -514,
    "start_time": "2022-02-11T10:41:57.333Z"
   },
   {
    "duration": -525,
    "start_time": "2022-02-11T10:41:57.345Z"
   },
   {
    "duration": -527,
    "start_time": "2022-02-11T10:41:57.349Z"
   },
   {
    "duration": -529,
    "start_time": "2022-02-11T10:41:57.352Z"
   },
   {
    "duration": -538,
    "start_time": "2022-02-11T10:41:57.362Z"
   },
   {
    "duration": -541,
    "start_time": "2022-02-11T10:41:57.366Z"
   },
   {
    "duration": -544,
    "start_time": "2022-02-11T10:41:57.370Z"
   },
   {
    "duration": -554,
    "start_time": "2022-02-11T10:41:57.381Z"
   },
   {
    "duration": -556,
    "start_time": "2022-02-11T10:41:57.384Z"
   },
   {
    "duration": -566,
    "start_time": "2022-02-11T10:41:57.396Z"
   },
   {
    "duration": -568,
    "start_time": "2022-02-11T10:41:57.399Z"
   },
   {
    "duration": -570,
    "start_time": "2022-02-11T10:41:57.402Z"
   },
   {
    "duration": -579,
    "start_time": "2022-02-11T10:41:57.412Z"
   },
   {
    "duration": -583,
    "start_time": "2022-02-11T10:41:57.417Z"
   },
   {
    "duration": -592,
    "start_time": "2022-02-11T10:41:57.427Z"
   },
   {
    "duration": -595,
    "start_time": "2022-02-11T10:41:57.431Z"
   },
   {
    "duration": -596,
    "start_time": "2022-02-11T10:41:57.434Z"
   },
   {
    "duration": -608,
    "start_time": "2022-02-11T10:41:57.446Z"
   },
   {
    "duration": -609,
    "start_time": "2022-02-11T10:41:57.449Z"
   },
   {
    "duration": -611,
    "start_time": "2022-02-11T10:41:57.452Z"
   },
   {
    "duration": -621,
    "start_time": "2022-02-11T10:41:57.463Z"
   },
   {
    "duration": -624,
    "start_time": "2022-02-11T10:41:57.467Z"
   },
   {
    "duration": -626,
    "start_time": "2022-02-11T10:41:57.470Z"
   },
   {
    "duration": -583,
    "start_time": "2022-02-11T10:41:57.481Z"
   },
   {
    "duration": -585,
    "start_time": "2022-02-11T10:41:57.484Z"
   },
   {
    "duration": -595,
    "start_time": "2022-02-11T10:41:57.495Z"
   },
   {
    "duration": -597,
    "start_time": "2022-02-11T10:41:57.499Z"
   },
   {
    "duration": -608,
    "start_time": "2022-02-11T10:41:57.511Z"
   },
   {
    "duration": -611,
    "start_time": "2022-02-11T10:41:57.515Z"
   },
   {
    "duration": -614,
    "start_time": "2022-02-11T10:41:57.519Z"
   },
   {
    "duration": 3,
    "start_time": "2022-02-11T10:42:11.550Z"
   },
   {
    "duration": 13741,
    "start_time": "2022-02-11T10:42:12.011Z"
   },
   {
    "duration": 26,
    "start_time": "2022-02-11T10:42:31.469Z"
   },
   {
    "duration": 304,
    "start_time": "2022-02-11T10:42:36.434Z"
   },
   {
    "duration": 331,
    "start_time": "2022-02-11T10:42:37.961Z"
   },
   {
    "duration": 247,
    "start_time": "2022-02-11T10:42:40.660Z"
   },
   {
    "duration": 14,
    "start_time": "2022-02-11T10:42:44.170Z"
   },
   {
    "duration": 42,
    "start_time": "2022-02-11T10:42:46.399Z"
   },
   {
    "duration": 15,
    "start_time": "2022-02-11T10:42:49.577Z"
   },
   {
    "duration": 47,
    "start_time": "2022-02-11T10:42:52.431Z"
   },
   {
    "duration": 26,
    "start_time": "2022-02-11T10:42:55.243Z"
   },
   {
    "duration": 26,
    "start_time": "2022-02-11T10:43:02.284Z"
   },
   {
    "duration": 64,
    "start_time": "2022-02-11T10:43:04.263Z"
   },
   {
    "duration": 396,
    "start_time": "2022-02-11T10:43:33.418Z"
   },
   {
    "duration": 142,
    "start_time": "2022-02-11T10:43:35.899Z"
   },
   {
    "duration": 151,
    "start_time": "2022-02-11T10:43:40.667Z"
   },
   {
    "duration": 280,
    "start_time": "2022-02-11T10:43:42.262Z"
   },
   {
    "duration": 413,
    "start_time": "2022-02-11T10:43:45.143Z"
   },
   {
    "duration": 6,
    "start_time": "2022-02-11T10:43:56.318Z"
   },
   {
    "duration": 15,
    "start_time": "2022-02-11T10:43:58.753Z"
   },
   {
    "duration": 306,
    "start_time": "2022-02-11T10:44:24.399Z"
   },
   {
    "duration": 21,
    "start_time": "2022-02-11T10:44:26.471Z"
   },
   {
    "duration": 21,
    "start_time": "2022-02-11T10:44:32.245Z"
   },
   {
    "duration": 20,
    "start_time": "2022-02-11T10:44:35.621Z"
   },
   {
    "duration": 20,
    "start_time": "2022-02-11T10:44:38.950Z"
   },
   {
    "duration": 29,
    "start_time": "2022-02-11T10:44:43.232Z"
   },
   {
    "duration": 22,
    "start_time": "2022-02-11T10:44:47.059Z"
   },
   {
    "duration": 41,
    "start_time": "2022-02-11T10:44:54.009Z"
   },
   {
    "duration": 17,
    "start_time": "2022-02-11T10:45:11.188Z"
   },
   {
    "duration": 30,
    "start_time": "2022-02-11T10:45:14.826Z"
   },
   {
    "duration": 6,
    "start_time": "2022-02-11T10:46:22.747Z"
   },
   {
    "duration": 17,
    "start_time": "2022-02-11T10:46:24.092Z"
   },
   {
    "duration": 19,
    "start_time": "2022-02-11T10:46:30.132Z"
   },
   {
    "duration": 27,
    "start_time": "2022-02-11T10:46:34.495Z"
   },
   {
    "duration": 7,
    "start_time": "2022-02-11T10:46:37.890Z"
   },
   {
    "duration": 22,
    "start_time": "2022-02-11T10:46:40.872Z"
   },
   {
    "duration": 2281,
    "start_time": "2022-02-11T10:46:47.850Z"
   },
   {
    "duration": 4782,
    "start_time": "2022-02-11T10:46:59.326Z"
   },
   {
    "duration": 18,
    "start_time": "2022-02-11T10:47:06.891Z"
   },
   {
    "duration": 19478,
    "start_time": "2022-02-11T10:47:09.235Z"
   },
   {
    "duration": 24,
    "start_time": "2022-02-11T10:47:30.600Z"
   },
   {
    "duration": 36,
    "start_time": "2022-02-11T10:51:30.079Z"
   },
   {
    "duration": 32,
    "start_time": "2022-02-11T10:51:32.962Z"
   },
   {
    "duration": 5,
    "start_time": "2022-02-11T10:58:03.241Z"
   },
   {
    "duration": 506,
    "start_time": "2022-02-11T10:58:04.122Z"
   },
   {
    "duration": 6,
    "start_time": "2022-02-11T10:58:19.795Z"
   },
   {
    "duration": 916,
    "start_time": "2022-02-11T10:58:20.601Z"
   },
   {
    "duration": 6,
    "start_time": "2022-02-11T10:58:29.657Z"
   },
   {
    "duration": 513,
    "start_time": "2022-02-11T10:58:30.277Z"
   },
   {
    "duration": 14,
    "start_time": "2022-02-11T10:58:35.318Z"
   },
   {
    "duration": 14,
    "start_time": "2022-02-11T10:58:45.857Z"
   },
   {
    "duration": 5,
    "start_time": "2022-02-11T10:58:53.413Z"
   },
   {
    "duration": 538,
    "start_time": "2022-02-11T10:58:54.841Z"
   },
   {
    "duration": 587765,
    "start_time": "2022-02-11T11:00:35.191Z"
   },
   {
    "duration": 4,
    "start_time": "2022-02-11T11:10:25.587Z"
   },
   {
    "duration": 192724,
    "start_time": "2022-02-11T11:10:33.668Z"
   },
   {
    "duration": 250,
    "start_time": "2022-02-11T11:13:53.062Z"
   },
   {
    "duration": 658,
    "start_time": "2022-02-11T11:14:04.476Z"
   },
   {
    "duration": 236,
    "start_time": "2022-02-11T11:14:17.424Z"
   },
   {
    "duration": 251,
    "start_time": "2022-02-11T11:14:51.303Z"
   },
   {
    "duration": 471,
    "start_time": "2022-02-11T11:15:01.635Z"
   },
   {
    "duration": 234,
    "start_time": "2022-02-11T11:59:07.744Z"
   },
   {
    "duration": 424,
    "start_time": "2022-02-11T11:59:14.605Z"
   },
   {
    "duration": 246,
    "start_time": "2022-02-11T12:06:13.481Z"
   },
   {
    "duration": 851,
    "start_time": "2022-02-11T12:06:32.633Z"
   },
   {
    "duration": 268,
    "start_time": "2022-02-11T12:07:28.148Z"
   },
   {
    "duration": 443,
    "start_time": "2022-02-11T12:07:35.835Z"
   },
   {
    "duration": 597,
    "start_time": "2022-02-11T12:09:30.210Z"
   },
   {
    "duration": 603,
    "start_time": "2022-02-11T12:10:19.072Z"
   },
   {
    "duration": 580,
    "start_time": "2022-02-11T12:14:36.097Z"
   },
   {
    "duration": 296,
    "start_time": "2022-02-11T12:14:47.442Z"
   },
   {
    "duration": 211,
    "start_time": "2022-02-11T12:16:25.533Z"
   },
   {
    "duration": 1598,
    "start_time": "2022-02-11T12:16:32.651Z"
   },
   {
    "duration": 6437,
    "start_time": "2022-02-11T12:16:53.031Z"
   },
   {
    "duration": 286,
    "start_time": "2022-02-11T12:18:28.889Z"
   },
   {
    "duration": 664,
    "start_time": "2022-02-11T12:18:41.303Z"
   },
   {
    "duration": 587,
    "start_time": "2022-02-11T12:19:29.240Z"
   },
   {
    "duration": 19121,
    "start_time": "2022-02-11T12:32:20.415Z"
   },
   {
    "duration": 2616,
    "start_time": "2022-02-11T12:32:39.538Z"
   },
   {
    "duration": 519,
    "start_time": "2022-02-11T12:32:42.156Z"
   },
   {
    "duration": 16,
    "start_time": "2022-02-11T12:32:42.677Z"
   },
   {
    "duration": 316,
    "start_time": "2022-02-11T12:32:42.695Z"
   },
   {
    "duration": 31,
    "start_time": "2022-02-11T12:32:43.013Z"
   },
   {
    "duration": 355,
    "start_time": "2022-02-11T12:32:43.046Z"
   },
   {
    "duration": 455,
    "start_time": "2022-02-11T12:32:43.404Z"
   },
   {
    "duration": 11,
    "start_time": "2022-02-11T12:32:43.861Z"
   },
   {
    "duration": 52,
    "start_time": "2022-02-11T12:32:43.873Z"
   },
   {
    "duration": 89,
    "start_time": "2022-02-11T12:32:43.927Z"
   },
   {
    "duration": 387,
    "start_time": "2022-02-11T12:32:44.017Z"
   },
   {
    "duration": 324,
    "start_time": "2022-02-11T12:32:44.407Z"
   },
   {
    "duration": 316,
    "start_time": "2022-02-11T12:32:44.732Z"
   },
   {
    "duration": 49,
    "start_time": "2022-02-11T12:32:45.050Z"
   },
   {
    "duration": 142,
    "start_time": "2022-02-11T12:32:45.101Z"
   },
   {
    "duration": 1355,
    "start_time": "2022-02-11T12:32:45.244Z"
   },
   {
    "duration": 1015,
    "start_time": "2022-02-11T12:32:46.601Z"
   },
   {
    "duration": 26,
    "start_time": "2022-02-11T12:32:47.618Z"
   },
   {
    "duration": 26,
    "start_time": "2022-02-11T12:32:47.646Z"
   },
   {
    "duration": 161,
    "start_time": "2022-02-11T12:32:47.674Z"
   },
   {
    "duration": 525,
    "start_time": "2022-02-11T12:32:47.837Z"
   },
   {
    "duration": 1123,
    "start_time": "2022-02-11T12:32:48.366Z"
   },
   {
    "duration": 132,
    "start_time": "2022-02-11T12:32:49.498Z"
   },
   {
    "duration": 213,
    "start_time": "2022-02-11T12:32:49.632Z"
   },
   {
    "duration": 5,
    "start_time": "2022-02-11T12:32:49.847Z"
   },
   {
    "duration": 210,
    "start_time": "2022-02-11T12:32:49.854Z"
   },
   {
    "duration": 100,
    "start_time": "2022-02-11T12:32:50.066Z"
   },
   {
    "duration": 60,
    "start_time": "2022-02-11T12:32:50.167Z"
   },
   {
    "duration": 170,
    "start_time": "2022-02-11T12:32:50.229Z"
   },
   {
    "duration": 10,
    "start_time": "2022-02-11T12:32:50.401Z"
   },
   {
    "duration": 35,
    "start_time": "2022-02-11T12:32:50.413Z"
   },
   {
    "duration": 49,
    "start_time": "2022-02-11T12:32:50.450Z"
   },
   {
    "duration": 33,
    "start_time": "2022-02-11T12:32:50.501Z"
   },
   {
    "duration": 20,
    "start_time": "2022-02-11T12:32:50.536Z"
   },
   {
    "duration": 76,
    "start_time": "2022-02-11T12:32:50.558Z"
   },
   {
    "duration": 114,
    "start_time": "2022-02-11T12:32:50.636Z"
   },
   {
    "duration": 132,
    "start_time": "2022-02-11T12:32:50.752Z"
   },
   {
    "duration": 12,
    "start_time": "2022-02-11T12:32:50.886Z"
   },
   {
    "duration": 777,
    "start_time": "2022-02-11T12:32:50.900Z"
   },
   {
    "duration": 26,
    "start_time": "2022-02-11T12:32:51.679Z"
   },
   {
    "duration": 1349,
    "start_time": "2022-02-11T12:32:51.706Z"
   },
   {
    "duration": 550,
    "start_time": "2022-02-11T12:32:53.057Z"
   },
   {
    "duration": 138,
    "start_time": "2022-02-11T12:32:53.608Z"
   },
   {
    "duration": 21,
    "start_time": "2022-02-11T12:32:53.748Z"
   },
   {
    "duration": 151,
    "start_time": "2022-02-11T12:32:53.771Z"
   },
   {
    "duration": 840,
    "start_time": "2022-02-11T12:32:53.924Z"
   },
   {
    "duration": 282,
    "start_time": "2022-02-11T12:32:54.766Z"
   },
   {
    "duration": 695,
    "start_time": "2022-02-11T12:32:55.050Z"
   },
   {
    "duration": 52,
    "start_time": "2022-02-11T12:32:55.747Z"
   },
   {
    "duration": 6137,
    "start_time": "2022-02-11T12:32:55.801Z"
   },
   {
    "duration": 6,
    "start_time": "2022-02-11T12:33:01.940Z"
   },
   {
    "duration": 876,
    "start_time": "2022-02-11T12:33:01.948Z"
   },
   {
    "duration": 789,
    "start_time": "2022-02-11T12:33:02.825Z"
   },
   {
    "duration": 415,
    "start_time": "2022-02-11T12:33:03.616Z"
   },
   {
    "duration": 20,
    "start_time": "2022-02-11T12:33:04.033Z"
   },
   {
    "duration": 357,
    "start_time": "2022-02-11T12:33:04.055Z"
   },
   {
    "duration": 268,
    "start_time": "2022-02-11T12:33:04.414Z"
   },
   {
    "duration": 217,
    "start_time": "2022-02-11T12:33:04.684Z"
   },
   {
    "duration": 13,
    "start_time": "2022-02-11T12:33:04.903Z"
   },
   {
    "duration": 49,
    "start_time": "2022-02-11T12:33:04.918Z"
   },
   {
    "duration": 35,
    "start_time": "2022-02-11T12:33:04.969Z"
   },
   {
    "duration": 44,
    "start_time": "2022-02-11T12:33:05.006Z"
   },
   {
    "duration": 56,
    "start_time": "2022-02-11T12:33:05.052Z"
   },
   {
    "duration": 21,
    "start_time": "2022-02-11T12:33:05.110Z"
   },
   {
    "duration": 91,
    "start_time": "2022-02-11T12:33:05.133Z"
   },
   {
    "duration": 471,
    "start_time": "2022-02-11T12:33:05.227Z"
   },
   {
    "duration": 186,
    "start_time": "2022-02-11T12:33:05.704Z"
   },
   {
    "duration": 169,
    "start_time": "2022-02-11T12:33:05.892Z"
   },
   {
    "duration": 282,
    "start_time": "2022-02-11T12:33:06.063Z"
   },
   {
    "duration": 432,
    "start_time": "2022-02-11T12:33:06.346Z"
   },
   {
    "duration": 5,
    "start_time": "2022-02-11T12:33:06.780Z"
   },
   {
    "duration": 14,
    "start_time": "2022-02-11T12:33:06.799Z"
   },
   {
    "duration": 143,
    "start_time": "2022-02-11T12:33:06.815Z"
   },
   {
    "duration": 18,
    "start_time": "2022-02-11T12:33:06.960Z"
   },
   {
    "duration": 33,
    "start_time": "2022-02-11T12:33:06.980Z"
   },
   {
    "duration": 23,
    "start_time": "2022-02-11T12:33:07.015Z"
   },
   {
    "duration": 21,
    "start_time": "2022-02-11T12:33:07.040Z"
   },
   {
    "duration": 54,
    "start_time": "2022-02-11T12:33:07.062Z"
   },
   {
    "duration": 21,
    "start_time": "2022-02-11T12:33:07.118Z"
   },
   {
    "duration": 56,
    "start_time": "2022-02-11T12:33:07.141Z"
   },
   {
    "duration": 15,
    "start_time": "2022-02-11T12:33:07.200Z"
   },
   {
    "duration": 29,
    "start_time": "2022-02-11T12:33:07.216Z"
   },
   {
    "duration": 6,
    "start_time": "2022-02-11T12:33:07.247Z"
   },
   {
    "duration": 45,
    "start_time": "2022-02-11T12:33:07.256Z"
   },
   {
    "duration": 15,
    "start_time": "2022-02-11T12:33:07.304Z"
   },
   {
    "duration": 25,
    "start_time": "2022-02-11T12:33:07.321Z"
   },
   {
    "duration": 7,
    "start_time": "2022-02-11T12:33:07.348Z"
   },
   {
    "duration": 54,
    "start_time": "2022-02-11T12:33:07.357Z"
   },
   {
    "duration": 2188,
    "start_time": "2022-02-11T12:33:07.413Z"
   },
   {
    "duration": 4739,
    "start_time": "2022-02-11T12:33:09.603Z"
   },
   {
    "duration": 17,
    "start_time": "2022-02-11T12:33:14.344Z"
   },
   {
    "duration": 19871,
    "start_time": "2022-02-11T12:33:14.363Z"
   },
   {
    "duration": 101,
    "start_time": "2022-02-11T12:33:34.236Z"
   },
   {
    "duration": 59,
    "start_time": "2022-02-11T12:33:34.339Z"
   },
   {
    "duration": 36,
    "start_time": "2022-02-11T12:33:34.400Z"
   },
   {
    "duration": 14205,
    "start_time": "2022-02-12T14:24:34.021Z"
   },
   {
    "duration": 8640,
    "start_time": "2022-02-12T14:24:48.227Z"
   },
   {
    "duration": 797,
    "start_time": "2022-02-12T14:24:56.869Z"
   },
   {
    "duration": 12,
    "start_time": "2022-02-12T14:24:57.668Z"
   },
   {
    "duration": 308,
    "start_time": "2022-02-12T14:24:57.681Z"
   },
   {
    "duration": 37,
    "start_time": "2022-02-12T14:24:57.991Z"
   },
   {
    "duration": 357,
    "start_time": "2022-02-12T14:24:58.029Z"
   },
   {
    "duration": 549,
    "start_time": "2022-02-12T14:24:58.389Z"
   },
   {
    "duration": 39,
    "start_time": "2022-02-12T14:24:58.940Z"
   },
   {
    "duration": 52,
    "start_time": "2022-02-12T14:24:58.980Z"
   },
   {
    "duration": 81,
    "start_time": "2022-02-12T14:24:59.033Z"
   },
   {
    "duration": 384,
    "start_time": "2022-02-12T14:24:59.116Z"
   },
   {
    "duration": 261,
    "start_time": "2022-02-12T14:24:59.501Z"
   },
   {
    "duration": 275,
    "start_time": "2022-02-12T14:24:59.764Z"
   },
   {
    "duration": 40,
    "start_time": "2022-02-12T14:25:00.041Z"
   },
   {
    "duration": 141,
    "start_time": "2022-02-12T14:25:00.083Z"
   },
   {
    "duration": 2433,
    "start_time": "2022-02-12T14:25:00.227Z"
   },
   {
    "duration": 987,
    "start_time": "2022-02-12T14:25:02.661Z"
   },
   {
    "duration": 21,
    "start_time": "2022-02-12T14:25:03.649Z"
   },
   {
    "duration": 19,
    "start_time": "2022-02-12T14:25:03.671Z"
   },
   {
    "duration": 183,
    "start_time": "2022-02-12T14:25:03.691Z"
   },
   {
    "duration": 570,
    "start_time": "2022-02-12T14:25:03.875Z"
   },
   {
    "duration": 915,
    "start_time": "2022-02-12T14:25:04.449Z"
   },
   {
    "duration": 103,
    "start_time": "2022-02-12T14:25:05.366Z"
   },
   {
    "duration": 185,
    "start_time": "2022-02-12T14:25:05.471Z"
   },
   {
    "duration": 4,
    "start_time": "2022-02-12T14:25:05.658Z"
   },
   {
    "duration": 193,
    "start_time": "2022-02-12T14:25:05.663Z"
   },
   {
    "duration": 88,
    "start_time": "2022-02-12T14:25:05.858Z"
   },
   {
    "duration": 50,
    "start_time": "2022-02-12T14:25:05.947Z"
   },
   {
    "duration": 129,
    "start_time": "2022-02-12T14:25:05.999Z"
   },
   {
    "duration": 8,
    "start_time": "2022-02-12T14:25:06.129Z"
   },
   {
    "duration": 16,
    "start_time": "2022-02-12T14:25:06.141Z"
   },
   {
    "duration": 24,
    "start_time": "2022-02-12T14:25:06.159Z"
   },
   {
    "duration": 8,
    "start_time": "2022-02-12T14:25:06.184Z"
   },
   {
    "duration": 42,
    "start_time": "2022-02-12T14:25:06.193Z"
   },
   {
    "duration": 56,
    "start_time": "2022-02-12T14:25:06.236Z"
   },
   {
    "duration": 112,
    "start_time": "2022-02-12T14:25:06.293Z"
   },
   {
    "duration": 127,
    "start_time": "2022-02-12T14:25:06.407Z"
   },
   {
    "duration": 5,
    "start_time": "2022-02-12T14:25:06.537Z"
   },
   {
    "duration": 613,
    "start_time": "2022-02-12T14:25:06.544Z"
   },
   {
    "duration": 10,
    "start_time": "2022-02-12T14:25:07.159Z"
   },
   {
    "duration": 2455,
    "start_time": "2022-02-12T14:25:07.171Z"
   },
   {
    "duration": 561,
    "start_time": "2022-02-12T14:25:09.628Z"
   },
   {
    "duration": 150,
    "start_time": "2022-02-12T14:25:10.190Z"
   },
   {
    "duration": 18,
    "start_time": "2022-02-12T14:25:10.342Z"
   },
   {
    "duration": 133,
    "start_time": "2022-02-12T14:25:10.361Z"
   },
   {
    "duration": 591,
    "start_time": "2022-02-12T14:25:10.495Z"
   },
   {
    "duration": 170,
    "start_time": "2022-02-12T14:25:11.087Z"
   },
   {
    "duration": 438,
    "start_time": "2022-02-12T14:25:11.259Z"
   },
   {
    "duration": 2,
    "start_time": "2022-02-12T14:25:11.699Z"
   },
   {
    "duration": 11901,
    "start_time": "2022-02-12T14:25:11.702Z"
   },
   {
    "duration": 5,
    "start_time": "2022-02-12T14:25:23.605Z"
   },
   {
    "duration": 453,
    "start_time": "2022-02-12T14:25:23.611Z"
   },
   {
    "duration": 498,
    "start_time": "2022-02-12T14:25:24.066Z"
   },
   {
    "duration": 225,
    "start_time": "2022-02-12T14:25:24.566Z"
   },
   {
    "duration": 34,
    "start_time": "2022-02-12T14:25:24.793Z"
   },
   {
    "duration": 263,
    "start_time": "2022-02-12T14:25:24.828Z"
   },
   {
    "duration": 278,
    "start_time": "2022-02-12T14:25:25.092Z"
   },
   {
    "duration": 196,
    "start_time": "2022-02-12T14:25:25.372Z"
   },
   {
    "duration": 10,
    "start_time": "2022-02-12T14:25:25.570Z"
   },
   {
    "duration": 47,
    "start_time": "2022-02-12T14:25:25.582Z"
   },
   {
    "duration": 10,
    "start_time": "2022-02-12T14:25:25.631Z"
   },
   {
    "duration": 38,
    "start_time": "2022-02-12T14:25:25.643Z"
   },
   {
    "duration": 19,
    "start_time": "2022-02-12T14:25:25.682Z"
   },
   {
    "duration": 39,
    "start_time": "2022-02-12T14:25:25.702Z"
   },
   {
    "duration": 47,
    "start_time": "2022-02-12T14:25:25.742Z"
   },
   {
    "duration": 338,
    "start_time": "2022-02-12T14:25:25.790Z"
   },
   {
    "duration": 124,
    "start_time": "2022-02-12T14:25:26.132Z"
   },
   {
    "duration": 138,
    "start_time": "2022-02-12T14:25:26.258Z"
   },
   {
    "duration": 235,
    "start_time": "2022-02-12T14:25:26.398Z"
   },
   {
    "duration": 361,
    "start_time": "2022-02-12T14:25:26.635Z"
   },
   {
    "duration": 5,
    "start_time": "2022-02-12T14:25:26.998Z"
   },
   {
    "duration": 29,
    "start_time": "2022-02-12T14:25:27.004Z"
   },
   {
    "duration": 268,
    "start_time": "2022-02-12T14:25:27.034Z"
   },
   {
    "duration": 24,
    "start_time": "2022-02-12T14:25:27.303Z"
   },
   {
    "duration": 15,
    "start_time": "2022-02-12T14:25:27.328Z"
   },
   {
    "duration": 14,
    "start_time": "2022-02-12T14:25:27.345Z"
   },
   {
    "duration": 16,
    "start_time": "2022-02-12T14:25:27.360Z"
   },
   {
    "duration": 51,
    "start_time": "2022-02-12T14:25:27.377Z"
   },
   {
    "duration": 16,
    "start_time": "2022-02-12T14:25:27.430Z"
   },
   {
    "duration": 30,
    "start_time": "2022-02-12T14:25:27.448Z"
   },
   {
    "duration": 13,
    "start_time": "2022-02-12T14:25:27.480Z"
   },
   {
    "duration": 42,
    "start_time": "2022-02-12T14:25:27.494Z"
   },
   {
    "duration": 5,
    "start_time": "2022-02-12T14:25:27.538Z"
   },
   {
    "duration": 13,
    "start_time": "2022-02-12T14:25:27.544Z"
   },
   {
    "duration": 14,
    "start_time": "2022-02-12T14:25:27.558Z"
   },
   {
    "duration": 20,
    "start_time": "2022-02-12T14:25:27.574Z"
   },
   {
    "duration": 33,
    "start_time": "2022-02-12T14:25:27.595Z"
   },
   {
    "duration": 14,
    "start_time": "2022-02-12T14:25:27.630Z"
   },
   {
    "duration": 1946,
    "start_time": "2022-02-12T14:25:27.645Z"
   },
   {
    "duration": 4070,
    "start_time": "2022-02-12T14:25:29.593Z"
   },
   {
    "duration": 14,
    "start_time": "2022-02-12T14:25:33.665Z"
   },
   {
    "duration": 16793,
    "start_time": "2022-02-12T14:25:33.680Z"
   },
   {
    "duration": 18,
    "start_time": "2022-02-12T14:25:50.475Z"
   },
   {
    "duration": 48,
    "start_time": "2022-02-12T14:25:50.494Z"
   },
   {
    "duration": 27,
    "start_time": "2022-02-12T14:25:50.544Z"
   },
   {
    "duration": 110844,
    "start_time": "2022-02-21T14:50:20.534Z"
   },
   {
    "duration": 2580,
    "start_time": "2022-02-21T14:52:11.380Z"
   },
   {
    "duration": 453,
    "start_time": "2022-02-21T14:52:13.961Z"
   },
   {
    "duration": 13,
    "start_time": "2022-02-21T14:52:14.416Z"
   },
   {
    "duration": 348,
    "start_time": "2022-02-21T14:52:14.430Z"
   },
   {
    "duration": 45,
    "start_time": "2022-02-21T14:52:14.779Z"
   },
   {
    "duration": 353,
    "start_time": "2022-02-21T14:52:14.825Z"
   },
   {
    "duration": 512,
    "start_time": "2022-02-21T14:52:15.180Z"
   },
   {
    "duration": 41,
    "start_time": "2022-02-21T14:52:15.694Z"
   },
   {
    "duration": 37,
    "start_time": "2022-02-21T14:52:15.737Z"
   },
   {
    "duration": 92,
    "start_time": "2022-02-21T14:52:15.775Z"
   },
   {
    "duration": 355,
    "start_time": "2022-02-21T14:52:15.869Z"
   },
   {
    "duration": 264,
    "start_time": "2022-02-21T14:52:16.226Z"
   },
   {
    "duration": 268,
    "start_time": "2022-02-21T14:52:16.492Z"
   },
   {
    "duration": 41,
    "start_time": "2022-02-21T14:52:16.761Z"
   },
   {
    "duration": 142,
    "start_time": "2022-02-21T14:52:16.803Z"
   },
   {
    "duration": 2750,
    "start_time": "2022-02-21T14:52:16.947Z"
   },
   {
    "duration": 1005,
    "start_time": "2022-02-21T14:52:19.699Z"
   },
   {
    "duration": 31,
    "start_time": "2022-02-21T14:52:20.706Z"
   },
   {
    "duration": 20,
    "start_time": "2022-02-21T14:52:20.739Z"
   },
   {
    "duration": 185,
    "start_time": "2022-02-21T14:52:20.760Z"
   },
   {
    "duration": 600,
    "start_time": "2022-02-21T14:52:20.947Z"
   },
   {
    "duration": 933,
    "start_time": "2022-02-21T14:52:21.551Z"
   },
   {
    "duration": 111,
    "start_time": "2022-02-21T14:52:22.487Z"
   },
   {
    "duration": 190,
    "start_time": "2022-02-21T14:52:22.600Z"
   },
   {
    "duration": 3,
    "start_time": "2022-02-21T14:52:22.792Z"
   },
   {
    "duration": 187,
    "start_time": "2022-02-21T14:52:22.797Z"
   },
   {
    "duration": 92,
    "start_time": "2022-02-21T14:52:22.985Z"
   },
   {
    "duration": 48,
    "start_time": "2022-02-21T14:52:23.079Z"
   },
   {
    "duration": 194,
    "start_time": "2022-02-21T14:52:23.129Z"
   },
   {
    "duration": 9,
    "start_time": "2022-02-21T14:52:23.325Z"
   },
   {
    "duration": 20,
    "start_time": "2022-02-21T14:52:23.336Z"
   },
   {
    "duration": 72,
    "start_time": "2022-02-21T14:52:23.357Z"
   },
   {
    "duration": 10,
    "start_time": "2022-02-21T14:52:23.431Z"
   },
   {
    "duration": 13,
    "start_time": "2022-02-21T14:52:23.443Z"
   },
   {
    "duration": 110,
    "start_time": "2022-02-21T14:52:23.458Z"
   },
   {
    "duration": 129,
    "start_time": "2022-02-21T14:52:23.570Z"
   },
   {
    "duration": 128,
    "start_time": "2022-02-21T14:52:23.701Z"
   },
   {
    "duration": 6,
    "start_time": "2022-02-21T14:52:23.832Z"
   },
   {
    "duration": 695,
    "start_time": "2022-02-21T14:52:23.840Z"
   },
   {
    "duration": 13,
    "start_time": "2022-02-21T14:52:24.537Z"
   },
   {
    "duration": 2703,
    "start_time": "2022-02-21T14:52:24.552Z"
   },
   {
    "duration": 573,
    "start_time": "2022-02-21T14:52:27.257Z"
   },
   {
    "duration": 158,
    "start_time": "2022-02-21T14:52:27.831Z"
   },
   {
    "duration": 33,
    "start_time": "2022-02-21T14:52:27.991Z"
   },
   {
    "duration": 136,
    "start_time": "2022-02-21T14:52:28.026Z"
   },
   {
    "duration": 667,
    "start_time": "2022-02-21T14:52:28.164Z"
   },
   {
    "duration": 217,
    "start_time": "2022-02-21T14:52:28.833Z"
   },
   {
    "duration": 657,
    "start_time": "2022-02-21T14:52:29.052Z"
   },
   {
    "duration": 8,
    "start_time": "2022-02-21T14:52:29.711Z"
   },
   {
    "duration": 12700,
    "start_time": "2022-02-21T14:52:29.721Z"
   },
   {
    "duration": 5,
    "start_time": "2022-02-21T14:52:42.423Z"
   },
   {
    "duration": 550,
    "start_time": "2022-02-21T14:52:42.430Z"
   },
   {
    "duration": 511,
    "start_time": "2022-02-21T14:52:42.981Z"
   },
   {
    "duration": 271,
    "start_time": "2022-02-21T14:52:43.494Z"
   },
   {
    "duration": 18,
    "start_time": "2022-02-21T14:52:43.766Z"
   },
   {
    "duration": 265,
    "start_time": "2022-02-21T14:52:43.786Z"
   },
   {
    "duration": 273,
    "start_time": "2022-02-21T14:52:44.053Z"
   },
   {
    "duration": 197,
    "start_time": "2022-02-21T14:52:44.328Z"
   },
   {
    "duration": 12,
    "start_time": "2022-02-21T14:52:44.527Z"
   },
   {
    "duration": 35,
    "start_time": "2022-02-21T14:52:44.540Z"
   },
   {
    "duration": 13,
    "start_time": "2022-02-21T14:52:44.577Z"
   },
   {
    "duration": 45,
    "start_time": "2022-02-21T14:52:44.619Z"
   },
   {
    "duration": 20,
    "start_time": "2022-02-21T14:52:44.666Z"
   },
   {
    "duration": 44,
    "start_time": "2022-02-21T14:52:44.687Z"
   },
   {
    "duration": 56,
    "start_time": "2022-02-21T14:52:44.732Z"
   },
   {
    "duration": 378,
    "start_time": "2022-02-21T14:52:44.789Z"
   },
   {
    "duration": 120,
    "start_time": "2022-02-21T14:52:45.172Z"
   },
   {
    "duration": 148,
    "start_time": "2022-02-21T14:52:45.294Z"
   },
   {
    "duration": 246,
    "start_time": "2022-02-21T14:52:45.444Z"
   },
   {
    "duration": 376,
    "start_time": "2022-02-21T14:52:45.692Z"
   },
   {
    "duration": 5,
    "start_time": "2022-02-21T14:52:46.070Z"
   },
   {
    "duration": 32,
    "start_time": "2022-02-21T14:52:46.077Z"
   },
   {
    "duration": 311,
    "start_time": "2022-02-21T14:52:46.111Z"
   },
   {
    "duration": 18,
    "start_time": "2022-02-21T14:52:46.423Z"
   },
   {
    "duration": 17,
    "start_time": "2022-02-21T14:52:46.442Z"
   },
   {
    "duration": 16,
    "start_time": "2022-02-21T14:52:46.460Z"
   },
   {
    "duration": 48,
    "start_time": "2022-02-21T14:52:46.478Z"
   },
   {
    "duration": 23,
    "start_time": "2022-02-21T14:52:46.527Z"
   },
   {
    "duration": 18,
    "start_time": "2022-02-21T14:52:46.552Z"
   },
   {
    "duration": 59,
    "start_time": "2022-02-21T14:52:46.572Z"
   },
   {
    "duration": 15,
    "start_time": "2022-02-21T14:52:46.633Z"
   },
   {
    "duration": 27,
    "start_time": "2022-02-21T14:52:46.649Z"
   },
   {
    "duration": 5,
    "start_time": "2022-02-21T14:52:46.677Z"
   },
   {
    "duration": 37,
    "start_time": "2022-02-21T14:52:46.684Z"
   },
   {
    "duration": 15,
    "start_time": "2022-02-21T14:52:46.723Z"
   },
   {
    "duration": 23,
    "start_time": "2022-02-21T14:52:46.739Z"
   },
   {
    "duration": 6,
    "start_time": "2022-02-21T14:52:46.763Z"
   },
   {
    "duration": 16,
    "start_time": "2022-02-21T14:52:46.770Z"
   },
   {
    "duration": 2154,
    "start_time": "2022-02-21T14:52:46.787Z"
   },
   {
    "duration": 4184,
    "start_time": "2022-02-21T14:52:48.943Z"
   },
   {
    "duration": 15,
    "start_time": "2022-02-21T14:52:53.129Z"
   },
   {
    "duration": 17129,
    "start_time": "2022-02-21T14:52:53.146Z"
   },
   {
    "duration": 17,
    "start_time": "2022-02-21T14:53:10.276Z"
   },
   {
    "duration": 40,
    "start_time": "2022-02-21T14:53:10.295Z"
   },
   {
    "duration": 23,
    "start_time": "2022-02-21T14:53:10.336Z"
   },
   {
    "duration": 10,
    "start_time": "2022-02-21T14:53:10.360Z"
   },
   {
    "duration": 7,
    "start_time": "2022-02-21T14:53:10.371Z"
   },
   {
    "duration": 41,
    "start_time": "2022-02-21T14:53:10.379Z"
   },
   {
    "duration": 6,
    "start_time": "2022-02-21T14:53:10.421Z"
   },
   {
    "duration": 23527,
    "start_time": "2022-02-24T15:30:45.010Z"
   },
   {
    "duration": 4884,
    "start_time": "2022-02-24T15:31:08.540Z"
   },
   {
    "duration": 1064,
    "start_time": "2022-02-24T15:31:13.427Z"
   },
   {
    "duration": 19,
    "start_time": "2022-02-24T15:31:14.495Z"
   },
   {
    "duration": 512,
    "start_time": "2022-02-24T15:31:14.517Z"
   },
   {
    "duration": 68,
    "start_time": "2022-02-24T15:31:15.032Z"
   },
   {
    "duration": 618,
    "start_time": "2022-02-24T15:31:15.103Z"
   },
   {
    "duration": 821,
    "start_time": "2022-02-24T15:31:15.725Z"
   },
   {
    "duration": 73,
    "start_time": "2022-02-24T15:31:16.550Z"
   },
   {
    "duration": 69,
    "start_time": "2022-02-24T15:31:16.626Z"
   },
   {
    "duration": 111,
    "start_time": "2022-02-24T15:31:16.697Z"
   },
   {
    "duration": 531,
    "start_time": "2022-02-24T15:31:16.811Z"
   },
   {
    "duration": 467,
    "start_time": "2022-02-24T15:31:17.344Z"
   },
   {
    "duration": 488,
    "start_time": "2022-02-24T15:31:17.813Z"
   },
   {
    "duration": 66,
    "start_time": "2022-02-24T15:31:18.303Z"
   },
   {
    "duration": 218,
    "start_time": "2022-02-24T15:31:18.372Z"
   },
   {
    "duration": 4863,
    "start_time": "2022-02-24T15:31:18.593Z"
   },
   {
    "duration": 1126,
    "start_time": "2022-02-24T15:31:23.459Z"
   },
   {
    "duration": 53,
    "start_time": "2022-02-24T15:31:24.589Z"
   },
   {
    "duration": 59,
    "start_time": "2022-02-24T15:31:24.645Z"
   },
   {
    "duration": 245,
    "start_time": "2022-02-24T15:31:24.707Z"
   },
   {
    "duration": 855,
    "start_time": "2022-02-24T15:31:24.954Z"
   },
   {
    "duration": 1378,
    "start_time": "2022-02-24T15:31:25.815Z"
   },
   {
    "duration": 167,
    "start_time": "2022-02-24T15:31:27.197Z"
   },
   {
    "duration": 267,
    "start_time": "2022-02-24T15:31:27.366Z"
   },
   {
    "duration": 7,
    "start_time": "2022-02-24T15:31:27.636Z"
   },
   {
    "duration": 268,
    "start_time": "2022-02-24T15:31:27.645Z"
   },
   {
    "duration": 134,
    "start_time": "2022-02-24T15:31:27.916Z"
   },
   {
    "duration": 72,
    "start_time": "2022-02-24T15:31:28.053Z"
   },
   {
    "duration": 178,
    "start_time": "2022-02-24T15:31:28.128Z"
   },
   {
    "duration": 15,
    "start_time": "2022-02-24T15:31:28.308Z"
   },
   {
    "duration": 25,
    "start_time": "2022-02-24T15:31:28.325Z"
   },
   {
    "duration": 66,
    "start_time": "2022-02-24T15:31:28.353Z"
   },
   {
    "duration": 14,
    "start_time": "2022-02-24T15:31:28.422Z"
   },
   {
    "duration": 19,
    "start_time": "2022-02-24T15:31:28.438Z"
   },
   {
    "duration": 105,
    "start_time": "2022-02-24T15:31:28.459Z"
   },
   {
    "duration": 155,
    "start_time": "2022-02-24T15:31:28.567Z"
   },
   {
    "duration": 166,
    "start_time": "2022-02-24T15:31:28.725Z"
   },
   {
    "duration": 8,
    "start_time": "2022-02-24T15:31:28.894Z"
   },
   {
    "duration": 892,
    "start_time": "2022-02-24T15:31:28.905Z"
   },
   {
    "duration": 19,
    "start_time": "2022-02-24T15:31:29.800Z"
   },
   {
    "duration": 4752,
    "start_time": "2022-02-24T15:31:29.822Z"
   },
   {
    "duration": 773,
    "start_time": "2022-02-24T15:31:34.577Z"
   },
   {
    "duration": 230,
    "start_time": "2022-02-24T15:31:35.353Z"
   },
   {
    "duration": 32,
    "start_time": "2022-02-24T15:31:35.594Z"
   },
   {
    "duration": 201,
    "start_time": "2022-02-24T15:31:35.629Z"
   },
   {
    "duration": 1016,
    "start_time": "2022-02-24T15:31:35.833Z"
   },
   {
    "duration": 308,
    "start_time": "2022-02-24T15:31:36.852Z"
   },
   {
    "duration": 937,
    "start_time": "2022-02-24T15:31:37.162Z"
   },
   {
    "duration": 5,
    "start_time": "2022-02-24T15:31:38.102Z"
   },
   {
    "duration": 23813,
    "start_time": "2022-02-24T15:31:38.110Z"
   },
   {
    "duration": 9,
    "start_time": "2022-02-24T15:32:01.925Z"
   },
   {
    "duration": 897,
    "start_time": "2022-02-24T15:32:01.936Z"
   },
   {
    "duration": 944,
    "start_time": "2022-02-24T15:32:02.835Z"
   },
   {
    "duration": 539,
    "start_time": "2022-02-24T15:32:03.781Z"
   },
   {
    "duration": 31,
    "start_time": "2022-02-24T15:32:04.323Z"
   },
   {
    "duration": 426,
    "start_time": "2022-02-24T15:32:04.357Z"
   },
   {
    "duration": 391,
    "start_time": "2022-02-24T15:32:04.785Z"
   },
   {
    "duration": 306,
    "start_time": "2022-02-24T15:32:05.179Z"
   },
   {
    "duration": 20,
    "start_time": "2022-02-24T15:32:05.488Z"
   },
   {
    "duration": 57,
    "start_time": "2022-02-24T15:32:05.510Z"
   },
   {
    "duration": 39,
    "start_time": "2022-02-24T15:32:05.569Z"
   },
   {
    "duration": 84,
    "start_time": "2022-02-24T15:32:05.611Z"
   },
   {
    "duration": 33,
    "start_time": "2022-02-24T15:32:05.698Z"
   },
   {
    "duration": 62,
    "start_time": "2022-02-24T15:32:05.734Z"
   },
   {
    "duration": 102,
    "start_time": "2022-02-24T15:32:05.798Z"
   },
   {
    "duration": 532,
    "start_time": "2022-02-24T15:32:05.902Z"
   },
   {
    "duration": 193,
    "start_time": "2022-02-24T15:32:06.443Z"
   },
   {
    "duration": 226,
    "start_time": "2022-02-24T15:32:06.640Z"
   },
   {
    "duration": 419,
    "start_time": "2022-02-24T15:32:06.869Z"
   },
   {
    "duration": 547,
    "start_time": "2022-02-24T15:32:07.295Z"
   },
   {
    "duration": 9,
    "start_time": "2022-02-24T15:32:07.845Z"
   },
   {
    "duration": 49,
    "start_time": "2022-02-24T15:32:07.856Z"
   },
   {
    "duration": 459,
    "start_time": "2022-02-24T15:32:07.907Z"
   },
   {
    "duration": 31,
    "start_time": "2022-02-24T15:32:08.369Z"
   },
   {
    "duration": 29,
    "start_time": "2022-02-24T15:32:08.402Z"
   },
   {
    "duration": 62,
    "start_time": "2022-02-24T15:32:08.434Z"
   },
   {
    "duration": 28,
    "start_time": "2022-02-24T15:32:08.499Z"
   },
   {
    "duration": 71,
    "start_time": "2022-02-24T15:32:08.529Z"
   },
   {
    "duration": 31,
    "start_time": "2022-02-24T15:32:08.602Z"
   },
   {
    "duration": 88,
    "start_time": "2022-02-24T15:32:08.635Z"
   },
   {
    "duration": 25,
    "start_time": "2022-02-24T15:32:08.725Z"
   },
   {
    "duration": 64,
    "start_time": "2022-02-24T15:32:08.753Z"
   },
   {
    "duration": 9,
    "start_time": "2022-02-24T15:32:08.820Z"
   },
   {
    "duration": 24,
    "start_time": "2022-02-24T15:32:08.832Z"
   },
   {
    "duration": 55,
    "start_time": "2022-02-24T15:32:08.859Z"
   },
   {
    "duration": 37,
    "start_time": "2022-02-24T15:32:08.917Z"
   },
   {
    "duration": 8,
    "start_time": "2022-02-24T15:32:08.957Z"
   },
   {
    "duration": 25,
    "start_time": "2022-02-24T15:32:08.994Z"
   },
   {
    "duration": 8304,
    "start_time": "2022-02-24T15:32:09.022Z"
   },
   {
    "duration": 4979,
    "start_time": "2022-02-24T15:32:17.338Z"
   },
   {
    "duration": 28,
    "start_time": "2022-02-24T15:32:22.320Z"
   },
   {
    "duration": 20094,
    "start_time": "2022-02-24T15:32:22.351Z"
   },
   {
    "duration": 30,
    "start_time": "2022-02-24T15:32:42.447Z"
   },
   {
    "duration": 51,
    "start_time": "2022-02-24T15:32:42.493Z"
   },
   {
    "duration": 79,
    "start_time": "2022-02-24T15:32:42.547Z"
   },
   {
    "duration": 18,
    "start_time": "2022-02-24T15:32:42.628Z"
   },
   {
    "duration": 47,
    "start_time": "2022-02-24T15:32:42.648Z"
   },
   {
    "duration": 10,
    "start_time": "2022-02-24T15:32:42.698Z"
   },
   {
    "duration": 13,
    "start_time": "2022-02-24T15:32:42.710Z"
   }
  ],
  "kernelspec": {
   "display_name": "Python 3",
   "language": "python",
   "name": "python3"
  },
  "language_info": {
   "codemirror_mode": {
    "name": "ipython",
    "version": 3
   },
   "file_extension": ".py",
   "mimetype": "text/x-python",
   "name": "python",
   "nbconvert_exporter": "python",
   "pygments_lexer": "ipython3",
   "version": "3.8.8"
  },
  "toc": {
   "base_numbering": 1,
   "nav_menu": {},
   "number_sections": true,
   "sideBar": true,
   "skip_h1_title": true,
   "title_cell": "Table of Contents",
   "title_sidebar": "Contents",
   "toc_cell": false,
   "toc_position": {},
   "toc_section_display": true,
   "toc_window_display": false
  }
 },
 "nbformat": 4,
 "nbformat_minor": 2
}
