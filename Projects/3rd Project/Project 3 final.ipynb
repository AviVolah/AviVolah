{
 "cells": [
  {
   "cell_type": "markdown",
   "metadata": {},
   "source": [
    "Hi Avi. I'm Svetlana and will review your project. I've added all my comments to new cells with different coloring. Please don't delete my comments.\n",
    "\n",
    "\n",
    "The first time I see a mistake, I'll just point it out and let you find it and fix it yourself. In a real job, your boss will do the same, and I'm trying to prepare you to work as an Data Analyst. But if you can't handle this task yet, I'll give you a more accurate hint at the next check.\n",
    "\n",
    "<div class=\"alert alert-success\" role=\"alert\">\n",
    "Reviewer's comment v. 1:\n",
    "    \n",
    "If you did something great I'm using green color for my comment\n",
    "</div>\n",
    "\n",
    "<div class=\"alert alert-warning\" role=\"alert\">\n",
    "Reviewer's comment v. 1:\n",
    "    \n",
    "If I want to give you advice or think that something can be improved, then I'll use yellow. This is an optional recommendation.\n",
    "</div>\n",
    "\n",
    "<div class=\"alert alert-danger\" role=\"alert\">\n",
    "Reviewer's comment v. 1:\n",
    "    \n",
    "If the topic requires some extra work so I can accept it then the color will be red\n",
    "</div>\n",
    "\n",
    "## Review v. 1<a class=\"tocSkip\">\n",
    "\n",
    "You've worked really hard and submitted a solid project. While there's room for improvement, on the whole, your project is looking good. There are few things that need to be corrected in your project. They're mostly minor issues that are easy to fix. There are also some comments for improvement. They don’t mean that you’ve done anything wrong, but they’re things we wanted to point out that can help you further develop your skills. One more time and you'll have it!\n",
    "    \n",
    "## Review v. 2<a class=\"tocSkip\">\n",
    "    \n",
    "Your corrections look great, you've improved your work significantly! I'm glad to say that your project has been accepted. Keep up the good work, and good luck on the next sprint! "
   ]
  },
  {
   "cell_type": "markdown",
   "metadata": {},
   "source": [
    "# Research on telecom plans\n",
    "\n",
    "You work as an analyst for the telecom operator Megaline. The company offers its clients two prepaid plans, Surf and Ultimate. The commercial department wants to know which of the plans brings in more revenue in order to adjust the advertising budget.\n",
    "You are going to carry out a preliminary analysis of the plans based on a relatively small client selection. You'll have the data on 500 Megaline clients: who the clients are, where they're from, which plan they use, and the number of calls they made and text messages they sent in 2018. Your job is to analyze clients' behavior and determine which prepaid plan brings in more revenue."
   ]
  },
  {
   "cell_type": "markdown",
   "metadata": {},
   "source": [
    "<div class=\"alert alert-warning\" role=\"alert\">\n",
    "Reviewer's comment v. 1:\n",
    "    \n",
    "Well done that you clearly described the project, but please formulate a goal of it explicitly.\n",
    "</div>"
   ]
  },
  {
   "cell_type": "markdown",
   "metadata": {},
   "source": [
    "<div class=\"alert alert-info\"> <b> what do you mean? i just copied the way it was done in the previous project where it was pre-written by practicum...</b>"
   ]
  },
  {
   "cell_type": "markdown",
   "metadata": {},
   "source": [
    "<div class=\"alert alert-success\" role=\"alert\">\n",
    "Reviewer's comment v. 2:\n",
    "    \n",
    "I mean to add your own formulation of the goal of the project.\n",
    "</div>"
   ]
  },
  {
   "cell_type": "markdown",
   "metadata": {},
   "source": [
    "## Step 1. Open the data file and study the general information"
   ]
  },
  {
   "cell_type": "code",
   "execution_count": 1,
   "metadata": {},
   "outputs": [],
   "source": [
    "#importing libraries\n",
    "import pandas as pd\n",
    "import matplotlib.pyplot as plt\n",
    "from scipy import stats as st\n",
    "import numpy as np\n",
    "import seaborn as sns\n",
    "from IPython.core.interactiveshell import InteractiveShell\n",
    "InteractiveShell.ast_node_interactivity = 'all'"
   ]
  },
  {
   "cell_type": "code",
   "execution_count": 2,
   "metadata": {
    "scrolled": true
   },
   "outputs": [
    {
     "name": "stdout",
     "output_type": "stream",
     "text": [
      "<class 'pandas.core.frame.DataFrame'>\n",
      "RangeIndex: 500 entries, 0 to 499\n",
      "Data columns (total 8 columns):\n",
      " #   Column      Non-Null Count  Dtype \n",
      "---  ------      --------------  ----- \n",
      " 0   user_id     500 non-null    int64 \n",
      " 1   first_name  500 non-null    object\n",
      " 2   last_name   500 non-null    object\n",
      " 3   age         500 non-null    int64 \n",
      " 4   city        500 non-null    object\n",
      " 5   reg_date    500 non-null    object\n",
      " 6   plan        500 non-null    object\n",
      " 7   churn_date  34 non-null     object\n",
      "dtypes: int64(2), object(6)\n",
      "memory usage: 31.4+ KB\n",
      "\n",
      "<class 'pandas.core.frame.DataFrame'>\n",
      "RangeIndex: 2 entries, 0 to 1\n",
      "Data columns (total 8 columns):\n",
      " #   Column                 Non-Null Count  Dtype  \n",
      "---  ------                 --------------  -----  \n",
      " 0   messages_included      2 non-null      int64  \n",
      " 1   mb_per_month_included  2 non-null      int64  \n",
      " 2   minutes_included       2 non-null      int64  \n",
      " 3   usd_monthly_pay        2 non-null      int64  \n",
      " 4   usd_per_gb             2 non-null      int64  \n",
      " 5   usd_per_message        2 non-null      float64\n",
      " 6   usd_per_minute         2 non-null      float64\n",
      " 7   plan_name              2 non-null      object \n",
      "dtypes: float64(2), int64(5), object(1)\n",
      "memory usage: 256.0+ bytes\n",
      "\n",
      "<class 'pandas.core.frame.DataFrame'>\n",
      "RangeIndex: 76051 entries, 0 to 76050\n",
      "Data columns (total 3 columns):\n",
      " #   Column        Non-Null Count  Dtype \n",
      "---  ------        --------------  ----- \n",
      " 0   id            76051 non-null  object\n",
      " 1   user_id       76051 non-null  int64 \n",
      " 2   message_date  76051 non-null  object\n",
      "dtypes: int64(1), object(2)\n",
      "memory usage: 1.7+ MB\n",
      "\n",
      "<class 'pandas.core.frame.DataFrame'>\n",
      "RangeIndex: 104825 entries, 0 to 104824\n",
      "Data columns (total 4 columns):\n",
      " #   Column        Non-Null Count   Dtype  \n",
      "---  ------        --------------   -----  \n",
      " 0   id            104825 non-null  object \n",
      " 1   user_id       104825 non-null  int64  \n",
      " 2   session_date  104825 non-null  object \n",
      " 3   mb_used       104825 non-null  float64\n",
      "dtypes: float64(1), int64(1), object(2)\n",
      "memory usage: 3.2+ MB\n",
      "\n",
      "<class 'pandas.core.frame.DataFrame'>\n",
      "RangeIndex: 137735 entries, 0 to 137734\n",
      "Data columns (total 4 columns):\n",
      " #   Column     Non-Null Count   Dtype  \n",
      "---  ------     --------------   -----  \n",
      " 0   id         137735 non-null  object \n",
      " 1   user_id    137735 non-null  int64  \n",
      " 2   call_date  137735 non-null  object \n",
      " 3   duration   137735 non-null  float64\n",
      "dtypes: float64(1), int64(1), object(2)\n",
      "memory usage: 4.2+ MB\n"
     ]
    }
   ],
   "source": [
    "# reading the file\n",
    "try:\n",
    "    users = pd.read_csv(r'C:\\Users\\Avi\\Desktop\\D.A\\Practicum\\Projects\\3rd project\\megaline_users.csv')\n",
    "    plans = pd.read_csv(r'C:\\Users\\Avi\\Desktop\\D.A\\Practicum\\Projects\\3rd project\\megaline_plans.csv')\n",
    "    messages = pd.read_csv(r'C:\\Users\\Avi\\Desktop\\D.A\\Practicum\\Projects\\3rd project\\megaline_messages.csv')\n",
    "    internet = pd.read_csv(r'C:\\Users\\Avi\\Desktop\\D.A\\Practicum\\Projects\\3rd project\\megaline_internet.csv')\n",
    "    calls = pd.read_csv(r'C:\\Users\\Avi\\Desktop\\D.A\\Practicum\\Projects\\3rd project\\megaline_calls.csv')\n",
    "except:\n",
    "    users = pd.read_csv('/datasets/megaline_users.csv')\n",
    "    plans = pd.read_csv('/datasets/megaline_plans.csv')\n",
    "    messages = pd.read_csv('/datasets/megaline_messages.csv')\n",
    "    internet = pd.read_csv('/datasets/megaline_internet.csv')\n",
    "    calls = pd.read_csv('/datasets/megaline_calls.csv')\n",
    "\n",
    "# copying the data so it will load faster\n",
    "users_raw = users.copy()\n",
    "plans_raw = plans.copy()\n",
    "messages_raw = messages.copy()\n",
    "internet_raw = internet.copy()\n",
    "calls_raw = calls.copy()\n",
    "\n",
    "# checking the columns for nulls and type and other info\n",
    "users_raw.info()\n",
    "print()\n",
    "plans_raw.info()\n",
    "print()\n",
    "messages_raw.info()\n",
    "print()\n",
    "internet_raw.info()\n",
    "print()\n",
    "calls_raw.info()"
   ]
  },
  {
   "cell_type": "markdown",
   "metadata": {},
   "source": [
    "<div class=\"alert alert-success\" role=\"alert\">\n",
    "Reviewer's comment v. 1:\n",
    "    \n",
    "Good job for using try-except for the path to the file.\n",
    "</div>"
   ]
  },
  {
   "cell_type": "markdown",
   "metadata": {},
   "source": [
    "seems only the users table has nulls so ill focus on it first:"
   ]
  },
  {
   "cell_type": "markdown",
   "metadata": {},
   "source": [
    "<div class=\"alert alert-success\" role=\"alert\">\n",
    "Reviewer's comment v. 1:\n",
    "    \n",
    "Yes, you correctly noted that we have a missing values.\n",
    "</div>"
   ]
  },
  {
   "cell_type": "code",
   "execution_count": 3,
   "metadata": {},
   "outputs": [
    {
     "data": {
      "text/html": [
       "<div>\n",
       "<style scoped>\n",
       "    .dataframe tbody tr th:only-of-type {\n",
       "        vertical-align: middle;\n",
       "    }\n",
       "\n",
       "    .dataframe tbody tr th {\n",
       "        vertical-align: top;\n",
       "    }\n",
       "\n",
       "    .dataframe thead th {\n",
       "        text-align: right;\n",
       "    }\n",
       "</style>\n",
       "<table border=\"1\" class=\"dataframe\">\n",
       "  <thead>\n",
       "    <tr style=\"text-align: right;\">\n",
       "      <th></th>\n",
       "      <th>user_id</th>\n",
       "      <th>first_name</th>\n",
       "      <th>last_name</th>\n",
       "      <th>age</th>\n",
       "      <th>city</th>\n",
       "      <th>reg_date</th>\n",
       "      <th>plan</th>\n",
       "      <th>churn_date</th>\n",
       "    </tr>\n",
       "  </thead>\n",
       "  <tbody>\n",
       "    <tr>\n",
       "      <th>0</th>\n",
       "      <td>1000</td>\n",
       "      <td>Anamaria</td>\n",
       "      <td>Bauer</td>\n",
       "      <td>45</td>\n",
       "      <td>Atlanta-Sandy Springs-Roswell, GA MSA</td>\n",
       "      <td>2018-12-24</td>\n",
       "      <td>ultimate</td>\n",
       "      <td>NaN</td>\n",
       "    </tr>\n",
       "    <tr>\n",
       "      <th>1</th>\n",
       "      <td>1001</td>\n",
       "      <td>Mickey</td>\n",
       "      <td>Wilkerson</td>\n",
       "      <td>28</td>\n",
       "      <td>Seattle-Tacoma-Bellevue, WA MSA</td>\n",
       "      <td>2018-08-13</td>\n",
       "      <td>surf</td>\n",
       "      <td>NaN</td>\n",
       "    </tr>\n",
       "    <tr>\n",
       "      <th>2</th>\n",
       "      <td>1002</td>\n",
       "      <td>Carlee</td>\n",
       "      <td>Hoffman</td>\n",
       "      <td>36</td>\n",
       "      <td>Las Vegas-Henderson-Paradise, NV MSA</td>\n",
       "      <td>2018-10-21</td>\n",
       "      <td>surf</td>\n",
       "      <td>NaN</td>\n",
       "    </tr>\n",
       "    <tr>\n",
       "      <th>3</th>\n",
       "      <td>1003</td>\n",
       "      <td>Reynaldo</td>\n",
       "      <td>Jenkins</td>\n",
       "      <td>52</td>\n",
       "      <td>Tulsa, OK MSA</td>\n",
       "      <td>2018-01-28</td>\n",
       "      <td>surf</td>\n",
       "      <td>NaN</td>\n",
       "    </tr>\n",
       "    <tr>\n",
       "      <th>4</th>\n",
       "      <td>1004</td>\n",
       "      <td>Leonila</td>\n",
       "      <td>Thompson</td>\n",
       "      <td>40</td>\n",
       "      <td>Seattle-Tacoma-Bellevue, WA MSA</td>\n",
       "      <td>2018-05-23</td>\n",
       "      <td>surf</td>\n",
       "      <td>NaN</td>\n",
       "    </tr>\n",
       "    <tr>\n",
       "      <th>5</th>\n",
       "      <td>1005</td>\n",
       "      <td>Livia</td>\n",
       "      <td>Shields</td>\n",
       "      <td>31</td>\n",
       "      <td>Dallas-Fort Worth-Arlington, TX MSA</td>\n",
       "      <td>2018-11-29</td>\n",
       "      <td>surf</td>\n",
       "      <td>NaN</td>\n",
       "    </tr>\n",
       "    <tr>\n",
       "      <th>6</th>\n",
       "      <td>1006</td>\n",
       "      <td>Jesusa</td>\n",
       "      <td>Bradford</td>\n",
       "      <td>73</td>\n",
       "      <td>San Francisco-Oakland-Berkeley, CA MSA</td>\n",
       "      <td>2018-11-27</td>\n",
       "      <td>ultimate</td>\n",
       "      <td>2018-12-18</td>\n",
       "    </tr>\n",
       "    <tr>\n",
       "      <th>7</th>\n",
       "      <td>1007</td>\n",
       "      <td>Eusebio</td>\n",
       "      <td>Welch</td>\n",
       "      <td>42</td>\n",
       "      <td>Grand Rapids-Kentwood, MI MSA</td>\n",
       "      <td>2018-07-11</td>\n",
       "      <td>surf</td>\n",
       "      <td>NaN</td>\n",
       "    </tr>\n",
       "    <tr>\n",
       "      <th>8</th>\n",
       "      <td>1008</td>\n",
       "      <td>Emely</td>\n",
       "      <td>Hoffman</td>\n",
       "      <td>53</td>\n",
       "      <td>Orlando-Kissimmee-Sanford, FL MSA</td>\n",
       "      <td>2018-08-03</td>\n",
       "      <td>ultimate</td>\n",
       "      <td>NaN</td>\n",
       "    </tr>\n",
       "    <tr>\n",
       "      <th>9</th>\n",
       "      <td>1009</td>\n",
       "      <td>Gerry</td>\n",
       "      <td>Little</td>\n",
       "      <td>19</td>\n",
       "      <td>San Jose-Sunnyvale-Santa Clara, CA MSA</td>\n",
       "      <td>2018-04-22</td>\n",
       "      <td>surf</td>\n",
       "      <td>NaN</td>\n",
       "    </tr>\n",
       "  </tbody>\n",
       "</table>\n",
       "</div>"
      ],
      "text/plain": [
       "   user_id first_name  last_name  age                                    city  \\\n",
       "0     1000   Anamaria      Bauer   45   Atlanta-Sandy Springs-Roswell, GA MSA   \n",
       "1     1001     Mickey  Wilkerson   28         Seattle-Tacoma-Bellevue, WA MSA   \n",
       "2     1002     Carlee    Hoffman   36    Las Vegas-Henderson-Paradise, NV MSA   \n",
       "3     1003   Reynaldo    Jenkins   52                           Tulsa, OK MSA   \n",
       "4     1004    Leonila   Thompson   40         Seattle-Tacoma-Bellevue, WA MSA   \n",
       "5     1005      Livia    Shields   31     Dallas-Fort Worth-Arlington, TX MSA   \n",
       "6     1006     Jesusa   Bradford   73  San Francisco-Oakland-Berkeley, CA MSA   \n",
       "7     1007    Eusebio      Welch   42           Grand Rapids-Kentwood, MI MSA   \n",
       "8     1008      Emely    Hoffman   53       Orlando-Kissimmee-Sanford, FL MSA   \n",
       "9     1009      Gerry     Little   19  San Jose-Sunnyvale-Santa Clara, CA MSA   \n",
       "\n",
       "     reg_date      plan  churn_date  \n",
       "0  2018-12-24  ultimate         NaN  \n",
       "1  2018-08-13      surf         NaN  \n",
       "2  2018-10-21      surf         NaN  \n",
       "3  2018-01-28      surf         NaN  \n",
       "4  2018-05-23      surf         NaN  \n",
       "5  2018-11-29      surf         NaN  \n",
       "6  2018-11-27  ultimate  2018-12-18  \n",
       "7  2018-07-11      surf         NaN  \n",
       "8  2018-08-03  ultimate         NaN  \n",
       "9  2018-04-22      surf         NaN  "
      ]
     },
     "execution_count": 3,
     "metadata": {},
     "output_type": "execute_result"
    }
   ],
   "source": [
    "# checking the first 10 rows of the data to see the values\n",
    "users_raw.head(10)"
   ]
  },
  {
   "cell_type": "markdown",
   "metadata": {},
   "source": [
    "* it says in the project that \"if the value is missing, the calling plan was being used when this data was retrieved\" so ill replace the null with 'current date' i guess, or the actual current date so hat i will be able to convert it to date-type later.\n",
    "* i can change the plan column into 0/1 instead of words and then itll be more usable to do corr."
   ]
  },
  {
   "cell_type": "markdown",
   "metadata": {},
   "source": [
    "<div class=\"alert alert-success\" role=\"alert\">\n",
    "Reviewer's comment v. 1:\n",
    "    \n",
    "Yes, a reasonable decision :)\n",
    "</div>"
   ]
  },
  {
   "cell_type": "code",
   "execution_count": 4,
   "metadata": {},
   "outputs": [
    {
     "data": {
      "text/html": [
       "<div>\n",
       "<style scoped>\n",
       "    .dataframe tbody tr th:only-of-type {\n",
       "        vertical-align: middle;\n",
       "    }\n",
       "\n",
       "    .dataframe tbody tr th {\n",
       "        vertical-align: top;\n",
       "    }\n",
       "\n",
       "    .dataframe thead th {\n",
       "        text-align: right;\n",
       "    }\n",
       "</style>\n",
       "<table border=\"1\" class=\"dataframe\">\n",
       "  <thead>\n",
       "    <tr style=\"text-align: right;\">\n",
       "      <th></th>\n",
       "      <th>user_id</th>\n",
       "      <th>age</th>\n",
       "    </tr>\n",
       "  </thead>\n",
       "  <tbody>\n",
       "    <tr>\n",
       "      <th>count</th>\n",
       "      <td>500.000000</td>\n",
       "      <td>500.000000</td>\n",
       "    </tr>\n",
       "    <tr>\n",
       "      <th>mean</th>\n",
       "      <td>1249.500000</td>\n",
       "      <td>45.486000</td>\n",
       "    </tr>\n",
       "    <tr>\n",
       "      <th>std</th>\n",
       "      <td>144.481833</td>\n",
       "      <td>16.972269</td>\n",
       "    </tr>\n",
       "    <tr>\n",
       "      <th>min</th>\n",
       "      <td>1000.000000</td>\n",
       "      <td>18.000000</td>\n",
       "    </tr>\n",
       "    <tr>\n",
       "      <th>25%</th>\n",
       "      <td>1124.750000</td>\n",
       "      <td>30.000000</td>\n",
       "    </tr>\n",
       "    <tr>\n",
       "      <th>50%</th>\n",
       "      <td>1249.500000</td>\n",
       "      <td>46.000000</td>\n",
       "    </tr>\n",
       "    <tr>\n",
       "      <th>75%</th>\n",
       "      <td>1374.250000</td>\n",
       "      <td>61.000000</td>\n",
       "    </tr>\n",
       "    <tr>\n",
       "      <th>max</th>\n",
       "      <td>1499.000000</td>\n",
       "      <td>75.000000</td>\n",
       "    </tr>\n",
       "  </tbody>\n",
       "</table>\n",
       "</div>"
      ],
      "text/plain": [
       "           user_id         age\n",
       "count   500.000000  500.000000\n",
       "mean   1249.500000   45.486000\n",
       "std     144.481833   16.972269\n",
       "min    1000.000000   18.000000\n",
       "25%    1124.750000   30.000000\n",
       "50%    1249.500000   46.000000\n",
       "75%    1374.250000   61.000000\n",
       "max    1499.000000   75.000000"
      ]
     },
     "execution_count": 4,
     "metadata": {},
     "output_type": "execute_result"
    }
   ],
   "source": [
    "# using describe to see more info\n",
    "users_raw.describe()"
   ]
  },
  {
   "cell_type": "code",
   "execution_count": 5,
   "metadata": {},
   "outputs": [
    {
     "data": {
      "text/html": [
       "<div>\n",
       "<style scoped>\n",
       "    .dataframe tbody tr th:only-of-type {\n",
       "        vertical-align: middle;\n",
       "    }\n",
       "\n",
       "    .dataframe tbody tr th {\n",
       "        vertical-align: top;\n",
       "    }\n",
       "\n",
       "    .dataframe thead th {\n",
       "        text-align: right;\n",
       "    }\n",
       "</style>\n",
       "<table border=\"1\" class=\"dataframe\">\n",
       "  <thead>\n",
       "    <tr style=\"text-align: right;\">\n",
       "      <th></th>\n",
       "      <th>first_name</th>\n",
       "      <th>last_name</th>\n",
       "      <th>city</th>\n",
       "      <th>reg_date</th>\n",
       "      <th>plan</th>\n",
       "      <th>churn_date</th>\n",
       "    </tr>\n",
       "  </thead>\n",
       "  <tbody>\n",
       "    <tr>\n",
       "      <th>count</th>\n",
       "      <td>500</td>\n",
       "      <td>500</td>\n",
       "      <td>500</td>\n",
       "      <td>500</td>\n",
       "      <td>500</td>\n",
       "      <td>34</td>\n",
       "    </tr>\n",
       "    <tr>\n",
       "      <th>unique</th>\n",
       "      <td>458</td>\n",
       "      <td>399</td>\n",
       "      <td>73</td>\n",
       "      <td>266</td>\n",
       "      <td>2</td>\n",
       "      <td>29</td>\n",
       "    </tr>\n",
       "    <tr>\n",
       "      <th>top</th>\n",
       "      <td>Leonila</td>\n",
       "      <td>Caldwell</td>\n",
       "      <td>New York-Newark-Jersey City, NY-NJ-PA MSA</td>\n",
       "      <td>2018-07-12</td>\n",
       "      <td>surf</td>\n",
       "      <td>2018-12-18</td>\n",
       "    </tr>\n",
       "    <tr>\n",
       "      <th>freq</th>\n",
       "      <td>3</td>\n",
       "      <td>3</td>\n",
       "      <td>80</td>\n",
       "      <td>5</td>\n",
       "      <td>339</td>\n",
       "      <td>3</td>\n",
       "    </tr>\n",
       "  </tbody>\n",
       "</table>\n",
       "</div>"
      ],
      "text/plain": [
       "       first_name last_name                                       city  \\\n",
       "count         500       500                                        500   \n",
       "unique        458       399                                         73   \n",
       "top       Leonila  Caldwell  New York-Newark-Jersey City, NY-NJ-PA MSA   \n",
       "freq            3         3                                         80   \n",
       "\n",
       "          reg_date  plan  churn_date  \n",
       "count          500   500          34  \n",
       "unique         266     2          29  \n",
       "top     2018-07-12  surf  2018-12-18  \n",
       "freq             5   339           3  "
      ]
     },
     "execution_count": 5,
     "metadata": {},
     "output_type": "execute_result"
    }
   ],
   "source": [
    "users_raw.describe(include = ['object'])"
   ]
  },
  {
   "cell_type": "code",
   "execution_count": 6,
   "metadata": {
    "scrolled": true
   },
   "outputs": [
    {
     "name": "stdout",
     "output_type": "stream",
     "text": [
      "Proportion of NAN per column \n",
      "\n",
      " user_id        0.0\n",
      "first_name     0.0\n",
      "last_name      0.0\n",
      "age            0.0\n",
      "city           0.0\n",
      "reg_date       0.0\n",
      "plan           0.0\n",
      "churn_date    93.2\n",
      "dtype: float64 \n",
      "\n",
      " Sum of NAN per column \n",
      "\n",
      " user_id         0\n",
      "first_name      0\n",
      "last_name       0\n",
      "age             0\n",
      "city            0\n",
      "reg_date        0\n",
      "plan            0\n",
      "churn_date    466\n",
      "dtype: int64\n"
     ]
    }
   ],
   "source": [
    "# checking the percentage of nulls in each column\n",
    "pna = users_raw.isnull().sum() / users_raw.shape[0] * 100\n",
    "print('Proportion of NAN per column \\n\\n', pna ,'\\n\\n Sum of NAN per column \\n\\n', users_raw.isnull().sum())"
   ]
  },
  {
   "cell_type": "markdown",
   "metadata": {},
   "source": [
    "<div class=\"alert alert-success\" role=\"alert\">\n",
    "Reviewer's comment v. 1:\n",
    "    \n",
    "Good job that you calculated the percentage of a missing values in the columns.\n",
    "</div>"
   ]
  },
  {
   "cell_type": "code",
   "execution_count": 7,
   "metadata": {},
   "outputs": [
    {
     "data": {
      "text/html": [
       "<div>\n",
       "<style scoped>\n",
       "    .dataframe tbody tr th:only-of-type {\n",
       "        vertical-align: middle;\n",
       "    }\n",
       "\n",
       "    .dataframe tbody tr th {\n",
       "        vertical-align: top;\n",
       "    }\n",
       "\n",
       "    .dataframe thead th {\n",
       "        text-align: right;\n",
       "    }\n",
       "</style>\n",
       "<table border=\"1\" class=\"dataframe\">\n",
       "  <thead>\n",
       "    <tr style=\"text-align: right;\">\n",
       "      <th></th>\n",
       "      <th>messages_included</th>\n",
       "      <th>mb_per_month_included</th>\n",
       "      <th>minutes_included</th>\n",
       "      <th>usd_monthly_pay</th>\n",
       "      <th>usd_per_gb</th>\n",
       "      <th>usd_per_message</th>\n",
       "      <th>usd_per_minute</th>\n",
       "      <th>plan_name</th>\n",
       "    </tr>\n",
       "  </thead>\n",
       "  <tbody>\n",
       "    <tr>\n",
       "      <th>0</th>\n",
       "      <td>50</td>\n",
       "      <td>15360</td>\n",
       "      <td>500</td>\n",
       "      <td>20</td>\n",
       "      <td>10</td>\n",
       "      <td>0.03</td>\n",
       "      <td>0.03</td>\n",
       "      <td>surf</td>\n",
       "    </tr>\n",
       "    <tr>\n",
       "      <th>1</th>\n",
       "      <td>1000</td>\n",
       "      <td>30720</td>\n",
       "      <td>3000</td>\n",
       "      <td>70</td>\n",
       "      <td>7</td>\n",
       "      <td>0.01</td>\n",
       "      <td>0.01</td>\n",
       "      <td>ultimate</td>\n",
       "    </tr>\n",
       "  </tbody>\n",
       "</table>\n",
       "</div>"
      ],
      "text/plain": [
       "   messages_included  mb_per_month_included  minutes_included  \\\n",
       "0                 50                  15360               500   \n",
       "1               1000                  30720              3000   \n",
       "\n",
       "   usd_monthly_pay  usd_per_gb  usd_per_message  usd_per_minute plan_name  \n",
       "0               20          10             0.03            0.03      surf  \n",
       "1               70           7             0.01            0.01  ultimate  "
      ]
     },
     "execution_count": 7,
     "metadata": {},
     "output_type": "execute_result"
    }
   ],
   "source": [
    "# checking the data to see the values\n",
    "plans_raw"
   ]
  },
  {
   "cell_type": "code",
   "execution_count": 8,
   "metadata": {
    "scrolled": true
   },
   "outputs": [
    {
     "data": {
      "text/html": [
       "<div>\n",
       "<style scoped>\n",
       "    .dataframe tbody tr th:only-of-type {\n",
       "        vertical-align: middle;\n",
       "    }\n",
       "\n",
       "    .dataframe tbody tr th {\n",
       "        vertical-align: top;\n",
       "    }\n",
       "\n",
       "    .dataframe thead th {\n",
       "        text-align: right;\n",
       "    }\n",
       "</style>\n",
       "<table border=\"1\" class=\"dataframe\">\n",
       "  <thead>\n",
       "    <tr style=\"text-align: right;\">\n",
       "      <th></th>\n",
       "      <th>messages_included</th>\n",
       "      <th>mb_per_month_included</th>\n",
       "      <th>minutes_included</th>\n",
       "      <th>usd_monthly_pay</th>\n",
       "      <th>usd_per_gb</th>\n",
       "      <th>usd_per_message</th>\n",
       "      <th>usd_per_minute</th>\n",
       "    </tr>\n",
       "  </thead>\n",
       "  <tbody>\n",
       "    <tr>\n",
       "      <th>count</th>\n",
       "      <td>2.000000</td>\n",
       "      <td>2.000000</td>\n",
       "      <td>2.000000</td>\n",
       "      <td>2.000000</td>\n",
       "      <td>2.00000</td>\n",
       "      <td>2.000000</td>\n",
       "      <td>2.000000</td>\n",
       "    </tr>\n",
       "    <tr>\n",
       "      <th>mean</th>\n",
       "      <td>525.000000</td>\n",
       "      <td>23040.000000</td>\n",
       "      <td>1750.000000</td>\n",
       "      <td>45.000000</td>\n",
       "      <td>8.50000</td>\n",
       "      <td>0.020000</td>\n",
       "      <td>0.020000</td>\n",
       "    </tr>\n",
       "    <tr>\n",
       "      <th>std</th>\n",
       "      <td>671.751442</td>\n",
       "      <td>10861.160159</td>\n",
       "      <td>1767.766953</td>\n",
       "      <td>35.355339</td>\n",
       "      <td>2.12132</td>\n",
       "      <td>0.014142</td>\n",
       "      <td>0.014142</td>\n",
       "    </tr>\n",
       "    <tr>\n",
       "      <th>min</th>\n",
       "      <td>50.000000</td>\n",
       "      <td>15360.000000</td>\n",
       "      <td>500.000000</td>\n",
       "      <td>20.000000</td>\n",
       "      <td>7.00000</td>\n",
       "      <td>0.010000</td>\n",
       "      <td>0.010000</td>\n",
       "    </tr>\n",
       "    <tr>\n",
       "      <th>25%</th>\n",
       "      <td>287.500000</td>\n",
       "      <td>19200.000000</td>\n",
       "      <td>1125.000000</td>\n",
       "      <td>32.500000</td>\n",
       "      <td>7.75000</td>\n",
       "      <td>0.015000</td>\n",
       "      <td>0.015000</td>\n",
       "    </tr>\n",
       "    <tr>\n",
       "      <th>50%</th>\n",
       "      <td>525.000000</td>\n",
       "      <td>23040.000000</td>\n",
       "      <td>1750.000000</td>\n",
       "      <td>45.000000</td>\n",
       "      <td>8.50000</td>\n",
       "      <td>0.020000</td>\n",
       "      <td>0.020000</td>\n",
       "    </tr>\n",
       "    <tr>\n",
       "      <th>75%</th>\n",
       "      <td>762.500000</td>\n",
       "      <td>26880.000000</td>\n",
       "      <td>2375.000000</td>\n",
       "      <td>57.500000</td>\n",
       "      <td>9.25000</td>\n",
       "      <td>0.025000</td>\n",
       "      <td>0.025000</td>\n",
       "    </tr>\n",
       "    <tr>\n",
       "      <th>max</th>\n",
       "      <td>1000.000000</td>\n",
       "      <td>30720.000000</td>\n",
       "      <td>3000.000000</td>\n",
       "      <td>70.000000</td>\n",
       "      <td>10.00000</td>\n",
       "      <td>0.030000</td>\n",
       "      <td>0.030000</td>\n",
       "    </tr>\n",
       "  </tbody>\n",
       "</table>\n",
       "</div>"
      ],
      "text/plain": [
       "       messages_included  mb_per_month_included  minutes_included  \\\n",
       "count           2.000000               2.000000          2.000000   \n",
       "mean          525.000000           23040.000000       1750.000000   \n",
       "std           671.751442           10861.160159       1767.766953   \n",
       "min            50.000000           15360.000000        500.000000   \n",
       "25%           287.500000           19200.000000       1125.000000   \n",
       "50%           525.000000           23040.000000       1750.000000   \n",
       "75%           762.500000           26880.000000       2375.000000   \n",
       "max          1000.000000           30720.000000       3000.000000   \n",
       "\n",
       "       usd_monthly_pay  usd_per_gb  usd_per_message  usd_per_minute  \n",
       "count         2.000000     2.00000         2.000000        2.000000  \n",
       "mean         45.000000     8.50000         0.020000        0.020000  \n",
       "std          35.355339     2.12132         0.014142        0.014142  \n",
       "min          20.000000     7.00000         0.010000        0.010000  \n",
       "25%          32.500000     7.75000         0.015000        0.015000  \n",
       "50%          45.000000     8.50000         0.020000        0.020000  \n",
       "75%          57.500000     9.25000         0.025000        0.025000  \n",
       "max          70.000000    10.00000         0.030000        0.030000  "
      ]
     },
     "execution_count": 8,
     "metadata": {},
     "output_type": "execute_result"
    }
   ],
   "source": [
    "# using describe to see more info\n",
    "plans_raw.describe()"
   ]
  },
  {
   "cell_type": "code",
   "execution_count": 9,
   "metadata": {},
   "outputs": [
    {
     "data": {
      "text/html": [
       "<div>\n",
       "<style scoped>\n",
       "    .dataframe tbody tr th:only-of-type {\n",
       "        vertical-align: middle;\n",
       "    }\n",
       "\n",
       "    .dataframe tbody tr th {\n",
       "        vertical-align: top;\n",
       "    }\n",
       "\n",
       "    .dataframe thead th {\n",
       "        text-align: right;\n",
       "    }\n",
       "</style>\n",
       "<table border=\"1\" class=\"dataframe\">\n",
       "  <thead>\n",
       "    <tr style=\"text-align: right;\">\n",
       "      <th></th>\n",
       "      <th>plan_name</th>\n",
       "    </tr>\n",
       "  </thead>\n",
       "  <tbody>\n",
       "    <tr>\n",
       "      <th>count</th>\n",
       "      <td>2</td>\n",
       "    </tr>\n",
       "    <tr>\n",
       "      <th>unique</th>\n",
       "      <td>2</td>\n",
       "    </tr>\n",
       "    <tr>\n",
       "      <th>top</th>\n",
       "      <td>ultimate</td>\n",
       "    </tr>\n",
       "    <tr>\n",
       "      <th>freq</th>\n",
       "      <td>1</td>\n",
       "    </tr>\n",
       "  </tbody>\n",
       "</table>\n",
       "</div>"
      ],
      "text/plain": [
       "       plan_name\n",
       "count          2\n",
       "unique         2\n",
       "top     ultimate\n",
       "freq           1"
      ]
     },
     "execution_count": 9,
     "metadata": {},
     "output_type": "execute_result"
    }
   ],
   "source": [
    "plans_raw.describe(include = ['object'])"
   ]
  },
  {
   "cell_type": "code",
   "execution_count": 10,
   "metadata": {},
   "outputs": [
    {
     "data": {
      "text/html": [
       "<div>\n",
       "<style scoped>\n",
       "    .dataframe tbody tr th:only-of-type {\n",
       "        vertical-align: middle;\n",
       "    }\n",
       "\n",
       "    .dataframe tbody tr th {\n",
       "        vertical-align: top;\n",
       "    }\n",
       "\n",
       "    .dataframe thead th {\n",
       "        text-align: right;\n",
       "    }\n",
       "</style>\n",
       "<table border=\"1\" class=\"dataframe\">\n",
       "  <thead>\n",
       "    <tr style=\"text-align: right;\">\n",
       "      <th></th>\n",
       "      <th>id</th>\n",
       "      <th>user_id</th>\n",
       "      <th>message_date</th>\n",
       "    </tr>\n",
       "  </thead>\n",
       "  <tbody>\n",
       "    <tr>\n",
       "      <th>0</th>\n",
       "      <td>1000_125</td>\n",
       "      <td>1000</td>\n",
       "      <td>2018-12-27</td>\n",
       "    </tr>\n",
       "    <tr>\n",
       "      <th>1</th>\n",
       "      <td>1000_160</td>\n",
       "      <td>1000</td>\n",
       "      <td>2018-12-31</td>\n",
       "    </tr>\n",
       "    <tr>\n",
       "      <th>2</th>\n",
       "      <td>1000_223</td>\n",
       "      <td>1000</td>\n",
       "      <td>2018-12-31</td>\n",
       "    </tr>\n",
       "    <tr>\n",
       "      <th>3</th>\n",
       "      <td>1000_251</td>\n",
       "      <td>1000</td>\n",
       "      <td>2018-12-27</td>\n",
       "    </tr>\n",
       "    <tr>\n",
       "      <th>4</th>\n",
       "      <td>1000_255</td>\n",
       "      <td>1000</td>\n",
       "      <td>2018-12-26</td>\n",
       "    </tr>\n",
       "    <tr>\n",
       "      <th>5</th>\n",
       "      <td>1000_346</td>\n",
       "      <td>1000</td>\n",
       "      <td>2018-12-29</td>\n",
       "    </tr>\n",
       "    <tr>\n",
       "      <th>6</th>\n",
       "      <td>1000_386</td>\n",
       "      <td>1000</td>\n",
       "      <td>2018-12-30</td>\n",
       "    </tr>\n",
       "    <tr>\n",
       "      <th>7</th>\n",
       "      <td>1000_413</td>\n",
       "      <td>1000</td>\n",
       "      <td>2018-12-31</td>\n",
       "    </tr>\n",
       "    <tr>\n",
       "      <th>8</th>\n",
       "      <td>1000_502</td>\n",
       "      <td>1000</td>\n",
       "      <td>2018-12-27</td>\n",
       "    </tr>\n",
       "    <tr>\n",
       "      <th>9</th>\n",
       "      <td>1000_525</td>\n",
       "      <td>1000</td>\n",
       "      <td>2018-12-28</td>\n",
       "    </tr>\n",
       "  </tbody>\n",
       "</table>\n",
       "</div>"
      ],
      "text/plain": [
       "         id  user_id message_date\n",
       "0  1000_125     1000   2018-12-27\n",
       "1  1000_160     1000   2018-12-31\n",
       "2  1000_223     1000   2018-12-31\n",
       "3  1000_251     1000   2018-12-27\n",
       "4  1000_255     1000   2018-12-26\n",
       "5  1000_346     1000   2018-12-29\n",
       "6  1000_386     1000   2018-12-30\n",
       "7  1000_413     1000   2018-12-31\n",
       "8  1000_502     1000   2018-12-27\n",
       "9  1000_525     1000   2018-12-28"
      ]
     },
     "execution_count": 10,
     "metadata": {},
     "output_type": "execute_result"
    }
   ],
   "source": [
    "# checking the first 10 rows of the data to see the values\n",
    "messages_raw.head(10)"
   ]
  },
  {
   "cell_type": "code",
   "execution_count": 11,
   "metadata": {
    "scrolled": false
   },
   "outputs": [
    {
     "data": {
      "text/html": [
       "<div>\n",
       "<style scoped>\n",
       "    .dataframe tbody tr th:only-of-type {\n",
       "        vertical-align: middle;\n",
       "    }\n",
       "\n",
       "    .dataframe tbody tr th {\n",
       "        vertical-align: top;\n",
       "    }\n",
       "\n",
       "    .dataframe thead th {\n",
       "        text-align: right;\n",
       "    }\n",
       "</style>\n",
       "<table border=\"1\" class=\"dataframe\">\n",
       "  <thead>\n",
       "    <tr style=\"text-align: right;\">\n",
       "      <th></th>\n",
       "      <th>user_id</th>\n",
       "    </tr>\n",
       "  </thead>\n",
       "  <tbody>\n",
       "    <tr>\n",
       "      <th>count</th>\n",
       "      <td>76051.000000</td>\n",
       "    </tr>\n",
       "    <tr>\n",
       "      <th>mean</th>\n",
       "      <td>1245.972768</td>\n",
       "    </tr>\n",
       "    <tr>\n",
       "      <th>std</th>\n",
       "      <td>139.843635</td>\n",
       "    </tr>\n",
       "    <tr>\n",
       "      <th>min</th>\n",
       "      <td>1000.000000</td>\n",
       "    </tr>\n",
       "    <tr>\n",
       "      <th>25%</th>\n",
       "      <td>1123.000000</td>\n",
       "    </tr>\n",
       "    <tr>\n",
       "      <th>50%</th>\n",
       "      <td>1251.000000</td>\n",
       "    </tr>\n",
       "    <tr>\n",
       "      <th>75%</th>\n",
       "      <td>1362.000000</td>\n",
       "    </tr>\n",
       "    <tr>\n",
       "      <th>max</th>\n",
       "      <td>1497.000000</td>\n",
       "    </tr>\n",
       "  </tbody>\n",
       "</table>\n",
       "</div>"
      ],
      "text/plain": [
       "            user_id\n",
       "count  76051.000000\n",
       "mean    1245.972768\n",
       "std      139.843635\n",
       "min     1000.000000\n",
       "25%     1123.000000\n",
       "50%     1251.000000\n",
       "75%     1362.000000\n",
       "max     1497.000000"
      ]
     },
     "execution_count": 11,
     "metadata": {},
     "output_type": "execute_result"
    }
   ],
   "source": [
    "# using describe to see more info\n",
    "messages_raw.describe()"
   ]
  },
  {
   "cell_type": "markdown",
   "metadata": {},
   "source": [
    "the max user id here is 1497, where is 1498 and 1499? maybe they werent sending messages.."
   ]
  },
  {
   "cell_type": "code",
   "execution_count": 12,
   "metadata": {
    "scrolled": true
   },
   "outputs": [
    {
     "data": {
      "text/html": [
       "<div>\n",
       "<style scoped>\n",
       "    .dataframe tbody tr th:only-of-type {\n",
       "        vertical-align: middle;\n",
       "    }\n",
       "\n",
       "    .dataframe tbody tr th {\n",
       "        vertical-align: top;\n",
       "    }\n",
       "\n",
       "    .dataframe thead th {\n",
       "        text-align: right;\n",
       "    }\n",
       "</style>\n",
       "<table border=\"1\" class=\"dataframe\">\n",
       "  <thead>\n",
       "    <tr style=\"text-align: right;\">\n",
       "      <th></th>\n",
       "      <th>id</th>\n",
       "      <th>message_date</th>\n",
       "    </tr>\n",
       "  </thead>\n",
       "  <tbody>\n",
       "    <tr>\n",
       "      <th>count</th>\n",
       "      <td>76051</td>\n",
       "      <td>76051</td>\n",
       "    </tr>\n",
       "    <tr>\n",
       "      <th>unique</th>\n",
       "      <td>76051</td>\n",
       "      <td>351</td>\n",
       "    </tr>\n",
       "    <tr>\n",
       "      <th>top</th>\n",
       "      <td>1089_16</td>\n",
       "      <td>2018-12-28</td>\n",
       "    </tr>\n",
       "    <tr>\n",
       "      <th>freq</th>\n",
       "      <td>1</td>\n",
       "      <td>702</td>\n",
       "    </tr>\n",
       "  </tbody>\n",
       "</table>\n",
       "</div>"
      ],
      "text/plain": [
       "             id message_date\n",
       "count     76051        76051\n",
       "unique    76051          351\n",
       "top     1089_16   2018-12-28\n",
       "freq          1          702"
      ]
     },
     "execution_count": 12,
     "metadata": {},
     "output_type": "execute_result"
    }
   ],
   "source": [
    "messages_raw.describe(include = ['object'])"
   ]
  },
  {
   "cell_type": "markdown",
   "metadata": {},
   "source": [
    "since the count and unique number of id is the same i can conclude there are no duplicates here"
   ]
  },
  {
   "cell_type": "markdown",
   "metadata": {},
   "source": [
    "<div class=\"alert alert-success\" role=\"alert\">\n",
    "Reviewer's comment v. 1:\n",
    "    \n",
    "You are right, we don't have duplicates in our data.\n",
    "</div>"
   ]
  },
  {
   "cell_type": "code",
   "execution_count": 13,
   "metadata": {},
   "outputs": [
    {
     "data": {
      "text/html": [
       "<div>\n",
       "<style scoped>\n",
       "    .dataframe tbody tr th:only-of-type {\n",
       "        vertical-align: middle;\n",
       "    }\n",
       "\n",
       "    .dataframe tbody tr th {\n",
       "        vertical-align: top;\n",
       "    }\n",
       "\n",
       "    .dataframe thead th {\n",
       "        text-align: right;\n",
       "    }\n",
       "</style>\n",
       "<table border=\"1\" class=\"dataframe\">\n",
       "  <thead>\n",
       "    <tr style=\"text-align: right;\">\n",
       "      <th></th>\n",
       "      <th>id</th>\n",
       "      <th>user_id</th>\n",
       "      <th>session_date</th>\n",
       "      <th>mb_used</th>\n",
       "    </tr>\n",
       "  </thead>\n",
       "  <tbody>\n",
       "    <tr>\n",
       "      <th>0</th>\n",
       "      <td>1000_13</td>\n",
       "      <td>1000</td>\n",
       "      <td>2018-12-29</td>\n",
       "      <td>89.86</td>\n",
       "    </tr>\n",
       "    <tr>\n",
       "      <th>1</th>\n",
       "      <td>1000_204</td>\n",
       "      <td>1000</td>\n",
       "      <td>2018-12-31</td>\n",
       "      <td>0.00</td>\n",
       "    </tr>\n",
       "    <tr>\n",
       "      <th>2</th>\n",
       "      <td>1000_379</td>\n",
       "      <td>1000</td>\n",
       "      <td>2018-12-28</td>\n",
       "      <td>660.40</td>\n",
       "    </tr>\n",
       "    <tr>\n",
       "      <th>3</th>\n",
       "      <td>1000_413</td>\n",
       "      <td>1000</td>\n",
       "      <td>2018-12-26</td>\n",
       "      <td>270.99</td>\n",
       "    </tr>\n",
       "    <tr>\n",
       "      <th>4</th>\n",
       "      <td>1000_442</td>\n",
       "      <td>1000</td>\n",
       "      <td>2018-12-27</td>\n",
       "      <td>880.22</td>\n",
       "    </tr>\n",
       "    <tr>\n",
       "      <th>5</th>\n",
       "      <td>1001_0</td>\n",
       "      <td>1001</td>\n",
       "      <td>2018-08-24</td>\n",
       "      <td>284.68</td>\n",
       "    </tr>\n",
       "    <tr>\n",
       "      <th>6</th>\n",
       "      <td>1001_3</td>\n",
       "      <td>1001</td>\n",
       "      <td>2018-12-09</td>\n",
       "      <td>656.04</td>\n",
       "    </tr>\n",
       "    <tr>\n",
       "      <th>7</th>\n",
       "      <td>1001_4</td>\n",
       "      <td>1001</td>\n",
       "      <td>2018-11-04</td>\n",
       "      <td>16.97</td>\n",
       "    </tr>\n",
       "    <tr>\n",
       "      <th>8</th>\n",
       "      <td>1001_10</td>\n",
       "      <td>1001</td>\n",
       "      <td>2018-11-27</td>\n",
       "      <td>135.18</td>\n",
       "    </tr>\n",
       "    <tr>\n",
       "      <th>9</th>\n",
       "      <td>1001_15</td>\n",
       "      <td>1001</td>\n",
       "      <td>2018-12-13</td>\n",
       "      <td>761.92</td>\n",
       "    </tr>\n",
       "  </tbody>\n",
       "</table>\n",
       "</div>"
      ],
      "text/plain": [
       "         id  user_id session_date  mb_used\n",
       "0   1000_13     1000   2018-12-29    89.86\n",
       "1  1000_204     1000   2018-12-31     0.00\n",
       "2  1000_379     1000   2018-12-28   660.40\n",
       "3  1000_413     1000   2018-12-26   270.99\n",
       "4  1000_442     1000   2018-12-27   880.22\n",
       "5    1001_0     1001   2018-08-24   284.68\n",
       "6    1001_3     1001   2018-12-09   656.04\n",
       "7    1001_4     1001   2018-11-04    16.97\n",
       "8   1001_10     1001   2018-11-27   135.18\n",
       "9   1001_15     1001   2018-12-13   761.92"
      ]
     },
     "execution_count": 13,
     "metadata": {},
     "output_type": "execute_result"
    }
   ],
   "source": [
    "# checking the first 10 rows of the data to see the values\n",
    "internet_raw.head(10)"
   ]
  },
  {
   "cell_type": "markdown",
   "metadata": {},
   "source": [
    "seems like we miss the 30/12/2018 date here for user 1000 and it isnt just a day the user didnt use the web, because then we would have seen a row with 0 mb like the 2nd row."
   ]
  },
  {
   "cell_type": "code",
   "execution_count": 14,
   "metadata": {
    "scrolled": true
   },
   "outputs": [
    {
     "data": {
      "text/html": [
       "<div>\n",
       "<style scoped>\n",
       "    .dataframe tbody tr th:only-of-type {\n",
       "        vertical-align: middle;\n",
       "    }\n",
       "\n",
       "    .dataframe tbody tr th {\n",
       "        vertical-align: top;\n",
       "    }\n",
       "\n",
       "    .dataframe thead th {\n",
       "        text-align: right;\n",
       "    }\n",
       "</style>\n",
       "<table border=\"1\" class=\"dataframe\">\n",
       "  <thead>\n",
       "    <tr style=\"text-align: right;\">\n",
       "      <th></th>\n",
       "      <th>user_id</th>\n",
       "      <th>mb_used</th>\n",
       "    </tr>\n",
       "  </thead>\n",
       "  <tbody>\n",
       "    <tr>\n",
       "      <th>count</th>\n",
       "      <td>104825.000000</td>\n",
       "      <td>104825.000000</td>\n",
       "    </tr>\n",
       "    <tr>\n",
       "      <th>mean</th>\n",
       "      <td>1242.496361</td>\n",
       "      <td>366.713701</td>\n",
       "    </tr>\n",
       "    <tr>\n",
       "      <th>std</th>\n",
       "      <td>142.053913</td>\n",
       "      <td>277.170542</td>\n",
       "    </tr>\n",
       "    <tr>\n",
       "      <th>min</th>\n",
       "      <td>1000.000000</td>\n",
       "      <td>0.000000</td>\n",
       "    </tr>\n",
       "    <tr>\n",
       "      <th>25%</th>\n",
       "      <td>1122.000000</td>\n",
       "      <td>136.080000</td>\n",
       "    </tr>\n",
       "    <tr>\n",
       "      <th>50%</th>\n",
       "      <td>1236.000000</td>\n",
       "      <td>343.980000</td>\n",
       "    </tr>\n",
       "    <tr>\n",
       "      <th>75%</th>\n",
       "      <td>1367.000000</td>\n",
       "      <td>554.610000</td>\n",
       "    </tr>\n",
       "    <tr>\n",
       "      <th>max</th>\n",
       "      <td>1499.000000</td>\n",
       "      <td>1693.470000</td>\n",
       "    </tr>\n",
       "  </tbody>\n",
       "</table>\n",
       "</div>"
      ],
      "text/plain": [
       "             user_id        mb_used\n",
       "count  104825.000000  104825.000000\n",
       "mean     1242.496361     366.713701\n",
       "std       142.053913     277.170542\n",
       "min      1000.000000       0.000000\n",
       "25%      1122.000000     136.080000\n",
       "50%      1236.000000     343.980000\n",
       "75%      1367.000000     554.610000\n",
       "max      1499.000000    1693.470000"
      ]
     },
     "execution_count": 14,
     "metadata": {},
     "output_type": "execute_result"
    }
   ],
   "source": [
    "# using describe to see more info\n",
    "internet_raw.describe()"
   ]
  },
  {
   "cell_type": "code",
   "execution_count": 15,
   "metadata": {},
   "outputs": [
    {
     "data": {
      "text/html": [
       "<div>\n",
       "<style scoped>\n",
       "    .dataframe tbody tr th:only-of-type {\n",
       "        vertical-align: middle;\n",
       "    }\n",
       "\n",
       "    .dataframe tbody tr th {\n",
       "        vertical-align: top;\n",
       "    }\n",
       "\n",
       "    .dataframe thead th {\n",
       "        text-align: right;\n",
       "    }\n",
       "</style>\n",
       "<table border=\"1\" class=\"dataframe\">\n",
       "  <thead>\n",
       "    <tr style=\"text-align: right;\">\n",
       "      <th></th>\n",
       "      <th>id</th>\n",
       "      <th>session_date</th>\n",
       "    </tr>\n",
       "  </thead>\n",
       "  <tbody>\n",
       "    <tr>\n",
       "      <th>count</th>\n",
       "      <td>104825</td>\n",
       "      <td>104825</td>\n",
       "    </tr>\n",
       "    <tr>\n",
       "      <th>unique</th>\n",
       "      <td>104825</td>\n",
       "      <td>351</td>\n",
       "    </tr>\n",
       "    <tr>\n",
       "      <th>top</th>\n",
       "      <td>1089_16</td>\n",
       "      <td>2018-12-24</td>\n",
       "    </tr>\n",
       "    <tr>\n",
       "      <th>freq</th>\n",
       "      <td>1</td>\n",
       "      <td>851</td>\n",
       "    </tr>\n",
       "  </tbody>\n",
       "</table>\n",
       "</div>"
      ],
      "text/plain": [
       "             id session_date\n",
       "count    104825       104825\n",
       "unique   104825          351\n",
       "top     1089_16   2018-12-24\n",
       "freq          1          851"
      ]
     },
     "execution_count": 15,
     "metadata": {},
     "output_type": "execute_result"
    }
   ],
   "source": [
    "internet_raw.describe(include = ['object'])"
   ]
  },
  {
   "cell_type": "markdown",
   "metadata": {},
   "source": [
    "since the count and unique number of id is the same i can conclude there are no duplicates here"
   ]
  },
  {
   "cell_type": "code",
   "execution_count": 16,
   "metadata": {},
   "outputs": [
    {
     "data": {
      "text/html": [
       "<div>\n",
       "<style scoped>\n",
       "    .dataframe tbody tr th:only-of-type {\n",
       "        vertical-align: middle;\n",
       "    }\n",
       "\n",
       "    .dataframe tbody tr th {\n",
       "        vertical-align: top;\n",
       "    }\n",
       "\n",
       "    .dataframe thead th {\n",
       "        text-align: right;\n",
       "    }\n",
       "</style>\n",
       "<table border=\"1\" class=\"dataframe\">\n",
       "  <thead>\n",
       "    <tr style=\"text-align: right;\">\n",
       "      <th></th>\n",
       "      <th>id</th>\n",
       "      <th>user_id</th>\n",
       "      <th>call_date</th>\n",
       "      <th>duration</th>\n",
       "    </tr>\n",
       "  </thead>\n",
       "  <tbody>\n",
       "    <tr>\n",
       "      <th>0</th>\n",
       "      <td>1000_93</td>\n",
       "      <td>1000</td>\n",
       "      <td>2018-12-27</td>\n",
       "      <td>8.52</td>\n",
       "    </tr>\n",
       "    <tr>\n",
       "      <th>1</th>\n",
       "      <td>1000_145</td>\n",
       "      <td>1000</td>\n",
       "      <td>2018-12-27</td>\n",
       "      <td>13.66</td>\n",
       "    </tr>\n",
       "    <tr>\n",
       "      <th>2</th>\n",
       "      <td>1000_247</td>\n",
       "      <td>1000</td>\n",
       "      <td>2018-12-27</td>\n",
       "      <td>14.48</td>\n",
       "    </tr>\n",
       "    <tr>\n",
       "      <th>3</th>\n",
       "      <td>1000_309</td>\n",
       "      <td>1000</td>\n",
       "      <td>2018-12-28</td>\n",
       "      <td>5.76</td>\n",
       "    </tr>\n",
       "    <tr>\n",
       "      <th>4</th>\n",
       "      <td>1000_380</td>\n",
       "      <td>1000</td>\n",
       "      <td>2018-12-30</td>\n",
       "      <td>4.22</td>\n",
       "    </tr>\n",
       "    <tr>\n",
       "      <th>5</th>\n",
       "      <td>1000_388</td>\n",
       "      <td>1000</td>\n",
       "      <td>2018-12-31</td>\n",
       "      <td>2.20</td>\n",
       "    </tr>\n",
       "    <tr>\n",
       "      <th>6</th>\n",
       "      <td>1000_510</td>\n",
       "      <td>1000</td>\n",
       "      <td>2018-12-27</td>\n",
       "      <td>5.75</td>\n",
       "    </tr>\n",
       "    <tr>\n",
       "      <th>7</th>\n",
       "      <td>1000_521</td>\n",
       "      <td>1000</td>\n",
       "      <td>2018-12-28</td>\n",
       "      <td>14.18</td>\n",
       "    </tr>\n",
       "    <tr>\n",
       "      <th>8</th>\n",
       "      <td>1000_530</td>\n",
       "      <td>1000</td>\n",
       "      <td>2018-12-28</td>\n",
       "      <td>5.77</td>\n",
       "    </tr>\n",
       "    <tr>\n",
       "      <th>9</th>\n",
       "      <td>1000_544</td>\n",
       "      <td>1000</td>\n",
       "      <td>2018-12-26</td>\n",
       "      <td>4.40</td>\n",
       "    </tr>\n",
       "  </tbody>\n",
       "</table>\n",
       "</div>"
      ],
      "text/plain": [
       "         id  user_id   call_date  duration\n",
       "0   1000_93     1000  2018-12-27      8.52\n",
       "1  1000_145     1000  2018-12-27     13.66\n",
       "2  1000_247     1000  2018-12-27     14.48\n",
       "3  1000_309     1000  2018-12-28      5.76\n",
       "4  1000_380     1000  2018-12-30      4.22\n",
       "5  1000_388     1000  2018-12-31      2.20\n",
       "6  1000_510     1000  2018-12-27      5.75\n",
       "7  1000_521     1000  2018-12-28     14.18\n",
       "8  1000_530     1000  2018-12-28      5.77\n",
       "9  1000_544     1000  2018-12-26      4.40"
      ]
     },
     "execution_count": 16,
     "metadata": {},
     "output_type": "execute_result"
    }
   ],
   "source": [
    "# checking the first 10 rows of the data to see the values\n",
    "calls_raw.head(10)"
   ]
  },
  {
   "cell_type": "code",
   "execution_count": 17,
   "metadata": {
    "scrolled": false
   },
   "outputs": [
    {
     "data": {
      "text/html": [
       "<div>\n",
       "<style scoped>\n",
       "    .dataframe tbody tr th:only-of-type {\n",
       "        vertical-align: middle;\n",
       "    }\n",
       "\n",
       "    .dataframe tbody tr th {\n",
       "        vertical-align: top;\n",
       "    }\n",
       "\n",
       "    .dataframe thead th {\n",
       "        text-align: right;\n",
       "    }\n",
       "</style>\n",
       "<table border=\"1\" class=\"dataframe\">\n",
       "  <thead>\n",
       "    <tr style=\"text-align: right;\">\n",
       "      <th></th>\n",
       "      <th>user_id</th>\n",
       "      <th>duration</th>\n",
       "    </tr>\n",
       "  </thead>\n",
       "  <tbody>\n",
       "    <tr>\n",
       "      <th>count</th>\n",
       "      <td>137735.000000</td>\n",
       "      <td>137735.000000</td>\n",
       "    </tr>\n",
       "    <tr>\n",
       "      <th>mean</th>\n",
       "      <td>1247.658046</td>\n",
       "      <td>6.745927</td>\n",
       "    </tr>\n",
       "    <tr>\n",
       "      <th>std</th>\n",
       "      <td>139.416268</td>\n",
       "      <td>5.839241</td>\n",
       "    </tr>\n",
       "    <tr>\n",
       "      <th>min</th>\n",
       "      <td>1000.000000</td>\n",
       "      <td>0.000000</td>\n",
       "    </tr>\n",
       "    <tr>\n",
       "      <th>25%</th>\n",
       "      <td>1128.000000</td>\n",
       "      <td>1.290000</td>\n",
       "    </tr>\n",
       "    <tr>\n",
       "      <th>50%</th>\n",
       "      <td>1247.000000</td>\n",
       "      <td>5.980000</td>\n",
       "    </tr>\n",
       "    <tr>\n",
       "      <th>75%</th>\n",
       "      <td>1365.000000</td>\n",
       "      <td>10.690000</td>\n",
       "    </tr>\n",
       "    <tr>\n",
       "      <th>max</th>\n",
       "      <td>1499.000000</td>\n",
       "      <td>37.600000</td>\n",
       "    </tr>\n",
       "  </tbody>\n",
       "</table>\n",
       "</div>"
      ],
      "text/plain": [
       "             user_id       duration\n",
       "count  137735.000000  137735.000000\n",
       "mean     1247.658046       6.745927\n",
       "std       139.416268       5.839241\n",
       "min      1000.000000       0.000000\n",
       "25%      1128.000000       1.290000\n",
       "50%      1247.000000       5.980000\n",
       "75%      1365.000000      10.690000\n",
       "max      1499.000000      37.600000"
      ]
     },
     "execution_count": 17,
     "metadata": {},
     "output_type": "execute_result"
    }
   ],
   "source": [
    "# using describe to see more info\n",
    "calls_raw.describe()"
   ]
  },
  {
   "cell_type": "markdown",
   "metadata": {},
   "source": [
    "about the 0 call duration in the project it says: \"many calls have a duration of 0.0 minutes. These might be missed calls.\" so dependant on what i need to do i will decide if to remove those rows or not."
   ]
  },
  {
   "cell_type": "code",
   "execution_count": 18,
   "metadata": {
    "scrolled": true
   },
   "outputs": [
    {
     "data": {
      "text/html": [
       "<div>\n",
       "<style scoped>\n",
       "    .dataframe tbody tr th:only-of-type {\n",
       "        vertical-align: middle;\n",
       "    }\n",
       "\n",
       "    .dataframe tbody tr th {\n",
       "        vertical-align: top;\n",
       "    }\n",
       "\n",
       "    .dataframe thead th {\n",
       "        text-align: right;\n",
       "    }\n",
       "</style>\n",
       "<table border=\"1\" class=\"dataframe\">\n",
       "  <thead>\n",
       "    <tr style=\"text-align: right;\">\n",
       "      <th></th>\n",
       "      <th>id</th>\n",
       "      <th>call_date</th>\n",
       "    </tr>\n",
       "  </thead>\n",
       "  <tbody>\n",
       "    <tr>\n",
       "      <th>count</th>\n",
       "      <td>137735</td>\n",
       "      <td>137735</td>\n",
       "    </tr>\n",
       "    <tr>\n",
       "      <th>unique</th>\n",
       "      <td>137735</td>\n",
       "      <td>351</td>\n",
       "    </tr>\n",
       "    <tr>\n",
       "      <th>top</th>\n",
       "      <td>1411_219</td>\n",
       "      <td>2018-12-27</td>\n",
       "    </tr>\n",
       "    <tr>\n",
       "      <th>freq</th>\n",
       "      <td>1</td>\n",
       "      <td>1091</td>\n",
       "    </tr>\n",
       "  </tbody>\n",
       "</table>\n",
       "</div>"
      ],
      "text/plain": [
       "              id   call_date\n",
       "count     137735      137735\n",
       "unique    137735         351\n",
       "top     1411_219  2018-12-27\n",
       "freq           1        1091"
      ]
     },
     "execution_count": 18,
     "metadata": {},
     "output_type": "execute_result"
    }
   ],
   "source": [
    "calls_raw.describe(include = ['object'])"
   ]
  },
  {
   "cell_type": "markdown",
   "metadata": {},
   "source": [
    "since the count and unique number of id is the same i can conclude there are no duplicates here"
   ]
  },
  {
   "cell_type": "markdown",
   "metadata": {},
   "source": [
    "<div class=\"alert alert-success\" role=\"alert\">\n",
    "Reviewer's comment v. 1:\n",
    "    \n",
    "Ok :)\n",
    "</div>"
   ]
  },
  {
   "cell_type": "markdown",
   "metadata": {},
   "source": [
    "### Conclusion"
   ]
  },
  {
   "cell_type": "markdown",
   "metadata": {},
   "source": [
    "1 column have nulls in the users table that im not sure its best to fill, and some columns are of the wrong type in all the tables (dates)\n",
    "\n",
    "it says in the project that \"if the value is missing, the calling plan was being used when this data was retrieved\" so ill replace the null with 'current date' i guess, or the actual current date so that i will be able to convert it to date-type later.\n",
    "\n",
    "the city column is a mess but im not sure if i should or can order it.\n",
    "\n",
    "maybe i should combine the first and last name to one column.\n",
    "\n",
    "i can change the plan column into 0/1 instead of words and then itll be more usable to do corr.\n",
    "\n",
    "the min call duration is 0 and its stated in the project that: \"many calls have a duration of 0.0 minutes. These might be missed calls.\" so ill see, maybe ill remove those rows later.\n",
    "\n",
    "i need to check for duplicates only in users table"
   ]
  },
  {
   "cell_type": "markdown",
   "metadata": {},
   "source": [
    "<div class=\"alert alert-success\" role=\"alert\">\n",
    "Reviewer's comment v. 1:\n",
    "    \n",
    "Well done that you summed up main results of the project.\n",
    "</div>"
   ]
  },
  {
   "cell_type": "markdown",
   "metadata": {},
   "source": [
    "## Step 2. Prepare the data"
   ]
  },
  {
   "cell_type": "markdown",
   "metadata": {},
   "source": [
    "First ill organize the tables a bit:"
   ]
  },
  {
   "cell_type": "code",
   "execution_count": 19,
   "metadata": {},
   "outputs": [],
   "source": [
    "# saving to organized tables\n",
    "orgnzd_users = users_raw.copy()\n",
    "orgnzd_plans = plans_raw.copy()\n",
    "orgnzd_messages = messages_raw.copy()\n",
    "orgnzd_internet = internet_raw.copy()\n",
    "orgnzd_calls = calls_raw.copy()"
   ]
  },
  {
   "cell_type": "code",
   "execution_count": 20,
   "metadata": {},
   "outputs": [],
   "source": [
    "# lower casing relevant object columns\n",
    "orgnzd_users['first_name'] = orgnzd_users['first_name'].str.lower()\n",
    "orgnzd_users['last_name'] = orgnzd_users['last_name'].str.lower()\n",
    "orgnzd_users['city'] = orgnzd_users['city'].str.lower()\n",
    "orgnzd_users['plan'] = orgnzd_users['plan'].str.lower()"
   ]
  },
  {
   "cell_type": "markdown",
   "metadata": {},
   "source": [
    "<div class=\"alert alert-success\" role=\"alert\">\n",
    "Reviewer's comment v. 1:\n",
    "    \n",
    "It's great that you brought columns to the lower case.\n",
    "</div>"
   ]
  },
  {
   "cell_type": "code",
   "execution_count": 21,
   "metadata": {},
   "outputs": [],
   "source": [
    "# convering the date columns to date type\n",
    "orgnzd_users['reg_date'] = pd.to_datetime(orgnzd_users['reg_date'], format='%Y-%m-%d')\n",
    "orgnzd_messages['message_date'] = pd.to_datetime(orgnzd_messages['message_date'], format='%Y-%m-%d')\n",
    "orgnzd_internet['session_date'] = pd.to_datetime(orgnzd_internet['session_date'], format='%Y-%m-%d')\n",
    "orgnzd_calls['call_date'] = pd.to_datetime(orgnzd_calls['call_date'], format='%Y-%m-%d')"
   ]
  },
  {
   "cell_type": "markdown",
   "metadata": {},
   "source": [
    "<div class=\"alert alert-success\" role=\"alert\">\n",
    "Reviewer's comment v. 1:\n",
    "    \n",
    "Good job that you brought the data to the desired format.\n",
    "</div>"
   ]
  },
  {
   "cell_type": "markdown",
   "metadata": {},
   "source": [
    "<div class=\"alert alert-info\"> <b> now ill round the calls up, i am rounding here and not later, because in the project description it said that \"For calls, ***each individual*** call is rounded up\" </b>"
   ]
  },
  {
   "cell_type": "code",
   "execution_count": 22,
   "metadata": {},
   "outputs": [],
   "source": [
    "# rounding up the duration of each call to minutes\n",
    "orgnzd_calls['duration'] = np.ceil(orgnzd_calls['duration'])"
   ]
  },
  {
   "cell_type": "markdown",
   "metadata": {},
   "source": [
    "Now ill start dealing with missing values:"
   ]
  },
  {
   "cell_type": "code",
   "execution_count": 23,
   "metadata": {},
   "outputs": [
    {
     "data": {
      "text/plain": [
       "0"
      ]
     },
     "execution_count": 23,
     "metadata": {},
     "output_type": "execute_result"
    }
   ],
   "source": [
    "# filling the churn_date column nulls with 'current_date'\n",
    "orgnzd_users['churn_date'] = orgnzd_users['churn_date'].fillna('current_date')\n",
    "orgnzd_users['churn_date'].isna().sum()"
   ]
  },
  {
   "cell_type": "raw",
   "metadata": {},
   "source": [
    "lets rank the plan by numbers instead of words."
   ]
  },
  {
   "cell_type": "raw",
   "metadata": {},
   "source": [
    "# replacing string values with a numeric scale\n",
    "new_plan_values = {'ultimate': 1, 'surf': 0}\n",
    "orgnzd_users.replace(new_plan_values, inplace = True)"
   ]
  },
  {
   "cell_type": "markdown",
   "metadata": {},
   "source": [
    "<div class=\"alert alert-success\" role=\"alert\">\n",
    "Reviewer's comment v. 1:\n",
    "    \n",
    "Yes, a reasonable decision :)\n",
    "</div>"
   ]
  },
  {
   "cell_type": "code",
   "execution_count": 24,
   "metadata": {},
   "outputs": [
    {
     "data": {
      "text/plain": [
       "0"
      ]
     },
     "execution_count": 24,
     "metadata": {},
     "output_type": "execute_result"
    }
   ],
   "source": [
    "# checking for duplicates\n",
    "orgnzd_users.duplicated().sum()"
   ]
  },
  {
   "cell_type": "markdown",
   "metadata": {},
   "source": [
    "doesnt seem to be any more errors"
   ]
  },
  {
   "cell_type": "markdown",
   "metadata": {},
   "source": [
    "<div class=\"alert alert-success\" role=\"alert\">\n",
    "Reviewer's comment v. 1:\n",
    "    \n",
    "Yes, these are no duplicates.\n",
    "</div>"
   ]
  },
  {
   "cell_type": "markdown",
   "metadata": {},
   "source": [
    "###### Finding the number of calls made and minutes used per month for each user"
   ]
  },
  {
   "cell_type": "markdown",
   "metadata": {},
   "source": [
    "first, to do this i need a new column for month:"
   ]
  },
  {
   "cell_type": "code",
   "execution_count": 25,
   "metadata": {},
   "outputs": [],
   "source": [
    "# making a month column\n",
    "orgnzd_calls['call_month'] = pd.DatetimeIndex(orgnzd_calls['call_date']).month"
   ]
  },
  {
   "cell_type": "code",
   "execution_count": 26,
   "metadata": {},
   "outputs": [],
   "source": [
    "# making a pivot by user id and month\n",
    "calls_pivot = orgnzd_calls.pivot_table(index = ['user_id', 'call_month'], values = 'duration', aggfunc = ['sum', 'count'])"
   ]
  },
  {
   "cell_type": "code",
   "execution_count": 27,
   "metadata": {},
   "outputs": [],
   "source": [
    "# reseting index\n",
    "calls_pivot.reset_index(inplace = True)"
   ]
  },
  {
   "cell_type": "code",
   "execution_count": 28,
   "metadata": {},
   "outputs": [],
   "source": [
    "# renaming the columns\n",
    "calls_pivot.columns = ['user_id', 'month', 'minutes_used', 'num_of_calls']"
   ]
  },
  {
   "cell_type": "code",
   "execution_count": 29,
   "metadata": {},
   "outputs": [
    {
     "data": {
      "text/html": [
       "<div>\n",
       "<style scoped>\n",
       "    .dataframe tbody tr th:only-of-type {\n",
       "        vertical-align: middle;\n",
       "    }\n",
       "\n",
       "    .dataframe tbody tr th {\n",
       "        vertical-align: top;\n",
       "    }\n",
       "\n",
       "    .dataframe thead th {\n",
       "        text-align: right;\n",
       "    }\n",
       "</style>\n",
       "<table border=\"1\" class=\"dataframe\">\n",
       "  <thead>\n",
       "    <tr style=\"text-align: right;\">\n",
       "      <th></th>\n",
       "      <th>user_id</th>\n",
       "      <th>month</th>\n",
       "      <th>minutes_used</th>\n",
       "      <th>num_of_calls</th>\n",
       "    </tr>\n",
       "  </thead>\n",
       "  <tbody>\n",
       "    <tr>\n",
       "      <th>0</th>\n",
       "      <td>1000</td>\n",
       "      <td>12</td>\n",
       "      <td>124.0</td>\n",
       "      <td>16</td>\n",
       "    </tr>\n",
       "    <tr>\n",
       "      <th>1</th>\n",
       "      <td>1001</td>\n",
       "      <td>8</td>\n",
       "      <td>182.0</td>\n",
       "      <td>27</td>\n",
       "    </tr>\n",
       "    <tr>\n",
       "      <th>2</th>\n",
       "      <td>1001</td>\n",
       "      <td>9</td>\n",
       "      <td>315.0</td>\n",
       "      <td>49</td>\n",
       "    </tr>\n",
       "    <tr>\n",
       "      <th>3</th>\n",
       "      <td>1001</td>\n",
       "      <td>10</td>\n",
       "      <td>393.0</td>\n",
       "      <td>65</td>\n",
       "    </tr>\n",
       "    <tr>\n",
       "      <th>4</th>\n",
       "      <td>1001</td>\n",
       "      <td>11</td>\n",
       "      <td>426.0</td>\n",
       "      <td>64</td>\n",
       "    </tr>\n",
       "    <tr>\n",
       "      <th>...</th>\n",
       "      <td>...</td>\n",
       "      <td>...</td>\n",
       "      <td>...</td>\n",
       "      <td>...</td>\n",
       "    </tr>\n",
       "    <tr>\n",
       "      <th>2253</th>\n",
       "      <td>1498</td>\n",
       "      <td>12</td>\n",
       "      <td>339.0</td>\n",
       "      <td>39</td>\n",
       "    </tr>\n",
       "    <tr>\n",
       "      <th>2254</th>\n",
       "      <td>1499</td>\n",
       "      <td>9</td>\n",
       "      <td>346.0</td>\n",
       "      <td>41</td>\n",
       "    </tr>\n",
       "    <tr>\n",
       "      <th>2255</th>\n",
       "      <td>1499</td>\n",
       "      <td>10</td>\n",
       "      <td>385.0</td>\n",
       "      <td>53</td>\n",
       "    </tr>\n",
       "    <tr>\n",
       "      <th>2256</th>\n",
       "      <td>1499</td>\n",
       "      <td>11</td>\n",
       "      <td>308.0</td>\n",
       "      <td>45</td>\n",
       "    </tr>\n",
       "    <tr>\n",
       "      <th>2257</th>\n",
       "      <td>1499</td>\n",
       "      <td>12</td>\n",
       "      <td>496.0</td>\n",
       "      <td>65</td>\n",
       "    </tr>\n",
       "  </tbody>\n",
       "</table>\n",
       "<p>2258 rows × 4 columns</p>\n",
       "</div>"
      ],
      "text/plain": [
       "      user_id  month  minutes_used  num_of_calls\n",
       "0        1000     12         124.0            16\n",
       "1        1001      8         182.0            27\n",
       "2        1001      9         315.0            49\n",
       "3        1001     10         393.0            65\n",
       "4        1001     11         426.0            64\n",
       "...       ...    ...           ...           ...\n",
       "2253     1498     12         339.0            39\n",
       "2254     1499      9         346.0            41\n",
       "2255     1499     10         385.0            53\n",
       "2256     1499     11         308.0            45\n",
       "2257     1499     12         496.0            65\n",
       "\n",
       "[2258 rows x 4 columns]"
      ]
     },
     "execution_count": 29,
     "metadata": {},
     "output_type": "execute_result"
    }
   ],
   "source": [
    "calls_pivot"
   ]
  },
  {
   "cell_type": "markdown",
   "metadata": {},
   "source": [
    "###### Finding the number of text messages sent per month for each user"
   ]
  },
  {
   "cell_type": "code",
   "execution_count": 30,
   "metadata": {},
   "outputs": [],
   "source": [
    "# making a month column\n",
    "orgnzd_messages['message_month'] = pd.DatetimeIndex(orgnzd_messages['message_date']).month"
   ]
  },
  {
   "cell_type": "code",
   "execution_count": 31,
   "metadata": {},
   "outputs": [],
   "source": [
    "# making a pivot by user id and month\n",
    "messages_pivot = orgnzd_messages.pivot_table(index = ['user_id', 'message_month'], values = 'message_date', aggfunc = ['count'])"
   ]
  },
  {
   "cell_type": "code",
   "execution_count": 32,
   "metadata": {
    "scrolled": true
   },
   "outputs": [],
   "source": [
    "# reseting index\n",
    "messages_pivot.reset_index(inplace = True)"
   ]
  },
  {
   "cell_type": "code",
   "execution_count": 33,
   "metadata": {},
   "outputs": [],
   "source": [
    "# renaming the columns\n",
    "messages_pivot.columns = ['user_id', 'month', 'messages_sent']"
   ]
  },
  {
   "cell_type": "code",
   "execution_count": 34,
   "metadata": {},
   "outputs": [
    {
     "data": {
      "text/html": [
       "<div>\n",
       "<style scoped>\n",
       "    .dataframe tbody tr th:only-of-type {\n",
       "        vertical-align: middle;\n",
       "    }\n",
       "\n",
       "    .dataframe tbody tr th {\n",
       "        vertical-align: top;\n",
       "    }\n",
       "\n",
       "    .dataframe thead th {\n",
       "        text-align: right;\n",
       "    }\n",
       "</style>\n",
       "<table border=\"1\" class=\"dataframe\">\n",
       "  <thead>\n",
       "    <tr style=\"text-align: right;\">\n",
       "      <th></th>\n",
       "      <th>user_id</th>\n",
       "      <th>month</th>\n",
       "      <th>messages_sent</th>\n",
       "    </tr>\n",
       "  </thead>\n",
       "  <tbody>\n",
       "    <tr>\n",
       "      <th>0</th>\n",
       "      <td>1000</td>\n",
       "      <td>12</td>\n",
       "      <td>11</td>\n",
       "    </tr>\n",
       "    <tr>\n",
       "      <th>1</th>\n",
       "      <td>1001</td>\n",
       "      <td>8</td>\n",
       "      <td>30</td>\n",
       "    </tr>\n",
       "    <tr>\n",
       "      <th>2</th>\n",
       "      <td>1001</td>\n",
       "      <td>9</td>\n",
       "      <td>44</td>\n",
       "    </tr>\n",
       "    <tr>\n",
       "      <th>3</th>\n",
       "      <td>1001</td>\n",
       "      <td>10</td>\n",
       "      <td>53</td>\n",
       "    </tr>\n",
       "    <tr>\n",
       "      <th>4</th>\n",
       "      <td>1001</td>\n",
       "      <td>11</td>\n",
       "      <td>36</td>\n",
       "    </tr>\n",
       "    <tr>\n",
       "      <th>...</th>\n",
       "      <td>...</td>\n",
       "      <td>...</td>\n",
       "      <td>...</td>\n",
       "    </tr>\n",
       "    <tr>\n",
       "      <th>1801</th>\n",
       "      <td>1496</td>\n",
       "      <td>9</td>\n",
       "      <td>21</td>\n",
       "    </tr>\n",
       "    <tr>\n",
       "      <th>1802</th>\n",
       "      <td>1496</td>\n",
       "      <td>10</td>\n",
       "      <td>18</td>\n",
       "    </tr>\n",
       "    <tr>\n",
       "      <th>1803</th>\n",
       "      <td>1496</td>\n",
       "      <td>11</td>\n",
       "      <td>13</td>\n",
       "    </tr>\n",
       "    <tr>\n",
       "      <th>1804</th>\n",
       "      <td>1496</td>\n",
       "      <td>12</td>\n",
       "      <td>11</td>\n",
       "    </tr>\n",
       "    <tr>\n",
       "      <th>1805</th>\n",
       "      <td>1497</td>\n",
       "      <td>12</td>\n",
       "      <td>50</td>\n",
       "    </tr>\n",
       "  </tbody>\n",
       "</table>\n",
       "<p>1806 rows × 3 columns</p>\n",
       "</div>"
      ],
      "text/plain": [
       "      user_id  month  messages_sent\n",
       "0        1000     12             11\n",
       "1        1001      8             30\n",
       "2        1001      9             44\n",
       "3        1001     10             53\n",
       "4        1001     11             36\n",
       "...       ...    ...            ...\n",
       "1801     1496      9             21\n",
       "1802     1496     10             18\n",
       "1803     1496     11             13\n",
       "1804     1496     12             11\n",
       "1805     1497     12             50\n",
       "\n",
       "[1806 rows x 3 columns]"
      ]
     },
     "execution_count": 34,
     "metadata": {},
     "output_type": "execute_result"
    }
   ],
   "source": [
    "messages_pivot"
   ]
  },
  {
   "cell_type": "markdown",
   "metadata": {},
   "source": [
    "###### Finding the volume of data per month for each user"
   ]
  },
  {
   "cell_type": "code",
   "execution_count": 35,
   "metadata": {},
   "outputs": [],
   "source": [
    "# making a month column\n",
    "orgnzd_internet['session_month'] = pd.DatetimeIndex(orgnzd_internet['session_date']).month"
   ]
  },
  {
   "cell_type": "code",
   "execution_count": 36,
   "metadata": {},
   "outputs": [],
   "source": [
    "# making a pivot by user id and month\n",
    "internet_pivot = orgnzd_internet.pivot_table(index = ['user_id', 'session_month'], values = 'mb_used', aggfunc = ['sum'])"
   ]
  },
  {
   "cell_type": "code",
   "execution_count": 37,
   "metadata": {},
   "outputs": [],
   "source": [
    "# reseting index\n",
    "internet_pivot.reset_index(inplace = True)"
   ]
  },
  {
   "cell_type": "code",
   "execution_count": 38,
   "metadata": {},
   "outputs": [],
   "source": [
    "# renaming the columns\n",
    "internet_pivot.columns = ['user_id', 'month', 'sum_mb_used']"
   ]
  },
  {
   "cell_type": "code",
   "execution_count": 39,
   "metadata": {},
   "outputs": [
    {
     "data": {
      "text/html": [
       "<div>\n",
       "<style scoped>\n",
       "    .dataframe tbody tr th:only-of-type {\n",
       "        vertical-align: middle;\n",
       "    }\n",
       "\n",
       "    .dataframe tbody tr th {\n",
       "        vertical-align: top;\n",
       "    }\n",
       "\n",
       "    .dataframe thead th {\n",
       "        text-align: right;\n",
       "    }\n",
       "</style>\n",
       "<table border=\"1\" class=\"dataframe\">\n",
       "  <thead>\n",
       "    <tr style=\"text-align: right;\">\n",
       "      <th></th>\n",
       "      <th>user_id</th>\n",
       "      <th>month</th>\n",
       "      <th>sum_mb_used</th>\n",
       "    </tr>\n",
       "  </thead>\n",
       "  <tbody>\n",
       "    <tr>\n",
       "      <th>0</th>\n",
       "      <td>1000</td>\n",
       "      <td>12</td>\n",
       "      <td>1901.47</td>\n",
       "    </tr>\n",
       "    <tr>\n",
       "      <th>1</th>\n",
       "      <td>1001</td>\n",
       "      <td>8</td>\n",
       "      <td>6919.15</td>\n",
       "    </tr>\n",
       "    <tr>\n",
       "      <th>2</th>\n",
       "      <td>1001</td>\n",
       "      <td>9</td>\n",
       "      <td>13314.82</td>\n",
       "    </tr>\n",
       "    <tr>\n",
       "      <th>3</th>\n",
       "      <td>1001</td>\n",
       "      <td>10</td>\n",
       "      <td>22330.49</td>\n",
       "    </tr>\n",
       "    <tr>\n",
       "      <th>4</th>\n",
       "      <td>1001</td>\n",
       "      <td>11</td>\n",
       "      <td>18504.30</td>\n",
       "    </tr>\n",
       "    <tr>\n",
       "      <th>...</th>\n",
       "      <td>...</td>\n",
       "      <td>...</td>\n",
       "      <td>...</td>\n",
       "    </tr>\n",
       "    <tr>\n",
       "      <th>2272</th>\n",
       "      <td>1498</td>\n",
       "      <td>12</td>\n",
       "      <td>23137.69</td>\n",
       "    </tr>\n",
       "    <tr>\n",
       "      <th>2273</th>\n",
       "      <td>1499</td>\n",
       "      <td>9</td>\n",
       "      <td>12984.76</td>\n",
       "    </tr>\n",
       "    <tr>\n",
       "      <th>2274</th>\n",
       "      <td>1499</td>\n",
       "      <td>10</td>\n",
       "      <td>19492.43</td>\n",
       "    </tr>\n",
       "    <tr>\n",
       "      <th>2275</th>\n",
       "      <td>1499</td>\n",
       "      <td>11</td>\n",
       "      <td>16813.83</td>\n",
       "    </tr>\n",
       "    <tr>\n",
       "      <th>2276</th>\n",
       "      <td>1499</td>\n",
       "      <td>12</td>\n",
       "      <td>22059.21</td>\n",
       "    </tr>\n",
       "  </tbody>\n",
       "</table>\n",
       "<p>2277 rows × 3 columns</p>\n",
       "</div>"
      ],
      "text/plain": [
       "      user_id  month  sum_mb_used\n",
       "0        1000     12      1901.47\n",
       "1        1001      8      6919.15\n",
       "2        1001      9     13314.82\n",
       "3        1001     10     22330.49\n",
       "4        1001     11     18504.30\n",
       "...       ...    ...          ...\n",
       "2272     1498     12     23137.69\n",
       "2273     1499      9     12984.76\n",
       "2274     1499     10     19492.43\n",
       "2275     1499     11     16813.83\n",
       "2276     1499     12     22059.21\n",
       "\n",
       "[2277 rows x 3 columns]"
      ]
     },
     "execution_count": 39,
     "metadata": {},
     "output_type": "execute_result"
    }
   ],
   "source": [
    "internet_pivot"
   ]
  },
  {
   "cell_type": "markdown",
   "metadata": {},
   "source": [
    "###### Finding the monthly revenue from each user"
   ]
  },
  {
   "cell_type": "code",
   "execution_count": 40,
   "metadata": {},
   "outputs": [],
   "source": [
    "# making copies of the tables just in case\n",
    "messages_pivot_copy = messages_pivot.copy()\n",
    "calls_pivot_copy = calls_pivot.copy()\n",
    "internet_pivot_copy = internet_pivot.copy()"
   ]
  },
  {
   "cell_type": "code",
   "execution_count": 41,
   "metadata": {},
   "outputs": [],
   "source": [
    "# merging first 2 tables on user and month\n",
    "merged = messages_pivot_copy.merge(calls_pivot_copy, on = ['user_id', 'month'], how = 'outer')"
   ]
  },
  {
   "cell_type": "code",
   "execution_count": 42,
   "metadata": {},
   "outputs": [],
   "source": [
    "# merging with the 3rd table on user and month\n",
    "merged = merged.merge(internet_pivot_copy, on = ['user_id', 'month'], how = 'outer')"
   ]
  },
  {
   "cell_type": "code",
   "execution_count": 43,
   "metadata": {
    "scrolled": true
   },
   "outputs": [],
   "source": [
    "# filling the nulls with 0\n",
    "merged.fillna(0, inplace = True)"
   ]
  },
  {
   "cell_type": "code",
   "execution_count": 44,
   "metadata": {},
   "outputs": [],
   "source": [
    "# making a table for only user/plan/city\n",
    "user_plan_city = orgnzd_users.copy()"
   ]
  },
  {
   "cell_type": "code",
   "execution_count": 45,
   "metadata": {},
   "outputs": [],
   "source": [
    "# droping all other columns\n",
    "not_relevant_columns = ['first_name', 'last_name', 'age', 'reg_date', 'churn_date']\n",
    "user_plan_city.drop(not_relevant_columns, axis = 1, inplace = True)"
   ]
  },
  {
   "cell_type": "code",
   "execution_count": 46,
   "metadata": {},
   "outputs": [],
   "source": [
    "# adding the plan column to the merged table by user\n",
    "merged = merged.merge(user_plan_city, on = ['user_id'], how = 'outer')"
   ]
  },
  {
   "cell_type": "code",
   "execution_count": 47,
   "metadata": {},
   "outputs": [],
   "source": [
    "# filling nulls in the month column with 'null' for the users that didnt use anything at all (??)\n",
    "merged['month'].fillna('null', inplace = True)"
   ]
  },
  {
   "cell_type": "code",
   "execution_count": 48,
   "metadata": {},
   "outputs": [],
   "source": [
    "# filling all the other nulls from those users with 0\n",
    "merged.fillna(0, inplace = True)"
   ]
  },
  {
   "cell_type": "code",
   "execution_count": 49,
   "metadata": {
    "scrolled": true
   },
   "outputs": [],
   "source": [
    "# sorting the table by order of user and month\n",
    "merged.sort_values(['user_id', 'month'], inplace = True)"
   ]
  },
  {
   "cell_type": "code",
   "execution_count": 50,
   "metadata": {
    "scrolled": true
   },
   "outputs": [],
   "source": [
    "# reseting index\n",
    "merged.reset_index(inplace = True)"
   ]
  },
  {
   "cell_type": "code",
   "execution_count": 51,
   "metadata": {},
   "outputs": [],
   "source": [
    "# droping the duplicate index\n",
    "merged.drop('index', axis = 1, inplace = True)"
   ]
  },
  {
   "cell_type": "code",
   "execution_count": 52,
   "metadata": {
    "scrolled": true
   },
   "outputs": [
    {
     "data": {
      "text/html": [
       "<div>\n",
       "<style scoped>\n",
       "    .dataframe tbody tr th:only-of-type {\n",
       "        vertical-align: middle;\n",
       "    }\n",
       "\n",
       "    .dataframe tbody tr th {\n",
       "        vertical-align: top;\n",
       "    }\n",
       "\n",
       "    .dataframe thead th {\n",
       "        text-align: right;\n",
       "    }\n",
       "</style>\n",
       "<table border=\"1\" class=\"dataframe\">\n",
       "  <thead>\n",
       "    <tr style=\"text-align: right;\">\n",
       "      <th></th>\n",
       "      <th>user_id</th>\n",
       "      <th>month</th>\n",
       "      <th>messages_sent</th>\n",
       "      <th>minutes_used</th>\n",
       "      <th>num_of_calls</th>\n",
       "      <th>sum_mb_used</th>\n",
       "      <th>city</th>\n",
       "      <th>plan</th>\n",
       "    </tr>\n",
       "  </thead>\n",
       "  <tbody>\n",
       "    <tr>\n",
       "      <th>0</th>\n",
       "      <td>1000</td>\n",
       "      <td>12.0</td>\n",
       "      <td>11.0</td>\n",
       "      <td>124.0</td>\n",
       "      <td>16.0</td>\n",
       "      <td>1901.47</td>\n",
       "      <td>atlanta-sandy springs-roswell, ga msa</td>\n",
       "      <td>ultimate</td>\n",
       "    </tr>\n",
       "    <tr>\n",
       "      <th>1</th>\n",
       "      <td>1001</td>\n",
       "      <td>8.0</td>\n",
       "      <td>30.0</td>\n",
       "      <td>182.0</td>\n",
       "      <td>27.0</td>\n",
       "      <td>6919.15</td>\n",
       "      <td>seattle-tacoma-bellevue, wa msa</td>\n",
       "      <td>surf</td>\n",
       "    </tr>\n",
       "  </tbody>\n",
       "</table>\n",
       "</div>"
      ],
      "text/plain": [
       "   user_id month  messages_sent  minutes_used  num_of_calls  sum_mb_used  \\\n",
       "0     1000  12.0           11.0         124.0          16.0      1901.47   \n",
       "1     1001   8.0           30.0         182.0          27.0      6919.15   \n",
       "\n",
       "                                    city      plan  \n",
       "0  atlanta-sandy springs-roswell, ga msa  ultimate  \n",
       "1        seattle-tacoma-bellevue, wa msa      surf  "
      ]
     },
     "execution_count": 52,
     "metadata": {},
     "output_type": "execute_result"
    }
   ],
   "source": [
    "merged.head(2)"
   ]
  },
  {
   "cell_type": "markdown",
   "metadata": {},
   "source": [
    "<div class=\"alert alert-info\"> <b> now ill round the data up and first ill move the cell that converts from mb to gb because i need to round up to gb and not to mb: </b>"
   ]
  },
  {
   "cell_type": "markdown",
   "metadata": {},
   "source": [
    "<div class=\"alert alert-success\" role=\"alert\">\n",
    "Reviewer's comment v. 2:\n",
    "    \n",
    "Ok :)\n",
    "</div>"
   ]
  },
  {
   "cell_type": "code",
   "execution_count": 53,
   "metadata": {},
   "outputs": [],
   "source": [
    "# convering mb to gb\n",
    "merged['sum_mb_used'] = merged['sum_mb_used'] / 1024\n",
    "merged.rename(columns = {'sum_mb_used': 'gb_used'}, inplace = True)"
   ]
  },
  {
   "cell_type": "code",
   "execution_count": 54,
   "metadata": {},
   "outputs": [],
   "source": [
    "# rounding up the gb\n",
    "merged['gb_used'] = np.ceil(merged['gb_used'])"
   ]
  },
  {
   "cell_type": "code",
   "execution_count": 55,
   "metadata": {
    "scrolled": true
   },
   "outputs": [
    {
     "data": {
      "text/html": [
       "<div>\n",
       "<style scoped>\n",
       "    .dataframe tbody tr th:only-of-type {\n",
       "        vertical-align: middle;\n",
       "    }\n",
       "\n",
       "    .dataframe tbody tr th {\n",
       "        vertical-align: top;\n",
       "    }\n",
       "\n",
       "    .dataframe thead th {\n",
       "        text-align: right;\n",
       "    }\n",
       "</style>\n",
       "<table border=\"1\" class=\"dataframe\">\n",
       "  <thead>\n",
       "    <tr style=\"text-align: right;\">\n",
       "      <th></th>\n",
       "      <th>messages_included</th>\n",
       "      <th>mb_per_month_included</th>\n",
       "      <th>minutes_included</th>\n",
       "      <th>usd_monthly_pay</th>\n",
       "      <th>usd_per_gb</th>\n",
       "      <th>usd_per_message</th>\n",
       "      <th>usd_per_minute</th>\n",
       "      <th>plan_name</th>\n",
       "    </tr>\n",
       "  </thead>\n",
       "  <tbody>\n",
       "    <tr>\n",
       "      <th>0</th>\n",
       "      <td>50</td>\n",
       "      <td>15360</td>\n",
       "      <td>500</td>\n",
       "      <td>20</td>\n",
       "      <td>10</td>\n",
       "      <td>0.03</td>\n",
       "      <td>0.03</td>\n",
       "      <td>surf</td>\n",
       "    </tr>\n",
       "    <tr>\n",
       "      <th>1</th>\n",
       "      <td>1000</td>\n",
       "      <td>30720</td>\n",
       "      <td>3000</td>\n",
       "      <td>70</td>\n",
       "      <td>7</td>\n",
       "      <td>0.01</td>\n",
       "      <td>0.01</td>\n",
       "      <td>ultimate</td>\n",
       "    </tr>\n",
       "  </tbody>\n",
       "</table>\n",
       "</div>"
      ],
      "text/plain": [
       "   messages_included  mb_per_month_included  minutes_included  \\\n",
       "0                 50                  15360               500   \n",
       "1               1000                  30720              3000   \n",
       "\n",
       "   usd_monthly_pay  usd_per_gb  usd_per_message  usd_per_minute plan_name  \n",
       "0               20          10             0.03            0.03      surf  \n",
       "1               70           7             0.01            0.01  ultimate  "
      ]
     },
     "execution_count": 55,
     "metadata": {},
     "output_type": "execute_result"
    }
   ],
   "source": [
    "orgnzd_plans"
   ]
  },
  {
   "cell_type": "code",
   "execution_count": 56,
   "metadata": {},
   "outputs": [],
   "source": [
    "# making a function to calculate the revenue from each user on each month\n",
    "def revenue_calc(row):\n",
    "    gb_used = row['gb_used']\n",
    "    minutes_used = row['minutes_used']\n",
    "    messages_sent = row['messages_sent']\n",
    "    plan = row['plan']\n",
    "    i = 0\n",
    "    data_calc = (gb_used - (orgnzd_plans['mb_per_month_included'][i] / 1024)) * orgnzd_plans['usd_per_gb'][i]\n",
    "    calls_calc = (minutes_used - orgnzd_plans['minutes_included'][i]) * orgnzd_plans['usd_per_minute'][i]\n",
    "    messages_calc = (messages_sent - orgnzd_plans['messages_included'][i]) * orgnzd_plans['usd_per_message'][i]\n",
    "    if plan == 'surf':\n",
    "        answer = data_calc + calls_calc + messages_calc + orgnzd_plans['usd_monthly_pay'][i]\n",
    "        if answer < orgnzd_plans['usd_monthly_pay'][i]:\n",
    "            return orgnzd_plans['usd_monthly_pay'][i]\n",
    "        else:\n",
    "            return answer\n",
    "    else:\n",
    "        i = 1\n",
    "        answer = data_calc + calls_calc + messages_calc + orgnzd_plans['usd_monthly_pay'][i]\n",
    "        if answer < orgnzd_plans['usd_monthly_pay'][i]:\n",
    "            return orgnzd_plans['usd_monthly_pay'][i]\n",
    "        else:\n",
    "            return answer"
   ]
  },
  {
   "cell_type": "markdown",
   "metadata": {},
   "source": [
    "<div class=\"alert alert-warning\" role=\"alert\">\n",
    "Reviewer's comment v. 1:\n",
    "    \n",
    "I recommend to use docstrings for functions. Please see for details: https://www.python.org/dev/peps/pep-0008/\n",
    "</div>"
   ]
  },
  {
   "cell_type": "markdown",
   "metadata": {},
   "source": [
    "<div class=\"alert alert-block alert-info\">\n",
    "<b> i looked in there and havent found whats wrong, i have all the correct indentations, and all my code ends in 1 line of code so what it said there about how to write a code when its multiple lines is not relevant here.. </b>\n",
    "</div>"
   ]
  },
  {
   "cell_type": "markdown",
   "metadata": {},
   "source": [
    "<div class=\"alert alert-success\" role=\"alert\">\n",
    "Reviewer's comment v. 2:\n",
    "    \n",
    "I's not wrong, but it will be better to write code according pep8 rules.\n",
    "</div>"
   ]
  },
  {
   "cell_type": "code",
   "execution_count": 57,
   "metadata": {},
   "outputs": [],
   "source": [
    "# applying the function and making a new revenue column\n",
    "merged['revenue'] = merged.apply(revenue_calc, axis = 1)"
   ]
  },
  {
   "cell_type": "code",
   "execution_count": 58,
   "metadata": {
    "scrolled": true
   },
   "outputs": [
    {
     "data": {
      "text/html": [
       "<div>\n",
       "<style scoped>\n",
       "    .dataframe tbody tr th:only-of-type {\n",
       "        vertical-align: middle;\n",
       "    }\n",
       "\n",
       "    .dataframe tbody tr th {\n",
       "        vertical-align: top;\n",
       "    }\n",
       "\n",
       "    .dataframe thead th {\n",
       "        text-align: right;\n",
       "    }\n",
       "</style>\n",
       "<table border=\"1\" class=\"dataframe\">\n",
       "  <thead>\n",
       "    <tr style=\"text-align: right;\">\n",
       "      <th></th>\n",
       "      <th>user_id</th>\n",
       "      <th>month</th>\n",
       "      <th>messages_sent</th>\n",
       "      <th>minutes_used</th>\n",
       "      <th>num_of_calls</th>\n",
       "      <th>gb_used</th>\n",
       "      <th>city</th>\n",
       "      <th>plan</th>\n",
       "      <th>revenue</th>\n",
       "    </tr>\n",
       "  </thead>\n",
       "  <tbody>\n",
       "    <tr>\n",
       "      <th>0</th>\n",
       "      <td>1000</td>\n",
       "      <td>12.0</td>\n",
       "      <td>11.0</td>\n",
       "      <td>124.0</td>\n",
       "      <td>16.0</td>\n",
       "      <td>2.0</td>\n",
       "      <td>atlanta-sandy springs-roswell, ga msa</td>\n",
       "      <td>ultimate</td>\n",
       "      <td>70.00</td>\n",
       "    </tr>\n",
       "    <tr>\n",
       "      <th>1</th>\n",
       "      <td>1001</td>\n",
       "      <td>8.0</td>\n",
       "      <td>30.0</td>\n",
       "      <td>182.0</td>\n",
       "      <td>27.0</td>\n",
       "      <td>7.0</td>\n",
       "      <td>seattle-tacoma-bellevue, wa msa</td>\n",
       "      <td>surf</td>\n",
       "      <td>20.00</td>\n",
       "    </tr>\n",
       "    <tr>\n",
       "      <th>2</th>\n",
       "      <td>1001</td>\n",
       "      <td>9.0</td>\n",
       "      <td>44.0</td>\n",
       "      <td>315.0</td>\n",
       "      <td>49.0</td>\n",
       "      <td>14.0</td>\n",
       "      <td>seattle-tacoma-bellevue, wa msa</td>\n",
       "      <td>surf</td>\n",
       "      <td>20.00</td>\n",
       "    </tr>\n",
       "    <tr>\n",
       "      <th>3</th>\n",
       "      <td>1001</td>\n",
       "      <td>10.0</td>\n",
       "      <td>53.0</td>\n",
       "      <td>393.0</td>\n",
       "      <td>65.0</td>\n",
       "      <td>22.0</td>\n",
       "      <td>seattle-tacoma-bellevue, wa msa</td>\n",
       "      <td>surf</td>\n",
       "      <td>86.88</td>\n",
       "    </tr>\n",
       "    <tr>\n",
       "      <th>4</th>\n",
       "      <td>1001</td>\n",
       "      <td>11.0</td>\n",
       "      <td>36.0</td>\n",
       "      <td>426.0</td>\n",
       "      <td>64.0</td>\n",
       "      <td>19.0</td>\n",
       "      <td>seattle-tacoma-bellevue, wa msa</td>\n",
       "      <td>surf</td>\n",
       "      <td>57.36</td>\n",
       "    </tr>\n",
       "  </tbody>\n",
       "</table>\n",
       "</div>"
      ],
      "text/plain": [
       "   user_id month  messages_sent  minutes_used  num_of_calls  gb_used  \\\n",
       "0     1000  12.0           11.0         124.0          16.0      2.0   \n",
       "1     1001   8.0           30.0         182.0          27.0      7.0   \n",
       "2     1001   9.0           44.0         315.0          49.0     14.0   \n",
       "3     1001  10.0           53.0         393.0          65.0     22.0   \n",
       "4     1001  11.0           36.0         426.0          64.0     19.0   \n",
       "\n",
       "                                    city      plan  revenue  \n",
       "0  atlanta-sandy springs-roswell, ga msa  ultimate    70.00  \n",
       "1        seattle-tacoma-bellevue, wa msa      surf    20.00  \n",
       "2        seattle-tacoma-bellevue, wa msa      surf    20.00  \n",
       "3        seattle-tacoma-bellevue, wa msa      surf    86.88  \n",
       "4        seattle-tacoma-bellevue, wa msa      surf    57.36  "
      ]
     },
     "execution_count": 58,
     "metadata": {},
     "output_type": "execute_result"
    }
   ],
   "source": [
    "# checking it worked\n",
    "merged.head()"
   ]
  },
  {
   "cell_type": "markdown",
   "metadata": {},
   "source": [
    "<div class=\"alert alert-success\" role=\"alert\">\n",
    "Reviewer's comment v. 1:\n",
    "    \n",
    "Well done that you have taken into account that 1 Gb = 1024 Mb.\n",
    "</div>"
   ]
  },
  {
   "cell_type": "code",
   "execution_count": 59,
   "metadata": {},
   "outputs": [
    {
     "data": {
      "text/html": [
       "<div>\n",
       "<style scoped>\n",
       "    .dataframe tbody tr th:only-of-type {\n",
       "        vertical-align: middle;\n",
       "    }\n",
       "\n",
       "    .dataframe tbody tr th {\n",
       "        vertical-align: top;\n",
       "    }\n",
       "\n",
       "    .dataframe thead th {\n",
       "        text-align: right;\n",
       "    }\n",
       "</style>\n",
       "<table border=\"1\" class=\"dataframe\">\n",
       "  <thead>\n",
       "    <tr style=\"text-align: right;\">\n",
       "      <th></th>\n",
       "      <th>user_id</th>\n",
       "      <th>messages_sent</th>\n",
       "      <th>minutes_used</th>\n",
       "      <th>num_of_calls</th>\n",
       "      <th>gb_used</th>\n",
       "      <th>revenue</th>\n",
       "    </tr>\n",
       "  </thead>\n",
       "  <tbody>\n",
       "    <tr>\n",
       "      <th>count</th>\n",
       "      <td>2303.000000</td>\n",
       "      <td>2303.000000</td>\n",
       "      <td>2303.000000</td>\n",
       "      <td>2303.000000</td>\n",
       "      <td>2303.000000</td>\n",
       "      <td>2303.000000</td>\n",
       "    </tr>\n",
       "    <tr>\n",
       "      <th>mean</th>\n",
       "      <td>1246.214937</td>\n",
       "      <td>33.022579</td>\n",
       "      <td>427.419453</td>\n",
       "      <td>59.806774</td>\n",
       "      <td>16.797221</td>\n",
       "      <td>74.572796</td>\n",
       "    </tr>\n",
       "    <tr>\n",
       "      <th>std</th>\n",
       "      <td>143.044136</td>\n",
       "      <td>34.065907</td>\n",
       "      <td>237.490294</td>\n",
       "      <td>32.572548</td>\n",
       "      <td>7.857946</td>\n",
       "      <td>60.364222</td>\n",
       "    </tr>\n",
       "    <tr>\n",
       "      <th>min</th>\n",
       "      <td>1000.000000</td>\n",
       "      <td>0.000000</td>\n",
       "      <td>0.000000</td>\n",
       "      <td>0.000000</td>\n",
       "      <td>0.000000</td>\n",
       "      <td>20.000000</td>\n",
       "    </tr>\n",
       "    <tr>\n",
       "      <th>25%</th>\n",
       "      <td>1122.000000</td>\n",
       "      <td>3.000000</td>\n",
       "      <td>262.500000</td>\n",
       "      <td>38.000000</td>\n",
       "      <td>12.000000</td>\n",
       "      <td>20.000000</td>\n",
       "    </tr>\n",
       "    <tr>\n",
       "      <th>50%</th>\n",
       "      <td>1245.000000</td>\n",
       "      <td>25.000000</td>\n",
       "      <td>424.000000</td>\n",
       "      <td>60.000000</td>\n",
       "      <td>17.000000</td>\n",
       "      <td>70.000000</td>\n",
       "    </tr>\n",
       "    <tr>\n",
       "      <th>75%</th>\n",
       "      <td>1368.000000</td>\n",
       "      <td>51.000000</td>\n",
       "      <td>571.500000</td>\n",
       "      <td>79.000000</td>\n",
       "      <td>21.000000</td>\n",
       "      <td>97.705000</td>\n",
       "    </tr>\n",
       "    <tr>\n",
       "      <th>max</th>\n",
       "      <td>1499.000000</td>\n",
       "      <td>266.000000</td>\n",
       "      <td>1510.000000</td>\n",
       "      <td>205.000000</td>\n",
       "      <td>70.000000</td>\n",
       "      <td>590.370000</td>\n",
       "    </tr>\n",
       "  </tbody>\n",
       "</table>\n",
       "</div>"
      ],
      "text/plain": [
       "           user_id  messages_sent  minutes_used  num_of_calls      gb_used  \\\n",
       "count  2303.000000    2303.000000   2303.000000   2303.000000  2303.000000   \n",
       "mean   1246.214937      33.022579    427.419453     59.806774    16.797221   \n",
       "std     143.044136      34.065907    237.490294     32.572548     7.857946   \n",
       "min    1000.000000       0.000000      0.000000      0.000000     0.000000   \n",
       "25%    1122.000000       3.000000    262.500000     38.000000    12.000000   \n",
       "50%    1245.000000      25.000000    424.000000     60.000000    17.000000   \n",
       "75%    1368.000000      51.000000    571.500000     79.000000    21.000000   \n",
       "max    1499.000000     266.000000   1510.000000    205.000000    70.000000   \n",
       "\n",
       "           revenue  \n",
       "count  2303.000000  \n",
       "mean     74.572796  \n",
       "std      60.364222  \n",
       "min      20.000000  \n",
       "25%      20.000000  \n",
       "50%      70.000000  \n",
       "75%      97.705000  \n",
       "max     590.370000  "
      ]
     },
     "execution_count": 59,
     "metadata": {},
     "output_type": "execute_result"
    }
   ],
   "source": [
    "merged.describe()"
   ]
  },
  {
   "cell_type": "markdown",
   "metadata": {},
   "source": [
    "<div class=\"alert alert-danger\" role=\"alert\">\n",
    "Reviewer's comment v. 1:\n",
    "    \n",
    "It is necessary to use .ceil to round up data.\n",
    "</div>"
   ]
  },
  {
   "cell_type": "markdown",
   "metadata": {},
   "source": [
    "<div class=\"alert alert-info\"> <b> you are right, i am going to fix that above, before i calculated the revenue obviously, for data it says it rounds up per month so ill do it a couple cells above, but for calls it says in the project description that \"each individual call is rounded up..\" so ill round it up somewhere in the first call table. </b>"
   ]
  },
  {
   "cell_type": "markdown",
   "metadata": {},
   "source": [
    "<div class=\"alert alert-success\" role=\"alert\">\n",
    "Reviewer's comment v. 2:\n",
    "    \n",
    "Great, now it's correct :)\n",
    "</div>"
   ]
  },
  {
   "cell_type": "markdown",
   "metadata": {},
   "source": [
    "###### Conclusion"
   ]
  },
  {
   "cell_type": "markdown",
   "metadata": {},
   "source": [
    "First i organized the tables by lower casing relevant object columns, then i changed the date columns to date type.\n",
    "filled missing values, checked for duplicates, rounded up seconds to minutes, found the data of calls, messages and internet data. then i converted mb to gb and rounded it up to gb.\n",
    "then i merged them together by user and month, filled nulls with 0, added the plan and city columns by user for next tasks sakes, replaced nulls in month (for the users who have not used the plan at all), and finally added the revenue column using the plans table."
   ]
  },
  {
   "cell_type": "markdown",
   "metadata": {},
   "source": [
    "<div class=\"alert alert-success\" role=\"alert\">\n",
    "Reviewer's comment v. 1:\n",
    "    \n",
    "Ok, lets move to the data analysis.\n",
    "</div>"
   ]
  },
  {
   "cell_type": "markdown",
   "metadata": {},
   "source": [
    "## Step 3 Analyze the data"
   ]
  },
  {
   "cell_type": "markdown",
   "metadata": {},
   "source": [
    "###### Finding the minutes, texts, and volume of data `the users of each plan` require per month"
   ]
  },
  {
   "cell_type": "markdown",
   "metadata": {},
   "source": [
    "if i understand it correctly, i need to find the **total** usage for each plan in each month, so here goes:"
   ]
  },
  {
   "cell_type": "raw",
   "metadata": {},
   "source": [
    "# made a pivot \n",
    "# msv stands for mean, std and var functions.\n",
    "merged_pivot_msv = merged.pivot_table(index = ['month', 'plan'], values = ['messages_sent', 'minutes_used', 'gb_used'], aggfunc = ['mean', 'std', 'var']).reset_index()"
   ]
  },
  {
   "cell_type": "raw",
   "metadata": {},
   "source": [
    "merged_pivot_msv"
   ]
  },
  {
   "cell_type": "raw",
   "metadata": {},
   "source": [
    "merged_pivot['mean']['messages_sent'].hist()"
   ]
  },
  {
   "cell_type": "code",
   "execution_count": 60,
   "metadata": {},
   "outputs": [],
   "source": [
    "merged_pivot_sum = merged.pivot_table(index = ['month', 'plan'], values = ['messages_sent', 'minutes_used', 'gb_used'], aggfunc = ['sum']).reset_index()\n",
    "merged_pivot_sum.columns = ['month', 'plan', 'sum_sms_sent_p_month', 'sum_min_used_p_month', 'sum_gb_used_p_month']\n",
    "merged_pivot_sum.drop([24, 25], inplace = True)\n",
    "merged_pivot_sum['month'] = merged_pivot_sum['month'].astype('int')"
   ]
  },
  {
   "cell_type": "code",
   "execution_count": 61,
   "metadata": {
    "scrolled": true
   },
   "outputs": [
    {
     "data": {
      "text/html": [
       "<div>\n",
       "<style scoped>\n",
       "    .dataframe tbody tr th:only-of-type {\n",
       "        vertical-align: middle;\n",
       "    }\n",
       "\n",
       "    .dataframe tbody tr th {\n",
       "        vertical-align: top;\n",
       "    }\n",
       "\n",
       "    .dataframe thead th {\n",
       "        text-align: right;\n",
       "    }\n",
       "</style>\n",
       "<table border=\"1\" class=\"dataframe\">\n",
       "  <thead>\n",
       "    <tr style=\"text-align: right;\">\n",
       "      <th></th>\n",
       "      <th>month</th>\n",
       "      <th>plan</th>\n",
       "      <th>sum_sms_sent_p_month</th>\n",
       "      <th>sum_min_used_p_month</th>\n",
       "      <th>sum_gb_used_p_month</th>\n",
       "    </tr>\n",
       "  </thead>\n",
       "  <tbody>\n",
       "    <tr>\n",
       "      <th>0</th>\n",
       "      <td>1</td>\n",
       "      <td>surf</td>\n",
       "      <td>10.0</td>\n",
       "      <td>21.0</td>\n",
       "      <td>406.0</td>\n",
       "    </tr>\n",
       "    <tr>\n",
       "      <th>1</th>\n",
       "      <td>1</td>\n",
       "      <td>ultimate</td>\n",
       "      <td>29.0</td>\n",
       "      <td>62.0</td>\n",
       "      <td>774.0</td>\n",
       "    </tr>\n",
       "    <tr>\n",
       "      <th>2</th>\n",
       "      <td>2</td>\n",
       "      <td>surf</td>\n",
       "      <td>110.0</td>\n",
       "      <td>108.0</td>\n",
       "      <td>2673.0</td>\n",
       "    </tr>\n",
       "    <tr>\n",
       "      <th>3</th>\n",
       "      <td>2</td>\n",
       "      <td>ultimate</td>\n",
       "      <td>121.0</td>\n",
       "      <td>151.0</td>\n",
       "      <td>2822.0</td>\n",
       "    </tr>\n",
       "    <tr>\n",
       "      <th>4</th>\n",
       "      <td>3</td>\n",
       "      <td>surf</td>\n",
       "      <td>312.0</td>\n",
       "      <td>351.0</td>\n",
       "      <td>7590.0</td>\n",
       "    </tr>\n",
       "    <tr>\n",
       "      <th>5</th>\n",
       "      <td>3</td>\n",
       "      <td>ultimate</td>\n",
       "      <td>221.0</td>\n",
       "      <td>243.0</td>\n",
       "      <td>3651.0</td>\n",
       "    </tr>\n",
       "    <tr>\n",
       "      <th>6</th>\n",
       "      <td>4</td>\n",
       "      <td>surf</td>\n",
       "      <td>611.0</td>\n",
       "      <td>870.0</td>\n",
       "      <td>17577.0</td>\n",
       "    </tr>\n",
       "    <tr>\n",
       "      <th>7</th>\n",
       "      <td>4</td>\n",
       "      <td>ultimate</td>\n",
       "      <td>343.0</td>\n",
       "      <td>463.0</td>\n",
       "      <td>7074.0</td>\n",
       "    </tr>\n",
       "    <tr>\n",
       "      <th>8</th>\n",
       "      <td>5</td>\n",
       "      <td>surf</td>\n",
       "      <td>1087.0</td>\n",
       "      <td>1849.0</td>\n",
       "      <td>30768.0</td>\n",
       "    </tr>\n",
       "    <tr>\n",
       "      <th>9</th>\n",
       "      <td>5</td>\n",
       "      <td>ultimate</td>\n",
       "      <td>489.0</td>\n",
       "      <td>931.0</td>\n",
       "      <td>11781.0</td>\n",
       "    </tr>\n",
       "    <tr>\n",
       "      <th>10</th>\n",
       "      <td>6</td>\n",
       "      <td>surf</td>\n",
       "      <td>1502.0</td>\n",
       "      <td>2454.0</td>\n",
       "      <td>41836.0</td>\n",
       "    </tr>\n",
       "    <tr>\n",
       "      <th>11</th>\n",
       "      <td>6</td>\n",
       "      <td>ultimate</td>\n",
       "      <td>725.0</td>\n",
       "      <td>1379.0</td>\n",
       "      <td>17435.0</td>\n",
       "    </tr>\n",
       "    <tr>\n",
       "      <th>12</th>\n",
       "      <td>7</td>\n",
       "      <td>surf</td>\n",
       "      <td>2042.0</td>\n",
       "      <td>3271.0</td>\n",
       "      <td>54448.0</td>\n",
       "    </tr>\n",
       "    <tr>\n",
       "      <th>13</th>\n",
       "      <td>7</td>\n",
       "      <td>ultimate</td>\n",
       "      <td>973.0</td>\n",
       "      <td>1937.0</td>\n",
       "      <td>25197.0</td>\n",
       "    </tr>\n",
       "    <tr>\n",
       "      <th>14</th>\n",
       "      <td>8</td>\n",
       "      <td>surf</td>\n",
       "      <td>2735.0</td>\n",
       "      <td>4662.0</td>\n",
       "      <td>66438.0</td>\n",
       "    </tr>\n",
       "    <tr>\n",
       "      <th>15</th>\n",
       "      <td>8</td>\n",
       "      <td>ultimate</td>\n",
       "      <td>1267.0</td>\n",
       "      <td>2732.0</td>\n",
       "      <td>29922.0</td>\n",
       "    </tr>\n",
       "    <tr>\n",
       "      <th>16</th>\n",
       "      <td>9</td>\n",
       "      <td>surf</td>\n",
       "      <td>3238.0</td>\n",
       "      <td>5968.0</td>\n",
       "      <td>80360.0</td>\n",
       "    </tr>\n",
       "    <tr>\n",
       "      <th>17</th>\n",
       "      <td>9</td>\n",
       "      <td>ultimate</td>\n",
       "      <td>1463.0</td>\n",
       "      <td>3259.0</td>\n",
       "      <td>37626.0</td>\n",
       "    </tr>\n",
       "    <tr>\n",
       "      <th>18</th>\n",
       "      <td>10</td>\n",
       "      <td>surf</td>\n",
       "      <td>4126.0</td>\n",
       "      <td>8020.0</td>\n",
       "      <td>101846.0</td>\n",
       "    </tr>\n",
       "    <tr>\n",
       "      <th>19</th>\n",
       "      <td>10</td>\n",
       "      <td>ultimate</td>\n",
       "      <td>1878.0</td>\n",
       "      <td>4181.0</td>\n",
       "      <td>47778.0</td>\n",
       "    </tr>\n",
       "    <tr>\n",
       "      <th>20</th>\n",
       "      <td>11</td>\n",
       "      <td>surf</td>\n",
       "      <td>4650.0</td>\n",
       "      <td>9165.0</td>\n",
       "      <td>119801.0</td>\n",
       "    </tr>\n",
       "    <tr>\n",
       "      <th>21</th>\n",
       "      <td>11</td>\n",
       "      <td>ultimate</td>\n",
       "      <td>2174.0</td>\n",
       "      <td>4903.0</td>\n",
       "      <td>56540.0</td>\n",
       "    </tr>\n",
       "    <tr>\n",
       "      <th>22</th>\n",
       "      <td>12</td>\n",
       "      <td>surf</td>\n",
       "      <td>5800.0</td>\n",
       "      <td>12275.0</td>\n",
       "      <td>150680.0</td>\n",
       "    </tr>\n",
       "    <tr>\n",
       "      <th>23</th>\n",
       "      <td>12</td>\n",
       "      <td>ultimate</td>\n",
       "      <td>2778.0</td>\n",
       "      <td>6796.0</td>\n",
       "      <td>69324.0</td>\n",
       "    </tr>\n",
       "  </tbody>\n",
       "</table>\n",
       "</div>"
      ],
      "text/plain": [
       "    month      plan  sum_sms_sent_p_month  sum_min_used_p_month  \\\n",
       "0       1      surf                  10.0                  21.0   \n",
       "1       1  ultimate                  29.0                  62.0   \n",
       "2       2      surf                 110.0                 108.0   \n",
       "3       2  ultimate                 121.0                 151.0   \n",
       "4       3      surf                 312.0                 351.0   \n",
       "5       3  ultimate                 221.0                 243.0   \n",
       "6       4      surf                 611.0                 870.0   \n",
       "7       4  ultimate                 343.0                 463.0   \n",
       "8       5      surf                1087.0                1849.0   \n",
       "9       5  ultimate                 489.0                 931.0   \n",
       "10      6      surf                1502.0                2454.0   \n",
       "11      6  ultimate                 725.0                1379.0   \n",
       "12      7      surf                2042.0                3271.0   \n",
       "13      7  ultimate                 973.0                1937.0   \n",
       "14      8      surf                2735.0                4662.0   \n",
       "15      8  ultimate                1267.0                2732.0   \n",
       "16      9      surf                3238.0                5968.0   \n",
       "17      9  ultimate                1463.0                3259.0   \n",
       "18     10      surf                4126.0                8020.0   \n",
       "19     10  ultimate                1878.0                4181.0   \n",
       "20     11      surf                4650.0                9165.0   \n",
       "21     11  ultimate                2174.0                4903.0   \n",
       "22     12      surf                5800.0               12275.0   \n",
       "23     12  ultimate                2778.0                6796.0   \n",
       "\n",
       "    sum_gb_used_p_month  \n",
       "0                 406.0  \n",
       "1                 774.0  \n",
       "2                2673.0  \n",
       "3                2822.0  \n",
       "4                7590.0  \n",
       "5                3651.0  \n",
       "6               17577.0  \n",
       "7                7074.0  \n",
       "8               30768.0  \n",
       "9               11781.0  \n",
       "10              41836.0  \n",
       "11              17435.0  \n",
       "12              54448.0  \n",
       "13              25197.0  \n",
       "14              66438.0  \n",
       "15              29922.0  \n",
       "16              80360.0  \n",
       "17              37626.0  \n",
       "18             101846.0  \n",
       "19              47778.0  \n",
       "20             119801.0  \n",
       "21              56540.0  \n",
       "22             150680.0  \n",
       "23              69324.0  "
      ]
     },
     "execution_count": 61,
     "metadata": {},
     "output_type": "execute_result"
    }
   ],
   "source": [
    "merged_pivot_sum"
   ]
  },
  {
   "cell_type": "markdown",
   "metadata": {},
   "source": [
    "i noticed that each month has a bigger value per plan than the previous month, and also that **the ultimate plan is used less in total `per month` then the surf plan**"
   ]
  },
  {
   "cell_type": "markdown",
   "metadata": {},
   "source": [
    "<div class=\"alert alert-warning\" role=\"alert\">\n",
    "Reviewer's comment v. 2:\n",
    "    \n",
    "Please note that you can avoid \"<matplotlib.axes._subplots.AxesSubplot at 0x7fd8e049c250>Text(0.5, 1.0, 'Surf plan')\" by using \";\" after code lines with graph.\n",
    "</div>"
   ]
  },
  {
   "cell_type": "code",
   "execution_count": 62,
   "metadata": {
    "scrolled": true
   },
   "outputs": [
    {
     "data": {
      "image/png": "[encoded data removed]",
      "text/plain": [
       "<Figure size 432x288 with 1 Axes>"
      ]
     },
     "metadata": {
      "needs_background": "light"
     },
     "output_type": "display_data"
    },
    {
     "data": {
      "image/png": "[encoded data removed]",
      "text/plain": [
       "<Figure size 432x288 with 1 Axes>"
      ]
     },
     "metadata": {
      "needs_background": "light"
     },
     "output_type": "display_data"
    }
   ],
   "source": [
    "# showing visualy what i said above\n",
    "merged_pivot_sum.query('plan == \"surf\"').plot.bar(x = 'month', y = 'sum_sms_sent_p_month')\n",
    "# adding title and axis names\n",
    "plt.title('Surf plan')\n",
    "plt.xlabel('month')\n",
    "plt.ylabel('sms_sent')\n",
    "\n",
    "merged_pivot_sum.query('plan == \"ultimate\"').plot.bar(x = 'month', y = 'sum_sms_sent_p_month')\n",
    "# adding title and axis names\n",
    "plt.title('Ultimate plan')\n",
    "plt.xlabel('month')\n",
    "plt.ylabel('sms_sent')\n",
    "plt.show();"
   ]
  },
  {
   "cell_type": "markdown",
   "metadata": {},
   "source": [
    "so as i said, it can be seen from the graphes that each month has a bigger value per plan than the previous month and also that the ultimate plan is used less in total then the surf plan per month"
   ]
  },
  {
   "cell_type": "markdown",
   "metadata": {},
   "source": [
    "<div class=\"alert alert-danger\" role=\"alert\">\n",
    "Reviewer's comment v. 1:\n",
    "    \n",
    "Please add the axis labels and the title to the graph.\n",
    "This applies to all other graphs too.\n",
    "</div>"
   ]
  },
  {
   "cell_type": "markdown",
   "metadata": {},
   "source": [
    "<div class=\"alert alert-info\"> <b> done </b>"
   ]
  },
  {
   "cell_type": "markdown",
   "metadata": {},
   "source": [
    "<div class=\"alert alert-success\" role=\"alert\">\n",
    "Reviewer's comment v. 2:\n",
    "    \n",
    "👍👍👍\n",
    "</div>"
   ]
  },
  {
   "cell_type": "markdown",
   "metadata": {},
   "source": [
    "<div class=\"alert alert-danger\" role=\"alert\">\n",
    "Reviewer's comment v. 1:\n",
    "    \n",
    "Please note that as Data Analyst you should describe graphs in details and make a corresponding conclusion. \n",
    "    \n",
    "Please see the following link how graphs can be described: http://explainwell.org/index.php/table-of-contents-handle-numbers/phrases-and-6-analysis-steps-to-interpret-a-graph/\n",
    "</div>"
   ]
  },
  {
   "cell_type": "markdown",
   "metadata": {},
   "source": [
    "<div class=\"alert alert-info\"> <b> done </b>"
   ]
  },
  {
   "cell_type": "markdown",
   "metadata": {},
   "source": [
    "<div class=\"alert alert-success\" role=\"alert\">\n",
    "Reviewer's comment v. 2:\n",
    "    \n",
    "It's great that you analyzed the graphs.\n",
    "</div>"
   ]
  },
  {
   "cell_type": "markdown",
   "metadata": {},
   "source": [
    "lets check the original table:"
   ]
  },
  {
   "cell_type": "code",
   "execution_count": null,
   "metadata": {},
   "outputs": [],
   "source": [
    "merged.query('month == 12 and plan == \"surf\"')"
   ]
  },
  {
   "cell_type": "markdown",
   "metadata": {},
   "source": [
    "so after checking each month in the same plan i noticed that each month has more rows than the one before it. (month 12 of surf plan has more rows than month 11 of surf plan etc..) which means that each passing month more users used the services than the previous one, and it started specifically in month January which is weird unless the company started to offer the plans in 01/2018 (2018 was their first year)."
   ]
  },
  {
   "cell_type": "markdown",
   "metadata": {},
   "source": [
    "<div class=\"alert alert-success\" role=\"alert\">\n",
    "Reviewer's comment v. 1:\n",
    "    \n",
    "Yes, you have made a correct conclusion :)\n",
    "</div>"
   ]
  },
  {
   "cell_type": "code",
   "execution_count": null,
   "metadata": {
    "scrolled": true
   },
   "outputs": [],
   "source": [
    "# comparing the same months as the surf to see the number of users.\n",
    "merged.query('month == 12 and plan == \"ultimate\"')"
   ]
  },
  {
   "cell_type": "markdown",
   "metadata": {},
   "source": [
    "each month there are less users in the ultimate plan then in the surf plan, thats why there is less usage in general per month in the ultimate, its probably due to the price of the surf plan which attracts every month more users then the ultimate."
   ]
  },
  {
   "cell_type": "markdown",
   "metadata": {},
   "source": [
    "<div class=\"alert alert-info\"> <b> from here i am continuing with my logic this time </b>"
   ]
  },
  {
   "cell_type": "code",
   "execution_count": null,
   "metadata": {},
   "outputs": [],
   "source": [
    "merged"
   ]
  },
  {
   "cell_type": "markdown",
   "metadata": {},
   "source": [
    "lets check which of the plans brings in more revenue in total:"
   ]
  },
  {
   "cell_type": "code",
   "execution_count": null,
   "metadata": {},
   "outputs": [],
   "source": [
    "# calculating total revenue for each plan\n",
    "surf_total_revenue = merged.query('plan == \"surf\"')['revenue'].sum()\n",
    "ultimate_total_revenue = merged.query('plan == \"ultimate\"')['revenue'].sum()\n",
    "round(surf_total_revenue)\n",
    "round(ultimate_total_revenue)"
   ]
  },
  {
   "cell_type": "markdown",
   "metadata": {},
   "source": [
    "if we wanted the **total** revenue for each plan then the **surf** plan is better.<br>\n",
    "but now lets check the **average** revenue for the whole of each plan:"
   ]
  },
  {
   "cell_type": "markdown",
   "metadata": {},
   "source": [
    "<div class=\"alert alert-success\" role=\"alert\">\n",
    "Reviewer's comment v. 2:\n",
    "    \n",
    "Yes, the surf plan seems to be more profitable.\n",
    "</div>"
   ]
  },
  {
   "cell_type": "code",
   "execution_count": null,
   "metadata": {},
   "outputs": [],
   "source": [
    "# calculating average revenue for each plan\n",
    "surf_avg_revenue = merged.query('plan == \"surf\"')['revenue'].mean()\n",
    "ultimate_avg_revenue = merged.query('plan == \"ultimate\"')['revenue'].mean()\n",
    "round(surf_avg_revenue)\n",
    "round(ultimate_avg_revenue)"
   ]
  },
  {
   "cell_type": "markdown",
   "metadata": {},
   "source": [
    "if we wanted the **average** revenue for the whole of each plan then the **ultimate** plan is better.<br>\n",
    "but now lets check the **average revenue for a month** (and not **in each month**):"
   ]
  },
  {
   "cell_type": "code",
   "execution_count": null,
   "metadata": {},
   "outputs": [],
   "source": [
    "sum_revenue_for_month_p_plan = merged.pivot_table(index = ['month', 'plan'], values = ['revenue'], aggfunc = ['sum']).reset_index()\n",
    "sum_revenue_for_month_p_plan.columns = ['month', 'plan', 'sum_revenue']\n",
    "surf_avg_revenue_for_month = sum_revenue_for_month_p_plan.query('plan == \"surf\"')['sum_revenue'].mean()\n",
    "ultimate_avg_revenue_for_month = sum_revenue_for_month_p_plan.query('plan == \"ultimate\"')['sum_revenue'].mean()\n",
    "round(surf_avg_revenue_for_month)\n",
    "round(ultimate_avg_revenue_for_month)"
   ]
  },
  {
   "cell_type": "markdown",
   "metadata": {},
   "source": [
    "if we wanted the **average revenue for a month** for each plan then the **surf** is also better. <br>\n",
    "now lets check the **average revenue in each month**:"
   ]
  },
  {
   "cell_type": "code",
   "execution_count": null,
   "metadata": {
    "scrolled": true
   },
   "outputs": [],
   "source": [
    "# the average revenue per user per month in each plan\n",
    "mean_user_revenue_p_month_p_plan = merged.pivot_table(index = ['month', 'plan'], values = ['revenue'], aggfunc = ['mean']).reset_index()\n",
    "mean_user_revenue_p_month_p_plan.columns = ['month', 'plan', 'mean_revenue']\n",
    "mean_user_revenue_p_month_p_plan"
   ]
  },
  {
   "cell_type": "markdown",
   "metadata": {},
   "source": [
    "so per user the average revenue is higher each month in the **ultimate** plan.<br>\n",
    "(for example in month 6 the avg revenue from all the surf users is 47.6 and from all the ultimate users is 103.5)<br>\n",
    "now lets take the mean of all the means per plan to get the avg revenue per user in total (and not per month):"
   ]
  },
  {
   "cell_type": "code",
   "execution_count": null,
   "metadata": {},
   "outputs": [],
   "source": [
    "surf_avg_revenue_from_user = mean_user_revenue_p_month_p_plan.query('plan == \"surf\"')['mean_revenue'].mean()\n",
    "ultimate_avg_revenue_from_user = mean_user_revenue_p_month_p_plan.query('plan == \"ultimate\"')['mean_revenue'].mean()\n",
    "surf_avg_revenue_from_user\n",
    "ultimate_avg_revenue_from_user"
   ]
  },
  {
   "cell_type": "markdown",
   "metadata": {},
   "source": [
    "here we see that the **ultimate's** plan avg revenue for user is 2 times greater then surf's plan."
   ]
  },
  {
   "cell_type": "markdown",
   "metadata": {},
   "source": [
    "<div class=\"alert alert-info\"> <b> and thats why its is important to be specific in what we are tasked to calculate exactly!<br>\n",
    "    so please tell me what was meant from those options above (and thats not all the options possible)</b>"
   ]
  },
  {
   "cell_type": "markdown",
   "metadata": {},
   "source": [
    "<div class=\"alert alert-info\"> <b> its from here that i lost the logic of what i am doing and just did what the instructor said without following/understanding why i am doing what i am doing (so i started again **above** with my logic this time) </b>"
   ]
  },
  {
   "cell_type": "markdown",
   "metadata": {},
   "source": [
    "<div class=\"alert alert-success\" role=\"alert\">\n",
    "Reviewer's comment v. 2:\n",
    "    \n",
    "There may be several approaches here. The main thing is that it should be reasoned.\n",
    "</div>"
   ]
  },
  {
   "cell_type": "markdown",
   "metadata": {},
   "source": [
    "###### Since the instructor/tutor told me to plot histograms of the table from step 2 thats what i am doing:"
   ]
  },
  {
   "cell_type": "code",
   "execution_count": null,
   "metadata": {},
   "outputs": [],
   "source": [
    "merged.hist(['messages_sent', 'minutes_used', 'gb_used'], figsize = (10, 10))\n",
    "plt.show()"
   ]
  },
  {
   "cell_type": "markdown",
   "metadata": {},
   "source": [
    "<div class=\"alert alert-danger\" role=\"alert\">\n",
    "Reviewer's comment v. 1:\n",
    "    \n",
    "Could you please analyse graphs? Here it will be nice to describe the type of distribution, an outliers and so on.\n",
    "</div>"
   ]
  },
  {
   "cell_type": "markdown",
   "metadata": {},
   "source": [
    "<div class=\"alert alert-info\"> <b> i need you to first tell me what i should plot histograms of?? in the task it just says \"plot histograms\".. of what? to what end? **for example:** am i tasked to find out what is the usage of data by users in general or per plan? or maybe in general and per month, or maybe per plan per month... <br>\n",
    "    so again, please explain to me step 3: \"Describe the customers' behavior. Find the minutes, texts, and volume of data the users of each plan require per month. Calculate the mean, dispersion, and standard deviation. Plot histograms. Describe the distributions.\" - because its very vague, that s why i also didnt know what kind of pivot to do, with aggfunc sum or aggfunc mean, std and var.. [in the real world if the ask of the one who hired me is too vague, i just ask him to make it clearer to me what exactly the outcome he wants to achieve, and then i can conclude when and what to use (for example mean over sum etc'), and now you are the one who is kind of the one i need to ask for clarifications on what was tasked in the project.] </b>"
   ]
  },
  {
   "cell_type": "markdown",
   "metadata": {},
   "source": [
    "<div class=\"alert alert-warning\" role=\"alert\">\n",
    "Reviewer's comment v. 2:\n",
    "    \n",
    "It's expected that in any project all graph which are included in the report should be clearly described. It's not a good practice to add graphs without explanations.\n",
    "</div>"
   ]
  },
  {
   "cell_type": "code",
   "execution_count": null,
   "metadata": {},
   "outputs": [],
   "source": [
    "# and now ill calculate the mean std and var of each plan by the table of step 2 as the tutor told me\n",
    "surf_minutes_mean = merged.query('plan == \"surf\"')['minutes_used'].mean()\n",
    "surf_sms_mean = merged.query('plan == \"surf\"')['messages_sent'].mean()\n",
    "surf_data_mean = merged.query('plan == \"surf\"')['gb_used'].mean()\n",
    "surf_minutes_std = merged.query('plan == \"surf\"')['minutes_used'].std()\n",
    "surf_sms_std = merged.query('plan == \"surf\"')['messages_sent'].std()\n",
    "surf_data_std = merged.query('plan == \"surf\"')['gb_used'].std()\n",
    "surf_minutes_var = merged.query('plan == \"surf\"')['minutes_used'].var()\n",
    "surf_sms_var = merged.query('plan == \"surf\"')['messages_sent'].var()\n",
    "surf_data_var = merged.query('plan == \"surf\"')['gb_used'].var()\n",
    "\n",
    "ultimate_minutes_mean = merged.query('plan == \"ultimate\"')['minutes_used'].mean()\n",
    "ultimate_sms_mean = merged.query('plan == \"ultimate\"')['messages_sent'].mean()\n",
    "ultimate_data_mean = merged.query('plan == \"ultimate\"')['gb_used'].mean()\n",
    "ultimate_minutes_std = merged.query('plan == \"ultimate\"')['minutes_used'].std()\n",
    "ultimate_sms_std = merged.query('plan == \"ultimate\"')['messages_sent'].std()\n",
    "ultimate_data_std = merged.query('plan == \"ultimate\"')['gb_used'].std()\n",
    "ultimate_minutes_var = merged.query('plan == \"ultimate\"')['minutes_used'].var()\n",
    "ultimate_sms_var = merged.query('plan == \"ultimate\"')['messages_sent'].var()\n",
    "ultimate_data_var = merged.query('plan == \"ultimate\"')['gb_used'].var()"
   ]
  },
  {
   "cell_type": "markdown",
   "metadata": {},
   "source": [
    "<div class=\"alert alert-danger\" role=\"alert\">\n",
    "Reviewer's comment v. 1:\n",
    "    \n",
    "Please output values of the mean, dispersion, and standard deviation for both plans. Please analyse these values and make a corresponding conclusions.\n",
    "</div>"
   ]
  },
  {
   "cell_type": "code",
   "execution_count": null,
   "metadata": {
    "scrolled": true
   },
   "outputs": [],
   "source": [
    "# comparing plans minutes\n",
    "surf_minutes_mean\n",
    "surf_minutes_std\n",
    "surf_minutes_var\n",
    "print()\n",
    "ultimate_minutes_mean\n",
    "ultimate_minutes_std\n",
    "ultimate_minutes_var"
   ]
  },
  {
   "cell_type": "markdown",
   "metadata": {},
   "source": [
    "means are essentially the same which would mean that all the users used 427.5 minutes on average per something (its not per month because of the nature of the table i am using here... and i dont really know what its a mean of..)<br>\n",
    "stds are different and so are the variances, but again i cant conclude from it anything if i dont dollow the logic of what are we trying to find doing those calculations on this table (merged) the way this table is..."
   ]
  },
  {
   "cell_type": "code",
   "execution_count": null,
   "metadata": {
    "scrolled": true
   },
   "outputs": [],
   "source": [
    "# comparing plans sms\n",
    "surf_sms_mean\n",
    "surf_sms_std\n",
    "surf_sms_var\n",
    "print()\n",
    "ultimate_sms_mean\n",
    "ultimate_sms_std\n",
    "ultimate_sms_var"
   ]
  },
  {
   "cell_type": "markdown",
   "metadata": {},
   "source": []
  },
  {
   "cell_type": "code",
   "execution_count": null,
   "metadata": {},
   "outputs": [],
   "source": [
    "# comparing plans data\n",
    "surf_data_mean\n",
    "surf_data_std\n",
    "surf_data_var\n",
    "print()\n",
    "ultimate_data_mean\n",
    "ultimate_data_std\n",
    "ultimate_data_var"
   ]
  },
  {
   "cell_type": "markdown",
   "metadata": {},
   "source": [
    "<div class=\"alert alert-success\" role=\"alert\">\n",
    "Reviewer's comment v. 2:\n",
    "    \n",
    "Well done that you calculated the mean, variance and standard deviation for both plans, analysed it and made a corresponding conclusions.\n",
    "</div>"
   ]
  },
  {
   "cell_type": "markdown",
   "metadata": {},
   "source": []
  },
  {
   "cell_type": "markdown",
   "metadata": {},
   "source": [
    "###### Conclusion: i am not sure at all what step 3 was about and it doesnt make sense what the instructors telling me and what happens after i execute it, i would be glad for you to clarify what is meant to do in this step exactly"
   ]
  },
  {
   "cell_type": "markdown",
   "metadata": {},
   "source": [
    "<div class=\"alert alert-danger\" role=\"alert\">\n",
    "Reviewer's comment v. 1:\n",
    "    \n",
    "Please analyse and remove an outliers. I recommend to use boxplots to see an outliers clearly.\n",
    "    \n",
    "Please see for details: https://towardsdatascience.com/understanding-boxplots-5e2df7bcbd51, https://towardsdatascience.com/ways-to-detect-and-remove-the-outliers-404d16608dba  \n",
    "</div>"
   ]
  },
  {
   "cell_type": "markdown",
   "metadata": {},
   "source": [
    "<div class=\"alert alert-warning\" role=\"alert\">\n",
    "Reviewer's comment v. 2:\n",
    "    \n",
    "Please see for details how to analyse an outliers: https://towardsdatascience.com/create-and-customize-boxplots-with-pythons-matplotlib-to-get-lots-of-insights-from-your-data-d561c9883643\n",
    "</div>"
   ]
  },
  {
   "cell_type": "markdown",
   "metadata": {},
   "source": [
    "## Step 4. Test the hypotheses"
   ]
  },
  {
   "cell_type": "markdown",
   "metadata": {},
   "source": [
    "1 - The average revenue from users of Ultimate and Surf calling plans differs.\n",
    "\n",
    "- To test this hypothesis first we need to define H0 and H1. <br>\n",
    "since it is more probable that the mean revenue of the ultimate plan will be different from the mean revenue of the surf plan:\n",
    "- H0: Mean(surf) == Mean(ultimate) # changed here to be == instead !=\n",
    "- H1: Mean(surf) != Mean(ultimate) # here changed backwards\n",
    "- To test it, we'll apply the method scipy.stats.ttest_ind (array1, array2, equal_var). <br>\n",
    "equal_var = False  because the variance of the samples is different.\n",
    "\n",
    "alpha = 5% by convention."
   ]
  },
  {
   "cell_type": "markdown",
   "metadata": {},
   "source": [
    "<div class=\"alert alert-danger\" role=\"alert\">\n",
    "Reviewer's comment v. 1:\n",
    "    \n",
    "Please check hypotheses formulation. Please note that t-test is a two-sided test for the null hypothesis that 2 independent samples have identical average (expected) values. \n",
    "    \n",
    "Additional materials: https://docs.scipy.org/doc/scipy/reference/generated/scipy.stats.ttest_ind.html\n",
    "</div>"
   ]
  },
  {
   "cell_type": "markdown",
   "metadata": {},
   "source": [
    "<div class=\"alert alert-info\"> <b> i dont understand the problem, but after checking with a tutor, he said i should just change the H0 to be == <br>\n",
    "    so i did that..</b>"
   ]
  },
  {
   "cell_type": "markdown",
   "metadata": {},
   "source": [
    "<div class=\"alert alert-success\" role=\"alert\">\n",
    "Reviewer's comment v. 2:\n",
    "    \n",
    "The mistake was that $H_0$ as $H_1$. Now it's correct, well done!\n",
    "</div>"
   ]
  },
  {
   "cell_type": "code",
   "execution_count": null,
   "metadata": {},
   "outputs": [],
   "source": [
    "merged_surf = merged.query('plan == \"surf\"')\n",
    "merged_ultimate = merged.query('plan == \"ultimate\"')"
   ]
  },
  {
   "cell_type": "code",
   "execution_count": null,
   "metadata": {},
   "outputs": [],
   "source": [
    "alpha = 0.05 # critical statistical significance level\n",
    "                        # if the p-value is less than alpha, we reject the hypothesis\n",
    "\n",
    "results = st.ttest_ind(merged_surf['revenue'], merged_ultimate['revenue'], equal_var = False)\n",
    "\n",
    "print('p-value: ', results.pvalue)\n",
    "\n",
    "if (results.pvalue < alpha):\n",
    "    #print(\"We reject the null hypothesis, surf & ultimate means could be equal\")\n",
    "    print(\"We reject the null hypothesis, surf & ultimate means are not equal\")\n",
    "else:\n",
    "    #print(\"We can't reject the null hypothesis, surf & ultimate means are not equal\")\n",
    "    print(\"We can't reject the null hypothesis, surf & ultimate means could be equal\")"
   ]
  },
  {
   "cell_type": "markdown",
   "metadata": {},
   "source": [
    "<div class=\"alert alert-danger\" role=\"alert\">\n",
    "Reviewer's comment v. 1:\n",
    "    \n",
    "Please note that we have a statistically significant differences in the average revenue from users of Ultimate and Surf plans.\n",
    "</div>"
   ]
  },
  {
   "cell_type": "markdown",
   "metadata": {},
   "source": [
    "<div class=\"alert alert-info\"> <b> i dont understand the problem here too, thats why the equal_var is False, still, i changed the outcome text.. </b>"
   ]
  },
  {
   "cell_type": "markdown",
   "metadata": {},
   "source": [
    "<div class=\"alert alert-success\" role=\"alert\">\n",
    "Reviewer's comment v. 2:\n",
    "    \n",
    "Yes, you are right, there is a statistically significant difference.\n",
    "</div>"
   ]
  },
  {
   "cell_type": "markdown",
   "metadata": {},
   "source": [
    "2- The average revenue from users in NY-NJ area is different from that of the users from other regions.\n",
    "- To test this hypothesis first we need to define H0 and H1. <br>\n",
    "since it is more probable that the mean revenue from users in NY-NJ will be different then the mean revenue of users from other regions:\n",
    "- H0: Mean(revenue in NY-NJ area) == Mean(revenue in other regions) # changed here to be == instead !=\n",
    "- H1: Mean(revenue in NY-NJ area) != Mean(revenue in other regions) # here changed backwards\n",
    "- To test it, we'll apply the method scipy.stats.ttest_ind (array1, array2, equal_var). <br>\n",
    "equal_var = False  because the variance of the samples is different.\n",
    "\n",
    "alpha = 5% by convention."
   ]
  },
  {
   "cell_type": "markdown",
   "metadata": {},
   "source": [
    "<div class=\"alert alert-danger\" role=\"alert\">\n",
    "Reviewer's comment v. 1:\n",
    "    \n",
    "Could you please check hypotheses formulation?\n",
    "</div>"
   ]
  },
  {
   "cell_type": "markdown",
   "metadata": {},
   "source": [
    "<div class=\"alert alert-info\"> <b> changed the H0 here as well to be == </b>"
   ]
  },
  {
   "cell_type": "markdown",
   "metadata": {},
   "source": [
    "<div class=\"alert alert-success\" role=\"alert\">\n",
    "Reviewer's comment v. 2:\n",
    "    \n",
    "Great, now hypoteses formulation is correct :)\n",
    "</div>"
   ]
  },
  {
   "cell_type": "code",
   "execution_count": null,
   "metadata": {},
   "outputs": [],
   "source": [
    "NY_NJ = merged.query('city == \"new york-newark-jersey city, ny-nj-pa msa\"')\n",
    "other_regions = merged.query('city != \"new york-newark-jersey city, ny-nj-pa msa\"')"
   ]
  },
  {
   "cell_type": "code",
   "execution_count": null,
   "metadata": {},
   "outputs": [],
   "source": [
    "alpha = 0.05 # critical statistical significance level\n",
    "                        # if the p-value is less than alpha, we reject the hypothesis\n",
    "\n",
    "results = st.ttest_ind(NY_NJ['revenue'], other_regions['revenue'], equal_var=False)\n",
    "\n",
    "print('p-value: ', results.pvalue)\n",
    "\n",
    "if (results.pvalue < alpha):\n",
    "        print(\"We reject the null hypothesis, NY-NJ and other_regions means could be equal\")\n",
    "else:\n",
    "        print(\"We can't reject the null hypothesis, NY-NJ and other_regions means are not equal\")"
   ]
  },
  {
   "cell_type": "markdown",
   "metadata": {},
   "source": [
    "<div class=\"alert alert-success\" role=\"alert\">\n",
    "Reviewer's comment v. 1:\n",
    "    \n",
    "Yes, there is no a statistically significant differences in the average revenue from users in NY-NJ area and users from other regions.\n",
    "</div>"
   ]
  },
  {
   "cell_type": "markdown",
   "metadata": {},
   "source": [
    "## Step 5. Write an overall conclusion"
   ]
  },
  {
   "cell_type": "markdown",
   "metadata": {},
   "source": [
    "1 **Preprocessing** - originally i had data in 5 different tables, about the usage of telephone plans and the plans themselves.\n",
    "The data didn't contain nulls that needed to be calculated to fill and had no errors or duplicates.\n",
    "first i organized the tables by lower casing all the relevant object columns. <br>\n",
    "then i filled the missing values in churn_date with 'current date' because it was stated so in the project description. then converted all the date columns to datetime. then i checked for duplicates. then i calculated the calls, sms, and data used per month for each user and merged the tables into 1 table, and in the end i got a table of 2303 rows with no NaN and no duplicates per user per month.<br>\n",
    "\n",
    "2 **Analyzing the data** - waiting for your reply\n",
    "\n",
    "\n",
    "3 **Testing the hypotheses** - \n",
    "i rejected the first H0, and could have done so even with a p-value of 1% and we got much less. That means the result is trustable. same with the second H0"
   ]
  },
  {
   "cell_type": "markdown",
   "metadata": {},
   "source": [
    "<div class=\"alert alert-danger\" role=\"alert\">\n",
    "Reviewer's comment v. 1:\n",
    "    \n",
    "Well done that you described man results of the project, but please choose the most profitable plan and explain your decision.\n",
    "</div>"
   ]
  },
  {
   "cell_type": "markdown",
   "metadata": {},
   "source": [
    "<div class=\"alert alert-info\"> <b> for that i need to know what are the criteria for choosing a method to check which plan is more profitable, as i showed above there could be different answers to this depending on the exact method of checking.. </b>"
   ]
  },
  {
   "cell_type": "markdown",
   "metadata": {},
   "source": [
    "<div class=\"alert alert-success\" role=\"alert\">\n",
    "Reviewer's comment v. 2:\n",
    "    \n",
    "Good job that you described different way to choose the most profitable plan.\n",
    "    \n",
    "The activity of users of tariff plans differs from each other, as shown by the analysis of the distribution of average values and the variability of the services provided.\n",
    "\n",
    "Users of the Ultra tariff behave chaotically, there is no clear trend for months. Nevertheless, on average, most customers fit into the subscription plan - less than a quarter of customers pay extra for exceeding the limits.\n",
    "\n",
    "Most often, users exceeded the limits on Internet traffic. This is probably due to a larger percentage of revenue from users of the Smart tariff. In addition, it is the subscriber of this tariff plan who has the maximum revenue in the sample.\n",
    "\n",
    "Thus, the Smart tariff will be more profitable for the operator while maintaining the current limits on the subscription fee.\n",
    "</div>"
   ]
  }
 ],
 "metadata": {
  "ExecuteTimeLog": [
   {
    "duration": 1483,
    "start_time": "2021-08-31T22:28:46.906Z"
   },
   {
    "duration": 576,
    "start_time": "2021-08-31T22:28:48.391Z"
   },
   {
    "duration": 19,
    "start_time": "2021-08-31T22:28:48.971Z"
   },
   {
    "duration": 29,
    "start_time": "2021-08-31T22:28:48.993Z"
   },
   {
    "duration": 51,
    "start_time": "2021-08-31T22:28:49.025Z"
   },
   {
    "duration": 17,
    "start_time": "2021-08-31T22:28:49.079Z"
   },
   {
    "duration": 33,
    "start_time": "2021-08-31T22:28:49.099Z"
   },
   {
    "duration": 58,
    "start_time": "2021-08-31T22:28:49.138Z"
   },
   {
    "duration": 14,
    "start_time": "2021-08-31T22:28:49.201Z"
   },
   {
    "duration": 27,
    "start_time": "2021-08-31T22:28:49.218Z"
   },
   {
    "duration": 29,
    "start_time": "2021-08-31T22:28:49.255Z"
   },
   {
    "duration": 91,
    "start_time": "2021-08-31T22:28:49.287Z"
   },
   {
    "duration": 12,
    "start_time": "2021-08-31T22:28:49.382Z"
   },
   {
    "duration": 38,
    "start_time": "2021-08-31T22:28:49.397Z"
   },
   {
    "duration": 147,
    "start_time": "2021-08-31T22:28:49.438Z"
   },
   {
    "duration": 12,
    "start_time": "2021-08-31T22:28:49.587Z"
   },
   {
    "duration": 53,
    "start_time": "2021-08-31T22:28:49.602Z"
   },
   {
    "duration": 147,
    "start_time": "2021-08-31T22:28:49.659Z"
   },
   {
    "duration": 21,
    "start_time": "2021-08-31T22:28:49.808Z"
   },
   {
    "duration": 24,
    "start_time": "2021-08-31T22:28:49.832Z"
   },
   {
    "duration": 74,
    "start_time": "2021-08-31T22:28:49.860Z"
   },
   {
    "duration": 28,
    "start_time": "2021-08-31T22:28:49.936Z"
   },
   {
    "duration": 18,
    "start_time": "2021-08-31T22:28:49.971Z"
   },
   {
    "duration": 38,
    "start_time": "2021-08-31T22:28:49.992Z"
   },
   {
    "duration": 70,
    "start_time": "2021-08-31T22:28:50.032Z"
   },
   {
    "duration": 7,
    "start_time": "2021-08-31T22:28:50.105Z"
   },
   {
    "duration": 18,
    "start_time": "2021-08-31T22:28:50.115Z"
   },
   {
    "duration": 43,
    "start_time": "2021-08-31T22:28:50.135Z"
   },
   {
    "duration": 20,
    "start_time": "2021-08-31T22:28:50.180Z"
   },
   {
    "duration": 17,
    "start_time": "2021-08-31T22:28:50.203Z"
   },
   {
    "duration": 11,
    "start_time": "2021-08-31T22:28:50.222Z"
   },
   {
    "duration": 27,
    "start_time": "2021-08-31T22:28:50.235Z"
   },
   {
    "duration": 27,
    "start_time": "2021-08-31T22:28:50.265Z"
   },
   {
    "duration": 25,
    "start_time": "2021-08-31T22:28:50.294Z"
   },
   {
    "duration": 28,
    "start_time": "2021-08-31T22:28:50.322Z"
   },
   {
    "duration": 7,
    "start_time": "2021-08-31T22:28:50.353Z"
   },
   {
    "duration": 7,
    "start_time": "2021-08-31T22:28:50.363Z"
   },
   {
    "duration": 28,
    "start_time": "2021-08-31T22:28:50.373Z"
   },
   {
    "duration": 17,
    "start_time": "2021-08-31T22:28:50.404Z"
   },
   {
    "duration": 21,
    "start_time": "2021-08-31T22:28:50.423Z"
   },
   {
    "duration": 19,
    "start_time": "2021-08-31T22:28:50.447Z"
   },
   {
    "duration": 19,
    "start_time": "2021-08-31T22:28:50.469Z"
   },
   {
    "duration": 13,
    "start_time": "2021-08-31T22:28:50.491Z"
   },
   {
    "duration": 24,
    "start_time": "2021-08-31T22:28:50.507Z"
   },
   {
    "duration": 35,
    "start_time": "2021-08-31T22:28:50.534Z"
   },
   {
    "duration": 24,
    "start_time": "2021-08-31T22:28:50.571Z"
   },
   {
    "duration": 19,
    "start_time": "2021-08-31T22:28:50.597Z"
   },
   {
    "duration": 21,
    "start_time": "2021-08-31T22:28:50.619Z"
   },
   {
    "duration": 14,
    "start_time": "2021-08-31T22:28:50.643Z"
   },
   {
    "duration": 29,
    "start_time": "2021-08-31T22:28:50.660Z"
   },
   {
    "duration": 34,
    "start_time": "2021-08-31T22:28:50.691Z"
   },
   {
    "duration": 19,
    "start_time": "2021-08-31T22:28:50.727Z"
   },
   {
    "duration": 24,
    "start_time": "2021-08-31T22:28:50.748Z"
   },
   {
    "duration": 273,
    "start_time": "2021-08-31T22:28:50.775Z"
   },
   {
    "duration": 28,
    "start_time": "2021-08-31T22:28:51.051Z"
   },
   {
    "duration": 5,
    "start_time": "2021-08-31T22:28:51.082Z"
   },
   {
    "duration": 48,
    "start_time": "2021-08-31T22:28:51.090Z"
   },
   {
    "duration": 25,
    "start_time": "2021-08-31T22:28:51.154Z"
   },
   {
    "duration": 34,
    "start_time": "2021-08-31T22:28:51.181Z"
   },
   {
    "duration": 1212,
    "start_time": "2021-08-31T22:28:51.217Z"
   },
   {
    "duration": 45,
    "start_time": "2021-08-31T22:28:52.432Z"
   },
   {
    "duration": 939,
    "start_time": "2021-08-31T22:28:52.479Z"
   },
   {
    "duration": 48,
    "start_time": "2021-08-31T22:28:53.420Z"
   },
   {
    "duration": 6,
    "start_time": "2021-08-31T22:28:53.471Z"
   },
   {
    "duration": 18,
    "start_time": "2021-08-31T22:28:53.480Z"
   },
   {
    "duration": 105,
    "start_time": "2021-08-31T22:28:53.501Z"
   },
   {
    "duration": 31,
    "start_time": "2021-08-31T22:28:53.608Z"
   },
   {
    "duration": 21,
    "start_time": "2021-08-31T22:28:53.645Z"
   },
   {
    "duration": 1139,
    "start_time": "2021-09-01T17:23:42.897Z"
   },
   {
    "duration": 569,
    "start_time": "2021-09-01T17:23:44.038Z"
   },
   {
    "duration": 13,
    "start_time": "2021-09-01T17:23:44.610Z"
   },
   {
    "duration": 15,
    "start_time": "2021-09-01T17:23:44.625Z"
   },
   {
    "duration": 22,
    "start_time": "2021-09-01T17:23:44.642Z"
   },
   {
    "duration": 31,
    "start_time": "2021-09-01T17:23:44.666Z"
   },
   {
    "duration": 9,
    "start_time": "2021-09-01T17:23:44.699Z"
   },
   {
    "duration": 24,
    "start_time": "2021-09-01T17:23:44.710Z"
   },
   {
    "duration": 9,
    "start_time": "2021-09-01T17:23:44.737Z"
   },
   {
    "duration": 7,
    "start_time": "2021-09-01T17:23:44.748Z"
   },
   {
    "duration": 40,
    "start_time": "2021-09-01T17:23:44.757Z"
   },
   {
    "duration": 59,
    "start_time": "2021-09-01T17:23:44.799Z"
   },
   {
    "duration": 7,
    "start_time": "2021-09-01T17:23:44.860Z"
   },
   {
    "duration": 41,
    "start_time": "2021-09-01T17:23:44.868Z"
   },
   {
    "duration": 123,
    "start_time": "2021-09-01T17:23:44.911Z"
   },
   {
    "duration": 8,
    "start_time": "2021-09-01T17:23:45.036Z"
   },
   {
    "duration": 25,
    "start_time": "2021-09-01T17:23:45.045Z"
   },
   {
    "duration": 149,
    "start_time": "2021-09-01T17:23:45.072Z"
   },
   {
    "duration": 14,
    "start_time": "2021-09-01T17:23:45.222Z"
   },
   {
    "duration": 6,
    "start_time": "2021-09-01T17:23:45.237Z"
   },
   {
    "duration": 63,
    "start_time": "2021-09-01T17:23:45.244Z"
   },
   {
    "duration": 3,
    "start_time": "2021-09-01T17:23:45.308Z"
   },
   {
    "duration": 5,
    "start_time": "2021-09-01T17:23:45.315Z"
   },
   {
    "duration": 7,
    "start_time": "2021-09-01T17:23:45.322Z"
   },
   {
    "duration": 15,
    "start_time": "2021-09-01T17:23:45.330Z"
   },
   {
    "duration": 57,
    "start_time": "2021-09-01T17:23:45.346Z"
   },
   {
    "duration": 5,
    "start_time": "2021-09-01T17:23:45.404Z"
   },
   {
    "duration": 7,
    "start_time": "2021-09-01T17:23:45.410Z"
   },
   {
    "duration": 13,
    "start_time": "2021-09-01T17:23:45.419Z"
   },
   {
    "duration": 9,
    "start_time": "2021-09-01T17:23:45.434Z"
   },
   {
    "duration": 13,
    "start_time": "2021-09-01T17:23:45.444Z"
   },
   {
    "duration": 4,
    "start_time": "2021-09-01T17:23:45.458Z"
   },
   {
    "duration": 3,
    "start_time": "2021-09-01T17:23:45.492Z"
   },
   {
    "duration": 11,
    "start_time": "2021-09-01T17:23:45.497Z"
   },
   {
    "duration": 16,
    "start_time": "2021-09-01T17:23:45.510Z"
   },
   {
    "duration": 18,
    "start_time": "2021-09-01T17:23:45.527Z"
   },
   {
    "duration": 6,
    "start_time": "2021-09-01T17:23:45.547Z"
   },
   {
    "duration": 6,
    "start_time": "2021-09-01T17:23:45.554Z"
   },
   {
    "duration": 35,
    "start_time": "2021-09-01T17:23:45.562Z"
   },
   {
    "duration": 5,
    "start_time": "2021-09-01T17:23:45.599Z"
   },
   {
    "duration": 12,
    "start_time": "2021-09-01T17:23:45.605Z"
   },
   {
    "duration": 11,
    "start_time": "2021-09-01T17:23:45.618Z"
   },
   {
    "duration": 5,
    "start_time": "2021-09-01T17:23:45.631Z"
   },
   {
    "duration": 10,
    "start_time": "2021-09-01T17:23:45.638Z"
   },
   {
    "duration": 12,
    "start_time": "2021-09-01T17:23:45.649Z"
   },
   {
    "duration": 19,
    "start_time": "2021-09-01T17:23:45.663Z"
   },
   {
    "duration": 8,
    "start_time": "2021-09-01T17:23:45.683Z"
   },
   {
    "duration": 8,
    "start_time": "2021-09-01T17:23:45.692Z"
   },
   {
    "duration": 11,
    "start_time": "2021-09-01T17:23:45.702Z"
   },
   {
    "duration": 6,
    "start_time": "2021-09-01T17:23:45.714Z"
   },
   {
    "duration": 13,
    "start_time": "2021-09-01T17:23:45.721Z"
   },
   {
    "duration": 14,
    "start_time": "2021-09-01T17:23:45.736Z"
   },
   {
    "duration": 7,
    "start_time": "2021-09-01T17:23:45.752Z"
   },
   {
    "duration": 7,
    "start_time": "2021-09-01T17:23:45.760Z"
   },
   {
    "duration": 13,
    "start_time": "2021-09-01T17:23:45.769Z"
   },
   {
    "duration": 7,
    "start_time": "2021-09-01T17:23:45.784Z"
   },
   {
    "duration": 239,
    "start_time": "2021-09-01T17:23:45.793Z"
   },
   {
    "duration": 10,
    "start_time": "2021-09-01T17:23:46.033Z"
   },
   {
    "duration": 25,
    "start_time": "2021-09-01T17:23:46.044Z"
   },
   {
    "duration": 26,
    "start_time": "2021-09-01T17:23:46.070Z"
   },
   {
    "duration": 10,
    "start_time": "2021-09-01T17:23:46.098Z"
   },
   {
    "duration": 391,
    "start_time": "2021-09-01T17:23:46.109Z"
   },
   {
    "duration": 21,
    "start_time": "2021-09-01T17:23:46.502Z"
   },
   {
    "duration": 22,
    "start_time": "2021-09-01T17:23:46.525Z"
   },
   {
    "duration": 13,
    "start_time": "2021-09-01T17:23:46.549Z"
   },
   {
    "duration": 34,
    "start_time": "2021-09-01T17:23:46.564Z"
   },
   {
    "duration": 8,
    "start_time": "2021-09-01T17:23:46.600Z"
   },
   {
    "duration": 498,
    "start_time": "2021-09-01T17:23:46.613Z"
   },
   {
    "duration": -111,
    "start_time": "2021-09-01T17:23:47.225Z"
   },
   {
    "duration": -113,
    "start_time": "2021-09-01T17:23:47.228Z"
   },
   {
    "duration": -115,
    "start_time": "2021-09-01T17:23:47.232Z"
   },
   {
    "duration": -127,
    "start_time": "2021-09-01T17:23:47.245Z"
   },
   {
    "duration": -131,
    "start_time": "2021-09-01T17:23:47.250Z"
   },
   {
    "duration": -136,
    "start_time": "2021-09-01T17:23:47.257Z"
   },
   {
    "duration": -322,
    "start_time": "2021-09-01T17:23:47.444Z"
   },
   {
    "duration": -347,
    "start_time": "2021-09-01T17:23:47.471Z"
   },
   {
    "duration": -351,
    "start_time": "2021-09-01T17:23:47.476Z"
   },
   {
    "duration": -354,
    "start_time": "2021-09-01T17:23:47.481Z"
   },
   {
    "duration": -357,
    "start_time": "2021-09-01T17:23:47.485Z"
   },
   {
    "duration": 19,
    "start_time": "2021-09-01T17:25:01.401Z"
   },
   {
    "duration": 19,
    "start_time": "2021-09-01T17:25:09.092Z"
   },
   {
    "duration": 9,
    "start_time": "2021-09-01T17:25:09.113Z"
   },
   {
    "duration": 516,
    "start_time": "2021-09-01T17:25:09.124Z"
   },
   {
    "duration": 49,
    "start_time": "2021-09-01T17:25:09.642Z"
   },
   {
    "duration": 11,
    "start_time": "2021-09-01T17:25:09.693Z"
   },
   {
    "duration": 21,
    "start_time": "2021-09-01T17:25:09.706Z"
   },
   {
    "duration": 13,
    "start_time": "2021-09-01T17:25:09.729Z"
   },
   {
    "duration": 20,
    "start_time": "2021-09-01T17:25:09.744Z"
   },
   {
    "duration": 26,
    "start_time": "2021-09-01T17:25:09.766Z"
   },
   {
    "duration": 24,
    "start_time": "2021-09-01T17:25:09.794Z"
   },
   {
    "duration": 33,
    "start_time": "2021-09-01T17:25:09.820Z"
   },
   {
    "duration": 1703,
    "start_time": "2021-09-02T15:45:52.087Z"
   },
   {
    "duration": 830,
    "start_time": "2021-09-02T15:45:53.793Z"
   },
   {
    "duration": 21,
    "start_time": "2021-09-02T15:45:54.626Z"
   },
   {
    "duration": 24,
    "start_time": "2021-09-02T15:45:54.650Z"
   },
   {
    "duration": 74,
    "start_time": "2021-09-02T15:45:54.677Z"
   },
   {
    "duration": 21,
    "start_time": "2021-09-02T15:45:54.754Z"
   },
   {
    "duration": 16,
    "start_time": "2021-09-02T15:45:54.777Z"
   },
   {
    "duration": 65,
    "start_time": "2021-09-02T15:45:54.797Z"
   },
   {
    "duration": 16,
    "start_time": "2021-09-02T15:45:54.865Z"
   },
   {
    "duration": 35,
    "start_time": "2021-09-02T15:45:54.884Z"
   },
   {
    "duration": 21,
    "start_time": "2021-09-02T15:45:54.922Z"
   },
   {
    "duration": 131,
    "start_time": "2021-09-02T15:45:54.945Z"
   },
   {
    "duration": 12,
    "start_time": "2021-09-02T15:45:55.079Z"
   },
   {
    "duration": 47,
    "start_time": "2021-09-02T15:45:55.093Z"
   },
   {
    "duration": 173,
    "start_time": "2021-09-02T15:45:55.143Z"
   },
   {
    "duration": 12,
    "start_time": "2021-09-02T15:45:55.318Z"
   },
   {
    "duration": 37,
    "start_time": "2021-09-02T15:45:55.332Z"
   },
   {
    "duration": 227,
    "start_time": "2021-09-02T15:45:55.372Z"
   },
   {
    "duration": 30,
    "start_time": "2021-09-02T15:45:55.602Z"
   },
   {
    "duration": 9,
    "start_time": "2021-09-02T15:45:55.634Z"
   },
   {
    "duration": 90,
    "start_time": "2021-09-02T15:45:55.646Z"
   },
   {
    "duration": 4,
    "start_time": "2021-09-02T15:45:55.739Z"
   },
   {
    "duration": 28,
    "start_time": "2021-09-02T15:45:55.749Z"
   },
   {
    "duration": 20,
    "start_time": "2021-09-02T15:45:55.780Z"
   },
   {
    "duration": 29,
    "start_time": "2021-09-02T15:45:55.802Z"
   },
   {
    "duration": 58,
    "start_time": "2021-09-02T15:45:55.834Z"
   },
   {
    "duration": 7,
    "start_time": "2021-09-02T15:45:55.894Z"
   },
   {
    "duration": 3,
    "start_time": "2021-09-02T15:45:55.917Z"
   },
   {
    "duration": 32,
    "start_time": "2021-09-02T15:45:55.923Z"
   },
   {
    "duration": 14,
    "start_time": "2021-09-02T15:45:55.957Z"
   },
   {
    "duration": 22,
    "start_time": "2021-09-02T15:45:55.974Z"
   },
   {
    "duration": 7,
    "start_time": "2021-09-02T15:45:56.016Z"
   },
   {
    "duration": 9,
    "start_time": "2021-09-02T15:45:56.026Z"
   },
   {
    "duration": 15,
    "start_time": "2021-09-02T15:45:56.038Z"
   },
   {
    "duration": 19,
    "start_time": "2021-09-02T15:45:56.056Z"
   },
   {
    "duration": 66,
    "start_time": "2021-09-02T15:45:56.077Z"
   },
   {
    "duration": 7,
    "start_time": "2021-09-02T15:45:56.145Z"
   },
   {
    "duration": 17,
    "start_time": "2021-09-02T15:45:56.155Z"
   },
   {
    "duration": 27,
    "start_time": "2021-09-02T15:45:56.174Z"
   },
   {
    "duration": 16,
    "start_time": "2021-09-02T15:45:56.204Z"
   },
   {
    "duration": 19,
    "start_time": "2021-09-02T15:45:56.222Z"
   },
   {
    "duration": 16,
    "start_time": "2021-09-02T15:45:56.243Z"
   },
   {
    "duration": 9,
    "start_time": "2021-09-02T15:45:56.261Z"
   },
   {
    "duration": 12,
    "start_time": "2021-09-02T15:45:56.272Z"
   },
   {
    "duration": 10,
    "start_time": "2021-09-02T15:45:56.286Z"
   },
   {
    "duration": 23,
    "start_time": "2021-09-02T15:45:56.298Z"
   },
   {
    "duration": 7,
    "start_time": "2021-09-02T15:45:56.324Z"
   },
   {
    "duration": 18,
    "start_time": "2021-09-02T15:45:56.333Z"
   },
   {
    "duration": 12,
    "start_time": "2021-09-02T15:45:56.353Z"
   },
   {
    "duration": 12,
    "start_time": "2021-09-02T15:45:56.367Z"
   },
   {
    "duration": 16,
    "start_time": "2021-09-02T15:45:56.381Z"
   },
   {
    "duration": 23,
    "start_time": "2021-09-02T15:45:56.399Z"
   },
   {
    "duration": 9,
    "start_time": "2021-09-02T15:45:56.424Z"
   },
   {
    "duration": 9,
    "start_time": "2021-09-02T15:45:56.435Z"
   },
   {
    "duration": 17,
    "start_time": "2021-09-02T15:45:56.446Z"
   },
   {
    "duration": 7,
    "start_time": "2021-09-02T15:45:56.466Z"
   },
   {
    "duration": 494,
    "start_time": "2021-09-02T15:45:56.475Z"
   },
   {
    "duration": 16,
    "start_time": "2021-09-02T15:45:56.971Z"
   },
   {
    "duration": 56,
    "start_time": "2021-09-02T15:45:56.989Z"
   },
   {
    "duration": 26,
    "start_time": "2021-09-02T15:45:57.047Z"
   },
   {
    "duration": 17,
    "start_time": "2021-09-02T15:45:57.075Z"
   },
   {
    "duration": 721,
    "start_time": "2021-09-02T15:45:57.117Z"
   },
   {
    "duration": 32,
    "start_time": "2021-09-02T15:45:57.840Z"
   },
   {
    "duration": 55,
    "start_time": "2021-09-02T15:45:57.875Z"
   },
   {
    "duration": 26,
    "start_time": "2021-09-02T15:45:57.932Z"
   },
   {
    "duration": 38,
    "start_time": "2021-09-02T15:45:57.960Z"
   },
   {
    "duration": 48,
    "start_time": "2021-09-02T15:45:58.001Z"
   },
   {
    "duration": 34,
    "start_time": "2021-09-02T15:45:58.056Z"
   },
   {
    "duration": 37,
    "start_time": "2021-09-02T15:45:58.093Z"
   },
   {
    "duration": 15,
    "start_time": "2021-09-02T15:45:58.132Z"
   },
   {
    "duration": 939,
    "start_time": "2021-09-02T15:45:58.149Z"
   },
   {
    "duration": 74,
    "start_time": "2021-09-02T15:45:59.090Z"
   },
   {
    "duration": 15,
    "start_time": "2021-09-02T15:45:59.167Z"
   },
   {
    "duration": 44,
    "start_time": "2021-09-02T15:45:59.184Z"
   },
   {
    "duration": 14,
    "start_time": "2021-09-02T15:45:59.230Z"
   },
   {
    "duration": 9,
    "start_time": "2021-09-02T15:45:59.246Z"
   },
   {
    "duration": 62,
    "start_time": "2021-09-02T15:45:59.257Z"
   },
   {
    "duration": 16,
    "start_time": "2021-09-02T15:45:59.322Z"
   },
   {
    "duration": 9,
    "start_time": "2021-09-02T15:45:59.341Z"
   }
  ],
  "kernelspec": {
   "display_name": "Python 3",
   "language": "python",
   "name": "python3"
  },
  "language_info": {
   "codemirror_mode": {
    "name": "ipython",
    "version": 3
   },
   "file_extension": ".py",
   "mimetype": "text/x-python",
   "name": "python",
   "nbconvert_exporter": "python",
   "pygments_lexer": "ipython3",
   "version": "3.8.8"
  },
  "toc": {
   "base_numbering": 1,
   "nav_menu": {},
   "number_sections": true,
   "sideBar": true,
   "skip_h1_title": true,
   "title_cell": "Table of Contents",
   "title_sidebar": "Contents",
   "toc_cell": false,
   "toc_position": {},
   "toc_section_display": true,
   "toc_window_display": false
  }
 },
 "nbformat": 4,
 "nbformat_minor": 2
}
